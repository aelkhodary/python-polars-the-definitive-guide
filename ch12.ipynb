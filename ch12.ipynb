{
 "cells": [
  {
   "cell_type": "markdown",
   "id": "1770a76e",
   "metadata": {},
   "source": [
    "# Chapter 12: Working with Special Data Types"
   ]
  },
  {
   "cell_type": "code",
   "execution_count": 1,
   "id": "4a2d0449",
   "metadata": {},
   "outputs": [],
   "source": [
    "import polars as pl\n",
    "pl.show_versions()  # The book is built with Polars version 1.0.0"
   ]
  },
  {
   "cell_type": "markdown",
   "id": "f5c80191",
   "metadata": {},
   "source": [
    "## Strings"
   ]
  },
  {
   "cell_type": "markdown",
   "id": "883ebf3a",
   "metadata": {},
   "source": [
    "### Methods"
   ]
  },
  {
   "cell_type": "markdown",
   "id": "e2b863d6",
   "metadata": {},
   "source": [
    "#### Conversion"
   ]
  },
  {
   "cell_type": "markdown",
   "id": "9371f607",
   "metadata": {},
   "source": [
    "#### Descriptive and Query Methods"
   ]
  },
  {
   "cell_type": "markdown",
   "id": "2678f5e3",
   "metadata": {},
   "source": [
    "#### Manipulation"
   ]
  },
  {
   "cell_type": "markdown",
   "id": "68c9b0eb",
   "metadata": {},
   "source": [
    "### Examples"
   ]
  },
  {
   "cell_type": "code",
   "execution_count": 8,
   "id": "f13e9127",
   "metadata": {},
   "outputs": [],
   "source": [
    "import polars as pl\n",
    "\n",
    "df = pl.DataFrame({\n",
    "    \"raw_text\": [\n",
    "        \"  Data Science is amazing \",\n",
    "        \"Data_analysis > Data entry\",\n",
    "        \" Python&Polars; Fast\",\n",
    "    ]\n",
    "})\n",
    "print(df)"
   ]
  },
  {
   "cell_type": "code",
   "execution_count": 9,
   "id": "fe6f455e",
   "metadata": {},
   "outputs": [],
   "source": [
    "df = df.with_columns(\n",
    "    pl.col(\"raw_text\")\n",
    "    .str.strip_chars()  \n",
    "    .str.to_lowercase()  \n",
    "    .str.replace_all(\"_\", \" \")  \n",
    "    .alias(\"processed_text\")  \n",
    ")\n",
    "print(df)"
   ]
  },
  {
   "cell_type": "code",
   "execution_count": 10,
   "id": "05e1c422",
   "metadata": {},
   "outputs": [],
   "source": [
    "print(\n",
    "    df.with_columns(\n",
    "        pl.col(\"processed_text\")\n",
    "        .str.slice(0, 5)  \n",
    "        .alias(\"first_5_chars\"),\n",
    "        pl.col(\"processed_text\")\n",
    "        .str.split(\" \")  \n",
    "        .list.get(0)  \n",
    "        .alias(\"first_word\"),\n",
    "        pl.col(\"processed_text\")\n",
    "        .str.split(\" \")\n",
    "        .list.get(1)  \n",
    "        .alias(\"second_word\"),\n",
    "    )\n",
    ")"
   ]
  },
  {
   "cell_type": "code",
   "execution_count": 11,
   "id": "d7e00ba8",
   "metadata": {},
   "outputs": [],
   "source": [
    "print(\n",
    "    df.with_columns(\n",
    "        pl.col(\"processed_text\")\n",
    "        .str.len_chars()  \n",
    "        .alias(\"amount_of_chars\"),\n",
    "        pl.col(\"processed_text\")\n",
    "        .str.len_bytes()  \n",
    "        .alias(\"amount_of_bytes\"),\n",
    "        pl.col(\"processed_text\")\n",
    "        .str.count_matches(\"a\")  \n",
    "        .alias(\"count_a\"),\n",
    "    )\n",
    ")"
   ]
  },
  {
   "cell_type": "code",
   "execution_count": 12,
   "id": "800e3d3c",
   "metadata": {},
   "outputs": [],
   "source": [
    "df = pl.DataFrame({\n",
    "    \"post\": [\"Loving #python and #polars!\", \"A boomer post without a hashtag\"]\n",
    "})\n",
    "\n",
    "hashtag_regex = r\"#(\\w+)\"  \n",
    "\n",
    "df.with_columns(\n",
    "    pl.col(\"post\").str.extract_all(hashtag_regex).alias(\"hashtags\")  \n",
    ")"
   ]
  },
  {
   "cell_type": "markdown",
   "id": "d25e3260",
   "metadata": {},
   "source": [
    "## Categoricals"
   ]
  },
  {
   "cell_type": "code",
   "execution_count": 14,
   "id": "8c44ff2e",
   "metadata": {},
   "outputs": [],
   "source": [
    "df1 = pl.DataFrame(\n",
    "    {\"categorical_column\": [\"value1\", \"value2\", \"value3\"]},\n",
    "    schema={\"categorical_column\": pl.Categorical},\n",
    ")\n",
    "\n",
    "print(\n",
    "    df1.with_columns(\n",
    "        pl.col(\"categorical_column\")\n",
    "        .to_physical()\n",
    "        .alias(\"categorical_column_physical\")\n",
    "    )\n",
    ")"
   ]
  },
  {
   "cell_type": "markdown",
   "id": "90aebcdb",
   "metadata": {},
   "source": [
    "### Methods"
   ]
  },
  {
   "cell_type": "markdown",
   "id": "0fb34fe5",
   "metadata": {},
   "source": [
    "### Examples"
   ]
  },
  {
   "cell_type": "code",
   "execution_count": 17,
   "id": "13a028fd",
   "metadata": {},
   "outputs": [],
   "source": [
    "df2 = pl.DataFrame(\n",
    "    {\"categorical_column\": [\"value4\", \"value3\", \"value2\"]},\n",
    "    schema={\"categorical_column\": pl.Categorical},\n",
    ")\n",
    "\n",
    "print(\n",
    "    df2.with_columns(\n",
    "        pl.col(\"categorical_column\")\n",
    "        .to_physical()\n",
    "        .alias(\"categorical_column_physical\")\n",
    "    )\n",
    ")"
   ]
  },
  {
   "cell_type": "code",
   "execution_count": 18,
   "id": "2fc0f751",
   "metadata": {},
   "outputs": [],
   "source": [
    "df1.join(df2, on=\"categorical_column\")"
   ]
  },
  {
   "cell_type": "code",
   "execution_count": 19,
   "id": "59b3a91d",
   "metadata": {},
   "outputs": [],
   "source": [
    "with pl.StringCache():\n",
    "    df1 = pl.DataFrame(\n",
    "        {\n",
    "            \"categorical_column\": [\"value3\", \"value2\", \"value1\"],\n",
    "            \"other\": [\"a\", \"b\", \"c\"],\n",
    "        },\n",
    "        schema={\"categorical_column\": pl.Categorical, \"other\": pl.String},\n",
    "    )\n",
    "    df2 = pl.DataFrame(\n",
    "        {\n",
    "            \"categorical_column\": [\"value2\", \"value3\", \"value4\"],\n",
    "            \"other\": [\"d\", \"e\", \"f\"],\n",
    "        },\n",
    "        schema={\"categorical_column\": pl.Categorical, \"other\": pl.String},\n",
    "    )\n",
    "\n",
    "# Even outside the global string cache's scope, you can now join the\n",
    "# two dataframes containing Categorical columns\n",
    "df1.join(df2, on=\"categorical_column\")"
   ]
  },
  {
   "cell_type": "code",
   "execution_count": 20,
   "id": "1c67f7df",
   "metadata": {},
   "outputs": [],
   "source": [
    "pl.enable_string_cache()"
   ]
  },
  {
   "cell_type": "code",
   "execution_count": 21,
   "id": "6140b393",
   "metadata": {},
   "outputs": [],
   "source": [
    "df2.select(pl.col(\"categorical_column\").cat.get_categories())"
   ]
  },
  {
   "cell_type": "code",
   "execution_count": 22,
   "id": "b0fc02e3",
   "metadata": {},
   "outputs": [],
   "source": [
    "sorting_comparison_df = (\n",
    "    df2\n",
    "    .select(\n",
    "        pl.col(\"categorical_column\")\n",
    "        .alias(\"categorical_lexical\")\n",
    "    )\n",
    "    .with_columns(\n",
    "        pl.col(\"categorical_lexical\")\n",
    "        .to_physical()\n",
    "        .alias(\"categorical_physical\")\n",
    "    )\n",
    ")\n",
    "print(sorting_comparison_df)"
   ]
  },
  {
   "cell_type": "code",
   "execution_count": 23,
   "id": "9cb24eee",
   "metadata": {},
   "outputs": [],
   "source": [
    "print(\n",
    "    sorting_comparison_df\n",
    "    .with_columns(\n",
    "        pl.col(\"categorical_lexical\")\n",
    "        .cast(pl.Categorical(\"physical\"))  # The default option\n",
    "    )\n",
    "    .sort(by=\"categorical_lexical\")\n",
    ")"
   ]
  },
  {
   "cell_type": "code",
   "execution_count": 24,
   "id": "889d914c",
   "metadata": {},
   "outputs": [],
   "source": [
    "print(\n",
    "    sorting_comparison_df\n",
    "    .with_columns(\n",
    "        pl.col(\"categorical_lexical\")\n",
    "        .cast(pl.Categorical(\"lexical\"))\n",
    "    )\n",
    "    .sort(by=\"categorical_lexical\")\n",
    ")"
   ]
  },
  {
   "cell_type": "markdown",
   "id": "b7c2f023",
   "metadata": {},
   "source": [
    "### Enum"
   ]
  },
  {
   "cell_type": "code",
   "execution_count": 26,
   "id": "ec40b276",
   "metadata": {},
   "outputs": [],
   "source": [
    "enum_dtype = pl.Enum([\"Polar\", \"Panda\", \"Brown\"])\n",
    "enum_series = pl.Series(\n",
    "    [\"Polar\", \"Panda\", \"Brown\", \"Brown\", \"Polar\"], dtype=enum_dtype\n",
    ")\n",
    "\n",
    "cat_series = pl.Series(\n",
    "    [\"Polar\", \"Panda\", \"Brown\", \"Brown\", \"Polar\"], dtype=pl.Categorical\n",
    ")"
   ]
  },
  {
   "cell_type": "markdown",
   "id": "467a7533",
   "metadata": {},
   "source": [
    "## Temporal Data"
   ]
  },
  {
   "cell_type": "markdown",
   "id": "47ff7cb9",
   "metadata": {},
   "source": [
    "### Methods"
   ]
  },
  {
   "cell_type": "markdown",
   "id": "f990072b",
   "metadata": {},
   "source": [
    "#### Conversion"
   ]
  },
  {
   "cell_type": "markdown",
   "id": "10b4ace0",
   "metadata": {},
   "source": [
    "#### Descriptive"
   ]
  },
  {
   "cell_type": "markdown",
   "id": "6dab49ee",
   "metadata": {},
   "source": [
    "#### Manipulation"
   ]
  },
  {
   "cell_type": "markdown",
   "id": "94196bf8",
   "metadata": {},
   "source": [
    "### Examples"
   ]
  },
  {
   "cell_type": "markdown",
   "id": "96f2c323",
   "metadata": {},
   "source": [
    "#### Loading from CSV"
   ]
  },
  {
   "cell_type": "code",
   "execution_count": 34,
   "id": "c4977271",
   "metadata": {},
   "outputs": [],
   "source": [
    "pl.read_csv(\"data/all_stocks.csv\", try_parse_dates=True)"
   ]
  },
  {
   "cell_type": "markdown",
   "id": "9d5a4baa",
   "metadata": {},
   "source": [
    "#### Converting to and from string"
   ]
  },
  {
   "cell_type": "code",
   "execution_count": 36,
   "id": "df6fe77c",
   "metadata": {},
   "outputs": [],
   "source": [
    "df = pl.DataFrame({\n",
    "    \"date_str\": [\"2023-12-31\", \"2024-02-29\"]\n",
    "})\n",
    "\n",
    "df = df.with_columns(\n",
    "    pl.col(\"date_str\").str.strptime(pl.Date, \"%Y-%m-%d\").alias(\"date\")\n",
    ")\n",
    "print(df)"
   ]
  },
  {
   "cell_type": "code",
   "execution_count": 37,
   "id": "0b1f11b6",
   "metadata": {},
   "outputs": [],
   "source": [
    "df = df.with_columns(\n",
    "    pl.col(\"date\").dt.to_string(\"%d-%m-%Y\").alias(\"formatted_date\")\n",
    ")\n",
    "\n",
    "print(df)"
   ]
  },
  {
   "cell_type": "markdown",
   "id": "ceb4f6a2",
   "metadata": {},
   "source": [
    "#### Generating Ranges"
   ]
  },
  {
   "cell_type": "code",
   "execution_count": 39,
   "id": "50d063a8",
   "metadata": {},
   "outputs": [],
   "source": [
    "from datetime import date\n",
    "df = pl.DataFrame(\n",
    "    {\n",
    "        \"date\": pl.date_range(\n",
    "            start=date(2023,12,31),  \n",
    "            end=date(2024,1,15),\n",
    "            interval=\"1w\",  \n",
    "            eager=True,  \n",
    "        ),\n",
    "    }\n",
    ")\n",
    "print(df)"
   ]
  },
  {
   "cell_type": "markdown",
   "id": "a3785b78",
   "metadata": {},
   "source": [
    "#### Time Zones"
   ]
  },
  {
   "cell_type": "code",
   "execution_count": 41,
   "id": "9d9a001d",
   "metadata": {},
   "outputs": [],
   "source": [
    "df = pl.DataFrame(  \n",
    "    {\n",
    "        \"utc_mixed_offset_data\": [\n",
    "            \"2021-03-27T00:00:00+0100\",\n",
    "            \"2021-03-28T00:00:00+0100\",\n",
    "            \"2021-03-29T00:00:00+0200\",\n",
    "            \"2021-03-30T00:00:00+0200\",\n",
    "        ]\n",
    "    }\n",
    ")\n",
    "df = (\n",
    "    df.with_columns(\n",
    "        pl.col(\"utc_mixed_offset_data\")\n",
    "        .str.to_datetime(\"%Y-%m-%dT%H:%M:%S%z\")  \n",
    "        .alias(\"parsed_data\")\n",
    "    ).with_columns(\n",
    "        pl.col(\"parsed_data\")\n",
    "        .dt.convert_time_zone(\"Europe/Amsterdam\")  \n",
    "        .alias(\"converted_data\")\n",
    "    )\n",
    ")\n",
    "print(df)"
   ]
  },
  {
   "cell_type": "markdown",
   "id": "5cb76b79",
   "metadata": {},
   "source": [
    "## List"
   ]
  },
  {
   "cell_type": "markdown",
   "id": "db1c522a",
   "metadata": {},
   "source": [
    "### Methods"
   ]
  },
  {
   "cell_type": "markdown",
   "id": "2203ac50",
   "metadata": {},
   "source": [
    "### Examples"
   ]
  },
  {
   "cell_type": "code",
   "execution_count": 45,
   "id": "72d3f589",
   "metadata": {},
   "outputs": [],
   "source": [
    "bool_df = pl.DataFrame({\n",
    "    \"values\": [[True, True], [False, False, True], [False]]\n",
    "})\n",
    "print(\n",
    "    bool_df\n",
    "    .with_columns(\n",
    "        pl.col(\"values\")\n",
    "        .list.all()\n",
    "        .alias(\"all values\"),\n",
    "        pl.col(\"values\")\n",
    "        .list.any()\n",
    "        .alias(\"any values\")\n",
    "    )\n",
    ")"
   ]
  },
  {
   "cell_type": "code",
   "execution_count": 46,
   "id": "de2b5a44",
   "metadata": {},
   "outputs": [],
   "source": [
    "df = pl.DataFrame({\n",
    "    \"values\": [[10, 20], [30, 40, 50], [60]]\n",
    "})\n",
    "print(\n",
    "    df\n",
    "    .with_columns(\n",
    "        pl.col(\"values\")\n",
    "        .list.eval(\n",
    "            pl.element() > 40,  \n",
    "            parallel=True,  \n",
    "        )\n",
    "        .alias(\"values > 40\")\n",
    "    )\n",
    "    .with_columns(  \n",
    "        pl.col(\"values > 40\")\n",
    "        .list.all()  \n",
    "        .alias(\"all values > 40\")\n",
    "    )\n",
    ")"
   ]
  },
  {
   "cell_type": "code",
   "execution_count": 47,
   "id": "3fe3b3c7",
   "metadata": {},
   "outputs": [],
   "source": [
    "df.explode(\"values\")"
   ]
  },
  {
   "cell_type": "markdown",
   "id": "07bf9eeb",
   "metadata": {},
   "source": [
    "## Array"
   ]
  },
  {
   "cell_type": "markdown",
   "id": "bd5a40e8",
   "metadata": {},
   "source": [
    "### Methods"
   ]
  },
  {
   "cell_type": "markdown",
   "id": "3035f416",
   "metadata": {},
   "source": [
    "### Examples"
   ]
  },
  {
   "cell_type": "code",
   "execution_count": 51,
   "id": "9dec9794",
   "metadata": {},
   "outputs": [],
   "source": [
    "df = pl.DataFrame([\n",
    "    pl.Series(\n",
    "        \"location\",\n",
    "        [\"Paris\", \"Amsterdam\", \"Barcelona\"],\n",
    "        dtype=pl.String\n",
    "    ),\n",
    "    pl.Series(\n",
    "        \"temperatures\",\n",
    "        [\n",
    "            [23, 27, 21, 22, 24, 23, 22],\n",
    "            [17, 19, 15, 22, 18, 20, 21],\n",
    "            [30, 32, 28, 29, 34, 33, 31]\n",
    "        ],\n",
    "        dtype=pl.Array(pl.Int64, width=7),\n",
    "    ),\n",
    "])\n",
    "print(df)"
   ]
  },
  {
   "cell_type": "code",
   "execution_count": 52,
   "id": "0e80c913",
   "metadata": {},
   "outputs": [],
   "source": [
    "print(\n",
    "    df\n",
    "    .with_columns(\n",
    "        pl.col(\"temperatures\")\n",
    "        .arr.median()\n",
    "        .alias(\"median\"),\n",
    "        pl.col(\"temperatures\")\n",
    "        .arr.max()\n",
    "        .alias(\"max\"),\n",
    "        pl.col(\"temperatures\")\n",
    "        .arr.arg_max()\n",
    "        .alias(\"warmest_weekday\")\n",
    "    )\n",
    ")"
   ]
  },
  {
   "cell_type": "markdown",
   "id": "f81e6b32",
   "metadata": {},
   "source": [
    "## Structs"
   ]
  },
  {
   "cell_type": "markdown",
   "id": "f5e8d4d7",
   "metadata": {},
   "source": [
    "### Methods"
   ]
  },
  {
   "cell_type": "markdown",
   "id": "4a3e37df",
   "metadata": {},
   "source": [
    "### Examples"
   ]
  },
  {
   "cell_type": "code",
   "execution_count": 56,
   "id": "f43deabc",
   "metadata": {},
   "outputs": [],
   "source": [
    "df = pl.DataFrame({\n",
    "    \"struct_column\": [\n",
    "        {\"a\": 1, \"b\": 2},\n",
    "        {\"a\": 3, \"b\": 4},\n",
    "        {\"a\": 5, \"b\": 6},\n",
    "    ]\n",
    "})\n",
    "print(df)"
   ]
  },
  {
   "cell_type": "code",
   "execution_count": 57,
   "id": "28cad793",
   "metadata": {},
   "outputs": [],
   "source": [
    "df.select(pl.col(\"struct_column\").struct.field(\"a\"))"
   ]
  },
  {
   "cell_type": "code",
   "execution_count": 58,
   "id": "6597b827",
   "metadata": {},
   "outputs": [],
   "source": [
    "df = df.unnest(\"struct_column\")\n",
    "print(df)"
   ]
  },
  {
   "cell_type": "code",
   "execution_count": 59,
   "id": "694bd10f",
   "metadata": {},
   "outputs": [],
   "source": [
    "df.select(\n",
    "    \"a\",\n",
    "    \"b\",\n",
    "    pl.struct(\n",
    "        pl.col(\"a\"),\n",
    "        pl.col(\"b\")\n",
    "    ).alias(\"struct_column\"),\n",
    ")"
   ]
  },
  {
   "cell_type": "code",
   "execution_count": 60,
   "id": "76b56629",
   "metadata": {},
   "outputs": [],
   "source": [
    "df = pl.DataFrame({\n",
    "    \"fruit\": [\"cherry\", \"apple\", \"banana\", \"banana\", \"apple\", \"banana\"],\n",
    "})\n",
    "print(df)"
   ]
  },
  {
   "cell_type": "code",
   "execution_count": 61,
   "id": "37bde2f5",
   "metadata": {},
   "outputs": [],
   "source": [
    "print(\n",
    "    df\n",
    "    .select(\n",
    "        pl.col(\"fruit\")\n",
    "        .value_counts(sort=True)\n",
    "    )\n",
    ")"
   ]
  },
  {
   "cell_type": "code",
   "execution_count": 62,
   "id": "483b6a22",
   "metadata": {},
   "outputs": [],
   "source": [
    "print(\n",
    "    df.select(\n",
    "        pl.col(\"fruit\")\n",
    "        .value_counts(sort=True)\n",
    "    )\n",
    "    .unnest(\"fruit\")\n",
    ")"
   ]
  },
  {
   "cell_type": "markdown",
   "id": "4f7e7260",
   "metadata": {},
   "source": [
    "## Conclusion"
   ]
  }
 ],
 "metadata": {},
 "nbformat": 4,
 "nbformat_minor": 5
}
