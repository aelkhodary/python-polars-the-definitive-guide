{
 "cells": [
  {
   "cell_type": "markdown",
   "id": "d8f27b7c",
   "metadata": {},
   "source": [
    "# Chapter 3: Moving from Pandas to Polars"
   ]
  },
  {
   "cell_type": "code",
   "execution_count": null,
   "id": "9af869b9",
   "metadata": {},
   "outputs": [],
   "source": [
    "import polars as pl\n",
    "pl.show_versions()  # The book is built with Polars version 1.13.1"
   ]
  },
  {
   "cell_type": "markdown",
   "id": "cb5e2fcc",
   "metadata": {},
   "source": [
    "## Animals"
   ]
  },
  {
   "cell_type": "code",
   "execution_count": null,
   "id": "80daff39",
   "metadata": {},
   "outputs": [],
   "source": [
    "%cat data/animals.csv"
   ]
  },
  {
   "cell_type": "markdown",
   "id": "e79ad4dc",
   "metadata": {},
   "source": [
    "## Similarities to Recognize"
   ]
  },
  {
   "cell_type": "markdown",
   "id": "ef48f966",
   "metadata": {},
   "source": [
    "## Appearances to Appreciate"
   ]
  },
  {
   "cell_type": "code",
   "execution_count": null,
   "id": "25094555",
   "metadata": {},
   "outputs": [],
   "source": [
    "import pandas as pd\n",
    "import polars as pl"
   ]
  },
  {
   "cell_type": "markdown",
   "id": "ae67f268",
   "metadata": {},
   "source": [
    "### Differences in Code"
   ]
  },
  {
   "cell_type": "code",
   "execution_count": null,
   "id": "01cea78c",
   "metadata": {},
   "outputs": [],
   "source": [
    "animals_pd = pd.read_csv(\"data/animals.csv\", sep=\",\", header=0)\n",
    "animals_pl = pl.read_csv(\"data/animals.csv\", separator=\",\", has_header=True)\n",
    "\n",
    "print(f\"{type(animals_pd) = }\")\n",
    "print(f\"{type(animals_pl) = }\")"
   ]
  },
  {
   "cell_type": "markdown",
   "id": "1eebb4e6",
   "metadata": {},
   "source": [
    "### Differences in Display"
   ]
  },
  {
   "cell_type": "code",
   "execution_count": null,
   "id": "28139d85",
   "metadata": {},
   "outputs": [],
   "source": [
    "animals_pd"
   ]
  },
  {
   "cell_type": "code",
   "execution_count": null,
   "id": "e6b9bcb7",
   "metadata": {},
   "outputs": [],
   "source": [
    "animals_pl"
   ]
  },
  {
   "cell_type": "code",
   "execution_count": null,
   "id": "2f9eaf2f",
   "metadata": {},
   "outputs": [],
   "source": [
    "animals_pd[\"animal\"]"
   ]
  },
  {
   "cell_type": "code",
   "execution_count": null,
   "id": "d15ff32d",
   "metadata": {},
   "outputs": [],
   "source": [
    "animals_pl.get_column(\"animal\")"
   ]
  },
  {
   "cell_type": "code",
   "execution_count": null,
   "id": "2bf7b060",
   "metadata": {},
   "outputs": [],
   "source": [
    "animals_pd = animals_pd.drop(columns=[\"habitat\", \"diet\", \"features\"])\n",
    "animals_pd"
   ]
  },
  {
   "cell_type": "code",
   "execution_count": null,
   "id": "5cec1536",
   "metadata": {},
   "outputs": [],
   "source": [
    "animals_pl = animals_pl.drop(\"habitat\", \"diet\", \"features\")\n",
    "animals_pl"
   ]
  },
  {
   "cell_type": "markdown",
   "id": "6cb9b540",
   "metadata": {},
   "source": [
    "## Concepts to Unlearn"
   ]
  },
  {
   "cell_type": "markdown",
   "id": "52ee4e32",
   "metadata": {},
   "source": [
    "### Index"
   ]
  },
  {
   "cell_type": "code",
   "execution_count": null,
   "id": "6309bf82",
   "metadata": {},
   "outputs": [],
   "source": [
    "animals_pd.index"
   ]
  },
  {
   "cell_type": "code",
   "execution_count": null,
   "id": "aeffed09",
   "metadata": {},
   "outputs": [],
   "source": [
    "animals_agg_pd = animals_pd.groupby([\"class\", \"status\"])[[\"weight\"]].mean()\n",
    "animals_agg_pd"
   ]
  },
  {
   "cell_type": "code",
   "execution_count": null,
   "id": "9346df8e",
   "metadata": {},
   "outputs": [],
   "source": [
    "animals_agg_pd.index"
   ]
  },
  {
   "cell_type": "code",
   "execution_count": null,
   "id": "b42296f3",
   "metadata": {},
   "outputs": [],
   "source": [
    "animals_agg_pd.reset_index()"
   ]
  },
  {
   "cell_type": "code",
   "execution_count": null,
   "id": "708112ef",
   "metadata": {},
   "outputs": [],
   "source": [
    "animals_pl.group_by([\"class\", \"status\"]).agg(pl.col(\"weight\").mean())"
   ]
  },
  {
   "cell_type": "markdown",
   "id": "8ca91b05",
   "metadata": {},
   "source": [
    "### Axes"
   ]
  },
  {
   "cell_type": "code",
   "execution_count": null,
   "id": "b235923c",
   "metadata": {},
   "outputs": [],
   "source": [
    "# This raises a KeyError:\n",
    "# animals_pd.drop(\"weight\")"
   ]
  },
  {
   "cell_type": "code",
   "execution_count": null,
   "id": "cde61da9",
   "metadata": {},
   "outputs": [],
   "source": [
    "animals_pd.drop(\"weight\", axis=1)"
   ]
  },
  {
   "cell_type": "markdown",
   "id": "16416c43",
   "metadata": {},
   "source": [
    "### Indexing and Slicing"
   ]
  },
  {
   "cell_type": "code",
   "execution_count": null,
   "id": "68511d54",
   "metadata": {},
   "outputs": [],
   "source": [
    "animals_pd[[\"animal\", \"class\"]]"
   ]
  },
  {
   "cell_type": "code",
   "execution_count": null,
   "id": "a0fb3e9e",
   "metadata": {},
   "outputs": [],
   "source": [
    "animals_pd[animals_pd[\"status\"] == \"endangered\"]"
   ]
  },
  {
   "cell_type": "code",
   "execution_count": null,
   "id": "a6e9f7ab",
   "metadata": {},
   "outputs": [],
   "source": [
    "animals_pd[:3]"
   ]
  },
  {
   "cell_type": "code",
   "execution_count": null,
   "id": "0b9049db",
   "metadata": {},
   "outputs": [],
   "source": [
    "animals_pd[\"weight\"] = animals_pd[\"weight\"] * 1000"
   ]
  },
  {
   "cell_type": "code",
   "execution_count": null,
   "id": "1952da86",
   "metadata": {},
   "outputs": [],
   "source": [
    "animals_pd[\"weight\"]"
   ]
  },
  {
   "cell_type": "code",
   "execution_count": null,
   "id": "63f73ee1",
   "metadata": {},
   "outputs": [],
   "source": [
    "animals_pd[\"weight\"] = animals_pd[\"weight\"].sort_values()"
   ]
  },
  {
   "cell_type": "code",
   "execution_count": null,
   "id": "d8b1f379",
   "metadata": {},
   "outputs": [],
   "source": [
    "animals_pd[\"weight\"]"
   ]
  },
  {
   "cell_type": "markdown",
   "id": "4d1e10dd",
   "metadata": {},
   "source": [
    "### Eagerness"
   ]
  },
  {
   "cell_type": "code",
   "execution_count": null,
   "id": "1a782345",
   "metadata": {},
   "outputs": [],
   "source": [
    "lazy_query = (\n",
    "    pl.scan_csv(\"data/animals.csv\")\n",
    "    .group_by(\"class\")\n",
    "    .agg(pl.col(\"weight\").mean())\n",
    "    .filter(pl.col(\"class\") == \"mammal\")\n",
    ")"
   ]
  },
  {
   "cell_type": "code",
   "execution_count": null,
   "id": "8a250284",
   "metadata": {},
   "outputs": [],
   "source": [
    "lazy_query.show_graph(optimized=False)"
   ]
  },
  {
   "cell_type": "code",
   "execution_count": null,
   "id": "779d8f2c",
   "metadata": {},
   "outputs": [],
   "source": [
    "lazy_query.show_graph()"
   ]
  },
  {
   "cell_type": "code",
   "execution_count": null,
   "id": "ac2603c2",
   "metadata": {},
   "outputs": [],
   "source": [
    "lazy_query.collect()"
   ]
  },
  {
   "cell_type": "markdown",
   "id": "29096160",
   "metadata": {},
   "source": [
    "### Relaxedness"
   ]
  },
  {
   "cell_type": "markdown",
   "id": "47986256",
   "metadata": {},
   "source": [
    "## Syntax to Forget"
   ]
  },
  {
   "cell_type": "markdown",
   "id": "f213b797",
   "metadata": {},
   "source": [
    "### Common Operations Side By Side"
   ]
  },
  {
   "cell_type": "markdown",
   "id": "5706353e",
   "metadata": {},
   "source": [
    "#### Removing Duplicate Values"
   ]
  },
  {
   "cell_type": "code",
   "execution_count": null,
   "id": "ca6afbfe",
   "metadata": {},
   "outputs": [],
   "source": [
    "animals_pd.drop_duplicates(subset=\"class\")"
   ]
  },
  {
   "cell_type": "code",
   "execution_count": null,
   "id": "a8206ed4",
   "metadata": {},
   "outputs": [],
   "source": [
    "animals_pl.unique(subset=\"class\")"
   ]
  },
  {
   "cell_type": "markdown",
   "id": "547300f0",
   "metadata": {},
   "source": [
    "#### Removing Missing Values"
   ]
  },
  {
   "cell_type": "code",
   "execution_count": null,
   "id": "8275a409",
   "metadata": {},
   "outputs": [],
   "source": [
    "animals_pd.dropna(subset=\"weight\")"
   ]
  },
  {
   "cell_type": "code",
   "execution_count": null,
   "id": "113de429",
   "metadata": {},
   "outputs": [],
   "source": [
    "animals_pl.drop_nulls(subset=\"weight\")"
   ]
  },
  {
   "cell_type": "markdown",
   "id": "92af16f8",
   "metadata": {},
   "source": [
    "#### Sorting Rows"
   ]
  },
  {
   "cell_type": "code",
   "execution_count": null,
   "id": "f4f14807",
   "metadata": {},
   "outputs": [],
   "source": [
    "animals_pd.sort_values(\"weight\", ascending=False)"
   ]
  },
  {
   "cell_type": "code",
   "execution_count": null,
   "id": "490248a5",
   "metadata": {},
   "outputs": [],
   "source": [
    "animals_pl.sort(\"weight\", descending=True)"
   ]
  },
  {
   "cell_type": "markdown",
   "id": "eec4b22e",
   "metadata": {},
   "source": [
    "#### Casting Existing Column"
   ]
  },
  {
   "cell_type": "code",
   "execution_count": null,
   "id": "7d323f3c",
   "metadata": {},
   "outputs": [],
   "source": [
    "animals_pd.assign(lifespan=animals_pd[\"lifespan\"].astype(float))"
   ]
  },
  {
   "cell_type": "code",
   "execution_count": null,
   "id": "fd2df1e4",
   "metadata": {},
   "outputs": [],
   "source": [
    "animals_pl.with_columns(pl.col(\"lifespan\").cast(pl.Float64))"
   ]
  },
  {
   "cell_type": "markdown",
   "id": "f86525c9",
   "metadata": {},
   "source": [
    "#### Aggregating Rows"
   ]
  },
  {
   "cell_type": "code",
   "execution_count": null,
   "id": "23d79af9",
   "metadata": {},
   "outputs": [],
   "source": [
    "animals_pd.groupby([\"class\", \"status\"])[[\"weight\"]].mean()"
   ]
  },
  {
   "cell_type": "code",
   "execution_count": null,
   "id": "bcfe49da",
   "metadata": {},
   "outputs": [],
   "source": [
    "animals_pl.group_by(\"class\", \"status\").agg(pl.col(\"weight\").mean())"
   ]
  },
  {
   "cell_type": "markdown",
   "id": "f7cef13c",
   "metadata": {},
   "source": [
    "## To and From Pandas"
   ]
  },
  {
   "cell_type": "code",
   "execution_count": null,
   "id": "3d122969",
   "metadata": {},
   "outputs": [],
   "source": [
    "animals_pl = pl.DataFrame(animals_pd)\n",
    "\n",
    "animals_pl"
   ]
  },
  {
   "cell_type": "code",
   "execution_count": null,
   "id": "18fdfaa9",
   "metadata": {},
   "outputs": [],
   "source": [
    "there_and_back_again_df = animals_pl.to_pandas()\n",
    "\n",
    "there_and_back_again_df"
   ]
  },
  {
   "cell_type": "markdown",
   "id": "685b4176",
   "metadata": {},
   "source": [
    "## Takeaways"
   ]
  }
 ],
 "metadata": {},
 "nbformat": 4,
 "nbformat_minor": 5
}
