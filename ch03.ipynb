{
 "cells": [
  {
   "cell_type": "markdown",
   "id": "d60ad61c",
   "metadata": {},
   "source": [
    "# Chapter 3: Moving from Pandas to Polars"
   ]
  },
  {
   "cell_type": "code",
   "execution_count": null,
   "id": "df5dcc41",
   "metadata": {},
   "outputs": [],
   "source": [
    "import polars as pl\n",
    "pl.show_versions()  # The book is built with Polars version 1.13.1"
   ]
  },
  {
   "cell_type": "markdown",
   "id": "d5db04a3",
   "metadata": {},
   "source": [
    "## Animals"
   ]
  },
  {
   "cell_type": "code",
   "execution_count": null,
   "id": "ff7ba726",
   "metadata": {},
   "outputs": [],
   "source": [
    "%cat data/animals.csv"
   ]
  },
  {
   "cell_type": "markdown",
   "id": "df58724e",
   "metadata": {},
   "source": [
    "## Similarities to Recognize"
   ]
  },
  {
   "cell_type": "markdown",
   "id": "582a19f6",
   "metadata": {},
   "source": [
    "## Appearances to Appreciate"
   ]
  },
  {
   "cell_type": "code",
   "execution_count": null,
   "id": "83ccee21",
   "metadata": {},
   "outputs": [],
   "source": [
    "import pandas as pd\n",
    "import polars as pl"
   ]
  },
  {
   "cell_type": "markdown",
   "id": "2a48b411",
   "metadata": {},
   "source": [
    "### Differences in Code"
   ]
  },
  {
   "cell_type": "code",
   "execution_count": null,
   "id": "63e2e18f",
   "metadata": {},
   "outputs": [],
   "source": [
    "animals_pd = pd.read_csv(\"data/animals.csv\", sep=\",\", header=0)\n",
    "animals_pl = pl.read_csv(\"data/animals.csv\", separator=\",\", has_header=True)\n",
    "\n",
    "print(f\"{type(animals_pd) = }\")\n",
    "print(f\"{type(animals_pl) = }\")"
   ]
  },
  {
   "cell_type": "markdown",
   "id": "a7ee9fe1",
   "metadata": {},
   "source": [
    "### Differences in Display"
   ]
  },
  {
   "cell_type": "code",
   "execution_count": null,
   "id": "2df66449",
   "metadata": {},
   "outputs": [],
   "source": [
    "animals_pd"
   ]
  },
  {
   "cell_type": "code",
   "execution_count": null,
   "id": "1b3bef89",
   "metadata": {},
   "outputs": [],
   "source": [
    "animals_pl"
   ]
  },
  {
   "cell_type": "code",
   "execution_count": null,
   "id": "1471073e",
   "metadata": {},
   "outputs": [],
   "source": [
    "animals_pd[\"animal\"]"
   ]
  },
  {
   "cell_type": "code",
   "execution_count": null,
   "id": "616c58c2",
   "metadata": {},
   "outputs": [],
   "source": [
    "animals_pl.get_column(\"animal\")"
   ]
  },
  {
   "cell_type": "code",
   "execution_count": null,
   "id": "0429da39",
   "metadata": {},
   "outputs": [],
   "source": [
    "animals_pd = animals_pd.drop(columns=[\"habitat\", \"diet\", \"features\"])\n",
    "animals_pd"
   ]
  },
  {
   "cell_type": "code",
   "execution_count": null,
   "id": "5583ecc7",
   "metadata": {},
   "outputs": [],
   "source": [
    "animals_pl = animals_pl.drop(\"habitat\", \"diet\", \"features\")\n",
    "animals_pl"
   ]
  },
  {
   "cell_type": "markdown",
   "id": "ec24070e",
   "metadata": {},
   "source": [
    "## Concepts to Unlearn"
   ]
  },
  {
   "cell_type": "markdown",
   "id": "c72a6283",
   "metadata": {},
   "source": [
    "### Index"
   ]
  },
  {
   "cell_type": "code",
   "execution_count": null,
   "id": "814627a1",
   "metadata": {},
   "outputs": [],
   "source": [
    "animals_pd.index"
   ]
  },
  {
   "cell_type": "code",
   "execution_count": null,
   "id": "23d4090b",
   "metadata": {},
   "outputs": [],
   "source": [
    "animals_agg_pd = animals_pd.groupby([\"class\", \"status\"])[[\"weight\"]].mean()\n",
    "animals_agg_pd"
   ]
  },
  {
   "cell_type": "code",
   "execution_count": null,
   "id": "f19d936a",
   "metadata": {},
   "outputs": [],
   "source": [
    "animals_agg_pd.index"
   ]
  },
  {
   "cell_type": "code",
   "execution_count": null,
   "id": "18bf1366",
   "metadata": {},
   "outputs": [],
   "source": [
    "animals_agg_pd.reset_index()"
   ]
  },
  {
   "cell_type": "code",
   "execution_count": null,
   "id": "b6c0b66c",
   "metadata": {},
   "outputs": [],
   "source": [
    "animals_pl.group_by([\"class\", \"status\"]).agg(pl.col(\"weight\").mean())"
   ]
  },
  {
   "cell_type": "markdown",
   "id": "e5ea2176",
   "metadata": {},
   "source": [
    "### Axes"
   ]
  },
  {
   "cell_type": "code",
   "execution_count": null,
   "id": "93010b13",
   "metadata": {},
   "outputs": [],
   "source": [
    "# This raises a KeyError:\n",
    "# animals_pd.drop(\"weight\")"
   ]
  },
  {
   "cell_type": "code",
   "execution_count": null,
   "id": "8666d713",
   "metadata": {},
   "outputs": [],
   "source": [
    "animals_pd.drop(\"weight\", axis=1)"
   ]
  },
  {
   "cell_type": "markdown",
   "id": "ab07cf1c",
   "metadata": {},
   "source": [
    "### Indexing and Slicing"
   ]
  },
  {
   "cell_type": "code",
   "execution_count": null,
   "id": "3e162f15",
   "metadata": {},
   "outputs": [],
   "source": [
    "animals_pd[[\"animal\", \"class\"]]"
   ]
  },
  {
   "cell_type": "code",
   "execution_count": null,
   "id": "bbf9cc7f",
   "metadata": {},
   "outputs": [],
   "source": [
    "animals_pd[animals_pd[\"status\"] == \"endangered\"]"
   ]
  },
  {
   "cell_type": "code",
   "execution_count": null,
   "id": "92cf98ef",
   "metadata": {},
   "outputs": [],
   "source": [
    "animals_pd[:3]"
   ]
  },
  {
   "cell_type": "code",
   "execution_count": null,
   "id": "5df9e199",
   "metadata": {},
   "outputs": [],
   "source": [
    "animals_pd[\"weight\"] = animals_pd[\"weight\"] * 1000"
   ]
  },
  {
   "cell_type": "code",
   "execution_count": null,
   "id": "473ad0a8",
   "metadata": {},
   "outputs": [],
   "source": [
    "animals_pd[\"weight\"]"
   ]
  },
  {
   "cell_type": "code",
   "execution_count": null,
   "id": "918ecb2c",
   "metadata": {},
   "outputs": [],
   "source": [
    "animals_pd[\"weight\"] = animals_pd[\"weight\"].sort_values()"
   ]
  },
  {
   "cell_type": "code",
   "execution_count": null,
   "id": "3f54e13a",
   "metadata": {},
   "outputs": [],
   "source": [
    "animals_pd[\"weight\"]"
   ]
  },
  {
   "cell_type": "markdown",
   "id": "75064317",
   "metadata": {},
   "source": [
    "### Eagerness"
   ]
  },
  {
   "cell_type": "code",
   "execution_count": null,
   "id": "f2baa42f",
   "metadata": {},
   "outputs": [],
   "source": [
    "lazy_query = (\n",
    "    pl.scan_csv(\"data/animals.csv\")\n",
    "    .group_by(\"class\")\n",
    "    .agg(pl.col(\"weight\").mean())\n",
    "    .filter(pl.col(\"class\") == \"mammal\")\n",
    ")"
   ]
  },
  {
   "cell_type": "code",
   "execution_count": null,
   "id": "ec4d0d96",
   "metadata": {},
   "outputs": [],
   "source": [
    "lazy_query.show_graph(optimized=False)"
   ]
  },
  {
   "cell_type": "code",
   "execution_count": null,
   "id": "db32e661",
   "metadata": {},
   "outputs": [],
   "source": [
    "lazy_query.show_graph()"
   ]
  },
  {
   "cell_type": "code",
   "execution_count": null,
   "id": "39c27330",
   "metadata": {},
   "outputs": [],
   "source": [
    "lazy_query.collect()"
   ]
  },
  {
   "cell_type": "markdown",
   "id": "5a090446",
   "metadata": {},
   "source": [
    "### Relaxedness"
   ]
  },
  {
   "cell_type": "markdown",
   "id": "9a595b94",
   "metadata": {},
   "source": [
    "## Syntax to Forget"
   ]
  },
  {
   "cell_type": "markdown",
   "id": "4c08b5ee",
   "metadata": {},
   "source": [
    "### Common Operations Side By Side"
   ]
  },
  {
   "cell_type": "markdown",
   "id": "ec515ccb",
   "metadata": {},
   "source": [
    "#### Removing Duplicate Values"
   ]
  },
  {
   "cell_type": "code",
   "execution_count": null,
   "id": "a686db7e",
   "metadata": {},
   "outputs": [],
   "source": [
    "animals_pd.drop_duplicates(subset=\"class\")"
   ]
  },
  {
   "cell_type": "code",
   "execution_count": null,
   "id": "da5c43d9",
   "metadata": {},
   "outputs": [],
   "source": [
    "animals_pl.unique(subset=\"class\")"
   ]
  },
  {
   "cell_type": "markdown",
   "id": "6a5a1694",
   "metadata": {},
   "source": [
    "#### Removing Missing Values"
   ]
  },
  {
   "cell_type": "code",
   "execution_count": null,
   "id": "129d5105",
   "metadata": {},
   "outputs": [],
   "source": [
    "animals_pd.dropna(subset=\"weight\")"
   ]
  },
  {
   "cell_type": "code",
   "execution_count": null,
   "id": "035cb8af",
   "metadata": {},
   "outputs": [],
   "source": [
    "animals_pl.drop_nulls(subset=\"weight\")"
   ]
  },
  {
   "cell_type": "markdown",
   "id": "ba96df60",
   "metadata": {},
   "source": [
    "#### Sorting Rows"
   ]
  },
  {
   "cell_type": "code",
   "execution_count": null,
   "id": "2f666645",
   "metadata": {},
   "outputs": [],
   "source": [
    "animals_pd.sort_values(\"weight\", ascending=False)"
   ]
  },
  {
   "cell_type": "code",
   "execution_count": null,
   "id": "21c254b8",
   "metadata": {},
   "outputs": [],
   "source": [
    "animals_pl.sort(\"weight\", descending=True)"
   ]
  },
  {
   "cell_type": "markdown",
   "id": "0672ccf3",
   "metadata": {},
   "source": [
    "#### Casting Existing Column"
   ]
  },
  {
   "cell_type": "code",
   "execution_count": null,
   "id": "dc192e49",
   "metadata": {},
   "outputs": [],
   "source": [
    "animals_pd.assign(lifespan=animals_pd[\"lifespan\"].astype(float))"
   ]
  },
  {
   "cell_type": "code",
   "execution_count": null,
   "id": "13270ac9",
   "metadata": {},
   "outputs": [],
   "source": [
    "animals_pl.with_columns(pl.col(\"lifespan\").cast(pl.Float64))"
   ]
  },
  {
   "cell_type": "markdown",
   "id": "d0c45390",
   "metadata": {},
   "source": [
    "#### Aggregating Rows"
   ]
  },
  {
   "cell_type": "code",
   "execution_count": null,
   "id": "b4a84d68",
   "metadata": {},
   "outputs": [],
   "source": [
    "animals_pd.groupby([\"class\", \"status\"])[[\"weight\"]].mean()"
   ]
  },
  {
   "cell_type": "code",
   "execution_count": null,
   "id": "582204aa",
   "metadata": {},
   "outputs": [],
   "source": [
    "animals_pl.group_by(\"class\", \"status\").agg(pl.col(\"weight\").mean())"
   ]
  },
  {
   "cell_type": "markdown",
   "id": "74ce6419",
   "metadata": {},
   "source": [
    "## To and From Pandas"
   ]
  },
  {
   "cell_type": "code",
   "execution_count": null,
   "id": "e3d7b244",
   "metadata": {},
   "outputs": [],
   "source": [
    "animals_pl = pl.DataFrame(animals_pd)\n",
    "\n",
    "animals_pl"
   ]
  },
  {
   "cell_type": "code",
   "execution_count": null,
   "id": "a34e8e4d",
   "metadata": {},
   "outputs": [],
   "source": [
    "there_and_back_again_df = animals_pl.to_pandas()\n",
    "\n",
    "there_and_back_again_df"
   ]
  },
  {
   "cell_type": "markdown",
   "id": "7fbc1178",
   "metadata": {},
   "source": [
    "## Takeaways"
   ]
  }
 ],
 "metadata": {},
 "nbformat": 4,
 "nbformat_minor": 5
}
