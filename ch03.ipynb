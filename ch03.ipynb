{
 "cells": [
  {
   "cell_type": "markdown",
   "id": "b479fb6d",
   "metadata": {},
   "source": [
    "# Chapter 3: Moving from Pandas to Polars"
   ]
  },
  {
   "cell_type": "code",
   "execution_count": 1,
   "id": "26474f9d",
   "metadata": {},
   "outputs": [],
   "source": [
    "import polars as pl\n",
    "pl.show_versions()  # The book is built with Polars version 1.0.0"
   ]
  },
  {
   "cell_type": "markdown",
   "id": "474b9a68",
   "metadata": {},
   "source": [
    "## Animals"
   ]
  },
  {
   "cell_type": "code",
   "execution_count": 3,
   "id": "a993384c",
   "metadata": {},
   "outputs": [],
   "source": [
    "%cat data/animals.csv"
   ]
  },
  {
   "cell_type": "markdown",
   "id": "2a5274f1",
   "metadata": {},
   "source": [
    "## Similarities to Recognize"
   ]
  },
  {
   "cell_type": "markdown",
   "id": "6e14ac5a",
   "metadata": {},
   "source": [
    "## Appearances to Appreciate"
   ]
  },
  {
   "cell_type": "code",
   "execution_count": 6,
   "id": "d82041a9",
   "metadata": {},
   "outputs": [],
   "source": [
    "import pandas as pd\n",
    "import polars as pl"
   ]
  },
  {
   "cell_type": "markdown",
   "id": "54d2bc06",
   "metadata": {},
   "source": [
    "### Differences in Code"
   ]
  },
  {
   "cell_type": "code",
   "execution_count": 8,
   "id": "5c34cc12",
   "metadata": {},
   "outputs": [],
   "source": [
    "animals_pd = pd.read_csv(\"data/animals.csv\", sep=\",\", header=0)\n",
    "animals_pl = pl.read_csv(\"data/animals.csv\", separator=\",\", has_header=True)\n",
    "\n",
    "print(f\"{type(animals_pd) = }\")\n",
    "print(f\"{type(animals_pl) = }\")"
   ]
  },
  {
   "cell_type": "markdown",
   "id": "4bb4946c",
   "metadata": {},
   "source": [
    "### Differences in Display"
   ]
  },
  {
   "cell_type": "code",
   "execution_count": 10,
   "id": "88a17551",
   "metadata": {},
   "outputs": [],
   "source": [
    "animals_pd"
   ]
  },
  {
   "cell_type": "code",
   "execution_count": 11,
   "id": "65d50a28",
   "metadata": {},
   "outputs": [],
   "source": [
    "animals_pl"
   ]
  },
  {
   "cell_type": "code",
   "execution_count": 12,
   "id": "82dc7027",
   "metadata": {},
   "outputs": [],
   "source": [
    "animals_pd[\"animal\"]"
   ]
  },
  {
   "cell_type": "code",
   "execution_count": 13,
   "id": "2d5ae377",
   "metadata": {},
   "outputs": [],
   "source": [
    "animals_pl.get_column(\"animal\")"
   ]
  },
  {
   "cell_type": "code",
   "execution_count": 14,
   "id": "42ff2097",
   "metadata": {},
   "outputs": [],
   "source": [
    "animals_pd = animals_pd.drop(columns=[\"habitat\", \"diet\", \"features\"])\n",
    "animals_pd"
   ]
  },
  {
   "cell_type": "code",
   "execution_count": 15,
   "id": "b807607a",
   "metadata": {},
   "outputs": [],
   "source": [
    "animals_pl = animals_pl.drop(\"habitat\", \"diet\", \"features\")\n",
    "animals_pl"
   ]
  },
  {
   "cell_type": "markdown",
   "id": "2a219738",
   "metadata": {},
   "source": [
    "## Concepts to Unlearn"
   ]
  },
  {
   "cell_type": "markdown",
   "id": "1f727538",
   "metadata": {},
   "source": [
    "### Index"
   ]
  },
  {
   "cell_type": "code",
   "execution_count": 18,
   "id": "ea764da1",
   "metadata": {},
   "outputs": [],
   "source": [
    "animals_pd.index"
   ]
  },
  {
   "cell_type": "code",
   "execution_count": 19,
   "id": "41b55dea",
   "metadata": {},
   "outputs": [],
   "source": [
    "animals_agg_pd = animals_pd.groupby([\"class\", \"status\"])[[\"weight\"]].mean()\n",
    "animals_agg_pd"
   ]
  },
  {
   "cell_type": "code",
   "execution_count": 20,
   "id": "1bce7a9d",
   "metadata": {},
   "outputs": [],
   "source": [
    "animals_agg_pd.index"
   ]
  },
  {
   "cell_type": "code",
   "execution_count": 21,
   "id": "65f0a387",
   "metadata": {},
   "outputs": [],
   "source": [
    "animals_agg_pd.reset_index()"
   ]
  },
  {
   "cell_type": "code",
   "execution_count": 22,
   "id": "b1585b28",
   "metadata": {},
   "outputs": [],
   "source": [
    "animals_pl.group_by([\"class\", \"status\"]).agg(pl.col(\"weight\").mean())"
   ]
  },
  {
   "cell_type": "markdown",
   "id": "9c4a71f2",
   "metadata": {},
   "source": [
    "### Axes"
   ]
  },
  {
   "cell_type": "code",
   "execution_count": 24,
   "id": "0f012668",
   "metadata": {},
   "outputs": [],
   "source": [
    "animals_pd.drop(\"weight\")"
   ]
  },
  {
   "cell_type": "code",
   "execution_count": 25,
   "id": "bb76d7e8",
   "metadata": {},
   "outputs": [],
   "source": [
    "animals_pd.drop(\"weight\", axis=1)"
   ]
  },
  {
   "cell_type": "markdown",
   "id": "7742833f",
   "metadata": {},
   "source": [
    "### Indexing and Slicing"
   ]
  },
  {
   "cell_type": "code",
   "execution_count": 27,
   "id": "13eea0f3",
   "metadata": {},
   "outputs": [],
   "source": [
    "animals_pd[[\"animal\", \"class\"]]"
   ]
  },
  {
   "cell_type": "code",
   "execution_count": 28,
   "id": "e43348b1",
   "metadata": {},
   "outputs": [],
   "source": [
    "animals_pd[animals_pd[\"status\"] == \"endangered\"]"
   ]
  },
  {
   "cell_type": "code",
   "execution_count": 29,
   "id": "60aa9938",
   "metadata": {},
   "outputs": [],
   "source": [
    "animals_pd[:3]"
   ]
  },
  {
   "cell_type": "code",
   "execution_count": 30,
   "id": "6a43f194",
   "metadata": {},
   "outputs": [],
   "source": [
    "animals_pd[\"weight\"] = animals_pd[\"weight\"] * 1000"
   ]
  },
  {
   "cell_type": "code",
   "execution_count": 31,
   "id": "68ca91a2",
   "metadata": {},
   "outputs": [],
   "source": [
    "print(trips[:,:4])\n",
    "print(trips[:,4:7])\n",
    "print(trips[:,7:11])\n",
    "print(trips[:,11:])"
   ]
  },
  {
   "cell_type": "markdown",
   "id": "96861425",
   "metadata": {},
   "source": [
    "### Eagerness"
   ]
  },
  {
   "cell_type": "code",
   "execution_count": 33,
   "id": "108b3c55",
   "metadata": {},
   "outputs": [],
   "source": [
    "lazy_query = (\n",
    "    pl.scan_csv(\"data/animals.csv\")\n",
    "    .group_by(\"class\")\n",
    "    .agg(pl.col(\"weight\").mean())\n",
    "    .filter(pl.col(\"class\") == \"mammal\")\n",
    ")"
   ]
  },
  {
   "cell_type": "code",
   "execution_count": 34,
   "id": "f541c9a6",
   "metadata": {},
   "outputs": [],
   "source": [
    "lazy_query.show_graph(optimized=False)"
   ]
  },
  {
   "cell_type": "code",
   "execution_count": 35,
   "id": "9b2c073b",
   "metadata": {},
   "outputs": [],
   "source": [
    "lazy_query.show_graph()"
   ]
  },
  {
   "cell_type": "code",
   "execution_count": 36,
   "id": "9ff0d856",
   "metadata": {},
   "outputs": [],
   "source": [
    "lazy_query.collect()"
   ]
  },
  {
   "cell_type": "markdown",
   "id": "5099dea4",
   "metadata": {},
   "source": [
    "### Relaxedness"
   ]
  },
  {
   "cell_type": "markdown",
   "id": "d594cdbf",
   "metadata": {},
   "source": [
    "## Syntax to Forget"
   ]
  },
  {
   "cell_type": "markdown",
   "id": "bfcf0af2",
   "metadata": {},
   "source": [
    "### Common Operations Side By Side"
   ]
  },
  {
   "cell_type": "markdown",
   "id": "3ab426f8",
   "metadata": {},
   "source": [
    "#### Removing Duplicate Values"
   ]
  },
  {
   "cell_type": "code",
   "execution_count": 41,
   "id": "c31084a4",
   "metadata": {},
   "outputs": [],
   "source": [
    "animals_pd.drop_duplicates(subset=\"class\")"
   ]
  },
  {
   "cell_type": "code",
   "execution_count": 42,
   "id": "3e13f99c",
   "metadata": {},
   "outputs": [],
   "source": [
    "animals_pl.unique(subset=\"class\")"
   ]
  },
  {
   "cell_type": "markdown",
   "id": "2cb409f3",
   "metadata": {},
   "source": [
    "#### Removing Missing Values"
   ]
  },
  {
   "cell_type": "code",
   "execution_count": 44,
   "id": "98780fc7",
   "metadata": {},
   "outputs": [],
   "source": [
    "animals_pd.dropna(subset=\"weight\")"
   ]
  },
  {
   "cell_type": "code",
   "execution_count": 45,
   "id": "03eb7277",
   "metadata": {},
   "outputs": [],
   "source": [
    "animals_pl.drop_nulls(subset=\"weight\")"
   ]
  },
  {
   "cell_type": "markdown",
   "id": "ac43b031",
   "metadata": {},
   "source": [
    "#### Sorting Rows"
   ]
  },
  {
   "cell_type": "code",
   "execution_count": 47,
   "id": "284b1a47",
   "metadata": {},
   "outputs": [],
   "source": [
    "animals_pd.sort_values(\"weight\", ascending=False)"
   ]
  },
  {
   "cell_type": "code",
   "execution_count": 48,
   "id": "b72fab6f",
   "metadata": {},
   "outputs": [],
   "source": [
    "animals_pl.sort(\"weight\", descending=True)"
   ]
  },
  {
   "cell_type": "markdown",
   "id": "64b66750",
   "metadata": {},
   "source": [
    "#### Casting Existing Column"
   ]
  },
  {
   "cell_type": "code",
   "execution_count": 50,
   "id": "9ef430b9",
   "metadata": {},
   "outputs": [],
   "source": [
    "animals_pd.assign(lifespan=animals_pd[\"lifespan\"].astype(float))"
   ]
  },
  {
   "cell_type": "code",
   "execution_count": 51,
   "id": "a3bf84b0",
   "metadata": {},
   "outputs": [],
   "source": [
    "animals_pl.with_columns(pl.col(\"lifespan\").cast(pl.Float64))"
   ]
  },
  {
   "cell_type": "markdown",
   "id": "5519213e",
   "metadata": {},
   "source": [
    "#### Aggregating Rows"
   ]
  },
  {
   "cell_type": "code",
   "execution_count": 53,
   "id": "0a562418",
   "metadata": {},
   "outputs": [],
   "source": [
    "animals_pd.groupby([\"class\", \"status\"])[[\"weight\"]].mean()"
   ]
  },
  {
   "cell_type": "code",
   "execution_count": 54,
   "id": "62d658ed",
   "metadata": {},
   "outputs": [],
   "source": [
    "animals_pl.group_by([\"class\", \"status\"]).agg(pl.col(\"weight\").mean())"
   ]
  },
  {
   "cell_type": "markdown",
   "id": "20bf4598",
   "metadata": {},
   "source": [
    "## Takeaways"
   ]
  }
 ],
 "metadata": {},
 "nbformat": 4,
 "nbformat_minor": 5
}
