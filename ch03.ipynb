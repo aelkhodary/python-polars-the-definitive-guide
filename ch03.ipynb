{
 "cells": [
  {
   "cell_type": "markdown",
   "id": "bad6b1c2",
   "metadata": {},
   "source": [
    "# Chapter 3: Moving from Pandas to Polars"
   ]
  },
  {
   "cell_type": "code",
   "execution_count": 1,
   "id": "8b9bba27",
   "metadata": {},
   "outputs": [],
   "source": [
    "import polars as pl\n",
    "pl.show_versions()  # The book is built with Polars version 1.0.0"
   ]
  },
  {
   "cell_type": "markdown",
   "id": "9cd11e34",
   "metadata": {},
   "source": [
    "## Animals"
   ]
  },
  {
   "cell_type": "code",
   "execution_count": 3,
   "id": "5c4f724c",
   "metadata": {},
   "outputs": [],
   "source": [
    "%cat data/animals.csv"
   ]
  },
  {
   "cell_type": "markdown",
   "id": "123129c7",
   "metadata": {},
   "source": [
    "## Similarities to Recognize"
   ]
  },
  {
   "cell_type": "markdown",
   "id": "d5b88db4",
   "metadata": {},
   "source": [
    "## Appearances to Appreciate"
   ]
  },
  {
   "cell_type": "code",
   "execution_count": 6,
   "id": "4b70afd0",
   "metadata": {},
   "outputs": [],
   "source": [
    "import pandas as pd\n",
    "import polars as pl"
   ]
  },
  {
   "cell_type": "markdown",
   "id": "cb024c73",
   "metadata": {},
   "source": [
    "### Differences in Code"
   ]
  },
  {
   "cell_type": "code",
   "execution_count": 8,
   "id": "c7c32287",
   "metadata": {},
   "outputs": [],
   "source": [
    "animals_pd = pd.read_csv(\"data/animals.csv\", sep=\",\", header=0)\n",
    "animals_pl = pl.read_csv(\"data/animals.csv\", separator=\",\", has_header=True)\n",
    "\n",
    "print(f\"{type(animals_pd) = }\")\n",
    "print(f\"{type(animals_pl) = }\")"
   ]
  },
  {
   "cell_type": "markdown",
   "id": "ef63e340",
   "metadata": {},
   "source": [
    "### Differences in Display"
   ]
  },
  {
   "cell_type": "code",
   "execution_count": 10,
   "id": "b10df233",
   "metadata": {},
   "outputs": [],
   "source": [
    "animals_pd"
   ]
  },
  {
   "cell_type": "code",
   "execution_count": 11,
   "id": "ea7376b9",
   "metadata": {},
   "outputs": [],
   "source": [
    "animals_pl"
   ]
  },
  {
   "cell_type": "code",
   "execution_count": 12,
   "id": "3378e876",
   "metadata": {},
   "outputs": [],
   "source": [
    "animals_pd[\"animal\"]"
   ]
  },
  {
   "cell_type": "code",
   "execution_count": 13,
   "id": "6ee97e8f",
   "metadata": {},
   "outputs": [],
   "source": [
    "animals_pl.get_column(\"animal\")"
   ]
  },
  {
   "cell_type": "code",
   "execution_count": 14,
   "id": "94f04d64",
   "metadata": {},
   "outputs": [],
   "source": [
    "animals_pd = animals_pd.drop(columns=[\"habitat\", \"diet\", \"features\"])\n",
    "animals_pd"
   ]
  },
  {
   "cell_type": "code",
   "execution_count": 15,
   "id": "d3c5e4c3",
   "metadata": {},
   "outputs": [],
   "source": [
    "animals_pl = animals_pl.drop(\"habitat\", \"diet\", \"features\")\n",
    "animals_pl"
   ]
  },
  {
   "cell_type": "markdown",
   "id": "08ed38e7",
   "metadata": {},
   "source": [
    "## Concepts to Unlearn"
   ]
  },
  {
   "cell_type": "markdown",
   "id": "9b5b0ed2",
   "metadata": {},
   "source": [
    "### Index"
   ]
  },
  {
   "cell_type": "code",
   "execution_count": 18,
   "id": "71d53a79",
   "metadata": {},
   "outputs": [],
   "source": [
    "animals_pd.index"
   ]
  },
  {
   "cell_type": "code",
   "execution_count": 19,
   "id": "2a549ee3",
   "metadata": {},
   "outputs": [],
   "source": [
    "animals_agg_pd = animals_pd.groupby([\"class\", \"status\"])[[\"weight\"]].mean()\n",
    "animals_agg_pd"
   ]
  },
  {
   "cell_type": "code",
   "execution_count": 20,
   "id": "b68b7747",
   "metadata": {},
   "outputs": [],
   "source": [
    "animals_agg_pd.index"
   ]
  },
  {
   "cell_type": "code",
   "execution_count": 21,
   "id": "bf90b6c9",
   "metadata": {},
   "outputs": [],
   "source": [
    "animals_agg_pd.reset_index()"
   ]
  },
  {
   "cell_type": "code",
   "execution_count": 22,
   "id": "f3038869",
   "metadata": {},
   "outputs": [],
   "source": [
    "animals_pl.group_by([\"class\", \"status\"]).agg(pl.col(\"weight\").mean())"
   ]
  },
  {
   "cell_type": "markdown",
   "id": "3cddb921",
   "metadata": {},
   "source": [
    "### Axes"
   ]
  },
  {
   "cell_type": "code",
   "execution_count": 24,
   "id": "2493555e",
   "metadata": {},
   "outputs": [],
   "source": [
    "animals_pd.drop(\"weight\")"
   ]
  },
  {
   "cell_type": "code",
   "execution_count": 25,
   "id": "b8b56f2e",
   "metadata": {},
   "outputs": [],
   "source": [
    "animals_pd.drop(\"weight\", axis=1)"
   ]
  },
  {
   "cell_type": "markdown",
   "id": "3a959862",
   "metadata": {},
   "source": [
    "### Indexing and Slicing"
   ]
  },
  {
   "cell_type": "code",
   "execution_count": 27,
   "id": "8f6f38c9",
   "metadata": {},
   "outputs": [],
   "source": [
    "animals_pd[[\"animal\", \"class\"]]"
   ]
  },
  {
   "cell_type": "code",
   "execution_count": 28,
   "id": "1274e2ad",
   "metadata": {},
   "outputs": [],
   "source": [
    "animals_pd[animals_pd[\"status\"] == \"endangered\"]"
   ]
  },
  {
   "cell_type": "code",
   "execution_count": 29,
   "id": "1816aedb",
   "metadata": {},
   "outputs": [],
   "source": [
    "animals_pd[:3]"
   ]
  },
  {
   "cell_type": "code",
   "execution_count": 30,
   "id": "68b3abeb",
   "metadata": {},
   "outputs": [],
   "source": [
    "animals_pd[\"weight\"] = animals_pd[\"weight\"] * 1000"
   ]
  },
  {
   "cell_type": "code",
   "execution_count": 31,
   "id": "9844ee3b",
   "metadata": {},
   "outputs": [],
   "source": [
    "animals_pd.loc[:2]"
   ]
  },
  {
   "cell_type": "code",
   "execution_count": 32,
   "id": "8ff278e7",
   "metadata": {},
   "outputs": [],
   "source": [
    "animals_pd.iloc[:2]"
   ]
  },
  {
   "cell_type": "code",
   "execution_count": 33,
   "id": "0f318249",
   "metadata": {},
   "outputs": [],
   "source": [
    "animals_pd.set_index(\"animal\").loc[\"ray\"]"
   ]
  },
  {
   "cell_type": "code",
   "execution_count": 34,
   "id": "a995e1cd",
   "metadata": {},
   "outputs": [],
   "source": [
    "print(trips[:,:4])\n",
    "print(trips[:,4:7])\n",
    "print(trips[:,7:11])\n",
    "print(trips[:,11:])"
   ]
  },
  {
   "cell_type": "markdown",
   "id": "bbc779c8",
   "metadata": {},
   "source": [
    "### Eagerness"
   ]
  },
  {
   "cell_type": "code",
   "execution_count": 36,
   "id": "58ce5278",
   "metadata": {},
   "outputs": [],
   "source": [
    "lazy_query = (\n",
    "    pl.scan_csv(\"data/animals.csv\") \n",
    "    .group_by(\"class\")\n",
    "    .agg(pl.col(\"weight\").mean())\n",
    "    .filter(pl.col(\"class\") == \"mammal\")\n",
    ")"
   ]
  },
  {
   "cell_type": "code",
   "execution_count": 37,
   "id": "2780e332",
   "metadata": {},
   "outputs": [],
   "source": [
    "lazy_query.show_graph(optimized=False)"
   ]
  },
  {
   "cell_type": "code",
   "execution_count": 38,
   "id": "4ae568bc",
   "metadata": {},
   "outputs": [],
   "source": [
    "lazy_query.show_graph()"
   ]
  },
  {
   "cell_type": "code",
   "execution_count": 39,
   "id": "337dcd5a",
   "metadata": {},
   "outputs": [],
   "source": [
    "lazy_query.collect()"
   ]
  },
  {
   "cell_type": "markdown",
   "id": "14f87fcf",
   "metadata": {},
   "source": [
    "### Relaxedness"
   ]
  },
  {
   "cell_type": "markdown",
   "id": "1faca1f4",
   "metadata": {},
   "source": [
    "## Syntax to Forget"
   ]
  },
  {
   "cell_type": "markdown",
   "id": "9d8fe1e1",
   "metadata": {},
   "source": [
    "### Common Operations Side By Side"
   ]
  },
  {
   "cell_type": "markdown",
   "id": "6b0f456b",
   "metadata": {},
   "source": [
    "#### Removing Duplicate Values"
   ]
  },
  {
   "cell_type": "code",
   "execution_count": 44,
   "id": "2486d7c0",
   "metadata": {},
   "outputs": [],
   "source": [
    "animals_pd.drop_duplicates(subset=\"class\")"
   ]
  },
  {
   "cell_type": "code",
   "execution_count": 45,
   "id": "72c9070c",
   "metadata": {},
   "outputs": [],
   "source": [
    "animals_pl.unique(subset=\"class\")"
   ]
  },
  {
   "cell_type": "markdown",
   "id": "7610e118",
   "metadata": {},
   "source": [
    "#### Removing Missing Values"
   ]
  },
  {
   "cell_type": "code",
   "execution_count": 47,
   "id": "241f8134",
   "metadata": {},
   "outputs": [],
   "source": [
    "animals_pd.dropna(subset=\"weight\")"
   ]
  },
  {
   "cell_type": "code",
   "execution_count": 48,
   "id": "fba0c203",
   "metadata": {},
   "outputs": [],
   "source": [
    "animals_pl.drop_nulls(subset=\"weight\")"
   ]
  },
  {
   "cell_type": "markdown",
   "id": "abe883af",
   "metadata": {},
   "source": [
    "#### Sorting Rows"
   ]
  },
  {
   "cell_type": "code",
   "execution_count": 50,
   "id": "8839238b",
   "metadata": {},
   "outputs": [],
   "source": [
    "animals_pd.sort_values(\"weight\", ascending=False)"
   ]
  },
  {
   "cell_type": "code",
   "execution_count": 51,
   "id": "e94e634f",
   "metadata": {},
   "outputs": [],
   "source": [
    "animals_pl.sort(\"weight\", descending=True)"
   ]
  },
  {
   "cell_type": "markdown",
   "id": "b34e30d6",
   "metadata": {},
   "source": [
    "#### Casting Existing Column"
   ]
  },
  {
   "cell_type": "code",
   "execution_count": 53,
   "id": "c86483ea",
   "metadata": {},
   "outputs": [],
   "source": [
    "animals_pd.assign(lifespan=animals_pd[\"lifespan\"].astype(float))"
   ]
  },
  {
   "cell_type": "code",
   "execution_count": 54,
   "id": "7e485c35",
   "metadata": {},
   "outputs": [],
   "source": [
    "animals_pl.with_columns(pl.col(\"lifespan\").cast(pl.Float64))"
   ]
  },
  {
   "cell_type": "markdown",
   "id": "bfcb0a24",
   "metadata": {},
   "source": [
    "#### Aggregating Rows"
   ]
  },
  {
   "cell_type": "code",
   "execution_count": 56,
   "id": "a23d1a00",
   "metadata": {},
   "outputs": [],
   "source": [
    "animals_pd.groupby([\"class\", \"status\"])[[\"weight\"]].mean()"
   ]
  },
  {
   "cell_type": "code",
   "execution_count": 57,
   "id": "026db2a8",
   "metadata": {},
   "outputs": [],
   "source": [
    "animals_pl.group_by([\"class\", \"status\"]).agg(pl.col(\"weight\").mean())"
   ]
  },
  {
   "cell_type": "markdown",
   "id": "e1f95b45",
   "metadata": {},
   "source": [
    "## Takeaways"
   ]
  }
 ],
 "metadata": {},
 "nbformat": 4,
 "nbformat_minor": 5
}
