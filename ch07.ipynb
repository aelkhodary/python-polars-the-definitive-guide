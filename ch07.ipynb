{
 "cells": [
  {
   "cell_type": "markdown",
   "id": "3bb18597",
   "metadata": {},
   "source": [
    "# Chapter 7: Beginning Expressions"
   ]
  },
  {
   "cell_type": "code",
   "execution_count": 1,
   "id": "b9283eeb",
   "metadata": {},
   "outputs": [],
   "source": [
    "import polars as pl\n",
    "pl.show_versions()  # The book is built with Polars version 1.0.0"
   ]
  },
  {
   "cell_type": "markdown",
   "id": "043249f8",
   "metadata": {},
   "source": [
    "## Methods and Namespaces"
   ]
  },
  {
   "cell_type": "markdown",
   "id": "fc20f97f",
   "metadata": {},
   "source": [
    "## Expressions by Example"
   ]
  },
  {
   "cell_type": "code",
   "execution_count": 4,
   "id": "2b03ee1a",
   "metadata": {},
   "outputs": [],
   "source": [
    "import polars as pl\n",
    "\n",
    "fruit = pl.read_csv(\"data/fruit.csv\")\n",
    "fruit"
   ]
  },
  {
   "cell_type": "markdown",
   "id": "5696f834",
   "metadata": {},
   "source": [
    "### Selecting Columns with Expressions"
   ]
  },
  {
   "cell_type": "code",
   "execution_count": 6,
   "id": "957b61fe",
   "metadata": {},
   "outputs": [],
   "source": [
    "fruit.select(\n",
    "    pl.col(\"name\"),  \n",
    "    pl.col(\"^.*or.*$\"),  \n",
    "    pl.col(\"weight\") / 1000,  \n",
    "    \"is_round\"  \n",
    ")"
   ]
  },
  {
   "cell_type": "markdown",
   "id": "8b21d09c",
   "metadata": {},
   "source": [
    "### Creating New Columns with Expressions"
   ]
  },
  {
   "cell_type": "code",
   "execution_count": 8,
   "id": "54813cc5",
   "metadata": {},
   "outputs": [],
   "source": [
    "fruit.with_columns(\n",
    "    pl.lit(True).alias(\"is_fruit\"),  \n",
    "    pl.col(\"name\").str.ends_with(\"berry\").alias(\"is_berry\")  \n",
    ")"
   ]
  },
  {
   "cell_type": "markdown",
   "id": "98c92689",
   "metadata": {},
   "source": [
    "### Filtering Rows with Expressions"
   ]
  },
  {
   "cell_type": "code",
   "execution_count": 10,
   "id": "25a0c397",
   "metadata": {},
   "outputs": [],
   "source": [
    "fruit.filter(\n",
    "    pl.col(\"is_round\") &  \n",
    "    (pl.col(\"weight\") > 1000)  \n",
    ")"
   ]
  },
  {
   "cell_type": "markdown",
   "id": "5cfab2d1",
   "metadata": {},
   "source": [
    "### Aggregating with Expressions"
   ]
  },
  {
   "cell_type": "code",
   "execution_count": 12,
   "id": "dacdf61a",
   "metadata": {},
   "outputs": [],
   "source": [
    "fruit.group_by(\n",
    "    pl.col(\"origin\").str.split(\" \").list.last()  \n",
    ").agg(\n",
    "    pl.len(),  \n",
    "    pl.col(\"weight\").mean().alias(\"average_weight\")  \n",
    ")"
   ]
  },
  {
   "cell_type": "markdown",
   "id": "bb59f24c",
   "metadata": {},
   "source": [
    "### Sorting Rows with Expressions"
   ]
  },
  {
   "cell_type": "code",
   "execution_count": 14,
   "id": "3133e7e4",
   "metadata": {},
   "outputs": [],
   "source": [
    "fruit.sort(\n",
    "    pl.col(\"name\").str.len_bytes(),  \n",
    "    descending=True  \n",
    ")"
   ]
  },
  {
   "cell_type": "markdown",
   "id": "c5537e4d",
   "metadata": {},
   "source": [
    "## What Exactly Is an Expression?"
   ]
  },
  {
   "cell_type": "code",
   "execution_count": 16,
   "id": "a3f049d2",
   "metadata": {},
   "outputs": [],
   "source": [
    "(\n",
    "    pl.DataFrame({\"a\": [1, 2, 3], \"b\": [0.4, 0.5, 0.6]})\n",
    "    .with_columns(pl.all().mul(10).name.suffix(\"_times_10\"))\n",
    ")"
   ]
  },
  {
   "cell_type": "code",
   "execution_count": 17,
   "id": "a888926e",
   "metadata": {},
   "outputs": [],
   "source": [
    "pl.all().mul(10).name.suffix(\"_times_10\").meta.has_multiple_outputs()"
   ]
  },
  {
   "cell_type": "markdown",
   "id": "def00b08",
   "metadata": {},
   "source": [
    "### Properties of Expressions"
   ]
  },
  {
   "cell_type": "code",
   "execution_count": 19,
   "id": "add4a222",
   "metadata": {},
   "outputs": [],
   "source": [
    "is_orange = (pl.col(\"color\") == \"orange\").alias(\"is_orange\")\n",
    "\n",
    "fruit.with_columns(is_orange)"
   ]
  },
  {
   "cell_type": "code",
   "execution_count": 20,
   "id": "3a83260e",
   "metadata": {},
   "outputs": [],
   "source": [
    "fruit.filter(is_orange)"
   ]
  },
  {
   "cell_type": "code",
   "execution_count": 21,
   "id": "d597d892",
   "metadata": {},
   "outputs": [],
   "source": [
    "fruit.group_by(is_orange).len()"
   ]
  },
  {
   "cell_type": "code",
   "execution_count": 22,
   "id": "10a6ec39",
   "metadata": {},
   "outputs": [],
   "source": [
    "flowers = pl.DataFrame({\n",
    "    \"name\": [\"Tiger lily\", \"Blue flag\", \"African marigold\"],\n",
    "    \"latin\": [\"Lilium columbianum\", \"Iris versicolor\", \"Tagetes erecta\"],\n",
    "    \"color\": [\"orange\", \"purple\", \"orange\"]\n",
    "})\n",
    "\n",
    "flowers.filter(is_orange)"
   ]
  },
  {
   "cell_type": "markdown",
   "id": "c3b6e37e",
   "metadata": {},
   "source": [
    "## Creating Expressions"
   ]
  },
  {
   "cell_type": "markdown",
   "id": "00551b66",
   "metadata": {},
   "source": [
    "### From Existing Columns"
   ]
  },
  {
   "cell_type": "code",
   "execution_count": 25,
   "id": "73766dd7",
   "metadata": {},
   "outputs": [],
   "source": [
    "fruit.select(pl.col(\"color\")).columns"
   ]
  },
  {
   "cell_type": "code",
   "execution_count": 26,
   "id": "348f9ed4",
   "metadata": {},
   "outputs": [],
   "source": [
    "# This raises a ColumnNotFoundError:\n",
    "# fruit.select(pl.col(\"is_smelly\")).columns"
   ]
  },
  {
   "cell_type": "code",
   "execution_count": 27,
   "id": "61b4aad6",
   "metadata": {},
   "outputs": [],
   "source": [
    "fruit.select(pl.col(\"^.*or.*$\")).columns"
   ]
  },
  {
   "cell_type": "code",
   "execution_count": 28,
   "id": "17c6e0cb",
   "metadata": {},
   "outputs": [],
   "source": [
    "fruit.select(pl.all()).columns"
   ]
  },
  {
   "cell_type": "code",
   "execution_count": 29,
   "id": "ac68add0",
   "metadata": {},
   "outputs": [],
   "source": [
    "fruit.select(pl.col(pl.String)).columns"
   ]
  },
  {
   "cell_type": "code",
   "execution_count": 30,
   "id": "0bf149b3",
   "metadata": {},
   "outputs": [],
   "source": [
    "fruit.select(pl.col(pl.Boolean, pl.Int64)).columns"
   ]
  },
  {
   "cell_type": "code",
   "execution_count": 31,
   "id": "9ada93c8",
   "metadata": {},
   "outputs": [],
   "source": [
    "fruit.select(pl.col([\"name\", \"color\"])).columns"
   ]
  },
  {
   "cell_type": "code",
   "execution_count": 32,
   "id": "85eca048",
   "metadata": {},
   "outputs": [],
   "source": [
    "# This raises a TypeError:\n",
    "# fruit.select(pl.col([pl.String, \"is_round\"])).columns"
   ]
  },
  {
   "cell_type": "code",
   "execution_count": 33,
   "id": "2648c5fc",
   "metadata": {},
   "outputs": [],
   "source": [
    "pl.NUMERIC_DTYPES"
   ]
  },
  {
   "cell_type": "code",
   "execution_count": 34,
   "id": "683b6735",
   "metadata": {},
   "outputs": [],
   "source": [
    "(\n",
    "    fruit\n",
    "    .with_columns((pl.col(\"weight\") / 1000).alias(\"weight_kg\"))\n",
    "    .select(pl.col(pl.NUMERIC_DTYPES))\n",
    "    .head()\n",
    ")"
   ]
  },
  {
   "cell_type": "markdown",
   "id": "b09984c1",
   "metadata": {},
   "source": [
    "### From Literal Values"
   ]
  },
  {
   "cell_type": "code",
   "execution_count": 36,
   "id": "c59de44d",
   "metadata": {},
   "outputs": [],
   "source": [
    "pl.select(pl.lit(42))"
   ]
  },
  {
   "cell_type": "code",
   "execution_count": 37,
   "id": "08b9567f",
   "metadata": {},
   "outputs": [],
   "source": [
    "pl.select(pl.lit(42).alias(\"answer\"))"
   ]
  },
  {
   "cell_type": "code",
   "execution_count": 38,
   "id": "b5696d7a",
   "metadata": {},
   "outputs": [],
   "source": [
    "fruit.with_columns(pl.lit(\"Earth\").alias(\"planet\"))"
   ]
  },
  {
   "cell_type": "code",
   "execution_count": 39,
   "id": "23e18b16",
   "metadata": {},
   "outputs": [],
   "source": [
    "# This raises a ShapeError:\n",
    "# fruit.with_columns(pl.lit(pl.Series([False, True])).alias(\"row_is_even\"))"
   ]
  },
  {
   "cell_type": "code",
   "execution_count": 40,
   "id": "dbab76d6",
   "metadata": {},
   "outputs": [],
   "source": [
    "fruit.with_columns(pl.lit([False, True]).alias(\"row_is_even\"))"
   ]
  },
  {
   "cell_type": "code",
   "execution_count": 41,
   "id": "eab0c960",
   "metadata": {},
   "outputs": [],
   "source": [
    "pl.select(\n",
    "    pl.repeat(\"Ello\", 3).alias(\"hello\"),\n",
    "    pl.zeros(3),\n",
    "    pl.ones(3)\n",
    ")"
   ]
  },
  {
   "cell_type": "code",
   "execution_count": 42,
   "id": "dd40f52a",
   "metadata": {},
   "outputs": [],
   "source": [
    "# This raises a ShapeError:\n",
    "# fruit.with_columns(pl.repeat(\"Earth\", 9).alias(\"planet\"))"
   ]
  },
  {
   "cell_type": "markdown",
   "id": "27dc8894",
   "metadata": {},
   "source": [
    "### From Ranges"
   ]
  },
  {
   "cell_type": "code",
   "execution_count": 44,
   "id": "30bb617d",
   "metadata": {},
   "outputs": [],
   "source": [
    "pl.select(\n",
    "    pl.int_range(0, 5).alias(\"start\"),\n",
    "    pl.arange(0, 10, 2).pow(2).alias(\"end\")\n",
    ").with_columns(\n",
    "    pl.int_ranges(\"start\", \"end\").alias(\"int_range\")\n",
    ").with_columns(\n",
    "    pl.col(\"int_range\").list.len().alias(\"range_length\")\n",
    ")"
   ]
  },
  {
   "cell_type": "code",
   "execution_count": 45,
   "id": "c45d89e0",
   "metadata": {},
   "outputs": [],
   "source": [
    "from datetime import date\n",
    "\n",
    "pl.select(\n",
    "    pl.date_range(date(1985, 10, 21), date(1985, 10, 26)).alias(\"start\"),\n",
    "    pl.repeat(date(2021, 10, 21), 6).alias(\"end\")\n",
    ").with_columns(\n",
    "    pl.datetime_ranges(\"start\", \"end\", interval=\"1h\").alias(\"range\")\n",
    ")"
   ]
  },
  {
   "cell_type": "markdown",
   "id": "f583e726",
   "metadata": {},
   "source": [
    "### Other Functions to Create Expressions"
   ]
  },
  {
   "cell_type": "markdown",
   "id": "ea96dc04",
   "metadata": {},
   "source": [
    "## Renaming Expressions"
   ]
  },
  {
   "cell_type": "code",
   "execution_count": 48,
   "id": "009c48df",
   "metadata": {},
   "outputs": [],
   "source": [
    "df = pl.DataFrame({\"text\": \"value\", \"An integer\": 5040, \"BOOLEAN\": True})\n",
    "df\n"
   ]
  },
  {
   "cell_type": "code",
   "execution_count": 49,
   "id": "edc789c8",
   "metadata": {},
   "outputs": [],
   "source": [
    "df.select(\n",
    "    pl.col(\"text\").name.to_uppercase(),\n",
    "    pl.col(\"An integer\").alias(\"int\"),\n",
    "    pl.col(\"BOOLEAN\").name.to_lowercase(),\n",
    ")"
   ]
  },
  {
   "cell_type": "code",
   "execution_count": 50,
   "id": "5c9ec9c9",
   "metadata": {},
   "outputs": [],
   "source": [
    "# This raises a PanicException:\n",
    "# df.select(\n",
    "#     pl.all()\n",
    "#     .name.to_lowercase()\n",
    "#     .name.map(lambda s: s.replace(\" \", \"_\"))\n",
    "# )"
   ]
  },
  {
   "cell_type": "code",
   "execution_count": 51,
   "id": "3ba6af76",
   "metadata": {},
   "outputs": [],
   "source": [
    "df.select(\n",
    "    pl.all()\n",
    "    .name.map(lambda s: s.lower().replace(\" \", \"_\"))\n",
    ")"
   ]
  },
  {
   "cell_type": "markdown",
   "id": "180e8c42",
   "metadata": {},
   "source": [
    "## Expressions Are Idiomatic"
   ]
  },
  {
   "cell_type": "code",
   "execution_count": 53,
   "id": "82bc5622",
   "metadata": {},
   "outputs": [],
   "source": [
    "fruit.filter(\n",
    "    (fruit[\"weight\"] > 1000) & fruit[\"is_round\"]\n",
    ")"
   ]
  },
  {
   "cell_type": "code",
   "execution_count": 54,
   "id": "eb4a31d2",
   "metadata": {},
   "outputs": [],
   "source": [
    "(\n",
    "    fruit\n",
    "    .lazy()\n",
    "    .filter((pl.col(\"weight\") > 1000) & pl.col(\"is_round\"))\n",
    "    .with_columns(pl.col(\"name\").str.ends_with(\"berry\").alias(\"is_berry\"))\n",
    "    .collect()\n",
    ")"
   ]
  },
  {
   "cell_type": "code",
   "execution_count": 55,
   "id": "23066cc1",
   "metadata": {},
   "outputs": [],
   "source": [
    "# This raises a ShapeError:\n",
    "# (\n",
    "#     fruit\n",
    "#     .lazy()\n",
    "#     .filter((fruit[\"weight\"] > 1000) & fruit[\"is_round\"])\n",
    "#     .with_columns(fruit[\"name\"].str.ends_with(\"berry\").alias(\"is_berry\"))\n",
    "#     .collect()\n",
    "# )"
   ]
  },
  {
   "cell_type": "markdown",
   "id": "6e1796b9",
   "metadata": {},
   "source": [
    "## Conclusion"
   ]
  }
 ],
 "metadata": {},
 "nbformat": 4,
 "nbformat_minor": 5
}
