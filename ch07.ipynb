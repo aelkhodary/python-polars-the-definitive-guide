{
 "cells": [
  {
   "cell_type": "markdown",
   "id": "f592cc88",
   "metadata": {},
   "source": [
    "# Chapter 7: Beginning Expressions"
   ]
  },
  {
   "cell_type": "code",
   "execution_count": null,
   "id": "6c26a662",
   "metadata": {},
   "outputs": [],
   "source": [
    "import polars as pl\n",
    "pl.show_versions()  # The book is built with Polars version 1.13.1"
   ]
  },
  {
   "cell_type": "markdown",
   "id": "f9164398",
   "metadata": {},
   "source": [
    "## Methods and Namespaces"
   ]
  },
  {
   "cell_type": "markdown",
   "id": "5c6dcc68",
   "metadata": {},
   "source": [
    "## Expressions by Example"
   ]
  },
  {
   "cell_type": "code",
   "execution_count": null,
   "id": "6d0accf5",
   "metadata": {},
   "outputs": [],
   "source": [
    "fruit = pl.read_csv(\"data/fruit.csv\")\n",
    "fruit"
   ]
  },
  {
   "cell_type": "markdown",
   "id": "528e15c7",
   "metadata": {},
   "source": [
    "### Selecting Columns with Expressions"
   ]
  },
  {
   "cell_type": "code",
   "execution_count": null,
   "id": "c3a51580",
   "metadata": {},
   "outputs": [],
   "source": [
    "fruit.select(\n",
    "    pl.col(\"name\"),  \n",
    "    pl.col(\"^.*or.*$\"),  \n",
    "    pl.col(\"weight\") / 1000,  \n",
    "    \"is_round\",  \n",
    ")"
   ]
  },
  {
   "cell_type": "markdown",
   "id": "36727f60",
   "metadata": {},
   "source": [
    "### Creating New Columns with Expressions"
   ]
  },
  {
   "cell_type": "code",
   "execution_count": null,
   "id": "835f0f0e",
   "metadata": {},
   "outputs": [],
   "source": [
    "fruit.with_columns(\n",
    "    pl.lit(True).alias(\"is_fruit\"),  \n",
    "    is_berry=pl.col(\"name\").str.ends_with(\"berry\"),  \n",
    ")"
   ]
  },
  {
   "cell_type": "markdown",
   "id": "c6c6e90c",
   "metadata": {},
   "source": [
    "### Filtering Rows with Expressions"
   ]
  },
  {
   "cell_type": "code",
   "execution_count": null,
   "id": "48d5b348",
   "metadata": {},
   "outputs": [],
   "source": [
    "fruit.filter(\n",
    "    (pl.col(\"weight\") > 1000)  \n",
    "    & pl.col(\"is_round\")  \n",
    ")"
   ]
  },
  {
   "cell_type": "markdown",
   "id": "f7c10766",
   "metadata": {},
   "source": [
    "### Aggregating with Expressions"
   ]
  },
  {
   "cell_type": "code",
   "execution_count": null,
   "id": "ae94c0ad",
   "metadata": {},
   "outputs": [],
   "source": [
    "fruit.group_by(pl.col(\"origin\").str.split(\" \").list.last()).agg(  \n",
    "    pl.len(),  \n",
    "    average_weight=pl.col(\"weight\").mean()  \n",
    ")"
   ]
  },
  {
   "cell_type": "markdown",
   "id": "0973d5eb",
   "metadata": {},
   "source": [
    "### Sorting Rows with Expressions"
   ]
  },
  {
   "cell_type": "code",
   "execution_count": null,
   "id": "8f9aa654",
   "metadata": {},
   "outputs": [],
   "source": [
    "fruit.sort(\n",
    "    pl.col(\"name\").str.len_bytes(),  # <1> <2>\n",
    "    descending=True,  \n",
    ")"
   ]
  },
  {
   "cell_type": "markdown",
   "id": "86145094",
   "metadata": {},
   "source": [
    "## The Definition of an Expression"
   ]
  },
  {
   "cell_type": "code",
   "execution_count": null,
   "id": "5cb5bd03",
   "metadata": {},
   "outputs": [],
   "source": [
    "(\n",
    "    pl.DataFrame({\"a\": [1, 2, 3], \"b\": [0.4, 0.5, 0.6]}).with_columns(\n",
    "        pl.all().mul(10).name.suffix(\"_times_10\")\n",
    "    )\n",
    ")"
   ]
  },
  {
   "cell_type": "code",
   "execution_count": null,
   "id": "125f3901",
   "metadata": {},
   "outputs": [],
   "source": [
    "pl.all().mul(10).name.suffix(\"_times_10\").meta.has_multiple_outputs()"
   ]
  },
  {
   "cell_type": "markdown",
   "id": "3af76203",
   "metadata": {},
   "source": [
    "### Properties of Expressions"
   ]
  },
  {
   "cell_type": "code",
   "execution_count": null,
   "id": "642c408e",
   "metadata": {},
   "outputs": [],
   "source": [
    "is_orange = (pl.col(\"color\") == \"orange\").alias(\"is_orange\")\n",
    "\n",
    "fruit.with_columns(is_orange)"
   ]
  },
  {
   "cell_type": "code",
   "execution_count": null,
   "id": "f23c445a",
   "metadata": {},
   "outputs": [],
   "source": [
    "fruit.filter(is_orange)"
   ]
  },
  {
   "cell_type": "code",
   "execution_count": null,
   "id": "ff787492",
   "metadata": {},
   "outputs": [],
   "source": [
    "fruit.group_by(is_orange).len()"
   ]
  },
  {
   "cell_type": "code",
   "execution_count": null,
   "id": "5b49eb9f",
   "metadata": {},
   "outputs": [],
   "source": [
    "flowers = pl.DataFrame(\n",
    "    {\n",
    "        \"name\": [\"Tiger lily\", \"Blue flag\", \"African marigold\"],\n",
    "        \"latin\": [\"Lilium columbianum\", \"Iris versicolor\", \"Tagetes erecta\"],\n",
    "        \"color\": [\"orange\", \"purple\", \"orange\"],\n",
    "    }\n",
    ")\n",
    "\n",
    "flowers.filter(is_orange)"
   ]
  },
  {
   "cell_type": "markdown",
   "id": "8ba5f74b",
   "metadata": {},
   "source": [
    "## Creating Expressions"
   ]
  },
  {
   "cell_type": "markdown",
   "id": "7d4381ac",
   "metadata": {},
   "source": [
    "### From Existing Columns"
   ]
  },
  {
   "cell_type": "code",
   "execution_count": null,
   "id": "7acff5de",
   "metadata": {},
   "outputs": [],
   "source": [
    "fruit.select(pl.col(\"color\")).columns"
   ]
  },
  {
   "cell_type": "code",
   "execution_count": null,
   "id": "26f1b36a",
   "metadata": {},
   "outputs": [],
   "source": [
    "# This raises a ColumnNotFoundError:\n",
    "# fruit.select(pl.col(\"is_smelly\")).columns"
   ]
  },
  {
   "cell_type": "code",
   "execution_count": null,
   "id": "870fad74",
   "metadata": {},
   "outputs": [],
   "source": [
    "fruit.select(pl.col(\"^.*or.*$\")).columns"
   ]
  },
  {
   "cell_type": "code",
   "execution_count": null,
   "id": "64e4770a",
   "metadata": {},
   "outputs": [],
   "source": [
    "fruit.select(pl.all()).columns"
   ]
  },
  {
   "cell_type": "code",
   "execution_count": null,
   "id": "5b53c93c",
   "metadata": {},
   "outputs": [],
   "source": [
    "fruit.select(pl.col(pl.String)).columns"
   ]
  },
  {
   "cell_type": "code",
   "execution_count": null,
   "id": "a9527149",
   "metadata": {},
   "outputs": [],
   "source": [
    "fruit.select(pl.col(pl.Boolean, pl.Int64)).columns"
   ]
  },
  {
   "cell_type": "code",
   "execution_count": null,
   "id": "310094ef",
   "metadata": {},
   "outputs": [],
   "source": [
    "fruit.select(pl.col([\"name\", \"color\"])).columns"
   ]
  },
  {
   "cell_type": "markdown",
   "id": "c7abe077",
   "metadata": {},
   "source": [
    "### From Literal Values"
   ]
  },
  {
   "cell_type": "code",
   "execution_count": null,
   "id": "78b81a63",
   "metadata": {},
   "outputs": [],
   "source": [
    "pl.select(pl.lit(42))"
   ]
  },
  {
   "cell_type": "code",
   "execution_count": null,
   "id": "9894f020",
   "metadata": {},
   "outputs": [],
   "source": [
    "pl.select(pl.lit(42).alias(\"answer\"))"
   ]
  },
  {
   "cell_type": "code",
   "execution_count": null,
   "id": "480a9102",
   "metadata": {},
   "outputs": [],
   "source": [
    "pl.select(answer=pl.lit(42))"
   ]
  },
  {
   "cell_type": "code",
   "execution_count": null,
   "id": "bff9bcad",
   "metadata": {},
   "outputs": [],
   "source": [
    "fruit.with_columns(planet=pl.lit(\"Earth\"))"
   ]
  },
  {
   "cell_type": "code",
   "execution_count": null,
   "id": "f9d2aeb8",
   "metadata": {},
   "outputs": [],
   "source": [
    "fruit.with_columns(row_is_even=pl.lit([False, True]))"
   ]
  },
  {
   "cell_type": "code",
   "execution_count": null,
   "id": "8658a077",
   "metadata": {},
   "outputs": [],
   "source": [
    "pl.select(pl.repeat(\"Ella\", 3).alias(\"umbrella\"), pl.zeros(3), pl.ones(3))"
   ]
  },
  {
   "cell_type": "code",
   "execution_count": null,
   "id": "3255b3cf",
   "metadata": {},
   "outputs": [],
   "source": [
    "# This raises a ShapeError:\n",
    "# fruit.with_columns(planet=pl.repeat(\"Earth\", 9))"
   ]
  },
  {
   "cell_type": "markdown",
   "id": "c983a7b8",
   "metadata": {},
   "source": [
    "### From Ranges"
   ]
  },
  {
   "cell_type": "code",
   "execution_count": null,
   "id": "45dd2c01",
   "metadata": {},
   "outputs": [],
   "source": [
    "pl.select(\n",
    "    start=pl.int_range(0, 5), end=pl.arange(0, 10, 2).pow(2)\n",
    ").with_columns(int_range=pl.int_ranges(\"start\", \"end\")).with_columns(\n",
    "    range_length=pl.col(\"int_range\").list.len()\n",
    ")"
   ]
  },
  {
   "cell_type": "code",
   "execution_count": null,
   "id": "fbffe1d0",
   "metadata": {},
   "outputs": [],
   "source": [
    "from datetime import date\n",
    "\n",
    "pl.select(\n",
    "    start=pl.date_range(date(1985, 10, 21), date(1985, 10, 26)),\n",
    "    end=pl.repeat(date(2021, 10, 21), 6),\n",
    ").with_columns(range=pl.datetime_ranges(\"start\", \"end\", interval=\"1h\"))"
   ]
  },
  {
   "cell_type": "markdown",
   "id": "45fa411e",
   "metadata": {},
   "source": [
    "### Other Functions to Create Expressions"
   ]
  },
  {
   "cell_type": "markdown",
   "id": "7cdd71ed",
   "metadata": {},
   "source": [
    "## Renaming Expressions"
   ]
  },
  {
   "cell_type": "code",
   "execution_count": null,
   "id": "0e00426f",
   "metadata": {},
   "outputs": [],
   "source": [
    "df = pl.DataFrame({\"text\": \"value\", \"An integer\": 5040, \"BOOLEAN\": True})\n",
    "df"
   ]
  },
  {
   "cell_type": "code",
   "execution_count": null,
   "id": "6b23a1e9",
   "metadata": {},
   "outputs": [],
   "source": [
    "df.select(\n",
    "    pl.col(\"text\").name.to_uppercase(),\n",
    "    pl.col(\"An integer\").alias(\"int\"),\n",
    "    pl.col(\"BOOLEAN\").name.to_lowercase(),\n",
    ")"
   ]
  },
  {
   "cell_type": "code",
   "execution_count": null,
   "id": "d3ff4b57",
   "metadata": {},
   "outputs": [],
   "source": [
    "# This raises a PanicException:\n",
    "# df.select(\n",
    "#     pl.all()\n",
    "#     .name.to_lowercase()\n",
    "#     .name.map(lambda s: s.replace(\" \", \"_\"))\n",
    "# )"
   ]
  },
  {
   "cell_type": "code",
   "execution_count": null,
   "id": "73c9f02a",
   "metadata": {},
   "outputs": [],
   "source": [
    "df.select(pl.all().name.map(lambda s: s.lower().replace(\" \", \"_\")))"
   ]
  },
  {
   "cell_type": "markdown",
   "id": "dbdf04b4",
   "metadata": {},
   "source": [
    "## Expressions Are Idiomatic"
   ]
  },
  {
   "cell_type": "code",
   "execution_count": null,
   "id": "19b4e82c",
   "metadata": {},
   "outputs": [],
   "source": [
    "fruit.filter((fruit[\"weight\"] > 1000) & fruit[\"is_round\"])"
   ]
  },
  {
   "cell_type": "code",
   "execution_count": null,
   "id": "171ec220",
   "metadata": {},
   "outputs": [],
   "source": [
    "(\n",
    "    fruit.lazy()\n",
    "    .filter((pl.col(\"weight\") > 1000) & pl.col(\"is_round\"))\n",
    "    .with_columns(is_berry=pl.col(\"name\").str.ends_with(\"berry\"))\n",
    "    .collect()\n",
    ")"
   ]
  },
  {
   "cell_type": "code",
   "execution_count": null,
   "id": "2ca62a78",
   "metadata": {},
   "outputs": [],
   "source": [
    "# This raises a ShapeError:\n",
    "# (\n",
    "#     fruit\n",
    "#     .lazy()\n",
    "#     .filter((fruit[\"weight\"] > 1000) & fruit[\"is_round\"])\n",
    "#     .with_columns(is_berry=fruit[\"name\"].str.ends_with(\"berry\"))\n",
    "#     .collect()\n",
    "# )"
   ]
  },
  {
   "cell_type": "markdown",
   "id": "a03710ec",
   "metadata": {},
   "source": [
    "## Takeaways"
   ]
  }
 ],
 "metadata": {},
 "nbformat": 4,
 "nbformat_minor": 5
}
