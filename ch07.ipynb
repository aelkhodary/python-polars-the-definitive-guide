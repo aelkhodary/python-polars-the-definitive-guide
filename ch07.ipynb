{
 "cells": [
  {
   "cell_type": "markdown",
   "id": "c3a61e76",
   "metadata": {},
   "source": [
    "# Chapter 7: Beginning Expressions"
   ]
  },
  {
   "cell_type": "code",
   "execution_count": 1,
   "id": "0123d244",
   "metadata": {},
   "outputs": [],
   "source": [
    "import polars as pl\n",
    "pl.show_versions()  # The book is built with Polars version 1.0.0"
   ]
  },
  {
   "cell_type": "markdown",
   "id": "588c854b",
   "metadata": {},
   "source": [
    "## Methods and Namespaces"
   ]
  },
  {
   "cell_type": "markdown",
   "id": "982a1f13",
   "metadata": {},
   "source": [
    "## Expressions by Example"
   ]
  },
  {
   "cell_type": "code",
   "execution_count": 4,
   "id": "081170bd",
   "metadata": {},
   "outputs": [],
   "source": [
    "import polars as pl\n",
    "\n",
    "fruit = pl.read_csv(\"data/fruit.csv\")\n",
    "fruit"
   ]
  },
  {
   "cell_type": "markdown",
   "id": "a1fbfe03",
   "metadata": {},
   "source": [
    "### Selecting Columns with Expressions"
   ]
  },
  {
   "cell_type": "code",
   "execution_count": 6,
   "id": "6583bde4",
   "metadata": {},
   "outputs": [],
   "source": [
    "fruit.select(\n",
    "    pl.col(\"name\"),  \n",
    "    pl.col(\"^.*or.*$\"),  \n",
    "    pl.col(\"weight\") / 1000,  \n",
    "    \"is_round\"  \n",
    ")"
   ]
  },
  {
   "cell_type": "markdown",
   "id": "74e64726",
   "metadata": {},
   "source": [
    "### Creating New Columns with Expressions"
   ]
  },
  {
   "cell_type": "code",
   "execution_count": 8,
   "id": "bc27ae12",
   "metadata": {},
   "outputs": [],
   "source": [
    "fruit.with_columns(\n",
    "    pl.lit(True).alias(\"is_fruit\"),  \n",
    "    pl.col(\"name\").str.ends_with(\"berry\").alias(\"is_berry\")  \n",
    ")"
   ]
  },
  {
   "cell_type": "markdown",
   "id": "ace03bca",
   "metadata": {},
   "source": [
    "### Filtering Rows with Expressions"
   ]
  },
  {
   "cell_type": "code",
   "execution_count": 10,
   "id": "72ea9086",
   "metadata": {},
   "outputs": [],
   "source": [
    "fruit.filter(\n",
    "    pl.col(\"is_round\") &  \n",
    "    (pl.col(\"weight\") > 1000)  \n",
    ")"
   ]
  },
  {
   "cell_type": "markdown",
   "id": "898d60c7",
   "metadata": {},
   "source": [
    "### Aggregating with Expressions"
   ]
  },
  {
   "cell_type": "code",
   "execution_count": 12,
   "id": "3b65849d",
   "metadata": {},
   "outputs": [],
   "source": [
    "fruit.group_by(\n",
    "    pl.col(\"origin\").str.split(\" \").list.last()  \n",
    ").agg(\n",
    "    pl.len(),  \n",
    "    pl.col(\"weight\").mean().alias(\"average_weight\")  \n",
    ")"
   ]
  },
  {
   "cell_type": "markdown",
   "id": "0688e4ad",
   "metadata": {},
   "source": [
    "### Sorting Rows with Expressions"
   ]
  },
  {
   "cell_type": "code",
   "execution_count": 14,
   "id": "c0183f0d",
   "metadata": {},
   "outputs": [],
   "source": [
    "fruit.sort(\n",
    "    pl.col(\"name\").str.len_bytes(),  \n",
    "    descending=True  \n",
    ")"
   ]
  },
  {
   "cell_type": "markdown",
   "id": "0743eb5c",
   "metadata": {},
   "source": [
    "## What Exactly Is an Expression?"
   ]
  },
  {
   "cell_type": "code",
   "execution_count": 16,
   "id": "2d40517c",
   "metadata": {},
   "outputs": [],
   "source": [
    "(\n",
    "    pl.DataFrame({\"a\": [1, 2, 3], \"b\": [0.4, 0.5, 0.6]})\n",
    "    .with_columns(pl.all().mul(10).name.suffix(\"_times_10\"))\n",
    ")"
   ]
  },
  {
   "cell_type": "code",
   "execution_count": 17,
   "id": "8af4b2c5",
   "metadata": {},
   "outputs": [],
   "source": [
    "pl.all().mul(10).name.suffix(\"_times_10\").meta.has_multiple_outputs()"
   ]
  },
  {
   "cell_type": "markdown",
   "id": "4d2446d1",
   "metadata": {},
   "source": [
    "### Properties of Expressions"
   ]
  },
  {
   "cell_type": "code",
   "execution_count": 19,
   "id": "411412b5",
   "metadata": {},
   "outputs": [],
   "source": [
    "is_orange = (pl.col(\"color\") == \"orange\").alias(\"is_orange\")\n",
    "\n",
    "fruit.with_columns(is_orange)"
   ]
  },
  {
   "cell_type": "code",
   "execution_count": 20,
   "id": "d1da4605",
   "metadata": {},
   "outputs": [],
   "source": [
    "fruit.filter(is_orange)"
   ]
  },
  {
   "cell_type": "code",
   "execution_count": 21,
   "id": "188c1d5b",
   "metadata": {},
   "outputs": [],
   "source": [
    "fruit.group_by(is_orange).len()"
   ]
  },
  {
   "cell_type": "code",
   "execution_count": 22,
   "id": "bcbc04f0",
   "metadata": {},
   "outputs": [],
   "source": [
    "flowers = pl.DataFrame({\n",
    "    \"name\": [\"Tiger lily\", \"Blue flag\", \"African marigold\"],\n",
    "    \"latin\": [\"Lilium columbianum\", \"Iris versicolor\", \"Tagetes erecta\"],\n",
    "    \"color\": [\"orange\", \"purple\", \"orange\"]\n",
    "})\n",
    "\n",
    "flowers.filter(is_orange)"
   ]
  },
  {
   "cell_type": "markdown",
   "id": "1147455d",
   "metadata": {},
   "source": [
    "## Creating Expressions"
   ]
  },
  {
   "cell_type": "markdown",
   "id": "776f28db",
   "metadata": {},
   "source": [
    "### From Existing Columns"
   ]
  },
  {
   "cell_type": "code",
   "execution_count": 25,
   "id": "46341e76",
   "metadata": {},
   "outputs": [],
   "source": [
    "fruit.select(pl.col(\"color\")).columns"
   ]
  },
  {
   "cell_type": "code",
   "execution_count": 26,
   "id": "0e6465cb",
   "metadata": {},
   "outputs": [],
   "source": [
    "# This raises a ColumnNotFoundError:\n",
    "# fruit.select(pl.col(\"is_smelly\")).columns"
   ]
  },
  {
   "cell_type": "code",
   "execution_count": 27,
   "id": "5a15b12e",
   "metadata": {},
   "outputs": [],
   "source": [
    "fruit.select(pl.col(\"^.*or.*$\")).columns"
   ]
  },
  {
   "cell_type": "code",
   "execution_count": 28,
   "id": "c1c960e6",
   "metadata": {},
   "outputs": [],
   "source": [
    "fruit.select(pl.all()).columns"
   ]
  },
  {
   "cell_type": "code",
   "execution_count": 29,
   "id": "9f1cae9e",
   "metadata": {},
   "outputs": [],
   "source": [
    "fruit.select(pl.col(pl.String)).columns"
   ]
  },
  {
   "cell_type": "code",
   "execution_count": 30,
   "id": "2f4be0b1",
   "metadata": {},
   "outputs": [],
   "source": [
    "fruit.select(pl.col(pl.Boolean, pl.Int64)).columns"
   ]
  },
  {
   "cell_type": "code",
   "execution_count": 31,
   "id": "81f663e5",
   "metadata": {},
   "outputs": [],
   "source": [
    "fruit.select(pl.col([\"name\", \"color\"])).columns"
   ]
  },
  {
   "cell_type": "code",
   "execution_count": 32,
   "id": "bccc1331",
   "metadata": {},
   "outputs": [],
   "source": [
    "# This raises a TypeError:\n",
    "# fruit.select(pl.col([pl.String, \"is_round\"])).columns"
   ]
  },
  {
   "cell_type": "code",
   "execution_count": 33,
   "id": "8843b5f2",
   "metadata": {},
   "outputs": [],
   "source": [
    "pl.NUMERIC_DTYPES"
   ]
  },
  {
   "cell_type": "code",
   "execution_count": 34,
   "id": "a90eb7c6",
   "metadata": {},
   "outputs": [],
   "source": [
    "(\n",
    "    fruit\n",
    "    .with_columns((pl.col(\"weight\") / 1000).alias(\"weight_kg\"))\n",
    "    .select(pl.col(pl.NUMERIC_DTYPES))\n",
    "    .head()\n",
    ")"
   ]
  },
  {
   "cell_type": "markdown",
   "id": "ac7599da",
   "metadata": {},
   "source": [
    "### From Literal Values"
   ]
  },
  {
   "cell_type": "code",
   "execution_count": 36,
   "id": "da6cc093",
   "metadata": {},
   "outputs": [],
   "source": [
    "pl.select(pl.lit(42))"
   ]
  },
  {
   "cell_type": "code",
   "execution_count": 37,
   "id": "cc5734e8",
   "metadata": {},
   "outputs": [],
   "source": [
    "pl.select(pl.lit(42).alias(\"answer\"))"
   ]
  },
  {
   "cell_type": "code",
   "execution_count": 38,
   "id": "ae853b4b",
   "metadata": {},
   "outputs": [],
   "source": [
    "fruit.with_columns(pl.lit(\"Earth\").alias(\"planet\"))"
   ]
  },
  {
   "cell_type": "code",
   "execution_count": 39,
   "id": "9cb9098e",
   "metadata": {},
   "outputs": [],
   "source": [
    "# This raises a ShapeError:\n",
    "# fruit.with_columns(pl.lit(pl.Series([False, True])).alias(\"row_is_even\"))"
   ]
  },
  {
   "cell_type": "code",
   "execution_count": 40,
   "id": "b68e6556",
   "metadata": {},
   "outputs": [],
   "source": [
    "fruit.with_columns(pl.lit([False, True]).alias(\"row_is_even\"))"
   ]
  },
  {
   "cell_type": "code",
   "execution_count": 41,
   "id": "3c60d553",
   "metadata": {},
   "outputs": [],
   "source": [
    "pl.select(\n",
    "    pl.repeat(\"Ello\", 3).alias(\"hello\"),\n",
    "    pl.zeros(3),\n",
    "    pl.ones(3)\n",
    ")"
   ]
  },
  {
   "cell_type": "code",
   "execution_count": 42,
   "id": "e2c9f868",
   "metadata": {},
   "outputs": [],
   "source": [
    "# This raises a ShapeError:\n",
    "# fruit.with_columns(pl.repeat(\"Earth\", 9).alias(\"planet\"))"
   ]
  },
  {
   "cell_type": "markdown",
   "id": "a6b0bec8",
   "metadata": {},
   "source": [
    "### From Ranges"
   ]
  },
  {
   "cell_type": "code",
   "execution_count": 44,
   "id": "8b0ef368",
   "metadata": {},
   "outputs": [],
   "source": [
    "pl.select(\n",
    "    pl.int_range(0, 5).alias(\"start\"),\n",
    "    pl.arange(0, 10, 2).pow(2).alias(\"end\")\n",
    ").with_columns(\n",
    "    pl.int_ranges(\"start\", \"end\").alias(\"int_range\")\n",
    ").with_columns(\n",
    "    pl.col(\"int_range\").list.len().alias(\"range_length\")\n",
    ")"
   ]
  },
  {
   "cell_type": "code",
   "execution_count": 45,
   "id": "2d83a698",
   "metadata": {},
   "outputs": [],
   "source": [
    "from datetime import date\n",
    "\n",
    "pl.select(\n",
    "    pl.date_range(date(1985, 10, 21), date(1985, 10, 26)).alias(\"start\"),\n",
    "    pl.repeat(date(2021, 10, 21), 6).alias(\"end\")\n",
    ").with_columns(\n",
    "    pl.datetime_ranges(\"start\", \"end\", interval=\"1h\").alias(\"range\")\n",
    ")"
   ]
  },
  {
   "cell_type": "markdown",
   "id": "b69e50a2",
   "metadata": {},
   "source": [
    "### Other Functions to Create Expressions"
   ]
  },
  {
   "cell_type": "markdown",
   "id": "42fc716f",
   "metadata": {},
   "source": [
    "## Renaming Expressions"
   ]
  },
  {
   "cell_type": "code",
   "execution_count": 48,
   "id": "7017904c",
   "metadata": {},
   "outputs": [],
   "source": [
    "df = pl.DataFrame({\"text\": \"value\", \"An integer\": 5040, \"BOOLEAN\": True})\n",
    "df\n"
   ]
  },
  {
   "cell_type": "code",
   "execution_count": 49,
   "id": "dcaac085",
   "metadata": {},
   "outputs": [],
   "source": [
    "df.select(\n",
    "    pl.col(\"text\").name.to_uppercase(),\n",
    "    pl.col(\"An integer\").alias(\"int\"),\n",
    "    pl.col(\"BOOLEAN\").name.to_lowercase(),\n",
    ")"
   ]
  },
  {
   "cell_type": "code",
   "execution_count": 50,
   "id": "c4de1236",
   "metadata": {},
   "outputs": [],
   "source": [
    "# This raises a PanicException:\n",
    "# df.select(\n",
    "#     pl.all()\n",
    "#     .name.to_lowercase()\n",
    "#     .name.map(lambda s: s.replace(\" \", \"_\"))\n",
    "# )"
   ]
  },
  {
   "cell_type": "code",
   "execution_count": 51,
   "id": "8f526fc9",
   "metadata": {},
   "outputs": [],
   "source": [
    "df.select(\n",
    "    pl.all()\n",
    "    .name.map(lambda s: s.lower().replace(\" \", \"_\"))\n",
    ")"
   ]
  },
  {
   "cell_type": "markdown",
   "id": "698f9b90",
   "metadata": {},
   "source": [
    "## Expressions Are Idiomatic"
   ]
  },
  {
   "cell_type": "code",
   "execution_count": 53,
   "id": "a5ae9ccc",
   "metadata": {},
   "outputs": [],
   "source": [
    "fruit.filter(\n",
    "    (fruit[\"weight\"] > 1000) & fruit[\"is_round\"]\n",
    ")"
   ]
  },
  {
   "cell_type": "code",
   "execution_count": 54,
   "id": "52a962fb",
   "metadata": {},
   "outputs": [],
   "source": [
    "(\n",
    "    fruit\n",
    "    .lazy()\n",
    "    .filter((pl.col(\"weight\") > 1000) & pl.col(\"is_round\"))\n",
    "    .with_columns(pl.col(\"name\").str.ends_with(\"berry\").alias(\"is_berry\"))\n",
    "    .collect()\n",
    ")"
   ]
  },
  {
   "cell_type": "code",
   "execution_count": 55,
   "id": "30a984bc",
   "metadata": {},
   "outputs": [],
   "source": [
    "# This raises a ShapeError:\n",
    "# (\n",
    "#     fruit\n",
    "#     .lazy()\n",
    "#     .filter((fruit[\"weight\"] > 1000) & fruit[\"is_round\"])\n",
    "#     .with_columns(fruit[\"name\"].str.ends_with(\"berry\").alias(\"is_berry\"))\n",
    "#     .collect()\n",
    "# )"
   ]
  },
  {
   "cell_type": "markdown",
   "id": "190dadda",
   "metadata": {},
   "source": [
    "## Conclusion"
   ]
  }
 ],
 "metadata": {},
 "nbformat": 4,
 "nbformat_minor": 5
}
