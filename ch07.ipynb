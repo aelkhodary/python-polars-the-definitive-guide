{
 "cells": [
  {
   "cell_type": "markdown",
   "id": "ce80b257",
   "metadata": {},
   "source": [
    "# Chapter 7: Beginning Expressions"
   ]
  },
  {
   "cell_type": "code",
   "execution_count": null,
   "id": "f6fbf1ae",
   "metadata": {},
   "outputs": [],
   "source": [
    "import polars as pl\n",
    "pl.show_versions()  # The book is built with Polars version 1.13.1"
   ]
  },
  {
   "cell_type": "markdown",
   "id": "7dbf44cf",
   "metadata": {},
   "source": [
    "## Methods and Namespaces"
   ]
  },
  {
   "cell_type": "markdown",
   "id": "a7463006",
   "metadata": {},
   "source": [
    "## Expressions by Example"
   ]
  },
  {
   "cell_type": "code",
   "execution_count": null,
   "id": "3233ea2e",
   "metadata": {},
   "outputs": [],
   "source": [
    "fruit = pl.read_csv(\"data/fruit.csv\")\n",
    "fruit"
   ]
  },
  {
   "cell_type": "markdown",
   "id": "1ec1bb7d",
   "metadata": {},
   "source": [
    "### Selecting Columns with Expressions"
   ]
  },
  {
   "cell_type": "code",
   "execution_count": null,
   "id": "62be6757",
   "metadata": {},
   "outputs": [],
   "source": [
    "fruit.select(\n",
    "    pl.col(\"name\"),  \n",
    "    pl.col(\"^.*or.*$\"),  \n",
    "    pl.col(\"weight\") / 1000,  \n",
    "    \"is_round\",  \n",
    ")"
   ]
  },
  {
   "cell_type": "markdown",
   "id": "88bec584",
   "metadata": {},
   "source": [
    "### Creating New Columns with Expressions"
   ]
  },
  {
   "cell_type": "code",
   "execution_count": null,
   "id": "f6d20d05",
   "metadata": {},
   "outputs": [],
   "source": [
    "fruit.with_columns(\n",
    "    pl.lit(True).alias(\"is_fruit\"),  \n",
    "    is_berry=pl.col(\"name\").str.ends_with(\"berry\"),  \n",
    ")"
   ]
  },
  {
   "cell_type": "markdown",
   "id": "e00c2da7",
   "metadata": {},
   "source": [
    "### Filtering Rows with Expressions"
   ]
  },
  {
   "cell_type": "code",
   "execution_count": null,
   "id": "50e3510e",
   "metadata": {},
   "outputs": [],
   "source": [
    "fruit.filter(\n",
    "    (pl.col(\"weight\") > 1000)  \n",
    "    & pl.col(\"is_round\")  \n",
    ")"
   ]
  },
  {
   "cell_type": "markdown",
   "id": "44fb350f",
   "metadata": {},
   "source": [
    "### Aggregating with Expressions"
   ]
  },
  {
   "cell_type": "code",
   "execution_count": null,
   "id": "34d771af",
   "metadata": {},
   "outputs": [],
   "source": [
    "fruit.group_by(pl.col(\"origin\").str.split(\" \").list.last()).agg(  \n",
    "    pl.len(),  \n",
    "    average_weight=pl.col(\"weight\").mean()  \n",
    ")"
   ]
  },
  {
   "cell_type": "markdown",
   "id": "3172155d",
   "metadata": {},
   "source": [
    "### Sorting Rows with Expressions"
   ]
  },
  {
   "cell_type": "code",
   "execution_count": null,
   "id": "a235240b",
   "metadata": {},
   "outputs": [],
   "source": [
    "fruit.sort(\n",
    "    pl.col(\"name\").str.len_bytes(),  # <1> <2>\n",
    "    descending=True,  \n",
    ")"
   ]
  },
  {
   "cell_type": "markdown",
   "id": "50ac931b",
   "metadata": {},
   "source": [
    "## The Definition of an Expression"
   ]
  },
  {
   "cell_type": "code",
   "execution_count": null,
   "id": "75d83ef1",
   "metadata": {},
   "outputs": [],
   "source": [
    "(\n",
    "    pl.DataFrame({\"a\": [1, 2, 3], \"b\": [0.4, 0.5, 0.6]}).with_columns(\n",
    "        pl.all().mul(10).name.suffix(\"_times_10\")\n",
    "    )\n",
    ")"
   ]
  },
  {
   "cell_type": "code",
   "execution_count": null,
   "id": "b1f81c1a",
   "metadata": {},
   "outputs": [],
   "source": [
    "pl.all().mul(10).name.suffix(\"_times_10\").meta.has_multiple_outputs()"
   ]
  },
  {
   "cell_type": "markdown",
   "id": "9fbc6497",
   "metadata": {},
   "source": [
    "### Properties of Expressions"
   ]
  },
  {
   "cell_type": "code",
   "execution_count": null,
   "id": "a5a12aa3",
   "metadata": {},
   "outputs": [],
   "source": [
    "is_orange = (pl.col(\"color\") == \"orange\").alias(\"is_orange\")\n",
    "\n",
    "fruit.with_columns(is_orange)"
   ]
  },
  {
   "cell_type": "code",
   "execution_count": null,
   "id": "151658f0",
   "metadata": {},
   "outputs": [],
   "source": [
    "fruit.filter(is_orange)"
   ]
  },
  {
   "cell_type": "code",
   "execution_count": null,
   "id": "63e0c70b",
   "metadata": {},
   "outputs": [],
   "source": [
    "fruit.group_by(is_orange).len()"
   ]
  },
  {
   "cell_type": "code",
   "execution_count": null,
   "id": "36b9a9a7",
   "metadata": {},
   "outputs": [],
   "source": [
    "flowers = pl.DataFrame(\n",
    "    {\n",
    "        \"name\": [\"Tiger lily\", \"Blue flag\", \"African marigold\"],\n",
    "        \"latin\": [\"Lilium columbianum\", \"Iris versicolor\", \"Tagetes erecta\"],\n",
    "        \"color\": [\"orange\", \"purple\", \"orange\"],\n",
    "    }\n",
    ")\n",
    "\n",
    "flowers.filter(is_orange)"
   ]
  },
  {
   "cell_type": "markdown",
   "id": "14bc29ac",
   "metadata": {},
   "source": [
    "## Creating Expressions"
   ]
  },
  {
   "cell_type": "markdown",
   "id": "a53f0b3a",
   "metadata": {},
   "source": [
    "### From Existing Columns"
   ]
  },
  {
   "cell_type": "code",
   "execution_count": null,
   "id": "9e20d724",
   "metadata": {},
   "outputs": [],
   "source": [
    "fruit.select(pl.col(\"color\")).columns"
   ]
  },
  {
   "cell_type": "code",
   "execution_count": null,
   "id": "7a5a65de",
   "metadata": {},
   "outputs": [],
   "source": [
    "# This raises a ColumnNotFoundError:\n",
    "# fruit.select(pl.col(\"is_smelly\")).columns"
   ]
  },
  {
   "cell_type": "code",
   "execution_count": null,
   "id": "9d47b35f",
   "metadata": {},
   "outputs": [],
   "source": [
    "fruit.select(pl.col(\"^.*or.*$\")).columns"
   ]
  },
  {
   "cell_type": "code",
   "execution_count": null,
   "id": "34b21170",
   "metadata": {},
   "outputs": [],
   "source": [
    "fruit.select(pl.all()).columns"
   ]
  },
  {
   "cell_type": "code",
   "execution_count": null,
   "id": "fe37a8fa",
   "metadata": {},
   "outputs": [],
   "source": [
    "fruit.select(pl.col(pl.String)).columns"
   ]
  },
  {
   "cell_type": "code",
   "execution_count": null,
   "id": "e4bea6b4",
   "metadata": {},
   "outputs": [],
   "source": [
    "fruit.select(pl.col(pl.Boolean, pl.Int64)).columns"
   ]
  },
  {
   "cell_type": "code",
   "execution_count": null,
   "id": "da33d3b0",
   "metadata": {},
   "outputs": [],
   "source": [
    "fruit.select(pl.col([\"name\", \"color\"])).columns"
   ]
  },
  {
   "cell_type": "markdown",
   "id": "414b3cd4",
   "metadata": {},
   "source": [
    "### From Literal Values"
   ]
  },
  {
   "cell_type": "code",
   "execution_count": null,
   "id": "dfcef39e",
   "metadata": {},
   "outputs": [],
   "source": [
    "pl.select(pl.lit(42))"
   ]
  },
  {
   "cell_type": "code",
   "execution_count": null,
   "id": "0f4b040c",
   "metadata": {},
   "outputs": [],
   "source": [
    "pl.select(pl.lit(42).alias(\"answer\"))"
   ]
  },
  {
   "cell_type": "code",
   "execution_count": null,
   "id": "a85ed637",
   "metadata": {},
   "outputs": [],
   "source": [
    "pl.select(answer=pl.lit(42))"
   ]
  },
  {
   "cell_type": "code",
   "execution_count": null,
   "id": "19344cd8",
   "metadata": {},
   "outputs": [],
   "source": [
    "fruit.with_columns(planet=pl.lit(\"Earth\"))"
   ]
  },
  {
   "cell_type": "code",
   "execution_count": null,
   "id": "05d28f0e",
   "metadata": {},
   "outputs": [],
   "source": [
    "fruit.with_columns(row_is_even=pl.lit([False, True]))"
   ]
  },
  {
   "cell_type": "code",
   "execution_count": null,
   "id": "043e3eb0",
   "metadata": {},
   "outputs": [],
   "source": [
    "pl.select(pl.repeat(\"Ella\", 3).alias(\"umbrella\"), pl.zeros(3), pl.ones(3))"
   ]
  },
  {
   "cell_type": "code",
   "execution_count": null,
   "id": "ef9f4688",
   "metadata": {},
   "outputs": [],
   "source": [
    "# This raises a ShapeError:\n",
    "# fruit.with_columns(planet=pl.repeat(\"Earth\", 9))"
   ]
  },
  {
   "cell_type": "markdown",
   "id": "5d93bab0",
   "metadata": {},
   "source": [
    "### From Ranges"
   ]
  },
  {
   "cell_type": "code",
   "execution_count": null,
   "id": "dcf32471",
   "metadata": {},
   "outputs": [],
   "source": [
    "pl.select(\n",
    "    start=pl.int_range(0, 5), end=pl.arange(0, 10, 2).pow(2)\n",
    ").with_columns(int_range=pl.int_ranges(\"start\", \"end\")).with_columns(\n",
    "    range_length=pl.col(\"int_range\").list.len()\n",
    ")"
   ]
  },
  {
   "cell_type": "code",
   "execution_count": null,
   "id": "9101a282",
   "metadata": {},
   "outputs": [],
   "source": [
    "from datetime import date\n",
    "\n",
    "pl.select(\n",
    "    start=pl.date_range(date(1985, 10, 21), date(1985, 10, 26)),\n",
    "    end=pl.repeat(date(2021, 10, 21), 6),\n",
    ").with_columns(range=pl.datetime_ranges(\"start\", \"end\", interval=\"1h\"))"
   ]
  },
  {
   "cell_type": "markdown",
   "id": "63364fe9",
   "metadata": {},
   "source": [
    "### Other Functions to Create Expressions"
   ]
  },
  {
   "cell_type": "markdown",
   "id": "e1752579",
   "metadata": {},
   "source": [
    "## Renaming Expressions"
   ]
  },
  {
   "cell_type": "code",
   "execution_count": null,
   "id": "e21137d5",
   "metadata": {},
   "outputs": [],
   "source": [
    "df = pl.DataFrame({\"text\": \"value\", \"An integer\": 5040, \"BOOLEAN\": True})\n",
    "df"
   ]
  },
  {
   "cell_type": "code",
   "execution_count": null,
   "id": "d31b0da1",
   "metadata": {},
   "outputs": [],
   "source": [
    "df.select(\n",
    "    pl.col(\"text\").name.to_uppercase(),\n",
    "    pl.col(\"An integer\").alias(\"int\"),\n",
    "    pl.col(\"BOOLEAN\").name.to_lowercase(),\n",
    ")"
   ]
  },
  {
   "cell_type": "code",
   "execution_count": null,
   "id": "5eac5abe",
   "metadata": {},
   "outputs": [],
   "source": [
    "# This raises a PanicException:\n",
    "# df.select(\n",
    "#     pl.all()\n",
    "#     .name.to_lowercase()\n",
    "#     .name.map(lambda s: s.replace(\" \", \"_\"))\n",
    "# )"
   ]
  },
  {
   "cell_type": "code",
   "execution_count": null,
   "id": "ec56a27a",
   "metadata": {},
   "outputs": [],
   "source": [
    "df.select(pl.all().name.map(lambda s: s.lower().replace(\" \", \"_\")))"
   ]
  },
  {
   "cell_type": "markdown",
   "id": "5a1d1028",
   "metadata": {},
   "source": [
    "## Expressions Are Idiomatic"
   ]
  },
  {
   "cell_type": "code",
   "execution_count": null,
   "id": "bf6e339f",
   "metadata": {},
   "outputs": [],
   "source": [
    "fruit.filter((fruit[\"weight\"] > 1000) & fruit[\"is_round\"])"
   ]
  },
  {
   "cell_type": "code",
   "execution_count": null,
   "id": "f1f0973c",
   "metadata": {},
   "outputs": [],
   "source": [
    "(\n",
    "    fruit.lazy()\n",
    "    .filter((pl.col(\"weight\") > 1000) & pl.col(\"is_round\"))\n",
    "    .with_columns(is_berry=pl.col(\"name\").str.ends_with(\"berry\"))\n",
    "    .collect()\n",
    ")"
   ]
  },
  {
   "cell_type": "code",
   "execution_count": null,
   "id": "fcd9d41d",
   "metadata": {},
   "outputs": [],
   "source": [
    "# This raises a ShapeError:\n",
    "# (\n",
    "#     fruit\n",
    "#     .lazy()\n",
    "#     .filter((fruit[\"weight\"] > 1000) & fruit[\"is_round\"])\n",
    "#     .with_columns(is_berry=fruit[\"name\"].str.ends_with(\"berry\"))\n",
    "#     .collect()\n",
    "# )"
   ]
  },
  {
   "cell_type": "markdown",
   "id": "f2cd264b",
   "metadata": {},
   "source": [
    "## Takeaways"
   ]
  }
 ],
 "metadata": {},
 "nbformat": 4,
 "nbformat_minor": 5
}
