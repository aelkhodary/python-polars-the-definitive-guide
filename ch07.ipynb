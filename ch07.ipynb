{
 "cells": [
  {
   "cell_type": "markdown",
   "id": "c901c642",
   "metadata": {},
   "source": [
    "# Chapter 7: Reading and Writing Data"
   ]
  },
  {
   "cell_type": "code",
   "execution_count": 1,
   "id": "4e095423",
   "metadata": {},
   "outputs": [
    {
     "name": "stdout",
     "output_type": "stream",
     "text": [
      "--------Version info---------\n",
      "Polars:               0.20.7\n",
      "Index type:           UInt32\n",
      "Platform:             macOS-12.5-arm64-arm-64bit\n",
      "Python:               3.11.7 (main, Jan 16 2024, 14:42:22) [Clang 14.0.0 (clang-1400.0.29.202)]\n",
      "\n",
      "----Optional dependencies----\n",
      "adbc_driver_manager:  0.8.0\n",
      "cloudpickle:          3.0.0\n",
      "connectorx:           0.3.2\n",
      "deltalake:            0.15.0\n",
      "fsspec:               2023.12.2\n",
      "gevent:               23.9.1\n",
      "hvplot:               0.9.2\n",
      "matplotlib:           3.8.2\n",
      "numpy:                1.26.3\n",
      "openpyxl:             3.1.2\n",
      "pandas:               2.1.4\n",
      "pyarrow:              14.0.2\n",
      "pydantic:             2.5.3\n",
      "pyiceberg:            0.5.1\n",
      "pyxlsb:               <not installed>\n",
      "sqlalchemy:           2.0.25\n",
      "xlsx2csv:             0.8.2\n",
      "xlsxwriter:           3.1.9\n"
     ]
    }
   ],
   "source": [
    "import polars as pl\n",
    "pl.show_versions()"
   ]
  },
  {
   "cell_type": "markdown",
   "id": "2d19d1d5",
   "metadata": {},
   "source": [
    "## Reading CSV Files"
   ]
  },
  {
   "cell_type": "code",
   "execution_count": 3,
   "id": "5268481e",
   "metadata": {},
   "outputs": [
    {
     "data": {
      "text/html": [
       "<div><style>\n",
       ".dataframe > thead > tr,\n",
       ".dataframe > tbody > tr {\n",
       "  text-align: right;\n",
       "  white-space: pre-wrap;\n",
       "}\n",
       "</style>\n",
       "<small>shape: (344, 9)</small><table border=\"1\" class=\"dataframe\"><thead><tr><th>rowid</th><th>species</th><th>island</th><th>bill_length_mm</th><th>bill_depth_mm</th><th>flipper_length_mm</th><th>body_mass_g</th><th>sex</th><th>year</th></tr><tr><td>i64</td><td>str</td><td>str</td><td>str</td><td>str</td><td>str</td><td>str</td><td>str</td><td>i64</td></tr></thead><tbody><tr><td>1</td><td>&quot;Adelie&quot;</td><td>&quot;Torgersen&quot;</td><td>&quot;39.1&quot;</td><td>&quot;18.7&quot;</td><td>&quot;181&quot;</td><td>&quot;3750&quot;</td><td>&quot;male&quot;</td><td>2007</td></tr><tr><td>2</td><td>&quot;Adelie&quot;</td><td>&quot;Torgersen&quot;</td><td>&quot;39.5&quot;</td><td>&quot;17.4&quot;</td><td>&quot;186&quot;</td><td>&quot;3800&quot;</td><td>&quot;female&quot;</td><td>2007</td></tr><tr><td>3</td><td>&quot;Adelie&quot;</td><td>&quot;Torgersen&quot;</td><td>&quot;40.3&quot;</td><td>&quot;18&quot;</td><td>&quot;195&quot;</td><td>&quot;3250&quot;</td><td>&quot;female&quot;</td><td>2007</td></tr><tr><td>4</td><td>&quot;Adelie&quot;</td><td>&quot;Torgersen&quot;</td><td>&quot;NA&quot;</td><td>&quot;NA&quot;</td><td>&quot;NA&quot;</td><td>&quot;NA&quot;</td><td>&quot;NA&quot;</td><td>2007</td></tr><tr><td>5</td><td>&quot;Adelie&quot;</td><td>&quot;Torgersen&quot;</td><td>&quot;36.7&quot;</td><td>&quot;19.3&quot;</td><td>&quot;193&quot;</td><td>&quot;3450&quot;</td><td>&quot;female&quot;</td><td>2007</td></tr><tr><td>6</td><td>&quot;Adelie&quot;</td><td>&quot;Torgersen&quot;</td><td>&quot;39.3&quot;</td><td>&quot;20.6&quot;</td><td>&quot;190&quot;</td><td>&quot;3650&quot;</td><td>&quot;male&quot;</td><td>2007</td></tr><tr><td>7</td><td>&quot;Adelie&quot;</td><td>&quot;Torgersen&quot;</td><td>&quot;38.9&quot;</td><td>&quot;17.8&quot;</td><td>&quot;181&quot;</td><td>&quot;3625&quot;</td><td>&quot;female&quot;</td><td>2007</td></tr><tr><td>8</td><td>&quot;Adelie&quot;</td><td>&quot;Torgersen&quot;</td><td>&quot;39.2&quot;</td><td>&quot;19.6&quot;</td><td>&quot;195&quot;</td><td>&quot;4675&quot;</td><td>&quot;male&quot;</td><td>2007</td></tr><tr><td>9</td><td>&quot;Adelie&quot;</td><td>&quot;Torgersen&quot;</td><td>&quot;34.1&quot;</td><td>&quot;18.1&quot;</td><td>&quot;193&quot;</td><td>&quot;3475&quot;</td><td>&quot;NA&quot;</td><td>2007</td></tr><tr><td>10</td><td>&quot;Adelie&quot;</td><td>&quot;Torgersen&quot;</td><td>&quot;42&quot;</td><td>&quot;20.2&quot;</td><td>&quot;190&quot;</td><td>&quot;4250&quot;</td><td>&quot;NA&quot;</td><td>2007</td></tr><tr><td>11</td><td>&quot;Adelie&quot;</td><td>&quot;Torgersen&quot;</td><td>&quot;37.8&quot;</td><td>&quot;17.1&quot;</td><td>&quot;186&quot;</td><td>&quot;3300&quot;</td><td>&quot;NA&quot;</td><td>2007</td></tr><tr><td>12</td><td>&quot;Adelie&quot;</td><td>&quot;Torgersen&quot;</td><td>&quot;37.8&quot;</td><td>&quot;17.3&quot;</td><td>&quot;180&quot;</td><td>&quot;3700&quot;</td><td>&quot;NA&quot;</td><td>2007</td></tr><tr><td>&hellip;</td><td>&hellip;</td><td>&hellip;</td><td>&hellip;</td><td>&hellip;</td><td>&hellip;</td><td>&hellip;</td><td>&hellip;</td><td>&hellip;</td></tr><tr><td>333</td><td>&quot;Chinstrap&quot;</td><td>&quot;Dream&quot;</td><td>&quot;45.2&quot;</td><td>&quot;16.6&quot;</td><td>&quot;191&quot;</td><td>&quot;3250&quot;</td><td>&quot;female&quot;</td><td>2009</td></tr><tr><td>334</td><td>&quot;Chinstrap&quot;</td><td>&quot;Dream&quot;</td><td>&quot;49.3&quot;</td><td>&quot;19.9&quot;</td><td>&quot;203&quot;</td><td>&quot;4050&quot;</td><td>&quot;male&quot;</td><td>2009</td></tr><tr><td>335</td><td>&quot;Chinstrap&quot;</td><td>&quot;Dream&quot;</td><td>&quot;50.2&quot;</td><td>&quot;18.8&quot;</td><td>&quot;202&quot;</td><td>&quot;3800&quot;</td><td>&quot;male&quot;</td><td>2009</td></tr><tr><td>336</td><td>&quot;Chinstrap&quot;</td><td>&quot;Dream&quot;</td><td>&quot;45.6&quot;</td><td>&quot;19.4&quot;</td><td>&quot;194&quot;</td><td>&quot;3525&quot;</td><td>&quot;female&quot;</td><td>2009</td></tr><tr><td>337</td><td>&quot;Chinstrap&quot;</td><td>&quot;Dream&quot;</td><td>&quot;51.9&quot;</td><td>&quot;19.5&quot;</td><td>&quot;206&quot;</td><td>&quot;3950&quot;</td><td>&quot;male&quot;</td><td>2009</td></tr><tr><td>338</td><td>&quot;Chinstrap&quot;</td><td>&quot;Dream&quot;</td><td>&quot;46.8&quot;</td><td>&quot;16.5&quot;</td><td>&quot;189&quot;</td><td>&quot;3650&quot;</td><td>&quot;female&quot;</td><td>2009</td></tr><tr><td>339</td><td>&quot;Chinstrap&quot;</td><td>&quot;Dream&quot;</td><td>&quot;45.7&quot;</td><td>&quot;17&quot;</td><td>&quot;195&quot;</td><td>&quot;3650&quot;</td><td>&quot;female&quot;</td><td>2009</td></tr><tr><td>340</td><td>&quot;Chinstrap&quot;</td><td>&quot;Dream&quot;</td><td>&quot;55.8&quot;</td><td>&quot;19.8&quot;</td><td>&quot;207&quot;</td><td>&quot;4000&quot;</td><td>&quot;male&quot;</td><td>2009</td></tr><tr><td>341</td><td>&quot;Chinstrap&quot;</td><td>&quot;Dream&quot;</td><td>&quot;43.5&quot;</td><td>&quot;18.1&quot;</td><td>&quot;202&quot;</td><td>&quot;3400&quot;</td><td>&quot;female&quot;</td><td>2009</td></tr><tr><td>342</td><td>&quot;Chinstrap&quot;</td><td>&quot;Dream&quot;</td><td>&quot;49.6&quot;</td><td>&quot;18.2&quot;</td><td>&quot;193&quot;</td><td>&quot;3775&quot;</td><td>&quot;male&quot;</td><td>2009</td></tr><tr><td>343</td><td>&quot;Chinstrap&quot;</td><td>&quot;Dream&quot;</td><td>&quot;50.8&quot;</td><td>&quot;19&quot;</td><td>&quot;210&quot;</td><td>&quot;4100&quot;</td><td>&quot;male&quot;</td><td>2009</td></tr><tr><td>344</td><td>&quot;Chinstrap&quot;</td><td>&quot;Dream&quot;</td><td>&quot;50.2&quot;</td><td>&quot;18.7&quot;</td><td>&quot;198&quot;</td><td>&quot;3775&quot;</td><td>&quot;female&quot;</td><td>2009</td></tr></tbody></table></div>"
      ],
      "text/plain": [
       "shape: (344, 9)\n",
       "┌───────┬───────────┬───────────┬────────────────┬───┬───────────────┬─────────────┬────────┬──────┐\n",
       "│ rowid ┆ species   ┆ island    ┆ bill_length_mm ┆ … ┆ flipper_lengt ┆ body_mass_g ┆ sex    ┆ year │\n",
       "│ ---   ┆ ---       ┆ ---       ┆ ---            ┆   ┆ h_mm          ┆ ---         ┆ ---    ┆ ---  │\n",
       "│ i64   ┆ str       ┆ str       ┆ str            ┆   ┆ ---           ┆ str         ┆ str    ┆ i64  │\n",
       "│       ┆           ┆           ┆                ┆   ┆ str           ┆             ┆        ┆      │\n",
       "╞═══════╪═══════════╪═══════════╪════════════════╪═══╪═══════════════╪═════════════╪════════╪══════╡\n",
       "│ 1     ┆ Adelie    ┆ Torgersen ┆ 39.1           ┆ … ┆ 181           ┆ 3750        ┆ male   ┆ 2007 │\n",
       "│ 2     ┆ Adelie    ┆ Torgersen ┆ 39.5           ┆ … ┆ 186           ┆ 3800        ┆ female ┆ 2007 │\n",
       "│ 3     ┆ Adelie    ┆ Torgersen ┆ 40.3           ┆ … ┆ 195           ┆ 3250        ┆ female ┆ 2007 │\n",
       "│ 4     ┆ Adelie    ┆ Torgersen ┆ NA             ┆ … ┆ NA            ┆ NA          ┆ NA     ┆ 2007 │\n",
       "│ 5     ┆ Adelie    ┆ Torgersen ┆ 36.7           ┆ … ┆ 193           ┆ 3450        ┆ female ┆ 2007 │\n",
       "│ …     ┆ …         ┆ …         ┆ …              ┆ … ┆ …             ┆ …           ┆ …      ┆ …    │\n",
       "│ 340   ┆ Chinstrap ┆ Dream     ┆ 55.8           ┆ … ┆ 207           ┆ 4000        ┆ male   ┆ 2009 │\n",
       "│ 341   ┆ Chinstrap ┆ Dream     ┆ 43.5           ┆ … ┆ 202           ┆ 3400        ┆ female ┆ 2009 │\n",
       "│ 342   ┆ Chinstrap ┆ Dream     ┆ 49.6           ┆ … ┆ 193           ┆ 3775        ┆ male   ┆ 2009 │\n",
       "│ 343   ┆ Chinstrap ┆ Dream     ┆ 50.8           ┆ … ┆ 210           ┆ 4100        ┆ male   ┆ 2009 │\n",
       "│ 344   ┆ Chinstrap ┆ Dream     ┆ 50.2           ┆ … ┆ 198           ┆ 3775        ┆ female ┆ 2009 │\n",
       "└───────┴───────────┴───────────┴────────────────┴───┴───────────────┴─────────────┴────────┴──────┘"
      ]
     },
     "execution_count": 2,
     "metadata": {},
     "output_type": "execute_result"
    }
   ],
   "source": [
    "penguins = pl.read_csv(\"data/penguins.csv\")\n",
    "penguins"
   ]
  },
  {
   "cell_type": "markdown",
   "id": "74b65464",
   "metadata": {},
   "source": [
    "## Parsing Missing Values Correctly"
   ]
  },
  {
   "cell_type": "code",
   "execution_count": 5,
   "id": "b49377a5",
   "metadata": {},
   "outputs": [
    {
     "data": {
      "text/html": [
       "<div><style>\n",
       ".dataframe > thead > tr,\n",
       ".dataframe > tbody > tr {\n",
       "  text-align: right;\n",
       "  white-space: pre-wrap;\n",
       "}\n",
       "</style>\n",
       "<small>shape: (344, 9)</small><table border=\"1\" class=\"dataframe\"><thead><tr><th>rowid</th><th>species</th><th>island</th><th>bill_length_mm</th><th>bill_depth_mm</th><th>flipper_length_mm</th><th>body_mass_g</th><th>sex</th><th>year</th></tr><tr><td>i64</td><td>str</td><td>str</td><td>f64</td><td>f64</td><td>i64</td><td>i64</td><td>str</td><td>i64</td></tr></thead><tbody><tr><td>1</td><td>&quot;Adelie&quot;</td><td>&quot;Torgersen&quot;</td><td>39.1</td><td>18.7</td><td>181</td><td>3750</td><td>&quot;male&quot;</td><td>2007</td></tr><tr><td>2</td><td>&quot;Adelie&quot;</td><td>&quot;Torgersen&quot;</td><td>39.5</td><td>17.4</td><td>186</td><td>3800</td><td>&quot;female&quot;</td><td>2007</td></tr><tr><td>3</td><td>&quot;Adelie&quot;</td><td>&quot;Torgersen&quot;</td><td>40.3</td><td>18.0</td><td>195</td><td>3250</td><td>&quot;female&quot;</td><td>2007</td></tr><tr><td>4</td><td>&quot;Adelie&quot;</td><td>&quot;Torgersen&quot;</td><td>null</td><td>null</td><td>null</td><td>null</td><td>null</td><td>2007</td></tr><tr><td>5</td><td>&quot;Adelie&quot;</td><td>&quot;Torgersen&quot;</td><td>36.7</td><td>19.3</td><td>193</td><td>3450</td><td>&quot;female&quot;</td><td>2007</td></tr><tr><td>6</td><td>&quot;Adelie&quot;</td><td>&quot;Torgersen&quot;</td><td>39.3</td><td>20.6</td><td>190</td><td>3650</td><td>&quot;male&quot;</td><td>2007</td></tr><tr><td>7</td><td>&quot;Adelie&quot;</td><td>&quot;Torgersen&quot;</td><td>38.9</td><td>17.8</td><td>181</td><td>3625</td><td>&quot;female&quot;</td><td>2007</td></tr><tr><td>8</td><td>&quot;Adelie&quot;</td><td>&quot;Torgersen&quot;</td><td>39.2</td><td>19.6</td><td>195</td><td>4675</td><td>&quot;male&quot;</td><td>2007</td></tr><tr><td>9</td><td>&quot;Adelie&quot;</td><td>&quot;Torgersen&quot;</td><td>34.1</td><td>18.1</td><td>193</td><td>3475</td><td>null</td><td>2007</td></tr><tr><td>10</td><td>&quot;Adelie&quot;</td><td>&quot;Torgersen&quot;</td><td>42.0</td><td>20.2</td><td>190</td><td>4250</td><td>null</td><td>2007</td></tr><tr><td>11</td><td>&quot;Adelie&quot;</td><td>&quot;Torgersen&quot;</td><td>37.8</td><td>17.1</td><td>186</td><td>3300</td><td>null</td><td>2007</td></tr><tr><td>12</td><td>&quot;Adelie&quot;</td><td>&quot;Torgersen&quot;</td><td>37.8</td><td>17.3</td><td>180</td><td>3700</td><td>null</td><td>2007</td></tr><tr><td>&hellip;</td><td>&hellip;</td><td>&hellip;</td><td>&hellip;</td><td>&hellip;</td><td>&hellip;</td><td>&hellip;</td><td>&hellip;</td><td>&hellip;</td></tr><tr><td>333</td><td>&quot;Chinstrap&quot;</td><td>&quot;Dream&quot;</td><td>45.2</td><td>16.6</td><td>191</td><td>3250</td><td>&quot;female&quot;</td><td>2009</td></tr><tr><td>334</td><td>&quot;Chinstrap&quot;</td><td>&quot;Dream&quot;</td><td>49.3</td><td>19.9</td><td>203</td><td>4050</td><td>&quot;male&quot;</td><td>2009</td></tr><tr><td>335</td><td>&quot;Chinstrap&quot;</td><td>&quot;Dream&quot;</td><td>50.2</td><td>18.8</td><td>202</td><td>3800</td><td>&quot;male&quot;</td><td>2009</td></tr><tr><td>336</td><td>&quot;Chinstrap&quot;</td><td>&quot;Dream&quot;</td><td>45.6</td><td>19.4</td><td>194</td><td>3525</td><td>&quot;female&quot;</td><td>2009</td></tr><tr><td>337</td><td>&quot;Chinstrap&quot;</td><td>&quot;Dream&quot;</td><td>51.9</td><td>19.5</td><td>206</td><td>3950</td><td>&quot;male&quot;</td><td>2009</td></tr><tr><td>338</td><td>&quot;Chinstrap&quot;</td><td>&quot;Dream&quot;</td><td>46.8</td><td>16.5</td><td>189</td><td>3650</td><td>&quot;female&quot;</td><td>2009</td></tr><tr><td>339</td><td>&quot;Chinstrap&quot;</td><td>&quot;Dream&quot;</td><td>45.7</td><td>17.0</td><td>195</td><td>3650</td><td>&quot;female&quot;</td><td>2009</td></tr><tr><td>340</td><td>&quot;Chinstrap&quot;</td><td>&quot;Dream&quot;</td><td>55.8</td><td>19.8</td><td>207</td><td>4000</td><td>&quot;male&quot;</td><td>2009</td></tr><tr><td>341</td><td>&quot;Chinstrap&quot;</td><td>&quot;Dream&quot;</td><td>43.5</td><td>18.1</td><td>202</td><td>3400</td><td>&quot;female&quot;</td><td>2009</td></tr><tr><td>342</td><td>&quot;Chinstrap&quot;</td><td>&quot;Dream&quot;</td><td>49.6</td><td>18.2</td><td>193</td><td>3775</td><td>&quot;male&quot;</td><td>2009</td></tr><tr><td>343</td><td>&quot;Chinstrap&quot;</td><td>&quot;Dream&quot;</td><td>50.8</td><td>19.0</td><td>210</td><td>4100</td><td>&quot;male&quot;</td><td>2009</td></tr><tr><td>344</td><td>&quot;Chinstrap&quot;</td><td>&quot;Dream&quot;</td><td>50.2</td><td>18.7</td><td>198</td><td>3775</td><td>&quot;female&quot;</td><td>2009</td></tr></tbody></table></div>"
      ],
      "text/plain": [
       "shape: (344, 9)\n",
       "┌───────┬───────────┬───────────┬────────────────┬───┬───────────────┬─────────────┬────────┬──────┐\n",
       "│ rowid ┆ species   ┆ island    ┆ bill_length_mm ┆ … ┆ flipper_lengt ┆ body_mass_g ┆ sex    ┆ year │\n",
       "│ ---   ┆ ---       ┆ ---       ┆ ---            ┆   ┆ h_mm          ┆ ---         ┆ ---    ┆ ---  │\n",
       "│ i64   ┆ str       ┆ str       ┆ f64            ┆   ┆ ---           ┆ i64         ┆ str    ┆ i64  │\n",
       "│       ┆           ┆           ┆                ┆   ┆ i64           ┆             ┆        ┆      │\n",
       "╞═══════╪═══════════╪═══════════╪════════════════╪═══╪═══════════════╪═════════════╪════════╪══════╡\n",
       "│ 1     ┆ Adelie    ┆ Torgersen ┆ 39.1           ┆ … ┆ 181           ┆ 3750        ┆ male   ┆ 2007 │\n",
       "│ 2     ┆ Adelie    ┆ Torgersen ┆ 39.5           ┆ … ┆ 186           ┆ 3800        ┆ female ┆ 2007 │\n",
       "│ 3     ┆ Adelie    ┆ Torgersen ┆ 40.3           ┆ … ┆ 195           ┆ 3250        ┆ female ┆ 2007 │\n",
       "│ 4     ┆ Adelie    ┆ Torgersen ┆ null           ┆ … ┆ null          ┆ null        ┆ null   ┆ 2007 │\n",
       "│ 5     ┆ Adelie    ┆ Torgersen ┆ 36.7           ┆ … ┆ 193           ┆ 3450        ┆ female ┆ 2007 │\n",
       "│ …     ┆ …         ┆ …         ┆ …              ┆ … ┆ …             ┆ …           ┆ …      ┆ …    │\n",
       "│ 340   ┆ Chinstrap ┆ Dream     ┆ 55.8           ┆ … ┆ 207           ┆ 4000        ┆ male   ┆ 2009 │\n",
       "│ 341   ┆ Chinstrap ┆ Dream     ┆ 43.5           ┆ … ┆ 202           ┆ 3400        ┆ female ┆ 2009 │\n",
       "│ 342   ┆ Chinstrap ┆ Dream     ┆ 49.6           ┆ … ┆ 193           ┆ 3775        ┆ male   ┆ 2009 │\n",
       "│ 343   ┆ Chinstrap ┆ Dream     ┆ 50.8           ┆ … ┆ 210           ┆ 4100        ┆ male   ┆ 2009 │\n",
       "│ 344   ┆ Chinstrap ┆ Dream     ┆ 50.2           ┆ … ┆ 198           ┆ 3775        ┆ female ┆ 2009 │\n",
       "└───────┴───────────┴───────────┴────────────────┴───┴───────────────┴─────────────┴────────┴──────┘"
      ]
     },
     "execution_count": 3,
     "metadata": {},
     "output_type": "execute_result"
    }
   ],
   "source": [
    "penguins = pl.read_csv(\"data/penguins.csv\", null_values=\"NA\")\n",
    "penguins"
   ]
  },
  {
   "cell_type": "code",
   "execution_count": 6,
   "id": "5ff85bb4",
   "metadata": {},
   "outputs": [
    {
     "data": {
      "text/html": [
       "<div><style>\n",
       ".dataframe > thead > tr,\n",
       ".dataframe > tbody > tr {\n",
       "  text-align: right;\n",
       "  white-space: pre-wrap;\n",
       "}\n",
       "</style>\n",
       "<small>shape: (9, 2)</small><table border=\"1\" class=\"dataframe\"><thead><tr><th>column</th><th>null_count</th></tr><tr><td>str</td><td>u32</td></tr></thead><tbody><tr><td>&quot;rowid&quot;</td><td>0</td></tr><tr><td>&quot;species&quot;</td><td>0</td></tr><tr><td>&quot;island&quot;</td><td>0</td></tr><tr><td>&quot;bill_length_mm…</td><td>2</td></tr><tr><td>&quot;bill_depth_mm&quot;</td><td>2</td></tr><tr><td>&quot;flipper_length…</td><td>2</td></tr><tr><td>&quot;body_mass_g&quot;</td><td>2</td></tr><tr><td>&quot;sex&quot;</td><td>11</td></tr><tr><td>&quot;year&quot;</td><td>0</td></tr></tbody></table></div>"
      ],
      "text/plain": [
       "shape: (9, 2)\n",
       "┌───────────────────┬────────────┐\n",
       "│ column            ┆ null_count │\n",
       "│ ---               ┆ ---        │\n",
       "│ str               ┆ u32        │\n",
       "╞═══════════════════╪════════════╡\n",
       "│ rowid             ┆ 0          │\n",
       "│ species           ┆ 0          │\n",
       "│ island            ┆ 0          │\n",
       "│ bill_length_mm    ┆ 2          │\n",
       "│ bill_depth_mm     ┆ 2          │\n",
       "│ flipper_length_mm ┆ 2          │\n",
       "│ body_mass_g       ┆ 2          │\n",
       "│ sex               ┆ 11         │\n",
       "│ year              ┆ 0          │\n",
       "└───────────────────┴────────────┘"
      ]
     },
     "execution_count": 4,
     "metadata": {},
     "output_type": "execute_result"
    }
   ],
   "source": [
    "(\n",
    "    penguins\n",
    "    .null_count()\n",
    "    .transpose(include_header=True, column_names=[\"null_count\"]) # <1>\n",
    ")"
   ]
  },
  {
   "cell_type": "markdown",
   "id": "7a2596ad",
   "metadata": {},
   "source": [
    "## Reading Files with Encodings Other than UTF-8"
   ]
  },
  {
   "cell_type": "code",
   "execution_count": 8,
   "id": "15b522b0",
   "metadata": {},
   "outputs": [
    {
     "ename": "ComputeError",
     "evalue": "could not parse `����` as dtype `str` at column 'name' (column number 1)\n\nThe current offset in the file is 19 bytes.\n\nYou might want to try:\n- increasing `infer_schema_length` (e.g. `infer_schema_length=10000`),\n- specifying correct dtype with the `dtypes` argument\n- setting `ignore_errors` to `True`,\n- adding `����` to the `null_values` list.\n\nOriginal error: ```invalid utf-8 sequence```",
     "output_type": "error",
     "traceback": [
      "\u001b[0;31m---------------------------------------------------------------------------\u001b[0m",
      "\u001b[0;31mComputeError\u001b[0m                              Traceback (most recent call last)",
      "\u001b[0;32m/var/folders/3d/ldmd42_x7zx8d8xqy0fkhmgc0000gn/T/ipykernel_46303/1277300006.py\u001b[0m in \u001b[0;36m?\u001b[0;34m()\u001b[0m\n\u001b[0;32m----> 1\u001b[0;31m \u001b[0mpl\u001b[0m\u001b[0;34m.\u001b[0m\u001b[0mread_csv\u001b[0m\u001b[0;34m(\u001b[0m\u001b[0;34m\"data/directors.csv\"\u001b[0m\u001b[0;34m)\u001b[0m\u001b[0;34m\u001b[0m\u001b[0;34m\u001b[0m\u001b[0m\n\u001b[0m",
      "\u001b[0;32m~/Library/Caches/pypoetry/virtualenvs/python-polars-the-definitive-guide-b_q50VVY-py3.11/lib/python3.11/site-packages/polars/utils/deprecation.py\u001b[0m in \u001b[0;36m?\u001b[0;34m(*args, **kwargs)\u001b[0m\n\u001b[1;32m    132\u001b[0m         \u001b[0;32mdef\u001b[0m \u001b[0mwrapper\u001b[0m\u001b[0;34m(\u001b[0m\u001b[0;34m*\u001b[0m\u001b[0margs\u001b[0m\u001b[0;34m:\u001b[0m \u001b[0mP\u001b[0m\u001b[0;34m.\u001b[0m\u001b[0margs\u001b[0m\u001b[0;34m,\u001b[0m \u001b[0;34m**\u001b[0m\u001b[0mkwargs\u001b[0m\u001b[0;34m:\u001b[0m \u001b[0mP\u001b[0m\u001b[0;34m.\u001b[0m\u001b[0mkwargs\u001b[0m\u001b[0;34m)\u001b[0m \u001b[0;34m->\u001b[0m \u001b[0mT\u001b[0m\u001b[0;34m:\u001b[0m\u001b[0;34m\u001b[0m\u001b[0;34m\u001b[0m\u001b[0m\n\u001b[1;32m    133\u001b[0m             _rename_keyword_argument(\n\u001b[1;32m    134\u001b[0m                 \u001b[0mold_name\u001b[0m\u001b[0;34m,\u001b[0m \u001b[0mnew_name\u001b[0m\u001b[0;34m,\u001b[0m \u001b[0mkwargs\u001b[0m\u001b[0;34m,\u001b[0m \u001b[0mfunction\u001b[0m\u001b[0;34m.\u001b[0m\u001b[0m__name__\u001b[0m\u001b[0;34m,\u001b[0m \u001b[0mversion\u001b[0m\u001b[0;34m\u001b[0m\u001b[0;34m\u001b[0m\u001b[0m\n\u001b[1;32m    135\u001b[0m             )\n\u001b[0;32m--> 136\u001b[0;31m             \u001b[0;32mreturn\u001b[0m \u001b[0mfunction\u001b[0m\u001b[0;34m(\u001b[0m\u001b[0;34m*\u001b[0m\u001b[0margs\u001b[0m\u001b[0;34m,\u001b[0m \u001b[0;34m**\u001b[0m\u001b[0mkwargs\u001b[0m\u001b[0;34m)\u001b[0m\u001b[0;34m\u001b[0m\u001b[0;34m\u001b[0m\u001b[0m\n\u001b[0m",
      "\u001b[0;32m~/Library/Caches/pypoetry/virtualenvs/python-polars-the-definitive-guide-b_q50VVY-py3.11/lib/python3.11/site-packages/polars/utils/deprecation.py\u001b[0m in \u001b[0;36m?\u001b[0;34m(*args, **kwargs)\u001b[0m\n\u001b[1;32m    132\u001b[0m         \u001b[0;32mdef\u001b[0m \u001b[0mwrapper\u001b[0m\u001b[0;34m(\u001b[0m\u001b[0;34m*\u001b[0m\u001b[0margs\u001b[0m\u001b[0;34m:\u001b[0m \u001b[0mP\u001b[0m\u001b[0;34m.\u001b[0m\u001b[0margs\u001b[0m\u001b[0;34m,\u001b[0m \u001b[0;34m**\u001b[0m\u001b[0mkwargs\u001b[0m\u001b[0;34m:\u001b[0m \u001b[0mP\u001b[0m\u001b[0;34m.\u001b[0m\u001b[0mkwargs\u001b[0m\u001b[0;34m)\u001b[0m \u001b[0;34m->\u001b[0m \u001b[0mT\u001b[0m\u001b[0;34m:\u001b[0m\u001b[0;34m\u001b[0m\u001b[0;34m\u001b[0m\u001b[0m\n\u001b[1;32m    133\u001b[0m             _rename_keyword_argument(\n\u001b[1;32m    134\u001b[0m                 \u001b[0mold_name\u001b[0m\u001b[0;34m,\u001b[0m \u001b[0mnew_name\u001b[0m\u001b[0;34m,\u001b[0m \u001b[0mkwargs\u001b[0m\u001b[0;34m,\u001b[0m \u001b[0mfunction\u001b[0m\u001b[0;34m.\u001b[0m\u001b[0m__name__\u001b[0m\u001b[0;34m,\u001b[0m \u001b[0mversion\u001b[0m\u001b[0;34m\u001b[0m\u001b[0;34m\u001b[0m\u001b[0m\n\u001b[1;32m    135\u001b[0m             )\n\u001b[0;32m--> 136\u001b[0;31m             \u001b[0;32mreturn\u001b[0m \u001b[0mfunction\u001b[0m\u001b[0;34m(\u001b[0m\u001b[0;34m*\u001b[0m\u001b[0margs\u001b[0m\u001b[0;34m,\u001b[0m \u001b[0;34m**\u001b[0m\u001b[0mkwargs\u001b[0m\u001b[0;34m)\u001b[0m\u001b[0;34m\u001b[0m\u001b[0;34m\u001b[0m\u001b[0m\n\u001b[0m",
      "\u001b[0;32m~/Library/Caches/pypoetry/virtualenvs/python-polars-the-definitive-guide-b_q50VVY-py3.11/lib/python3.11/site-packages/polars/utils/deprecation.py\u001b[0m in \u001b[0;36m?\u001b[0;34m(*args, **kwargs)\u001b[0m\n\u001b[1;32m    132\u001b[0m         \u001b[0;32mdef\u001b[0m \u001b[0mwrapper\u001b[0m\u001b[0;34m(\u001b[0m\u001b[0;34m*\u001b[0m\u001b[0margs\u001b[0m\u001b[0;34m:\u001b[0m \u001b[0mP\u001b[0m\u001b[0;34m.\u001b[0m\u001b[0margs\u001b[0m\u001b[0;34m,\u001b[0m \u001b[0;34m**\u001b[0m\u001b[0mkwargs\u001b[0m\u001b[0;34m:\u001b[0m \u001b[0mP\u001b[0m\u001b[0;34m.\u001b[0m\u001b[0mkwargs\u001b[0m\u001b[0;34m)\u001b[0m \u001b[0;34m->\u001b[0m \u001b[0mT\u001b[0m\u001b[0;34m:\u001b[0m\u001b[0;34m\u001b[0m\u001b[0;34m\u001b[0m\u001b[0m\n\u001b[1;32m    133\u001b[0m             _rename_keyword_argument(\n\u001b[1;32m    134\u001b[0m                 \u001b[0mold_name\u001b[0m\u001b[0;34m,\u001b[0m \u001b[0mnew_name\u001b[0m\u001b[0;34m,\u001b[0m \u001b[0mkwargs\u001b[0m\u001b[0;34m,\u001b[0m \u001b[0mfunction\u001b[0m\u001b[0;34m.\u001b[0m\u001b[0m__name__\u001b[0m\u001b[0;34m,\u001b[0m \u001b[0mversion\u001b[0m\u001b[0;34m\u001b[0m\u001b[0;34m\u001b[0m\u001b[0m\n\u001b[1;32m    135\u001b[0m             )\n\u001b[0;32m--> 136\u001b[0;31m             \u001b[0;32mreturn\u001b[0m \u001b[0mfunction\u001b[0m\u001b[0;34m(\u001b[0m\u001b[0;34m*\u001b[0m\u001b[0margs\u001b[0m\u001b[0;34m,\u001b[0m \u001b[0;34m**\u001b[0m\u001b[0mkwargs\u001b[0m\u001b[0;34m)\u001b[0m\u001b[0;34m\u001b[0m\u001b[0;34m\u001b[0m\u001b[0m\n\u001b[0m",
      "\u001b[0;32m~/Library/Caches/pypoetry/virtualenvs/python-polars-the-definitive-guide-b_q50VVY-py3.11/lib/python3.11/site-packages/polars/io/csv/functions.py\u001b[0m in \u001b[0;36m?\u001b[0;34m(source, has_header, columns, new_columns, separator, comment_prefix, quote_char, skip_rows, dtypes, schema, null_values, missing_utf8_is_empty_string, ignore_errors, try_parse_dates, n_threads, infer_schema_length, batch_size, n_rows, encoding, low_memory, rechunk, use_pyarrow, storage_options, skip_rows_after_header, row_index_name, row_index_offset, sample_size, eol_char, raise_if_empty, truncate_ragged_lines)\u001b[0m\n\u001b[1;32m    393\u001b[0m         \u001b[0muse_pyarrow\u001b[0m\u001b[0;34m=\u001b[0m\u001b[0;32mFalse\u001b[0m\u001b[0;34m,\u001b[0m\u001b[0;34m\u001b[0m\u001b[0;34m\u001b[0m\u001b[0m\n\u001b[1;32m    394\u001b[0m         \u001b[0mraise_if_empty\u001b[0m\u001b[0;34m=\u001b[0m\u001b[0mraise_if_empty\u001b[0m\u001b[0;34m,\u001b[0m\u001b[0;34m\u001b[0m\u001b[0;34m\u001b[0m\u001b[0m\n\u001b[1;32m    395\u001b[0m         \u001b[0mstorage_options\u001b[0m\u001b[0;34m=\u001b[0m\u001b[0mstorage_options\u001b[0m\u001b[0;34m,\u001b[0m\u001b[0;34m\u001b[0m\u001b[0;34m\u001b[0m\u001b[0m\n\u001b[1;32m    396\u001b[0m     ) as data:\n\u001b[0;32m--> 397\u001b[0;31m         df = pl.DataFrame._read_csv(\n\u001b[0m\u001b[1;32m    398\u001b[0m             \u001b[0mdata\u001b[0m\u001b[0;34m,\u001b[0m\u001b[0;34m\u001b[0m\u001b[0;34m\u001b[0m\u001b[0m\n\u001b[1;32m    399\u001b[0m             \u001b[0mhas_header\u001b[0m\u001b[0;34m=\u001b[0m\u001b[0mhas_header\u001b[0m\u001b[0;34m,\u001b[0m\u001b[0;34m\u001b[0m\u001b[0;34m\u001b[0m\u001b[0m\n\u001b[1;32m    400\u001b[0m             \u001b[0mcolumns\u001b[0m\u001b[0;34m=\u001b[0m\u001b[0mcolumns\u001b[0m \u001b[0;32mif\u001b[0m \u001b[0mcolumns\u001b[0m \u001b[0;32melse\u001b[0m \u001b[0mprojection\u001b[0m\u001b[0;34m,\u001b[0m\u001b[0;34m\u001b[0m\u001b[0;34m\u001b[0m\u001b[0m\n",
      "\u001b[0;32m~/Library/Caches/pypoetry/virtualenvs/python-polars-the-definitive-guide-b_q50VVY-py3.11/lib/python3.11/site-packages/polars/dataframe/frame.py\u001b[0m in \u001b[0;36m?\u001b[0;34m(cls, source, has_header, columns, separator, comment_prefix, quote_char, skip_rows, dtypes, schema, null_values, missing_utf8_is_empty_string, ignore_errors, try_parse_dates, n_threads, infer_schema_length, batch_size, n_rows, encoding, low_memory, rechunk, skip_rows_after_header, row_index_name, row_index_offset, sample_size, eol_char, raise_if_empty, truncate_ragged_lines)\u001b[0m\n\u001b[1;32m    763\u001b[0m                 \u001b[0;32mraise\u001b[0m \u001b[0mValueError\u001b[0m\u001b[0;34m(\u001b[0m\u001b[0mmsg\u001b[0m\u001b[0;34m)\u001b[0m\u001b[0;34m\u001b[0m\u001b[0;34m\u001b[0m\u001b[0m\n\u001b[1;32m    764\u001b[0m \u001b[0;34m\u001b[0m\u001b[0m\n\u001b[1;32m    765\u001b[0m         \u001b[0mprojection\u001b[0m\u001b[0;34m,\u001b[0m \u001b[0mcolumns\u001b[0m \u001b[0;34m=\u001b[0m \u001b[0mhandle_projection_columns\u001b[0m\u001b[0;34m(\u001b[0m\u001b[0mcolumns\u001b[0m\u001b[0;34m)\u001b[0m\u001b[0;34m\u001b[0m\u001b[0;34m\u001b[0m\u001b[0m\n\u001b[1;32m    766\u001b[0m \u001b[0;34m\u001b[0m\u001b[0m\n\u001b[0;32m--> 767\u001b[0;31m         self._df = PyDataFrame.read_csv(\n\u001b[0m\u001b[1;32m    768\u001b[0m             \u001b[0msource\u001b[0m\u001b[0;34m,\u001b[0m\u001b[0;34m\u001b[0m\u001b[0;34m\u001b[0m\u001b[0m\n\u001b[1;32m    769\u001b[0m             \u001b[0minfer_schema_length\u001b[0m\u001b[0;34m,\u001b[0m\u001b[0;34m\u001b[0m\u001b[0;34m\u001b[0m\u001b[0m\n\u001b[1;32m    770\u001b[0m             \u001b[0mbatch_size\u001b[0m\u001b[0;34m,\u001b[0m\u001b[0;34m\u001b[0m\u001b[0;34m\u001b[0m\u001b[0m\n",
      "\u001b[0;31mComputeError\u001b[0m: could not parse `����` as dtype `str` at column 'name' (column number 1)\n\nThe current offset in the file is 19 bytes.\n\nYou might want to try:\n- increasing `infer_schema_length` (e.g. `infer_schema_length=10000`),\n- specifying correct dtype with the `dtypes` argument\n- setting `ignore_errors` to `True`,\n- adding `����` to the `null_values` list.\n\nOriginal error: ```invalid utf-8 sequence```"
     ]
    }
   ],
   "source": [
    "pl.read_csv(\"data/directors.csv\")"
   ]
  },
  {
   "cell_type": "code",
   "execution_count": 9,
   "id": "70fa133d",
   "metadata": {},
   "outputs": [
    {
     "data": {
      "text/html": [
       "<div><style>\n",
       ".dataframe > thead > tr,\n",
       ".dataframe > tbody > tr {\n",
       "  text-align: right;\n",
       "  white-space: pre-wrap;\n",
       "}\n",
       "</style>\n",
       "<small>shape: (4, 3)</small><table border=\"1\" class=\"dataframe\"><thead><tr><th>name</th><th>born</th><th>country</th></tr><tr><td>str</td><td>i64</td><td>str</td></tr></thead><tbody><tr><td>&quot;考侯&quot;</td><td>1930</td><td>&quot;泣塑&quot;</td></tr><tr><td>&quot;Verhoeven&quot;</td><td>1938</td><td>&quot;オランダ&quot;</td></tr><tr><td>&quot;弟宏&quot;</td><td>1942</td><td>&quot;泣塑&quot;</td></tr><tr><td>&quot;Tarantino&quot;</td><td>1963</td><td>&quot;势柜&quot;</td></tr></tbody></table></div>"
      ],
      "text/plain": [
       "shape: (4, 3)\n",
       "┌───────────┬──────┬──────────┐\n",
       "│ name      ┆ born ┆ country  │\n",
       "│ ---       ┆ ---  ┆ ---      │\n",
       "│ str       ┆ i64  ┆ str      │\n",
       "╞═══════════╪══════╪══════════╡\n",
       "│ 考侯      ┆ 1930 ┆ 泣塑     │\n",
       "│ Verhoeven ┆ 1938 ┆ オランダ │\n",
       "│ 弟宏      ┆ 1942 ┆ 泣塑     │\n",
       "│ Tarantino ┆ 1963 ┆ 势柜     │\n",
       "└───────────┴──────┴──────────┘"
      ]
     },
     "execution_count": 6,
     "metadata": {},
     "output_type": "execute_result"
    }
   ],
   "source": [
    "pl.read_csv(\"data/directors.csv\", encoding=\"EUC-CN\")"
   ]
  },
  {
   "cell_type": "code",
   "execution_count": 10,
   "id": "d0381d7f",
   "metadata": {},
   "outputs": [
    {
     "data": {
      "text/plain": [
       "'EUC-JP'"
      ]
     },
     "execution_count": 7,
     "metadata": {},
     "output_type": "execute_result"
    }
   ],
   "source": [
    "import chardet\n",
    "\n",
    "def detect_encoding(filename: str) -> str:\n",
    "    \"\"\"Return the most probable character encoding for a file.\"\"\"\n",
    "\n",
    "    with open(filename, \"rb\") as f:\n",
    "        raw_data = f.read()\n",
    "        result = chardet.detect(raw_data)\n",
    "        return result[\"encoding\"]\n",
    "\n",
    "\n",
    "detect_encoding(\"data/directors.csv\")"
   ]
  },
  {
   "cell_type": "code",
   "execution_count": 11,
   "id": "a91d2421",
   "metadata": {},
   "outputs": [
    {
     "data": {
      "text/html": [
       "<div><style>\n",
       ".dataframe > thead > tr,\n",
       ".dataframe > tbody > tr {\n",
       "  text-align: right;\n",
       "  white-space: pre-wrap;\n",
       "}\n",
       "</style>\n",
       "<small>shape: (4, 3)</small><table border=\"1\" class=\"dataframe\"><thead><tr><th>name</th><th>born</th><th>country</th></tr><tr><td>str</td><td>i64</td><td>str</td></tr></thead><tbody><tr><td>&quot;深作&quot;</td><td>1930</td><td>&quot;日本&quot;</td></tr><tr><td>&quot;Verhoeven&quot;</td><td>1938</td><td>&quot;オランダ&quot;</td></tr><tr><td>&quot;宮崎&quot;</td><td>1942</td><td>&quot;日本&quot;</td></tr><tr><td>&quot;Tarantino&quot;</td><td>1963</td><td>&quot;米国&quot;</td></tr></tbody></table></div>"
      ],
      "text/plain": [
       "shape: (4, 3)\n",
       "┌───────────┬──────┬──────────┐\n",
       "│ name      ┆ born ┆ country  │\n",
       "│ ---       ┆ ---  ┆ ---      │\n",
       "│ str       ┆ i64  ┆ str      │\n",
       "╞═══════════╪══════╪══════════╡\n",
       "│ 深作      ┆ 1930 ┆ 日本     │\n",
       "│ Verhoeven ┆ 1938 ┆ オランダ │\n",
       "│ 宮崎      ┆ 1942 ┆ 日本     │\n",
       "│ Tarantino ┆ 1963 ┆ 米国     │\n",
       "└───────────┴──────┴──────────┘"
      ]
     },
     "execution_count": 8,
     "metadata": {},
     "output_type": "execute_result"
    }
   ],
   "source": [
    "pl.read_csv(\"data/directors.csv\", encoding=\"EUC-JP\")"
   ]
  },
  {
   "cell_type": "markdown",
   "id": "51e05395",
   "metadata": {},
   "source": [
    "## Reading Excel Spreadsheets"
   ]
  },
  {
   "cell_type": "code",
   "execution_count": 13,
   "id": "d792f829",
   "metadata": {},
   "outputs": [
    {
     "data": {
      "text/html": [
       "<div><style>\n",
       ".dataframe > thead > tr,\n",
       ".dataframe > tbody > tr {\n",
       "  text-align: right;\n",
       "  white-space: pre-wrap;\n",
       "}\n",
       "</style>\n",
       "<small>shape: (2_000, 4)</small><table border=\"1\" class=\"dataframe\"><thead><tr><th>positie</th><th>titel</th><th>artiest</th><th>jaar</th></tr><tr><td>i64</td><td>str</td><td>str</td><td>i64</td></tr></thead><tbody><tr><td>1</td><td>&quot;Bohemian Rhaps…</td><td>&quot;Queen&quot;</td><td>1975</td></tr><tr><td>2</td><td>&quot;Roller Coaster…</td><td>&quot;Danny Vera&quot;</td><td>2019</td></tr><tr><td>3</td><td>&quot;Hotel Californ…</td><td>&quot;Eagles&quot;</td><td>1977</td></tr><tr><td>4</td><td>&quot;Piano Man&quot;</td><td>&quot;Billy Joel&quot;</td><td>1974</td></tr><tr><td>5</td><td>&quot;Fix You&quot;</td><td>&quot;Coldplay&quot;</td><td>2005</td></tr><tr><td>6</td><td>&quot;Stairway To He…</td><td>&quot;Led Zeppelin&quot;</td><td>1971</td></tr><tr><td>7</td><td>&quot;Black&quot;</td><td>&quot;Pearl Jam&quot;</td><td>1992</td></tr><tr><td>8</td><td>&quot;Avond&quot;</td><td>&quot;Boudewijn de G…</td><td>1997</td></tr><tr><td>9</td><td>&quot;Nothing Else M…</td><td>&quot;Metallica&quot;</td><td>1992</td></tr><tr><td>10</td><td>&quot;Love Of My Lif…</td><td>&quot;Queen&quot;</td><td>1975</td></tr><tr><td>11</td><td>&quot;Wish You Were …</td><td>&quot;Pink Floyd&quot;</td><td>1975</td></tr><tr><td>12</td><td>&quot;November Rain&quot;</td><td>&quot;Guns N&#x27; Roses&quot;</td><td>1992</td></tr><tr><td>&hellip;</td><td>&hellip;</td><td>&hellip;</td><td>&hellip;</td></tr><tr><td>1989</td><td>&quot;Adagio For Str…</td><td>&quot;Tiësto&quot;</td><td>2006</td></tr><tr><td>1990</td><td>&quot;Cocaine&quot;</td><td>&quot;J.J. Cale&quot;</td><td>1976</td></tr><tr><td>1991</td><td>&quot;Mamma Woar Is …</td><td>&quot;Normaal&quot;</td><td>1982</td></tr><tr><td>1992</td><td>&quot;505&quot;</td><td>&quot;Arctic Monkeys…</td><td>2007</td></tr><tr><td>1993</td><td>&quot;Fire (Live)&quot;</td><td>&quot;Bruce Springst…</td><td>1986</td></tr><tr><td>1994</td><td>&quot;A Hard Day&#x27;s N…</td><td>&quot;The Beatles&quot;</td><td>1964</td></tr><tr><td>1995</td><td>&quot;Hey Boy Hey Gi…</td><td>&quot;The Chemical B…</td><td>1999</td></tr><tr><td>1996</td><td>&quot;Charlie Brown&quot;</td><td>&quot;Coldplay&quot;</td><td>2011</td></tr><tr><td>1997</td><td>&quot;Beast Of Burde…</td><td>&quot;Bette Midler&quot;</td><td>1984</td></tr><tr><td>1998</td><td>&quot;It Was A Very …</td><td>&quot;Frank Sinatra&quot;</td><td>1968</td></tr><tr><td>1999</td><td>&quot;Hou Van Mij&quot;</td><td>&quot;3JS&quot;</td><td>2008</td></tr><tr><td>2000</td><td>&quot;Drivers Licens…</td><td>&quot;Olivia Rodrigo…</td><td>2021</td></tr></tbody></table></div>"
      ],
      "text/plain": [
       "shape: (2_000, 4)\n",
       "┌─────────┬─────────────────────────┬────────────────┬──────┐\n",
       "│ positie ┆ titel                   ┆ artiest        ┆ jaar │\n",
       "│ ---     ┆ ---                     ┆ ---            ┆ ---  │\n",
       "│ i64     ┆ str                     ┆ str            ┆ i64  │\n",
       "╞═════════╪═════════════════════════╪════════════════╪══════╡\n",
       "│ 1       ┆ Bohemian Rhapsody       ┆ Queen          ┆ 1975 │\n",
       "│ 2       ┆ Roller Coaster          ┆ Danny Vera     ┆ 2019 │\n",
       "│ 3       ┆ Hotel California        ┆ Eagles         ┆ 1977 │\n",
       "│ 4       ┆ Piano Man               ┆ Billy Joel     ┆ 1974 │\n",
       "│ 5       ┆ Fix You                 ┆ Coldplay       ┆ 2005 │\n",
       "│ …       ┆ …                       ┆ …              ┆ …    │\n",
       "│ 1996    ┆ Charlie Brown           ┆ Coldplay       ┆ 2011 │\n",
       "│ 1997    ┆ Beast Of Burden         ┆ Bette Midler   ┆ 1984 │\n",
       "│ 1998    ┆ It Was A Very Good Year ┆ Frank Sinatra  ┆ 1968 │\n",
       "│ 1999    ┆ Hou Van Mij             ┆ 3JS            ┆ 2008 │\n",
       "│ 2000    ┆ Drivers License         ┆ Olivia Rodrigo ┆ 2021 │\n",
       "└─────────┴─────────────────────────┴────────────────┴──────┘"
      ]
     },
     "execution_count": 9,
     "metadata": {},
     "output_type": "execute_result"
    }
   ],
   "source": [
    "songs_fixed = pl.read_excel(\n",
    "    \"data/top2000-2023.xlsx\", read_options={\"skip_rows_after_header\": 1}\n",
    ")\n",
    "songs_fixed"
   ]
  },
  {
   "cell_type": "markdown",
   "id": "aec4d2ae",
   "metadata": {},
   "source": [
    "## Working with Multiple Files"
   ]
  },
  {
   "cell_type": "code",
   "execution_count": 15,
   "id": "c34c27ce",
   "metadata": {},
   "outputs": [
    {
     "data": {
      "text/html": [
       "<div><style>\n",
       ".dataframe > thead > tr,\n",
       ".dataframe > tbody > tr {\n",
       "  text-align: right;\n",
       "  white-space: pre-wrap;\n",
       "}\n",
       "</style>\n",
       "<small>shape: (2_516, 8)</small><table border=\"1\" class=\"dataframe\"><thead><tr><th>symbol</th><th>date</th><th>open</th><th>high</th><th>low</th><th>close</th><th>adj close</th><th>volume</th></tr><tr><td>str</td><td>str</td><td>f64</td><td>f64</td><td>f64</td><td>f64</td><td>f64</td><td>i64</td></tr></thead><tbody><tr><td>&quot;NVDA&quot;</td><td>&quot;2010-01-04&quot;</td><td>4.6275</td><td>4.655</td><td>4.5275</td><td>4.6225</td><td>4.240429</td><td>80020400</td></tr><tr><td>&quot;NVDA&quot;</td><td>&quot;2010-01-05&quot;</td><td>4.605</td><td>4.74</td><td>4.605</td><td>4.69</td><td>4.30235</td><td>72864800</td></tr><tr><td>&quot;NVDA&quot;</td><td>&quot;2010-01-06&quot;</td><td>4.6875</td><td>4.73</td><td>4.6425</td><td>4.72</td><td>4.32987</td><td>64916800</td></tr><tr><td>&quot;NVDA&quot;</td><td>&quot;2010-01-07&quot;</td><td>4.695</td><td>4.715</td><td>4.5925</td><td>4.6275</td><td>4.245015</td><td>54779200</td></tr><tr><td>&quot;NVDA&quot;</td><td>&quot;2010-01-08&quot;</td><td>4.59</td><td>4.67</td><td>4.5625</td><td>4.6375</td><td>4.254189</td><td>47816800</td></tr><tr><td>&quot;NVDA&quot;</td><td>&quot;2010-01-11&quot;</td><td>4.6625</td><td>4.6825</td><td>4.5075</td><td>4.5725</td><td>4.194561</td><td>55661200</td></tr><tr><td>&quot;NVDA&quot;</td><td>&quot;2010-01-12&quot;</td><td>4.505</td><td>4.5225</td><td>4.3225</td><td>4.4175</td><td>4.052372</td><td>62743200</td></tr><tr><td>&quot;NVDA&quot;</td><td>&quot;2010-01-13&quot;</td><td>4.4475</td><td>4.4925</td><td>4.275</td><td>4.4775</td><td>4.107413</td><td>50886800</td></tr><tr><td>&quot;NVDA&quot;</td><td>&quot;2010-01-14&quot;</td><td>4.4225</td><td>4.455</td><td>4.3325</td><td>4.4075</td><td>4.0432</td><td>60852400</td></tr><tr><td>&quot;NVDA&quot;</td><td>&quot;2010-01-15&quot;</td><td>4.375</td><td>4.4125</td><td>4.22</td><td>4.2775</td><td>3.923946</td><td>81819200</td></tr><tr><td>&quot;NVDA&quot;</td><td>&quot;2010-01-19&quot;</td><td>4.245</td><td>4.385</td><td>4.2325</td><td>4.3575</td><td>3.997332</td><td>54532800</td></tr><tr><td>&quot;NVDA&quot;</td><td>&quot;2010-01-20&quot;</td><td>4.3025</td><td>4.3575</td><td>4.245</td><td>4.34</td><td>3.981277</td><td>71972800</td></tr><tr><td>&hellip;</td><td>&hellip;</td><td>&hellip;</td><td>&hellip;</td><td>&hellip;</td><td>&hellip;</td><td>&hellip;</td><td>&hellip;</td></tr><tr><td>&quot;NVDA&quot;</td><td>&quot;2019-12-13&quot;</td><td>56.047501</td><td>57.244999</td><td>55.455002</td><td>55.997501</td><td>55.779533</td><td>45470400</td></tr><tr><td>&quot;NVDA&quot;</td><td>&quot;2019-12-16&quot;</td><td>56.474998</td><td>57.014999</td><td>56.192501</td><td>56.287498</td><td>56.068405</td><td>32097600</td></tr><tr><td>&quot;NVDA&quot;</td><td>&quot;2019-12-17&quot;</td><td>56.474998</td><td>57.299999</td><td>56.380001</td><td>57.072498</td><td>56.850346</td><td>32119600</td></tr><tr><td>&quot;NVDA&quot;</td><td>&quot;2019-12-18&quot;</td><td>57.422501</td><td>57.985001</td><td>57.337502</td><td>57.377499</td><td>57.154167</td><td>34354800</td></tr><tr><td>&quot;NVDA&quot;</td><td>&quot;2019-12-19&quot;</td><td>57.724998</td><td>59.0</td><td>57.674999</td><td>58.865002</td><td>58.635872</td><td>44536000</td></tr><tr><td>&quot;NVDA&quot;</td><td>&quot;2019-12-20&quot;</td><td>59.532501</td><td>60.0975</td><td>59.34</td><td>59.842499</td><td>59.609566</td><td>60304400</td></tr><tr><td>&quot;NVDA&quot;</td><td>&quot;2019-12-23&quot;</td><td>60.130001</td><td>60.452499</td><td>59.5975</td><td>59.705002</td><td>59.472599</td><td>35506000</td></tr><tr><td>&quot;NVDA&quot;</td><td>&quot;2019-12-24&quot;</td><td>59.549999</td><td>59.827499</td><td>59.205002</td><td>59.654999</td><td>59.422798</td><td>13886400</td></tr><tr><td>&quot;NVDA&quot;</td><td>&quot;2019-12-26&quot;</td><td>59.689999</td><td>60.080002</td><td>59.5</td><td>59.797501</td><td>59.564739</td><td>18285200</td></tr><tr><td>&quot;NVDA&quot;</td><td>&quot;2019-12-27&quot;</td><td>59.950001</td><td>60.084999</td><td>58.952499</td><td>59.217499</td><td>58.987</td><td>25464400</td></tr><tr><td>&quot;NVDA&quot;</td><td>&quot;2019-12-30&quot;</td><td>58.997501</td><td>59.049999</td><td>57.764999</td><td>58.080002</td><td>57.853928</td><td>25805600</td></tr><tr><td>&quot;NVDA&quot;</td><td>&quot;2019-12-31&quot;</td><td>57.724998</td><td>58.919998</td><td>57.532501</td><td>58.825001</td><td>58.596027</td><td>23100400</td></tr></tbody></table></div>"
      ],
      "text/plain": [
       "shape: (2_516, 8)\n",
       "┌────────┬────────────┬───────────┬───────────┬───────────┬───────────┬───────────┬──────────┐\n",
       "│ symbol ┆ date       ┆ open      ┆ high      ┆ low       ┆ close     ┆ adj close ┆ volume   │\n",
       "│ ---    ┆ ---        ┆ ---       ┆ ---       ┆ ---       ┆ ---       ┆ ---       ┆ ---      │\n",
       "│ str    ┆ str        ┆ f64       ┆ f64       ┆ f64       ┆ f64       ┆ f64       ┆ i64      │\n",
       "╞════════╪════════════╪═══════════╪═══════════╪═══════════╪═══════════╪═══════════╪══════════╡\n",
       "│ NVDA   ┆ 2010-01-04 ┆ 4.6275    ┆ 4.655     ┆ 4.5275    ┆ 4.6225    ┆ 4.240429  ┆ 80020400 │\n",
       "│ NVDA   ┆ 2010-01-05 ┆ 4.605     ┆ 4.74      ┆ 4.605     ┆ 4.69      ┆ 4.30235   ┆ 72864800 │\n",
       "│ NVDA   ┆ 2010-01-06 ┆ 4.6875    ┆ 4.73      ┆ 4.6425    ┆ 4.72      ┆ 4.32987   ┆ 64916800 │\n",
       "│ NVDA   ┆ 2010-01-07 ┆ 4.695     ┆ 4.715     ┆ 4.5925    ┆ 4.6275    ┆ 4.245015  ┆ 54779200 │\n",
       "│ NVDA   ┆ 2010-01-08 ┆ 4.59      ┆ 4.67      ┆ 4.5625    ┆ 4.6375    ┆ 4.254189  ┆ 47816800 │\n",
       "│ …      ┆ …          ┆ …         ┆ …         ┆ …         ┆ …         ┆ …         ┆ …        │\n",
       "│ NVDA   ┆ 2019-12-24 ┆ 59.549999 ┆ 59.827499 ┆ 59.205002 ┆ 59.654999 ┆ 59.422798 ┆ 13886400 │\n",
       "│ NVDA   ┆ 2019-12-26 ┆ 59.689999 ┆ 60.080002 ┆ 59.5      ┆ 59.797501 ┆ 59.564739 ┆ 18285200 │\n",
       "│ NVDA   ┆ 2019-12-27 ┆ 59.950001 ┆ 60.084999 ┆ 58.952499 ┆ 59.217499 ┆ 58.987    ┆ 25464400 │\n",
       "│ NVDA   ┆ 2019-12-30 ┆ 58.997501 ┆ 59.049999 ┆ 57.764999 ┆ 58.080002 ┆ 57.853928 ┆ 25805600 │\n",
       "│ NVDA   ┆ 2019-12-31 ┆ 57.724998 ┆ 58.919998 ┆ 57.532501 ┆ 58.825001 ┆ 58.596027 ┆ 23100400 │\n",
       "└────────┴────────────┴───────────┴───────────┴───────────┴───────────┴───────────┴──────────┘"
      ]
     },
     "execution_count": 10,
     "metadata": {},
     "output_type": "execute_result"
    }
   ],
   "source": [
    "pl.read_csv(\"data/stock/nvda/201[0-9].csv\")"
   ]
  },
  {
   "cell_type": "code",
   "execution_count": 16,
   "id": "af2b34a4",
   "metadata": {},
   "outputs": [
    {
     "data": {
      "text/html": [
       "<div><style>\n",
       ".dataframe > thead > tr,\n",
       ".dataframe > tbody > tr {\n",
       "  text-align: right;\n",
       "  white-space: pre-wrap;\n",
       "}\n",
       "</style>\n",
       "<small>shape: (18_476, 8)</small><table border=\"1\" class=\"dataframe\"><thead><tr><th>symbol</th><th>date</th><th>open</th><th>high</th><th>low</th><th>close</th><th>adj close</th><th>volume</th></tr><tr><td>str</td><td>str</td><td>f64</td><td>f64</td><td>f64</td><td>f64</td><td>f64</td><td>i64</td></tr></thead><tbody><tr><td>&quot;ASML&quot;</td><td>&quot;1999-01-04&quot;</td><td>11.765625</td><td>12.28125</td><td>11.765625</td><td>12.140625</td><td>7.522523</td><td>1801867</td></tr><tr><td>&quot;ASML&quot;</td><td>&quot;1999-01-05&quot;</td><td>11.859375</td><td>14.25</td><td>11.71875</td><td>13.96875</td><td>8.655257</td><td>8241600</td></tr><tr><td>&quot;ASML&quot;</td><td>&quot;1999-01-06&quot;</td><td>14.25</td><td>17.601563</td><td>14.203125</td><td>16.875</td><td>10.456018</td><td>16400267</td></tr><tr><td>&quot;ASML&quot;</td><td>&quot;1999-01-07&quot;</td><td>14.742188</td><td>17.8125</td><td>14.53125</td><td>16.851563</td><td>10.441495</td><td>17722133</td></tr><tr><td>&quot;ASML&quot;</td><td>&quot;1999-01-08&quot;</td><td>16.078125</td><td>16.289063</td><td>15.023438</td><td>15.796875</td><td>9.787995</td><td>10696000</td></tr><tr><td>&quot;ASML&quot;</td><td>&quot;1999-01-11&quot;</td><td>15.046875</td><td>15.515625</td><td>14.671875</td><td>15.234375</td><td>9.439458</td><td>4037867</td></tr><tr><td>&quot;ASML&quot;</td><td>&quot;1999-01-12&quot;</td><td>14.953125</td><td>15.234375</td><td>14.753906</td><td>14.765625</td><td>9.149015</td><td>1118400</td></tr><tr><td>&quot;ASML&quot;</td><td>&quot;1999-01-13&quot;</td><td>13.6875</td><td>16.007813</td><td>13.640625</td><td>15.796875</td><td>9.787995</td><td>5788267</td></tr><tr><td>&quot;ASML&quot;</td><td>&quot;1999-01-14&quot;</td><td>15.609375</td><td>15.796875</td><td>14.976563</td><td>15.28125</td><td>9.468504</td><td>4803733</td></tr><tr><td>&quot;ASML&quot;</td><td>&quot;1999-01-15&quot;</td><td>15.070313</td><td>16.40625</td><td>15.046875</td><td>16.21875</td><td>10.049394</td><td>4847733</td></tr><tr><td>&quot;ASML&quot;</td><td>&quot;1999-01-19&quot;</td><td>15.960938</td><td>16.125</td><td>15.515625</td><td>15.5625</td><td>9.642772</td><td>2105600</td></tr><tr><td>&quot;ASML&quot;</td><td>&quot;1999-01-20&quot;</td><td>15.1875</td><td>16.96875</td><td>15.09375</td><td>16.03125</td><td>9.933217</td><td>6878133</td></tr><tr><td>&hellip;</td><td>&hellip;</td><td>&hellip;</td><td>&hellip;</td><td>&hellip;</td><td>&hellip;</td><td>&hellip;</td><td>&hellip;</td></tr><tr><td>&quot;TSM&quot;</td><td>&quot;2023-06-14&quot;</td><td>106.029999</td><td>107.699997</td><td>105.220001</td><td>107.410004</td><td>105.910599</td><td>12862600</td></tr><tr><td>&quot;TSM&quot;</td><td>&quot;2023-06-15&quot;</td><td>106.269997</td><td>106.660004</td><td>105.07</td><td>105.18</td><td>104.146118</td><td>11987900</td></tr><tr><td>&quot;TSM&quot;</td><td>&quot;2023-06-16&quot;</td><td>105.43</td><td>105.75</td><td>104.349998</td><td>104.57</td><td>103.542114</td><td>11427300</td></tr><tr><td>&quot;TSM&quot;</td><td>&quot;2023-06-20&quot;</td><td>104.18</td><td>104.879997</td><td>103.07</td><td>103.980003</td><td>102.957916</td><td>9295500</td></tr><tr><td>&quot;TSM&quot;</td><td>&quot;2023-06-21&quot;</td><td>103.150002</td><td>103.730003</td><td>101.620003</td><td>101.639999</td><td>100.640915</td><td>9340400</td></tr><tr><td>&quot;TSM&quot;</td><td>&quot;2023-06-22&quot;</td><td>101.419998</td><td>103.43</td><td>101.330002</td><td>103.129997</td><td>102.116264</td><td>8575900</td></tr><tr><td>&quot;TSM&quot;</td><td>&quot;2023-06-23&quot;</td><td>101.519997</td><td>102.190002</td><td>101.010002</td><td>101.910004</td><td>100.908264</td><td>8898900</td></tr><tr><td>&quot;TSM&quot;</td><td>&quot;2023-06-26&quot;</td><td>102.019997</td><td>103.040001</td><td>100.089996</td><td>100.110001</td><td>99.125954</td><td>8560000</td></tr><tr><td>&quot;TSM&quot;</td><td>&quot;2023-06-27&quot;</td><td>101.150002</td><td>102.790001</td><td>100.019997</td><td>102.080002</td><td>101.076591</td><td>9732000</td></tr><tr><td>&quot;TSM&quot;</td><td>&quot;2023-06-28&quot;</td><td>100.5</td><td>101.879997</td><td>100.220001</td><td>100.919998</td><td>99.927986</td><td>8160900</td></tr><tr><td>&quot;TSM&quot;</td><td>&quot;2023-06-29&quot;</td><td>101.339996</td><td>101.519997</td><td>100.019997</td><td>100.639999</td><td>99.650742</td><td>7383900</td></tr><tr><td>&quot;TSM&quot;</td><td>&quot;2023-06-30&quot;</td><td>101.400002</td><td>101.889999</td><td>100.410004</td><td>100.919998</td><td>99.927986</td><td>11701700</td></tr></tbody></table></div>"
      ],
      "text/plain": [
       "shape: (18_476, 8)\n",
       "┌────────┬────────────┬────────────┬────────────┬────────────┬────────────┬────────────┬──────────┐\n",
       "│ symbol ┆ date       ┆ open       ┆ high       ┆ low        ┆ close      ┆ adj close  ┆ volume   │\n",
       "│ ---    ┆ ---        ┆ ---        ┆ ---        ┆ ---        ┆ ---        ┆ ---        ┆ ---      │\n",
       "│ str    ┆ str        ┆ f64        ┆ f64        ┆ f64        ┆ f64        ┆ f64        ┆ i64      │\n",
       "╞════════╪════════════╪════════════╪════════════╪════════════╪════════════╪════════════╪══════════╡\n",
       "│ ASML   ┆ 1999-01-04 ┆ 11.765625  ┆ 12.28125   ┆ 11.765625  ┆ 12.140625  ┆ 7.522523   ┆ 1801867  │\n",
       "│ ASML   ┆ 1999-01-05 ┆ 11.859375  ┆ 14.25      ┆ 11.71875   ┆ 13.96875   ┆ 8.655257   ┆ 8241600  │\n",
       "│ ASML   ┆ 1999-01-06 ┆ 14.25      ┆ 17.601563  ┆ 14.203125  ┆ 16.875     ┆ 10.456018  ┆ 16400267 │\n",
       "│ ASML   ┆ 1999-01-07 ┆ 14.742188  ┆ 17.8125    ┆ 14.53125   ┆ 16.851563  ┆ 10.441495  ┆ 17722133 │\n",
       "│ ASML   ┆ 1999-01-08 ┆ 16.078125  ┆ 16.289063  ┆ 15.023438  ┆ 15.796875  ┆ 9.787995   ┆ 10696000 │\n",
       "│ …      ┆ …          ┆ …          ┆ …          ┆ …          ┆ …          ┆ …          ┆ …        │\n",
       "│ TSM    ┆ 2023-06-26 ┆ 102.019997 ┆ 103.040001 ┆ 100.089996 ┆ 100.110001 ┆ 99.125954  ┆ 8560000  │\n",
       "│ TSM    ┆ 2023-06-27 ┆ 101.150002 ┆ 102.790001 ┆ 100.019997 ┆ 102.080002 ┆ 101.076591 ┆ 9732000  │\n",
       "│ TSM    ┆ 2023-06-28 ┆ 100.5      ┆ 101.879997 ┆ 100.220001 ┆ 100.919998 ┆ 99.927986  ┆ 8160900  │\n",
       "│ TSM    ┆ 2023-06-29 ┆ 101.339996 ┆ 101.519997 ┆ 100.019997 ┆ 100.639999 ┆ 99.650742  ┆ 7383900  │\n",
       "│ TSM    ┆ 2023-06-30 ┆ 101.400002 ┆ 101.889999 ┆ 100.410004 ┆ 100.919998 ┆ 99.927986  ┆ 11701700 │\n",
       "└────────┴────────────┴────────────┴────────────┴────────────┴────────────┴────────────┴──────────┘"
      ]
     },
     "execution_count": 11,
     "metadata": {},
     "output_type": "execute_result"
    }
   ],
   "source": [
    "all_stocks = pl.read_csv(\"data/stock/*/*.csv\")\n",
    "all_stocks"
   ]
  },
  {
   "cell_type": "code",
   "execution_count": 17,
   "id": "e8d5b50d",
   "metadata": {},
   "outputs": [
    {
     "data": {
      "text/plain": [
       "['data/stock/asml/2000.csv',\n",
       " 'data/stock/asml/2004.csv',\n",
       " 'data/stock/asml/2008.csv',\n",
       " 'data/stock/asml/2012.csv',\n",
       " 'data/stock/asml/2016.csv',\n",
       " 'data/stock/asml/2020.csv']"
      ]
     },
     "execution_count": 12,
     "metadata": {},
     "output_type": "execute_result"
    }
   ],
   "source": [
    "import calendar\n",
    "\n",
    "filenames = [\n",
    "    f\"data/stock/asml/{year}.csv\"\n",
    "    for year in range(1999, 2024)\n",
    "    if calendar.isleap(year)\n",
    "]\n",
    "\n",
    "filenames"
   ]
  },
  {
   "cell_type": "code",
   "execution_count": 18,
   "id": "be26b884",
   "metadata": {},
   "outputs": [
    {
     "data": {
      "text/html": [
       "<div><style>\n",
       ".dataframe > thead > tr,\n",
       ".dataframe > tbody > tr {\n",
       "  text-align: right;\n",
       "  white-space: pre-wrap;\n",
       "}\n",
       "</style>\n",
       "<small>shape: (1_512, 8)</small><table border=\"1\" class=\"dataframe\"><thead><tr><th>symbol</th><th>date</th><th>open</th><th>high</th><th>low</th><th>close</th><th>adj close</th><th>volume</th></tr><tr><td>str</td><td>str</td><td>f64</td><td>f64</td><td>f64</td><td>f64</td><td>f64</td><td>i64</td></tr></thead><tbody><tr><td>&quot;ASML&quot;</td><td>&quot;2000-01-03&quot;</td><td>43.875</td><td>43.875</td><td>41.90625</td><td>43.640625</td><td>27.040424</td><td>1121600</td></tr><tr><td>&quot;ASML&quot;</td><td>&quot;2000-01-04&quot;</td><td>41.953125</td><td>42.5625</td><td>40.59375</td><td>40.734375</td><td>25.239666</td><td>968800</td></tr><tr><td>&quot;ASML&quot;</td><td>&quot;2000-01-05&quot;</td><td>39.28125</td><td>39.703125</td><td>37.757813</td><td>39.609375</td><td>24.542597</td><td>1458133</td></tr><tr><td>&quot;ASML&quot;</td><td>&quot;2000-01-06&quot;</td><td>36.75</td><td>37.59375</td><td>35.226563</td><td>37.171875</td><td>23.032274</td><td>3517867</td></tr><tr><td>&quot;ASML&quot;</td><td>&quot;2000-01-07&quot;</td><td>36.867188</td><td>38.0625</td><td>36.65625</td><td>38.015625</td><td>23.555077</td><td>1631200</td></tr><tr><td>&quot;ASML&quot;</td><td>&quot;2000-01-10&quot;</td><td>40.125</td><td>41.671875</td><td>40.125</td><td>41.625</td><td>25.791506</td><td>1341867</td></tr><tr><td>&quot;ASML&quot;</td><td>&quot;2000-01-11&quot;</td><td>40.59375</td><td>42.1875</td><td>39.796875</td><td>40.265625</td><td>24.949213</td><td>1095467</td></tr><tr><td>&quot;ASML&quot;</td><td>&quot;2000-01-12&quot;</td><td>40.875</td><td>41.296875</td><td>40.171875</td><td>41.015625</td><td>25.413929</td><td>778933</td></tr><tr><td>&quot;ASML&quot;</td><td>&quot;2000-01-13&quot;</td><td>41.625</td><td>42.9375</td><td>40.78125</td><td>42.820313</td><td>26.532146</td><td>1834933</td></tr><tr><td>&quot;ASML&quot;</td><td>&quot;2000-01-14&quot;</td><td>45.046875</td><td>48.375</td><td>45.0</td><td>46.921875</td><td>29.07354</td><td>5256533</td></tr><tr><td>&quot;ASML&quot;</td><td>&quot;2000-01-18&quot;</td><td>46.03125</td><td>48.09375</td><td>45.84375</td><td>47.554688</td><td>29.465641</td><td>1827200</td></tr><tr><td>&quot;ASML&quot;</td><td>&quot;2000-01-19&quot;</td><td>46.359375</td><td>48.65625</td><td>45.890625</td><td>48.375</td><td>29.973917</td><td>1980000</td></tr><tr><td>&hellip;</td><td>&hellip;</td><td>&hellip;</td><td>&hellip;</td><td>&hellip;</td><td>&hellip;</td><td>&hellip;</td><td>&hellip;</td></tr><tr><td>&quot;ASML&quot;</td><td>&quot;2020-12-15&quot;</td><td>464.51001</td><td>469.619995</td><td>461.890015</td><td>469.299988</td><td>455.453217</td><td>639200</td></tr><tr><td>&quot;ASML&quot;</td><td>&quot;2020-12-16&quot;</td><td>467.98999</td><td>472.23999</td><td>465.01001</td><td>471.529999</td><td>457.617462</td><td>524900</td></tr><tr><td>&quot;ASML&quot;</td><td>&quot;2020-12-17&quot;</td><td>478.730011</td><td>481.320007</td><td>476.01001</td><td>477.299988</td><td>463.217224</td><td>477300</td></tr><tr><td>&quot;ASML&quot;</td><td>&quot;2020-12-18&quot;</td><td>478.48999</td><td>479.450012</td><td>474.320007</td><td>477.23999</td><td>463.158997</td><td>730700</td></tr><tr><td>&quot;ASML&quot;</td><td>&quot;2020-12-21&quot;</td><td>460.26001</td><td>472.279999</td><td>459.480011</td><td>472.26001</td><td>458.325897</td><td>622800</td></tr><tr><td>&quot;ASML&quot;</td><td>&quot;2020-12-22&quot;</td><td>473.480011</td><td>478.619995</td><td>472.950012</td><td>476.179993</td><td>462.13028</td><td>431300</td></tr><tr><td>&quot;ASML&quot;</td><td>&quot;2020-12-23&quot;</td><td>478.940002</td><td>480.390015</td><td>474.200012</td><td>474.619995</td><td>460.616302</td><td>389200</td></tr><tr><td>&quot;ASML&quot;</td><td>&quot;2020-12-24&quot;</td><td>478.950012</td><td>484.600006</td><td>477.079987</td><td>483.089996</td><td>468.836365</td><td>271900</td></tr><tr><td>&quot;ASML&quot;</td><td>&quot;2020-12-28&quot;</td><td>487.140015</td><td>488.720001</td><td>478.429993</td><td>480.23999</td><td>466.070496</td><td>449300</td></tr><tr><td>&quot;ASML&quot;</td><td>&quot;2020-12-29&quot;</td><td>489.450012</td><td>489.450012</td><td>482.51001</td><td>484.01001</td><td>469.729218</td><td>377200</td></tr><tr><td>&quot;ASML&quot;</td><td>&quot;2020-12-30&quot;</td><td>488.130005</td><td>492.660004</td><td>488.0</td><td>489.910004</td><td>475.455231</td><td>381900</td></tr><tr><td>&quot;ASML&quot;</td><td>&quot;2020-12-31&quot;</td><td>490.0</td><td>490.519989</td><td>483.450012</td><td>487.720001</td><td>473.329803</td><td>312700</td></tr></tbody></table></div>"
      ],
      "text/plain": [
       "shape: (1_512, 8)\n",
       "┌────────┬────────────┬────────────┬────────────┬────────────┬────────────┬────────────┬─────────┐\n",
       "│ symbol ┆ date       ┆ open       ┆ high       ┆ low        ┆ close      ┆ adj close  ┆ volume  │\n",
       "│ ---    ┆ ---        ┆ ---        ┆ ---        ┆ ---        ┆ ---        ┆ ---        ┆ ---     │\n",
       "│ str    ┆ str        ┆ f64        ┆ f64        ┆ f64        ┆ f64        ┆ f64        ┆ i64     │\n",
       "╞════════╪════════════╪════════════╪════════════╪════════════╪════════════╪════════════╪═════════╡\n",
       "│ ASML   ┆ 2000-01-03 ┆ 43.875     ┆ 43.875     ┆ 41.90625   ┆ 43.640625  ┆ 27.040424  ┆ 1121600 │\n",
       "│ ASML   ┆ 2000-01-04 ┆ 41.953125  ┆ 42.5625    ┆ 40.59375   ┆ 40.734375  ┆ 25.239666  ┆ 968800  │\n",
       "│ ASML   ┆ 2000-01-05 ┆ 39.28125   ┆ 39.703125  ┆ 37.757813  ┆ 39.609375  ┆ 24.542597  ┆ 1458133 │\n",
       "│ ASML   ┆ 2000-01-06 ┆ 36.75      ┆ 37.59375   ┆ 35.226563  ┆ 37.171875  ┆ 23.032274  ┆ 3517867 │\n",
       "│ ASML   ┆ 2000-01-07 ┆ 36.867188  ┆ 38.0625    ┆ 36.65625   ┆ 38.015625  ┆ 23.555077  ┆ 1631200 │\n",
       "│ …      ┆ …          ┆ …          ┆ …          ┆ …          ┆ …          ┆ …          ┆ …       │\n",
       "│ ASML   ┆ 2020-12-24 ┆ 478.950012 ┆ 484.600006 ┆ 477.079987 ┆ 483.089996 ┆ 468.836365 ┆ 271900  │\n",
       "│ ASML   ┆ 2020-12-28 ┆ 487.140015 ┆ 488.720001 ┆ 478.429993 ┆ 480.23999  ┆ 466.070496 ┆ 449300  │\n",
       "│ ASML   ┆ 2020-12-29 ┆ 489.450012 ┆ 489.450012 ┆ 482.51001  ┆ 484.01001  ┆ 469.729218 ┆ 377200  │\n",
       "│ ASML   ┆ 2020-12-30 ┆ 488.130005 ┆ 492.660004 ┆ 488.0      ┆ 489.910004 ┆ 475.455231 ┆ 381900  │\n",
       "│ ASML   ┆ 2020-12-31 ┆ 490.0      ┆ 490.519989 ┆ 483.450012 ┆ 487.720001 ┆ 473.329803 ┆ 312700  │\n",
       "└────────┴────────────┴────────────┴────────────┴────────────┴────────────┴────────────┴─────────┘"
      ]
     },
     "execution_count": 13,
     "metadata": {},
     "output_type": "execute_result"
    }
   ],
   "source": [
    "pl.concat(pl.read_csv(f) for f in filenames)"
   ]
  },
  {
   "cell_type": "markdown",
   "id": "194d3db7",
   "metadata": {},
   "source": [
    "## Reading Parquet"
   ]
  },
  {
   "cell_type": "code",
   "execution_count": 20,
   "id": "f576c712",
   "metadata": {},
   "outputs": [
    {
     "data": {
      "text/html": [
       "<div><style>\n",
       ".dataframe > thead > tr,\n",
       ".dataframe > tbody > tr {\n",
       "  text-align: right;\n",
       "  white-space: pre-wrap;\n",
       "}\n",
       "</style>\n",
       "<small>shape: (39_656_098, 19)</small><table border=\"1\" class=\"dataframe\"><thead><tr><th>VendorID</th><th>tpep_pickup_datetime</th><th>tpep_dropoff_datetime</th><th>passenger_count</th><th>trip_distance</th><th>RatecodeID</th><th>store_and_fwd_flag</th><th>PULocationID</th><th>DOLocationID</th><th>payment_type</th><th>fare_amount</th><th>extra</th><th>mta_tax</th><th>tip_amount</th><th>tolls_amount</th><th>improvement_surcharge</th><th>total_amount</th><th>congestion_surcharge</th><th>airport_fee</th></tr><tr><td>i64</td><td>datetime[ns]</td><td>datetime[ns]</td><td>f64</td><td>f64</td><td>f64</td><td>str</td><td>i64</td><td>i64</td><td>i64</td><td>f64</td><td>f64</td><td>f64</td><td>f64</td><td>f64</td><td>f64</td><td>f64</td><td>f64</td><td>f64</td></tr></thead><tbody><tr><td>1</td><td>2022-01-01 00:35:40</td><td>2022-01-01 00:53:29</td><td>2.0</td><td>3.8</td><td>1.0</td><td>&quot;N&quot;</td><td>142</td><td>236</td><td>1</td><td>14.5</td><td>3.0</td><td>0.5</td><td>3.65</td><td>0.0</td><td>0.3</td><td>21.95</td><td>2.5</td><td>0.0</td></tr><tr><td>1</td><td>2022-01-01 00:33:43</td><td>2022-01-01 00:42:07</td><td>1.0</td><td>2.1</td><td>1.0</td><td>&quot;N&quot;</td><td>236</td><td>42</td><td>1</td><td>8.0</td><td>0.5</td><td>0.5</td><td>4.0</td><td>0.0</td><td>0.3</td><td>13.3</td><td>0.0</td><td>0.0</td></tr><tr><td>2</td><td>2022-01-01 00:53:21</td><td>2022-01-01 01:02:19</td><td>1.0</td><td>0.97</td><td>1.0</td><td>&quot;N&quot;</td><td>166</td><td>166</td><td>1</td><td>7.5</td><td>0.5</td><td>0.5</td><td>1.76</td><td>0.0</td><td>0.3</td><td>10.56</td><td>0.0</td><td>0.0</td></tr><tr><td>2</td><td>2022-01-01 00:25:21</td><td>2022-01-01 00:35:23</td><td>1.0</td><td>1.09</td><td>1.0</td><td>&quot;N&quot;</td><td>114</td><td>68</td><td>2</td><td>8.0</td><td>0.5</td><td>0.5</td><td>0.0</td><td>0.0</td><td>0.3</td><td>11.8</td><td>2.5</td><td>0.0</td></tr><tr><td>2</td><td>2022-01-01 00:36:48</td><td>2022-01-01 01:14:20</td><td>1.0</td><td>4.3</td><td>1.0</td><td>&quot;N&quot;</td><td>68</td><td>163</td><td>1</td><td>23.5</td><td>0.5</td><td>0.5</td><td>3.0</td><td>0.0</td><td>0.3</td><td>30.3</td><td>2.5</td><td>0.0</td></tr><tr><td>1</td><td>2022-01-01 00:40:15</td><td>2022-01-01 01:09:48</td><td>1.0</td><td>10.3</td><td>1.0</td><td>&quot;N&quot;</td><td>138</td><td>161</td><td>1</td><td>33.0</td><td>3.0</td><td>0.5</td><td>13.0</td><td>6.55</td><td>0.3</td><td>56.35</td><td>2.5</td><td>0.0</td></tr><tr><td>2</td><td>2022-01-01 00:20:50</td><td>2022-01-01 00:34:58</td><td>1.0</td><td>5.07</td><td>1.0</td><td>&quot;N&quot;</td><td>233</td><td>87</td><td>1</td><td>17.0</td><td>0.5</td><td>0.5</td><td>5.2</td><td>0.0</td><td>0.3</td><td>26.0</td><td>2.5</td><td>0.0</td></tr><tr><td>2</td><td>2022-01-01 00:13:04</td><td>2022-01-01 00:22:45</td><td>1.0</td><td>2.02</td><td>1.0</td><td>&quot;N&quot;</td><td>238</td><td>152</td><td>2</td><td>9.0</td><td>0.5</td><td>0.5</td><td>0.0</td><td>0.0</td><td>0.3</td><td>12.8</td><td>2.5</td><td>0.0</td></tr><tr><td>2</td><td>2022-01-01 00:30:02</td><td>2022-01-01 00:44:49</td><td>1.0</td><td>2.71</td><td>1.0</td><td>&quot;N&quot;</td><td>166</td><td>236</td><td>1</td><td>12.0</td><td>0.5</td><td>0.5</td><td>2.25</td><td>0.0</td><td>0.3</td><td>18.05</td><td>2.5</td><td>0.0</td></tr><tr><td>2</td><td>2022-01-01 00:48:52</td><td>2022-01-01 00:53:28</td><td>1.0</td><td>0.78</td><td>1.0</td><td>&quot;N&quot;</td><td>236</td><td>141</td><td>2</td><td>5.0</td><td>0.5</td><td>0.5</td><td>0.0</td><td>0.0</td><td>0.3</td><td>8.8</td><td>2.5</td><td>0.0</td></tr><tr><td>2</td><td>2022-01-01 00:55:03</td><td>2022-01-01 01:04:25</td><td>1.0</td><td>1.91</td><td>1.0</td><td>&quot;N&quot;</td><td>141</td><td>229</td><td>2</td><td>8.5</td><td>0.5</td><td>0.5</td><td>0.0</td><td>0.0</td><td>0.3</td><td>12.3</td><td>2.5</td><td>0.0</td></tr><tr><td>2</td><td>2022-01-01 00:31:06</td><td>2022-01-01 00:34:14</td><td>3.0</td><td>0.82</td><td>1.0</td><td>&quot;N&quot;</td><td>114</td><td>90</td><td>2</td><td>4.5</td><td>0.5</td><td>0.5</td><td>0.0</td><td>0.0</td><td>0.3</td><td>8.3</td><td>2.5</td><td>0.0</td></tr><tr><td>&hellip;</td><td>&hellip;</td><td>&hellip;</td><td>&hellip;</td><td>&hellip;</td><td>&hellip;</td><td>&hellip;</td><td>&hellip;</td><td>&hellip;</td><td>&hellip;</td><td>&hellip;</td><td>&hellip;</td><td>&hellip;</td><td>&hellip;</td><td>&hellip;</td><td>&hellip;</td><td>&hellip;</td><td>&hellip;</td><td>&hellip;</td></tr><tr><td>2</td><td>2022-12-31 23:28:00</td><td>2022-12-31 23:41:00</td><td>null</td><td>3.67</td><td>null</td><td>null</td><td>141</td><td>260</td><td>0</td><td>19.76</td><td>0.0</td><td>0.5</td><td>4.75</td><td>0.0</td><td>1.0</td><td>28.51</td><td>null</td><td>null</td></tr><tr><td>2</td><td>2022-12-31 23:45:37</td><td>2022-12-31 23:59:30</td><td>null</td><td>5.44</td><td>null</td><td>null</td><td>162</td><td>87</td><td>0</td><td>26.67</td><td>0.0</td><td>0.5</td><td>6.13</td><td>0.0</td><td>1.0</td><td>36.8</td><td>null</td><td>null</td></tr><tr><td>2</td><td>2022-12-31 23:22:09</td><td>2022-12-31 23:29:21</td><td>null</td><td>1.24</td><td>null</td><td>null</td><td>116</td><td>244</td><td>0</td><td>12.96</td><td>0.0</td><td>0.5</td><td>2.89</td><td>0.0</td><td>1.0</td><td>17.35</td><td>null</td><td>null</td></tr><tr><td>2</td><td>2022-12-31 23:01:46</td><td>2022-12-31 23:26:45</td><td>null</td><td>3.97</td><td>null</td><td>null</td><td>107</td><td>50</td><td>0</td><td>23.55</td><td>0.0</td><td>0.5</td><td>5.51</td><td>0.0</td><td>1.0</td><td>33.06</td><td>null</td><td>null</td></tr><tr><td>2</td><td>2022-12-31 23:02:54</td><td>2022-12-31 23:30:21</td><td>null</td><td>7.29</td><td>null</td><td>null</td><td>197</td><td>189</td><td>0</td><td>40.5</td><td>0.0</td><td>0.5</td><td>2.0</td><td>0.0</td><td>1.0</td><td>44.0</td><td>null</td><td>null</td></tr><tr><td>2</td><td>2022-12-31 23:06:51</td><td>2022-12-31 23:17:08</td><td>null</td><td>0.91</td><td>null</td><td>null</td><td>68</td><td>48</td><td>0</td><td>17.65</td><td>0.0</td><td>0.5</td><td>4.33</td><td>0.0</td><td>1.0</td><td>25.98</td><td>null</td><td>null</td></tr><tr><td>2</td><td>2022-12-31 23:16:37</td><td>2022-12-31 23:34:19</td><td>null</td><td>7.5</td><td>null</td><td>null</td><td>263</td><td>261</td><td>0</td><td>33.63</td><td>0.0</td><td>0.5</td><td>3.76</td><td>0.0</td><td>1.0</td><td>41.39</td><td>null</td><td>null</td></tr><tr><td>2</td><td>2022-12-31 23:46:00</td><td>2023-01-01 00:11:00</td><td>null</td><td>11.56</td><td>null</td><td>null</td><td>16</td><td>36</td><td>0</td><td>39.55</td><td>0.0</td><td>0.5</td><td>8.21</td><td>0.0</td><td>1.0</td><td>49.26</td><td>null</td><td>null</td></tr><tr><td>2</td><td>2022-12-31 23:13:24</td><td>2022-12-31 23:29:08</td><td>null</td><td>5.06</td><td>null</td><td>null</td><td>75</td><td>50</td><td>0</td><td>26.23</td><td>0.0</td><td>0.5</td><td>0.0</td><td>0.0</td><td>1.0</td><td>30.23</td><td>null</td><td>null</td></tr><tr><td>2</td><td>2022-12-31 23:00:49</td><td>2022-12-31 23:26:57</td><td>null</td><td>13.35</td><td>null</td><td>null</td><td>168</td><td>197</td><td>0</td><td>47.73</td><td>0.0</td><td>0.5</td><td>9.85</td><td>0.0</td><td>1.0</td><td>59.08</td><td>null</td><td>null</td></tr><tr><td>1</td><td>2022-12-31 23:02:50</td><td>2022-12-31 23:16:05</td><td>null</td><td>0.0</td><td>null</td><td>null</td><td>238</td><td>116</td><td>0</td><td>12.74</td><td>0.0</td><td>0.5</td><td>0.0</td><td>0.0</td><td>1.0</td><td>16.74</td><td>null</td><td>null</td></tr><tr><td>2</td><td>2022-12-31 23:00:15</td><td>2022-12-31 23:22:56</td><td>null</td><td>4.24</td><td>null</td><td>null</td><td>85</td><td>37</td><td>0</td><td>19.6</td><td>0.0</td><td>0.5</td><td>4.0</td><td>0.0</td><td>1.0</td><td>25.1</td><td>null</td><td>null</td></tr></tbody></table></div>"
      ],
      "text/plain": [
       "shape: (39_656_098, 19)\n",
       "┌──────────┬───────────┬───────────┬───────────┬───┬───────────┬───────────┬───────────┬───────────┐\n",
       "│ VendorID ┆ tpep_pick ┆ tpep_drop ┆ passenger ┆ … ┆ improveme ┆ total_amo ┆ congestio ┆ airport_f │\n",
       "│ ---      ┆ up_dateti ┆ off_datet ┆ _count    ┆   ┆ nt_surcha ┆ unt       ┆ n_surchar ┆ ee        │\n",
       "│ i64      ┆ me        ┆ ime       ┆ ---       ┆   ┆ rge       ┆ ---       ┆ ge        ┆ ---       │\n",
       "│          ┆ ---       ┆ ---       ┆ f64       ┆   ┆ ---       ┆ f64       ┆ ---       ┆ f64       │\n",
       "│          ┆ datetime[ ┆ datetime[ ┆           ┆   ┆ f64       ┆           ┆ f64       ┆           │\n",
       "│          ┆ ns]       ┆ ns]       ┆           ┆   ┆           ┆           ┆           ┆           │\n",
       "╞══════════╪═══════════╪═══════════╪═══════════╪═══╪═══════════╪═══════════╪═══════════╪═══════════╡\n",
       "│ 1        ┆ 2022-01-0 ┆ 2022-01-0 ┆ 2.0       ┆ … ┆ 0.3       ┆ 21.95     ┆ 2.5       ┆ 0.0       │\n",
       "│          ┆ 1         ┆ 1         ┆           ┆   ┆           ┆           ┆           ┆           │\n",
       "│          ┆ 00:35:40  ┆ 00:53:29  ┆           ┆   ┆           ┆           ┆           ┆           │\n",
       "│ 1        ┆ 2022-01-0 ┆ 2022-01-0 ┆ 1.0       ┆ … ┆ 0.3       ┆ 13.3      ┆ 0.0       ┆ 0.0       │\n",
       "│          ┆ 1         ┆ 1         ┆           ┆   ┆           ┆           ┆           ┆           │\n",
       "│          ┆ 00:33:43  ┆ 00:42:07  ┆           ┆   ┆           ┆           ┆           ┆           │\n",
       "│ 2        ┆ 2022-01-0 ┆ 2022-01-0 ┆ 1.0       ┆ … ┆ 0.3       ┆ 10.56     ┆ 0.0       ┆ 0.0       │\n",
       "│          ┆ 1         ┆ 1         ┆           ┆   ┆           ┆           ┆           ┆           │\n",
       "│          ┆ 00:53:21  ┆ 01:02:19  ┆           ┆   ┆           ┆           ┆           ┆           │\n",
       "│ 2        ┆ 2022-01-0 ┆ 2022-01-0 ┆ 1.0       ┆ … ┆ 0.3       ┆ 11.8      ┆ 2.5       ┆ 0.0       │\n",
       "│          ┆ 1         ┆ 1         ┆           ┆   ┆           ┆           ┆           ┆           │\n",
       "│          ┆ 00:25:21  ┆ 00:35:23  ┆           ┆   ┆           ┆           ┆           ┆           │\n",
       "│ 2        ┆ 2022-01-0 ┆ 2022-01-0 ┆ 1.0       ┆ … ┆ 0.3       ┆ 30.3      ┆ 2.5       ┆ 0.0       │\n",
       "│          ┆ 1         ┆ 1         ┆           ┆   ┆           ┆           ┆           ┆           │\n",
       "│          ┆ 00:36:48  ┆ 01:14:20  ┆           ┆   ┆           ┆           ┆           ┆           │\n",
       "│ …        ┆ …         ┆ …         ┆ …         ┆ … ┆ …         ┆ …         ┆ …         ┆ …         │\n",
       "│ 2        ┆ 2022-12-3 ┆ 2023-01-0 ┆ null      ┆ … ┆ 1.0       ┆ 49.26     ┆ null      ┆ null      │\n",
       "│          ┆ 1         ┆ 1         ┆           ┆   ┆           ┆           ┆           ┆           │\n",
       "│          ┆ 23:46:00  ┆ 00:11:00  ┆           ┆   ┆           ┆           ┆           ┆           │\n",
       "│ 2        ┆ 2022-12-3 ┆ 2022-12-3 ┆ null      ┆ … ┆ 1.0       ┆ 30.23     ┆ null      ┆ null      │\n",
       "│          ┆ 1         ┆ 1         ┆           ┆   ┆           ┆           ┆           ┆           │\n",
       "│          ┆ 23:13:24  ┆ 23:29:08  ┆           ┆   ┆           ┆           ┆           ┆           │\n",
       "│ 2        ┆ 2022-12-3 ┆ 2022-12-3 ┆ null      ┆ … ┆ 1.0       ┆ 59.08     ┆ null      ┆ null      │\n",
       "│          ┆ 1         ┆ 1         ┆           ┆   ┆           ┆           ┆           ┆           │\n",
       "│          ┆ 23:00:49  ┆ 23:26:57  ┆           ┆   ┆           ┆           ┆           ┆           │\n",
       "│ 1        ┆ 2022-12-3 ┆ 2022-12-3 ┆ null      ┆ … ┆ 1.0       ┆ 16.74     ┆ null      ┆ null      │\n",
       "│          ┆ 1         ┆ 1         ┆           ┆   ┆           ┆           ┆           ┆           │\n",
       "│          ┆ 23:02:50  ┆ 23:16:05  ┆           ┆   ┆           ┆           ┆           ┆           │\n",
       "│ 2        ┆ 2022-12-3 ┆ 2022-12-3 ┆ null      ┆ … ┆ 1.0       ┆ 25.1      ┆ null      ┆ null      │\n",
       "│          ┆ 1         ┆ 1         ┆           ┆   ┆           ┆           ┆           ┆           │\n",
       "│          ┆ 23:00:15  ┆ 23:22:56  ┆           ┆   ┆           ┆           ┆           ┆           │\n",
       "└──────────┴───────────┴───────────┴───────────┴───┴───────────┴───────────┴───────────┴───────────┘"
      ]
     },
     "execution_count": 14,
     "metadata": {},
     "output_type": "execute_result"
    }
   ],
   "source": [
    "trips = pl.read_parquet(\"data/taxi/yellow_tripdata_*.parquet\")\n",
    "trips"
   ]
  },
  {
   "cell_type": "markdown",
   "id": "d7e19c25",
   "metadata": {},
   "source": [
    "## Reading JSON and NDJSON"
   ]
  },
  {
   "cell_type": "markdown",
   "id": "29c15a97",
   "metadata": {},
   "source": [
    "### JSON"
   ]
  },
  {
   "cell_type": "code",
   "execution_count": 23,
   "id": "1313d4fe",
   "metadata": {},
   "outputs": [
    {
     "data": {
      "text/html": [
       "<div><style>\n",
       ".dataframe > thead > tr,\n",
       ".dataframe > tbody > tr {\n",
       "  text-align: right;\n",
       "  white-space: pre-wrap;\n",
       "}\n",
       "</style>\n",
       "<small>shape: (1, 1)</small><table border=\"1\" class=\"dataframe\"><thead><tr><th>pokemon</th></tr><tr><td>list[struct[17]]</td></tr></thead><tbody><tr><td>[{1,&quot;001&quot;,&quot;Bulbasaur&quot;,&quot;http://www.serebii.net/pokemongo/pokemon/001.png&quot;,[&quot;Grass&quot;, &quot;Poison&quot;],&quot;0.71 m&quot;,&quot;6.9 kg&quot;,&quot;Bulbasaur Candy&quot;,25,&quot;2 km&quot;,0.69,69.0,&quot;20:00&quot;,[1.58],[&quot;Fire&quot;, &quot;Ice&quot;, … &quot;Psychic&quot;],null,[{&quot;002&quot;,&quot;Ivysaur&quot;}, {&quot;003&quot;,&quot;Venusaur&quot;}]}, {2,&quot;002&quot;,&quot;Ivysaur&quot;,&quot;http://www.serebii.net/pokemongo/pokemon/002.png&quot;,[&quot;Grass&quot;, &quot;Poison&quot;],&quot;0.99 m&quot;,&quot;13.0 kg&quot;,&quot;Bulbasaur Candy&quot;,100,&quot;Not in Eggs&quot;,0.042,4.2,&quot;07:00&quot;,[1.2, 1.6],[&quot;Fire&quot;, &quot;Ice&quot;, … &quot;Psychic&quot;],[{&quot;001&quot;,&quot;Bulbasaur&quot;}],[{&quot;003&quot;,&quot;Venusaur&quot;}]}, … {151,&quot;151&quot;,&quot;Mew&quot;,&quot;http://www.serebii.net/pokemongo/pokemon/151.png&quot;,[&quot;Psychic&quot;],&quot;0.41 m&quot;,&quot;4.0 kg&quot;,&quot;None&quot;,null,&quot;Not in Eggs&quot;,0.0,0.0,&quot;N/A&quot;,null,[&quot;Bug&quot;, &quot;Ghost&quot;, &quot;Dark&quot;],null,null}]</td></tr></tbody></table></div>"
      ],
      "text/plain": [
       "shape: (1, 1)\n",
       "┌───────────────────────────────────┐\n",
       "│ pokemon                           │\n",
       "│ ---                               │\n",
       "│ list[struct[17]]                  │\n",
       "╞═══════════════════════════════════╡\n",
       "│ [{1,\"001\",\"Bulbasaur\",\"http://ww… │\n",
       "└───────────────────────────────────┘"
      ]
     },
     "execution_count": 15,
     "metadata": {},
     "output_type": "execute_result"
    }
   ],
   "source": [
    "pokedex = pl.read_json(\"data/pokedex.json\")\n",
    "pokedex"
   ]
  },
  {
   "cell_type": "code",
   "execution_count": 24,
   "id": "8afadecb",
   "metadata": {},
   "outputs": [
    {
     "data": {
      "text/html": [
       "<div><style>\n",
       ".dataframe > thead > tr,\n",
       ".dataframe > tbody > tr {\n",
       "  text-align: right;\n",
       "  white-space: pre-wrap;\n",
       "}\n",
       "</style>\n",
       "<small>shape: (151, 5)</small><table border=\"1\" class=\"dataframe\"><thead><tr><th>id</th><th>name</th><th>type</th><th>height</th><th>weight</th></tr><tr><td>i64</td><td>str</td><td>list[str]</td><td>str</td><td>str</td></tr></thead><tbody><tr><td>1</td><td>&quot;Bulbasaur&quot;</td><td>[&quot;Grass&quot;, &quot;Poison&quot;]</td><td>&quot;0.71 m&quot;</td><td>&quot;6.9 kg&quot;</td></tr><tr><td>2</td><td>&quot;Ivysaur&quot;</td><td>[&quot;Grass&quot;, &quot;Poison&quot;]</td><td>&quot;0.99 m&quot;</td><td>&quot;13.0 kg&quot;</td></tr><tr><td>3</td><td>&quot;Venusaur&quot;</td><td>[&quot;Grass&quot;, &quot;Poison&quot;]</td><td>&quot;2.01 m&quot;</td><td>&quot;100.0 kg&quot;</td></tr><tr><td>4</td><td>&quot;Charmander&quot;</td><td>[&quot;Fire&quot;]</td><td>&quot;0.61 m&quot;</td><td>&quot;8.5 kg&quot;</td></tr><tr><td>5</td><td>&quot;Charmeleon&quot;</td><td>[&quot;Fire&quot;]</td><td>&quot;1.09 m&quot;</td><td>&quot;19.0 kg&quot;</td></tr><tr><td>6</td><td>&quot;Charizard&quot;</td><td>[&quot;Fire&quot;, &quot;Flying&quot;]</td><td>&quot;1.70 m&quot;</td><td>&quot;90.5 kg&quot;</td></tr><tr><td>7</td><td>&quot;Squirtle&quot;</td><td>[&quot;Water&quot;]</td><td>&quot;0.51 m&quot;</td><td>&quot;9.0 kg&quot;</td></tr><tr><td>8</td><td>&quot;Wartortle&quot;</td><td>[&quot;Water&quot;]</td><td>&quot;0.99 m&quot;</td><td>&quot;22.5 kg&quot;</td></tr><tr><td>9</td><td>&quot;Blastoise&quot;</td><td>[&quot;Water&quot;]</td><td>&quot;1.60 m&quot;</td><td>&quot;85.5 kg&quot;</td></tr><tr><td>10</td><td>&quot;Caterpie&quot;</td><td>[&quot;Bug&quot;]</td><td>&quot;0.30 m&quot;</td><td>&quot;2.9 kg&quot;</td></tr><tr><td>11</td><td>&quot;Metapod&quot;</td><td>[&quot;Bug&quot;]</td><td>&quot;0.71 m&quot;</td><td>&quot;9.9 kg&quot;</td></tr><tr><td>12</td><td>&quot;Butterfree&quot;</td><td>[&quot;Bug&quot;, &quot;Flying&quot;]</td><td>&quot;1.09 m&quot;</td><td>&quot;32.0 kg&quot;</td></tr><tr><td>&hellip;</td><td>&hellip;</td><td>&hellip;</td><td>&hellip;</td><td>&hellip;</td></tr><tr><td>140</td><td>&quot;Kabuto&quot;</td><td>[&quot;Rock&quot;, &quot;Water&quot;]</td><td>&quot;0.51 m&quot;</td><td>&quot;11.5 kg&quot;</td></tr><tr><td>141</td><td>&quot;Kabutops&quot;</td><td>[&quot;Rock&quot;, &quot;Water&quot;]</td><td>&quot;1.30 m&quot;</td><td>&quot;40.5 kg&quot;</td></tr><tr><td>142</td><td>&quot;Aerodactyl&quot;</td><td>[&quot;Rock&quot;, &quot;Flying&quot;]</td><td>&quot;1.80 m&quot;</td><td>&quot;59.0 kg&quot;</td></tr><tr><td>143</td><td>&quot;Snorlax&quot;</td><td>[&quot;Normal&quot;]</td><td>&quot;2.11 m&quot;</td><td>&quot;460.0 kg&quot;</td></tr><tr><td>144</td><td>&quot;Articuno&quot;</td><td>[&quot;Ice&quot;, &quot;Flying&quot;]</td><td>&quot;1.70 m&quot;</td><td>&quot;55.4 kg&quot;</td></tr><tr><td>145</td><td>&quot;Zapdos&quot;</td><td>[&quot;Electric&quot;, &quot;Flying&quot;]</td><td>&quot;1.60 m&quot;</td><td>&quot;52.6 kg&quot;</td></tr><tr><td>146</td><td>&quot;Moltres&quot;</td><td>[&quot;Fire&quot;, &quot;Flying&quot;]</td><td>&quot;2.01 m&quot;</td><td>&quot;60.0 kg&quot;</td></tr><tr><td>147</td><td>&quot;Dratini&quot;</td><td>[&quot;Dragon&quot;]</td><td>&quot;1.80 m&quot;</td><td>&quot;3.3 kg&quot;</td></tr><tr><td>148</td><td>&quot;Dragonair&quot;</td><td>[&quot;Dragon&quot;]</td><td>&quot;3.99 m&quot;</td><td>&quot;16.5 kg&quot;</td></tr><tr><td>149</td><td>&quot;Dragonite&quot;</td><td>[&quot;Dragon&quot;, &quot;Flying&quot;]</td><td>&quot;2.21 m&quot;</td><td>&quot;210.0 kg&quot;</td></tr><tr><td>150</td><td>&quot;Mewtwo&quot;</td><td>[&quot;Psychic&quot;]</td><td>&quot;2.01 m&quot;</td><td>&quot;122.0 kg&quot;</td></tr><tr><td>151</td><td>&quot;Mew&quot;</td><td>[&quot;Psychic&quot;]</td><td>&quot;0.41 m&quot;</td><td>&quot;4.0 kg&quot;</td></tr></tbody></table></div>"
      ],
      "text/plain": [
       "shape: (151, 5)\n",
       "┌─────┬────────────┬──────────────────────┬────────┬──────────┐\n",
       "│ id  ┆ name       ┆ type                 ┆ height ┆ weight   │\n",
       "│ --- ┆ ---        ┆ ---                  ┆ ---    ┆ ---      │\n",
       "│ i64 ┆ str        ┆ list[str]            ┆ str    ┆ str      │\n",
       "╞═════╪════════════╪══════════════════════╪════════╪══════════╡\n",
       "│ 1   ┆ Bulbasaur  ┆ [\"Grass\", \"Poison\"]  ┆ 0.71 m ┆ 6.9 kg   │\n",
       "│ 2   ┆ Ivysaur    ┆ [\"Grass\", \"Poison\"]  ┆ 0.99 m ┆ 13.0 kg  │\n",
       "│ 3   ┆ Venusaur   ┆ [\"Grass\", \"Poison\"]  ┆ 2.01 m ┆ 100.0 kg │\n",
       "│ 4   ┆ Charmander ┆ [\"Fire\"]             ┆ 0.61 m ┆ 8.5 kg   │\n",
       "│ 5   ┆ Charmeleon ┆ [\"Fire\"]             ┆ 1.09 m ┆ 19.0 kg  │\n",
       "│ …   ┆ …          ┆ …                    ┆ …      ┆ …        │\n",
       "│ 147 ┆ Dratini    ┆ [\"Dragon\"]           ┆ 1.80 m ┆ 3.3 kg   │\n",
       "│ 148 ┆ Dragonair  ┆ [\"Dragon\"]           ┆ 3.99 m ┆ 16.5 kg  │\n",
       "│ 149 ┆ Dragonite  ┆ [\"Dragon\", \"Flying\"] ┆ 2.21 m ┆ 210.0 kg │\n",
       "│ 150 ┆ Mewtwo     ┆ [\"Psychic\"]          ┆ 2.01 m ┆ 122.0 kg │\n",
       "│ 151 ┆ Mew        ┆ [\"Psychic\"]          ┆ 0.41 m ┆ 4.0 kg   │\n",
       "└─────┴────────────┴──────────────────────┴────────┴──────────┘"
      ]
     },
     "execution_count": 16,
     "metadata": {},
     "output_type": "execute_result"
    }
   ],
   "source": [
    "(\n",
    "    pokedex.explode(\"pokemon\")\n",
    "    .unnest(\"pokemon\")\n",
    "    .select(\"id\", \"name\", \"type\", \"height\", \"weight\")\n",
    ")"
   ]
  },
  {
   "cell_type": "markdown",
   "id": "21bd9aa3",
   "metadata": {},
   "source": [
    "### NDJSON"
   ]
  },
  {
   "cell_type": "code",
   "execution_count": 26,
   "id": "3a579acd",
   "metadata": {},
   "outputs": [
    {
     "name": "stdout",
     "output_type": "stream",
     "text": [
      "{'$schema': '/mediawiki/recentchange/1.0.0',\n",
      " 'bot': False,\n",
      " 'comment': '/* League champions, runners-up and play-off finalists */',\n",
      " 'id': 1659529639,\n",
      " 'length': {'new': 91166, 'old': 91108},\n",
      " 'meta': {'domain': 'en.wikipedia.org',\n",
      "          'dt': '2023-07-29T07:51:39Z',\n",
      "          'id': '0416300b-980c-45bb-b0a2-c9d7a9e2b7eb',\n",
      "          'offset': 4820784717,\n",
      "          'partition': 0,\n",
      "          'request_id': 'ea0541fb-4e72-4fc3-82f0-6c26651b2043',\n",
      "          'stream': 'mediawiki.recentchange',\n",
      "          'topic': 'eqiad.mediawiki.recentchange',\n",
      "          'uri': 'https://en.wikipedia.org/wiki/EFL_Championship'},\n",
      " 'minor': False,\n",
      " 'namespace': 0,\n",
      " 'notify_url': 'https://en.wikipedia.org/w/index.php?diff=1167689309&oldid=1166824248',\n",
      " 'parsedcomment': '<span dir=\"auto\"><span class=\"autocomment\"><a '\n",
      "                  'href=\"/wiki/EFL_Championship#League_champions,_runners-up_and_play-off_finalists\" '\n",
      "                  'title=\"EFL Championship\">→\\u200eLeague champions, '\n",
      "                  'runners-up and play-off finalists</a></span></span>',\n",
      " 'revision': {'new': 1167689309, 'old': 1166824248},\n",
      " 'server_name': 'en.wikipedia.org',\n",
      " 'server_script_path': '/w',\n",
      " 'server_url': 'https://en.wikipedia.org',\n",
      " 'timestamp': 1690617099,\n",
      " 'title': 'EFL Championship',\n",
      " 'title_url': 'https://en.wikipedia.org/wiki/EFL_Championship',\n",
      " 'type': 'edit',\n",
      " 'user': '87.12.215.232',\n",
      " 'wiki': 'enwiki'}\n"
     ]
    }
   ],
   "source": [
    "from json import loads\n",
    "from pprint import pprint\n",
    "\n",
    "with open(\"data/wikimedia.ndjson\") as f:\n",
    "    pprint(loads(f.readline()))"
   ]
  },
  {
   "cell_type": "code",
   "execution_count": 27,
   "id": "539abbd2",
   "metadata": {},
   "outputs": [
    {
     "data": {
      "text/html": [
       "<div><style>\n",
       ".dataframe > thead > tr,\n",
       ".dataframe > tbody > tr {\n",
       "  text-align: right;\n",
       "  white-space: pre-wrap;\n",
       "}\n",
       "</style>\n",
       "<small>shape: (100, 20)</small><table border=\"1\" class=\"dataframe\"><thead><tr><th>$schema</th><th>meta</th><th>id</th><th>type</th><th>namespace</th><th>title</th><th>title_url</th><th>comment</th><th>timestamp</th><th>user</th><th>bot</th><th>notify_url</th><th>minor</th><th>length</th><th>revision</th><th>server_url</th><th>server_name</th><th>server_script_path</th><th>wiki</th><th>parsedcomment</th></tr><tr><td>str</td><td>struct[9]</td><td>i64</td><td>str</td><td>i64</td><td>str</td><td>str</td><td>str</td><td>i64</td><td>str</td><td>bool</td><td>str</td><td>bool</td><td>struct[2]</td><td>struct[2]</td><td>str</td><td>str</td><td>str</td><td>str</td><td>str</td></tr></thead><tbody><tr><td>&quot;/mediawiki/rec…</td><td>{&quot;https://en.wikipedia.org/wiki/EFL_Championship&quot;,&quot;ea0541fb-4e72-4fc3-82f0-6c26651b2043&quot;,&quot;0416300b-980c-45bb-b0a2-c9d7a9e2b7eb&quot;,&quot;2023-07-29T07:51:39Z&quot;,&quot;en.wikipedia.org&quot;,&quot;mediawiki.recentchange&quot;,&quot;eqiad.mediawiki.recentchange&quot;,0,4820784717}</td><td>1659529639</td><td>&quot;edit&quot;</td><td>0</td><td>&quot;EFL Championsh…</td><td>&quot;https://en.wik…</td><td>&quot;/* League cham…</td><td>1690617099</td><td>&quot;87.12.215.232&quot;</td><td>false</td><td>&quot;https://en.wik…</td><td>false</td><td>{91108,91166}</td><td>{1166824248,1167689309}</td><td>&quot;https://en.wik…</td><td>&quot;en.wikipedia.o…</td><td>&quot;/w&quot;</td><td>&quot;enwiki&quot;</td><td>&quot;&lt;span dir=&quot;aut…</td></tr><tr><td>&quot;/mediawiki/rec…</td><td>{&quot;https://en.wikipedia.org/wiki/Lim_Sang-choon&quot;,&quot;01a0f468-7553-48db-b553-7ac392b2187c&quot;,&quot;97e4dc39-fb32-4774-9c9a-b2caea391c9e&quot;,&quot;2023-07-29T07:51:42Z&quot;,&quot;en.wikipedia.org&quot;,&quot;mediawiki.recentchange&quot;,&quot;eqiad.mediawiki.recentchange&quot;,0,4820784731}</td><td>1659529640</td><td>&quot;edit&quot;</td><td>0</td><td>&quot;Lim Sang-choon…</td><td>&quot;https://en.wik…</td><td>&quot;&quot;</td><td>1690617102</td><td>&quot;Preferwiki&quot;</td><td>false</td><td>&quot;https://en.wik…</td><td>false</td><td>{9807,10480}</td><td>{1167689034,1167689310}</td><td>&quot;https://en.wik…</td><td>&quot;en.wikipedia.o…</td><td>&quot;/w&quot;</td><td>&quot;enwiki&quot;</td><td>&quot;&quot;</td></tr><tr><td>&quot;/mediawiki/rec…</td><td>{&quot;https://en.wikipedia.org/wiki/Higher&quot;,&quot;5f053899-a2ab-4dec-8e98-1d01cd86093d&quot;,&quot;0da41aa2-ceb6-443f-8a0a-0633f83de6ec&quot;,&quot;2023-07-29T07:51:44Z&quot;,&quot;en.wikipedia.org&quot;,&quot;mediawiki.recentchange&quot;,&quot;eqiad.mediawiki.recentchange&quot;,0,4820784748}</td><td>1659529642</td><td>&quot;edit&quot;</td><td>0</td><td>&quot;Higher&quot;</td><td>&quot;https://en.wik…</td><td>&quot;/* Albums */ a…</td><td>1690617104</td><td>&quot;Ss112&quot;</td><td>false</td><td>&quot;https://en.wik…</td><td>false</td><td>{5452,5548}</td><td>{1162509981,1167689312}</td><td>&quot;https://en.wik…</td><td>&quot;en.wikipedia.o…</td><td>&quot;/w&quot;</td><td>&quot;enwiki&quot;</td><td>&quot;&lt;span dir=&quot;aut…</td></tr><tr><td>&quot;/mediawiki/rec…</td><td>{&quot;https://en.wikipedia.org/wiki/International_Poker_Rules&quot;,&quot;10c4886c-95f5-4cd2-8db9-333cb45f041b&quot;,&quot;af9cc405-26b2-485d-b20c-edd21b2a2a4c&quot;,&quot;2023-07-29T07:51:44Z&quot;,&quot;en.wikipedia.org&quot;,&quot;mediawiki.recentchange&quot;,&quot;eqiad.mediawiki.recentchange&quot;,0,4820784763}</td><td>1659529643</td><td>&quot;edit&quot;</td><td>0</td><td>&quot;International …</td><td>&quot;https://en.wik…</td><td>&quot;Nominated for …</td><td>1690617104</td><td>&quot;Piotrus&quot;</td><td>false</td><td>&quot;https://en.wik…</td><td>false</td><td>{2452,2896}</td><td>{1055827921,1167689313}</td><td>&quot;https://en.wik…</td><td>&quot;en.wikipedia.o…</td><td>&quot;/w&quot;</td><td>&quot;enwiki&quot;</td><td>&quot;Nominated for …</td></tr><tr><td>&quot;/mediawiki/rec…</td><td>{&quot;https://en.wikipedia.org/wiki/Abdul_Hamid_Khan_Bhashani&quot;,&quot;198e47ae-fa33-4059-970a-550536e7bc7c&quot;,&quot;2012e36f-9fa1-49dc-ba68-5946de740cd4&quot;,&quot;2023-07-29T07:51:45Z&quot;,&quot;en.wikipedia.org&quot;,&quot;mediawiki.recentchange&quot;,&quot;eqiad.mediawiki.recentchange&quot;,0,4820784800}</td><td>1659529653</td><td>&quot;edit&quot;</td><td>0</td><td>&quot;Abdul Hamid Kh…</td><td>&quot;https://en.wik…</td><td>&quot;Rescuing 1 sou…</td><td>1690617105</td><td>&quot;InternetArchiv…</td><td>true</td><td>&quot;https://en.wik…</td><td>false</td><td>{31503,31687}</td><td>{1163358967,1167689318}</td><td>&quot;https://en.wik…</td><td>&quot;en.wikipedia.o…</td><td>&quot;/w&quot;</td><td>&quot;enwiki&quot;</td><td>&quot;Rescuing 1 sou…</td></tr><tr><td>&quot;/mediawiki/rec…</td><td>{&quot;https://en.wikipedia.org/wiki/Wikipedia:WikiProject_Deletion_sorting/Games&quot;,&quot;8ab3db5c-746e-4633-92ba-0af44ffcff23&quot;,&quot;b25cf398-bd6d-431c-b9c4-7e577adc7857&quot;,&quot;2023-07-29T07:51:46Z&quot;,&quot;en.wikipedia.org&quot;,&quot;mediawiki.recentchange&quot;,&quot;eqiad.mediawiki.recentchange&quot;,0,4820784825}</td><td>1659529654</td><td>&quot;edit&quot;</td><td>4</td><td>&quot;Wikipedia:Wiki…</td><td>&quot;https://en.wik…</td><td>&quot;Listing [[:Wik…</td><td>1690617106</td><td>&quot;Piotrus&quot;</td><td>false</td><td>&quot;https://en.wik…</td><td>false</td><td>{965,1027}</td><td>{1167689146,1167689319}</td><td>&quot;https://en.wik…</td><td>&quot;en.wikipedia.o…</td><td>&quot;/w&quot;</td><td>&quot;enwiki&quot;</td><td>&quot;Listing &lt;a hre…</td></tr><tr><td>&quot;/mediawiki/rec…</td><td>{&quot;https://en.wikipedia.org/wiki/Wikipedia:Articles_for_deletion/Log/2023_July_29&quot;,&quot;16fe5145-a76a-4d36-8ea6-f4464567f51f&quot;,&quot;caa52460-e60f-429e-bbf0-af22676e3421&quot;,&quot;2023-07-29T07:51:45Z&quot;,&quot;en.wikipedia.org&quot;,&quot;mediawiki.recentchange&quot;,&quot;eqiad.mediawiki.recentchange&quot;,0,4820784827}</td><td>1659529655</td><td>&quot;edit&quot;</td><td>4</td><td>&quot;Wikipedia:Arti…</td><td>&quot;https://en.wik…</td><td>&quot;Adding [[:Wiki…</td><td>1690617105</td><td>&quot;Piotrus&quot;</td><td>false</td><td>&quot;https://en.wik…</td><td>false</td><td>{2723,2785}</td><td>{1167689143,1167689317}</td><td>&quot;https://en.wik…</td><td>&quot;en.wikipedia.o…</td><td>&quot;/w&quot;</td><td>&quot;enwiki&quot;</td><td>&quot;Adding &lt;a href…</td></tr><tr><td>&quot;/mediawiki/rec…</td><td>{&quot;https://en.wikipedia.org/wiki/Brett_Eibner&quot;,&quot;24740db6-6e84-476f-897f-7ff5ec64e91e&quot;,&quot;31a5220e-e3a0-4741-9b6f-6f345fdb0eed&quot;,&quot;2023-07-29T07:51:49Z&quot;,&quot;en.wikipedia.org&quot;,&quot;mediawiki.recentchange&quot;,&quot;eqiad.mediawiki.recentchange&quot;,0,4820784885}</td><td>1659529659</td><td>&quot;edit&quot;</td><td>0</td><td>&quot;Brett Eibner&quot;</td><td>&quot;https://en.wik…</td><td>&quot;&quot;</td><td>1690617109</td><td>&quot;Stonecold415&quot;</td><td>false</td><td>&quot;https://en.wik…</td><td>false</td><td>{15597,15595}</td><td>{1167689278,1167689320}</td><td>&quot;https://en.wik…</td><td>&quot;en.wikipedia.o…</td><td>&quot;/w&quot;</td><td>&quot;enwiki&quot;</td><td>&quot;&quot;</td></tr><tr><td>&quot;/mediawiki/rec…</td><td>{&quot;https://en.wikipedia.org/wiki/Cuckoo_wrasse&quot;,&quot;858ad8d4-346d-4880-8cd1-a62a5ddcab41&quot;,&quot;65dcd928-bc2d-4472-a936-f0ec3550e563&quot;,&quot;2023-07-29T07:51:51Z&quot;,&quot;en.wikipedia.org&quot;,&quot;mediawiki.recentchange&quot;,&quot;eqiad.mediawiki.recentchange&quot;,0,4820784903}</td><td>1659529660</td><td>&quot;edit&quot;</td><td>0</td><td>&quot;Cuckoo wrasse&quot;</td><td>&quot;https://en.wik…</td><td>&quot;&quot;</td><td>1690617111</td><td>&quot;Couiros22&quot;</td><td>false</td><td>&quot;https://en.wik…</td><td>false</td><td>{7918,7877}</td><td>{1127956235,1167689322}</td><td>&quot;https://en.wik…</td><td>&quot;en.wikipedia.o…</td><td>&quot;/w&quot;</td><td>&quot;enwiki&quot;</td><td>&quot;&quot;</td></tr><tr><td>&quot;/mediawiki/rec…</td><td>{&quot;https://en.wikipedia.org/wiki/Billy_Strachan&quot;,&quot;32865489-ab95-4365-8161-09d13af11174&quot;,&quot;75f43217-dedd-469d-b9ed-301fdbafb10f&quot;,&quot;2023-07-29T07:51:51Z&quot;,&quot;en.wikipedia.org&quot;,&quot;mediawiki.recentchange&quot;,&quot;eqiad.mediawiki.recentchange&quot;,0,4820784946}</td><td>1659529665</td><td>&quot;edit&quot;</td><td>0</td><td>&quot;Billy Strachan…</td><td>&quot;https://en.wik…</td><td>&quot;added [[Catego…</td><td>1690617111</td><td>&quot;The History Wi…</td><td>false</td><td>&quot;https://en.wik…</td><td>false</td><td>{68830,68878}</td><td>{1167689304,1167689326}</td><td>&quot;https://en.wik…</td><td>&quot;en.wikipedia.o…</td><td>&quot;/w&quot;</td><td>&quot;enwiki&quot;</td><td>&quot;added &lt;a href=…</td></tr><tr><td>&quot;/mediawiki/rec…</td><td>{&quot;https://en.wikipedia.org/wiki/United_States_Public_Health_Service&quot;,&quot;17d20424-83c6-45a0-9986-67f3ccdc1bb8&quot;,&quot;a81b8578-8dce-484d-b743-9ca79a5fd805&quot;,&quot;2023-07-29T07:52:35Z&quot;,&quot;en.wikipedia.org&quot;,&quot;mediawiki.recentchange&quot;,&quot;eqiad.mediawiki.recentchange&quot;,0,4820786241}</td><td>1659529782</td><td>&quot;edit&quot;</td><td>0</td><td>&quot;United States …</td><td>&quot;https://en.wik…</td><td>&quot;Source attribu…</td><td>1690617155</td><td>&quot;Shhhnotsoloud&quot;</td><td>false</td><td>&quot;https://en.wik…</td><td>false</td><td>{44078,44043}</td><td>{1167689217,1167689366}</td><td>&quot;https://en.wik…</td><td>&quot;en.wikipedia.o…</td><td>&quot;/w&quot;</td><td>&quot;enwiki&quot;</td><td>&quot;Source attribu…</td></tr><tr><td>&quot;/mediawiki/rec…</td><td>{&quot;https://en.wikipedia.org/wiki/Draft:Josh_Feeney&quot;,&quot;f345b8ee-4b4a-4b38-a9d6-7d26279e5421&quot;,&quot;fee5a429-f4ad-4865-80bc-955d3385d4a0&quot;,&quot;2023-07-29T07:52:36Z&quot;,&quot;en.wikipedia.org&quot;,&quot;mediawiki.recentchange&quot;,&quot;eqiad.mediawiki.recentchange&quot;,0,4820786280}</td><td>1659529787</td><td>&quot;edit&quot;</td><td>118</td><td>&quot;Draft:Josh Fee…</td><td>&quot;https://en.wik…</td><td>&quot;/* Career */&quot;</td><td>1690617156</td><td>&quot;Hildreth gazza…</td><td>false</td><td>&quot;https://en.wik…</td><td>false</td><td>{3794,4228}</td><td>{1167689090,1167689369}</td><td>&quot;https://en.wik…</td><td>&quot;en.wikipedia.o…</td><td>&quot;/w&quot;</td><td>&quot;enwiki&quot;</td><td>&quot;&lt;span dir=&quot;aut…</td></tr><tr><td>&hellip;</td><td>&hellip;</td><td>&hellip;</td><td>&hellip;</td><td>&hellip;</td><td>&hellip;</td><td>&hellip;</td><td>&hellip;</td><td>&hellip;</td><td>&hellip;</td><td>&hellip;</td><td>&hellip;</td><td>&hellip;</td><td>&hellip;</td><td>&hellip;</td><td>&hellip;</td><td>&hellip;</td><td>&hellip;</td><td>&hellip;</td><td>&hellip;</td></tr><tr><td>&quot;/mediawiki/rec…</td><td>{&quot;https://en.wikipedia.org/wiki/Boatmen_of_Thessaloniki&quot;,&quot;a9e3cc31-dcf2-48cc-8b0c-b4b725de81b3&quot;,&quot;da6ca520-4daa-4282-84f3-af48b1129426&quot;,&quot;2023-07-29T07:53:51Z&quot;,&quot;en.wikipedia.org&quot;,&quot;mediawiki.recentchange&quot;,&quot;eqiad.mediawiki.recentchange&quot;,0,4820788247}</td><td>1659529937</td><td>&quot;edit&quot;</td><td>0</td><td>&quot;Boatmen of The…</td><td>&quot;https://en.wik…</td><td>&quot;address cleanu…</td><td>1690617231</td><td>&quot;Czar&quot;</td><td>false</td><td>&quot;https://en.wik…</td><td>false</td><td>{34430,27324}</td><td>{1166846027,1167689463}</td><td>&quot;https://en.wik…</td><td>&quot;en.wikipedia.o…</td><td>&quot;/w&quot;</td><td>&quot;enwiki&quot;</td><td>&quot;address cleanu…</td></tr><tr><td>&quot;/mediawiki/rec…</td><td>{&quot;https://en.wikipedia.org/wiki/List_of_named_storms_(K)&quot;,&quot;d99af11e-20f5-491d-89a7-48ec3ae987f5&quot;,&quot;98eed335-2181-4437-a9a8-6430be226fef&quot;,&quot;2023-07-29T07:53:53Z&quot;,&quot;en.wikipedia.org&quot;,&quot;mediawiki.recentchange&quot;,&quot;eqiad.mediawiki.recentchange&quot;,0,4820788273}</td><td>1659529938</td><td>&quot;edit&quot;</td><td>0</td><td>&quot;List of named …</td><td>&quot;https://en.wik…</td><td>&quot;/* Storms */&quot;</td><td>1690617233</td><td>&quot;Sleepinthestar…</td><td>false</td><td>&quot;https://en.wik…</td><td>false</td><td>{36477,36560}</td><td>{1167440561,1167689464}</td><td>&quot;https://en.wik…</td><td>&quot;en.wikipedia.o…</td><td>&quot;/w&quot;</td><td>&quot;enwiki&quot;</td><td>&quot;&lt;span dir=&quot;aut…</td></tr><tr><td>&quot;/mediawiki/rec…</td><td>{&quot;https://en.wikipedia.org/wiki/FC_Belshina_Bobruisk&quot;,&quot;17180a1f-b909-4355-91aa-bc9378140833&quot;,&quot;047c88b3-ca20-4044-a72e-edc2641d0531&quot;,&quot;2023-07-29T07:53:54Z&quot;,&quot;en.wikipedia.org&quot;,&quot;mediawiki.recentchange&quot;,&quot;eqiad.mediawiki.recentchange&quot;,0,4820788279}</td><td>1659529939</td><td>&quot;edit&quot;</td><td>0</td><td>&quot;FC Belshina Bo…</td><td>&quot;https://en.wik…</td><td>&quot;/* Current squ…</td><td>1690617234</td><td>&quot;BlameRuiner&quot;</td><td>false</td><td>&quot;https://en.wik…</td><td>false</td><td>{18768,18857}</td><td>{1167045117,1167689465}</td><td>&quot;https://en.wik…</td><td>&quot;en.wikipedia.o…</td><td>&quot;/w&quot;</td><td>&quot;enwiki&quot;</td><td>&quot;&lt;span dir=&quot;aut…</td></tr><tr><td>&quot;/mediawiki/rec…</td><td>{&quot;https://en.wikipedia.org/wiki/Brett_Eibner&quot;,&quot;6ce5309d-3382-4a53-8d24-22d466893b8e&quot;,&quot;73d75b6e-d1f3-4feb-bc23-0f13e02a2ef0&quot;,&quot;2023-07-29T07:53:53Z&quot;,&quot;en.wikipedia.org&quot;,&quot;mediawiki.recentchange&quot;,&quot;eqiad.mediawiki.recentchange&quot;,0,4820788284}</td><td>1659529940</td><td>&quot;edit&quot;</td><td>0</td><td>&quot;Brett Eibner&quot;</td><td>&quot;https://en.wik…</td><td>&quot;/* Miami Marli…</td><td>1690617233</td><td>&quot;Stonecold415&quot;</td><td>false</td><td>&quot;https://en.wik…</td><td>false</td><td>{15669,15835}</td><td>{1167689380,1167689467}</td><td>&quot;https://en.wik…</td><td>&quot;en.wikipedia.o…</td><td>&quot;/w&quot;</td><td>&quot;enwiki&quot;</td><td>&quot;&lt;span dir=&quot;aut…</td></tr><tr><td>&quot;/mediawiki/rec…</td><td>{&quot;https://en.wikipedia.org/wiki/Escape_respirator&quot;,&quot;5f4aebad-3ea5-433d-8c83-4b8a783b9584&quot;,&quot;7dea3334-0115-4d32-95da-c8db2799e5ff&quot;,&quot;2023-07-29T07:53:54Z&quot;,&quot;en.wikipedia.org&quot;,&quot;mediawiki.recentchange&quot;,&quot;eqiad.mediawiki.recentchange&quot;,0,4820788325}</td><td>1659529953</td><td>&quot;edit&quot;</td><td>0</td><td>&quot;Escape respira…</td><td>&quot;https://en.wik…</td><td>&quot;/* References …</td><td>1690617234</td><td>&quot;Pbsouthwood&quot;</td><td>false</td><td>&quot;https://en.wik…</td><td>false</td><td>{2337,2373}</td><td>{1167612221,1167689469}</td><td>&quot;https://en.wik…</td><td>&quot;en.wikipedia.o…</td><td>&quot;/w&quot;</td><td>&quot;enwiki&quot;</td><td>&quot;&lt;span dir=&quot;aut…</td></tr><tr><td>&quot;/mediawiki/rec…</td><td>{&quot;https://en.wikipedia.org/wiki/Nirvana_(band)&quot;,&quot;b2755f90-f294-4a92-9ecb-148c6746497d&quot;,&quot;6fcff41e-903d-4bb5-82ca-3a3a10e1de4e&quot;,&quot;2023-07-29T07:53:55Z&quot;,&quot;en.wikipedia.org&quot;,&quot;mediawiki.recentchange&quot;,&quot;eqiad.mediawiki.recentchange&quot;,0,4820788327}</td><td>1659529954</td><td>&quot;edit&quot;</td><td>0</td><td>&quot;Nirvana (band)…</td><td>&quot;https://en.wik…</td><td>&quot;/* Timeline */…</td><td>1690617235</td><td>&quot;BoxxyBoy&quot;</td><td>false</td><td>&quot;https://en.wik…</td><td>false</td><td>{94764,94759}</td><td>{1167095735,1167689471}</td><td>&quot;https://en.wik…</td><td>&quot;en.wikipedia.o…</td><td>&quot;/w&quot;</td><td>&quot;enwiki&quot;</td><td>&quot;&lt;span dir=&quot;aut…</td></tr><tr><td>&quot;/mediawiki/rec…</td><td>{&quot;https://en.wikipedia.org/wiki/List_of_people_from_Lima&quot;,&quot;3aeb0dfe-1442-46d3-9290-a3f566d765dc&quot;,&quot;46b32eea-c59b-4f9a-9bc8-be73816827b3&quot;,&quot;2023-07-29T07:53:57Z&quot;,&quot;en.wikipedia.org&quot;,&quot;mediawiki.recentchange&quot;,&quot;eqiad.mediawiki.recentchange&quot;,0,4820788360}</td><td>1659529960</td><td>&quot;edit&quot;</td><td>0</td><td>&quot;List of people…</td><td>&quot;https://en.wik…</td><td>&quot;/* Photographe…</td><td>1690617237</td><td>&quot;82.49.81.20&quot;</td><td>false</td><td>&quot;https://en.wik…</td><td>false</td><td>{42815,42836}</td><td>{1167689147,1167689473}</td><td>&quot;https://en.wik…</td><td>&quot;en.wikipedia.o…</td><td>&quot;/w&quot;</td><td>&quot;enwiki&quot;</td><td>&quot;&lt;span dir=&quot;aut…</td></tr><tr><td>&quot;/mediawiki/rec…</td><td>{&quot;https://en.wikipedia.org/wiki/Havering_Residents_Association&quot;,&quot;d563edd1-2a19-491b-9604-aea1b7c57a67&quot;,&quot;f5b5b53d-8024-4c4d-810b-e3c04b8f2392&quot;,&quot;2023-07-29T07:53:58Z&quot;,&quot;en.wikipedia.org&quot;,&quot;mediawiki.recentchange&quot;,&quot;eqiad.mediawiki.recentchange&quot;,0,4820788373}</td><td>1659529961</td><td>&quot;edit&quot;</td><td>0</td><td>&quot;Havering Resid…</td><td>&quot;https://en.wik…</td><td>&quot;/* 2018 electi…</td><td>1690617238</td><td>&quot;MRSC&quot;</td><td>false</td><td>&quot;https://en.wik…</td><td>false</td><td>{7590,7707}</td><td>{1167689281,1167689476}</td><td>&quot;https://en.wik…</td><td>&quot;en.wikipedia.o…</td><td>&quot;/w&quot;</td><td>&quot;enwiki&quot;</td><td>&quot;&lt;span dir=&quot;aut…</td></tr><tr><td>&quot;/mediawiki/rec…</td><td>{&quot;https://en.wikipedia.org/wiki/Olha_Kharlan&quot;,&quot;7caa4fe3-2ddf-4a57-b6d4-6eee505f5e49&quot;,&quot;b7b84f63-69f7-4317-82b2-df4a3e853723&quot;,&quot;2023-07-29T07:53:55Z&quot;,&quot;en.wikipedia.org&quot;,&quot;mediawiki.recentchange&quot;,&quot;eqiad.mediawiki.recentchange&quot;,0,4820788404}</td><td>1659529963</td><td>&quot;edit&quot;</td><td>0</td><td>&quot;Olha Kharlan&quot;</td><td>&quot;https://en.wik…</td><td>&quot;Ce&quot;</td><td>1690617235</td><td>&quot;2603:7000:2101…</td><td>false</td><td>&quot;https://en.wik…</td><td>false</td><td>{65119,65323}</td><td>{1167666634,1167689477}</td><td>&quot;https://en.wik…</td><td>&quot;en.wikipedia.o…</td><td>&quot;/w&quot;</td><td>&quot;enwiki&quot;</td><td>&quot;Ce&quot;</td></tr><tr><td>&quot;/mediawiki/rec…</td><td>{&quot;https://en.wikipedia.org/wiki/Mukim_Kota_Batu&quot;,&quot;1032a354-1171-47a2-bdb3-cbcb78a070bf&quot;,&quot;a2b2601e-5adc-4ed2-b8fc-292d128009d7&quot;,&quot;2023-07-29T07:53:58Z&quot;,&quot;en.wikipedia.org&quot;,&quot;mediawiki.recentchange&quot;,&quot;eqiad.mediawiki.recentchange&quot;,0,4820788418}</td><td>1659529964</td><td>&quot;edit&quot;</td><td>0</td><td>&quot;Mukim Kota Bat…</td><td>&quot;https://en.wik…</td><td>&quot;&quot;</td><td>1690617238</td><td>&quot;Pangalau&quot;</td><td>false</td><td>&quot;https://en.wik…</td><td>false</td><td>{7178,7189}</td><td>{1150066841,1167689474}</td><td>&quot;https://en.wik…</td><td>&quot;en.wikipedia.o…</td><td>&quot;/w&quot;</td><td>&quot;enwiki&quot;</td><td>&quot;&quot;</td></tr><tr><td>&quot;/mediawiki/rec…</td><td>{&quot;https://en.wikipedia.org/wiki/User:IDK1213safasx/sandbox&quot;,&quot;0f29a0a7-de5a-4197-a8dd-98b6a4eb5f6f&quot;,&quot;5c2219b5-7b3e-4720-944b-94afb5764b76&quot;,&quot;2023-07-29T07:53:59Z&quot;,&quot;en.wikipedia.org&quot;,&quot;mediawiki.recentchange&quot;,&quot;eqiad.mediawiki.recentchange&quot;,0,4820788422}</td><td>1659529965</td><td>&quot;edit&quot;</td><td>2</td><td>&quot;User:IDK1213sa…</td><td>&quot;https://en.wik…</td><td>&quot;&quot;</td><td>1690617239</td><td>&quot;94.101.29.27&quot;</td><td>false</td><td>&quot;https://en.wik…</td><td>false</td><td>{2122,2122}</td><td>{1167356449,1167689478}</td><td>&quot;https://en.wik…</td><td>&quot;en.wikipedia.o…</td><td>&quot;/w&quot;</td><td>&quot;enwiki&quot;</td><td>&quot;&quot;</td></tr><tr><td>&quot;/mediawiki/rec…</td><td>{&quot;https://en.wikipedia.org/wiki/List_of_bus_routes_in_London&quot;,&quot;04c7fd52-5689-4905-a208-9a92900e8efe&quot;,&quot;2eea26f7-4a02-454e-b597-82d3cb78f2ea&quot;,&quot;2023-07-29T07:53:54Z&quot;,&quot;en.wikipedia.org&quot;,&quot;mediawiki.recentchange&quot;,&quot;eqiad.mediawiki.recentchange&quot;,0,4820788423}</td><td>1659529966</td><td>&quot;edit&quot;</td><td>0</td><td>&quot;List of bus ro…</td><td>&quot;https://en.wik…</td><td>&quot;/* Non-TfL bus…</td><td>1690617234</td><td>&quot;Pedroperezhumb…</td><td>false</td><td>&quot;https://en.wik…</td><td>false</td><td>{155160,155098}</td><td>{1167688737,1167689472}</td><td>&quot;https://en.wik…</td><td>&quot;en.wikipedia.o…</td><td>&quot;/w&quot;</td><td>&quot;enwiki&quot;</td><td>&quot;&lt;span dir=&quot;aut…</td></tr></tbody></table></div>"
      ],
      "text/plain": [
       "shape: (100, 20)\n",
       "┌─────────────┬────────────┬────────────┬──────┬───┬────────────┬────────────┬────────┬────────────┐\n",
       "│ $schema     ┆ meta       ┆ id         ┆ type ┆ … ┆ server_nam ┆ server_scr ┆ wiki   ┆ parsedcomm │\n",
       "│ ---         ┆ ---        ┆ ---        ┆ ---  ┆   ┆ e          ┆ ipt_path   ┆ ---    ┆ ent        │\n",
       "│ str         ┆ struct[9]  ┆ i64        ┆ str  ┆   ┆ ---        ┆ ---        ┆ str    ┆ ---        │\n",
       "│             ┆            ┆            ┆      ┆   ┆ str        ┆ str        ┆        ┆ str        │\n",
       "╞═════════════╪════════════╪════════════╪══════╪═══╪════════════╪════════════╪════════╪════════════╡\n",
       "│ /mediawiki/ ┆ {\"https:// ┆ 1659529639 ┆ edit ┆ … ┆ en.wikiped ┆ /w         ┆ enwiki ┆ <span dir= │\n",
       "│ recentchang ┆ en.wikiped ┆            ┆      ┆   ┆ ia.org     ┆            ┆        ┆ \"auto\"><sp │\n",
       "│ e/1.0.0     ┆ ia.org/wik ┆            ┆      ┆   ┆            ┆            ┆        ┆ an         │\n",
       "│             ┆ i/…        ┆            ┆      ┆   ┆            ┆            ┆        ┆ class=\"au… │\n",
       "│ /mediawiki/ ┆ {\"https:// ┆ 1659529640 ┆ edit ┆ … ┆ en.wikiped ┆ /w         ┆ enwiki ┆            │\n",
       "│ recentchang ┆ en.wikiped ┆            ┆      ┆   ┆ ia.org     ┆            ┆        ┆            │\n",
       "│ e/1.0.0     ┆ ia.org/wik ┆            ┆      ┆   ┆            ┆            ┆        ┆            │\n",
       "│             ┆ i/…        ┆            ┆      ┆   ┆            ┆            ┆        ┆            │\n",
       "│ /mediawiki/ ┆ {\"https:// ┆ 1659529642 ┆ edit ┆ … ┆ en.wikiped ┆ /w         ┆ enwiki ┆ <span dir= │\n",
       "│ recentchang ┆ en.wikiped ┆            ┆      ┆   ┆ ia.org     ┆            ┆        ┆ \"auto\"><sp │\n",
       "│ e/1.0.0     ┆ ia.org/wik ┆            ┆      ┆   ┆            ┆            ┆        ┆ an         │\n",
       "│             ┆ i/…        ┆            ┆      ┆   ┆            ┆            ┆        ┆ class=\"au… │\n",
       "│ /mediawiki/ ┆ {\"https:// ┆ 1659529643 ┆ edit ┆ … ┆ en.wikiped ┆ /w         ┆ enwiki ┆ Nominated  │\n",
       "│ recentchang ┆ en.wikiped ┆            ┆      ┆   ┆ ia.org     ┆            ┆        ┆ for        │\n",
       "│ e/1.0.0     ┆ ia.org/wik ┆            ┆      ┆   ┆            ┆            ┆        ┆ deletion;  │\n",
       "│             ┆ i/…        ┆            ┆      ┆   ┆            ┆            ┆        ┆ see <a h…  │\n",
       "│ /mediawiki/ ┆ {\"https:// ┆ 1659529653 ┆ edit ┆ … ┆ en.wikiped ┆ /w         ┆ enwiki ┆ Rescuing 1 │\n",
       "│ recentchang ┆ en.wikiped ┆            ┆      ┆   ┆ ia.org     ┆            ┆        ┆ sources    │\n",
       "│ e/1.0.0     ┆ ia.org/wik ┆            ┆      ┆   ┆            ┆            ┆        ┆ and        │\n",
       "│             ┆ i/…        ┆            ┆      ┆   ┆            ┆            ┆        ┆ tagging 0… │\n",
       "│ …           ┆ …          ┆ …          ┆ …    ┆ … ┆ …          ┆ …          ┆ …      ┆ …          │\n",
       "│ /mediawiki/ ┆ {\"https:// ┆ 1659529961 ┆ edit ┆ … ┆ en.wikiped ┆ /w         ┆ enwiki ┆ <span dir= │\n",
       "│ recentchang ┆ en.wikiped ┆            ┆      ┆   ┆ ia.org     ┆            ┆        ┆ \"auto\"><sp │\n",
       "│ e/1.0.0     ┆ ia.org/wik ┆            ┆      ┆   ┆            ┆            ┆        ┆ an         │\n",
       "│             ┆ i/…        ┆            ┆      ┆   ┆            ┆            ┆        ┆ class=\"au… │\n",
       "│ /mediawiki/ ┆ {\"https:// ┆ 1659529963 ┆ edit ┆ … ┆ en.wikiped ┆ /w         ┆ enwiki ┆ Ce         │\n",
       "│ recentchang ┆ en.wikiped ┆            ┆      ┆   ┆ ia.org     ┆            ┆        ┆            │\n",
       "│ e/1.0.0     ┆ ia.org/wik ┆            ┆      ┆   ┆            ┆            ┆        ┆            │\n",
       "│             ┆ i/…        ┆            ┆      ┆   ┆            ┆            ┆        ┆            │\n",
       "│ /mediawiki/ ┆ {\"https:// ┆ 1659529964 ┆ edit ┆ … ┆ en.wikiped ┆ /w         ┆ enwiki ┆            │\n",
       "│ recentchang ┆ en.wikiped ┆            ┆      ┆   ┆ ia.org     ┆            ┆        ┆            │\n",
       "│ e/1.0.0     ┆ ia.org/wik ┆            ┆      ┆   ┆            ┆            ┆        ┆            │\n",
       "│             ┆ i/…        ┆            ┆      ┆   ┆            ┆            ┆        ┆            │\n",
       "│ /mediawiki/ ┆ {\"https:// ┆ 1659529965 ┆ edit ┆ … ┆ en.wikiped ┆ /w         ┆ enwiki ┆            │\n",
       "│ recentchang ┆ en.wikiped ┆            ┆      ┆   ┆ ia.org     ┆            ┆        ┆            │\n",
       "│ e/1.0.0     ┆ ia.org/wik ┆            ┆      ┆   ┆            ┆            ┆        ┆            │\n",
       "│             ┆ i/…        ┆            ┆      ┆   ┆            ┆            ┆        ┆            │\n",
       "│ /mediawiki/ ┆ {\"https:// ┆ 1659529966 ┆ edit ┆ … ┆ en.wikiped ┆ /w         ┆ enwiki ┆ <span dir= │\n",
       "│ recentchang ┆ en.wikiped ┆            ┆      ┆   ┆ ia.org     ┆            ┆        ┆ \"auto\"><sp │\n",
       "│ e/1.0.0     ┆ ia.org/wik ┆            ┆      ┆   ┆            ┆            ┆        ┆ an         │\n",
       "│             ┆ i/…        ┆            ┆      ┆   ┆            ┆            ┆        ┆ class=\"au… │\n",
       "└─────────────┴────────────┴────────────┴──────┴───┴────────────┴────────────┴────────┴────────────┘"
      ]
     },
     "execution_count": 18,
     "metadata": {},
     "output_type": "execute_result"
    }
   ],
   "source": [
    "wikimedia = pl.read_ndjson(\"data/wikimedia.ndjson\")\n",
    "wikimedia"
   ]
  },
  {
   "cell_type": "code",
   "execution_count": 28,
   "id": "38a271f1",
   "metadata": {},
   "outputs": [
    {
     "data": {
      "text/html": [
       "<div><style>\n",
       ".dataframe > thead > tr,\n",
       ".dataframe > tbody > tr {\n",
       "  text-align: right;\n",
       "  white-space: pre-wrap;\n",
       "}\n",
       "</style>\n",
       "<small>shape: (100, 4)</small><table border=\"1\" class=\"dataframe\"><thead><tr><th>timestamp</th><th>title</th><th>user</th><th>comment</th></tr><tr><td>i64</td><td>str</td><td>str</td><td>str</td></tr></thead><tbody><tr><td>1690617099</td><td>&quot;EFL Championsh…</td><td>&quot;87.12.215.232&quot;</td><td>&quot;/* League cham…</td></tr><tr><td>1690617102</td><td>&quot;Lim Sang-choon…</td><td>&quot;Preferwiki&quot;</td><td>&quot;&quot;</td></tr><tr><td>1690617104</td><td>&quot;Higher&quot;</td><td>&quot;Ss112&quot;</td><td>&quot;/* Albums */ a…</td></tr><tr><td>1690617104</td><td>&quot;International …</td><td>&quot;Piotrus&quot;</td><td>&quot;Nominated for …</td></tr><tr><td>1690617105</td><td>&quot;Abdul Hamid Kh…</td><td>&quot;InternetArchiv…</td><td>&quot;Rescuing 1 sou…</td></tr><tr><td>1690617106</td><td>&quot;Wikipedia:Wiki…</td><td>&quot;Piotrus&quot;</td><td>&quot;Listing [[:Wik…</td></tr><tr><td>1690617105</td><td>&quot;Wikipedia:Arti…</td><td>&quot;Piotrus&quot;</td><td>&quot;Adding [[:Wiki…</td></tr><tr><td>1690617109</td><td>&quot;Brett Eibner&quot;</td><td>&quot;Stonecold415&quot;</td><td>&quot;&quot;</td></tr><tr><td>1690617111</td><td>&quot;Cuckoo wrasse&quot;</td><td>&quot;Couiros22&quot;</td><td>&quot;&quot;</td></tr><tr><td>1690617111</td><td>&quot;Billy Strachan…</td><td>&quot;The History Wi…</td><td>&quot;added [[Catego…</td></tr><tr><td>1690617155</td><td>&quot;United States …</td><td>&quot;Shhhnotsoloud&quot;</td><td>&quot;Source attribu…</td></tr><tr><td>1690617156</td><td>&quot;Draft:Josh Fee…</td><td>&quot;Hildreth gazza…</td><td>&quot;/* Career */&quot;</td></tr><tr><td>&hellip;</td><td>&hellip;</td><td>&hellip;</td><td>&hellip;</td></tr><tr><td>1690617231</td><td>&quot;Boatmen of The…</td><td>&quot;Czar&quot;</td><td>&quot;address cleanu…</td></tr><tr><td>1690617233</td><td>&quot;List of named …</td><td>&quot;Sleepinthestar…</td><td>&quot;/* Storms */&quot;</td></tr><tr><td>1690617234</td><td>&quot;FC Belshina Bo…</td><td>&quot;BlameRuiner&quot;</td><td>&quot;/* Current squ…</td></tr><tr><td>1690617233</td><td>&quot;Brett Eibner&quot;</td><td>&quot;Stonecold415&quot;</td><td>&quot;/* Miami Marli…</td></tr><tr><td>1690617234</td><td>&quot;Escape respira…</td><td>&quot;Pbsouthwood&quot;</td><td>&quot;/* References …</td></tr><tr><td>1690617235</td><td>&quot;Nirvana (band)…</td><td>&quot;BoxxyBoy&quot;</td><td>&quot;/* Timeline */…</td></tr><tr><td>1690617237</td><td>&quot;List of people…</td><td>&quot;82.49.81.20&quot;</td><td>&quot;/* Photographe…</td></tr><tr><td>1690617238</td><td>&quot;Havering Resid…</td><td>&quot;MRSC&quot;</td><td>&quot;/* 2018 electi…</td></tr><tr><td>1690617235</td><td>&quot;Olha Kharlan&quot;</td><td>&quot;2603:7000:2101…</td><td>&quot;Ce&quot;</td></tr><tr><td>1690617238</td><td>&quot;Mukim Kota Bat…</td><td>&quot;Pangalau&quot;</td><td>&quot;&quot;</td></tr><tr><td>1690617239</td><td>&quot;User:IDK1213sa…</td><td>&quot;94.101.29.27&quot;</td><td>&quot;&quot;</td></tr><tr><td>1690617234</td><td>&quot;List of bus ro…</td><td>&quot;Pedroperezhumb…</td><td>&quot;/* Non-TfL bus…</td></tr></tbody></table></div>"
      ],
      "text/plain": [
       "shape: (100, 4)\n",
       "┌────────────┬────────────────────────────┬────────────────────────────┬───────────────────────────┐\n",
       "│ timestamp  ┆ title                      ┆ user                       ┆ comment                   │\n",
       "│ ---        ┆ ---                        ┆ ---                        ┆ ---                       │\n",
       "│ i64        ┆ str                        ┆ str                        ┆ str                       │\n",
       "╞════════════╪════════════════════════════╪════════════════════════════╪═══════════════════════════╡\n",
       "│ 1690617099 ┆ EFL Championship           ┆ 87.12.215.232              ┆ /* League champions,      │\n",
       "│            ┆                            ┆                            ┆ runners-up …              │\n",
       "│ 1690617102 ┆ Lim Sang-choon             ┆ Preferwiki                 ┆                           │\n",
       "│ 1690617104 ┆ Higher                     ┆ Ss112                      ┆ /* Albums */ add          │\n",
       "│ 1690617104 ┆ International Poker Rules  ┆ Piotrus                    ┆ Nominated for deletion;   │\n",
       "│            ┆                            ┆                            ┆ see [[:W…                 │\n",
       "│ 1690617105 ┆ Abdul Hamid Khan Bhashani  ┆ InternetArchiveBot         ┆ Rescuing 1 sources and    │\n",
       "│            ┆                            ┆                            ┆ tagging 0…                │\n",
       "│ …          ┆ …                          ┆ …                          ┆ …                         │\n",
       "│ 1690617238 ┆ Havering Residents         ┆ MRSC                       ┆ /* 2018 election */ +map  │\n",
       "│            ┆ Association                ┆                            ┆                           │\n",
       "│ 1690617235 ┆ Olha Kharlan               ┆ 2603:7000:2101:AA00:2C88:E ┆ Ce                        │\n",
       "│            ┆                            ┆ F86:E0…                    ┆                           │\n",
       "│ 1690617238 ┆ Mukim Kota Batu            ┆ Pangalau                   ┆                           │\n",
       "│ 1690617239 ┆ User:IDK1213safasx/sandbox ┆ 94.101.29.27               ┆                           │\n",
       "│ 1690617234 ┆ List of bus routes in      ┆ Pedroperezhumberto         ┆ /* Non-TfL bus routes in  │\n",
       "│            ┆ London                     ┆                            ┆ Greater…                  │\n",
       "└────────────┴────────────────────────────┴────────────────────────────┴───────────────────────────┘"
      ]
     },
     "execution_count": 19,
     "metadata": {},
     "output_type": "execute_result"
    }
   ],
   "source": [
    "(\n",
    "    wikimedia.rename({\"id\": \"edit_id\"})\n",
    "    .unnest(\"meta\")\n",
    "    .select(\"timestamp\", \"title\", \"user\", \"comment\")\n",
    ")"
   ]
  },
  {
   "cell_type": "markdown",
   "id": "81b75050",
   "metadata": {},
   "source": [
    "## Other File Formats"
   ]
  },
  {
   "cell_type": "code",
   "execution_count": 30,
   "id": "ffedfbf9",
   "metadata": {},
   "outputs": [
    {
     "data": {
      "text/html": [
       "<div><style>\n",
       ".dataframe > thead > tr,\n",
       ".dataframe > tbody > tr {\n",
       "  text-align: right;\n",
       "  white-space: pre-wrap;\n",
       "}\n",
       "</style>\n",
       "<small>shape: (62, 4)</small><table border=\"1\" class=\"dataframe\"><thead><tr><th>abbreviation</th><th>Latin</th><th>translation</th><th>usage and notes</th></tr><tr><td>str</td><td>str</td><td>str</td><td>str</td></tr></thead><tbody><tr><td>&quot;A.D.&quot;</td><td>&quot;anno Domini&quot;</td><td>&quot;&quot;in the year o…</td><td>&quot;Used to label …</td></tr><tr><td>&quot;A.I.&quot;</td><td>&quot;ad interim&quot;</td><td>&quot;&quot;temporarily&quot;&quot;</td><td>&quot;Used in busine…</td></tr><tr><td>&quot;a.m.&quot;</td><td>&quot;ante meridiem&quot;</td><td>&quot;&quot;before midday…</td><td>&quot;Used on the tw…</td></tr><tr><td>&quot;ca./c.&quot;</td><td>&quot;circa&quot;</td><td>&quot;&quot;around&quot;, &quot;abo…</td><td>&quot;Used with date…</td></tr><tr><td>&quot;Cap.&quot;</td><td>&quot;capitulus&quot;</td><td>&quot;&quot;chapter&quot;&quot;</td><td>&quot;Used before a …</td></tr><tr><td>&quot;cf.&quot;</td><td>&quot;confer&quot;</td><td>&quot;&quot;bring togethe…</td><td>&quot;Confer is an i…</td></tr><tr><td>&quot;C.P.&quot;</td><td>&quot;ceteris paribu…</td><td>&quot;&quot;other things …</td><td>&quot;Commonly used …</td></tr><tr><td>&quot;C.V.&quot;</td><td>&quot;curriculum vit…</td><td>&quot;&quot;course of lif…</td><td>&quot;A document con…</td></tr><tr><td>&quot;cwt.&quot;</td><td>&quot;centum weight&quot;</td><td>&quot;&quot;hundredweight…</td><td>&quot;This is a mixt…</td></tr><tr><td>&quot;D.V.&quot;</td><td>&quot;Deo volente&quot;</td><td>&quot;&quot;God willing&quot;&quot;</td><td>null</td></tr><tr><td>&quot;D.G.&quot;</td><td>&quot;Dei gratia&quot;</td><td>&quot;&quot;by the grace …</td><td>&quot;A part of the …</td></tr><tr><td>&quot;ead.&quot;</td><td>&quot;eadem&quot;</td><td>&quot;&quot;the same&quot; (wo…</td><td>&quot;See id. below.…</td></tr><tr><td>&hellip;</td><td>&hellip;</td><td>&hellip;</td><td>&hellip;</td></tr><tr><td>&quot;S.A.&quot;</td><td>&quot;sensu amplo&quot;</td><td>&quot;&quot;in a relaxed,…</td><td>null</td></tr><tr><td>&quot;s.a.&quot;</td><td>&quot;sine anno&quot;</td><td>&quot;&quot;without year …</td><td>&quot;Commonly used …</td></tr><tr><td>&quot;sc. scil.&quot;</td><td>&quot;scilicet&quot;</td><td>&quot;&quot;it is permitt…</td><td>&quot;Sc. provides a…</td></tr><tr><td>&quot;s.d.&quot;</td><td>&quot;sine data&quot;</td><td>&quot;&quot;without date …</td><td>&quot;Commonly used …</td></tr><tr><td>&quot;S.L.&quot;</td><td>&quot;sensu lato&quot;</td><td>&quot;&quot;in the wide o…</td><td>&quot;Example: &quot;New …</td></tr><tr><td>&quot;s.l.&quot;</td><td>&quot;sine loco&quot;</td><td>&quot;&quot;without place…</td><td>&quot;Commonly used …</td></tr><tr><td>&quot;S.S.&quot;</td><td>&quot;sensu stricto&quot;</td><td>&quot;&quot;in the strict…</td><td>&quot;Example: &quot;New …</td></tr><tr><td>&quot;S.O.S.&quot;</td><td>&quot;si opus sit&quot;</td><td>&quot;&quot;if there is n…</td><td>&quot;A prescription…</td></tr><tr><td>&quot;sic&quot;</td><td>&quot;sic erat scrip…</td><td>&quot;&quot;thus it was w…</td><td>&quot;Often used whe…</td></tr><tr><td>&quot;stat.&quot;</td><td>&quot;statim&quot;</td><td>&quot;&quot;immediately&quot;&quot;</td><td>&quot;Often used in …</td></tr><tr><td>&quot;viz.&quot;</td><td>&quot;videlicet&quot;</td><td>&quot;&quot;namely&quot;, &quot;to …</td><td>&quot;In contradisti…</td></tr><tr><td>&quot;vs. v.&quot;</td><td>&quot;versus&quot;</td><td>&quot;&quot;against&quot;&quot;</td><td>&quot;Sometimes is n…</td></tr></tbody></table></div>"
      ],
      "text/plain": [
       "shape: (62, 4)\n",
       "┌──────────────┬───────────────────┬───────────────────────────┬───────────────────────────────────┐\n",
       "│ abbreviation ┆ Latin             ┆ translation               ┆ usage and notes                   │\n",
       "│ ---          ┆ ---               ┆ ---                       ┆ ---                               │\n",
       "│ str          ┆ str               ┆ str                       ┆ str                               │\n",
       "╞══════════════╪═══════════════════╪═══════════════════════════╪═══════════════════════════════════╡\n",
       "│ A.D.         ┆ anno Domini       ┆ \"in the year of the Lord\" ┆ Used to label or number years in… │\n",
       "│ A.I.         ┆ ad interim        ┆ \"temporarily\"             ┆ Used in business organizational … │\n",
       "│ a.m.         ┆ ante meridiem     ┆ \"before midday\"[1]        ┆ Used on the twelve-hour clock to… │\n",
       "│ ca./c.       ┆ circa             ┆ \"around\", \"about\",        ┆ Used with dates to indicate \"app… │\n",
       "│              ┆                   ┆ \"approximatel…            ┆                                   │\n",
       "│ Cap.         ┆ capitulus         ┆ \"chapter\"                 ┆ Used before a chapter number of … │\n",
       "│ …            ┆ …                 ┆ …                         ┆ …                                 │\n",
       "│ S.O.S.       ┆ si opus sit       ┆ \"if there is need\", \"if   ┆ A prescription indication that t… │\n",
       "│              ┆                   ┆ occasion…                 ┆                                   │\n",
       "│ sic          ┆ sic erat scriptum ┆ \"thus it was written\"     ┆ Often used when citing text, esp… │\n",
       "│ stat.        ┆ statim            ┆ \"immediately\"             ┆ Often used in medical contexts. … │\n",
       "│ viz.         ┆ videlicet         ┆ \"namely\", \"to wit\",       ┆ In contradistinction to \"i.e.\" a… │\n",
       "│              ┆                   ┆ \"precisely\",…             ┆                                   │\n",
       "│ vs. v.       ┆ versus            ┆ \"against\"                 ┆ Sometimes is not abbreviated. Ex… │\n",
       "└──────────────┴───────────────────┴───────────────────────────┴───────────────────────────────────┘"
      ]
     },
     "execution_count": 20,
     "metadata": {},
     "output_type": "execute_result"
    }
   ],
   "source": [
    "import pandas as pd\n",
    "\n",
    "url = \"https://en.wikipedia.org/wiki/List_of_Latin_abbreviations\"\n",
    "pl.from_pandas(pd.read_html(url)[0])"
   ]
  },
  {
   "cell_type": "markdown",
   "id": "2b4af5ea",
   "metadata": {},
   "source": [
    "## Querying Databases"
   ]
  },
  {
   "cell_type": "code",
   "execution_count": 32,
   "id": "e6e3354e",
   "metadata": {},
   "outputs": [
    {
     "data": {
      "text/html": [
       "<div><style>\n",
       ".dataframe > thead > tr,\n",
       ".dataframe > tbody > tr {\n",
       "  text-align: right;\n",
       "  white-space: pre-wrap;\n",
       "}\n",
       "</style>\n",
       "<small>shape: (10, 5)</small><table border=\"1\" class=\"dataframe\"><thead><tr><th>film_id</th><th>title</th><th>category</th><th>rating</th><th>length</th></tr><tr><td>i64</td><td>str</td><td>str</td><td>str</td><td>f64</td></tr></thead><tbody><tr><td>1</td><td>&quot;ACADEMY DINOSA…</td><td>&quot;Documentary&quot;</td><td>&quot;PG&quot;</td><td>1.433333</td></tr><tr><td>2</td><td>&quot;ACE GOLDFINGER…</td><td>&quot;Horror&quot;</td><td>&quot;G&quot;</td><td>0.8</td></tr><tr><td>3</td><td>&quot;ADAPTATION HOL…</td><td>&quot;Documentary&quot;</td><td>&quot;NC-17&quot;</td><td>0.833333</td></tr><tr><td>4</td><td>&quot;AFFAIR PREJUDI…</td><td>&quot;Horror&quot;</td><td>&quot;G&quot;</td><td>1.95</td></tr><tr><td>5</td><td>&quot;AFRICAN EGG&quot;</td><td>&quot;Family&quot;</td><td>&quot;G&quot;</td><td>2.166667</td></tr><tr><td>6</td><td>&quot;AGENT TRUMAN&quot;</td><td>&quot;Foreign&quot;</td><td>&quot;PG&quot;</td><td>2.816667</td></tr><tr><td>7</td><td>&quot;AIRPLANE SIERR…</td><td>&quot;Comedy&quot;</td><td>&quot;PG-13&quot;</td><td>1.033333</td></tr><tr><td>8</td><td>&quot;AIRPORT POLLOC…</td><td>&quot;Horror&quot;</td><td>&quot;R&quot;</td><td>0.9</td></tr><tr><td>9</td><td>&quot;ALABAMA DEVIL&quot;</td><td>&quot;Horror&quot;</td><td>&quot;PG-13&quot;</td><td>1.9</td></tr><tr><td>10</td><td>&quot;ALADDIN CALEND…</td><td>&quot;Sports&quot;</td><td>&quot;NC-17&quot;</td><td>1.05</td></tr></tbody></table></div>"
      ],
      "text/plain": [
       "shape: (10, 5)\n",
       "┌─────────┬──────────────────┬─────────────┬────────┬──────────┐\n",
       "│ film_id ┆ title            ┆ category    ┆ rating ┆ length   │\n",
       "│ ---     ┆ ---              ┆ ---         ┆ ---    ┆ ---      │\n",
       "│ i64     ┆ str              ┆ str         ┆ str    ┆ f64      │\n",
       "╞═════════╪══════════════════╪═════════════╪════════╪══════════╡\n",
       "│ 1       ┆ ACADEMY DINOSAUR ┆ Documentary ┆ PG     ┆ 1.433333 │\n",
       "│ 2       ┆ ACE GOLDFINGER   ┆ Horror      ┆ G      ┆ 0.8      │\n",
       "│ 3       ┆ ADAPTATION HOLES ┆ Documentary ┆ NC-17  ┆ 0.833333 │\n",
       "│ 4       ┆ AFFAIR PREJUDICE ┆ Horror      ┆ G      ┆ 1.95     │\n",
       "│ 5       ┆ AFRICAN EGG      ┆ Family      ┆ G      ┆ 2.166667 │\n",
       "│ 6       ┆ AGENT TRUMAN     ┆ Foreign     ┆ PG     ┆ 2.816667 │\n",
       "│ 7       ┆ AIRPLANE SIERRA  ┆ Comedy      ┆ PG-13  ┆ 1.033333 │\n",
       "│ 8       ┆ AIRPORT POLLOCK  ┆ Horror      ┆ R      ┆ 0.9      │\n",
       "│ 9       ┆ ALABAMA DEVIL    ┆ Horror      ┆ PG-13  ┆ 1.9      │\n",
       "│ 10      ┆ ALADDIN CALENDAR ┆ Sports      ┆ NC-17  ┆ 1.05     │\n",
       "└─────────┴──────────────────┴─────────────┴────────┴──────────┘"
      ]
     },
     "execution_count": 21,
     "metadata": {},
     "output_type": "execute_result"
    }
   ],
   "source": [
    "pl.read_database_uri(\n",
    "    query=\"\"\"\n",
    "    SELECT\n",
    "        f.film_id,\n",
    "        f.title,\n",
    "        c.name AS category,\n",
    "        f.rating,\n",
    "        f.length / 60.0 AS length\n",
    "    FROM\n",
    "        film AS f,\n",
    "        film_category AS fc,\n",
    "        category AS c\n",
    "    WHERE\n",
    "        fc.film_id = f.film_id\n",
    "        AND fc.category_id = c.category_id\n",
    "    LIMIT 10\n",
    "    \"\"\",\n",
    "    uri=\"sqlite:::data/sakila.db\",\n",
    ")"
   ]
  },
  {
   "cell_type": "code",
   "execution_count": 33,
   "id": "0d4c43df",
   "metadata": {},
   "outputs": [
    {
     "data": {
      "text/html": [
       "<div><style>\n",
       ".dataframe > thead > tr,\n",
       ".dataframe > tbody > tr {\n",
       "  text-align: right;\n",
       "  white-space: pre-wrap;\n",
       "}\n",
       "</style>\n",
       "<small>shape: (10, 5)</small><table border=\"1\" class=\"dataframe\"><thead><tr><th>film_id</th><th>title</th><th>category</th><th>rating</th><th>length</th></tr><tr><td>i64</td><td>str</td><td>str</td><td>str</td><td>f64</td></tr></thead><tbody><tr><td>1</td><td>&quot;ACADEMY DINOSA…</td><td>&quot;Documentary&quot;</td><td>&quot;PG&quot;</td><td>1.433333</td></tr><tr><td>2</td><td>&quot;ACE GOLDFINGER…</td><td>&quot;Horror&quot;</td><td>&quot;G&quot;</td><td>0.8</td></tr><tr><td>3</td><td>&quot;ADAPTATION HOL…</td><td>&quot;Documentary&quot;</td><td>&quot;NC-17&quot;</td><td>0.833333</td></tr><tr><td>4</td><td>&quot;AFFAIR PREJUDI…</td><td>&quot;Horror&quot;</td><td>&quot;G&quot;</td><td>1.95</td></tr><tr><td>5</td><td>&quot;AFRICAN EGG&quot;</td><td>&quot;Family&quot;</td><td>&quot;G&quot;</td><td>2.166667</td></tr><tr><td>6</td><td>&quot;AGENT TRUMAN&quot;</td><td>&quot;Foreign&quot;</td><td>&quot;PG&quot;</td><td>2.816667</td></tr><tr><td>7</td><td>&quot;AIRPLANE SIERR…</td><td>&quot;Comedy&quot;</td><td>&quot;PG-13&quot;</td><td>1.033333</td></tr><tr><td>8</td><td>&quot;AIRPORT POLLOC…</td><td>&quot;Horror&quot;</td><td>&quot;R&quot;</td><td>0.9</td></tr><tr><td>9</td><td>&quot;ALABAMA DEVIL&quot;</td><td>&quot;Horror&quot;</td><td>&quot;PG-13&quot;</td><td>1.9</td></tr><tr><td>10</td><td>&quot;ALADDIN CALEND…</td><td>&quot;Sports&quot;</td><td>&quot;NC-17&quot;</td><td>1.05</td></tr></tbody></table></div>"
      ],
      "text/plain": [
       "shape: (10, 5)\n",
       "┌─────────┬──────────────────┬─────────────┬────────┬──────────┐\n",
       "│ film_id ┆ title            ┆ category    ┆ rating ┆ length   │\n",
       "│ ---     ┆ ---              ┆ ---         ┆ ---    ┆ ---      │\n",
       "│ i64     ┆ str              ┆ str         ┆ str    ┆ f64      │\n",
       "╞═════════╪══════════════════╪═════════════╪════════╪══════════╡\n",
       "│ 1       ┆ ACADEMY DINOSAUR ┆ Documentary ┆ PG     ┆ 1.433333 │\n",
       "│ 2       ┆ ACE GOLDFINGER   ┆ Horror      ┆ G      ┆ 0.8      │\n",
       "│ 3       ┆ ADAPTATION HOLES ┆ Documentary ┆ NC-17  ┆ 0.833333 │\n",
       "│ 4       ┆ AFFAIR PREJUDICE ┆ Horror      ┆ G      ┆ 1.95     │\n",
       "│ 5       ┆ AFRICAN EGG      ┆ Family      ┆ G      ┆ 2.166667 │\n",
       "│ 6       ┆ AGENT TRUMAN     ┆ Foreign     ┆ PG     ┆ 2.816667 │\n",
       "│ 7       ┆ AIRPLANE SIERRA  ┆ Comedy      ┆ PG-13  ┆ 1.033333 │\n",
       "│ 8       ┆ AIRPORT POLLOCK  ┆ Horror      ┆ R      ┆ 0.9      │\n",
       "│ 9       ┆ ALABAMA DEVIL    ┆ Horror      ┆ PG-13  ┆ 1.9      │\n",
       "│ 10      ┆ ALADDIN CALENDAR ┆ Sports      ┆ NC-17  ┆ 1.05     │\n",
       "└─────────┴──────────────────┴─────────────┴────────┴──────────┘"
      ]
     },
     "execution_count": 22,
     "metadata": {},
     "output_type": "execute_result"
    }
   ],
   "source": [
    "db = \"sqlite:::data/sakila.db\"\n",
    "films = pl.read_database_uri(\"SELECT * FROM film\", db)\n",
    "film_categories = pl.read_database_uri(\"SELECT * FROM film_category\", db)\n",
    "categories = pl.read_database_uri(\"SELECT * FROM category\", db)\n",
    "\n",
    "(\n",
    "    films.join(film_categories, on=\"film_id\", suffix=\"_fc\")\n",
    "    .join(categories, on=\"category_id\", suffix=\"_c\")\n",
    "    .select(\n",
    "        \"film_id\",\n",
    "        \"title\",\n",
    "        pl.col(\"name\").alias(\"category\"),\n",
    "        \"rating\",\n",
    "        pl.col(\"length\") / 60,\n",
    "    )\n",
    "    .limit(10)\n",
    ")"
   ]
  },
  {
   "cell_type": "markdown",
   "id": "782d8f2d",
   "metadata": {},
   "source": [
    "## Writing Data"
   ]
  },
  {
   "cell_type": "markdown",
   "id": "eca995b3",
   "metadata": {},
   "source": [
    "### CSV Format"
   ]
  },
  {
   "cell_type": "markdown",
   "id": "ade806e6",
   "metadata": {},
   "source": [
    "### Excel Format"
   ]
  },
  {
   "cell_type": "markdown",
   "id": "9e8b7eb9",
   "metadata": {},
   "source": [
    "### Parquet Format"
   ]
  },
  {
   "cell_type": "markdown",
   "id": "75104b79",
   "metadata": {},
   "source": [
    "### Other Considerations"
   ]
  },
  {
   "cell_type": "markdown",
   "id": "193dc0c3",
   "metadata": {},
   "source": [
    "## Conclusion"
   ]
  }
 ],
 "metadata": {
  "language_info": {
   "codemirror_mode": {
    "name": "ipython",
    "version": 3
   },
   "file_extension": ".py",
   "mimetype": "text/x-python",
   "name": "python",
   "nbconvert_exporter": "python",
   "pygments_lexer": "ipython3",
   "version": "3.11.7"
  }
 },
 "nbformat": 4,
 "nbformat_minor": 5
}
