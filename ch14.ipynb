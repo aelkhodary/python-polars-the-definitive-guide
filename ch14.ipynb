{
 "cells": [
  {
   "cell_type": "markdown",
   "metadata": {},
   "source": [
    "# Chapter 14: Joining and Concatenating"
   ]
  },
  {
   "cell_type": "code",
   "execution_count": null,
   "metadata": {},
   "outputs": [],
   "source": [
    "import polars as pl\n",
    "pl.show_versions()  # The book is built with Polars version 1.8.2"
   ]
  },
  {
   "cell_type": "markdown",
   "metadata": {},
   "source": [
    "## Joining"
   ]
  },
  {
   "cell_type": "markdown",
   "metadata": {},
   "source": [
    "### Join Strategies"
   ]
  },
  {
   "cell_type": "code",
   "execution_count": null,
   "metadata": {},
   "outputs": [],
   "source": [
    "import polars as pl\n",
    "\n",
    "df_left = pl.DataFrame({\n",
    "    \"key\": [\"A\", \"B\", \"C\", \"D\"],\n",
    "    \"value\": [1, 2, 3, 4]\n",
    "})\n",
    "\n",
    "df_right = pl.DataFrame({\n",
    "    \"key\": [\"B\", \"C\", \"D\", \"E\"],\n",
    "    \"value\": [5, 6, 7, 8]\n",
    "})\n"
   ]
  },
  {
   "cell_type": "code",
   "execution_count": null,
   "metadata": {},
   "outputs": [],
   "source": [
    "df_left.join(df_right, on=\"key\", how=\"inner\")"
   ]
  },
  {
   "cell_type": "code",
   "execution_count": null,
   "metadata": {},
   "outputs": [],
   "source": [
    "df_left.join(df_right, on=\"key\", how=\"full\", suffix=\"_other\")"
   ]
  },
  {
   "cell_type": "code",
   "execution_count": null,
   "metadata": {},
   "outputs": [],
   "source": [
    "df_left.join(df_right, on=\"key\", how=\"left\")"
   ]
  },
  {
   "cell_type": "code",
   "execution_count": null,
   "metadata": {},
   "outputs": [],
   "source": [
    "df_left.join(df_right, how=\"cross\")"
   ]
  },
  {
   "cell_type": "code",
   "execution_count": null,
   "metadata": {},
   "outputs": [],
   "source": [
    "df_left.join(df_right, on=\"key\", how=\"semi\")"
   ]
  },
  {
   "cell_type": "code",
   "execution_count": null,
   "metadata": {},
   "outputs": [],
   "source": [
    "df_left.join(df_right, on=\"key\", how=\"anti\")"
   ]
  },
  {
   "cell_type": "markdown",
   "metadata": {},
   "source": [
    "### Joining on Multiple Columns"
   ]
  },
  {
   "cell_type": "code",
   "execution_count": null,
   "metadata": {},
   "outputs": [],
   "source": [
    "df_left = pl.DataFrame({\n",
    "    \"name\": [\"Alice\", \"Bob\", \"Charlie\", \"Dave\"],\n",
    "    \"city\": [\"NY\", \"LA\", \"NY\", \"SF\"],\n",
    "    \"age\": [25, 30, 35, 40]\n",
    "})\n",
    "\n",
    "df_right = pl.DataFrame({\n",
    "    \"name\": [\"Alice\", \"Bob\", \"Charlie\", \"Dave\"],\n",
    "    \"city\": [\"NY\", \"LA\", \"NY\", \"Chicago\"],\n",
    "    \"department\": [\"Finance\", \"Marketing\", \"Engineering\", \"Operations\"]\n",
    "})\n",
    "\n",
    "df_left.join(df_right, on=[\"name\", \"city\"], how=\"inner\")"
   ]
  },
  {
   "cell_type": "markdown",
   "metadata": {},
   "source": [
    "### Validation"
   ]
  },
  {
   "cell_type": "code",
   "execution_count": null,
   "metadata": {},
   "outputs": [],
   "source": [
    "df_employees = pl.DataFrame({\n",
    "    \"employee_id\": [1, 2, 3, 4],\n",
    "    \"name\": [\"Alice\", \"Bob\", \"Charlie\", \"Dave\"],\n",
    "    \"department_id\": [10, 10, 30, 10],\n",
    "})\n",
    "\n",
    "df_departments = pl.DataFrame({\n",
    "    \"department_id\": [10, 20, 30],\n",
    "    \"department_name\": [\"Information Technology\", \"Finance\", \"Human Resources\"],\n",
    "})\n",
    "\n",
    "df_employees.join(\n",
    "    df_departments,\n",
    "    on=\"department_id\",\n",
    "    how=\"left\",\n",
    "    validate=\"m:1\"\n",
    ")"
   ]
  },
  {
   "cell_type": "code",
   "execution_count": null,
   "metadata": {},
   "outputs": [],
   "source": [
    "df_departments = pl.DataFrame({\n",
    "    \"department_id\": [10, 20, 10],\n",
    "    \"department_name\": [\"Information Technology\", \"Finance\", \"Human Resources\"],\n",
    "})\n",
    "\n",
    "df_employees.join(\n",
    "    df_departments,\n",
    "    on=\"department_id\",\n",
    "    how=\"left\",\n",
    "    validate=\"m:1\"\n",
    ")"
   ]
  },
  {
   "cell_type": "markdown",
   "metadata": {},
   "source": [
    "## Inexact Joining"
   ]
  },
  {
   "cell_type": "code",
   "execution_count": null,
   "metadata": {},
   "outputs": [],
   "source": [
    "df_left = pl.DataFrame({\n",
    "    \"int_id\": [5, 10],\n",
    "    \"value\": [\"1\", \"2\"]\n",
    "})\n",
    "\n",
    "df_right = pl.DataFrame({\n",
    "    \"int_id\": [4, 7, 12],\n",
    "    \"value\": [1, 2, 3]\n",
    "})\n",
    "\n",
    "df_left.join_asof(df_right, on=\"int_id\", tolerance=3)"
   ]
  },
  {
   "cell_type": "code",
   "execution_count": null,
   "metadata": {},
   "outputs": [],
   "source": [
    "df_left = df_left.set_sorted(\"int_id\")\n",
    "df_right = df_right.set_sorted(\"int_id\")\n",
    "\n",
    "df_left.join_asof(df_right, on=\"int_id\")"
   ]
  },
  {
   "cell_type": "code",
   "execution_count": null,
   "metadata": {},
   "outputs": [],
   "source": [
    "df_right = df_right.rename({\"int_id\": \"int_id_right\"})\n",
    "\n",
    "df_left.join_asof(\n",
    "    df_right,\n",
    "    left_on=\"int_id\",\n",
    "    right_on=\"int_id_right\",\n",
    ")"
   ]
  },
  {
   "cell_type": "code",
   "execution_count": null,
   "metadata": {},
   "outputs": [],
   "source": [
    "df_left.join_asof(\n",
    "    df_right,\n",
    "    left_on=\"int_id\",\n",
    "    right_on=\"int_id_right\",\n",
    "    tolerance=3,\n",
    "    strategy=\"backward\"\n",
    ")"
   ]
  },
  {
   "cell_type": "code",
   "execution_count": null,
   "metadata": {},
   "outputs": [],
   "source": [
    "df_left.join_asof(\n",
    "    df_right,\n",
    "    left_on=\"int_id\",\n",
    "    right_on=\"int_id_right\",\n",
    "    tolerance=3,\n",
    "    strategy=\"forward\"\n",
    ")"
   ]
  },
  {
   "cell_type": "code",
   "execution_count": null,
   "metadata": {},
   "outputs": [],
   "source": [
    "df_left.join_asof(\n",
    "    df_right,\n",
    "    left_on=\"int_id\",\n",
    "    right_on=\"int_id_right\",\n",
    "    tolerance=3,\n",
    "    strategy=\"nearest\"\n",
    ")"
   ]
  },
  {
   "cell_type": "markdown",
   "metadata": {},
   "source": [
    "### Additional Finetuning with `tolerance` and `by`"
   ]
  },
  {
   "cell_type": "markdown",
   "metadata": {},
   "source": [
    "### Use Case: Marketing Campaign Attribution"
   ]
  },
  {
   "cell_type": "code",
   "execution_count": null,
   "metadata": {},
   "outputs": [],
   "source": [
    "marketing_lf = pl.scan_csv(\"data/marketing use case/marketing_campaigns.csv\")\n",
    "marketing_lf.fetch(1)"
   ]
  },
  {
   "cell_type": "code",
   "execution_count": null,
   "metadata": {},
   "outputs": [],
   "source": [
    "marketing_lf.select(pl.col(\"Product Type\").unique()).collect()"
   ]
  },
  {
   "cell_type": "code",
   "execution_count": null,
   "metadata": {},
   "outputs": [],
   "source": [
    "sales_lf = pl.scan_csv(\"data/marketing use case/sales_data.csv\")\n",
    "sales_lf.fetch(1)"
   ]
  },
  {
   "cell_type": "code",
   "execution_count": null,
   "metadata": {},
   "outputs": [],
   "source": [
    "sales_lf = sales_lf.with_columns(\n",
    "    pl.col(\"Sale Date\")\n",
    "    .str.to_datetime(\"%Y-%m-%d %H:%M:%S%.f\")\n",
    "    .cast(pl.Datetime(\"us\")),\n",
    ")\n",
    "marketing_lf = marketing_lf.with_columns(\n",
    "    pl.col(\"Campaign Date\").str.to_datetime(\"%Y-%m-%d %H:%M:%S\"),\n",
    ")\n",
    "\n",
    "sales_with_campaign_df = (\n",
    "    sales_lf\n",
    "    .sort(\"Sale Date\")\n",
    "    .join_asof(\n",
    "        marketing_lf\n",
    "        .sort(\"Campaign Date\"),\n",
    "        left_on=\"Sale Date\",\n",
    "        right_on=\"Campaign Date\",\n",
    "        by=\"Product Type\",\n",
    "        strategy=\"backward\",\n",
    "        tolerance=\"60d\"\n",
    "    )\n",
    "    .collect()\n",
    ")\n",
    "sales_with_campaign_df"
   ]
  },
  {
   "cell_type": "code",
   "execution_count": null,
   "metadata": {},
   "outputs": [],
   "source": [
    "(\n",
    "    sales_with_campaign_df\n",
    "    .group_by(\"Product Type\", \"Campaign Name\")\n",
    "    .agg(pl.col(\"Quantity\").mean())\n",
    "    .sort(\"Product Type\", \"Campaign Name\")\n",
    ")"
   ]
  },
  {
   "cell_type": "code",
   "execution_count": null,
   "metadata": {},
   "outputs": [],
   "source": [
    "marketing_lf.filter(pl.col(\"Product Type\") == \"Books\").collect()"
   ]
  },
  {
   "cell_type": "code",
   "execution_count": null,
   "metadata": {},
   "outputs": [],
   "source": [
    "(\n",
    "    sales_lf\n",
    "    .filter(\n",
    "        (pl.col(\"Product Type\") == \"Books\") &\n",
    "        (\n",
    "            pl.col(\"Sale Date\") >\n",
    "            pl.lit(\"2023-12-31 21:00:00\").str.to_datetime()\n",
    "        )\n",
    "    )\n",
    "    .collect()\n",
    ")"
   ]
  },
  {
   "cell_type": "markdown",
   "metadata": {},
   "source": [
    "## Vertical and Horizontal Concatenation"
   ]
  },
  {
   "cell_type": "code",
   "execution_count": null,
   "metadata": {},
   "outputs": [],
   "source": [
    "df1 = pl.DataFrame({\n",
    "    \"id\": [1, 2, 3],\n",
    "    \"value\": [\"a\", \"b\", \"c\"],\n",
    "})\n",
    "df2 = pl.DataFrame({\n",
    "    \"id\": [4, 5],\n",
    "    \"value\": [\"d\", \"e\"],\n",
    "})\n",
    "pl.concat([df1,df2], how=\"vertical\")"
   ]
  },
  {
   "cell_type": "code",
   "execution_count": null,
   "metadata": {},
   "outputs": [],
   "source": [
    "df1 = pl.DataFrame({\n",
    "    \"id\": [1, 2, 3],\n",
    "    \"value\": [\"a\", \"b\", \"c\"],\n",
    "})\n",
    "df2 = pl.DataFrame({\n",
    "    \"value2\": [\"x\", \"y\"],\n",
    "})\n",
    "pl.concat([df1,df2], how=\"horizontal\")"
   ]
  },
  {
   "cell_type": "code",
   "execution_count": null,
   "metadata": {},
   "outputs": [],
   "source": [
    "df1 = pl.DataFrame({\n",
    "    \"id\": [1, 2, 3],\n",
    "    \"value\": [\"a\", \"b\", \"c\"],\n",
    "})\n",
    "df2 = pl.DataFrame({\n",
    "    \"value\": [\"d\", \"e\"],\n",
    "    \"value2\": [\"x\", \"y\"],\n",
    "})\n",
    "pl.concat([df1,df2], how=\"diagonal\")"
   ]
  },
  {
   "cell_type": "code",
   "execution_count": null,
   "metadata": {},
   "outputs": [],
   "source": [
    "df1 = pl.DataFrame({\n",
    "    \"id\": [1, 2, 3],\n",
    "    \"value\": [\"a\", \"b\", \"c\"],\n",
    "})\n",
    "df2 = pl.DataFrame({\n",
    "    \"value\": [\"a\", \"c\", \"d\"],\n",
    "    \"value2\": [\"x\", \"y\", \"z\"],\n",
    "})\n",
    "pl.concat([df1,df2], how=\"align\")"
   ]
  },
  {
   "cell_type": "code",
   "execution_count": null,
   "metadata": {},
   "outputs": [],
   "source": [
    "df1 = pl.DataFrame({\n",
    "    \"id\": [1, 2, 3],\n",
    "    \"value\": [\"a\", \"b\", \"c\"],\n",
    "})\n",
    "df2 = pl.DataFrame({\n",
    "    \"id\": [4.0, 5.0],\n",
    "    \"value\": [1, 2],\n",
    "})\n",
    "pl.concat([df1,df2], how=\"vertical\")"
   ]
  },
  {
   "cell_type": "code",
   "execution_count": null,
   "metadata": {},
   "outputs": [],
   "source": [
    "pl.concat([df1,df2], how=\"vertical_relaxed\")"
   ]
  },
  {
   "cell_type": "code",
   "execution_count": null,
   "metadata": {},
   "outputs": [],
   "source": [
    "df1 = pl.DataFrame({\n",
    "    \"id\": [1, 2, 2],\n",
    "    \"value\": [\"a\", \"c\", \"b\"],\n",
    "})\n",
    "df2 = pl.DataFrame({\n",
    "    \"id\": [2, 2],\n",
    "    \"value\": [\"x\", \"y\"],\n",
    "})\n",
    "pl.align_frames(df1,df2, on=\"id\")"
   ]
  },
  {
   "cell_type": "code",
   "execution_count": null,
   "metadata": {},
   "outputs": [],
   "source": [
    "df1 = pl.DataFrame({\n",
    "    \"id\": [1, 2],\n",
    "    \"value\": [\"a\", \"b\"],\n",
    "})\n",
    "df2 = pl.DataFrame({\n",
    "    \"id\": [3, 4],\n",
    "    \"value\": [\"c\", \"d\"],\n",
    "})\n",
    "df1.vstack(df2)"
   ]
  },
  {
   "cell_type": "code",
   "execution_count": null,
   "metadata": {},
   "outputs": [],
   "source": [
    "df1 = pl.DataFrame({\n",
    "    \"id\": [1, 2],\n",
    "    \"value\": [\"a\", \"b\"],\n",
    "})\n",
    "df2 = pl.DataFrame({\n",
    "    \"value2\": [\"x\", \"y\"],\n",
    "})\n",
    "df1.hstack(df2)"
   ]
  },
  {
   "cell_type": "code",
   "execution_count": null,
   "metadata": {},
   "outputs": [],
   "source": [
    "s1 = pl.Series(\"a\", [1, 2])\n",
    "s2 = pl.Series(\"b\", [3, 4])\n",
    "s1.append(s2)"
   ]
  },
  {
   "cell_type": "code",
   "execution_count": null,
   "metadata": {},
   "outputs": [],
   "source": [
    "df1 = pl.DataFrame({\n",
    "    \"id\": [1, 2],\n",
    "    \"value\": [\"a\", \"b\"],\n",
    "})\n",
    "df2 = pl.DataFrame({\n",
    "    \"id\": [3, 4],\n",
    "    \"value\": [\"c\", \"d\"],\n",
    "})\n",
    "df1.extend(df2)"
   ]
  },
  {
   "cell_type": "markdown",
   "metadata": {},
   "source": [
    "## Conclusion"
   ]
  }
 ],
 "metadata": {},
 "nbformat": 4,
 "nbformat_minor": 5
}
