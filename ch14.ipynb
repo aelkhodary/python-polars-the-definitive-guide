{
 "cells": [
  {
   "cell_type": "markdown",
   "id": "2a1c8b88",
   "metadata": {},
   "source": [
    "# Chapter 14: Joining and Concatenating"
   ]
  },
  {
   "cell_type": "code",
   "execution_count": null,
   "id": "723f76f5",
   "metadata": {},
   "outputs": [],
   "source": [
    "import polars as pl\n",
    "pl.show_versions()  # The book is built with Polars version 1.13.1"
   ]
  },
  {
   "cell_type": "markdown",
   "id": "78229f01",
   "metadata": {},
   "source": [
    "## Joining"
   ]
  },
  {
   "cell_type": "markdown",
   "id": "555e6eb7",
   "metadata": {},
   "source": [
    "### Join Strategies"
   ]
  },
  {
   "cell_type": "code",
   "execution_count": null,
   "id": "b638c3d3",
   "metadata": {},
   "outputs": [],
   "source": [
    "df_left = pl.DataFrame({\"key\": [\"A\", \"B\", \"C\", \"D\"], \"value\": [1, 2, 3, 4]})\n",
    "\n",
    "df_right = pl.DataFrame({\"key\": [\"B\", \"C\", \"D\", \"E\"], \"value\": [5, 6, 7, 8]})"
   ]
  },
  {
   "cell_type": "markdown",
   "id": "0eb8d26a",
   "metadata": {},
   "source": [
    "#### Inner"
   ]
  },
  {
   "cell_type": "code",
   "execution_count": null,
   "id": "361b9096",
   "metadata": {},
   "outputs": [],
   "source": [
    "df_left.join(df_right, on=\"key\", how=\"inner\")"
   ]
  },
  {
   "cell_type": "markdown",
   "id": "0da3bd78",
   "metadata": {},
   "source": [
    "#### Full"
   ]
  },
  {
   "cell_type": "code",
   "execution_count": null,
   "id": "27958ec2",
   "metadata": {},
   "outputs": [],
   "source": [
    "df_left.join(df_right, on=\"key\", how=\"full\", suffix=\"_other\")"
   ]
  },
  {
   "cell_type": "markdown",
   "id": "2d63e2a9",
   "metadata": {},
   "source": [
    "#### Left"
   ]
  },
  {
   "cell_type": "code",
   "execution_count": null,
   "id": "2ba5ffe0",
   "metadata": {},
   "outputs": [],
   "source": [
    "df_left.join(df_right, on=\"key\", how=\"left\")"
   ]
  },
  {
   "cell_type": "markdown",
   "id": "ca562327",
   "metadata": {},
   "source": [
    "#### Right"
   ]
  },
  {
   "cell_type": "code",
   "execution_count": null,
   "id": "75285170",
   "metadata": {},
   "outputs": [],
   "source": [
    "df_left.join(df_right, on=\"key\", how=\"right\")"
   ]
  },
  {
   "cell_type": "markdown",
   "id": "2a98c4e9",
   "metadata": {},
   "source": [
    "#### Cross"
   ]
  },
  {
   "cell_type": "code",
   "execution_count": null,
   "id": "82a2b77b",
   "metadata": {},
   "outputs": [],
   "source": [
    "df_left.join(df_right, how=\"cross\")"
   ]
  },
  {
   "cell_type": "markdown",
   "id": "d531724c",
   "metadata": {},
   "source": [
    "#### Semi"
   ]
  },
  {
   "cell_type": "code",
   "execution_count": null,
   "id": "c393bc33",
   "metadata": {},
   "outputs": [],
   "source": [
    "df_left.join(df_right, on=\"key\", how=\"semi\")"
   ]
  },
  {
   "cell_type": "markdown",
   "id": "3923a7e6",
   "metadata": {},
   "source": [
    "#### Anti"
   ]
  },
  {
   "cell_type": "code",
   "execution_count": null,
   "id": "2490617d",
   "metadata": {},
   "outputs": [],
   "source": [
    "df_left.join(df_right, on=\"key\", how=\"anti\")"
   ]
  },
  {
   "cell_type": "markdown",
   "id": "34669e83",
   "metadata": {},
   "source": [
    "### Joining on Multiple Columns"
   ]
  },
  {
   "cell_type": "code",
   "execution_count": null,
   "id": "c4411e81",
   "metadata": {},
   "outputs": [],
   "source": [
    "residences_left = pl.DataFrame(\n",
    "    {\n",
    "        \"name\": [\"Alice\", \"Bob\", \"Charlie\", \"Dave\"],\n",
    "        \"city\": [\"NY\", \"LA\", \"NY\", \"SF\"],\n",
    "        \"age\": [25, 30, 35, 40],\n",
    "    }\n",
    ")\n",
    "\n",
    "departments_right = pl.DataFrame(\n",
    "    {\n",
    "        \"name\": [\"Alice\", \"Bob\", \"Charlie\", \"Dave\"],\n",
    "        \"city\": [\"NY\", \"LA\", \"NY\", \"Chicago\"],\n",
    "        \"department\": [\"Finance\", \"Marketing\", \"Engineering\", \"Operations\"],\n",
    "    }\n",
    ")\n",
    "\n",
    "residences_left.join(departments_right, on=[\"name\", \"city\"], how=\"inner\")"
   ]
  },
  {
   "cell_type": "markdown",
   "id": "b44d9c57",
   "metadata": {},
   "source": [
    "### Validation"
   ]
  },
  {
   "cell_type": "markdown",
   "id": "c9980683",
   "metadata": {},
   "source": [
    "#### Many-to-many"
   ]
  },
  {
   "cell_type": "markdown",
   "id": "e9882d20",
   "metadata": {},
   "source": [
    "#### One-to-many"
   ]
  },
  {
   "cell_type": "markdown",
   "id": "a173d8aa",
   "metadata": {},
   "source": [
    "#### Many-to-one"
   ]
  },
  {
   "cell_type": "markdown",
   "id": "007665b4",
   "metadata": {},
   "source": [
    "#### One-to-one"
   ]
  },
  {
   "cell_type": "code",
   "execution_count": null,
   "id": "7a671f9b",
   "metadata": {},
   "outputs": [],
   "source": [
    "employees = pl.DataFrame(\n",
    "    {\n",
    "        \"employee_id\": [1, 2, 3, 4],\n",
    "        \"name\": [\"Alice\", \"Bob\", \"Charlie\", \"Dave\"],\n",
    "        \"department_id\": [10, 10, 30, 10],\n",
    "    }\n",
    ")\n",
    "\n",
    "departments = pl.DataFrame(\n",
    "    {\n",
    "        \"department_id\": [10, 20, 30],\n",
    "        \"department_name\": [\n",
    "            \"Information Technology\",\n",
    "            \"Finance\",\n",
    "            \"Human Resources\",\n",
    "        ],\n",
    "    }\n",
    ")\n",
    "\n",
    "employees.join(departments, on=\"department_id\", how=\"left\", validate=\"m:1\")"
   ]
  },
  {
   "cell_type": "code",
   "execution_count": null,
   "id": "ba8f34d8",
   "metadata": {},
   "outputs": [],
   "source": [
    "# This raises a ComputeError:\n",
    "# departments = pl.DataFrame(\n",
    "#     {\n",
    "#         \"department_id\": [10, 20, 10],\n",
    "#         \"department_name\": [\n",
    "#             \"Information Technology\",\n",
    "#             \"Finance\",\n",
    "#             \"Human Resources\",\n",
    "#         ],\n",
    "#     }\n",
    "# )\n",
    "\n",
    "# employees.join(\n",
    "#     departments, on=\"department_id\", how=\"left\", validate=\"m:1\"\n",
    "# )"
   ]
  },
  {
   "cell_type": "markdown",
   "id": "2f3c6ee6",
   "metadata": {},
   "source": [
    "## Inexact Joining"
   ]
  },
  {
   "cell_type": "code",
   "execution_count": null,
   "id": "959d5ac8",
   "metadata": {},
   "outputs": [],
   "source": [
    "df_left = pl.DataFrame({\"int_id\": [10, 5], \"value\": [\"b\", \"a\"]})\n",
    "\n",
    "df_right = pl.DataFrame({\"int_id\": [4, 7, 12], \"value\": [1, 2, 3]})"
   ]
  },
  {
   "cell_type": "code",
   "execution_count": null,
   "id": "faaa1863",
   "metadata": {},
   "outputs": [],
   "source": [
    "# This raises an InvalidOperationError:\n",
    "# df_left.join_asof(df_right, on=\"int_id\", tolerance=3)"
   ]
  },
  {
   "cell_type": "code",
   "execution_count": null,
   "id": "0498f3cb",
   "metadata": {},
   "outputs": [],
   "source": [
    "df_left = df_left.sort(\"int_id\")\n",
    "df_right = df_right\n",
    "\n",
    "df_left.join_asof(df_right, on=\"int_id\")"
   ]
  },
  {
   "cell_type": "code",
   "execution_count": null,
   "id": "1a0cfec8",
   "metadata": {},
   "outputs": [],
   "source": [
    "df_left.join_asof(\n",
    "    df_right,\n",
    "    on=\"int_id\",\n",
    "    coalesce=False,\n",
    ")"
   ]
  },
  {
   "cell_type": "code",
   "execution_count": null,
   "id": "ffee45f8",
   "metadata": {},
   "outputs": [],
   "source": [
    "df_left.join_asof(\n",
    "    df_right.rename({\"int_id\": \"int_id_right\"}),\n",
    "    left_on=\"int_id\",\n",
    "    right_on=\"int_id_right\",\n",
    ")"
   ]
  },
  {
   "cell_type": "markdown",
   "id": "3c41cd8c",
   "metadata": {},
   "source": [
    "### Inexact Join Strategies"
   ]
  },
  {
   "cell_type": "code",
   "execution_count": null,
   "id": "5463b7a4",
   "metadata": {},
   "outputs": [],
   "source": [
    "print(df_left)\n",
    "print(df_right)"
   ]
  },
  {
   "cell_type": "code",
   "execution_count": null,
   "id": "3312169b",
   "metadata": {},
   "outputs": [],
   "source": [
    "df_left.join_asof(\n",
    "    df_right,\n",
    "    on=\"int_id\",\n",
    "    tolerance=3,\n",
    "    strategy=\"backward\",\n",
    ")"
   ]
  },
  {
   "cell_type": "code",
   "execution_count": null,
   "id": "39bc74bc",
   "metadata": {},
   "outputs": [],
   "source": [
    "df_left.join_asof(\n",
    "    df_right,\n",
    "    on=\"int_id\",\n",
    "    tolerance=3,\n",
    "    strategy=\"forward\",\n",
    ")"
   ]
  },
  {
   "cell_type": "code",
   "execution_count": null,
   "id": "2cc7c7c3",
   "metadata": {},
   "outputs": [],
   "source": [
    "df_left.join_asof(\n",
    "    df_right,\n",
    "    on=\"int_id\",\n",
    "    tolerance=3,\n",
    "    strategy=\"nearest\",\n",
    ")"
   ]
  },
  {
   "cell_type": "markdown",
   "id": "f8994940",
   "metadata": {},
   "source": [
    "### Additional Finetuning"
   ]
  },
  {
   "cell_type": "markdown",
   "id": "20b232bc",
   "metadata": {},
   "source": [
    "### Use Case: Marketing Campaign Attribution"
   ]
  },
  {
   "cell_type": "code",
   "execution_count": null,
   "id": "2f29fa4c",
   "metadata": {},
   "outputs": [],
   "source": [
    "campaigns = pl.scan_csv(\"data/campaigns.csv\")\n",
    "campaigns.head(1).collect()"
   ]
  },
  {
   "cell_type": "code",
   "execution_count": null,
   "id": "0e00e645",
   "metadata": {},
   "outputs": [],
   "source": [
    "campaigns.select(pl.col(\"Product Type\").unique()).collect()"
   ]
  },
  {
   "cell_type": "code",
   "execution_count": null,
   "id": "9970d27b",
   "metadata": {},
   "outputs": [],
   "source": [
    "transactions = pl.scan_csv(\"data/transactions.csv\")\n",
    "transactions.head(1).collect()"
   ]
  },
  {
   "cell_type": "code",
   "execution_count": null,
   "id": "434b4a3d",
   "metadata": {},
   "outputs": [],
   "source": [
    "transactions = transactions.with_columns(\n",
    "    pl.col(\"Sale Date\")\n",
    "    .str.to_datetime(\"%Y-%m-%d %H:%M:%S%.f\")\n",
    "    .cast(pl.Datetime(\"us\")),\n",
    ")\n",
    "campaigns = campaigns.with_columns(\n",
    "    pl.col(\"Campaign Date\").str.to_datetime(\"%Y-%m-%d %H:%M:%S\"),\n",
    ")\n",
    "\n",
    "sales_with_campaign_df = (\n",
    "    transactions.sort(\"Sale Date\")\n",
    "    .join_asof(\n",
    "        campaigns.sort(\"Campaign Date\"),\n",
    "        left_on=\"Sale Date\",\n",
    "        right_on=\"Campaign Date\",\n",
    "        by=\"Product Type\",\n",
    "        strategy=\"backward\",\n",
    "        tolerance=\"60d\",\n",
    "    )\n",
    "    .collect()\n",
    ")\n",
    "sales_with_campaign_df"
   ]
  },
  {
   "cell_type": "code",
   "execution_count": null,
   "id": "33cba888",
   "metadata": {},
   "outputs": [],
   "source": [
    "(\n",
    "    sales_with_campaign_df.group_by(\"Product Type\", \"Campaign Name\")\n",
    "    .agg(pl.col(\"Quantity\").mean())\n",
    "    .sort(\"Product Type\", \"Campaign Name\")\n",
    ")"
   ]
  },
  {
   "cell_type": "code",
   "execution_count": null,
   "id": "4e6bb3c1",
   "metadata": {},
   "outputs": [],
   "source": [
    "campaigns.filter(pl.col(\"Product Type\") == \"Books\").collect()"
   ]
  },
  {
   "cell_type": "code",
   "execution_count": null,
   "id": "0ce7368b",
   "metadata": {},
   "outputs": [],
   "source": [
    "(\n",
    "    transactions.filter(\n",
    "        (pl.col(\"Product Type\") == \"Books\")\n",
    "        & (\n",
    "            pl.col(\"Sale Date\")\n",
    "            > pl.lit(\"2023-12-31 21:00:00\").str.to_datetime()\n",
    "        )\n",
    "    ).collect()\n",
    ")"
   ]
  },
  {
   "cell_type": "markdown",
   "id": "e5ffbc50",
   "metadata": {},
   "source": [
    "## Vertical and Horizontal Concatenation"
   ]
  },
  {
   "cell_type": "markdown",
   "id": "c3626092",
   "metadata": {},
   "source": [
    "### Vertical"
   ]
  },
  {
   "cell_type": "code",
   "execution_count": null,
   "id": "cb9993d5",
   "metadata": {},
   "outputs": [],
   "source": [
    "df1 = pl.DataFrame(\n",
    "    {\n",
    "        \"id\": [1, 2, 3],\n",
    "        \"value\": [\"a\", \"b\", \"c\"],\n",
    "    }\n",
    ")\n",
    "df2 = pl.DataFrame(\n",
    "    {\n",
    "        \"id\": [4, 5],\n",
    "        \"value\": [\"d\", \"e\"],\n",
    "    }\n",
    ")\n",
    "pl.concat([df1, df2], how=\"vertical\")"
   ]
  },
  {
   "cell_type": "markdown",
   "id": "84f447c5",
   "metadata": {},
   "source": [
    "### Horizontal"
   ]
  },
  {
   "cell_type": "code",
   "execution_count": null,
   "id": "91365054",
   "metadata": {},
   "outputs": [],
   "source": [
    "df1 = pl.DataFrame(\n",
    "    {\n",
    "        \"id\": [1, 2, 3],\n",
    "        \"value\": [\"a\", \"b\", \"c\"],\n",
    "    }\n",
    ")\n",
    "df2 = pl.DataFrame(\n",
    "    {\n",
    "        \"value2\": [\"x\", \"y\"],\n",
    "    }\n",
    ")\n",
    "pl.concat([df1, df2], how=\"horizontal\")"
   ]
  },
  {
   "cell_type": "markdown",
   "id": "93ee7dcd",
   "metadata": {},
   "source": [
    "### Diagonal"
   ]
  },
  {
   "cell_type": "code",
   "execution_count": null,
   "id": "667e8205",
   "metadata": {},
   "outputs": [],
   "source": [
    "df1 = pl.DataFrame(\n",
    "    {\n",
    "        \"id\": [1, 2, 3],\n",
    "        \"value\": [\"a\", \"b\", \"c\"],\n",
    "    }\n",
    ")\n",
    "df2 = pl.DataFrame(\n",
    "    {\n",
    "        \"value\": [\"d\", \"e\"],\n",
    "        \"value2\": [\"x\", \"y\"],\n",
    "    }\n",
    ")\n",
    "pl.concat([df1, df2], how=\"diagonal\")"
   ]
  },
  {
   "cell_type": "markdown",
   "id": "93e11779",
   "metadata": {},
   "source": [
    "### Align"
   ]
  },
  {
   "cell_type": "code",
   "execution_count": null,
   "id": "18ea973c",
   "metadata": {},
   "outputs": [],
   "source": [
    "df1 = pl.DataFrame(\n",
    "    {\n",
    "        \"id\": [1, 2, 3],\n",
    "        \"value\": [\"a\", \"b\", \"c\"],\n",
    "    }\n",
    ")\n",
    "df2 = pl.DataFrame(\n",
    "    {\n",
    "        \"value\": [\"a\", \"c\", \"d\"],\n",
    "        \"value2\": [\"x\", \"y\", \"z\"],\n",
    "    }\n",
    ")\n",
    "pl.concat([df1, df2], how=\"align\")"
   ]
  },
  {
   "cell_type": "code",
   "execution_count": null,
   "id": "32c9edde",
   "metadata": {},
   "outputs": [],
   "source": [
    "df1 = pl.DataFrame(\n",
    "    {\n",
    "        \"id\": [1, 2, 2],\n",
    "        \"value\": [\"a\", \"c\", \"b\"],\n",
    "    }\n",
    ")\n",
    "df2 = pl.DataFrame(\n",
    "    {\n",
    "        \"id\": [2, 2],\n",
    "        \"value\": [\"x\", \"y\"],\n",
    "    }\n",
    ")\n",
    "pl.align_frames(df1, df2, on=\"id\")"
   ]
  },
  {
   "cell_type": "markdown",
   "id": "47a51ae5",
   "metadata": {},
   "source": [
    "### Relaxed"
   ]
  },
  {
   "cell_type": "code",
   "execution_count": null,
   "id": "06db13c0",
   "metadata": {},
   "outputs": [],
   "source": [
    "# This raises a SchemaError:\n",
    "# df1 = pl.DataFrame(\n",
    "#     {\n",
    "#         \"id\": [1, 2, 3],\n",
    "#         \"value\": [\"a\", \"b\", \"c\"],\n",
    "#     }\n",
    "# )\n",
    "# df2 = pl.DataFrame(\n",
    "#     {\n",
    "#         \"id\": [4.0, 5.0],\n",
    "#         \"value\": [1, 2],\n",
    "#     }\n",
    "# )\n",
    "# pl.concat([df1, df2], how=\"vertical\")"
   ]
  },
  {
   "cell_type": "code",
   "execution_count": null,
   "id": "b9c1536f",
   "metadata": {},
   "outputs": [],
   "source": [
    "pl.concat([df1, df2], how=\"vertical_relaxed\")"
   ]
  },
  {
   "cell_type": "markdown",
   "id": "09e7db58",
   "metadata": {},
   "source": [
    "### Stacking"
   ]
  },
  {
   "cell_type": "code",
   "execution_count": null,
   "id": "4ff597cf",
   "metadata": {},
   "outputs": [],
   "source": [
    "df1 = pl.DataFrame(\n",
    "    {\n",
    "        \"id\": [1, 2],\n",
    "        \"value\": [\"a\", \"b\"],\n",
    "    }\n",
    ")\n",
    "df2 = pl.DataFrame(\n",
    "    {\n",
    "        \"id\": [3, 4],\n",
    "        \"value\": [\"c\", \"d\"],\n",
    "    }\n",
    ")\n",
    "df1.vstack(df2)"
   ]
  },
  {
   "cell_type": "code",
   "execution_count": null,
   "id": "01b4dddd",
   "metadata": {},
   "outputs": [],
   "source": [
    "df1 = pl.DataFrame(\n",
    "    {\n",
    "        \"id\": [1, 2],\n",
    "        \"value\": [\"a\", \"b\"],\n",
    "    }\n",
    ")\n",
    "df2 = pl.DataFrame(\n",
    "    {\n",
    "        \"value2\": [\"x\", \"y\"],\n",
    "    }\n",
    ")\n",
    "df1.hstack(df2)"
   ]
  },
  {
   "cell_type": "markdown",
   "id": "4ab3e260",
   "metadata": {},
   "source": [
    "### Appending"
   ]
  },
  {
   "cell_type": "code",
   "execution_count": null,
   "id": "a51ec967",
   "metadata": {},
   "outputs": [],
   "source": [
    "s1 = pl.Series(\"a\", [1, 2])\n",
    "s2 = pl.Series(\"b\", [3, 4])\n",
    "s1.append(s2)"
   ]
  },
  {
   "cell_type": "markdown",
   "id": "90aa69df",
   "metadata": {},
   "source": [
    "### Extending"
   ]
  },
  {
   "cell_type": "code",
   "execution_count": null,
   "id": "b9f2294d",
   "metadata": {},
   "outputs": [],
   "source": [
    "df1 = pl.DataFrame(\n",
    "    {\n",
    "        \"id\": [1, 2],\n",
    "        \"value\": [\"a\", \"b\"],\n",
    "    }\n",
    ")\n",
    "df2 = pl.DataFrame(\n",
    "    {\n",
    "        \"id\": [3, 4],\n",
    "        \"value\": [\"c\", \"d\"],\n",
    "    }\n",
    ")\n",
    "df1.extend(df2)"
   ]
  },
  {
   "cell_type": "markdown",
   "id": "50d7e48d",
   "metadata": {},
   "source": [
    "## Takeaways"
   ]
  }
 ],
 "metadata": {},
 "nbformat": 4,
 "nbformat_minor": 5
}
