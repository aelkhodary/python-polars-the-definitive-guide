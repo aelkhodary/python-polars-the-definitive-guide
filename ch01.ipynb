{
 "cells": [
  {
   "cell_type": "markdown",
   "id": "35e89983",
   "metadata": {},
   "source": [
    "# Chapter 1: Introducing Polars"
   ]
  },
  {
   "cell_type": "code",
   "execution_count": null,
   "id": "4c1df354",
   "metadata": {},
   "outputs": [],
   "source": [
    "import polars as pl\n",
    "pl.show_versions()  # The book is built with Polars version 1.13.1"
   ]
  },
  {
   "cell_type": "markdown",
   "id": "0f1189f3",
   "metadata": {},
   "source": [
    "## What Is This Thing Called Polars?"
   ]
  },
  {
   "cell_type": "markdown",
   "id": "55a064d2",
   "metadata": {},
   "source": [
    "### Features"
   ]
  },
  {
   "cell_type": "markdown",
   "id": "aae748d4",
   "metadata": {},
   "source": [
    "### Key Concepts"
   ]
  },
  {
   "cell_type": "markdown",
   "id": "00c0fe05",
   "metadata": {},
   "source": [
    "### Advantages"
   ]
  },
  {
   "cell_type": "markdown",
   "id": "2069443d",
   "metadata": {},
   "source": [
    "## Why You Should Use Polars"
   ]
  },
  {
   "cell_type": "markdown",
   "id": "4f3c954c",
   "metadata": {},
   "source": [
    "### Performance"
   ]
  },
  {
   "cell_type": "markdown",
   "id": "ce88a5e5",
   "metadata": {},
   "source": [
    "### Usability"
   ]
  },
  {
   "cell_type": "markdown",
   "id": "822401d9",
   "metadata": {},
   "source": [
    "### Popularity"
   ]
  },
  {
   "cell_type": "markdown",
   "id": "83e6b14c",
   "metadata": {},
   "source": [
    "### Sustainability"
   ]
  },
  {
   "cell_type": "markdown",
   "id": "5d61eb7b",
   "metadata": {},
   "source": [
    "## Polars Compared to Other Data Processing Packages"
   ]
  },
  {
   "cell_type": "markdown",
   "id": "6b18e99b",
   "metadata": {},
   "source": [
    "## Why We Focus on Python Polars"
   ]
  },
  {
   "cell_type": "markdown",
   "id": "4054f78c",
   "metadata": {},
   "source": [
    "## How This Book is Organized"
   ]
  },
  {
   "cell_type": "markdown",
   "id": "d26a2c6f",
   "metadata": {},
   "source": [
    "## An ETL Showcase"
   ]
  },
  {
   "cell_type": "markdown",
   "id": "9069bd04",
   "metadata": {},
   "source": [
    "### Extract"
   ]
  },
  {
   "cell_type": "markdown",
   "id": "a90078bd",
   "metadata": {},
   "source": [
    "#### Import Packages"
   ]
  },
  {
   "cell_type": "code",
   "execution_count": null,
   "id": "c0c59fe6",
   "metadata": {},
   "outputs": [],
   "source": [
    "! cd plugins/polars_geo && maturin develop --release"
   ]
  },
  {
   "cell_type": "code",
   "execution_count": null,
   "id": "b6c3f0d1",
   "metadata": {},
   "outputs": [],
   "source": [
    "# And reset the kernel to make the new plug-in available\n",
    "from IPython.display import display, Javascript\n",
    "\n",
    "\n",
    "def restart_kernel():\n",
    "    display(Javascript(\"Jupyter.notebook.kernel.restart()\"))\n",
    "\n",
    "\n",
    "restart_kernel()"
   ]
  },
  {
   "cell_type": "code",
   "execution_count": null,
   "id": "7664cdad",
   "metadata": {},
   "outputs": [],
   "source": [
    "import polars as pl  \n",
    "import polars_geo\n",
    "from plotnine import *  "
   ]
  },
  {
   "cell_type": "markdown",
   "id": "5862ccdf",
   "metadata": {},
   "source": [
    "#### Download and Extract Citi Bike Trips"
   ]
  },
  {
   "cell_type": "code",
   "execution_count": null,
   "id": "a0383489",
   "metadata": {},
   "outputs": [],
   "source": [
    "# It might be needed to install `unzip` first if you're on Ubuntu or MacOS.\n",
    "# Ubuntu:\n",
    "# sudo apt update && sudo apt install unzip\n",
    "# MacOS:\n",
    "# brew install unzip\n",
    "# Windows:\n",
    "# Download the ZIP file manually and extract it (sorry)"
   ]
  },
  {
   "cell_type": "code",
   "execution_count": null,
   "id": "de1303ec",
   "metadata": {},
   "outputs": [],
   "source": [
    "! curl -sO https://s3.amazonaws.com/tripdata/202403-citibike-tripdata.csv.zip\n",
    "! tar -xvf 202403-citibike-tripdata.csv.zip -C data/citibike/\n",
    "! rm -f 202403-citibike-tripdata.csv.zip"
   ]
  },
  {
   "cell_type": "markdown",
   "id": "cb959366",
   "metadata": {},
   "source": [
    "#### Read Citi Bike Trips into a Polars DataFrame"
   ]
  },
  {
   "cell_type": "code",
   "execution_count": null,
   "id": "29ce4599",
   "metadata": {},
   "outputs": [],
   "source": [
    "! wc -l data/citibike/202403-citibike-tripdata.csv\n",
    "! head -n 6 data/citibike/202403-citibike-tripdata.csv"
   ]
  },
  {
   "cell_type": "code",
   "execution_count": null,
   "id": "5c46cb12",
   "metadata": {},
   "outputs": [],
   "source": [
    "trips = pl.read_csv(  \n",
    "    \"data/citibike/202403-citibike-tripdata.csv\",\n",
    "    try_parse_dates=True,\n",
    "    schema_overrides={\n",
    "        \"start_station_id\": pl.String,\n",
    "        \"end_station_id\": pl.String,\n",
    "    },\n",
    ").sort(  \n",
    "    \"started_at\"\n",
    ")\n",
    "\n",
    "trips.height"
   ]
  },
  {
   "cell_type": "code",
   "execution_count": null,
   "id": "50fe85f7",
   "metadata": {},
   "outputs": [],
   "source": [
    "print(trips[:, :4])\n",
    "print(trips[:, 4:8])\n",
    "print(trips[:, 8:])"
   ]
  },
  {
   "cell_type": "markdown",
   "id": "921758d4",
   "metadata": {},
   "source": [
    "#### Read in Neighborhoods from GeoJSON"
   ]
  },
  {
   "cell_type": "code",
   "execution_count": null,
   "id": "fc3aaf38",
   "metadata": {},
   "outputs": [],
   "source": [
    "! python -m json.tool data/citibike/nyc-neighborhoods.geojson"
   ]
  },
  {
   "cell_type": "code",
   "execution_count": null,
   "id": "ab3b949a",
   "metadata": {},
   "outputs": [],
   "source": [
    "neighborhoods = (\n",
    "    pl.read_json(\"data/citibike/nyc-neighborhoods.geojson\")\n",
    "    .select(\"features\")\n",
    "    .explode(\"features\")  \n",
    "    .unnest(\"features\")\n",
    "    .unnest(\"properties\")\n",
    "    .select(\"neighborhood\", \"borough\", \"geometry\")\n",
    "    .unnest(\"geometry\")\n",
    "    .with_columns(polygon=pl.col(\"coordinates\").list.first())\n",
    "    .select(\"neighborhood\", \"borough\", \"polygon\")\n",
    "    .filter(pl.col(\"borough\") != \"Staten Island\")  \n",
    "    .sort(\"neighborhood\")\n",
    ")\n",
    "\n",
    "neighborhoods"
   ]
  },
  {
   "cell_type": "markdown",
   "id": "14ab5da1",
   "metadata": {},
   "source": [
    "### Bonus: Visualizing Neighborhoods and Stations"
   ]
  },
  {
   "cell_type": "code",
   "execution_count": null,
   "id": "8b0c41e5",
   "metadata": {},
   "outputs": [],
   "source": [
    "neighborhoods_coords = (\n",
    "    neighborhoods.with_row_index(\"id\")\n",
    "    .explode(\"polygon\")\n",
    "    .with_columns(\n",
    "        lon=pl.col(\"polygon\").list.first(),\n",
    "        lat=pl.col(\"polygon\").list.last(),\n",
    "    )\n",
    "    .drop(\"polygon\")\n",
    ")\n",
    "\n",
    "neighborhoods_coords"
   ]
  },
  {
   "cell_type": "code",
   "execution_count": null,
   "id": "5d3cb82c",
   "metadata": {},
   "outputs": [],
   "source": [
    "stations = (\n",
    "    trips.group_by(station=pl.col(\"start_station_name\"))\n",
    "    .agg(  \n",
    "        lon=pl.col(\"start_lng\").median(),\n",
    "        lat=pl.col(\"start_lat\").median(),\n",
    "    )\n",
    "    .sort(\"station\")\n",
    "    .drop_nulls()\n",
    ")\n",
    "stations"
   ]
  },
  {
   "cell_type": "code",
   "execution_count": null,
   "id": "74edaa7f",
   "metadata": {},
   "outputs": [],
   "source": [
    "(\n",
    "    ggplot(neighborhoods_coords, aes(x=\"lon\", y=\"lat\", group=\"id\"))\n",
    "    + geom_polygon(aes(alpha=\"neighborhood\", fill=\"borough\"), color=\"white\")\n",
    "    + geom_point(stations, size=0.1)\n",
    "    + scale_x_continuous(expand=(0, 0))\n",
    "    + scale_y_continuous(expand=(0, 0, 0, 0.01))\n",
    "    + scale_alpha_ordinal(range=(0.3, 1))\n",
    "    + scale_fill_brewer(type=\"qual\", palette=2)\n",
    "    + guides(alpha=False)\n",
    "    + labs(\n",
    "        title=\"New York City Neighborhoods and Citi Bike Stations\",\n",
    "        subtitle=\"2143 stations across 106 neighborhoods\",\n",
    "        caption=\"Source: https://citibikenyc.com/system-data\",\n",
    "        fill=\"Borough\",\n",
    "    )\n",
    "    + theme_void(base_size=14)\n",
    "    + theme(\n",
    "        dpi=200,\n",
    "        figure_size=(7, 9),\n",
    "        plot_background=element_rect(fill=\"white\", color=\"white\"),\n",
    "        plot_caption=element_text(style=\"italic\"),\n",
    "        plot_title=element_text(ha=\"left\"),\n",
    "    )\n",
    ")"
   ]
  },
  {
   "cell_type": "markdown",
   "id": "79b8381d",
   "metadata": {},
   "source": [
    "### Transform"
   ]
  },
  {
   "cell_type": "markdown",
   "id": "07eb635c",
   "metadata": {},
   "source": [
    "#### Clean Up Columns"
   ]
  },
  {
   "cell_type": "code",
   "execution_count": null,
   "id": "53d785e1",
   "metadata": {},
   "outputs": [],
   "source": [
    "trips = trips.select(\n",
    "    bike_type=pl.col(\"rideable_type\")\n",
    "    .str.split(\"_\")\n",
    "    .list.get(0)\n",
    "    .cast(pl.Categorical),  \n",
    "    rider_type=pl.col(\"member_casual\").cast(pl.Categorical),\n",
    "    datetime_start=pl.col(\"started_at\"),\n",
    "    datetime_end=pl.col(\"ended_at\"),\n",
    "    station_start=pl.col(\"start_station_name\"),\n",
    "    station_end=pl.col(\"end_station_name\"),\n",
    "    lon_start=pl.col(\"start_lng\"),\n",
    "    lat_start=pl.col(\"start_lat\"),\n",
    "    lon_end=pl.col(\"end_lng\"),\n",
    "    lat_end=pl.col(\"end_lat\"),\n",
    ").with_columns(  \n",
    "    duration=(pl.col(\"datetime_end\") - pl.col(\"datetime_start\"))\n",
    ")\n",
    "\n",
    "trips.columns"
   ]
  },
  {
   "cell_type": "markdown",
   "id": "ec0bcb35",
   "metadata": {},
   "source": [
    "#### Clean Up Rows"
   ]
  },
  {
   "cell_type": "code",
   "execution_count": null,
   "id": "2869d08f",
   "metadata": {},
   "outputs": [],
   "source": [
    "from datetime import date\n",
    "\n",
    "trips = (\n",
    "    trips.drop_nulls()\n",
    "    .filter(  \n",
    "        (pl.col(\"datetime_start\") >= date(2024, 3, 1))\n",
    "        & (pl.col(\"datetime_end\") < date(2024, 4, 1))\n",
    "    )\n",
    "    .filter(\n",
    "        ~(\n",
    "            (pl.col(\"station_start\") == pl.col(\"station_end\"))\n",
    "            & (pl.col(\"duration\").dt.total_seconds() < 5 * 60)\n",
    "        )\n",
    "    )\n",
    ")\n",
    "\n",
    "trips.height"
   ]
  },
  {
   "cell_type": "markdown",
   "id": "4bda1f15",
   "metadata": {},
   "source": [
    "#### Add Trip Distance"
   ]
  },
  {
   "cell_type": "code",
   "execution_count": null,
   "id": "acc55a0e",
   "metadata": {},
   "outputs": [],
   "source": [
    "trips = trips.with_columns(\n",
    "    distance=pl.concat_list(\"lon_start\", \"lat_start\").geo.haversine_distance(\n",
    "        pl.concat_list(\"lon_end\", \"lat_end\")\n",
    "    )\n",
    "    / 1000  \n",
    ")\n",
    "\n",
    "trips.select(\n",
    "    \"lon_start\",\n",
    "    \"lon_end\",\n",
    "    \"lat_start\",\n",
    "    \"lat_end\",\n",
    "    \"distance\",\n",
    "    \"duration\",\n",
    ")"
   ]
  },
  {
   "cell_type": "markdown",
   "id": "b781cd62",
   "metadata": {},
   "source": [
    "#### Add Borough and Neighborhood"
   ]
  },
  {
   "cell_type": "code",
   "execution_count": null,
   "id": "43b004ed",
   "metadata": {},
   "outputs": [],
   "source": [
    "stations = (\n",
    "    stations.with_columns(point=pl.concat_list(\"lon\", \"lat\"))\n",
    "    .join(neighborhoods, how=\"cross\")\n",
    "    .with_columns(\n",
    "        in_neighborhood=pl.col(\"point\").geo.point_in_polygon(pl.col(\"polygon\"))\n",
    "    )\n",
    "    .filter(pl.col(\"in_neighborhood\"))\n",
    "    .unique(\"station\")\n",
    "    .select(\n",
    "        \"station\",\n",
    "        \"borough\",\n",
    "        \"neighborhood\",\n",
    "    )\n",
    ")\n",
    "\n",
    "stations"
   ]
  },
  {
   "cell_type": "code",
   "execution_count": null,
   "id": "7a490b00",
   "metadata": {},
   "outputs": [],
   "source": [
    "trips = (\n",
    "    trips.join(\n",
    "        stations.select(pl.all().name.suffix(\"_start\")), on=\"station_start\"\n",
    "    )\n",
    "    .join(stations.select(pl.all().name.suffix(\"_end\")), on=\"station_end\")\n",
    "    .select(\n",
    "        \"bike_type\",\n",
    "        \"rider_type\",\n",
    "        \"datetime_start\",\n",
    "        \"datetime_end\",\n",
    "        \"duration\",\n",
    "        \"station_start\",\n",
    "        \"station_end\",\n",
    "        \"neighborhood_start\",\n",
    "        \"neighborhood_end\",\n",
    "        \"borough_start\",\n",
    "        \"borough_end\",\n",
    "        \"lat_start\",\n",
    "        \"lon_start\",\n",
    "        \"lat_end\",\n",
    "        \"lon_end\",\n",
    "        \"distance\",\n",
    "    )\n",
    ")"
   ]
  },
  {
   "cell_type": "code",
   "execution_count": null,
   "id": "ff6f95d0",
   "metadata": {},
   "outputs": [],
   "source": [
    "print(trips[:, :4])\n",
    "print(trips[:, 4:7])\n",
    "print(trips[:, 7:11])\n",
    "print(trips[:, 11:])"
   ]
  },
  {
   "cell_type": "markdown",
   "id": "5cf39d7d",
   "metadata": {},
   "source": [
    "### Bonus: Visualizing Daily Trips per Borough"
   ]
  },
  {
   "cell_type": "code",
   "execution_count": null,
   "id": "8d5846b7",
   "metadata": {},
   "outputs": [],
   "source": [
    "trips_per_hour = trips.group_by_dynamic(\n",
    "    \"datetime_start\", group_by=\"borough_start\", every=\"1d\"\n",
    ").agg(num_trips=pl.len())\n",
    "\n",
    "trips_per_hour"
   ]
  },
  {
   "cell_type": "code",
   "execution_count": null,
   "id": "e0b992b1",
   "metadata": {},
   "outputs": [],
   "source": [
    "(\n",
    "    ggplot(\n",
    "        trips_per_hour,\n",
    "        aes(x=\"datetime_start\", y=\"num_trips\", fill=\"borough_start\"),\n",
    "    )\n",
    "    + geom_area()\n",
    "    + scale_fill_brewer(type=\"qual\", palette=2)\n",
    "    + scale_x_datetime(date_labels=\"%-d\", date_breaks=\"1 day\", expand=(0, 0))\n",
    "    + scale_y_continuous(expand=(0, 0))\n",
    "    + labs(\n",
    "        x=\"March 2024\",\n",
    "        fill=\"Borough\",\n",
    "        y=\"Trips per day\",\n",
    "        title=\"Citi Bike Trips Per Day In March 2024\",\n",
    "        subtitle=\"On March 23, nearly 10cm of rain fell in NYC\",\n",
    "    )\n",
    "    + theme_tufte(base_size=14)\n",
    "    + theme(\n",
    "        axis_ticks_major=element_line(color=\"white\"),\n",
    "        figure_size=(8, 5),\n",
    "        legend_position=\"top\",\n",
    "        plot_background=element_rect(fill=\"white\", color=\"white\"),\n",
    "        plot_caption=element_text(style=\"italic\"),\n",
    "        plot_title=element_text(ha=\"left\"),\n",
    "    )\n",
    ")"
   ]
  },
  {
   "cell_type": "markdown",
   "id": "be8144cc",
   "metadata": {},
   "source": [
    "### Load"
   ]
  },
  {
   "cell_type": "markdown",
   "id": "12cbf140",
   "metadata": {},
   "source": [
    "#### Write Partitions"
   ]
  },
  {
   "cell_type": "code",
   "execution_count": null,
   "id": "f7ba118a",
   "metadata": {},
   "outputs": [],
   "source": [
    "trips_parts = (\n",
    "    trips.sort(\"datetime_start\")\n",
    "    .with_columns(date=pl.col(\"datetime_start\").dt.date().cast(pl.String))\n",
    "    .partition_by([\"date\"], as_dict=True, include_key=False)\n",
    ")\n",
    "\n",
    "for key, df in trips_parts.items():\n",
    "    df.write_parquet(f\"data/citibike/trips-{key[0]}.parquet\")"
   ]
  },
  {
   "cell_type": "markdown",
   "id": "edb39d83",
   "metadata": {},
   "source": [
    "#### Verify"
   ]
  },
  {
   "cell_type": "code",
   "execution_count": null,
   "id": "cee7eb94",
   "metadata": {},
   "outputs": [],
   "source": [
    "! ls -1 data/citibike/*.parquet"
   ]
  },
  {
   "cell_type": "code",
   "execution_count": null,
   "id": "09216bad",
   "metadata": {},
   "outputs": [],
   "source": [
    "pl.read_parquet(\"data/citibike/*.parquet\").height"
   ]
  },
  {
   "cell_type": "markdown",
   "id": "879cb161",
   "metadata": {},
   "source": [
    "### Bonus: Becoming Faster by Being Lazy"
   ]
  },
  {
   "cell_type": "code",
   "execution_count": null,
   "id": "2f6e5b7d",
   "metadata": {},
   "outputs": [],
   "source": [
    "trips = (\n",
    "    pl.scan_csv(\n",
    "        \"data/citibike/202403-citibike-tripdata.csv\",  \n",
    "        try_parse_dates=True,\n",
    "        schema_overrides={\n",
    "            \"start_station_id\": pl.String,\n",
    "            \"end_station_id\": pl.String,\n",
    "        },\n",
    "    )\n",
    "    .select(\n",
    "        bike_type=pl.col(\"rideable_type\").str.split(\"_\").list.get(0),\n",
    "        rider_type=pl.col(\"member_casual\"),\n",
    "        datetime_start=pl.col(\"started_at\"),\n",
    "        datetime_end=pl.col(\"ended_at\"),\n",
    "        station_start=pl.col(\"start_station_name\"),\n",
    "        station_end=pl.col(\"end_station_name\"),\n",
    "        lon_start=pl.col(\"start_lng\"),\n",
    "        lat_start=pl.col(\"start_lat\"),\n",
    "        lon_end=pl.col(\"end_lng\"),\n",
    "        lat_end=pl.col(\"end_lat\"),\n",
    "    )\n",
    "    .with_columns(duration=(pl.col(\"datetime_end\") - pl.col(\"datetime_start\")))\n",
    "    .drop_nulls()\n",
    "    .filter(\n",
    "        ~(\n",
    "            (pl.col(\"station_start\") == pl.col(\"station_end\"))\n",
    "            & (pl.col(\"duration\").dt.total_seconds() < 5 * 60)\n",
    "        )\n",
    "    )\n",
    "    .with_columns(\n",
    "        distance=pl.concat_list(\n",
    "            \"lon_start\", \"lat_start\"\n",
    "        ).geo.haversine_distance(pl.concat_list(\"lon_end\", \"lat_end\"))\n",
    "        / 1000\n",
    "    )\n",
    ").collect()  \n",
    "\n",
    "neighborhoods = (\n",
    "    pl.read_json(\"data/citibike/nyc-neighborhoods.geojson\")\n",
    "    .lazy()  \n",
    "    .select(\"features\")\n",
    "    .explode(\"features\")\n",
    "    .unnest(\"features\")\n",
    "    .unnest(\"properties\")\n",
    "    .select(\"neighborhood\", \"borough\", \"geometry\")\n",
    "    .unnest(\"geometry\")\n",
    "    .with_columns(polygon=pl.col(\"coordinates\").list.first())\n",
    "    .select(\"neighborhood\", \"borough\", \"polygon\")\n",
    "    .sort(\"neighborhood\")\n",
    "    .filter(pl.col(\"borough\") != \"Staten Island\")\n",
    ")\n",
    "\n",
    "stations = (\n",
    "    trips.lazy()\n",
    "    .group_by(station=pl.col(\"station_start\"))\n",
    "    .agg(\n",
    "        lat=pl.col(\"lat_start\").median(),\n",
    "        lon=pl.col(\"lon_start\").median(),\n",
    "    )\n",
    "    .with_columns(point=pl.concat_list(\"lon\", \"lat\"))\n",
    "    .drop_nulls()\n",
    "    .join(neighborhoods, how=\"cross\")\n",
    "    .with_columns(\n",
    "        in_neighborhood=pl.col(\"point\").geo.point_in_polygon(pl.col(\"polygon\"))\n",
    "    )\n",
    "    .filter(pl.col(\"in_neighborhood\"))\n",
    "    .unique(\"station\")\n",
    "    .select(\n",
    "        pl.col(\"station\"),\n",
    "        pl.col(\"borough\"),\n",
    "        pl.col(\"neighborhood\"),\n",
    "    )\n",
    ").collect()\n",
    "\n",
    "trips = (\n",
    "    trips.join(\n",
    "        stations.select(pl.all().name.suffix(\"_start\")), on=\"station_start\"\n",
    "    )\n",
    "    .join(stations.select(pl.all().name.suffix(\"_end\")), on=\"station_end\")\n",
    "    .select(\n",
    "        \"bike_type\",\n",
    "        \"rider_type\",\n",
    "        \"datetime_start\",\n",
    "        \"datetime_end\",\n",
    "        \"duration\",\n",
    "        \"station_start\",\n",
    "        \"station_end\",\n",
    "        \"neighborhood_start\",\n",
    "        \"neighborhood_end\",\n",
    "        \"borough_start\",\n",
    "        \"borough_end\",\n",
    "        \"lat_start\",\n",
    "        \"lon_start\",\n",
    "        \"lat_end\",\n",
    "        \"lon_end\",\n",
    "        \"distance\",\n",
    "    )\n",
    ")\n",
    "\n",
    "trips.height"
   ]
  },
  {
   "cell_type": "markdown",
   "id": "0ac1d1ce",
   "metadata": {},
   "source": [
    "## Takeaways"
   ]
  }
 ],
 "metadata": {},
 "nbformat": 4,
 "nbformat_minor": 5
}
