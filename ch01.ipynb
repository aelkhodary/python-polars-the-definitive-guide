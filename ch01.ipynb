{
 "cells": [
  {
   "cell_type": "markdown",
   "metadata": {},
   "source": [
    "# Chapter 1: Introducing Polars"
   ]
  },
  {
   "cell_type": "code",
   "execution_count": null,
   "metadata": {},
   "outputs": [],
   "source": [
    "import polars as pl\n",
    "pl.show_versions()  # The book is built with Polars version 1.8.2"
   ]
  },
  {
   "cell_type": "markdown",
   "metadata": {},
   "source": [
    "## What Is This Thing Called Polars?"
   ]
  },
  {
   "cell_type": "markdown",
   "metadata": {},
   "source": [
    "## Why Should You Use Polars?"
   ]
  },
  {
   "cell_type": "markdown",
   "metadata": {},
   "source": [
    "## Why Do We Focus on Python Polars?"
   ]
  },
  {
   "cell_type": "markdown",
   "metadata": {},
   "source": [
    "## How This Book is Organized"
   ]
  },
  {
   "cell_type": "markdown",
   "metadata": {},
   "source": [
    "## An ETL Showcase"
   ]
  },
  {
   "cell_type": "markdown",
   "metadata": {},
   "source": [
    "### Extract"
   ]
  },
  {
   "cell_type": "markdown",
   "metadata": {},
   "source": [
    "#### Import Packages"
   ]
  },
  {
   "cell_type": "code",
   "execution_count": null,
   "metadata": {},
   "outputs": [],
   "source": [
    "import polars as pl  \n",
    "import polars_geo\n",
    "from plotnine import *  "
   ]
  },
  {
   "cell_type": "markdown",
   "metadata": {},
   "source": [
    "#### Download and Extract Citibike Trips"
   ]
  },
  {
   "cell_type": "code",
   "execution_count": null,
   "metadata": {},
   "outputs": [],
   "source": [
    "! curl -sO https://s3.amazonaws.com/tripdata/202403-citibike-tripdata.csv.zip\n",
    "! unzip 202403-citibike-tripdata.csv.zip \"*.csv\" -x \"*/*\" -d data/citibike/\n",
    "! rm -f 202403-citibike-tripdata.csv.zip"
   ]
  },
  {
   "cell_type": "markdown",
   "metadata": {},
   "source": [
    "#### Read Citibike Trips into a Polars DataFrame"
   ]
  },
  {
   "cell_type": "code",
   "execution_count": null,
   "metadata": {},
   "outputs": [],
   "source": [
    "! wc -l data/citibike/202403-citibike-tripdata.csv\n",
    "! head -n 6 data/citibike/202403-citibike-tripdata.csv"
   ]
  },
  {
   "cell_type": "code",
   "execution_count": null,
   "metadata": {},
   "outputs": [],
   "source": [
    "trips = (\n",
    "    pl.read_csv(\"data/citibike/202403-citibike-tripdata.csv\",  \n",
    "                try_parse_dates=True,\n",
    "                schema_overrides={\n",
    "                    \"start_station_id\": pl.String,\n",
    "                    \"end_station_id\": pl.String\n",
    "                })\n",
    "    .sort(\"started_at\")  \n",
    ")\n",
    "\n",
    "trips.height"
   ]
  },
  {
   "cell_type": "code",
   "execution_count": null,
   "metadata": {},
   "outputs": [],
   "source": [
    "print(trips[:,:4])\n",
    "print(trips[:,4:8])\n",
    "print(trips[:,8:])"
   ]
  },
  {
   "cell_type": "markdown",
   "metadata": {},
   "source": [
    "#### Read in Neighborhoods from GeoJSON"
   ]
  },
  {
   "cell_type": "code",
   "execution_count": null,
   "metadata": {},
   "outputs": [],
   "source": [
    "! python -m json.tool data/citibike/custom-pedia-cities-nyc-Mar2018.geojson"
   ]
  },
  {
   "cell_type": "code",
   "execution_count": null,
   "metadata": {},
   "outputs": [],
   "source": [
    "neighborhoods = (\n",
    "    pl.read_json(\"data/citibike/custom-pedia-cities-nyc-Mar2018.geojson\")\n",
    "    .select(\"features\")\n",
    "    .explode(\"features\")  \n",
    "    .unnest(\"features\")\n",
    "    .unnest(\"properties\")\n",
    "    .select(\"neighborhood\", \"borough\", \"geometry\")\n",
    "    .unnest(\"geometry\")\n",
    "    .with_columns(polygon=pl.col(\"coordinates\").list.first())\n",
    "    .select(\"neighborhood\", \"borough\", \"polygon\")\n",
    "    .filter(pl.col(\"borough\") != \"Staten Island\")  \n",
    "    .sort(\"neighborhood\")\n",
    ")\n",
    "\n",
    "print(neighborhoods)"
   ]
  },
  {
   "cell_type": "markdown",
   "metadata": {},
   "source": [
    "### Bonus: Visualizing Neighborhoods and Stations"
   ]
  },
  {
   "cell_type": "code",
   "execution_count": null,
   "metadata": {},
   "outputs": [],
   "source": [
    "neighborhoods_coords = (\n",
    "    neighborhoods\n",
    "    .with_row_index(\"id\")\n",
    "    .explode(\"polygon\")\n",
    "    .with_columns(\n",
    "        lon=pl.col(\"polygon\").list.first(),\n",
    "        lat=pl.col(\"polygon\").list.last(),\n",
    "    )\n",
    "    .drop(\"polygon\")\n",
    ")\n",
    "\n",
    "neighborhoods_coords"
   ]
  },
  {
   "cell_type": "code",
   "execution_count": null,
   "metadata": {},
   "outputs": [],
   "source": [
    "stations = (\n",
    "    trips\n",
    "    .group_by(pl.col(\"start_station_name\").alias(\"station\")).agg(  \n",
    "        pl.col(\"start_lng\").median().alias(\"lon\"),\n",
    "        pl.col(\"start_lat\").median().alias(\"lat\"),\n",
    "    )\n",
    "    .sort(\"station\")\n",
    "    .drop_nulls()\n",
    ")\n",
    "stations"
   ]
  },
  {
   "cell_type": "code",
   "execution_count": null,
   "metadata": {},
   "outputs": [],
   "source": [
    "(\n",
    "    ggplot(neighborhoods_coords, aes(x=\"lon\", y=\"lat\", group=\"id\"))\n",
    "    + geom_polygon(aes(alpha=\"neighborhood\", fill=\"borough\"), color=\"white\")\n",
    "    + geom_point(stations, size=0.1)\n",
    "    + scale_x_continuous(expand=(0, 0))\n",
    "    + scale_y_continuous(expand=(0, 0, 0, 0.01))\n",
    "    + scale_alpha_ordinal(range=(0.3, 1))\n",
    "    + scale_fill_brewer(type=\"qual\", palette=2)\n",
    "    + guides(alpha=False)\n",
    "    + labs(title=\"New York City Neighborhoods and Citibike Stations\",\n",
    "           subtitle=\"2143 stations across 106 neighborhoods\",\n",
    "           caption=\"Source: https://citibikenyc.com/system-data\",\n",
    "           fill=\"Borough\")\n",
    "    + theme_void(base_family=\"Guardian Sans\", base_size=14)\n",
    "    + theme(\n",
    "        figure_size=(7, 9),\n",
    "        plot_background=element_rect(fill=\"white\", color=\"white\"),\n",
    "        plot_caption=element_text(style=\"italic\"),\n",
    "        plot_title=element_text(ha=\"left\"),\n",
    "    )\n",
    ")"
   ]
  },
  {
   "cell_type": "markdown",
   "metadata": {},
   "source": [
    "### Transform"
   ]
  },
  {
   "cell_type": "markdown",
   "metadata": {},
   "source": [
    "#### Clean up Columns"
   ]
  },
  {
   "cell_type": "code",
   "execution_count": null,
   "metadata": {},
   "outputs": [],
   "source": [
    "trips = (\n",
    "    trips\n",
    "    .select(\n",
    "        bike_type=pl.col(\"rideable_type\")\n",
    "        .str.split(\"_\").list.get(0).cast(pl.Categorical),  \n",
    "        rider_type=pl.col(\"member_casual\").cast(pl.Categorical),\n",
    "        datetime_start=pl.col(\"started_at\"),\n",
    "        datetime_end=pl.col(\"ended_at\"),\n",
    "        station_start=pl.col(\"start_station_name\"),\n",
    "        station_end=pl.col(\"end_station_name\"),\n",
    "        lon_start=pl.col(\"start_lng\"),\n",
    "        lat_start=pl.col(\"start_lat\"),\n",
    "        lon_end=pl.col(\"end_lng\"),\n",
    "        lat_end=pl.col(\"end_lat\"),\n",
    "    )\n",
    "    .with_columns(  \n",
    "        duration=(pl.col(\"datetime_end\") - pl.col(\"datetime_start\"))\n",
    "    )\n",
    ")\n",
    "\n",
    "trips.columns"
   ]
  },
  {
   "cell_type": "markdown",
   "metadata": {},
   "source": [
    "#### Clean up Rows"
   ]
  },
  {
   "cell_type": "code",
   "execution_count": null,
   "metadata": {},
   "outputs": [],
   "source": [
    "from datetime import date\n",
    "\n",
    "trips = (\n",
    "    trips\n",
    "    .drop_nulls()\n",
    "    .filter(  \n",
    "        (pl.col(\"datetime_start\") >= date(2024, 3, 1)) &\n",
    "        (pl.col(\"datetime_end\") < date(2024, 4, 1))\n",
    "    )\n",
    "    .filter(\n",
    "        ~((pl.col(\"station_start\") == pl.col(\"station_end\")) &\n",
    "          (pl.col(\"duration\").dt.total_seconds() < 5*60))\n",
    "    )\n",
    ")\n",
    "\n",
    "trips.height"
   ]
  },
  {
   "cell_type": "markdown",
   "metadata": {},
   "source": [
    "#### Add Trip Distance"
   ]
  },
  {
   "cell_type": "code",
   "execution_count": null,
   "metadata": {},
   "outputs": [],
   "source": [
    "trips = trips.with_columns(\n",
    "    distance=pl.concat_list(\"lon_start\", \"lat_start\")\n",
    "    .geo.haversine_distance(pl.concat_list(\"lon_end\", \"lat_end\")) / 1000  \n",
    ")\n",
    "\n",
    "trips.select(\n",
    "    \"lon_start\",\n",
    "    \"lon_end\",\n",
    "    \"lat_start\",\n",
    "    \"lat_end\",\n",
    "    \"distance\",\n",
    "    \"duration\",\n",
    ")"
   ]
  },
  {
   "cell_type": "markdown",
   "metadata": {},
   "source": [
    "#### Add Borough and Neighborhood"
   ]
  },
  {
   "cell_type": "code",
   "execution_count": null,
   "metadata": {},
   "outputs": [],
   "source": [
    "stations = (\n",
    "    stations\n",
    "    .with_columns(point=pl.concat_list(\"lon\", \"lat\"))\n",
    "    .join(neighborhoods, how=\"cross\")\n",
    "    .with_columns(\n",
    "        in_neighborhood=pl.col(\"point\").geo.point_in_polygon(pl.col(\"polygon\"))\n",
    "    )\n",
    "    .filter(pl.col(\"in_neighborhood\"))\n",
    "    .unique(\"station\")\n",
    "    .select(\n",
    "        \"station\",\n",
    "        \"borough\",\n",
    "        \"neighborhood\",\n",
    "    )\n",
    ")\n",
    "\n",
    "stations"
   ]
  },
  {
   "cell_type": "code",
   "execution_count": null,
   "metadata": {},
   "outputs": [],
   "source": [
    "trips = (\n",
    "    trips\n",
    "    .join(stations.select(pl.all().name.suffix(\"_start\")), on=\"station_start\")\n",
    "    .join(stations.select(pl.all().name.suffix(\"_end\")), on=\"station_end\")\n",
    "    .select(\n",
    "        \"bike_type\",\n",
    "        \"rider_type\",\n",
    "        \"datetime_start\",\n",
    "        \"datetime_end\",\n",
    "        \"duration\",\n",
    "        \"station_start\",\n",
    "        \"station_end\",\n",
    "        \"neighborhood_start\",\n",
    "        \"neighborhood_end\",\n",
    "        \"borough_start\",\n",
    "        \"borough_end\",\n",
    "        \"lat_start\",\n",
    "        \"lon_start\",\n",
    "        \"lat_end\",\n",
    "        \"lon_end\",\n",
    "        \"distance\",\n",
    "    )\n",
    ")"
   ]
  },
  {
   "cell_type": "code",
   "execution_count": null,
   "metadata": {},
   "outputs": [],
   "source": [
    "print(trips[:,:4])\n",
    "print(trips[:,4:7])\n",
    "print(trips[:,7:11])\n",
    "print(trips[:,11:])"
   ]
  },
  {
   "cell_type": "markdown",
   "metadata": {},
   "source": [
    "### Bonus: Visualizing Daily Trips per Borough"
   ]
  },
  {
   "cell_type": "code",
   "execution_count": null,
   "metadata": {},
   "outputs": [],
   "source": [
    "trips_per_hour = (\n",
    "    trips\n",
    "    .group_by_dynamic(\"datetime_start\", group_by=\"borough_start\", every=\"1d\")\n",
    "    .agg(\n",
    "        num_trips=pl.len()\n",
    "    )\n",
    ")\n",
    "\n",
    "trips_per_hour"
   ]
  },
  {
   "cell_type": "code",
   "execution_count": null,
   "metadata": {},
   "outputs": [],
   "source": [
    "(\n",
    "    ggplot(trips_per_hour,\n",
    "           aes(x=\"datetime_start\", y=\"num_trips\", fill=\"borough_start\"))\n",
    "    + geom_area()\n",
    "    + scale_fill_brewer(type=\"qual\", palette=2)\n",
    "    + scale_x_datetime(date_labels=\"%-d\", date_breaks=\"1 day\", expand=(0, 0))\n",
    "    + scale_y_continuous(expand=(0, 0))\n",
    "    + labs(x=\"March 2024\", fill=\"Borough\", y=\"Trips per day\",\n",
    "           title=\"Citibike Trips Per Day In March 2024\",\n",
    "           subtitle=\"On March 23, nearly 10cm of rain fell in NYC\")\n",
    "    + theme_tufte(base_family=\"Guardian Sans\", base_size=14)\n",
    "    + theme(\n",
    "        axis_ticks_major=element_line(color=\"white\"),\n",
    "        figure_size=(8, 5),\n",
    "        legend_position=\"top\",\n",
    "        plot_background=element_rect(fill=\"white\", color=\"white\"),\n",
    "        plot_caption=element_text(style=\"italic\"),\n",
    "        plot_title=element_text(ha=\"left\"),\n",
    "    )\n",
    ")"
   ]
  },
  {
   "cell_type": "markdown",
   "metadata": {},
   "source": [
    "### Load"
   ]
  },
  {
   "cell_type": "markdown",
   "metadata": {},
   "source": [
    "#### Write Partitions"
   ]
  },
  {
   "cell_type": "code",
   "execution_count": null,
   "metadata": {},
   "outputs": [],
   "source": [
    "trips_parts = (\n",
    "    trips\n",
    "    .sort(\"datetime_start\")\n",
    "    .with_columns(date=pl.col(\"datetime_start\").dt.date().cast(pl.String))\n",
    "    .partition_by([\"date\"], as_dict=True, include_key=False)\n",
    ")\n",
    "\n",
    "for key, df in trips_parts.items():\n",
    "    df.write_parquet(f\"data/citibike/trips-{key[0]}.parquet\")"
   ]
  },
  {
   "cell_type": "markdown",
   "metadata": {},
   "source": [
    "#### Verify"
   ]
  },
  {
   "cell_type": "code",
   "execution_count": null,
   "metadata": {},
   "outputs": [],
   "source": [
    "! ls -1 data/citibike/*.parquet"
   ]
  },
  {
   "cell_type": "code",
   "execution_count": null,
   "metadata": {},
   "outputs": [],
   "source": [
    "pl.read_parquet(\"data/citibike/*.parquet\").height"
   ]
  },
  {
   "cell_type": "markdown",
   "metadata": {},
   "source": [
    "### Bonus: Becoming Faster by Being Lazy"
   ]
  },
  {
   "cell_type": "code",
   "execution_count": null,
   "metadata": {},
   "outputs": [],
   "source": [
    "trips = (\n",
    "    pl.scan_csv(filename,  \n",
    "                try_parse_dates=True,\n",
    "                schema_overrides={\n",
    "                    \"start_station_id\": pl.String,\n",
    "                    \"end_station_id\": pl.String})\n",
    "    .select(\n",
    "        bike_type=pl.col(\"rideable_type\")\n",
    "        .str.split(\"_\").list.get(0).cast(pl.Categorical),\n",
    "        rider_type=pl.col(\"member_casual\").cast(pl.Categorical),\n",
    "        datetime_start=pl.col(\"started_at\"),\n",
    "        datetime_end=pl.col(\"ended_at\"),\n",
    "        station_start=pl.col(\"start_station_name\"),\n",
    "        station_end=pl.col(\"end_station_name\"),\n",
    "        lon_start=pl.col(\"start_lng\"),\n",
    "        lat_start=pl.col(\"start_lat\"),\n",
    "        lon_end=pl.col(\"end_lng\"),\n",
    "        lat_end=pl.col(\"end_lat\"),\n",
    "    )\n",
    "    .with_columns(duration=(pl.col(\"datetime_end\") - pl.col(\"datetime_start\")))\n",
    "    .drop_nulls()\n",
    "    .filter(\n",
    "        ~((pl.col(\"station_start\") == pl.col(\"station_end\")) &\n",
    "          (pl.col(\"duration\").dt.total_seconds() < 5*60))\n",
    "    )\n",
    "    .with_columns(\n",
    "        distance=pl.concat_list(\"lon_start\", \"lat_start\")\n",
    "        .geo.haversine_distance(pl.concat_list(\"lon_end\", \"lat_end\")) / 1000\n",
    "    )\n",
    ").collect() \n",
    "\n",
    "neighborhoods = (\n",
    "    pl.read_json(\"data/citibike/custom-pedia-cities-nyc-Mar2018.geojson\")\n",
    "    .lazy()   \n",
    "    .select(\"features\")\n",
    "    .explode(\"features\")\n",
    "    .unnest(\"features\")\n",
    "    .unnest(\"properties\")\n",
    "    .select(\"neighborhood\", \"borough\", \"geometry\")\n",
    "    .unnest(\"geometry\")\n",
    "    .with_columns(polygon=pl.col(\"coordinates\").list.first())\n",
    "    .select(\"neighborhood\", \"borough\", \"polygon\")\n",
    "    .sort(\"neighborhood\")\n",
    "    .filter(pl.col(\"borough\") != \"Staten Island\")\n",
    ")\n",
    "\n",
    "stations = (\n",
    "    trips\n",
    "    .lazy()\n",
    "    .group_by(pl.col(\"station_start\").alias(\"station\")).agg(\n",
    "        pl.col(\"lat_start\").median().alias(\"lat\"),\n",
    "        pl.col(\"lon_start\").median().alias(\"lon\"),\n",
    "    )\n",
    "    .with_columns(point=pl.concat_list(\"lon\", \"lat\"))\n",
    "    .drop_nulls()\n",
    "    .join(neighborhoods, how=\"cross\")\n",
    "    .with_columns(\n",
    "        in_neighborhood=pl.col(\"point\").geo.point_in_polygon(pl.col(\"polygon\"))\n",
    "    )\n",
    "    .filter(pl.col(\"in_neighborhood\"))\n",
    "    .unique(\"station\")\n",
    "    .select(\n",
    "        pl.col(\"station\"),\n",
    "        pl.col(\"borough\"),\n",
    "        pl.col(\"neighborhood\"),\n",
    "    )\n",
    ").collect()\n",
    "\n",
    "trips = (\n",
    "    trips\n",
    "    .join(stations.select(pl.all().name.suffix(\"_start\")), on=\"station_start\")\n",
    "    .join(stations.select(pl.all().name.suffix(\"_end\")), on=\"station_end\")\n",
    "    .select(\n",
    "        \"bike_type\",\n",
    "        \"rider_type\",\n",
    "        \"datetime_start\",\n",
    "        \"datetime_end\",\n",
    "        \"duration\",\n",
    "        \"station_start\",\n",
    "        \"station_end\",\n",
    "        \"neighborhood_start\",\n",
    "        \"neighborhood_end\",\n",
    "        \"borough_start\",\n",
    "        \"borough_end\",\n",
    "        \"lat_start\",\n",
    "        \"lon_start\",\n",
    "        \"lat_end\",\n",
    "        \"lon_end\",\n",
    "        \"distance\",\n",
    "    )\n",
    ")"
   ]
  },
  {
   "cell_type": "markdown",
   "metadata": {},
   "source": [
    "## Takeaways"
   ]
  }
 ],
 "metadata": {},
 "nbformat": 4,
 "nbformat_minor": 5
}
