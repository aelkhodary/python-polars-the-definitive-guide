{
 "cells": [
  {
   "cell_type": "markdown",
   "id": "d71793e9",
   "metadata": {},
   "source": [
    "# Chapter 11: Filtering and Sorting Rows"
   ]
  },
  {
   "cell_type": "code",
   "execution_count": 1,
   "id": "448841d3",
   "metadata": {},
   "outputs": [],
   "source": [
    "import polars as pl\n",
    "pl.show_versions()  # The book is built with Polars version 1.0.0"
   ]
  },
  {
   "cell_type": "code",
   "execution_count": 2,
   "id": "6b6dea94",
   "metadata": {},
   "outputs": [],
   "source": [
    "tools = pl.read_csv(\"data/tools.csv\")\n",
    "tools"
   ]
  },
  {
   "cell_type": "markdown",
   "id": "a76dade1",
   "metadata": {},
   "source": [
    "## Filtering Rows"
   ]
  },
  {
   "cell_type": "markdown",
   "id": "19f093fa",
   "metadata": {},
   "source": [
    "### Filtering Based on Expressions"
   ]
  },
  {
   "cell_type": "code",
   "execution_count": 5,
   "id": "c93b84cd",
   "metadata": {},
   "outputs": [],
   "source": [
    "tools.filter(\n",
    "    pl.col(\"cordless\") &  \n",
    "    (pl.col(\"brand\") == \"Makita\")\n",
    ")"
   ]
  },
  {
   "cell_type": "code",
   "execution_count": 6,
   "id": "1c5c1e95",
   "metadata": {},
   "outputs": [],
   "source": [
    "tools.filter(\n",
    "    pl.col(\"cordless\"),\n",
    "    pl.col(\"brand\") == \"Makita\"\n",
    ")"
   ]
  },
  {
   "cell_type": "markdown",
   "id": "b828bc9f",
   "metadata": {},
   "source": [
    "### Filtering Based on Column Names"
   ]
  },
  {
   "cell_type": "code",
   "execution_count": 8,
   "id": "123b82f9",
   "metadata": {},
   "outputs": [],
   "source": [
    "tools.filter(\"cordless\")"
   ]
  },
  {
   "cell_type": "markdown",
   "id": "91e64de4",
   "metadata": {},
   "source": [
    "### Filtering Based on Constraints"
   ]
  },
  {
   "cell_type": "code",
   "execution_count": 10,
   "id": "c340b751",
   "metadata": {},
   "outputs": [],
   "source": [
    "tools.filter(cordless=True, brand=\"Makita\")"
   ]
  },
  {
   "cell_type": "markdown",
   "id": "975f0950",
   "metadata": {},
   "source": [
    "## Sorting Rows"
   ]
  },
  {
   "cell_type": "markdown",
   "id": "24ac19aa",
   "metadata": {},
   "source": [
    "### Sorting Based On a Single Column"
   ]
  },
  {
   "cell_type": "code",
   "execution_count": 13,
   "id": "62bb9931",
   "metadata": {},
   "outputs": [],
   "source": [
    "tools.sort(\"price\")"
   ]
  },
  {
   "cell_type": "markdown",
   "id": "2a0387ca",
   "metadata": {},
   "source": [
    "### Sorting in Reverse"
   ]
  },
  {
   "cell_type": "code",
   "execution_count": 15,
   "id": "faea1cdb",
   "metadata": {},
   "outputs": [],
   "source": [
    "tools.sort(\"price\", descending=True)"
   ]
  },
  {
   "cell_type": "code",
   "execution_count": 16,
   "id": "b1960829",
   "metadata": {},
   "outputs": [],
   "source": [
    "tools.sort(\"price\", ascending=False)"
   ]
  },
  {
   "cell_type": "markdown",
   "id": "f6053ca2",
   "metadata": {},
   "source": [
    "### Sorting Based on Multiple Columns"
   ]
  },
  {
   "cell_type": "code",
   "execution_count": 18,
   "id": "b561df3a",
   "metadata": {},
   "outputs": [],
   "source": [
    "tools.sort(\"brand\", \"price\")"
   ]
  },
  {
   "cell_type": "code",
   "execution_count": 19,
   "id": "540487f7",
   "metadata": {},
   "outputs": [],
   "source": [
    "tools.sort(\"brand\", \"price\", descending=[False, True])"
   ]
  },
  {
   "cell_type": "markdown",
   "id": "95d03db8",
   "metadata": {},
   "source": [
    "### Sorting Based on Expressions"
   ]
  },
  {
   "cell_type": "code",
   "execution_count": 21,
   "id": "dd037b99",
   "metadata": {},
   "outputs": [],
   "source": [
    "tools.sort(pl.col(\"rpm\") / pl.col(\"price\"))"
   ]
  },
  {
   "cell_type": "markdown",
   "id": "e59e16c9",
   "metadata": {},
   "source": [
    "### Sorting Nested Data Types"
   ]
  },
  {
   "cell_type": "code",
   "execution_count": 23,
   "id": "df8a4320",
   "metadata": {},
   "outputs": [],
   "source": [
    "tools_collection = tools.group_by(\"brand\").agg(collection=pl.struct(pl.all()))\n",
    "tools_collection"
   ]
  },
  {
   "cell_type": "code",
   "execution_count": 24,
   "id": "fcde5217",
   "metadata": {},
   "outputs": [],
   "source": [
    "tools_collection.sort(pl.col(\"collection\").list.len(), descending=True)"
   ]
  },
  {
   "cell_type": "code",
   "execution_count": 25,
   "id": "ef77c552",
   "metadata": {},
   "outputs": [],
   "source": [
    "tools_collection.sort(\n",
    "    pl.col(\"collection\").list.eval(\n",
    "        pl.element().struct.field(\"price\")\n",
    "    ).list.mean()\n",
    ")"
   ]
  },
  {
   "cell_type": "code",
   "execution_count": 26,
   "id": "efaae9dc",
   "metadata": {},
   "outputs": [],
   "source": [
    "tools_collection.with_columns(\n",
    "    mean_price=pl.col(\"collection\").list.eval(\n",
    "        pl.element().struct.field(\"price\")\n",
    "    ).list.mean()\n",
    ").sort(\"mean_price\")"
   ]
  },
  {
   "cell_type": "markdown",
   "id": "77702b0c",
   "metadata": {},
   "source": [
    "## Related Row Operations"
   ]
  },
  {
   "cell_type": "code",
   "execution_count": 28,
   "id": "53a718fe",
   "metadata": {},
   "outputs": [],
   "source": [
    "tools.drop_nulls(\"rpm\").height"
   ]
  },
  {
   "cell_type": "code",
   "execution_count": 29,
   "id": "f4693789",
   "metadata": {},
   "outputs": [],
   "source": [
    "df.filter(pl.all_horizontal(pl.all().is_not_null()))"
   ]
  },
  {
   "cell_type": "code",
   "execution_count": 30,
   "id": "28b908ed",
   "metadata": {},
   "outputs": [],
   "source": [
    "(\n",
    "    tools.with_row_index()\n",
    "    .gather_every(2).head(3)\n",
    ")"
   ]
  },
  {
   "cell_type": "code",
   "execution_count": 31,
   "id": "2d880ffd",
   "metadata": {},
   "outputs": [],
   "source": [
    "tools.top_k(3, by=\"price\")"
   ]
  },
  {
   "cell_type": "code",
   "execution_count": 32,
   "id": "bc81aec3",
   "metadata": {},
   "outputs": [],
   "source": [
    "tools.sample(fraction=0.2)"
   ]
  },
  {
   "cell_type": "code",
   "execution_count": 33,
   "id": "908ab507",
   "metadata": {},
   "outputs": [],
   "source": [
    "saws = pl.DataFrame({\"tool\": [\"Table Saw\", \"Plunge Cut Saw\", \"Miter Saw\",\n",
    "                              \"Jigsaw\", \"Bandsaw\", \"Chainsaw\", \"Seesaw\"]})\n",
    "tools.join(saws, how=\"semi\", on=\"tool\")"
   ]
  },
  {
   "cell_type": "markdown",
   "id": "c45e8b31",
   "metadata": {},
   "source": [
    "## Takeaways"
   ]
  }
 ],
 "metadata": {},
 "nbformat": 4,
 "nbformat_minor": 5
}
