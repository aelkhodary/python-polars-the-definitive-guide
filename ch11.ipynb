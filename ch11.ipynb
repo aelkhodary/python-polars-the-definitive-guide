{
 "cells": [
  {
   "cell_type": "markdown",
   "id": "991f4a4b",
   "metadata": {},
   "source": [
    "# Chapter 11: Filtering and Sorting Rows"
   ]
  },
  {
   "cell_type": "code",
   "execution_count": 1,
   "id": "9390bd1c",
   "metadata": {},
   "outputs": [],
   "source": [
    "import polars as pl\n",
    "pl.show_versions()  # The book is built with Polars version 1.0.0"
   ]
  },
  {
   "cell_type": "code",
   "execution_count": 2,
   "id": "7444d6e7",
   "metadata": {},
   "outputs": [],
   "source": [
    "tools = pl.read_csv(\"data/tools.csv\")\n",
    "tools"
   ]
  },
  {
   "cell_type": "markdown",
   "id": "3d4656c2",
   "metadata": {},
   "source": [
    "## Filtering Rows"
   ]
  },
  {
   "cell_type": "markdown",
   "id": "8fb16aaa",
   "metadata": {},
   "source": [
    "### Filtering Based on Expressions"
   ]
  },
  {
   "cell_type": "code",
   "execution_count": 5,
   "id": "7de77204",
   "metadata": {},
   "outputs": [],
   "source": [
    "tools.filter(\n",
    "    pl.col(\"cordless\") &  \n",
    "    (pl.col(\"brand\") == \"Makita\")\n",
    ")"
   ]
  },
  {
   "cell_type": "code",
   "execution_count": 6,
   "id": "524d73b6",
   "metadata": {},
   "outputs": [],
   "source": [
    "tools.filter(\n",
    "    pl.col(\"cordless\"),\n",
    "    pl.col(\"brand\") == \"Makita\"\n",
    ")"
   ]
  },
  {
   "cell_type": "markdown",
   "id": "50dc2ffc",
   "metadata": {},
   "source": [
    "### Filtering Based on Column Names"
   ]
  },
  {
   "cell_type": "code",
   "execution_count": 8,
   "id": "d41835a6",
   "metadata": {},
   "outputs": [],
   "source": [
    "tools.filter(\"cordless\")"
   ]
  },
  {
   "cell_type": "markdown",
   "id": "18052584",
   "metadata": {},
   "source": [
    "### Filtering Based on Constraints"
   ]
  },
  {
   "cell_type": "code",
   "execution_count": 10,
   "id": "d697b921",
   "metadata": {},
   "outputs": [],
   "source": [
    "tools.filter(cordless=True, brand=\"Makita\")"
   ]
  },
  {
   "cell_type": "markdown",
   "id": "faf2f2cc",
   "metadata": {},
   "source": [
    "## Sorting Rows"
   ]
  },
  {
   "cell_type": "markdown",
   "id": "93f25096",
   "metadata": {},
   "source": [
    "### Sorting Based On a Single Column"
   ]
  },
  {
   "cell_type": "code",
   "execution_count": 13,
   "id": "df12c1c3",
   "metadata": {},
   "outputs": [],
   "source": [
    "tools.sort(\"price\")"
   ]
  },
  {
   "cell_type": "markdown",
   "id": "21f2284c",
   "metadata": {},
   "source": [
    "### Sorting in Reverse"
   ]
  },
  {
   "cell_type": "code",
   "execution_count": 15,
   "id": "efb2ee4e",
   "metadata": {},
   "outputs": [],
   "source": [
    "tools.sort(\"price\", descending=True)"
   ]
  },
  {
   "cell_type": "code",
   "execution_count": 16,
   "id": "2151c03e",
   "metadata": {},
   "outputs": [],
   "source": [
    "tools.sort(\"price\", ascending=False)"
   ]
  },
  {
   "cell_type": "markdown",
   "id": "e1ad84be",
   "metadata": {},
   "source": [
    "### Sorting Based on Multiple Columns"
   ]
  },
  {
   "cell_type": "code",
   "execution_count": 18,
   "id": "9caf9ab6",
   "metadata": {},
   "outputs": [],
   "source": [
    "tools.sort(\"brand\", \"price\")"
   ]
  },
  {
   "cell_type": "code",
   "execution_count": 19,
   "id": "58975458",
   "metadata": {},
   "outputs": [],
   "source": [
    "tools.sort(\"brand\", \"price\", descending=[False, True])"
   ]
  },
  {
   "cell_type": "markdown",
   "id": "7ad6b83e",
   "metadata": {},
   "source": [
    "### Sorting Based on Expressions"
   ]
  },
  {
   "cell_type": "code",
   "execution_count": 21,
   "id": "7bbf6ae6",
   "metadata": {},
   "outputs": [],
   "source": [
    "tools.sort(pl.col(\"rpm\") / pl.col(\"price\"))"
   ]
  },
  {
   "cell_type": "markdown",
   "id": "6a041c16",
   "metadata": {},
   "source": [
    "### Sorting Nested Data Types"
   ]
  },
  {
   "cell_type": "code",
   "execution_count": 23,
   "id": "d14c64da",
   "metadata": {},
   "outputs": [],
   "source": [
    "tools_collection = tools.group_by(\"brand\").agg(collection=pl.struct(pl.all()))\n",
    "tools_collection"
   ]
  },
  {
   "cell_type": "code",
   "execution_count": 24,
   "id": "03583f13",
   "metadata": {},
   "outputs": [],
   "source": [
    "tools_collection.sort(pl.col(\"collection\").list.len(), descending=True)"
   ]
  },
  {
   "cell_type": "code",
   "execution_count": 25,
   "id": "83e8e7c0",
   "metadata": {},
   "outputs": [],
   "source": [
    "tools_collection.sort(\n",
    "    pl.col(\"collection\").list.eval(\n",
    "        pl.element().struct.field(\"price\")\n",
    "    ).list.mean()\n",
    ")"
   ]
  },
  {
   "cell_type": "code",
   "execution_count": 26,
   "id": "d8688be2",
   "metadata": {},
   "outputs": [],
   "source": [
    "tools_collection.with_columns(\n",
    "    mean_price=pl.col(\"collection\").list.eval(\n",
    "        pl.element().struct.field(\"price\")\n",
    "    ).list.mean()\n",
    ").sort(\"mean_price\")"
   ]
  },
  {
   "cell_type": "markdown",
   "id": "42b94461",
   "metadata": {},
   "source": [
    "## Related Row Operations"
   ]
  },
  {
   "cell_type": "code",
   "execution_count": 28,
   "id": "0b63fa2d",
   "metadata": {},
   "outputs": [],
   "source": [
    "tools.drop_nulls(\"rpm\").height"
   ]
  },
  {
   "cell_type": "code",
   "execution_count": 29,
   "id": "8ea3ca0d",
   "metadata": {},
   "outputs": [],
   "source": [
    "df.filter(pl.all_horizontal(pl.all().is_not_null()))"
   ]
  },
  {
   "cell_type": "code",
   "execution_count": 30,
   "id": "98334fd4",
   "metadata": {},
   "outputs": [],
   "source": [
    "(\n",
    "    tools.with_row_index()\n",
    "    .gather_every(2).head(3)\n",
    ")"
   ]
  },
  {
   "cell_type": "code",
   "execution_count": 31,
   "id": "34e07e01",
   "metadata": {},
   "outputs": [],
   "source": [
    "tools.top_k(3, by=\"price\")"
   ]
  },
  {
   "cell_type": "code",
   "execution_count": 32,
   "id": "26b91241",
   "metadata": {},
   "outputs": [],
   "source": [
    "tools.sample(fraction=0.2)"
   ]
  },
  {
   "cell_type": "code",
   "execution_count": 33,
   "id": "3297d7eb",
   "metadata": {},
   "outputs": [],
   "source": [
    "saws = pl.DataFrame({\"tool\": [\"Table Saw\", \"Plunge Cut Saw\", \"Miter Saw\",\n",
    "                              \"Jigsaw\", \"Bandsaw\", \"Chainsaw\", \"Seesaw\"]})\n",
    "tools.join(saws, how=\"semi\", on=\"tool\")"
   ]
  },
  {
   "cell_type": "markdown",
   "id": "88adf55c",
   "metadata": {},
   "source": [
    "## Takeaways"
   ]
  }
 ],
 "metadata": {},
 "nbformat": 4,
 "nbformat_minor": 5
}
