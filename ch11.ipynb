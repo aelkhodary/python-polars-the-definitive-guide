{
 "cells": [
  {
   "cell_type": "markdown",
   "id": "b1190ac6",
   "metadata": {},
   "source": [
    "# Chapter 11: Filtering and Sorting Rows"
   ]
  },
  {
   "cell_type": "code",
   "execution_count": null,
   "id": "89d71082",
   "metadata": {},
   "outputs": [],
   "source": [
    "import polars as pl\n",
    "pl.show_versions()  # The book is built with Polars version 1.13.1"
   ]
  },
  {
   "cell_type": "code",
   "execution_count": null,
   "id": "cde256ec",
   "metadata": {},
   "outputs": [],
   "source": [
    "tools = pl.read_csv(\"data/tools.csv\")\n",
    "tools"
   ]
  },
  {
   "cell_type": "markdown",
   "id": "69c6529b",
   "metadata": {},
   "source": [
    "## Filtering Rows"
   ]
  },
  {
   "cell_type": "markdown",
   "id": "ee5247d0",
   "metadata": {},
   "source": [
    "### Filtering Based on Expressions"
   ]
  },
  {
   "cell_type": "code",
   "execution_count": null,
   "id": "8f384e2f",
   "metadata": {},
   "outputs": [],
   "source": [
    "tools.filter(pl.col(\"cordless\") & (pl.col(\"brand\") == \"Makita\"))  "
   ]
  },
  {
   "cell_type": "code",
   "execution_count": null,
   "id": "d50b0e98",
   "metadata": {},
   "outputs": [],
   "source": [
    "tools.filter(pl.col(\"cordless\"), pl.col(\"brand\") == \"Makita\")"
   ]
  },
  {
   "cell_type": "markdown",
   "id": "015ed3b2",
   "metadata": {},
   "source": [
    "### Filtering Based on Column Names"
   ]
  },
  {
   "cell_type": "code",
   "execution_count": null,
   "id": "573190d4",
   "metadata": {},
   "outputs": [],
   "source": [
    "tools.filter(\"cordless\")"
   ]
  },
  {
   "cell_type": "markdown",
   "id": "656f8612",
   "metadata": {},
   "source": [
    "### Filtering Based on Constraints"
   ]
  },
  {
   "cell_type": "code",
   "execution_count": null,
   "id": "0a734fd1",
   "metadata": {},
   "outputs": [],
   "source": [
    "tools.filter(cordless=True, brand=\"Makita\")"
   ]
  },
  {
   "cell_type": "markdown",
   "id": "658e88ef",
   "metadata": {},
   "source": [
    "## Sorting Rows"
   ]
  },
  {
   "cell_type": "markdown",
   "id": "15a45afd",
   "metadata": {},
   "source": [
    "### Sorting Based On a Single Column"
   ]
  },
  {
   "cell_type": "code",
   "execution_count": null,
   "id": "8f618041",
   "metadata": {},
   "outputs": [],
   "source": [
    "tools.sort(\"price\")"
   ]
  },
  {
   "cell_type": "markdown",
   "id": "8264d01a",
   "metadata": {},
   "source": [
    "### Sorting in Reverse"
   ]
  },
  {
   "cell_type": "code",
   "execution_count": null,
   "id": "5931fa64",
   "metadata": {},
   "outputs": [],
   "source": [
    "tools.sort(\"price\", descending=True)"
   ]
  },
  {
   "cell_type": "code",
   "execution_count": null,
   "id": "72b7b196",
   "metadata": {},
   "outputs": [],
   "source": [
    "# This raises a TypeError:\n",
    "# tools.sort(\"price\", ascending=False)"
   ]
  },
  {
   "cell_type": "markdown",
   "id": "66ced43f",
   "metadata": {},
   "source": [
    "### Sorting Based on Multiple Columns"
   ]
  },
  {
   "cell_type": "code",
   "execution_count": null,
   "id": "803b08fc",
   "metadata": {},
   "outputs": [],
   "source": [
    "tools.sort(\"brand\", \"price\")"
   ]
  },
  {
   "cell_type": "code",
   "execution_count": null,
   "id": "1ec53c88",
   "metadata": {},
   "outputs": [],
   "source": [
    "tools.sort(\"brand\", \"price\", descending=[False, True])"
   ]
  },
  {
   "cell_type": "markdown",
   "id": "9fd39e2a",
   "metadata": {},
   "source": [
    "### Sorting Based on Expressions"
   ]
  },
  {
   "cell_type": "code",
   "execution_count": null,
   "id": "696b5219",
   "metadata": {},
   "outputs": [],
   "source": [
    "tools.sort(pl.col(\"rpm\") / pl.col(\"price\"))"
   ]
  },
  {
   "cell_type": "markdown",
   "id": "dfc421ad",
   "metadata": {},
   "source": [
    "### Sorting Nested Data Types"
   ]
  },
  {
   "cell_type": "code",
   "execution_count": null,
   "id": "1588160e",
   "metadata": {},
   "outputs": [],
   "source": [
    "tools_collection = tools.group_by(\"brand\").agg(collection=pl.struct(pl.all()))\n",
    "tools_collection"
   ]
  },
  {
   "cell_type": "code",
   "execution_count": null,
   "id": "378e41aa",
   "metadata": {},
   "outputs": [],
   "source": [
    "# Causes a PanicException\n",
    "# tools_collection.sort(\"collection\")"
   ]
  },
  {
   "cell_type": "code",
   "execution_count": null,
   "id": "8b922ca7",
   "metadata": {},
   "outputs": [],
   "source": [
    "tools_collection.sort(pl.col(\"collection\").list.len(), descending=True)"
   ]
  },
  {
   "cell_type": "code",
   "execution_count": null,
   "id": "161b29eb",
   "metadata": {},
   "outputs": [],
   "source": [
    "tools_collection.sort(\n",
    "    pl.col(\"collection\")\n",
    "    .list.eval(pl.element().struct.field(\"price\"))\n",
    "    .list.mean()\n",
    ")"
   ]
  },
  {
   "cell_type": "code",
   "execution_count": null,
   "id": "2b7fe174",
   "metadata": {},
   "outputs": [],
   "source": [
    "tools_collection.with_columns(\n",
    "    mean_price=pl.col(\"collection\")\n",
    "    .list.eval(pl.element().struct.field(\"price\"))\n",
    "    .list.mean()\n",
    ").sort(\"mean_price\")"
   ]
  },
  {
   "cell_type": "markdown",
   "id": "cc8552bb",
   "metadata": {},
   "source": [
    "## Related Row Operations"
   ]
  },
  {
   "cell_type": "code",
   "execution_count": null,
   "id": "7587e2bc",
   "metadata": {},
   "outputs": [],
   "source": [
    "tools.drop_nulls(\"rpm\").height"
   ]
  },
  {
   "cell_type": "code",
   "execution_count": null,
   "id": "b243a087",
   "metadata": {},
   "outputs": [],
   "source": [
    "tools.filter(pl.all_horizontal(pl.all().is_not_null())).height"
   ]
  },
  {
   "cell_type": "code",
   "execution_count": null,
   "id": "ebf3b783",
   "metadata": {},
   "outputs": [],
   "source": [
    "(tools.with_row_index().gather_every(2).head(3))"
   ]
  },
  {
   "cell_type": "code",
   "execution_count": null,
   "id": "19c8f0f8",
   "metadata": {},
   "outputs": [],
   "source": [
    "tools.top_k(3, by=\"price\")"
   ]
  },
  {
   "cell_type": "code",
   "execution_count": null,
   "id": "42c550fe",
   "metadata": {},
   "outputs": [],
   "source": [
    "tools.sample(fraction=0.2)"
   ]
  },
  {
   "cell_type": "code",
   "execution_count": null,
   "id": "bbdd4d83",
   "metadata": {},
   "outputs": [],
   "source": [
    "saws = pl.DataFrame(\n",
    "    {\n",
    "        \"tool\": [\n",
    "            \"Table Saw\",\n",
    "            \"Plunge Cut Saw\",\n",
    "            \"Miter Saw\",\n",
    "            \"Jigsaw\",\n",
    "            \"Bandsaw\",\n",
    "            \"Chainsaw\",\n",
    "            \"Seesaw\",\n",
    "        ]\n",
    "    }\n",
    ")\n",
    "tools.join(saws, how=\"semi\", on=\"tool\")"
   ]
  },
  {
   "cell_type": "markdown",
   "id": "9112157b",
   "metadata": {},
   "source": [
    "## Takeaways"
   ]
  }
 ],
 "metadata": {},
 "nbformat": 4,
 "nbformat_minor": 5
}
