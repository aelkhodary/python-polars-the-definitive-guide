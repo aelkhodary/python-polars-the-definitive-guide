{
 "cells": [
  {
   "cell_type": "markdown",
   "id": "11b74943",
   "metadata": {},
   "source": [
    "# Chapter 2: First Steps"
   ]
  },
  {
   "cell_type": "code",
   "execution_count": 1,
   "id": "55526b0d",
   "metadata": {},
   "outputs": [],
   "source": [
    "import polars as pl\n",
    "pl.show_versions()  # The book is built with Polars version 1.0.0"
   ]
  },
  {
   "cell_type": "markdown",
   "id": "ac169c7e",
   "metadata": {},
   "source": [
    "## Installing Polars"
   ]
  },
  {
   "cell_type": "markdown",
   "id": "afe6e554",
   "metadata": {},
   "source": [
    "## Compiling Polars from Scratch"
   ]
  },
  {
   "cell_type": "markdown",
   "id": "acfca6c4",
   "metadata": {},
   "source": [
    "### Edge Case: Very Large Datasets"
   ]
  },
  {
   "cell_type": "markdown",
   "id": "5faa8178",
   "metadata": {},
   "source": [
    "### Edge Case: Processors Lacking AVX support"
   ]
  },
  {
   "cell_type": "markdown",
   "id": "59e851a0",
   "metadata": {},
   "source": [
    "## Configuring Polars"
   ]
  },
  {
   "cell_type": "markdown",
   "id": "6ce7c895",
   "metadata": {},
   "source": [
    "### Temporary Configuration Using a Context Manager"
   ]
  },
  {
   "cell_type": "code",
   "execution_count": 8,
   "id": "fa9b7e24",
   "metadata": {},
   "outputs": [],
   "source": [
    "import polars as pl\n",
    "\n",
    "with pl.Config() as cfg:\n",
    "    cfg.set_verbose(True)\n",
    "    # Polars operation you want to see the verbose logging of\n",
    "\n",
    "# Code outside of the scope is not affected"
   ]
  },
  {
   "cell_type": "code",
   "execution_count": 9,
   "id": "e13b6217",
   "metadata": {},
   "outputs": [],
   "source": [
    "with pl.Config(verbose=True):\n",
    "    # Polars operation you want to see the verbose logging of\n",
    "    pass"
   ]
  },
  {
   "cell_type": "code",
   "execution_count": 10,
   "id": "411aece2",
   "metadata": {},
   "outputs": [],
   "source": [
    "import random\n",
    "import string\n",
    "\n",
    "def generate_random_string(length: int) -> str:\n",
    "    return \"\".join(random.choice(string.ascii_letters) for i in range(length))\n",
    "\n",
    "data = {}\n",
    "for i in range(1, 11):\n",
    "    data[f\"column_{i}\"] = [generate_random_string(50) for _ in range(5)]\n",
    "\n",
    "df = pl.DataFrame(data)"
   ]
  },
  {
   "cell_type": "code",
   "execution_count": 11,
   "id": "52243c4b",
   "metadata": {},
   "outputs": [],
   "source": [
    "df"
   ]
  },
  {
   "cell_type": "code",
   "execution_count": 12,
   "id": "423f8f25",
   "metadata": {},
   "outputs": [],
   "source": [
    "with pl.Config(tbl_cols=-1, fmt_str_lengths=4):\n",
    "    print(df)"
   ]
  },
  {
   "cell_type": "code",
   "execution_count": 13,
   "id": "4a64e8d6",
   "metadata": {},
   "outputs": [],
   "source": [
    "class YourContextManager:\n",
    "    def __enter__(self):\n",
    "        print(\"Entering context\")\n",
    "\n",
    "    def __exit__(self, type , value, traceback):\n",
    "        print(\"Exiting context\")\n",
    "\n",
    "with YourContextManager():\n",
    "    print(\"Your code\")"
   ]
  },
  {
   "cell_type": "code",
   "execution_count": 14,
   "id": "c43c43ee",
   "metadata": {},
   "outputs": [],
   "source": [
    "with open(\"filename.txt\", \"w\") as file:\n",
    "    file.write(\"Hello, world!\")"
   ]
  },
  {
   "cell_type": "markdown",
   "id": "089b5632",
   "metadata": {},
   "source": [
    "### Local Configuration Using a Decorator"
   ]
  },
  {
   "cell_type": "code",
   "execution_count": 16,
   "id": "9e4a2709",
   "metadata": {},
   "outputs": [],
   "source": [
    "@pl.Config(ascii_tables=True)\n",
    "def write_ascii_frame_to_stdout(df: pl.DataFrame) -> None:\n",
    "    print(str(df))\n",
    "\n",
    "@pl.Config(verbose=True)\n",
    "def function_that_im_debugging(df: pl.DataFrame) -> None:\n",
    "    # Polars operation you want to see the verbose logging of\n",
    "    pass"
   ]
  },
  {
   "cell_type": "markdown",
   "id": "6255607d",
   "metadata": {},
   "source": [
    "## Downloading Datasets and Code Examples"
   ]
  },
  {
   "cell_type": "markdown",
   "id": "d7148c05",
   "metadata": {},
   "source": [
    "## Crash Course JupyterLab"
   ]
  },
  {
   "cell_type": "markdown",
   "id": "b73cde08",
   "metadata": {},
   "source": [
    "### Keyboard Shortcuts"
   ]
  },
  {
   "cell_type": "markdown",
   "id": "6cdbcb42",
   "metadata": {},
   "source": [
    "#### Any Mode"
   ]
  },
  {
   "cell_type": "markdown",
   "id": "aa9fdb55",
   "metadata": {},
   "source": [
    "#### Command Mode"
   ]
  },
  {
   "cell_type": "markdown",
   "id": "6dae6b5c",
   "metadata": {},
   "source": [
    "#### Edit Mode"
   ]
  },
  {
   "cell_type": "markdown",
   "id": "2ea6bf21",
   "metadata": {},
   "source": [
    "## Using Polars in a Docker Container"
   ]
  },
  {
   "cell_type": "markdown",
   "id": "5daf7888",
   "metadata": {},
   "source": [
    "## Takeaways"
   ]
  }
 ],
 "metadata": {},
 "nbformat": 4,
 "nbformat_minor": 5
}
