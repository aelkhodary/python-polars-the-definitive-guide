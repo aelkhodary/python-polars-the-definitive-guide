{
 "cells": [
  {
   "cell_type": "markdown",
   "id": "f533dd99",
   "metadata": {},
   "source": [
    "# Chapter 2: First Steps"
   ]
  },
  {
   "cell_type": "code",
   "execution_count": 1,
   "id": "62d9c5ed",
   "metadata": {},
   "outputs": [
    {
     "name": "stdout",
     "output_type": "stream",
     "text": [
      "--------Version info---------\n",
      "Polars:               0.20.16\n",
      "Index type:           UInt32\n",
      "Platform:             macOS-12.5-arm64-arm-64bit\n",
      "Python:               3.11.8 (main, Feb 22 2024, 20:44:55) [Clang 14.0.0 (clang-1400.0.29.202)]\n",
      "\n",
      "----Optional dependencies----\n",
      "adbc_driver_manager:  0.8.0\n",
      "cloudpickle:          3.0.0\n",
      "connectorx:           0.3.2\n",
      "deltalake:            0.15.0\n",
      "fastexcel:            0.9.1\n",
      "fsspec:               2023.12.2\n",
      "gevent:               23.9.1\n",
      "hvplot:               0.9.2\n",
      "matplotlib:           3.8.3\n",
      "numpy:                1.26.4\n",
      "openpyxl:             3.1.2\n",
      "pandas:               2.2.0\n",
      "pyarrow:              14.0.2\n",
      "pydantic:             2.5.3\n",
      "pyiceberg:            0.5.1\n",
      "pyxlsb:               <not installed>\n",
      "sqlalchemy:           2.0.25\n",
      "xlsx2csv:             0.8.2\n",
      "xlsxwriter:           3.1.9\n"
     ]
    }
   ],
   "source": [
    "import polars as pl\n",
    "pl.show_versions()"
   ]
  },
  {
   "cell_type": "markdown",
   "id": "1a606292",
   "metadata": {},
   "source": [
    "## Overview"
   ]
  },
  {
   "cell_type": "markdown",
   "id": "588404cf",
   "metadata": {},
   "source": [
    "## Using Polars in a Docker Container"
   ]
  },
  {
   "cell_type": "markdown",
   "id": "013c6907",
   "metadata": {},
   "source": [
    "## Crash Course JupyterLab"
   ]
  },
  {
   "cell_type": "markdown",
   "id": "dc199491",
   "metadata": {},
   "source": [
    "### Keyboard Shortcuts"
   ]
  },
  {
   "cell_type": "markdown",
   "id": "c674a788",
   "metadata": {},
   "source": [
    "#### Any Mode"
   ]
  },
  {
   "cell_type": "markdown",
   "id": "d02a76a1",
   "metadata": {},
   "source": [
    "#### Command Mode"
   ]
  },
  {
   "cell_type": "markdown",
   "id": "16b0013a",
   "metadata": {},
   "source": [
    "#### Edit Mode"
   ]
  },
  {
   "cell_type": "markdown",
   "id": "8f629ecd",
   "metadata": {},
   "source": [
    "## Installing Polars"
   ]
  },
  {
   "cell_type": "markdown",
   "id": "7e85fb3c",
   "metadata": {},
   "source": [
    "## Compiling Polars from Scratch"
   ]
  },
  {
   "cell_type": "markdown",
   "id": "1a71d853",
   "metadata": {},
   "source": [
    "### Edge Case: Very Large Datasets"
   ]
  },
  {
   "cell_type": "markdown",
   "id": "9028bb7e",
   "metadata": {},
   "source": [
    "### Edge Case: Processors Lacking AVX support"
   ]
  },
  {
   "cell_type": "markdown",
   "id": "f70b0f27",
   "metadata": {},
   "source": [
    "## Configuring Polars"
   ]
  },
  {
   "cell_type": "markdown",
   "id": "65585a29",
   "metadata": {},
   "source": [
    "### Temporary Configuration Using a Context Manager"
   ]
  },
  {
   "cell_type": "code",
   "execution_count": 15,
   "id": "98b57c33",
   "metadata": {},
   "outputs": [],
   "source": [
    "import random\n",
    "import string\n",
    "\n",
    "def generate_random_string(length: int) -> str:\n",
    "    return \"\".join(random.choice(string.ascii_letters) for i in range(length))\n",
    "\n",
    "data = {}\n",
    "for i in range(1, 11):\n",
    "    data[f\"column_{i}\"] = [generate_random_string(50) for _ in range(5)]\n",
    "\n",
    "df = pl.DataFrame(data)"
   ]
  },
  {
   "cell_type": "code",
   "execution_count": 16,
   "id": "4fc70dfe",
   "metadata": {},
   "outputs": [
    {
     "data": {
      "text/html": [
       "<div><style>\n",
       ".dataframe > thead > tr,\n",
       ".dataframe > tbody > tr {\n",
       "  text-align: right;\n",
       "  white-space: pre-wrap;\n",
       "}\n",
       "</style>\n",
       "<small>shape: (5, 10)</small><table border=\"1\" class=\"dataframe\"><thead><tr><th>column_1</th><th>column_2</th><th>column_3</th><th>column_4</th><th>column_5</th><th>column_6</th><th>column_7</th><th>column_8</th><th>column_9</th><th>column_10</th></tr><tr><td>str</td><td>str</td><td>str</td><td>str</td><td>str</td><td>str</td><td>str</td><td>str</td><td>str</td><td>str</td></tr></thead><tbody><tr><td>&quot;LjFLgKvRUoIYlM…</td><td>&quot;TiKtzyASSBmHIh…</td><td>&quot;kkCcpZuznulsMI…</td><td>&quot;ktGVeaDgLwwAHZ…</td><td>&quot;cxXgoXueqiXYAC…</td><td>&quot;riiQNLazyBzIrS…</td><td>&quot;bpTMItZwHXipHp…</td><td>&quot;QpMZSMLTBVlNUs…</td><td>&quot;FaKvlrhZIzWpvn…</td><td>&quot;bVOsXxXCYYYjYB…</td></tr><tr><td>&quot;LWOYatfocoMxiJ…</td><td>&quot;jzIRybDACuXGbV…</td><td>&quot;qJRpRNerbckDWL…</td><td>&quot;lCXTqGUuCCQhew…</td><td>&quot;lClcMpapEVnmYv…</td><td>&quot;MynzKoNXyhayVT…</td><td>&quot;NWSUFgqOjkegNE…</td><td>&quot;SwlhwhWAMPRTXP…</td><td>&quot;AcvjOSeyqbJWAj…</td><td>&quot;XPhejWHAvgVrpn…</td></tr><tr><td>&quot;qZsfivAMchYeKd…</td><td>&quot;fVFGjEXnKfFLux…</td><td>&quot;phyOfLniWQEhyN…</td><td>&quot;ThvYjDtjQtQYbm…</td><td>&quot;eDGPfMaieDVpDc…</td><td>&quot;SlgUBLixXIouSF…</td><td>&quot;HGVphrKRNawJUs…</td><td>&quot;aLAEYeQKhJUCSt…</td><td>&quot;rSjlrbVLKVnwZp…</td><td>&quot;cIFiObLthZqbfs…</td></tr><tr><td>&quot;EahGKPedFanNfd…</td><td>&quot;ntsUxBlovIbbKQ…</td><td>&quot;QHUPzicvaYqnbL…</td><td>&quot;IUOYULQtJqszPt…</td><td>&quot;LJktOvZrcAAamN…</td><td>&quot;aDnXEaULZqpbkM…</td><td>&quot;KISNTcxLvTVzjK…</td><td>&quot;WNfEBmLZAmFNEh…</td><td>&quot;rwdLhVsQdTxwLD…</td><td>&quot;sEYWDPhkHUBciI…</td></tr><tr><td>&quot;HdfCIpvHlQCWDP…</td><td>&quot;NBMyevqvmOHXPh…</td><td>&quot;eomlBUsACFhnSd…</td><td>&quot;fGtkLCaSyHSXJi…</td><td>&quot;JypwTFwAQyNINh…</td><td>&quot;KgTkSxKLvmZIlM…</td><td>&quot;LIiMqlemGXEahH…</td><td>&quot;OwRQFnCfLcdoqc…</td><td>&quot;xdFqgxXFtVQDqs…</td><td>&quot;JUzgHbIXYzJBsD…</td></tr></tbody></table></div>"
      ],
      "text/plain": [
       "shape: (5, 10)\n",
       "┌───────────┬───────────┬───────────┬───────────┬───┬───────────┬───────────┬───────────┬──────────┐\n",
       "│ column_1  ┆ column_2  ┆ column_3  ┆ column_4  ┆ … ┆ column_7  ┆ column_8  ┆ column_9  ┆ column_1 │\n",
       "│ ---       ┆ ---       ┆ ---       ┆ ---       ┆   ┆ ---       ┆ ---       ┆ ---       ┆ 0        │\n",
       "│ str       ┆ str       ┆ str       ┆ str       ┆   ┆ str       ┆ str       ┆ str       ┆ ---      │\n",
       "│           ┆           ┆           ┆           ┆   ┆           ┆           ┆           ┆ str      │\n",
       "╞═══════════╪═══════════╪═══════════╪═══════════╪═══╪═══════════╪═══════════╪═══════════╪══════════╡\n",
       "│ LjFLgKvRU ┆ TiKtzyASS ┆ kkCcpZuzn ┆ ktGVeaDgL ┆ … ┆ bpTMItZwH ┆ QpMZSMLTB ┆ FaKvlrhZI ┆ bVOsXxXC │\n",
       "│ oIYlMFWgq ┆ BmHIhdsyC ┆ ulsMIvxYl ┆ wwAHZECSO ┆   ┆ XipHptpAn ┆ VlNUsRdrm ┆ zWpvneIxw ┆ YYYjYBRw │\n",
       "│ OaNNEMMmx ┆ ytsDMWDLC ┆ NICxdIeWk ┆ uGZGAEzqg ┆   ┆ QvUfGJfqX ┆ tJgLbywSc ┆ OfpEpLwZH ┆ PbzFpdUR │\n",
       "│ GjDOP…    ┆ qLOTj…    ┆ kPRtm…    ┆ GdRIk…    ┆   ┆ HIonF…    ┆ YJcUf…    ┆ Thmma…    ┆ uAJxHiVU │\n",
       "│           ┆           ┆           ┆           ┆   ┆           ┆           ┆           ┆ …        │\n",
       "│ LWOYatfoc ┆ jzIRybDAC ┆ qJRpRNerb ┆ lCXTqGUuC ┆ … ┆ NWSUFgqOj ┆ SwlhwhWAM ┆ AcvjOSeyq ┆ XPhejWHA │\n",
       "│ oMxiJgZfC ┆ uXGbVpIHZ ┆ ckDWLgitd ┆ CQhewAwNT ┆   ┆ kegNExyyP ┆ PRTXPidak ┆ bJWAjXWwl ┆ vgVrpnKb │\n",
       "│ OxWKRnTyw ┆ GDVKHkWgh ┆ hXtDfSzVE ┆ NsqeGGQPP ┆   ┆ hoPYEekav ┆ vUueFIeoi ┆ aTgIourud ┆ PetAZcTw │\n",
       "│ AepjI…    ┆ FOzGk…    ┆ nymYd…    ┆ AwZsJ…    ┆   ┆ gTVRo…    ┆ NxNvu…    ┆ MOdUJ…    ┆ eEBXXivn │\n",
       "│           ┆           ┆           ┆           ┆   ┆           ┆           ┆           ┆ …        │\n",
       "│ qZsfivAMc ┆ fVFGjEXnK ┆ phyOfLniW ┆ ThvYjDtjQ ┆ … ┆ HGVphrKRN ┆ aLAEYeQKh ┆ rSjlrbVLK ┆ cIFiObLt │\n",
       "│ hYeKdLcob ┆ fFLuxfAMp ┆ QEhyNaJRM ┆ tQYbmPyQU ┆   ┆ awJUsxUYN ┆ JUCStbBRo ┆ VnwZpYDTp ┆ hZqbfsZU │\n",
       "│ ExbWYknAn ┆ xeZTvrGql ┆ dtXgJzSPy ┆ aigfcIGdw ┆   ┆ gEksRUOuO ┆ bxHTqiJAQ ┆ tWdqyxSkH ┆ gdrrKgNK │\n",
       "│ XCZdN…    ┆ otiFt…    ┆ gOWFU…    ┆ sRucf…    ┆   ┆ AlkXV…    ┆ mkivE…    ┆ WFxjV…    ┆ JBExtoDz │\n",
       "│           ┆           ┆           ┆           ┆   ┆           ┆           ┆           ┆ …        │\n",
       "│ EahGKPedF ┆ ntsUxBlov ┆ QHUPzicva ┆ IUOYULQtJ ┆ … ┆ KISNTcxLv ┆ WNfEBmLZA ┆ rwdLhVsQd ┆ sEYWDPhk │\n",
       "│ anNfdNgud ┆ IbbKQgzvo ┆ YqnbLwrnr ┆ qszPtYXQt ┆   ┆ TVzjKzVHs ┆ mFNEhcDxd ┆ TxwLDPUts ┆ HUBciIpS │\n",
       "│ BEPuKLGfL ┆ uluzsGYBy ┆ goaaPfEDw ┆ xTjJuFGLu ┆   ┆ aNFpWvZCK ┆ XrhflXbDB ┆ dBPogmdbY ┆ WNEajOSc │\n",
       "│ XCioI…    ┆ QHvCp…    ┆ UjbRn…    ┆ QXSzE…    ┆   ┆ VBePS…    ┆ wTGRE…    ┆ IVZtm…    ┆ OEnMRcld │\n",
       "│           ┆           ┆           ┆           ┆   ┆           ┆           ┆           ┆ …        │\n",
       "│ HdfCIpvHl ┆ NBMyevqvm ┆ eomlBUsAC ┆ fGtkLCaSy ┆ … ┆ LIiMqlemG ┆ OwRQFnCfL ┆ xdFqgxXFt ┆ JUzgHbIX │\n",
       "│ QCWDPiqVF ┆ OHXPhuHXF ┆ FhnSdwCNM ┆ HSXJiycwP ┆   ┆ XEahHyYWE ┆ cdoqcQMkE ┆ VQDqsXpYM ┆ YzJBsDFT │\n",
       "│ isBbAMaIR ┆ msfUggmiB ┆ dtbRSfdcu ┆ sPyrwpNZa ┆   ┆ aPuUbvvzm ┆ kawjnmblN ┆ nKtwGxWEk ┆ NaVghYQR │\n",
       "│ SsAtE…    ┆ FEmDt…    ┆ eKIMs…    ┆ XuXGj…    ┆   ┆ OWOzq…    ┆ NZUqI…    ┆ sBbbt…    ┆ VmAcZFfI │\n",
       "│           ┆           ┆           ┆           ┆   ┆           ┆           ┆           ┆ …        │\n",
       "└───────────┴───────────┴───────────┴───────────┴───┴───────────┴───────────┴───────────┴──────────┘"
      ]
     },
     "execution_count": 3,
     "metadata": {},
     "output_type": "execute_result"
    }
   ],
   "source": [
    "df"
   ]
  },
  {
   "cell_type": "code",
   "execution_count": 17,
   "id": "d4275392",
   "metadata": {},
   "outputs": [
    {
     "name": "stdout",
     "output_type": "stream",
     "text": [
      "shape: (5, 10)\n",
      "┌───────┬───────┬───────┬───────┬───────┬───────┬───────┬───────┬───────┬───────┐\n",
      "│ colu… ┆ colu… ┆ colu… ┆ colu… ┆ colu… ┆ colu… ┆ colu… ┆ colu… ┆ colu… ┆ colu… │\n",
      "│ ---   ┆ ---   ┆ ---   ┆ ---   ┆ ---   ┆ ---   ┆ ---   ┆ ---   ┆ ---   ┆ ---   │\n",
      "│ str   ┆ str   ┆ str   ┆ str   ┆ str   ┆ str   ┆ str   ┆ str   ┆ str   ┆ str   │\n",
      "╞═══════╪═══════╪═══════╪═══════╪═══════╪═══════╪═══════╪═══════╪═══════╪═══════╡\n",
      "│ LjFL… ┆ TiKt… ┆ kkCc… ┆ ktGV… ┆ cxXg… ┆ riiQ… ┆ bpTM… ┆ QpMZ… ┆ FaKv… ┆ bVOs… │\n",
      "│ LWOY… ┆ jzIR… ┆ qJRp… ┆ lCXT… ┆ lClc… ┆ Mynz… ┆ NWSU… ┆ Swlh… ┆ Acvj… ┆ XPhe… │\n",
      "│ qZsf… ┆ fVFG… ┆ phyO… ┆ ThvY… ┆ eDGP… ┆ SlgU… ┆ HGVp… ┆ aLAE… ┆ rSjl… ┆ cIFi… │\n",
      "│ EahG… ┆ ntsU… ┆ QHUP… ┆ IUOY… ┆ LJkt… ┆ aDnX… ┆ KISN… ┆ WNfE… ┆ rwdL… ┆ sEYW… │\n",
      "│ HdfC… ┆ NBMy… ┆ eoml… ┆ fGtk… ┆ Jypw… ┆ KgTk… ┆ LIiM… ┆ OwRQ… ┆ xdFq… ┆ JUzg… │\n",
      "└───────┴───────┴───────┴───────┴───────┴───────┴───────┴───────┴───────┴───────┘\n"
     ]
    }
   ],
   "source": [
    "with pl.Config(tbl_cols=-1, fmt_str_lengths=4):\n",
    "    print(df)"
   ]
  },
  {
   "cell_type": "code",
   "execution_count": 18,
   "id": "96d45428",
   "metadata": {},
   "outputs": [
    {
     "name": "stdout",
     "output_type": "stream",
     "text": [
      "Entering context\n",
      "Your code\n",
      "Exiting context\n"
     ]
    }
   ],
   "source": [
    "class YourContextManager:\n",
    "    def __enter__(self):\n",
    "        print(\"Entering context\")\n",
    "\n",
    "    def __exit__(self, type , value, traceback):\n",
    "        print(\"Exiting context\")\n",
    "\n",
    "with YourContextManager():\n",
    "    print(\"Your code\")"
   ]
  },
  {
   "cell_type": "markdown",
   "id": "61aa60a2",
   "metadata": {},
   "source": [
    "### Local Configuration Using a Decorator"
   ]
  },
  {
   "cell_type": "code",
   "execution_count": 20,
   "id": "a160b6aa",
   "metadata": {},
   "outputs": [],
   "source": [
    "@pl.Config(ascii_tables=True)\n",
    "def write_ascii_frame_to_stdout(df: pl.DataFrame) -> None:\n",
    "    print(str(df))\n",
    "\n",
    "@pl.Config(verbose=True)\n",
    "def function_that_im_debugging(df: pl.DataFrame) -> None:\n",
    "    # Polars operation you want to see the verbose logging of\n",
    "    pass"
   ]
  },
  {
   "cell_type": "markdown",
   "id": "c8018c22",
   "metadata": {},
   "source": [
    "## Downloading Datasets and Code Examples"
   ]
  },
  {
   "cell_type": "markdown",
   "id": "a45a9b57",
   "metadata": {},
   "source": [
    "## Conclusion"
   ]
  }
 ],
 "metadata": {
  "language_info": {
   "codemirror_mode": {
    "name": "ipython",
    "version": 3
   },
   "file_extension": ".py",
   "mimetype": "text/x-python",
   "name": "python",
   "nbconvert_exporter": "python",
   "pygments_lexer": "ipython3",
   "version": "3.11.8"
  }
 },
 "nbformat": 4,
 "nbformat_minor": 5
}
