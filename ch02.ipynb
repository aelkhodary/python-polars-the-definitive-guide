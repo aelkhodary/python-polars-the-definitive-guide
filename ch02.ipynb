{
 "cells": [
  {
   "cell_type": "markdown",
   "id": "04c5a00b",
   "metadata": {},
   "source": [
    "# Chapter 2: Getting Started"
   ]
  },
  {
   "cell_type": "code",
   "execution_count": null,
   "id": "9d539069",
   "metadata": {},
   "outputs": [],
   "source": [
    "import polars as pl\n",
    "pl.show_versions()  # The book is built with Polars version 1.13.1"
   ]
  },
  {
   "cell_type": "markdown",
   "id": "3209f668",
   "metadata": {},
   "source": [
    "## Setting Up Your Environment"
   ]
  },
  {
   "cell_type": "markdown",
   "id": "abd1d36a",
   "metadata": {},
   "source": [
    "### Downloading the Project"
   ]
  },
  {
   "cell_type": "markdown",
   "id": "76ae57a6",
   "metadata": {},
   "source": [
    "### Installing uv"
   ]
  },
  {
   "cell_type": "markdown",
   "id": "5b328b3a",
   "metadata": {},
   "source": [
    "### Installing the Project"
   ]
  },
  {
   "cell_type": "markdown",
   "id": "2c164895",
   "metadata": {},
   "source": [
    "### Confirm"
   ]
  },
  {
   "cell_type": "code",
   "execution_count": null,
   "id": "784c3164",
   "metadata": {},
   "outputs": [],
   "source": [
    "print(\n",
    "    f\"\"\"Throughout the book we use Polars version {pl.__version__}.\n",
    "Run the following code in a new notebook,\n",
    "to check which version of Polars you're using:\n",
    "\"\"\"\n",
    ")"
   ]
  },
  {
   "cell_type": "code",
   "execution_count": null,
   "id": "b3e78838",
   "metadata": {},
   "outputs": [],
   "source": [
    "import polars as pl\n",
    "\n",
    "pl.show_versions()"
   ]
  },
  {
   "cell_type": "markdown",
   "id": "fc415f67",
   "metadata": {},
   "source": [
    "## Installing Polars"
   ]
  },
  {
   "cell_type": "markdown",
   "id": "38ccaec6",
   "metadata": {},
   "source": [
    "### All Optional Dependencies"
   ]
  },
  {
   "cell_type": "code",
   "execution_count": null,
   "id": "f356699d",
   "metadata": {},
   "outputs": [],
   "source": [
    "%pip install 'polars[all]'"
   ]
  },
  {
   "cell_type": "markdown",
   "id": "47dfe936",
   "metadata": {},
   "source": [
    "### Optional Dependencies for Interoperability"
   ]
  },
  {
   "cell_type": "markdown",
   "id": "c9331b4e",
   "metadata": {},
   "source": [
    "### Optional Dependencies for Working with Spreadsheets"
   ]
  },
  {
   "cell_type": "markdown",
   "id": "7f685e9d",
   "metadata": {},
   "source": [
    "### Optional Dependencies for Working with Databases"
   ]
  },
  {
   "cell_type": "markdown",
   "id": "432f84b2",
   "metadata": {},
   "source": [
    "### Optional Dependencies for Working with Remote File Systems"
   ]
  },
  {
   "cell_type": "markdown",
   "id": "30e15079",
   "metadata": {},
   "source": [
    "### Optional Dependencies for Other I/O Formats"
   ]
  },
  {
   "cell_type": "markdown",
   "id": "cb6ee584",
   "metadata": {},
   "source": [
    "### Optional Dependencies for Extra Functionality"
   ]
  },
  {
   "cell_type": "markdown",
   "id": "fced62f8",
   "metadata": {},
   "source": [
    "## Installing Optional Dependencies"
   ]
  },
  {
   "cell_type": "code",
   "execution_count": null,
   "id": "f8230e38",
   "metadata": {},
   "outputs": [],
   "source": [
    "%pip install 'polars[pandas,numpy]'"
   ]
  },
  {
   "cell_type": "code",
   "execution_count": null,
   "id": "fc17f476",
   "metadata": {},
   "outputs": [],
   "source": [
    "%pip install polars"
   ]
  },
  {
   "cell_type": "code",
   "execution_count": null,
   "id": "c54b48bf",
   "metadata": {},
   "outputs": [],
   "source": [
    "! conda install -c conda-forge polars"
   ]
  },
  {
   "cell_type": "markdown",
   "id": "26432564",
   "metadata": {},
   "source": [
    "## Compiling Polars from Scratch"
   ]
  },
  {
   "cell_type": "code",
   "execution_count": null,
   "id": "42513d65",
   "metadata": {},
   "outputs": [],
   "source": [
    "! python -m pip install maturin"
   ]
  },
  {
   "cell_type": "code",
   "execution_count": null,
   "id": "60d3443f",
   "metadata": {},
   "outputs": [],
   "source": [
    "! cd py-polars && maturin develop --release -- -C target-cpu=native"
   ]
  },
  {
   "cell_type": "code",
   "execution_count": null,
   "id": "e30e150d",
   "metadata": {},
   "outputs": [],
   "source": [
    "! cd py-polars && maturin develop --release -- -C codegen-units=16 -C lto=thin \\\n",
    "  -C target-cpu=native"
   ]
  },
  {
   "cell_type": "markdown",
   "id": "46eec64a",
   "metadata": {},
   "source": [
    "### Edge Case: Very Large Datasets"
   ]
  },
  {
   "cell_type": "markdown",
   "id": "9e5bb7ab",
   "metadata": {},
   "source": [
    "### Edge Case: Processors Lacking AVX support"
   ]
  },
  {
   "cell_type": "markdown",
   "id": "162b236d",
   "metadata": {},
   "source": [
    "## Configuring Polars"
   ]
  },
  {
   "cell_type": "markdown",
   "id": "57349d4d",
   "metadata": {},
   "source": [
    "### Temporary Configuration Using a Context Manager"
   ]
  },
  {
   "cell_type": "code",
   "execution_count": null,
   "id": "78fe25bd",
   "metadata": {},
   "outputs": [],
   "source": [
    "with pl.Config() as cfg:\n",
    "    cfg.set_verbose(True)\n",
    "    # Polars operation you want to see the verbose logging of\n",
    "\n",
    "# Code outside of the scope is not affected"
   ]
  },
  {
   "cell_type": "code",
   "execution_count": null,
   "id": "8f75513f",
   "metadata": {},
   "outputs": [],
   "source": [
    "with pl.Config(verbose=True):\n",
    "    # Polars operation you want to see the verbose logging of\n",
    "    pass"
   ]
  },
  {
   "cell_type": "code",
   "execution_count": null,
   "id": "77cfb892",
   "metadata": {},
   "outputs": [],
   "source": [
    "import random\n",
    "import string\n",
    "\n",
    "\n",
    "def generate_random_string(length: int) -> str:\n",
    "    return \"\".join(random.choice(string.ascii_letters) for i in range(length))\n",
    "\n",
    "\n",
    "data = {}\n",
    "for i in range(1, 11):\n",
    "    data[f\"column_{i}\"] = [generate_random_string(50) for _ in range(5)]  \n",
    "\n",
    "df = pl.DataFrame(data)"
   ]
  },
  {
   "cell_type": "code",
   "execution_count": null,
   "id": "d93df47c",
   "metadata": {},
   "outputs": [],
   "source": [
    "df"
   ]
  },
  {
   "cell_type": "code",
   "execution_count": null,
   "id": "1e4419a6",
   "metadata": {},
   "outputs": [],
   "source": [
    "with pl.Config(tbl_cols=-1, fmt_str_lengths=4):\n",
    "    print(df)"
   ]
  },
  {
   "cell_type": "code",
   "execution_count": null,
   "id": "67ced5cc",
   "metadata": {},
   "outputs": [],
   "source": [
    "class YourContextManager:\n",
    "    def __enter__(self):\n",
    "        print(\"Entering context\")\n",
    "\n",
    "    def __exit__(self, type, value, traceback):\n",
    "        print(\"Exiting context\")\n",
    "\n",
    "\n",
    "with YourContextManager():\n",
    "    print(\"Your code\")"
   ]
  },
  {
   "cell_type": "code",
   "execution_count": null,
   "id": "9f6f6b4b",
   "metadata": {},
   "outputs": [],
   "source": [
    "with open(\"data/fruit.csv\", \"r\") as file:\n",
    "    print(file.readline())"
   ]
  },
  {
   "cell_type": "markdown",
   "id": "062e1b62",
   "metadata": {},
   "source": [
    "### Local Configuration Using a Decorator"
   ]
  },
  {
   "cell_type": "code",
   "execution_count": null,
   "id": "386ac12a",
   "metadata": {},
   "outputs": [],
   "source": [
    "@pl.Config(ascii_tables=True)\n",
    "def write_ascii_frame_to_stdout(df: pl.DataFrame) -> None:\n",
    "    print(str(df))\n",
    "\n",
    "\n",
    "@pl.Config(verbose=True)\n",
    "def function_that_im_debugging(df: pl.DataFrame) -> None:\n",
    "    # Polars operation you want to see the verbose logging of\n",
    "    pass"
   ]
  },
  {
   "cell_type": "markdown",
   "id": "027c06b0",
   "metadata": {},
   "source": [
    "## Downloading Datasets and Code Examples"
   ]
  },
  {
   "cell_type": "code",
   "execution_count": null,
   "id": "928a5b94",
   "metadata": {},
   "outputs": [],
   "source": [
    "$ git clone https://github.com/jeroenjanssens/python-polars-the-definitive-guide"
   ]
  },
  {
   "cell_type": "code",
   "execution_count": null,
   "id": "6d12cafe",
   "metadata": {},
   "outputs": [],
   "source": [
    "$ cd python-polars-the-definitive-guide\n",
    "$ pip install -r requirements.txt"
   ]
  },
  {
   "cell_type": "markdown",
   "id": "1ba727bc",
   "metadata": {},
   "source": [
    "## Crash Course JupyterLab"
   ]
  },
  {
   "cell_type": "markdown",
   "id": "9d049a3d",
   "metadata": {},
   "source": [
    "### Keyboard Shortcuts"
   ]
  },
  {
   "cell_type": "markdown",
   "id": "33f18fb5",
   "metadata": {},
   "source": [
    "#### Any Mode"
   ]
  },
  {
   "cell_type": "markdown",
   "id": "eab54748",
   "metadata": {},
   "source": [
    "#### Command Mode"
   ]
  },
  {
   "cell_type": "markdown",
   "id": "03f6bd27",
   "metadata": {},
   "source": [
    "#### Edit Mode"
   ]
  },
  {
   "cell_type": "markdown",
   "id": "a6a3865c",
   "metadata": {},
   "source": [
    "## Using Polars in a Docker Container"
   ]
  },
  {
   "cell_type": "markdown",
   "id": "92be8d39",
   "metadata": {},
   "source": [
    "## Takeaways"
   ]
  }
 ],
 "metadata": {},
 "nbformat": 4,
 "nbformat_minor": 5
}
