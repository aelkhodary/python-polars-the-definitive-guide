{
 "cells": [
  {
   "cell_type": "markdown",
   "id": "83bef4b6",
   "metadata": {},
   "source": [
    "# Chapter 2: First Steps"
   ]
  },
  {
   "cell_type": "code",
   "execution_count": 1,
   "id": "33a7fbe0",
   "metadata": {},
   "outputs": [
    {
     "name": "stdout",
     "output_type": "stream",
     "text": [
      "--------Version info---------\n",
      "Polars:               0.20.18\n",
      "Index type:           UInt32\n",
      "Platform:             macOS-12.5-arm64-arm-64bit\n",
      "Python:               3.11.8 (main, Feb 22 2024, 20:44:55) [Clang 14.0.0 (clang-1400.0.29.202)]\n",
      "\n",
      "----Optional dependencies----\n",
      "adbc_driver_manager:  0.8.0\n",
      "cloudpickle:          3.0.0\n",
      "connectorx:           0.3.2\n",
      "deltalake:            0.15.0\n",
      "fastexcel:            0.9.1\n",
      "fsspec:               2023.12.2\n",
      "gevent:               23.9.1\n",
      "hvplot:               0.9.2\n",
      "matplotlib:           3.8.3\n",
      "nest_asyncio:         1.6.0\n",
      "numpy:                1.26.4\n",
      "openpyxl:             3.1.2\n",
      "pandas:               2.2.0\n",
      "pyarrow:              14.0.2\n",
      "pydantic:             2.5.3\n",
      "pyiceberg:            0.5.1\n",
      "pyxlsb:               <not installed>\n",
      "sqlalchemy:           2.0.25\n",
      "xlsx2csv:             0.8.2\n",
      "xlsxwriter:           3.1.9\n"
     ]
    }
   ],
   "source": [
    "import polars as pl\n",
    "pl.show_versions()"
   ]
  },
  {
   "cell_type": "markdown",
   "id": "0f9643ff",
   "metadata": {},
   "source": [
    "## Overview"
   ]
  },
  {
   "cell_type": "markdown",
   "id": "4d687eab",
   "metadata": {},
   "source": [
    "## Using Polars in a Docker Container"
   ]
  },
  {
   "cell_type": "markdown",
   "id": "a9c8cfb1",
   "metadata": {},
   "source": [
    "## Crash Course JupyterLab"
   ]
  },
  {
   "cell_type": "markdown",
   "id": "fe9d5ee5",
   "metadata": {},
   "source": [
    "### Keyboard Shortcuts"
   ]
  },
  {
   "cell_type": "markdown",
   "id": "42d810ac",
   "metadata": {},
   "source": [
    "#### Any Mode"
   ]
  },
  {
   "cell_type": "markdown",
   "id": "679e809c",
   "metadata": {},
   "source": [
    "#### Command Mode"
   ]
  },
  {
   "cell_type": "markdown",
   "id": "ae6d75e0",
   "metadata": {},
   "source": [
    "#### Edit Mode"
   ]
  },
  {
   "cell_type": "markdown",
   "id": "e3459186",
   "metadata": {},
   "source": [
    "## Installing Polars"
   ]
  },
  {
   "cell_type": "markdown",
   "id": "30e5852d",
   "metadata": {},
   "source": [
    "## Compiling Polars from Scratch"
   ]
  },
  {
   "cell_type": "markdown",
   "id": "88cee2c5",
   "metadata": {},
   "source": [
    "### Edge Case: Very Large Datasets"
   ]
  },
  {
   "cell_type": "markdown",
   "id": "ba7b8b73",
   "metadata": {},
   "source": [
    "### Edge Case: Processors Lacking AVX support"
   ]
  },
  {
   "cell_type": "markdown",
   "id": "56d6a3d0",
   "metadata": {},
   "source": [
    "## Configuring Polars"
   ]
  },
  {
   "cell_type": "markdown",
   "id": "b6dd3164",
   "metadata": {},
   "source": [
    "### Temporary Configuration Using a Context Manager"
   ]
  },
  {
   "cell_type": "code",
   "execution_count": 15,
   "id": "692d5660",
   "metadata": {},
   "outputs": [],
   "source": [
    "import random\n",
    "import string\n",
    "\n",
    "def generate_random_string(length: int) -> str:\n",
    "    return \"\".join(random.choice(string.ascii_letters) for i in range(length))\n",
    "\n",
    "data = {}\n",
    "for i in range(1, 11):\n",
    "    data[f\"column_{i}\"] = [generate_random_string(50) for _ in range(5)]\n",
    "\n",
    "df = pl.DataFrame(data)"
   ]
  },
  {
   "cell_type": "code",
   "execution_count": 16,
   "id": "369c5bda",
   "metadata": {},
   "outputs": [
    {
     "data": {
      "text/html": [
       "<div><style>\n",
       ".dataframe > thead > tr,\n",
       ".dataframe > tbody > tr {\n",
       "  text-align: right;\n",
       "  white-space: pre-wrap;\n",
       "}\n",
       "</style>\n",
       "<small>shape: (5, 10)</small><table border=\"1\" class=\"dataframe\"><thead><tr><th>column_1</th><th>column_2</th><th>column_3</th><th>column_4</th><th>column_5</th><th>column_6</th><th>column_7</th><th>column_8</th><th>column_9</th><th>column_10</th></tr><tr><td>str</td><td>str</td><td>str</td><td>str</td><td>str</td><td>str</td><td>str</td><td>str</td><td>str</td><td>str</td></tr></thead><tbody><tr><td>&quot;hvWAHkVwldoiiq…</td><td>&quot;oKQBcJKTmHQWpE…</td><td>&quot;KiFIcAjebmeuBw…</td><td>&quot;NgBjZgqjlKfJOD…</td><td>&quot;XWuqFEiHCsHWEG…</td><td>&quot;BwyBYSknaYTxZB…</td><td>&quot;bRXiyPyIdPYMHs…</td><td>&quot;GmfgVyFYsvIzcF…</td><td>&quot;VvmrdvTRxbnkVh…</td><td>&quot;PFaaEcMhgMbRHw…</td></tr><tr><td>&quot;SElMSAaKeGbZhX…</td><td>&quot;dXIGJlEuGpTQtX…</td><td>&quot;LMNWDFdjLikjRE…</td><td>&quot;TvSfCTulhUeMGr…</td><td>&quot;CUGzcdLQurGnUk…</td><td>&quot;LuWubsmAjXQAul…</td><td>&quot;mNMUaxNvYaJxbe…</td><td>&quot;gDkBfqMmEFvNjH…</td><td>&quot;WrPpCvSEoUkaaK…</td><td>&quot;VzCSolVnRqokwD…</td></tr><tr><td>&quot;gTheELJKrxCOoG…</td><td>&quot;jQoFocGuDbJJLO…</td><td>&quot;UnxKpMCZhFQItL…</td><td>&quot;ZjjCzlFSuiotXU…</td><td>&quot;akFqHEexWVHafr…</td><td>&quot;uwbUMvJsabaEnu…</td><td>&quot;pbOIVFtPRpxPXt…</td><td>&quot;ltBjmAhtuDPeVm…</td><td>&quot;sEoxllDwGiNPjJ…</td><td>&quot;tBJvNRAiBpaLqw…</td></tr><tr><td>&quot;IWMzRjGxJXVxjW…</td><td>&quot;nJNbItspDRTgpg…</td><td>&quot;BHrOGzsMTNlyhD…</td><td>&quot;PAOCjsCHfcbEXn…</td><td>&quot;yQlggmokqCHdvu…</td><td>&quot;DyFuHJSJgNHyNC…</td><td>&quot;qOKFwfMuQkuczk…</td><td>&quot;veEBZHozCqyooE…</td><td>&quot;HwxSXVoaeeynoe…</td><td>&quot;ZbGeKQIQQXoHUR…</td></tr><tr><td>&quot;mWfwwPlDaIBEXW…</td><td>&quot;RCRpDOGiEwAZNU…</td><td>&quot;BoBystdCQTAUUx…</td><td>&quot;eGHpHQYIUuydLu…</td><td>&quot;YBzplrPmuzXGwV…</td><td>&quot;iOlxSZioYjeFzI…</td><td>&quot;sxBtJWkGdkTtrJ…</td><td>&quot;UCrBfhtyHoRMHN…</td><td>&quot;CdizpVYJWuAmiu…</td><td>&quot;trYARuvtTnKESu…</td></tr></tbody></table></div>"
      ],
      "text/plain": [
       "shape: (5, 10)\n",
       "┌───────────┬───────────┬───────────┬───────────┬───┬───────────┬───────────┬───────────┬──────────┐\n",
       "│ column_1  ┆ column_2  ┆ column_3  ┆ column_4  ┆ … ┆ column_7  ┆ column_8  ┆ column_9  ┆ column_1 │\n",
       "│ ---       ┆ ---       ┆ ---       ┆ ---       ┆   ┆ ---       ┆ ---       ┆ ---       ┆ 0        │\n",
       "│ str       ┆ str       ┆ str       ┆ str       ┆   ┆ str       ┆ str       ┆ str       ┆ ---      │\n",
       "│           ┆           ┆           ┆           ┆   ┆           ┆           ┆           ┆ str      │\n",
       "╞═══════════╪═══════════╪═══════════╪═══════════╪═══╪═══════════╪═══════════╪═══════════╪══════════╡\n",
       "│ hvWAHkVwl ┆ oKQBcJKTm ┆ KiFIcAjeb ┆ NgBjZgqjl ┆ … ┆ bRXiyPyId ┆ GmfgVyFYs ┆ VvmrdvTRx ┆ PFaaEcMh │\n",
       "│ doiiqIten ┆ HQWpEaWAu ┆ meuBwmIFL ┆ KfJODJdUo ┆   ┆ PYMHsQGBi ┆ vIzcFYBOU ┆ bnkVheAFa ┆ gMbRHwDg │\n",
       "│ PnYqOLPwZ ┆ RoIscVecg ┆ NvTWASuTi ┆ MZwzSikQU ┆   ┆ eXvixWEpj ┆ srpaVeQph ┆ AvdXlmbWZ ┆ DWPCTmfg │\n",
       "│ GtFES…    ┆ OrWYL…    ┆ zglkV…    ┆ EHxCo…    ┆   ┆ XfARD…    ┆ dxEZD…    ┆ JrFDp…    ┆ ruApwoFj │\n",
       "│           ┆           ┆           ┆           ┆   ┆           ┆           ┆           ┆ …        │\n",
       "│ SElMSAaKe ┆ dXIGJlEuG ┆ LMNWDFdjL ┆ TvSfCTulh ┆ … ┆ mNMUaxNvY ┆ gDkBfqMmE ┆ WrPpCvSEo ┆ VzCSolVn │\n",
       "│ GbZhXAGjK ┆ pTQtXmQby ┆ ikjREKuwf ┆ UeMGrmkxN ┆   ┆ aJxbeabUM ┆ FvNjHJwka ┆ UkaaKPfPg ┆ RqokwDsL │\n",
       "│ GBBmdrvRb ┆ ibQJANQao ┆ gnjsGoHbX ┆ JkDwlhZJf ┆   ┆ mrHbXkqbI ┆ PYxsLCRCe ┆ aujdIFGsX ┆ LvHPMpBV │\n",
       "│ fGTVd…    ┆ uLMXU…    ┆ DuWOL…    ┆ FEIym…    ┆   ┆ eVBKA…    ┆ KJCSo…    ┆ nulyU…    ┆ EBTyjePF │\n",
       "│           ┆           ┆           ┆           ┆   ┆           ┆           ┆           ┆ …        │\n",
       "│ gTheELJKr ┆ jQoFocGuD ┆ UnxKpMCZh ┆ ZjjCzlFSu ┆ … ┆ pbOIVFtPR ┆ ltBjmAhtu ┆ sEoxllDwG ┆ tBJvNRAi │\n",
       "│ xCOoGTQON ┆ bJJLOiJsG ┆ FQItLAfqe ┆ iotXUkkAd ┆   ┆ pxPXtWhWI ┆ DPeVmyzkU ┆ iNPjJcuyI ┆ BpaLqwTa │\n",
       "│ wSZkRSquL ┆ fpudTFgTc ┆ zWOQiPdvp ┆ PzZPObjFC ┆   ┆ BkfzVyrcL ┆ BxwkubNuG ┆ whSbCoAfj ┆ SdiHaiQQ │\n",
       "│ osCyB…    ┆ lgkDl…    ┆ QQJdd…    ┆ LysqY…    ┆   ┆ CrBDQ…    ┆ TfOpy…    ┆ RWuwl…    ┆ PAUwBsZU │\n",
       "│           ┆           ┆           ┆           ┆   ┆           ┆           ┆           ┆ …        │\n",
       "│ IWMzRjGxJ ┆ nJNbItspD ┆ BHrOGzsMT ┆ PAOCjsCHf ┆ … ┆ qOKFwfMuQ ┆ veEBZHozC ┆ HwxSXVoae ┆ ZbGeKQIQ │\n",
       "│ XVxjWsKMZ ┆ RTgpgUeNX ┆ NlyhDAbxC ┆ cbEXnuIZP ┆   ┆ kuczkaMtm ┆ qyooEySHc ┆ eynoemzIA ┆ QXoHURbx │\n",
       "│ YIUFuSggE ┆ rBYnDbiLM ┆ wKVeVGwVE ┆ GEfHHMOJX ┆   ┆ vRFxprwxH ┆ xKXwyuVZZ ┆ aXQAReyoW ┆ FzPQllqy │\n",
       "│ GZYyM…    ┆ XSHvb…    ┆ tCIiK…    ┆ uFUgb…    ┆   ┆ FeDpB…    ┆ wbuXX…    ┆ nCgAM…    ┆ PfwXPCru │\n",
       "│           ┆           ┆           ┆           ┆   ┆           ┆           ┆           ┆ …        │\n",
       "│ mWfwwPlDa ┆ RCRpDOGiE ┆ BoBystdCQ ┆ eGHpHQYIU ┆ … ┆ sxBtJWkGd ┆ UCrBfhtyH ┆ CdizpVYJW ┆ trYARuvt │\n",
       "│ IBEXWRsrh ┆ wAZNUHqav ┆ TAUUxMcML ┆ uydLuMRYV ┆   ┆ kTtrJGBAS ┆ oRMHNEeiv ┆ uAmiumKET ┆ TnKESuNu │\n",
       "│ FrbNEXViF ┆ ODIBXXCQj ┆ hiCNNgVoo ┆ dbKbzDlKf ┆   ┆ JqxfnHGEY ┆ XMOsHsaYD ┆ UsPCCZrYD ┆ wIMShlRj │\n",
       "│ OoUfC…    ┆ edFxz…    ┆ GAoei…    ┆ LDixj…    ┆   ┆ GeHuC…    ┆ beAwd…    ┆ GUNdW…    ┆ VzgPcabx │\n",
       "│           ┆           ┆           ┆           ┆   ┆           ┆           ┆           ┆ …        │\n",
       "└───────────┴───────────┴───────────┴───────────┴───┴───────────┴───────────┴───────────┴──────────┘"
      ]
     },
     "execution_count": 3,
     "metadata": {},
     "output_type": "execute_result"
    }
   ],
   "source": [
    "df"
   ]
  },
  {
   "cell_type": "code",
   "execution_count": 17,
   "id": "7f26eda3",
   "metadata": {},
   "outputs": [
    {
     "name": "stdout",
     "output_type": "stream",
     "text": [
      "shape: (5, 10)\n",
      "┌───────┬───────┬───────┬───────┬───────┬───────┬───────┬───────┬───────┬───────┐\n",
      "│ colu… ┆ colu… ┆ colu… ┆ colu… ┆ colu… ┆ colu… ┆ colu… ┆ colu… ┆ colu… ┆ colu… │\n",
      "│ ---   ┆ ---   ┆ ---   ┆ ---   ┆ ---   ┆ ---   ┆ ---   ┆ ---   ┆ ---   ┆ ---   │\n",
      "│ str   ┆ str   ┆ str   ┆ str   ┆ str   ┆ str   ┆ str   ┆ str   ┆ str   ┆ str   │\n",
      "╞═══════╪═══════╪═══════╪═══════╪═══════╪═══════╪═══════╪═══════╪═══════╪═══════╡\n",
      "│ hvWA… ┆ oKQB… ┆ KiFI… ┆ NgBj… ┆ XWuq… ┆ BwyB… ┆ bRXi… ┆ Gmfg… ┆ Vvmr… ┆ PFaa… │\n",
      "│ SElM… ┆ dXIG… ┆ LMNW… ┆ TvSf… ┆ CUGz… ┆ LuWu… ┆ mNMU… ┆ gDkB… ┆ WrPp… ┆ VzCS… │\n",
      "│ gThe… ┆ jQoF… ┆ UnxK… ┆ ZjjC… ┆ akFq… ┆ uwbU… ┆ pbOI… ┆ ltBj… ┆ sEox… ┆ tBJv… │\n",
      "│ IWMz… ┆ nJNb… ┆ BHrO… ┆ PAOC… ┆ yQlg… ┆ DyFu… ┆ qOKF… ┆ veEB… ┆ HwxS… ┆ ZbGe… │\n",
      "│ mWfw… ┆ RCRp… ┆ BoBy… ┆ eGHp… ┆ YBzp… ┆ iOlx… ┆ sxBt… ┆ UCrB… ┆ Cdiz… ┆ trYA… │\n",
      "└───────┴───────┴───────┴───────┴───────┴───────┴───────┴───────┴───────┴───────┘\n"
     ]
    }
   ],
   "source": [
    "with pl.Config(tbl_cols=-1, fmt_str_lengths=4):\n",
    "    print(df)"
   ]
  },
  {
   "cell_type": "code",
   "execution_count": 18,
   "id": "b0175e2d",
   "metadata": {},
   "outputs": [
    {
     "name": "stdout",
     "output_type": "stream",
     "text": [
      "Entering context\n",
      "Your code\n",
      "Exiting context\n"
     ]
    }
   ],
   "source": [
    "class YourContextManager:\n",
    "    def __enter__(self):\n",
    "        print(\"Entering context\")\n",
    "\n",
    "    def __exit__(self, type , value, traceback):\n",
    "        print(\"Exiting context\")\n",
    "\n",
    "with YourContextManager():\n",
    "    print(\"Your code\")"
   ]
  },
  {
   "cell_type": "markdown",
   "id": "bd88089e",
   "metadata": {},
   "source": [
    "### Local Configuration Using a Decorator"
   ]
  },
  {
   "cell_type": "code",
   "execution_count": 20,
   "id": "00e3bdc2",
   "metadata": {},
   "outputs": [],
   "source": [
    "@pl.Config(ascii_tables=True)\n",
    "def write_ascii_frame_to_stdout(df: pl.DataFrame) -> None:\n",
    "    print(str(df))\n",
    "\n",
    "@pl.Config(verbose=True)\n",
    "def function_that_im_debugging(df: pl.DataFrame) -> None:\n",
    "    # Polars operation you want to see the verbose logging of\n",
    "    pass"
   ]
  },
  {
   "cell_type": "markdown",
   "id": "b1b3a476",
   "metadata": {},
   "source": [
    "## Downloading Datasets and Code Examples"
   ]
  },
  {
   "cell_type": "markdown",
   "id": "c8421eb6",
   "metadata": {},
   "source": [
    "## Conclusion"
   ]
  }
 ],
 "metadata": {
  "language_info": {
   "codemirror_mode": {
    "name": "ipython",
    "version": 3
   },
   "file_extension": ".py",
   "mimetype": "text/x-python",
   "name": "python",
   "nbconvert_exporter": "python",
   "pygments_lexer": "ipython3",
   "version": "3.11.8"
  }
 },
 "nbformat": 4,
 "nbformat_minor": 5
}
