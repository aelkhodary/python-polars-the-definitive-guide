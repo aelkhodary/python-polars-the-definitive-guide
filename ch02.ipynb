{
 "cells": [
  {
   "cell_type": "markdown",
   "id": "b936c2b7",
   "metadata": {},
   "source": [
    "# Chapter 2: First Steps"
   ]
  },
  {
   "cell_type": "code",
   "execution_count": 1,
   "id": "9f84d9dd",
   "metadata": {},
   "outputs": [
    {
     "name": "stdout",
     "output_type": "stream",
     "text": [
      "--------Version info---------\n",
      "Polars:               0.20.7\n",
      "Index type:           UInt32\n",
      "Platform:             macOS-12.5-arm64-arm-64bit\n",
      "Python:               3.11.7 (main, Jan 16 2024, 14:42:22) [Clang 14.0.0 (clang-1400.0.29.202)]\n",
      "\n",
      "----Optional dependencies----\n",
      "adbc_driver_manager:  0.8.0\n",
      "cloudpickle:          3.0.0\n",
      "connectorx:           0.3.2\n",
      "deltalake:            0.15.0\n",
      "fsspec:               2023.12.2\n",
      "gevent:               23.9.1\n",
      "hvplot:               0.9.2\n",
      "matplotlib:           3.8.2\n",
      "numpy:                1.26.3\n",
      "openpyxl:             3.1.2\n",
      "pandas:               2.1.4\n",
      "pyarrow:              14.0.2\n",
      "pydantic:             2.5.3\n",
      "pyiceberg:            0.5.1\n",
      "pyxlsb:               <not installed>\n",
      "sqlalchemy:           2.0.25\n",
      "xlsx2csv:             0.8.2\n",
      "xlsxwriter:           3.1.9\n"
     ]
    }
   ],
   "source": [
    "import polars as pl\n",
    "pl.show_versions()"
   ]
  },
  {
   "cell_type": "markdown",
   "id": "8510d16d",
   "metadata": {},
   "source": [
    "## Overview"
   ]
  },
  {
   "cell_type": "markdown",
   "id": "59cd9502",
   "metadata": {},
   "source": [
    "## Using Polars in a Docker Container"
   ]
  },
  {
   "cell_type": "markdown",
   "id": "201cbc90",
   "metadata": {},
   "source": [
    "## Crash Course JupyterLab"
   ]
  },
  {
   "cell_type": "markdown",
   "id": "9e0af0ff",
   "metadata": {},
   "source": [
    "### Keyboard Shortcuts"
   ]
  },
  {
   "cell_type": "markdown",
   "id": "6b72552a",
   "metadata": {},
   "source": [
    "#### Any Mode"
   ]
  },
  {
   "cell_type": "markdown",
   "id": "a95de787",
   "metadata": {},
   "source": [
    "#### Command Mode"
   ]
  },
  {
   "cell_type": "markdown",
   "id": "6f6269f1",
   "metadata": {},
   "source": [
    "#### Edit Mode"
   ]
  },
  {
   "cell_type": "markdown",
   "id": "e83f585b",
   "metadata": {},
   "source": [
    "## Installing Polars"
   ]
  },
  {
   "cell_type": "markdown",
   "id": "9a3f6ad1",
   "metadata": {},
   "source": [
    "## Compiling Polars from Scratch"
   ]
  },
  {
   "cell_type": "markdown",
   "id": "11383f61",
   "metadata": {},
   "source": [
    "### Edge Case: Very Large Datasets"
   ]
  },
  {
   "cell_type": "markdown",
   "id": "121666fa",
   "metadata": {},
   "source": [
    "### Edge Case: Processors Lacking AVX support"
   ]
  },
  {
   "cell_type": "markdown",
   "id": "2e290004",
   "metadata": {},
   "source": [
    "## Configuring Polars"
   ]
  },
  {
   "cell_type": "markdown",
   "id": "18cf9fe2",
   "metadata": {},
   "source": [
    "### Temporary Configuration Using a Context Manager"
   ]
  },
  {
   "cell_type": "code",
   "execution_count": 15,
   "id": "0e3c713f",
   "metadata": {},
   "outputs": [],
   "source": [
    "import random\n",
    "import string\n",
    "\n",
    "def generate_random_string(length: int) -> str:\n",
    "    return \"\".join(random.choice(string.ascii_letters) for i in range(length))\n",
    "\n",
    "data = {}\n",
    "for i in range(1, 11):\n",
    "    data[f\"column_{i}\"] = [generate_random_string(50) for _ in range(5)]\n",
    "\n",
    "df = pl.DataFrame(data)"
   ]
  },
  {
   "cell_type": "code",
   "execution_count": 16,
   "id": "924def05",
   "metadata": {},
   "outputs": [
    {
     "data": {
      "text/html": [
       "<div><style>\n",
       ".dataframe > thead > tr,\n",
       ".dataframe > tbody > tr {\n",
       "  text-align: right;\n",
       "  white-space: pre-wrap;\n",
       "}\n",
       "</style>\n",
       "<small>shape: (5, 10)</small><table border=\"1\" class=\"dataframe\"><thead><tr><th>column_1</th><th>column_2</th><th>column_3</th><th>column_4</th><th>column_5</th><th>column_6</th><th>column_7</th><th>column_8</th><th>column_9</th><th>column_10</th></tr><tr><td>str</td><td>str</td><td>str</td><td>str</td><td>str</td><td>str</td><td>str</td><td>str</td><td>str</td><td>str</td></tr></thead><tbody><tr><td>&quot;eyXVQWhglrVEnr…</td><td>&quot;RpoioQAYQCwABc…</td><td>&quot;VpWqEZRybSqubV…</td><td>&quot;BXIZRoxQsiJQxU…</td><td>&quot;TySqLgvHxevujL…</td><td>&quot;lsywEWrxsynEKH…</td><td>&quot;WGHmPFIurMYSnl…</td><td>&quot;fNTBdGzyNtpShD…</td><td>&quot;QGpSODeDcurEHJ…</td><td>&quot;qhNCbRIqZkrZpF…</td></tr><tr><td>&quot;dhxzhhXLpwmRJB…</td><td>&quot;vMHXheGEJQRlRE…</td><td>&quot;lVgIptGgIBDGdR…</td><td>&quot;MeOLFNPtoDKnOU…</td><td>&quot;VgIPPDSSenBNFf…</td><td>&quot;IUomfuXknUFtbo…</td><td>&quot;AlxlrKWMZkCyjE…</td><td>&quot;ZPRVWrnvtrlipE…</td><td>&quot;XJpjxsdMkxRDwP…</td><td>&quot;JmYVXBPlcVPFXA…</td></tr><tr><td>&quot;cgIidjClDpUujG…</td><td>&quot;DtrBJXBbAIRNzb…</td><td>&quot;JqWcvVMpcAdTZc…</td><td>&quot;ISVICVAVvhqsnf…</td><td>&quot;FywmVJzlSaTmFj…</td><td>&quot;ShalhlIEUqemiN…</td><td>&quot;idaGoqhTYIlZZp…</td><td>&quot;rcbMAFsSNRPGLo…</td><td>&quot;otTYnxYpaVKBaV…</td><td>&quot;OCEQokSXjSNhZs…</td></tr><tr><td>&quot;rFeRuqoOcuUTZV…</td><td>&quot;KTwJidhSPHAbHR…</td><td>&quot;IvWdZJIkYBCbTz…</td><td>&quot;TGCpkmUdXphoYK…</td><td>&quot;bHQygpiTXNRXmv…</td><td>&quot;hGMrcKsauxMJOl…</td><td>&quot;qdmpnrxupMDibt…</td><td>&quot;EabMnFNtdLaviT…</td><td>&quot;RRBOrLYEaZVQMO…</td><td>&quot;HQwJPAHBGKbhCV…</td></tr><tr><td>&quot;fANYRmIOMonIeZ…</td><td>&quot;KapMGEnURtlEnI…</td><td>&quot;IcUzCmOdTdngrO…</td><td>&quot;FGSugGpQhxUjqL…</td><td>&quot;GnPmDDToSpSNrN…</td><td>&quot;zPPtKyhtPZXIeg…</td><td>&quot;OnRWmzGgvOdUfe…</td><td>&quot;FLLIwCQJZzLFep…</td><td>&quot;ThrOvRRHgsBJJP…</td><td>&quot;WoaRXaVtRyljsQ…</td></tr></tbody></table></div>"
      ],
      "text/plain": [
       "shape: (5, 10)\n",
       "┌───────────┬───────────┬───────────┬───────────┬───┬───────────┬───────────┬───────────┬──────────┐\n",
       "│ column_1  ┆ column_2  ┆ column_3  ┆ column_4  ┆ … ┆ column_7  ┆ column_8  ┆ column_9  ┆ column_1 │\n",
       "│ ---       ┆ ---       ┆ ---       ┆ ---       ┆   ┆ ---       ┆ ---       ┆ ---       ┆ 0        │\n",
       "│ str       ┆ str       ┆ str       ┆ str       ┆   ┆ str       ┆ str       ┆ str       ┆ ---      │\n",
       "│           ┆           ┆           ┆           ┆   ┆           ┆           ┆           ┆ str      │\n",
       "╞═══════════╪═══════════╪═══════════╪═══════════╪═══╪═══════════╪═══════════╪═══════════╪══════════╡\n",
       "│ eyXVQWhgl ┆ RpoioQAYQ ┆ VpWqEZRyb ┆ BXIZRoxQs ┆ … ┆ WGHmPFIur ┆ fNTBdGzyN ┆ QGpSODeDc ┆ qhNCbRIq │\n",
       "│ rVEnrgXTK ┆ CwABczaDA ┆ SqubVYlMM ┆ iJQxUfxzH ┆   ┆ MYSnlHNuI ┆ tpShDNlMR ┆ urEHJmHhd ┆ ZkrZpFsT │\n",
       "│ LrgiTTpan ┆ WuUHYEpMO ┆ iHToELvit ┆ AZRyEBQVA ┆   ┆ MJrEWZaMF ┆ gWgWamIrv ┆ pMrBktAdG ┆ CdjnEDoC │\n",
       "│ MJBrN…    ┆ oiAIz…    ┆ jsxGM…    ┆ Lhqrz…    ┆   ┆ uIKPd…    ┆ BbinJ…    ┆ mlQGd…    ┆ eZSEbpfF │\n",
       "│           ┆           ┆           ┆           ┆   ┆           ┆           ┆           ┆ …        │\n",
       "│ dhxzhhXLp ┆ vMHXheGEJ ┆ lVgIptGgI ┆ MeOLFNPto ┆ … ┆ AlxlrKWMZ ┆ ZPRVWrnvt ┆ XJpjxsdMk ┆ JmYVXBPl │\n",
       "│ wmRJBhncF ┆ QRlREZFwG ┆ BDGdRlpgP ┆ DKnOUjtrA ┆   ┆ kCyjEmOzj ┆ rlipEUJQS ┆ xRDwPvkXM ┆ cVPFXAvX │\n",
       "│ xfcWveDwK ┆ RLJXvbnCT ┆ ZqsKoBEbG ┆ kcWprVbLr ┆   ┆ zFjVPOTSN ┆ EGkvImPEc ┆ DjyadLvjL ┆ jARBwWsp │\n",
       "│ eyFzi…    ┆ QavHL…    ┆ Hetvf…    ┆ nroCO…    ┆   ┆ nuLdf…    ┆ CzTCY…    ┆ TZmir…    ┆ pqDBoqXp │\n",
       "│           ┆           ┆           ┆           ┆   ┆           ┆           ┆           ┆ …        │\n",
       "│ cgIidjClD ┆ DtrBJXBbA ┆ JqWcvVMpc ┆ ISVICVAVv ┆ … ┆ idaGoqhTY ┆ rcbMAFsSN ┆ otTYnxYpa ┆ OCEQokSX │\n",
       "│ pUujGWZje ┆ IRNzbWmrI ┆ AdTZcTtTx ┆ hqsnfkkOF ┆   ┆ IlZZpsycI ┆ RPGLoYhop ┆ VKBaVeyRH ┆ jSNhZsNU │\n",
       "│ smEuAYBPZ ┆ TYbuOQsBb ┆ VpyOQkhnf ┆ DAUYlLwZa ┆   ┆ TjmwrgFRr ┆ XCaFuSDNm ┆ TeyOHkKgF ┆ eDiJigXo │\n",
       "│ fQetI…    ┆ DaKpJ…    ┆ QsPni…    ┆ AFQtP…    ┆   ┆ libMy…    ┆ tKZyl…    ┆ rruah…    ┆ KzTGIgCC │\n",
       "│           ┆           ┆           ┆           ┆   ┆           ┆           ┆           ┆ …        │\n",
       "│ rFeRuqoOc ┆ KTwJidhSP ┆ IvWdZJIkY ┆ TGCpkmUdX ┆ … ┆ qdmpnrxup ┆ EabMnFNtd ┆ RRBOrLYEa ┆ HQwJPAHB │\n",
       "│ uUTZVMZlW ┆ HAbHRxqET ┆ BCbTzKLCC ┆ phoYKgeuw ┆   ┆ MDibtmeaC ┆ LaviTIAij ┆ ZVQMOQRdq ┆ GKbhCVze │\n",
       "│ qxyXeksja ┆ hnJTXPXtg ┆ QRIoBloZn ┆ oYmxvjchP ┆   ┆ flsuTQewn ┆ EOiClNHnY ┆ grTmNTTkc ┆ fTXPPcVI │\n",
       "│ tXQZi…    ┆ DDqFG…    ┆ ibwVc…    ┆ aeBdd…    ┆   ┆ xroBL…    ┆ TlUYI…    ┆ yTxZX…    ┆ TBNbAiji │\n",
       "│           ┆           ┆           ┆           ┆   ┆           ┆           ┆           ┆ …        │\n",
       "│ fANYRmIOM ┆ KapMGEnUR ┆ IcUzCmOdT ┆ FGSugGpQh ┆ … ┆ OnRWmzGgv ┆ FLLIwCQJZ ┆ ThrOvRRHg ┆ WoaRXaVt │\n",
       "│ onIeZjLRE ┆ tlEnINiNU ┆ dngrODMxn ┆ xUjqLxndS ┆   ┆ OdUfeRJFf ┆ zLFepzSwi ┆ sBJJPixPR ┆ RyljsQdF │\n",
       "│ jsmloetRF ┆ nKYNBdpQN ┆ ngqgCTKHl ┆ ANGDAJcaj ┆   ┆ HwihQxomO ┆ XkDoMCpwP ┆ omdIyWmFq ┆ KdZsYAYi │\n",
       "│ cAQnz…    ┆ PFMuf…    ┆ IjHSR…    ┆ ziScN…    ┆   ┆ CTjRR…    ┆ WmFUA…    ┆ GAqyX…    ┆ EifmMzzk │\n",
       "│           ┆           ┆           ┆           ┆   ┆           ┆           ┆           ┆ …        │\n",
       "└───────────┴───────────┴───────────┴───────────┴───┴───────────┴───────────┴───────────┴──────────┘"
      ]
     },
     "execution_count": 3,
     "metadata": {},
     "output_type": "execute_result"
    }
   ],
   "source": [
    "df"
   ]
  },
  {
   "cell_type": "code",
   "execution_count": 17,
   "id": "252b9f63",
   "metadata": {},
   "outputs": [
    {
     "name": "stdout",
     "output_type": "stream",
     "text": [
      "shape: (5, 10)\n",
      "┌───────┬───────┬───────┬───────┬───────┬───────┬───────┬───────┬───────┬───────┐\n",
      "│ colu… ┆ colu… ┆ colu… ┆ colu… ┆ colu… ┆ colu… ┆ colu… ┆ colu… ┆ colu… ┆ colu… │\n",
      "│ ---   ┆ ---   ┆ ---   ┆ ---   ┆ ---   ┆ ---   ┆ ---   ┆ ---   ┆ ---   ┆ ---   │\n",
      "│ str   ┆ str   ┆ str   ┆ str   ┆ str   ┆ str   ┆ str   ┆ str   ┆ str   ┆ str   │\n",
      "╞═══════╪═══════╪═══════╪═══════╪═══════╪═══════╪═══════╪═══════╪═══════╪═══════╡\n",
      "│ eyXV… ┆ Rpoi… ┆ VpWq… ┆ BXIZ… ┆ TySq… ┆ lsyw… ┆ WGHm… ┆ fNTB… ┆ QGpS… ┆ qhNC… │\n",
      "│ dhxz… ┆ vMHX… ┆ lVgI… ┆ MeOL… ┆ VgIP… ┆ IUom… ┆ Alxl… ┆ ZPRV… ┆ XJpj… ┆ JmYV… │\n",
      "│ cgIi… ┆ DtrB… ┆ JqWc… ┆ ISVI… ┆ Fywm… ┆ Shal… ┆ idaG… ┆ rcbM… ┆ otTY… ┆ OCEQ… │\n",
      "│ rFeR… ┆ KTwJ… ┆ IvWd… ┆ TGCp… ┆ bHQy… ┆ hGMr… ┆ qdmp… ┆ EabM… ┆ RRBO… ┆ HQwJ… │\n",
      "│ fANY… ┆ KapM… ┆ IcUz… ┆ FGSu… ┆ GnPm… ┆ zPPt… ┆ OnRW… ┆ FLLI… ┆ ThrO… ┆ WoaR… │\n",
      "└───────┴───────┴───────┴───────┴───────┴───────┴───────┴───────┴───────┴───────┘\n"
     ]
    }
   ],
   "source": [
    "with pl.Config(tbl_cols=-1, fmt_str_lengths=4):\n",
    "    print(df)"
   ]
  },
  {
   "cell_type": "code",
   "execution_count": 18,
   "id": "33426385",
   "metadata": {},
   "outputs": [
    {
     "name": "stdout",
     "output_type": "stream",
     "text": [
      "Entering context\n",
      "Your code\n",
      "Exiting context\n"
     ]
    }
   ],
   "source": [
    "class YourContextManager:\n",
    "    def __enter__(self):\n",
    "        print(\"Entering context\")\n",
    "\n",
    "    def __exit__(self, type , value, traceback):\n",
    "        print(\"Exiting context\")\n",
    "\n",
    "with YourContextManager():\n",
    "    print(\"Your code\")"
   ]
  },
  {
   "cell_type": "markdown",
   "id": "a3e07867",
   "metadata": {},
   "source": [
    "### Local Configuration Using a Decorator"
   ]
  },
  {
   "cell_type": "code",
   "execution_count": 20,
   "id": "20929a90",
   "metadata": {},
   "outputs": [],
   "source": [
    "@pl.Config(ascii_tables=True)\n",
    "def write_ascii_frame_to_stdout(df: pl.DataFrame) -> None:\n",
    "    print(str(df))\n",
    "\n",
    "@pl.Config(verbose=True)\n",
    "def function_that_im_debugging(df: pl.DataFrame) -> None:\n",
    "    # Polars operation you want to see the verbose logging of\n",
    "    pass"
   ]
  },
  {
   "cell_type": "markdown",
   "id": "4432d6d1",
   "metadata": {},
   "source": [
    "## Downloading Datasets and Code Examples"
   ]
  },
  {
   "cell_type": "markdown",
   "id": "3846d491",
   "metadata": {},
   "source": [
    "## Conclusion"
   ]
  }
 ],
 "metadata": {
  "language_info": {
   "codemirror_mode": {
    "name": "ipython",
    "version": 3
   },
   "file_extension": ".py",
   "mimetype": "text/x-python",
   "name": "python",
   "nbconvert_exporter": "python",
   "pygments_lexer": "ipython3",
   "version": "3.11.7"
  }
 },
 "nbformat": 4,
 "nbformat_minor": 5
}
