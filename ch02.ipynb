{
 "cells": [
  {
   "cell_type": "markdown",
   "id": "5fbd9128",
   "metadata": {},
   "source": [
    "# Chapter 2: First Steps"
   ]
  },
  {
   "cell_type": "code",
   "execution_count": 1,
   "id": "57d148aa",
   "metadata": {},
   "outputs": [],
   "source": [
    "import polars as pl\n",
    "pl.show_versions()  # The book is built with Polars version 1.0.0"
   ]
  },
  {
   "cell_type": "markdown",
   "id": "f44f8a52",
   "metadata": {},
   "source": [
    "## Installing Polars"
   ]
  },
  {
   "cell_type": "markdown",
   "id": "e9fa335d",
   "metadata": {},
   "source": [
    "## Compiling Polars from Scratch"
   ]
  },
  {
   "cell_type": "markdown",
   "id": "8fa05b2b",
   "metadata": {},
   "source": [
    "### Edge Case: Very Large Datasets"
   ]
  },
  {
   "cell_type": "markdown",
   "id": "f0a0434e",
   "metadata": {},
   "source": [
    "### Edge Case: Processors Lacking AVX support"
   ]
  },
  {
   "cell_type": "markdown",
   "id": "c08254e4",
   "metadata": {},
   "source": [
    "## Configuring Polars"
   ]
  },
  {
   "cell_type": "markdown",
   "id": "5687b8af",
   "metadata": {},
   "source": [
    "### Temporary Configuration Using a Context Manager"
   ]
  },
  {
   "cell_type": "code",
   "execution_count": 8,
   "id": "03068ccd",
   "metadata": {},
   "outputs": [],
   "source": [
    "import polars as pl\n",
    "\n",
    "with pl.Config() as cfg:\n",
    "    cfg.set_verbose(True)\n",
    "    # Polars operation you want to see the verbose logging of\n",
    "\n",
    "# Code outside of the scope is not affected"
   ]
  },
  {
   "cell_type": "code",
   "execution_count": 9,
   "id": "1d7a5b24",
   "metadata": {},
   "outputs": [],
   "source": [
    "with pl.Config(verbose=True):\n",
    "    # Polars operation you want to see the verbose logging of\n",
    "    pass"
   ]
  },
  {
   "cell_type": "code",
   "execution_count": 10,
   "id": "a6822c95",
   "metadata": {},
   "outputs": [],
   "source": [
    "import random\n",
    "import string\n",
    "\n",
    "def generate_random_string(length: int) -> str:\n",
    "    return \"\".join(random.choice(string.ascii_letters) for i in range(length))\n",
    "\n",
    "data = {}\n",
    "for i in range(1, 11):\n",
    "    data[f\"column_{i}\"] = [generate_random_string(50) for _ in range(5)]\n",
    "\n",
    "df = pl.DataFrame(data)"
   ]
  },
  {
   "cell_type": "code",
   "execution_count": 11,
   "id": "7de95990",
   "metadata": {},
   "outputs": [],
   "source": [
    "df"
   ]
  },
  {
   "cell_type": "code",
   "execution_count": 12,
   "id": "d84dc56c",
   "metadata": {},
   "outputs": [],
   "source": [
    "with pl.Config(tbl_cols=-1, fmt_str_lengths=4):\n",
    "    print(df)"
   ]
  },
  {
   "cell_type": "code",
   "execution_count": 13,
   "id": "83a03a20",
   "metadata": {},
   "outputs": [],
   "source": [
    "class YourContextManager:\n",
    "    def __enter__(self):\n",
    "        print(\"Entering context\")\n",
    "\n",
    "    def __exit__(self, type , value, traceback):\n",
    "        print(\"Exiting context\")\n",
    "\n",
    "with YourContextManager():\n",
    "    print(\"Your code\")"
   ]
  },
  {
   "cell_type": "code",
   "execution_count": 14,
   "id": "e5781300",
   "metadata": {},
   "outputs": [],
   "source": [
    "with open(\"filename.txt\", \"w\") as file:\n",
    "    file.write(\"Hello, world!\")"
   ]
  },
  {
   "cell_type": "markdown",
   "id": "bffed457",
   "metadata": {},
   "source": [
    "### Local Configuration Using a Decorator"
   ]
  },
  {
   "cell_type": "code",
   "execution_count": 16,
   "id": "e2dfb75a",
   "metadata": {},
   "outputs": [],
   "source": [
    "@pl.Config(ascii_tables=True)\n",
    "def write_ascii_frame_to_stdout(df: pl.DataFrame) -> None:\n",
    "    print(str(df))\n",
    "\n",
    "@pl.Config(verbose=True)\n",
    "def function_that_im_debugging(df: pl.DataFrame) -> None:\n",
    "    # Polars operation you want to see the verbose logging of\n",
    "    pass"
   ]
  },
  {
   "cell_type": "markdown",
   "id": "3b5de1ce",
   "metadata": {},
   "source": [
    "## Downloading Datasets and Code Examples"
   ]
  },
  {
   "cell_type": "markdown",
   "id": "fa5fb4ed",
   "metadata": {},
   "source": [
    "## Crash Course JupyterLab"
   ]
  },
  {
   "cell_type": "markdown",
   "id": "ddcfae94",
   "metadata": {},
   "source": [
    "### Keyboard Shortcuts"
   ]
  },
  {
   "cell_type": "markdown",
   "id": "14ceb5ca",
   "metadata": {},
   "source": [
    "#### Any Mode"
   ]
  },
  {
   "cell_type": "markdown",
   "id": "eba9cf17",
   "metadata": {},
   "source": [
    "#### Command Mode"
   ]
  },
  {
   "cell_type": "markdown",
   "id": "60c1b6c4",
   "metadata": {},
   "source": [
    "#### Edit Mode"
   ]
  },
  {
   "cell_type": "markdown",
   "id": "7835958d",
   "metadata": {},
   "source": [
    "## Using Polars in a Docker Container"
   ]
  },
  {
   "cell_type": "markdown",
   "id": "9d5778ec",
   "metadata": {},
   "source": [
    "## Takeaways"
   ]
  }
 ],
 "metadata": {},
 "nbformat": 4,
 "nbformat_minor": 5
}
