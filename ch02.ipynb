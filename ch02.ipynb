{
 "cells": [
  {
   "cell_type": "markdown",
   "id": "63330616",
   "metadata": {},
   "source": [
    "# Chapter 2: Getting Started"
   ]
  },
  {
   "cell_type": "code",
   "execution_count": null,
   "id": "1341e977",
   "metadata": {},
   "outputs": [],
   "source": [
    "import polars as pl\n",
    "pl.show_versions()  # The book is built with Polars version 1.13.1"
   ]
  },
  {
   "cell_type": "markdown",
   "id": "31e22dca",
   "metadata": {},
   "source": [
    "## Setting Up Your Environment"
   ]
  },
  {
   "cell_type": "markdown",
   "id": "4c1cddc4",
   "metadata": {},
   "source": [
    "### Downloading the Project"
   ]
  },
  {
   "cell_type": "markdown",
   "id": "300b8ee1",
   "metadata": {},
   "source": [
    "### Installing uv"
   ]
  },
  {
   "cell_type": "markdown",
   "id": "432122a5",
   "metadata": {},
   "source": [
    "### Installing the Project"
   ]
  },
  {
   "cell_type": "markdown",
   "id": "5faa298f",
   "metadata": {},
   "source": [
    "### Confirm"
   ]
  },
  {
   "cell_type": "code",
   "execution_count": null,
   "id": "15c49c9f",
   "metadata": {},
   "outputs": [],
   "source": [
    "import polars as pl\n",
    "\n",
    "from contextlib import redirect_stdout\n",
    "\n",
    "with open(\"partials/versions.adoc\", \"w\") as f:\n",
    "    with redirect_stdout(f):\n",
    "        print(\"....\")\n",
    "        pl.show_versions()\n",
    "        print(\"....\")"
   ]
  },
  {
   "cell_type": "code",
   "execution_count": null,
   "id": "0ee7643d",
   "metadata": {},
   "outputs": [],
   "source": [
    "print(\n",
    "    f\"\"\"Throughout the book we use Polars version {pl.__version__}.\n",
    "Run the following code in a new notebook,\n",
    "to check which version of Polars you're using:\n",
    "\"\"\"\n",
    ")"
   ]
  },
  {
   "cell_type": "code",
   "execution_count": null,
   "id": "a90cc75d",
   "metadata": {},
   "outputs": [],
   "source": [
    "import polars as pl\n",
    "\n",
    "pl.show_versions()"
   ]
  },
  {
   "cell_type": "markdown",
   "id": "d72936a2",
   "metadata": {},
   "source": [
    "## Installing Polars"
   ]
  },
  {
   "cell_type": "markdown",
   "id": "6a26a031",
   "metadata": {},
   "source": [
    "### All Optional Dependencies"
   ]
  },
  {
   "cell_type": "code",
   "execution_count": null,
   "id": "bf4931c6",
   "metadata": {},
   "outputs": [],
   "source": [
    "%pip install 'polars[all]'"
   ]
  },
  {
   "cell_type": "markdown",
   "id": "d8c9a5b1",
   "metadata": {},
   "source": [
    "### Optional Dependencies for Interoperability"
   ]
  },
  {
   "cell_type": "markdown",
   "id": "392952b2",
   "metadata": {},
   "source": [
    "### Optional Dependencies for Working with Spreadsheets"
   ]
  },
  {
   "cell_type": "markdown",
   "id": "4bbf96a1",
   "metadata": {},
   "source": [
    "### Optional Dependencies for Working with Databases"
   ]
  },
  {
   "cell_type": "markdown",
   "id": "735c4d9f",
   "metadata": {},
   "source": [
    "### Optional Dependencies for Working with Remote File Systems"
   ]
  },
  {
   "cell_type": "markdown",
   "id": "34466816",
   "metadata": {},
   "source": [
    "### Optional Dependencies for Other I/O Formats"
   ]
  },
  {
   "cell_type": "markdown",
   "id": "e3b64cd4",
   "metadata": {},
   "source": [
    "### Optional Dependencies for Extra Functionality"
   ]
  },
  {
   "cell_type": "markdown",
   "id": "449dafd5",
   "metadata": {},
   "source": [
    "## Installing Optional Dependencies"
   ]
  },
  {
   "cell_type": "code",
   "execution_count": null,
   "id": "c6471144",
   "metadata": {},
   "outputs": [],
   "source": [
    "%pip install 'polars[pandas,numpy]'"
   ]
  },
  {
   "cell_type": "code",
   "execution_count": null,
   "id": "a93408b8",
   "metadata": {},
   "outputs": [],
   "source": [
    "%pip install polars"
   ]
  },
  {
   "cell_type": "code",
   "execution_count": null,
   "id": "b1302d04",
   "metadata": {},
   "outputs": [],
   "source": [
    "! conda install -c conda-forge polars"
   ]
  },
  {
   "cell_type": "markdown",
   "id": "c3f4741b",
   "metadata": {},
   "source": [
    "## Compiling Polars from Scratch"
   ]
  },
  {
   "cell_type": "code",
   "execution_count": null,
   "id": "93d074ae",
   "metadata": {},
   "outputs": [],
   "source": [
    "! python -m pip install maturin"
   ]
  },
  {
   "cell_type": "code",
   "execution_count": null,
   "id": "ff9081f6",
   "metadata": {},
   "outputs": [],
   "source": [
    "! cd py-polars && maturin develop --release -- -C target-cpu=native"
   ]
  },
  {
   "cell_type": "code",
   "execution_count": null,
   "id": "e789717a",
   "metadata": {},
   "outputs": [],
   "source": [
    "! cd py-polars && maturin develop --release -- -C codegen-units=16 -C lto=thin \\\n",
    "  -C target-cpu=native"
   ]
  },
  {
   "cell_type": "markdown",
   "id": "b37327af",
   "metadata": {},
   "source": [
    "### Edge Case: Very Large Datasets"
   ]
  },
  {
   "cell_type": "markdown",
   "id": "748a19be",
   "metadata": {},
   "source": [
    "### Edge Case: Processors Lacking AVX support"
   ]
  },
  {
   "cell_type": "markdown",
   "id": "5e6ba80b",
   "metadata": {},
   "source": [
    "## Configuring Polars"
   ]
  },
  {
   "cell_type": "markdown",
   "id": "a27595b8",
   "metadata": {},
   "source": [
    "### Temporary Configuration Using a Context Manager"
   ]
  },
  {
   "cell_type": "code",
   "execution_count": null,
   "id": "883b1f7d",
   "metadata": {},
   "outputs": [],
   "source": [
    "with pl.Config() as cfg:\n",
    "    cfg.set_verbose(True)\n",
    "    # Polars operation you want to see the verbose logging of\n",
    "\n",
    "# Code outside of the scope is not affected"
   ]
  },
  {
   "cell_type": "code",
   "execution_count": null,
   "id": "ec78a4d5",
   "metadata": {},
   "outputs": [],
   "source": [
    "with pl.Config(verbose=True):\n",
    "    # Polars operation you want to see the verbose logging of\n",
    "    pass"
   ]
  },
  {
   "cell_type": "code",
   "execution_count": null,
   "id": "6722d4e1",
   "metadata": {},
   "outputs": [],
   "source": [
    "import random\n",
    "import string\n",
    "\n",
    "\n",
    "def generate_random_string(length: int) -> str:\n",
    "    return \"\".join(random.choice(string.ascii_letters) for i in range(length))\n",
    "\n",
    "\n",
    "data = {}\n",
    "for i in range(1, 11):\n",
    "    data[f\"column_{i}\"] = [generate_random_string(50) for _ in range(5)]  \n",
    "\n",
    "df = pl.DataFrame(data)"
   ]
  },
  {
   "cell_type": "code",
   "execution_count": null,
   "id": "b97d8faf",
   "metadata": {},
   "outputs": [],
   "source": [
    "df"
   ]
  },
  {
   "cell_type": "code",
   "execution_count": null,
   "id": "55e8b841",
   "metadata": {},
   "outputs": [],
   "source": [
    "with pl.Config(tbl_cols=-1, fmt_str_lengths=4):\n",
    "    print(df)"
   ]
  },
  {
   "cell_type": "code",
   "execution_count": null,
   "id": "5f4619bd",
   "metadata": {},
   "outputs": [],
   "source": [
    "class YourContextManager:\n",
    "    def __enter__(self):\n",
    "        print(\"Entering context\")\n",
    "\n",
    "    def __exit__(self, type, value, traceback):\n",
    "        print(\"Exiting context\")\n",
    "\n",
    "\n",
    "with YourContextManager():\n",
    "    print(\"Your code\")"
   ]
  },
  {
   "cell_type": "code",
   "execution_count": null,
   "id": "9381fae3",
   "metadata": {},
   "outputs": [],
   "source": [
    "with open(\"data/fruit.csv\", \"r\") as file:\n",
    "    print(file.readline())"
   ]
  },
  {
   "cell_type": "markdown",
   "id": "5cc1c5ef",
   "metadata": {},
   "source": [
    "### Local Configuration Using a Decorator"
   ]
  },
  {
   "cell_type": "code",
   "execution_count": null,
   "id": "4774fe77",
   "metadata": {},
   "outputs": [],
   "source": [
    "@pl.Config(ascii_tables=True)\n",
    "def write_ascii_frame_to_stdout(df: pl.DataFrame) -> None:\n",
    "    print(str(df))\n",
    "\n",
    "\n",
    "@pl.Config(verbose=True)\n",
    "def function_that_im_debugging(df: pl.DataFrame) -> None:\n",
    "    # Polars operation you want to see the verbose logging of\n",
    "    pass"
   ]
  },
  {
   "cell_type": "markdown",
   "id": "1c239109",
   "metadata": {},
   "source": [
    "## Downloading Datasets and Code Examples"
   ]
  },
  {
   "cell_type": "code",
   "execution_count": null,
   "id": "0701788a",
   "metadata": {},
   "outputs": [],
   "source": [
    "$ git clone https://github.com/jeroenjanssens/python-polars-the-definitive-guide"
   ]
  },
  {
   "cell_type": "code",
   "execution_count": null,
   "id": "c10cdf24",
   "metadata": {},
   "outputs": [],
   "source": [
    "$ cd python-polars-the-definitive-guide\n",
    "$ pip install -r requirements.txt"
   ]
  },
  {
   "cell_type": "markdown",
   "id": "b54966a6",
   "metadata": {},
   "source": [
    "## Crash Course JupyterLab"
   ]
  },
  {
   "cell_type": "markdown",
   "id": "d1ba8b22",
   "metadata": {},
   "source": [
    "### Keyboard Shortcuts"
   ]
  },
  {
   "cell_type": "markdown",
   "id": "e4352db3",
   "metadata": {},
   "source": [
    "#### Any Mode"
   ]
  },
  {
   "cell_type": "markdown",
   "id": "f4936991",
   "metadata": {},
   "source": [
    "#### Command Mode"
   ]
  },
  {
   "cell_type": "markdown",
   "id": "4f74cea8",
   "metadata": {},
   "source": [
    "#### Edit Mode"
   ]
  },
  {
   "cell_type": "markdown",
   "id": "e21524a4",
   "metadata": {},
   "source": [
    "## Using Polars in a Docker Container"
   ]
  },
  {
   "cell_type": "markdown",
   "id": "6f4c7b44",
   "metadata": {},
   "source": [
    "## Takeaways"
   ]
  }
 ],
 "metadata": {},
 "nbformat": 4,
 "nbformat_minor": 5
}
