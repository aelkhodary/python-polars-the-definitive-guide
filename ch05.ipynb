{
 "cells": [
  {
   "cell_type": "markdown",
   "id": "3ea90497",
   "metadata": {},
   "source": [
    "# Chapter 5: Eager and Lazy APIs"
   ]
  },
  {
   "cell_type": "code",
   "execution_count": 1,
   "id": "354a3db6",
   "metadata": {},
   "outputs": [],
   "source": [
    "import polars as pl\n",
    "pl.show_versions()  # The book is built with Polars version 1.0.0"
   ]
  },
  {
   "cell_type": "markdown",
   "id": "ea596e1e",
   "metadata": {},
   "source": [
    "## Eager API: DataFrame"
   ]
  },
  {
   "cell_type": "code",
   "execution_count": 3,
   "id": "bc3c1280",
   "metadata": {},
   "outputs": [],
   "source": [
    "import polars as pl"
   ]
  },
  {
   "cell_type": "markdown",
   "id": "dbf9053c",
   "metadata": {},
   "source": [
    "## Lazy API: LazyFrame"
   ]
  },
  {
   "cell_type": "code",
   "execution_count": 5,
   "id": "5aa960a9",
   "metadata": {},
   "outputs": [],
   "source": [
    "ldf = pl.LazyFrame({\n",
    "    \"name\": [\"Alice\", \"Bob\", \"Charlie\"],\n",
    "    \"age\": [25, 30, 35]\n",
    "})\n",
    "\n",
    "erroneous_query = ldf.with_columns(\n",
    "    pl.col(\"age\").str.slice(1,3).alias(\"sliced_age\")\n",
    ")\n",
    "\n",
    "result_df = erroneous_query.collect()"
   ]
  },
  {
   "cell_type": "markdown",
   "id": "bd905461",
   "metadata": {},
   "source": [
    "## Performance Differences"
   ]
  },
  {
   "cell_type": "code",
   "execution_count": 7,
   "id": "cc54e7ad",
   "metadata": {},
   "outputs": [],
   "source": [
    "lf = pl.LazyFrame({\"col1\": [1,2,3], \"col2\": [4,5,6]})\n",
    "# Some heavy computation\n",
    "print(lf.collect())\n",
    "print(lf.with_columns(pl.col(\"col1\") + 1).collect())  # Recalculates the LazyFrame"
   ]
  },
  {
   "cell_type": "markdown",
   "id": "763626c2",
   "metadata": {},
   "source": [
    "## Functionality Differences"
   ]
  },
  {
   "cell_type": "markdown",
   "id": "40d47dea",
   "metadata": {},
   "source": [
    "### Aggregations"
   ]
  },
  {
   "cell_type": "markdown",
   "id": "070dbccf",
   "metadata": {},
   "source": [
    "### Attributes"
   ]
  },
  {
   "cell_type": "markdown",
   "id": "fbd8a9c5",
   "metadata": {},
   "source": [
    "### Computation"
   ]
  },
  {
   "cell_type": "markdown",
   "id": "731c5f8c",
   "metadata": {},
   "source": [
    "### Descriptive"
   ]
  },
  {
   "cell_type": "markdown",
   "id": "ffee547a",
   "metadata": {},
   "source": [
    "### GroupBy"
   ]
  },
  {
   "cell_type": "markdown",
   "id": "afbd0127",
   "metadata": {},
   "source": [
    "### Exporting"
   ]
  },
  {
   "cell_type": "markdown",
   "id": "0a4dd3ce",
   "metadata": {},
   "source": [
    "### Manipulation and Selection"
   ]
  },
  {
   "cell_type": "markdown",
   "id": "731a7c80",
   "metadata": {},
   "source": [
    "### Miscellaneous"
   ]
  },
  {
   "cell_type": "markdown",
   "id": "285a27f8",
   "metadata": {},
   "source": [
    "## Out-of-Core Computation with Lazy API's Streaming Mode"
   ]
  },
  {
   "cell_type": "markdown",
   "id": "85618f13",
   "metadata": {},
   "source": [
    "## Tips and Tricks"
   ]
  },
  {
   "cell_type": "markdown",
   "id": "2aca8059",
   "metadata": {},
   "source": [
    "### Going from LazyFrame to DataFrame and Vice Versa"
   ]
  },
  {
   "cell_type": "markdown",
   "id": "06d27f59",
   "metadata": {},
   "source": [
    "### Joining a DataFrame and a LazyFrame"
   ]
  },
  {
   "cell_type": "code",
   "execution_count": 21,
   "id": "e85df512",
   "metadata": {},
   "outputs": [],
   "source": [
    "lf = pl.LazyFrame({\"id\": [1,2,3], \"value1\": [4,5,6]})\n",
    "df = pl.DataFrame({\"id\": [1,2,3], \"value2\": [7,8,9]})\n",
    "\n",
    "lf.join(df, on=\"id\")"
   ]
  },
  {
   "cell_type": "code",
   "execution_count": 22,
   "id": "a3e944d1",
   "metadata": {},
   "outputs": [],
   "source": [
    "lf = pl.LazyFrame({\"id\": [1,2,3], \"value1\": [4,5,6]})\n",
    "df = pl.DataFrame({\"id\": [1,2,3], \"value2\": [7,8,9]})\n",
    "\n",
    "lf.join(df.lazy(), on=\"id\")"
   ]
  },
  {
   "cell_type": "markdown",
   "id": "68c44974",
   "metadata": {},
   "source": [
    "### Caching Intermittent Stages"
   ]
  },
  {
   "cell_type": "code",
   "execution_count": 24,
   "id": "408d661c",
   "metadata": {},
   "outputs": [],
   "source": [
    "lf = pl.LazyFrame({\"col1\": [1,2,3], \"col2\": [4,5,6]})\n",
    "# Some heavy computation\n",
    "lf = lf.collect().lazy()\n",
    "print(lf.collect())\n",
    "print(lf.with_columns(pl.col(\"col1\") + 1).collect())  # Utilizes the cached LazyFrame"
   ]
  },
  {
   "cell_type": "markdown",
   "id": "28a30747",
   "metadata": {},
   "source": [
    "## Conclusion"
   ]
  }
 ],
 "metadata": {},
 "nbformat": 4,
 "nbformat_minor": 5
}
