{
 "cells": [
  {
   "cell_type": "markdown",
   "id": "58e276f6",
   "metadata": {},
   "source": [
    "# Chapter 5: Eager and Lazy APIs"
   ]
  },
  {
   "cell_type": "code",
   "execution_count": 1,
   "id": "8de3f45c",
   "metadata": {},
   "outputs": [],
   "source": [
    "import polars as pl\n",
    "pl.show_versions()  # The book is built with Polars version 1.0.0"
   ]
  },
  {
   "cell_type": "markdown",
   "id": "c503f8de",
   "metadata": {},
   "source": [
    "## Eager API: DataFrame"
   ]
  },
  {
   "cell_type": "code",
   "execution_count": 3,
   "id": "877ce45a",
   "metadata": {},
   "outputs": [],
   "source": [
    "import polars as pl"
   ]
  },
  {
   "cell_type": "markdown",
   "id": "75d8e19a",
   "metadata": {},
   "source": [
    "## Lazy API: LazyFrame"
   ]
  },
  {
   "cell_type": "code",
   "execution_count": 5,
   "id": "0ceee554",
   "metadata": {},
   "outputs": [],
   "source": [
    "ldf = pl.LazyFrame({\n",
    "    \"name\": [\"Alice\", \"Bob\", \"Charlie\"],\n",
    "    \"age\": [25, 30, 35]\n",
    "})\n",
    "\n",
    "erroneous_query = ldf.with_columns(\n",
    "    pl.col(\"age\").str.slice(1,3).alias(\"sliced_age\")\n",
    ")\n",
    "\n",
    "result_df = erroneous_query.collect()"
   ]
  },
  {
   "cell_type": "markdown",
   "id": "45631515",
   "metadata": {},
   "source": [
    "## Performance Differences"
   ]
  },
  {
   "cell_type": "code",
   "execution_count": 7,
   "id": "46da8f9f",
   "metadata": {},
   "outputs": [],
   "source": [
    "lf = pl.LazyFrame({\"col1\": [1,2,3], \"col2\": [4,5,6]})\n",
    "# Some heavy computation\n",
    "print(lf.collect())\n",
    "print(lf.with_columns(pl.col(\"col1\") + 1).collect())  # Recalculates the LazyFrame"
   ]
  },
  {
   "cell_type": "markdown",
   "id": "e2b03c26",
   "metadata": {},
   "source": [
    "## Functionality Differences"
   ]
  },
  {
   "cell_type": "markdown",
   "id": "7f6bb8a8",
   "metadata": {},
   "source": [
    "### Aggregations"
   ]
  },
  {
   "cell_type": "markdown",
   "id": "9f314a02",
   "metadata": {},
   "source": [
    "### Attributes"
   ]
  },
  {
   "cell_type": "markdown",
   "id": "317976e7",
   "metadata": {},
   "source": [
    "### Computation"
   ]
  },
  {
   "cell_type": "markdown",
   "id": "08bb5399",
   "metadata": {},
   "source": [
    "### Descriptive"
   ]
  },
  {
   "cell_type": "markdown",
   "id": "1f419ab4",
   "metadata": {},
   "source": [
    "### GroupBy"
   ]
  },
  {
   "cell_type": "markdown",
   "id": "1275edb2",
   "metadata": {},
   "source": [
    "### Exporting"
   ]
  },
  {
   "cell_type": "markdown",
   "id": "b01d4ef4",
   "metadata": {},
   "source": [
    "### Manipulation and Selection"
   ]
  },
  {
   "cell_type": "markdown",
   "id": "c0afeacb",
   "metadata": {},
   "source": [
    "### Miscellaneous"
   ]
  },
  {
   "cell_type": "markdown",
   "id": "cb3abac9",
   "metadata": {},
   "source": [
    "## Out-of-Core Computation with Lazy API's Streaming Mode"
   ]
  },
  {
   "cell_type": "markdown",
   "id": "8329a8d0",
   "metadata": {},
   "source": [
    "## Tips and Tricks"
   ]
  },
  {
   "cell_type": "markdown",
   "id": "99ca3454",
   "metadata": {},
   "source": [
    "### Going from LazyFrame to DataFrame and Vice Versa"
   ]
  },
  {
   "cell_type": "markdown",
   "id": "2838ac02",
   "metadata": {},
   "source": [
    "### Joining a DataFrame and a LazyFrame"
   ]
  },
  {
   "cell_type": "code",
   "execution_count": 21,
   "id": "98aaa6bd",
   "metadata": {},
   "outputs": [],
   "source": [
    "lf = pl.LazyFrame({\"id\": [1,2,3], \"value1\": [4,5,6]})\n",
    "df = pl.DataFrame({\"id\": [1,2,3], \"value2\": [7,8,9]})\n",
    "\n",
    "lf.join(df, on=\"id\")"
   ]
  },
  {
   "cell_type": "code",
   "execution_count": 22,
   "id": "374500bd",
   "metadata": {},
   "outputs": [],
   "source": [
    "lf = pl.LazyFrame({\"id\": [1,2,3], \"value1\": [4,5,6]})\n",
    "df = pl.DataFrame({\"id\": [1,2,3], \"value2\": [7,8,9]})\n",
    "\n",
    "lf.join(df.lazy(), on=\"id\")"
   ]
  },
  {
   "cell_type": "markdown",
   "id": "400acc5d",
   "metadata": {},
   "source": [
    "### Caching Intermittent Stages"
   ]
  },
  {
   "cell_type": "code",
   "execution_count": 24,
   "id": "85cc20a3",
   "metadata": {},
   "outputs": [],
   "source": [
    "lf = pl.LazyFrame({\"col1\": [1,2,3], \"col2\": [4,5,6]})\n",
    "# Some heavy computation\n",
    "lf = lf.collect().lazy()\n",
    "print(lf.collect())\n",
    "print(lf.with_columns(pl.col(\"col1\") + 1).collect())  # Utilizes the cached LazyFrame"
   ]
  },
  {
   "cell_type": "markdown",
   "id": "ab7fc19e",
   "metadata": {},
   "source": [
    "## Conclusion"
   ]
  }
 ],
 "metadata": {},
 "nbformat": 4,
 "nbformat_minor": 5
}
