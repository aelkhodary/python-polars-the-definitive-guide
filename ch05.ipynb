{
 "cells": [
  {
   "cell_type": "markdown",
   "id": "8a12274e",
   "metadata": {},
   "source": [
    "# Chapter 5: Data Types and Data Structures"
   ]
  },
  {
   "cell_type": "code",
   "execution_count": 1,
   "id": "947544a1",
   "metadata": {},
   "outputs": [
    {
     "name": "stdout",
     "output_type": "stream",
     "text": [
      "--------Version info---------\n",
      "Polars:               0.20.7\n",
      "Index type:           UInt32\n",
      "Platform:             macOS-12.5-arm64-arm-64bit\n",
      "Python:               3.11.7 (main, Jan 16 2024, 14:42:22) [Clang 14.0.0 (clang-1400.0.29.202)]\n",
      "\n",
      "----Optional dependencies----\n",
      "adbc_driver_manager:  0.8.0\n",
      "cloudpickle:          3.0.0\n",
      "connectorx:           0.3.2\n",
      "deltalake:            0.15.0\n",
      "fsspec:               2023.12.2\n",
      "gevent:               23.9.1\n",
      "hvplot:               0.9.2\n",
      "matplotlib:           3.8.2\n",
      "numpy:                1.26.3\n",
      "openpyxl:             3.1.2\n",
      "pandas:               2.1.4\n",
      "pyarrow:              14.0.2\n",
      "pydantic:             2.5.3\n",
      "pyiceberg:            0.5.1\n",
      "pyxlsb:               <not installed>\n",
      "sqlalchemy:           2.0.25\n",
      "xlsx2csv:             0.8.2\n",
      "xlsxwriter:           3.1.9\n"
     ]
    }
   ],
   "source": [
    "import polars as pl\n",
    "pl.show_versions()"
   ]
  },
  {
   "cell_type": "markdown",
   "id": "db70f885",
   "metadata": {},
   "source": [
    "## Arrow Data Types"
   ]
  },
  {
   "cell_type": "markdown",
   "id": "b70bf319",
   "metadata": {},
   "source": [
    "### Nested Data Types"
   ]
  },
  {
   "cell_type": "code",
   "execution_count": 4,
   "id": "85695097",
   "metadata": {},
   "outputs": [
    {
     "data": {
      "text/html": [
       "<div><style>\n",
       ".dataframe > thead > tr,\n",
       ".dataframe > tbody > tr {\n",
       "  text-align: right;\n",
       "  white-space: pre-wrap;\n",
       "}\n",
       "</style>\n",
       "<small>shape: (2, 2)</small><table border=\"1\" class=\"dataframe\"><thead><tr><th>array_1</th><th>array_2</th></tr><tr><td>array[i64, 2]</td><td>array[i64, 3]</td></tr></thead><tbody><tr><td>[1, 3]</td><td>[1, 7, 3]</td></tr><tr><td>[2, 5]</td><td>[8, 1, 0]</td></tr></tbody></table></div>"
      ],
      "text/plain": [
       "shape: (2, 2)\n",
       "┌───────────────┬───────────────┐\n",
       "│ array_1       ┆ array_2       │\n",
       "│ ---           ┆ ---           │\n",
       "│ array[i64, 2] ┆ array[i64, 3] │\n",
       "╞═══════════════╪═══════════════╡\n",
       "│ [1, 3]        ┆ [1, 7, 3]     │\n",
       "│ [2, 5]        ┆ [8, 1, 0]     │\n",
       "└───────────────┴───────────────┘"
      ]
     },
     "execution_count": 2,
     "metadata": {},
     "output_type": "execute_result"
    }
   ],
   "source": [
    "import polars as pl\n",
    "\n",
    "array_df = pl.DataFrame(\n",
    "    [\n",
    "        pl.Series(\"array_1\", [[1, 3], [2, 5]]),\n",
    "        pl.Series(\"array_2\", [[1, 7, 3], [8, 1, 0]]),\n",
    "    ],\n",
    "    schema={\n",
    "        \"array_1\": pl.Array(width=2, inner=pl.Int64),\n",
    "        \"array_2\": pl.Array(width=3, inner=pl.Int64)\n",
    "    }\n",
    ")\n",
    "array_df"
   ]
  },
  {
   "cell_type": "code",
   "execution_count": 5,
   "id": "fb670085",
   "metadata": {},
   "outputs": [
    {
     "data": {
      "text/html": [
       "<div><style>\n",
       ".dataframe > thead > tr,\n",
       ".dataframe > tbody > tr {\n",
       "  text-align: right;\n",
       "  white-space: pre-wrap;\n",
       "}\n",
       "</style>\n",
       "<small>shape: (2, 2)</small><table border=\"1\" class=\"dataframe\"><thead><tr><th>integer_lists</th><th>float_lists</th></tr><tr><td>list[i64]</td><td>list[f64]</td></tr></thead><tbody><tr><td>[1, 2]</td><td>[1.0, 2.0]</td></tr><tr><td>[3, 4]</td><td>[3.0, 4.0]</td></tr></tbody></table></div>"
      ],
      "text/plain": [
       "shape: (2, 2)\n",
       "┌───────────────┬─────────────┐\n",
       "│ integer_lists ┆ float_lists │\n",
       "│ ---           ┆ ---         │\n",
       "│ list[i64]     ┆ list[f64]   │\n",
       "╞═══════════════╪═════════════╡\n",
       "│ [1, 2]        ┆ [1.0, 2.0]  │\n",
       "│ [3, 4]        ┆ [3.0, 4.0]  │\n",
       "└───────────────┴─────────────┘"
      ]
     },
     "execution_count": 3,
     "metadata": {},
     "output_type": "execute_result"
    }
   ],
   "source": [
    "list_df = pl.DataFrame(\n",
    "    {\n",
    "        \"integer_lists\": [[1, 2], [3, 4]],\n",
    "        \"float_lists\": [[1.0, 2.0], [3.0, 4.0]],\n",
    "    }\n",
    ")\n",
    "list_df"
   ]
  },
  {
   "cell_type": "code",
   "execution_count": 6,
   "id": "7c718658",
   "metadata": {},
   "outputs": [
    {
     "data": {
      "text/html": [
       "<div><style>\n",
       ".dataframe > thead > tr,\n",
       ".dataframe > tbody > tr {\n",
       "  text-align: right;\n",
       "  white-space: pre-wrap;\n",
       "}\n",
       "</style>\n",
       "<small>shape: (2,)</small><table border=\"1\" class=\"dataframe\"><thead><tr><th>ratings</th></tr><tr><td>struct[3]</td></tr></thead><tbody><tr><td>{&quot;Cars&quot;,&quot;NE&quot;,4.5}</td></tr><tr><td>{&quot;Toy Story&quot;,&quot;ME&quot;,4.9}</td></tr></tbody></table></div>"
      ],
      "text/plain": [
       "shape: (2,)\n",
       "Series: 'ratings' [struct[3]]\n",
       "[\n",
       "\t{\"Cars\",\"NE\",4.5}\n",
       "\t{\"Toy Story\",\"ME\",4.9}\n",
       "]"
      ]
     },
     "execution_count": 4,
     "metadata": {},
     "output_type": "execute_result"
    }
   ],
   "source": [
    "rating_series = pl.Series(\n",
    "    \"ratings\",\n",
    "    [\n",
    "        {\"Movie\": \"Cars\", \"Theatre\": \"NE\", \"Avg_Rating\": 4.5},\n",
    "        {\"Movie\": \"Toy Story\", \"Theatre\": \"ME\", \"Avg_Rating\": 4.9},\n",
    "    ],\n",
    ")\n",
    "rating_series"
   ]
  },
  {
   "cell_type": "markdown",
   "id": "b720ab41",
   "metadata": {},
   "source": [
    "## Series, DataFrame, and LazyFrame"
   ]
  },
  {
   "cell_type": "markdown",
   "id": "ae39ce8a",
   "metadata": {},
   "source": [
    "## Data Type Conversion"
   ]
  },
  {
   "cell_type": "code",
   "execution_count": 9,
   "id": "d25e1c85",
   "metadata": {},
   "outputs": [
    {
     "name": "stdout",
     "output_type": "stream",
     "text": [
      "shape: (3, 1)\n",
      "┌─────┐\n",
      "│ id  │\n",
      "│ --- │\n",
      "│ str │\n",
      "╞═════╡\n",
      "│ 1   │\n",
      "│ 2   │\n",
      "│ 3   │\n",
      "└─────┘\n",
      "Estimated size: 48 bytes\n"
     ]
    }
   ],
   "source": [
    "string_df = pl.DataFrame({\"id\": [\"1\", \"2\", \"3\"]})\n",
    "print(string_df)\n",
    "print(f\"Estimated size: {string_df.estimated_size('b')} bytes\")"
   ]
  },
  {
   "cell_type": "code",
   "execution_count": 10,
   "id": "d3dab636",
   "metadata": {},
   "outputs": [
    {
     "name": "stdout",
     "output_type": "stream",
     "text": [
      "shape: (3, 1)\n",
      "┌─────┐\n",
      "│ id  │\n",
      "│ --- │\n",
      "│ u8  │\n",
      "╞═════╡\n",
      "│ 1   │\n",
      "│ 2   │\n",
      "│ 3   │\n",
      "└─────┘\n",
      "Estimated size: 3 bytes\n"
     ]
    }
   ],
   "source": [
    "int_df = string_df.select(pl.col(\"id\").cast(pl.UInt8))\n",
    "print(int_df)\n",
    "print(f\"Estimated size: {int_df.estimated_size('b')} bytes\")"
   ]
  },
  {
   "cell_type": "markdown",
   "id": "3f57e6fa",
   "metadata": {},
   "source": [
    "## Conclusion"
   ]
  }
 ],
 "metadata": {
  "language_info": {
   "codemirror_mode": {
    "name": "ipython",
    "version": 3
   },
   "file_extension": ".py",
   "mimetype": "text/x-python",
   "name": "python",
   "nbconvert_exporter": "python",
   "pygments_lexer": "ipython3",
   "version": "3.11.7"
  }
 },
 "nbformat": 4,
 "nbformat_minor": 5
}
