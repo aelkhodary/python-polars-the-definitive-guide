{
 "cells": [
  {
   "cell_type": "markdown",
   "id": "26997d1e",
   "metadata": {},
   "source": [
    "# Chapter 5: Eager and Lazy APIs"
   ]
  },
  {
   "cell_type": "code",
   "execution_count": null,
   "id": "a9568db4",
   "metadata": {},
   "outputs": [],
   "source": [
    "import polars as pl\n",
    "pl.show_versions()  # The book is built with Polars version 1.13.1"
   ]
  },
  {
   "cell_type": "markdown",
   "id": "a574ca5a",
   "metadata": {},
   "source": [
    "## Eager API: DataFrame"
   ]
  },
  {
   "cell_type": "code",
   "execution_count": null,
   "id": "428ffb8a",
   "metadata": {},
   "outputs": [],
   "source": [
    "%%time\n",
    "trips = pl.read_parquet(\"data/taxi/yellow_tripdata_*.parquet\")  \n",
    "sum_per_vendor = trips.group_by(\"VendorID\").sum()  \n",
    "\n",
    "income_per_distance_per_vendor = sum_per_vendor.select(\n",
    "    \"VendorID\",\n",
    "    income_per_distance=pl.col(\"total_amount\") / pl.col(\"trip_distance\"),\n",
    ")\n",
    "\n",
    "top_three = income_per_distance_per_vendor.sort(  \n",
    "    by=\"income_per_distance\", descending=True\n",
    ").head(3)\n",
    "\n",
    "top_three"
   ]
  },
  {
   "cell_type": "markdown",
   "id": "87c2db9d",
   "metadata": {},
   "source": [
    "## Lazy API: LazyFrame"
   ]
  },
  {
   "cell_type": "code",
   "execution_count": null,
   "id": "679d59ec",
   "metadata": {},
   "outputs": [],
   "source": [
    "# This raises a SchemaError:\n",
    "# names_lf = pl.LazyFrame({\"name\": [\"Alice\", \"Bob\", \"Charlie\"], \"age\": [25, 30, 35]})\n",
    "\n",
    "# erroneous_query = names_lf.with_columns(\n",
    "#     sliced_age=pl.col(\"age\").str.slice(1, 3)\n",
    "# )\n",
    "\n",
    "# result_df = erroneous_query.collect()"
   ]
  },
  {
   "cell_type": "markdown",
   "id": "c68bce0e",
   "metadata": {},
   "source": [
    "## Performance Differences"
   ]
  },
  {
   "cell_type": "code",
   "execution_count": null,
   "id": "4da1171c",
   "metadata": {},
   "outputs": [],
   "source": [
    "%%time\n",
    "trips = pl.scan_parquet(\"data/taxi/yellow_tripdata_*.parquet\")\n",
    "sum_per_vendor = trips.group_by(\"VendorID\").sum()\n",
    "\n",
    "income_per_distance_per_vendor = sum_per_vendor.select(\n",
    "    \"VendorID\",\n",
    "    income_per_distance=pl.col(\"total_amount\") / pl.col(\"trip_distance\"),\n",
    ")\n",
    "\n",
    "top_three = income_per_distance_per_vendor.sort(\n",
    "    by=\"income_per_distance\", descending=True\n",
    ").head(3)\n",
    "\n",
    "top_three.collect()"
   ]
  },
  {
   "cell_type": "code",
   "execution_count": null,
   "id": "ecc843fe",
   "metadata": {},
   "outputs": [],
   "source": [
    "lf = pl.LazyFrame({\"col1\": [1, 2, 3], \"col2\": [4, 5, 6]})\n",
    "\n",
    "# ... Some heavy computation ...\n",
    "\n",
    "print(lf.collect())\n",
    "\n",
    "print(lf.with_columns(pl.col(\"col1\") + 1).collect())  "
   ]
  },
  {
   "cell_type": "markdown",
   "id": "327c8196",
   "metadata": {},
   "source": [
    "## Functionality Differences"
   ]
  },
  {
   "cell_type": "markdown",
   "id": "554e4e9e",
   "metadata": {},
   "source": [
    "### Attributes"
   ]
  },
  {
   "cell_type": "markdown",
   "id": "e34c4ba4",
   "metadata": {},
   "source": [
    "### Aggregation Methods"
   ]
  },
  {
   "cell_type": "markdown",
   "id": "9c5d2c61",
   "metadata": {},
   "source": [
    "### Computation Methods"
   ]
  },
  {
   "cell_type": "markdown",
   "id": "8d1b0e2b",
   "metadata": {},
   "source": [
    "### Descriptive Methods"
   ]
  },
  {
   "cell_type": "markdown",
   "id": "e5c98d78",
   "metadata": {},
   "source": [
    "### Group By Methods"
   ]
  },
  {
   "cell_type": "markdown",
   "id": "070c87fe",
   "metadata": {},
   "source": [
    "### Exporting Methods"
   ]
  },
  {
   "cell_type": "markdown",
   "id": "fd98762c",
   "metadata": {},
   "source": [
    "### Manipulation and Selection Methods"
   ]
  },
  {
   "cell_type": "markdown",
   "id": "f884cdea",
   "metadata": {},
   "source": [
    "### Miscellaneous Methods"
   ]
  },
  {
   "cell_type": "markdown",
   "id": "ac9fec7e",
   "metadata": {},
   "source": [
    "## Tips and Tricks"
   ]
  },
  {
   "cell_type": "markdown",
   "id": "6ce1b5da",
   "metadata": {},
   "source": [
    "### Going from LazyFrame to DataFrame and Vice Versa"
   ]
  },
  {
   "cell_type": "markdown",
   "id": "14673f2b",
   "metadata": {},
   "source": [
    "### Joining a DataFrame With a LazyFrame"
   ]
  },
  {
   "cell_type": "code",
   "execution_count": null,
   "id": "e1b26801",
   "metadata": {},
   "outputs": [],
   "source": [
    "# This raises a TypeError:\n",
    "# big_sales_data = pl.LazyFrame(\n",
    "#     {\"sale_id\": [101, 102, 103], \"amount\": [250, 150, 300]}\n",
    "# )\n",
    "#\n",
    "# sales_metadata = pl.DataFrame(\n",
    "#     {\"sale_id\": [101, 102, 103], \"category\": [\"A\", \"B\", \"A\"]}\n",
    "# )\n",
    "#\n",
    "# big_sales_data.join(sales_metadata, on=\"sale_id\").collect()"
   ]
  },
  {
   "cell_type": "code",
   "execution_count": null,
   "id": "12b38859",
   "metadata": {},
   "outputs": [],
   "source": [
    "big_sales_data = pl.LazyFrame(\n",
    "    {\"sale_id\": [101, 102, 103], \"amount\": [250, 150, 300]}\n",
    ")\n",
    "\n",
    "sales_metadata = pl.DataFrame(\n",
    "    {\"sale_id\": [101, 102, 103], \"category\": [\"A\", \"B\", \"A\"]}\n",
    ")\n",
    "\n",
    "big_sales_data.join(sales_metadata.lazy(), on=\"sale_id\").collect()"
   ]
  },
  {
   "cell_type": "markdown",
   "id": "22b363ad",
   "metadata": {},
   "source": [
    "### Caching Intermittent Results"
   ]
  },
  {
   "cell_type": "code",
   "execution_count": null,
   "id": "cfc28355",
   "metadata": {},
   "outputs": [],
   "source": [
    "lf = pl.LazyFrame({\"col1\": [1, 2, 3], \"col2\": [4, 5, 6]})\n",
    "\n",
    "# ... Some heavy computation ...\n",
    "\n",
    "lf = lf.collect().lazy()  \n",
    "print(lf.collect())\n",
    "\n",
    "print(lf.with_columns(pl.col(\"col1\") + 1).collect())  "
   ]
  },
  {
   "cell_type": "markdown",
   "id": "465ed7a2",
   "metadata": {},
   "source": [
    "## Takeaways"
   ]
  }
 ],
 "metadata": {},
 "nbformat": 4,
 "nbformat_minor": 5
}
