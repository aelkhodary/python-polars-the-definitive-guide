{
 "cells": [
  {
   "cell_type": "markdown",
   "id": "019c59a3",
   "metadata": {},
   "source": [
    "# Chapter 5: Eager and Lazy APIs"
   ]
  },
  {
   "cell_type": "code",
   "execution_count": null,
   "id": "22f7cd97",
   "metadata": {},
   "outputs": [],
   "source": [
    "import polars as pl\n",
    "pl.show_versions()  # The book is built with Polars version 1.13.1"
   ]
  },
  {
   "cell_type": "markdown",
   "id": "ab01f5ab",
   "metadata": {},
   "source": [
    "## Eager API: DataFrame"
   ]
  },
  {
   "cell_type": "code",
   "execution_count": null,
   "id": "dc73a49c",
   "metadata": {},
   "outputs": [],
   "source": [
    "%%time\n",
    "trips = pl.read_parquet(\"data/taxi/yellow_tripdata_*.parquet\")  \n",
    "sum_per_vendor = trips.group_by(\"VendorID\").sum()  \n",
    "\n",
    "income_per_distance_per_vendor = sum_per_vendor.select(\n",
    "    \"VendorID\",\n",
    "    income_per_distance=pl.col(\"total_amount\") / pl.col(\"trip_distance\"),\n",
    ")\n",
    "\n",
    "top_three = income_per_distance_per_vendor.sort(  \n",
    "    by=\"income_per_distance\", descending=True\n",
    ").head(3)\n",
    "\n",
    "top_three"
   ]
  },
  {
   "cell_type": "markdown",
   "id": "749d8d96",
   "metadata": {},
   "source": [
    "## Lazy API: LazyFrame"
   ]
  },
  {
   "cell_type": "code",
   "execution_count": null,
   "id": "ec8f30f0",
   "metadata": {},
   "outputs": [],
   "source": [
    "# This raises a SchemaError:\n",
    "# names_lf = pl.LazyFrame({\"name\": [\"Alice\", \"Bob\", \"Charlie\"], \"age\": [25, 30, 35]})\n",
    "\n",
    "# erroneous_query = names_lf.with_columns(\n",
    "#     sliced_age=pl.col(\"age\").str.slice(1, 3)\n",
    "# )\n",
    "\n",
    "# result_df = erroneous_query.collect()"
   ]
  },
  {
   "cell_type": "markdown",
   "id": "79cc8675",
   "metadata": {},
   "source": [
    "## Performance Differences"
   ]
  },
  {
   "cell_type": "code",
   "execution_count": null,
   "id": "30cfc32b",
   "metadata": {},
   "outputs": [],
   "source": [
    "%%time\n",
    "trips = pl.scan_parquet(\"data/taxi/yellow_tripdata_*.parquet\")\n",
    "sum_per_vendor = trips.group_by(\"VendorID\").sum()\n",
    "\n",
    "income_per_distance_per_vendor = sum_per_vendor.select(\n",
    "    \"VendorID\",\n",
    "    income_per_distance=pl.col(\"total_amount\") / pl.col(\"trip_distance\"),\n",
    ")\n",
    "\n",
    "top_three = income_per_distance_per_vendor.sort(\n",
    "    by=\"income_per_distance\", descending=True\n",
    ").head(3)\n",
    "\n",
    "top_three.collect()"
   ]
  },
  {
   "cell_type": "code",
   "execution_count": null,
   "id": "678a6c68",
   "metadata": {},
   "outputs": [],
   "source": [
    "lf = pl.LazyFrame({\"col1\": [1, 2, 3], \"col2\": [4, 5, 6]})\n",
    "\n",
    "# ... Some heavy computation ...\n",
    "\n",
    "print(lf.collect())\n",
    "\n",
    "print(lf.with_columns(pl.col(\"col1\") + 1).collect())  "
   ]
  },
  {
   "cell_type": "markdown",
   "id": "de426762",
   "metadata": {},
   "source": [
    "## Functionality Differences"
   ]
  },
  {
   "cell_type": "markdown",
   "id": "e1db9dcb",
   "metadata": {},
   "source": [
    "### Attributes"
   ]
  },
  {
   "cell_type": "markdown",
   "id": "e3d6f9c2",
   "metadata": {},
   "source": [
    "### Aggregation Methods"
   ]
  },
  {
   "cell_type": "markdown",
   "id": "aed796af",
   "metadata": {},
   "source": [
    "### Computation Methods"
   ]
  },
  {
   "cell_type": "markdown",
   "id": "d0d0efd5",
   "metadata": {},
   "source": [
    "### Descriptive Methods"
   ]
  },
  {
   "cell_type": "markdown",
   "id": "4551c05d",
   "metadata": {},
   "source": [
    "### Group By Methods"
   ]
  },
  {
   "cell_type": "markdown",
   "id": "31b2cc96",
   "metadata": {},
   "source": [
    "### Exporting Methods"
   ]
  },
  {
   "cell_type": "markdown",
   "id": "fa282065",
   "metadata": {},
   "source": [
    "### Manipulation and Selection Methods"
   ]
  },
  {
   "cell_type": "markdown",
   "id": "8b0e53a5",
   "metadata": {},
   "source": [
    "### Miscellaneous Methods"
   ]
  },
  {
   "cell_type": "markdown",
   "id": "ea4dff89",
   "metadata": {},
   "source": [
    "## Tips and Tricks"
   ]
  },
  {
   "cell_type": "markdown",
   "id": "31494178",
   "metadata": {},
   "source": [
    "### Going from LazyFrame to DataFrame and Vice Versa"
   ]
  },
  {
   "cell_type": "markdown",
   "id": "5b6ac250",
   "metadata": {},
   "source": [
    "### Joining a DataFrame With a LazyFrame"
   ]
  },
  {
   "cell_type": "code",
   "execution_count": null,
   "id": "de837d56",
   "metadata": {},
   "outputs": [],
   "source": [
    "# This raises a TypeError:\n",
    "# big_sales_data = pl.LazyFrame(\n",
    "#     {\"sale_id\": [101, 102, 103], \"amount\": [250, 150, 300]}\n",
    "# )\n",
    "#\n",
    "# sales_metadata = pl.DataFrame(\n",
    "#     {\"sale_id\": [101, 102, 103], \"category\": [\"A\", \"B\", \"A\"]}\n",
    "# )\n",
    "#\n",
    "# big_sales_data.join(sales_metadata, on=\"sale_id\").collect()"
   ]
  },
  {
   "cell_type": "code",
   "execution_count": null,
   "id": "e86c6363",
   "metadata": {},
   "outputs": [],
   "source": [
    "big_sales_data = pl.LazyFrame(\n",
    "    {\"sale_id\": [101, 102, 103], \"amount\": [250, 150, 300]}\n",
    ")\n",
    "\n",
    "sales_metadata = pl.DataFrame(\n",
    "    {\"sale_id\": [101, 102, 103], \"category\": [\"A\", \"B\", \"A\"]}\n",
    ")\n",
    "\n",
    "big_sales_data.join(sales_metadata.lazy(), on=\"sale_id\").collect()"
   ]
  },
  {
   "cell_type": "markdown",
   "id": "69f7b252",
   "metadata": {},
   "source": [
    "### Caching Intermittent Results"
   ]
  },
  {
   "cell_type": "code",
   "execution_count": null,
   "id": "5ddd2140",
   "metadata": {},
   "outputs": [],
   "source": [
    "lf = pl.LazyFrame({\"col1\": [1, 2, 3], \"col2\": [4, 5, 6]})\n",
    "\n",
    "# ... Some heavy computation ...\n",
    "\n",
    "lf = lf.collect().lazy()  \n",
    "print(lf.collect())\n",
    "\n",
    "print(lf.with_columns(pl.col(\"col1\") + 1).collect())  "
   ]
  },
  {
   "cell_type": "markdown",
   "id": "1b0a6997",
   "metadata": {},
   "source": [
    "## Takeaways"
   ]
  }
 ],
 "metadata": {},
 "nbformat": 4,
 "nbformat_minor": 5
}
