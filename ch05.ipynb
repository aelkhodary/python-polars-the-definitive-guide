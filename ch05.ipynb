{
 "cells": [
  {
   "cell_type": "markdown",
   "metadata": {},
   "source": [
    "# Chapter 5: Eager and Lazy APIs"
   ]
  },
  {
   "cell_type": "code",
   "execution_count": null,
   "metadata": {},
   "outputs": [],
   "source": [
    "import polars as pl\n",
    "pl.show_versions()  # The book is built with Polars version 1.13.0"
   ]
  },
  {
   "cell_type": "markdown",
   "metadata": {},
   "source": [
    "## Eager API: DataFrame"
   ]
  },
  {
   "cell_type": "code",
   "execution_count": null,
   "metadata": {},
   "outputs": [],
   "source": [
    "import polars as pl"
   ]
  },
  {
   "cell_type": "markdown",
   "metadata": {},
   "source": [
    "## Lazy API: LazyFrame"
   ]
  },
  {
   "cell_type": "code",
   "execution_count": null,
   "metadata": {},
   "outputs": [],
   "source": [
    "# This raises a SchemaError:\n",
    "# names_lf = pl.LazyFrame({\"name\": [\"Alice\", \"Bob\", \"Charlie\"], \"age\": [25, 30, 35]})\n",
    "\n",
    "# erroneous_query = names_lf.with_columns(\n",
    "#     sliced_age=pl.col(\"age\").str.slice(1, 3)\n",
    "# )\n",
    "\n",
    "# result_df = erroneous_query.collect()"
   ]
  },
  {
   "cell_type": "markdown",
   "metadata": {},
   "source": [
    "## Performance Differences"
   ]
  },
  {
   "cell_type": "code",
   "execution_count": null,
   "metadata": {},
   "outputs": [],
   "source": [
    "lf = pl.LazyFrame({\"col1\": [1, 2, 3], \"col2\": [4, 5, 6]})\n",
    "\n",
    "# Some heavy computation\n",
    "print(lf.collect())\n",
    "\n",
    "# Recalculates the LazyFrame\n",
    "print(lf.with_columns(pl.col(\"col1\") + 1).collect())"
   ]
  },
  {
   "cell_type": "markdown",
   "metadata": {},
   "source": [
    "## Functionality Differences"
   ]
  },
  {
   "cell_type": "markdown",
   "metadata": {},
   "source": [
    "### Aggregations"
   ]
  },
  {
   "cell_type": "markdown",
   "metadata": {},
   "source": [
    "### Attributes"
   ]
  },
  {
   "cell_type": "markdown",
   "metadata": {},
   "source": [
    "### Computation"
   ]
  },
  {
   "cell_type": "markdown",
   "metadata": {},
   "source": [
    "### Descriptive"
   ]
  },
  {
   "cell_type": "markdown",
   "metadata": {},
   "source": [
    "### GroupBy"
   ]
  },
  {
   "cell_type": "markdown",
   "metadata": {},
   "source": [
    "### Exporting"
   ]
  },
  {
   "cell_type": "markdown",
   "metadata": {},
   "source": [
    "### Manipulation and Selection"
   ]
  },
  {
   "cell_type": "markdown",
   "metadata": {},
   "source": [
    "### Miscellaneous"
   ]
  },
  {
   "cell_type": "markdown",
   "metadata": {},
   "source": [
    "## Tips and Tricks"
   ]
  },
  {
   "cell_type": "markdown",
   "metadata": {},
   "source": [
    "### Going from LazyFrame to DataFrame and Vice Versa"
   ]
  },
  {
   "cell_type": "markdown",
   "metadata": {},
   "source": [
    "### Joining a DataFrame and a LazyFrame"
   ]
  },
  {
   "cell_type": "code",
   "execution_count": null,
   "metadata": {},
   "outputs": [],
   "source": [
    "# This causes a TypeError\n",
    "# big_sales_data = pl.LazyFrame(\n",
    "#     {\"sale_id\": [101, 102, 103], \"amount\": [250, 150, 300]}\n",
    "# )\n",
    "# sales_metadata = pl.DataFrame(\n",
    "#     {\"sale_id\": [101, 102, 103], \"category\": [\"A\", \"B\", \"A\"]}\n",
    "# )\n",
    "\n",
    "# big_sales_data.join(sales_metadata, on=\"sale_id\").collect()"
   ]
  },
  {
   "cell_type": "code",
   "execution_count": null,
   "metadata": {},
   "outputs": [],
   "source": [
    "big_sales_data = pl.LazyFrame(\n",
    "    {\"sale_id\": [101, 102, 103], \"amount\": [250, 150, 300]}\n",
    ")\n",
    "sales_metadata = pl.DataFrame(\n",
    "    {\"sale_id\": [101, 102, 103], \"category\": [\"A\", \"B\", \"A\"]}\n",
    ")\n",
    "\n",
    "big_sales_data.join(sales_metadata.lazy(), on=\"sale_id\").collect()"
   ]
  },
  {
   "cell_type": "markdown",
   "metadata": {},
   "source": [
    "### Caching Intermittent Stages"
   ]
  },
  {
   "cell_type": "code",
   "execution_count": null,
   "metadata": {},
   "outputs": [],
   "source": [
    "lf = pl.LazyFrame({\"col1\": [1, 2, 3], \"col2\": [4, 5, 6]})\n",
    "\n",
    "# Some heavy computation\n",
    "lf = lf.collect().lazy()\n",
    "print(lf.collect())\n",
    "\n",
    "# Utilizes the cached LazyFrame\n",
    "print(lf.with_columns(pl.col(\"col1\") + 1).collect())"
   ]
  },
  {
   "cell_type": "markdown",
   "metadata": {},
   "source": [
    "## Takeaways"
   ]
  }
 ],
 "metadata": {},
 "nbformat": 4,
 "nbformat_minor": 5
}
