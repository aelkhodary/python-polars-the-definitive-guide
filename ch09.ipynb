{
 "cells": [
  {
   "cell_type": "markdown",
   "metadata": {},
   "source": [
    "# Chapter 9: Combining Expressions"
   ]
  },
  {
   "cell_type": "code",
   "execution_count": null,
   "metadata": {},
   "outputs": [],
   "source": [
    "import polars as pl\n",
    "pl.show_versions()  # The book is built with Polars version 1.8.2"
   ]
  },
  {
   "cell_type": "code",
   "execution_count": null,
   "metadata": {},
   "outputs": [],
   "source": [
    "fruit = pl.read_csv(\"data/fruit.csv\")\n",
    "fruit.filter(pl.col(\"is_round\") & (pl.col(\"weight\") > 1000))"
   ]
  },
  {
   "cell_type": "markdown",
   "metadata": {},
   "source": [
    "## Inline Operators Versus Methods"
   ]
  },
  {
   "cell_type": "code",
   "execution_count": null,
   "metadata": {},
   "outputs": [],
   "source": [
    "(\n",
    "    pl.DataFrame({\n",
    "        \"i\": [6, 0, 2, 2.5],\n",
    "        \"j\": [7, 1, 2, 3]\n",
    "    })\n",
    "    .with_columns(\n",
    "        (pl.col(\"i\") * pl.col(\"j\")).alias(\"*\"),\n",
    "        pl.col(\"i\").mul(pl.col(\"j\")).alias(\"Expr.mul()\")\n",
    "    )\n",
    ")"
   ]
  },
  {
   "cell_type": "markdown",
   "metadata": {},
   "source": [
    "## Arithmetic Operations"
   ]
  },
  {
   "cell_type": "code",
   "execution_count": null,
   "metadata": {},
   "outputs": [],
   "source": [
    "fruit.select(\n",
    "    pl.col(\"name\"),\n",
    "    (pl.col(\"weight\") / 1000)\n",
    ")"
   ]
  },
  {
   "cell_type": "code",
   "execution_count": null,
   "metadata": {},
   "outputs": [],
   "source": [
    "pl.Config(float_precision=2, tbl_cell_numeric_alignment=\"RIGHT\") \n",
    "\n",
    "(\n",
    "    pl.DataFrame({\n",
    "        \"i\": [0, 2, 2, -2, -2],\n",
    "        \"j\": [1, 2, 3, 4, -5]\n",
    "    })\n",
    "    .with_columns(\n",
    "        (pl.col(\"i\") + pl.col(\"j\")).alias(\"i + j\"),\n",
    "        (pl.col(\"i\") - pl.col(\"j\")).alias(\"i - j\"),\n",
    "        (pl.col(\"i\") * pl.col(\"j\")).alias(\"i * j\"),\n",
    "        (pl.col(\"i\") / pl.col(\"j\")).alias(\"i / j\"),\n",
    "        (pl.col(\"i\") // pl.col(\"j\")).alias(\"i // j\"),\n",
    "        (pl.col(\"i\") ** pl.col(\"j\")).alias(\"i ** j\"),\n",
    "        (pl.col(\"j\") % 2).alias(\"j % 2\"), \n",
    "        pl.col(\"i\").dot(pl.col(\"j\")).alias(\"i ⋅ j\"), \n",
    "    )\n",
    ")"
   ]
  },
  {
   "cell_type": "code",
   "execution_count": null,
   "metadata": {},
   "outputs": [],
   "source": [
    "pl.Config.set_float_precision()\n",
    "pl.Config.set_tbl_cell_numeric_alignment(None)"
   ]
  },
  {
   "cell_type": "markdown",
   "metadata": {},
   "source": [
    "## Comparison Operations"
   ]
  },
  {
   "cell_type": "code",
   "execution_count": null,
   "metadata": {},
   "outputs": [],
   "source": [
    "pl.select(pl.lit(\"a\") > pl.lit(\"b\"))"
   ]
  },
  {
   "cell_type": "code",
   "execution_count": null,
   "metadata": {},
   "outputs": [],
   "source": [
    "(\n",
    "    fruit.select(\n",
    "        pl.col(\"name\"),\n",
    "        pl.col(\"weight\"),\n",
    "    )\n",
    "    .filter(pl.col(\"weight\") >= 1000)\n",
    ")"
   ]
  },
  {
   "cell_type": "code",
   "execution_count": null,
   "metadata": {},
   "outputs": [],
   "source": [
    "x = 4\n",
    "3 < x < 5"
   ]
  },
  {
   "cell_type": "code",
   "execution_count": null,
   "metadata": {},
   "outputs": [],
   "source": [
    "pl.select(pl.lit(3) < pl.lit(x) < pl.lit(5))"
   ]
  },
  {
   "cell_type": "code",
   "execution_count": null,
   "metadata": {},
   "outputs": [],
   "source": [
    "pl.select((pl.lit(3) < pl.lit(x)) & (pl.lit(x) < pl.lit(5))).item()"
   ]
  },
  {
   "cell_type": "code",
   "execution_count": null,
   "metadata": {},
   "outputs": [],
   "source": [
    "pl.select(pl.lit(x).is_between(3, 5)).item()"
   ]
  },
  {
   "cell_type": "code",
   "execution_count": null,
   "metadata": {},
   "outputs": [],
   "source": [
    "(\n",
    "    pl.DataFrame({\n",
    "        \"a\": [-273.15, 0, 42, 100],\n",
    "        \"b\": [1.4142, 2.7183, 42, 3.1415]\n",
    "    })\n",
    "    .with_columns(\n",
    "        (pl.col(\"a\") == pl.col(\"b\")).alias(\"a == b\"),\n",
    "        (pl.col(\"a\") <= pl.col(\"b\")).alias(\"a <= b\"),\n",
    "        (pl.all() > 0).name.suffix(\" > 0\"),\n",
    "        ((pl.col(\"b\") - pl.lit(2).sqrt()).abs() < 1e-3).alias(\"b ≈ √2\"), \n",
    "        ((1 < pl.col(\"b\")) & (pl.col(\"b\") < 3)).alias(\"1 < b < 3\")\n",
    "    )\n",
    ")"
   ]
  },
  {
   "cell_type": "code",
   "execution_count": null,
   "metadata": {},
   "outputs": [],
   "source": [
    "pl.select(\n",
    "    bool_num=pl.lit(True) > 0,\n",
    "    time_time=pl.time(23, 58) > pl.time(0, 0),\n",
    "    datetime_date=pl.datetime(1969, 7, 21, 2, 56) < pl.date(1976, 7, 20),\n",
    "    str_num=pl.lit(\"5\") < pl.lit(3).cast(pl.String), \n",
    "    datetime_time=pl.datetime(1999, 1, 1).dt.time() != pl.time(0, 0), \n",
    ").transpose(include_header=True,\n",
    "            header_name=\"comparison\",\n",
    "            column_names=[\"allowed\"])"
   ]
  },
  {
   "cell_type": "markdown",
   "metadata": {},
   "source": [
    "## Boolean Algebra Operations"
   ]
  },
  {
   "cell_type": "code",
   "execution_count": null,
   "metadata": {},
   "outputs": [],
   "source": [
    "x = 7\n",
    "p = pl.lit(3) < pl.lit(x)  # True\n",
    "q = pl.lit(x) < pl.lit(5)  # False\n",
    "pl.select(p & q).item()"
   ]
  },
  {
   "cell_type": "code",
   "execution_count": null,
   "metadata": {},
   "outputs": [],
   "source": [
    "(\n",
    "    pl.DataFrame({\n",
    "        \"p\": [True, True, False, False],\n",
    "        \"q\": [True, False, True, False]\n",
    "    })\n",
    "    .with_columns(\n",
    "        (pl.col(\"p\") & pl.col(\"q\")).alias(\"p & q\"),\n",
    "        (pl.col(\"p\") | pl.col(\"q\")).alias(\"p | q\"),\n",
    "        (~pl.col(\"p\")).alias(\"~p\"),\n",
    "        (pl.col(\"p\") ^ pl.col(\"q\")).alias(\"p ^ q\"),\n",
    "        (~(pl.col(\"p\") & pl.col(\"q\"))).alias(\"p ↑ q\"),  \n",
    "        ((pl.col(\"p\").or_(pl.col(\"q\"))).not_()).alias(\"p ↓ q\")  \n",
    "    )\n",
    ")"
   ]
  },
  {
   "cell_type": "markdown",
   "metadata": {},
   "source": [
    "## Bitwise Operations"
   ]
  },
  {
   "cell_type": "code",
   "execution_count": null,
   "metadata": {},
   "outputs": [],
   "source": [
    "pl.select(pl.lit(10) | pl.lit(34)).item()"
   ]
  },
  {
   "cell_type": "code",
   "execution_count": null,
   "metadata": {},
   "outputs": [],
   "source": [
    "bits = (\n",
    "    pl.DataFrame({\n",
    "        \"x\": [1, 1, 0, 0, 7, 10],\n",
    "        \"y\": [1, 0, 1, 0, 2, 34]\n",
    "    }, schema={\"x\": pl.UInt8, \"y\": pl.UInt8})  \n",
    "    .with_columns(\n",
    "        (pl.col(\"x\") & pl.col(\"y\")).alias(\"x & y\"),\n",
    "        (pl.col(\"x\") | pl.col(\"y\")).alias(\"x | y\"),\n",
    "        (~pl.col(\"x\")).alias(\"~x\"),\n",
    "        (pl.col(\"x\") ^ pl.col(\"y\")).alias(\"x ^ y\"),\n",
    "    )\n",
    ")\n",
    "bits"
   ]
  },
  {
   "cell_type": "code",
   "execution_count": null,
   "metadata": {},
   "outputs": [],
   "source": [
    "bits.select(pl.all().map_elements(\"{0:08b}\".format))"
   ]
  },
  {
   "cell_type": "markdown",
   "metadata": {},
   "source": [
    "## Using Functions"
   ]
  },
  {
   "cell_type": "code",
   "execution_count": null,
   "metadata": {},
   "outputs": [],
   "source": [
    "scientists = pl.DataFrame({\n",
    "    'first_name': ['George', 'Grace', 'John', 'Kurt', 'Ada'],\n",
    "    'last_name': ['Boole', 'Hopper', 'Tukey', 'Gödel', 'Lovelace'],\n",
    "    'country': ['England', 'United States', 'United States',\n",
    "    'Austria-Hungary', 'England']\n",
    "})\n",
    "scientists"
   ]
  },
  {
   "cell_type": "code",
   "execution_count": null,
   "metadata": {},
   "outputs": [],
   "source": [
    "scientists.select(\n",
    "    pl.concat_list(pl.col(\"^*_name$\")).alias(\"concat_list\"),\n",
    "    pl.struct(pl.all()).alias(\"struct\")\n",
    ")"
   ]
  },
  {
   "cell_type": "code",
   "execution_count": null,
   "metadata": {},
   "outputs": [],
   "source": [
    "scientists.select(\n",
    "    pl.concat_str(pl.all(), separator=\" \").alias(\"concat_str\"),\n",
    "    pl.format(\"{}, {} from {}\",\n",
    "    \"last_name\", \"first_name\", \"country\").alias(\"format\")\n",
    "    )"
   ]
  },
  {
   "cell_type": "code",
   "execution_count": null,
   "metadata": {},
   "outputs": [],
   "source": [
    "prefs = pl.DataFrame({\n",
    "    \"id\": [1, 7, 42, 101, 999],\n",
    "    \"has_pet\": [True, False, True, False, True],\n",
    "    \"likes_travel\": [False, False, False, False, True],\n",
    "    \"likes_movies\": [True, False, True, False, True],\n",
    "    \"likes_books\": [False, False, True, True, True]\n",
    "}).with_columns(\n",
    "    pl.all_horizontal(pl.exclude(\"id\")).alias(\"all\"),\n",
    "    pl.any_horizontal(pl.exclude(\"id\")).alias(\"any\"),\n",
    ")\n",
    "prefs"
   ]
  },
  {
   "cell_type": "code",
   "execution_count": null,
   "metadata": {},
   "outputs": [],
   "source": [
    "prefs.select(\n",
    "    pl.sum_horizontal(pl.all()).alias(\"sum\"),\n",
    "    pl.max_horizontal(pl.all()).alias(\"max\"),\n",
    "    pl.min_horizontal(pl.all()).alias(\"min\"),\n",
    ")"
   ]
  },
  {
   "cell_type": "code",
   "execution_count": null,
   "metadata": {},
   "outputs": [],
   "source": [
    "prefs.select(\n",
    "    pl.col(\"id\"),\n",
    "    pl.when(pl.all_horizontal(pl.col(\"^likes_.*$\")))\n",
    "    .then(pl.lit(\"Likes everything\"))\n",
    "    .when(pl.any_horizontal(pl.col(\"^likes_.*$\")))\n",
    "    .then(pl.lit(\"Likes something\"))\n",
    "    .otherwise(pl.lit(\"Likes nothing\"))\n",
    "    .alias(\"likes_what\")\n",
    ")"
   ]
  },
  {
   "cell_type": "markdown",
   "metadata": {},
   "source": [
    "## Conclusion"
   ]
  }
 ],
 "metadata": {},
 "nbformat": 4,
 "nbformat_minor": 5
}
