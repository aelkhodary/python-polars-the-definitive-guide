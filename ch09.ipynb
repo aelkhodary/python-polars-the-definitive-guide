{
 "cells": [
  {
   "cell_type": "markdown",
   "id": "942138a2",
   "metadata": {},
   "source": [
    "# Chapter 9: Combining Expressions"
   ]
  },
  {
   "cell_type": "code",
   "execution_count": 1,
   "id": "db6bf58f",
   "metadata": {},
   "outputs": [],
   "source": [
    "import polars as pl\n",
    "pl.show_versions()  # The book is built with Polars version 1.0.0"
   ]
  },
  {
   "cell_type": "code",
   "execution_count": 2,
   "id": "93bf3ba9",
   "metadata": {},
   "outputs": [],
   "source": [
    "fruit = pl.read_csv(\"data/fruit.csv\")\n",
    "fruit.filter(pl.col(\"is_round\") & (pl.col(\"weight\") > 1000))"
   ]
  },
  {
   "cell_type": "markdown",
   "id": "dea19a33",
   "metadata": {},
   "source": [
    "## Inline Operators Versus Methods"
   ]
  },
  {
   "cell_type": "code",
   "execution_count": 4,
   "id": "a5b11f3e",
   "metadata": {},
   "outputs": [],
   "source": [
    "(\n",
    "    pl.DataFrame({\n",
    "        \"i\": [6, 0, 2, 2.5],\n",
    "        \"j\": [7, 1, 2, 3]\n",
    "    })\n",
    "    .with_columns(\n",
    "        (pl.col(\"i\") * pl.col(\"j\")).alias(\"*\"),\n",
    "        pl.col(\"i\").mul(pl.col(\"j\")).alias(\"Expr.mul()\")\n",
    "    )\n",
    ")"
   ]
  },
  {
   "cell_type": "markdown",
   "id": "9f3e85de",
   "metadata": {},
   "source": [
    "## Arithmetic Operations"
   ]
  },
  {
   "cell_type": "code",
   "execution_count": 6,
   "id": "e0f00192",
   "metadata": {},
   "outputs": [],
   "source": [
    "fruit.select(\n",
    "    pl.col(\"name\"),\n",
    "    (pl.col(\"weight\") / 1000)\n",
    ")"
   ]
  },
  {
   "cell_type": "code",
   "execution_count": 7,
   "id": "2c570e64",
   "metadata": {},
   "outputs": [],
   "source": [
    "pl.Config(float_precision=2, tbl_cell_numeric_alignment=\"RIGHT\") \n",
    "\n",
    "(\n",
    "    pl.DataFrame({\n",
    "        \"i\": [0, 2, 2, -2, -2],\n",
    "        \"j\": [1, 2, 3, 4, -5]\n",
    "    })\n",
    "    .with_columns(\n",
    "        (pl.col(\"i\") + pl.col(\"j\")).alias(\"i + j\"),\n",
    "        (pl.col(\"i\") - pl.col(\"j\")).alias(\"i - j\"),\n",
    "        (pl.col(\"i\") * pl.col(\"j\")).alias(\"i * j\"),\n",
    "        (pl.col(\"i\") / pl.col(\"j\")).alias(\"i / j\"),\n",
    "        (pl.col(\"i\") // pl.col(\"j\")).alias(\"i // j\"),\n",
    "        (pl.col(\"i\") ** pl.col(\"j\")).alias(\"i ** j\"),\n",
    "        (pl.col(\"j\") % 2).alias(\"j % 2\"), \n",
    "        pl.col(\"i\").dot(pl.col(\"j\")).alias(\"i ⋅ j\"), \n",
    "    )\n",
    ")"
   ]
  },
  {
   "cell_type": "code",
   "execution_count": 8,
   "id": "86ceb59f",
   "metadata": {},
   "outputs": [],
   "source": [
    "pl.Config.set_float_precision()\n",
    "pl.Config.set_tbl_cell_numeric_alignment(None)"
   ]
  },
  {
   "cell_type": "markdown",
   "id": "039b017f",
   "metadata": {},
   "source": [
    "## Comparison Operations"
   ]
  },
  {
   "cell_type": "code",
   "execution_count": 10,
   "id": "7d1dfaf8",
   "metadata": {},
   "outputs": [],
   "source": [
    "pl.select(pl.lit(\"a\") > pl.lit(\"b\"))"
   ]
  },
  {
   "cell_type": "code",
   "execution_count": 11,
   "id": "df27cc41",
   "metadata": {},
   "outputs": [],
   "source": [
    "(\n",
    "    fruit.select(\n",
    "        pl.col(\"name\"),\n",
    "        pl.col(\"weight\"),\n",
    "    )\n",
    "    .filter(pl.col(\"weight\") >= 1000)\n",
    ")"
   ]
  },
  {
   "cell_type": "code",
   "execution_count": 12,
   "id": "52ea7809",
   "metadata": {},
   "outputs": [],
   "source": [
    "x = 4\n",
    "3 < x < 5"
   ]
  },
  {
   "cell_type": "code",
   "execution_count": 13,
   "id": "89ac5d62",
   "metadata": {},
   "outputs": [],
   "source": [
    "pl.select(pl.lit(3) < pl.lit(x) < pl.lit(5))"
   ]
  },
  {
   "cell_type": "code",
   "execution_count": 14,
   "id": "93b3ec1b",
   "metadata": {},
   "outputs": [],
   "source": [
    "pl.select((pl.lit(3) < pl.lit(x)) & (pl.lit(x) < pl.lit(5))).item()"
   ]
  },
  {
   "cell_type": "code",
   "execution_count": 15,
   "id": "d00ed566",
   "metadata": {},
   "outputs": [],
   "source": [
    "pl.select(pl.lit(x).is_between(3, 5)).item()"
   ]
  },
  {
   "cell_type": "code",
   "execution_count": 16,
   "id": "c354b975",
   "metadata": {},
   "outputs": [],
   "source": [
    "(\n",
    "    pl.DataFrame({\n",
    "        \"a\": [-273.15, 0, 42, 100],\n",
    "        \"b\": [1.4142, 2.7183, 42, 3.1415]\n",
    "    })\n",
    "    .with_columns(\n",
    "        (pl.col(\"a\") == pl.col(\"b\")).alias(\"a == b\"),\n",
    "        (pl.col(\"a\") <= pl.col(\"b\")).alias(\"a <= b\"),\n",
    "        (pl.all() > 0).name.suffix(\" > 0\"),\n",
    "        ((pl.col(\"b\") - pl.lit(2).sqrt()).abs() < 1e-3).alias(\"b ≈ √2\"), \n",
    "        ((1 < pl.col(\"b\")) & (pl.col(\"b\") < 3)).alias(\"1 < b < 3\")\n",
    "    )\n",
    ")"
   ]
  },
  {
   "cell_type": "code",
   "execution_count": 17,
   "id": "afe09840",
   "metadata": {},
   "outputs": [],
   "source": [
    "pl.select(\n",
    "    bool_num=pl.lit(True) > 0,\n",
    "    time_time=pl.time(23, 58) > pl.time(0, 0),\n",
    "    datetime_date=pl.datetime(1969, 7, 21, 2, 56) < pl.date(1976, 7, 20),\n",
    "    str_num=pl.lit(\"5\") < pl.lit(3).cast(pl.String), \n",
    "    datetime_time=pl.datetime(1999, 1, 1).dt.time() != pl.time(0, 0), \n",
    ").transpose(include_header=True,\n",
    "            header_name=\"comparison\",\n",
    "            column_names=[\"allowed\"])"
   ]
  },
  {
   "cell_type": "markdown",
   "id": "4234db1d",
   "metadata": {},
   "source": [
    "## Boolean Algebra Operations"
   ]
  },
  {
   "cell_type": "code",
   "execution_count": 19,
   "id": "60836486",
   "metadata": {},
   "outputs": [],
   "source": [
    "x = 7\n",
    "p = pl.lit(3) < pl.lit(x)  # True\n",
    "q = pl.lit(x) < pl.lit(5)  # False\n",
    "pl.select(p & q).item()"
   ]
  },
  {
   "cell_type": "code",
   "execution_count": 20,
   "id": "6e24f044",
   "metadata": {},
   "outputs": [],
   "source": [
    "(\n",
    "    pl.DataFrame({\n",
    "        \"p\": [True, True, False, False],\n",
    "        \"q\": [True, False, True, False]\n",
    "    })\n",
    "    .with_columns(\n",
    "        (pl.col(\"p\") & pl.col(\"q\")).alias(\"p & q\"),\n",
    "        (pl.col(\"p\") | pl.col(\"q\")).alias(\"p | q\"),\n",
    "        (~pl.col(\"p\")).alias(\"~p\"),\n",
    "        (pl.col(\"p\") ^ pl.col(\"q\")).alias(\"p ^ q\"),\n",
    "        (~(pl.col(\"p\") & pl.col(\"q\"))).alias(\"p ↑ q\"),  \n",
    "        ((pl.col(\"p\").or_(pl.col(\"q\"))).not_()).alias(\"p ↓ q\")  \n",
    "    )\n",
    ")"
   ]
  },
  {
   "cell_type": "markdown",
   "id": "2db94b02",
   "metadata": {},
   "source": [
    "## Bitwise Operations"
   ]
  },
  {
   "cell_type": "code",
   "execution_count": 22,
   "id": "655e13b0",
   "metadata": {},
   "outputs": [],
   "source": [
    "pl.select(pl.lit(10) | pl.lit(34)).item()"
   ]
  },
  {
   "cell_type": "code",
   "execution_count": 23,
   "id": "128d5124",
   "metadata": {},
   "outputs": [],
   "source": [
    "bits = (\n",
    "    pl.DataFrame({\n",
    "        \"x\": [1, 1, 0, 0, 7, 10],\n",
    "        \"y\": [1, 0, 1, 0, 2, 34]\n",
    "    }, schema={\"x\": pl.UInt8, \"y\": pl.UInt8})  \n",
    "    .with_columns(\n",
    "        (pl.col(\"x\") & pl.col(\"y\")).alias(\"x & y\"),\n",
    "        (pl.col(\"x\") | pl.col(\"y\")).alias(\"x | y\"),\n",
    "        (~pl.col(\"x\")).alias(\"~x\"),\n",
    "        (pl.col(\"x\") ^ pl.col(\"y\")).alias(\"x ^ y\"),\n",
    "    )\n",
    ")\n",
    "bits"
   ]
  },
  {
   "cell_type": "code",
   "execution_count": 24,
   "id": "f36f7603",
   "metadata": {},
   "outputs": [],
   "source": [
    "bits.select(pl.all().map_elements(\"{0:08b}\".format))"
   ]
  },
  {
   "cell_type": "markdown",
   "id": "3af9bd30",
   "metadata": {},
   "source": [
    "## Using Functions"
   ]
  },
  {
   "cell_type": "code",
   "execution_count": 26,
   "id": "39b01310",
   "metadata": {},
   "outputs": [],
   "source": [
    "scientists = pl.DataFrame({\n",
    "    'first_name': ['George', 'Grace', 'John', 'Kurt', 'Ada'],\n",
    "    'last_name': ['Boole', 'Hopper', 'Tukey', 'Gödel', 'Lovelace'],\n",
    "    'country': ['England', 'United States', 'United States',\n",
    "    'Austria-Hungary', 'England']\n",
    "})\n",
    "scientists"
   ]
  },
  {
   "cell_type": "code",
   "execution_count": 27,
   "id": "dc237188",
   "metadata": {},
   "outputs": [],
   "source": [
    "scientists.select(\n",
    "    pl.concat_list(pl.col(\"^*_name$\")).alias(\"concat_list\"),\n",
    "    pl.struct(pl.all()).alias(\"struct\")\n",
    ")"
   ]
  },
  {
   "cell_type": "code",
   "execution_count": 28,
   "id": "4bac20b5",
   "metadata": {},
   "outputs": [],
   "source": [
    "scientists.select(\n",
    "    pl.concat_str(pl.all(), separator=\" \").alias(\"concat_str\"),\n",
    "    pl.format(\"{}, {} from {}\",\n",
    "    \"last_name\", \"first_name\", \"country\").alias(\"format\")\n",
    "    )"
   ]
  },
  {
   "cell_type": "code",
   "execution_count": 29,
   "id": "95668058",
   "metadata": {},
   "outputs": [],
   "source": [
    "prefs = pl.DataFrame({\n",
    "    \"id\": [1, 7, 42, 101, 999],\n",
    "    \"has_pet\": [True, False, True, False, True],\n",
    "    \"likes_travel\": [False, False, False, False, True],\n",
    "    \"likes_movies\": [True, False, True, False, True],\n",
    "    \"likes_books\": [False, False, True, True, True]\n",
    "}).with_columns(\n",
    "    pl.all_horizontal(pl.exclude(\"id\")).alias(\"all\"),\n",
    "    pl.any_horizontal(pl.exclude(\"id\")).alias(\"any\"),\n",
    ")\n",
    "prefs"
   ]
  },
  {
   "cell_type": "code",
   "execution_count": 30,
   "id": "3aa2c0ec",
   "metadata": {},
   "outputs": [],
   "source": [
    "prefs.select(\n",
    "    pl.sum_horizontal(pl.all()).alias(\"sum\"),\n",
    "    pl.max_horizontal(pl.all()).alias(\"max\"),\n",
    "    pl.min_horizontal(pl.all()).alias(\"min\"),\n",
    ")"
   ]
  },
  {
   "cell_type": "code",
   "execution_count": 31,
   "id": "5bffa415",
   "metadata": {},
   "outputs": [],
   "source": [
    "prefs.select(\n",
    "    pl.col(\"id\"),\n",
    "    pl.when(pl.all_horizontal(pl.col(\"^likes_.*$\")))\n",
    "    .then(pl.lit(\"Likes everything\"))\n",
    "    .when(pl.any_horizontal(pl.col(\"^likes_.*$\")))\n",
    "    .then(pl.lit(\"Likes something\"))\n",
    "    .otherwise(pl.lit(\"Likes nothing\"))\n",
    "    .alias(\"likes_what\")\n",
    ")"
   ]
  },
  {
   "cell_type": "markdown",
   "id": "d1b579ed",
   "metadata": {},
   "source": [
    "## Conclusion"
   ]
  }
 ],
 "metadata": {},
 "nbformat": 4,
 "nbformat_minor": 5
}
