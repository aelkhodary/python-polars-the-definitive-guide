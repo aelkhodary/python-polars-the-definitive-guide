{
 "cells": [
  {
   "cell_type": "markdown",
   "id": "ce094f6b",
   "metadata": {},
   "source": [
    "# Chapter 6: Eager and Lazy APIs"
   ]
  },
  {
   "cell_type": "code",
   "execution_count": 1,
   "id": "f5a43571",
   "metadata": {},
   "outputs": [
    {
     "name": "stdout",
     "output_type": "stream",
     "text": [
      "--------Version info---------\n",
      "Polars:               0.20.18\n",
      "Index type:           UInt32\n",
      "Platform:             macOS-12.5-arm64-arm-64bit\n",
      "Python:               3.11.8 (main, Feb 22 2024, 20:44:55) [Clang 14.0.0 (clang-1400.0.29.202)]\n",
      "\n",
      "----Optional dependencies----\n",
      "adbc_driver_manager:  0.8.0\n",
      "cloudpickle:          3.0.0\n",
      "connectorx:           0.3.2\n",
      "deltalake:            0.15.0\n",
      "fastexcel:            0.9.1\n",
      "fsspec:               2023.12.2\n",
      "gevent:               23.9.1\n",
      "hvplot:               0.9.2\n",
      "matplotlib:           3.8.3\n",
      "nest_asyncio:         1.6.0\n",
      "numpy:                1.26.4\n",
      "openpyxl:             3.1.2\n",
      "pandas:               2.2.0\n",
      "pyarrow:              14.0.2\n",
      "pydantic:             2.5.3\n",
      "pyiceberg:            0.5.1\n",
      "pyxlsb:               <not installed>\n",
      "sqlalchemy:           2.0.25\n",
      "xlsx2csv:             0.8.2\n",
      "xlsxwriter:           3.1.9\n"
     ]
    }
   ],
   "source": [
    "import polars as pl\n",
    "pl.show_versions()"
   ]
  },
  {
   "cell_type": "markdown",
   "id": "b218895b",
   "metadata": {},
   "source": [
    "## Eager API: DataFrame"
   ]
  },
  {
   "cell_type": "markdown",
   "id": "5ebbbf04",
   "metadata": {},
   "source": [
    "## Lazy API: LazyFrame"
   ]
  },
  {
   "cell_type": "markdown",
   "id": "9fa08761",
   "metadata": {},
   "source": [
    "### LazyFrame Scan Level Optimizations"
   ]
  },
  {
   "cell_type": "code",
   "execution_count": 5,
   "id": "26225c71",
   "metadata": {},
   "outputs": [
    {
     "data": {
      "image/svg+xml": [
       "<svg xmlns=\"http://www.w3.org/2000/svg\" xmlns:xlink=\"http://www.w3.org/1999/xlink\" width=\"443pt\" height=\"138pt\" viewBox=\"0.00 0.00 442.50 137.50\">\n",
       "<g id=\"graph0\" class=\"graph\" transform=\"scale(1 1) rotate(0) translate(4 133.5)\">\n",
       "<title>polars_query</title>\n",
       "<polygon fill=\"white\" stroke=\"none\" points=\"-4,4 -4,-133.5 438.5,-133.5 438.5,4 -4,4\"/>\n",
       "<!-- π 1/19 [(0, 0)] -->\n",
       "<g id=\"node1\" class=\"node\">\n",
       "<title>π 1/19 [(0, 0)]</title>\n",
       "<polygon fill=\"none\" stroke=\"black\" points=\"244.25,-129.5 190.25,-129.5 190.25,-93.5 244.25,-93.5 244.25,-129.5\"/>\n",
       "<text text-anchor=\"middle\" x=\"217.25\" y=\"-106.45\" font-family=\"Times,serif\" font-size=\"14.00\">π 1/19</text>\n",
       "</g>\n",
       "<!-- Parquet SCAN 12 files: first file: data/taxi/yellow_tripdata_2022&#45;01.parquet;\n",
       "π 1/19;\n",
       "σ &#45; [(0, 1)] -->\n",
       "<g id=\"node2\" class=\"node\">\n",
       "<title>Parquet SCAN 12 files: first file: data/taxi/yellow_tripdata_2022-01.parquet;\n",
       "π 1/19;\n",
       "σ - [(0, 1)]</title>\n",
       "<polygon fill=\"none\" stroke=\"black\" points=\"434.5,-57.5 0,-57.5 0,0 434.5,0 434.5,-57.5\"/>\n",
       "<text text-anchor=\"middle\" x=\"217.25\" y=\"-40.2\" font-family=\"Times,serif\" font-size=\"14.00\">Parquet SCAN 12 files: first file: data/taxi/yellow_tripdata_2022-01.parquet;</text>\n",
       "<text text-anchor=\"middle\" x=\"217.25\" y=\"-23.7\" font-family=\"Times,serif\" font-size=\"14.00\">π 1/19;</text>\n",
       "<text text-anchor=\"middle\" x=\"217.25\" y=\"-7.2\" font-family=\"Times,serif\" font-size=\"14.00\">σ -</text>\n",
       "</g>\n",
       "<!-- π 1/19 [(0, 0)]&#45;&#45;Parquet SCAN 12 files: first file: data/taxi/yellow_tripdata_2022&#45;01.parquet;\n",
       "π 1/19;\n",
       "σ &#45; [(0, 1)] -->\n",
       "<g id=\"edge1\" class=\"edge\">\n",
       "<title>π 1/19 [(0, 0)]--Parquet SCAN 12 files: first file: data/taxi/yellow_tripdata_2022-01.parquet;\n",
       "π 1/19;\n",
       "σ - [(0, 1)]</title>\n",
       "<path fill=\"none\" stroke=\"black\" d=\"M217.25,-93.38C217.25,-83.1 217.25,-69.77 217.25,-57.97\"/>\n",
       "</g>\n",
       "</g>\n",
       "</svg>"
      ],
      "text/plain": [
       "<IPython.core.display.SVG object>"
      ]
     },
     "metadata": {},
     "output_type": "display_data"
    }
   ],
   "source": [
    "lf = pl.scan_parquet(\"data/taxi/yellow_tripdata_*.parquet\")  # <1>\n",
    "lf.select(pl.col(\"trip_distance\")).show_graph()  # <2>"
   ]
  },
  {
   "cell_type": "code",
   "execution_count": 6,
   "id": "c6b87612",
   "metadata": {},
   "outputs": [
    {
     "data": {
      "image/svg+xml": [
       "<svg xmlns=\"http://www.w3.org/2000/svg\" xmlns:xlink=\"http://www.w3.org/1999/xlink\" width=\"447pt\" height=\"66pt\" viewBox=\"0.00 0.00 447.00 65.50\">\n",
       "<g id=\"graph0\" class=\"graph\" transform=\"scale(1 1) rotate(0) translate(4 61.5)\">\n",
       "<title>polars_query</title>\n",
       "<polygon fill=\"white\" stroke=\"none\" points=\"-4,4 -4,-61.5 443,-61.5 443,4 -4,4\"/>\n",
       "<!-- [Parquet SCAN 12 files: first file: data/taxi/yellow_tripdata_2022&#45;01.parquet;\n",
       "π */19;\n",
       "σ (col(&quot;trip_distance&quot;)) &gt; ...] -->\n",
       "<g id=\"node1\" class=\"node\">\n",
       "<title>[Parquet SCAN 12 files: first file: data/taxi/yellow_tripdata_2022-01.parquet;\n",
       "π */19;\n",
       "σ (col(&quot;trip_distance&quot;)) &gt; ...]</title>\n",
       "<polygon fill=\"none\" stroke=\"black\" points=\"439,-57.5 0,-57.5 0,0 439,0 439,-57.5\"/>\n",
       "<text text-anchor=\"middle\" x=\"219.5\" y=\"-40.2\" font-family=\"Times,serif\" font-size=\"14.00\">[Parquet SCAN 12 files: first file: data/taxi/yellow_tripdata_2022-01.parquet;</text>\n",
       "<text text-anchor=\"middle\" x=\"219.5\" y=\"-23.7\" font-family=\"Times,serif\" font-size=\"14.00\">π */19;</text>\n",
       "<text text-anchor=\"middle\" x=\"219.5\" y=\"-7.2\" font-family=\"Times,serif\" font-size=\"14.00\">σ (col(&quot;trip_distance&quot;)) &gt; ...]</text>\n",
       "</g>\n",
       "</g>\n",
       "</svg>"
      ],
      "text/plain": [
       "<IPython.core.display.SVG object>"
      ]
     },
     "metadata": {},
     "output_type": "display_data"
    }
   ],
   "source": [
    "lf.filter(pl.col(\"trip_distance\") > 10).show_graph()"
   ]
  },
  {
   "cell_type": "code",
   "execution_count": 7,
   "id": "9f1a5559",
   "metadata": {},
   "outputs": [
    {
     "data": {
      "text/html": [
       "<div><style>\n",
       ".dataframe > thead > tr,\n",
       ".dataframe > tbody > tr {\n",
       "  text-align: right;\n",
       "  white-space: pre-wrap;\n",
       "}\n",
       "</style>\n",
       "<small>shape: (2, 19)</small><table border=\"1\" class=\"dataframe\"><thead><tr><th>VendorID</th><th>tpep_pickup_datetime</th><th>tpep_dropoff_datetime</th><th>passenger_count</th><th>trip_distance</th><th>RatecodeID</th><th>store_and_fwd_flag</th><th>PULocationID</th><th>DOLocationID</th><th>payment_type</th><th>fare_amount</th><th>extra</th><th>mta_tax</th><th>tip_amount</th><th>tolls_amount</th><th>improvement_surcharge</th><th>total_amount</th><th>congestion_surcharge</th><th>airport_fee</th></tr><tr><td>i64</td><td>datetime[ns]</td><td>datetime[ns]</td><td>f64</td><td>f64</td><td>f64</td><td>str</td><td>i64</td><td>i64</td><td>i64</td><td>f64</td><td>f64</td><td>f64</td><td>f64</td><td>f64</td><td>f64</td><td>f64</td><td>f64</td><td>f64</td></tr></thead><tbody><tr><td>1</td><td>2022-01-01 00:35:40</td><td>2022-01-01 00:53:29</td><td>2.0</td><td>3.8</td><td>1.0</td><td>&quot;N&quot;</td><td>142</td><td>236</td><td>1</td><td>14.5</td><td>3.0</td><td>0.5</td><td>3.65</td><td>0.0</td><td>0.3</td><td>21.95</td><td>2.5</td><td>0.0</td></tr><tr><td>1</td><td>2022-01-01 00:33:43</td><td>2022-01-01 00:42:07</td><td>1.0</td><td>2.1</td><td>1.0</td><td>&quot;N&quot;</td><td>236</td><td>42</td><td>1</td><td>8.0</td><td>0.5</td><td>0.5</td><td>4.0</td><td>0.0</td><td>0.3</td><td>13.3</td><td>0.0</td><td>0.0</td></tr></tbody></table></div>"
      ],
      "text/plain": [
       "shape: (2, 19)\n",
       "┌──────────┬───────────┬───────────┬───────────┬───┬───────────┬───────────┬───────────┬───────────┐\n",
       "│ VendorID ┆ tpep_pick ┆ tpep_drop ┆ passenger ┆ … ┆ improveme ┆ total_amo ┆ congestio ┆ airport_f │\n",
       "│ ---      ┆ up_dateti ┆ off_datet ┆ _count    ┆   ┆ nt_surcha ┆ unt       ┆ n_surchar ┆ ee        │\n",
       "│ i64      ┆ me        ┆ ime       ┆ ---       ┆   ┆ rge       ┆ ---       ┆ ge        ┆ ---       │\n",
       "│          ┆ ---       ┆ ---       ┆ f64       ┆   ┆ ---       ┆ f64       ┆ ---       ┆ f64       │\n",
       "│          ┆ datetime[ ┆ datetime[ ┆           ┆   ┆ f64       ┆           ┆ f64       ┆           │\n",
       "│          ┆ ns]       ┆ ns]       ┆           ┆   ┆           ┆           ┆           ┆           │\n",
       "╞══════════╪═══════════╪═══════════╪═══════════╪═══╪═══════════╪═══════════╪═══════════╪═══════════╡\n",
       "│ 1        ┆ 2022-01-0 ┆ 2022-01-0 ┆ 2.0       ┆ … ┆ 0.3       ┆ 21.95     ┆ 2.5       ┆ 0.0       │\n",
       "│          ┆ 1         ┆ 1         ┆           ┆   ┆           ┆           ┆           ┆           │\n",
       "│          ┆ 00:35:40  ┆ 00:53:29  ┆           ┆   ┆           ┆           ┆           ┆           │\n",
       "│ 1        ┆ 2022-01-0 ┆ 2022-01-0 ┆ 1.0       ┆ … ┆ 0.3       ┆ 13.3      ┆ 0.0       ┆ 0.0       │\n",
       "│          ┆ 1         ┆ 1         ┆           ┆   ┆           ┆           ┆           ┆           │\n",
       "│          ┆ 00:33:43  ┆ 00:42:07  ┆           ┆   ┆           ┆           ┆           ┆           │\n",
       "└──────────┴───────────┴───────────┴───────────┴───┴───────────┴───────────┴───────────┴───────────┘"
      ]
     },
     "execution_count": 4,
     "metadata": {},
     "output_type": "execute_result"
    }
   ],
   "source": [
    "lf.fetch(n_rows=2)"
   ]
  },
  {
   "cell_type": "markdown",
   "id": "9a3a8e1c",
   "metadata": {},
   "source": [
    "### Other Optimizations"
   ]
  },
  {
   "cell_type": "code",
   "execution_count": 9,
   "id": "e51ba84f",
   "metadata": {},
   "outputs": [],
   "source": [
    "lazy_df = pl.LazyFrame({\n",
    "    \"foo\": [1, 2, 3, 4, 5],\n",
    "    \"bar\": [6, 7, 8, 9, 10]\n",
    "})"
   ]
  },
  {
   "cell_type": "code",
   "execution_count": 10,
   "id": "0b7d724f",
   "metadata": {},
   "outputs": [
    {
     "data": {
      "image/svg+xml": [
       "<svg xmlns=\"http://www.w3.org/2000/svg\" xmlns:xlink=\"http://www.w3.org/1999/xlink\" width=\"484pt\" height=\"282pt\" viewBox=\"0.00 0.00 484.00 281.50\">\n",
       "<g id=\"graph0\" class=\"graph\" transform=\"scale(1 1) rotate(0) translate(4 277.5)\">\n",
       "<title>polars_query</title>\n",
       "<polygon fill=\"white\" stroke=\"none\" points=\"-4,4 -4,-277.5 480,-277.5 480,4 -4,4\"/>\n",
       "<!-- UNION [(0, 0)] -->\n",
       "<g id=\"node1\" class=\"node\">\n",
       "<title>UNION [(0, 0)]</title>\n",
       "<polygon fill=\"none\" stroke=\"black\" points=\"267.25,-273.5 207.75,-273.5 207.75,-237.5 267.25,-237.5 267.25,-273.5\"/>\n",
       "<text text-anchor=\"middle\" x=\"237.5\" y=\"-250.45\" font-family=\"Times,serif\" font-size=\"14.00\">UNION</text>\n",
       "</g>\n",
       "<!-- FILTER BY ((col(&quot;foo&quot;)) * (2)) &gt; (4... [(0, 1)] -->\n",
       "<g id=\"node2\" class=\"node\">\n",
       "<title>FILTER BY ((col(&quot;foo&quot;)) * (2)) &gt; (4... [(0, 1)]</title>\n",
       "<polygon fill=\"none\" stroke=\"black\" points=\"229,-201.5 0,-201.5 0,-165.5 229,-165.5 229,-201.5\"/>\n",
       "<text text-anchor=\"middle\" x=\"114.5\" y=\"-178.45\" font-family=\"Times,serif\" font-size=\"14.00\">FILTER BY ((col(&quot;foo&quot;)) * (2)) &gt; (4...</text>\n",
       "</g>\n",
       "<!-- UNION [(0, 0)]&#45;&#45;FILTER BY ((col(&quot;foo&quot;)) * (2)) &gt; (4... [(0, 1)] -->\n",
       "<g id=\"edge1\" class=\"edge\">\n",
       "<title>UNION [(0, 0)]--FILTER BY ((col(&quot;foo&quot;)) * (2)) &gt; (4... [(0, 1)]</title>\n",
       "<path fill=\"none\" stroke=\"black\" d=\"M207.41,-237.38C188.49,-226.61 164.15,-212.76 145.13,-201.93\"/>\n",
       "</g>\n",
       "<!-- FILTER BY ((col(&quot;foo&quot;)) * (2)) &lt; (8... [(1, 1)] -->\n",
       "<g id=\"node5\" class=\"node\">\n",
       "<title>FILTER BY ((col(&quot;foo&quot;)) * (2)) &lt; (8... [(1, 1)]</title>\n",
       "<polygon fill=\"none\" stroke=\"black\" points=\"476,-201.5 247,-201.5 247,-165.5 476,-165.5 476,-201.5\"/>\n",
       "<text text-anchor=\"middle\" x=\"361.5\" y=\"-178.45\" font-family=\"Times,serif\" font-size=\"14.00\">FILTER BY ((col(&quot;foo&quot;)) * (2)) &lt; (8...</text>\n",
       "</g>\n",
       "<!-- UNION [(0, 0)]&#45;&#45;FILTER BY ((col(&quot;foo&quot;)) * (2)) &lt; (8... [(1, 1)] -->\n",
       "<g id=\"edge4\" class=\"edge\">\n",
       "<title>UNION [(0, 0)]--FILTER BY ((col(&quot;foo&quot;)) * (2)) &lt; (8... [(1, 1)]</title>\n",
       "<path fill=\"none\" stroke=\"black\" d=\"M267.52,-237.55C286.73,-226.71 311.58,-212.68 330.9,-201.78\"/>\n",
       "</g>\n",
       "<!-- WITH COLUMNS [&quot;foo&quot;] [(0, 2)] -->\n",
       "<g id=\"node3\" class=\"node\">\n",
       "<title>WITH COLUMNS [&quot;foo&quot;] [(0, 2)]</title>\n",
       "<polygon fill=\"none\" stroke=\"black\" points=\"197.12,-129.5 31.88,-129.5 31.88,-93.5 197.12,-93.5 197.12,-129.5\"/>\n",
       "<text text-anchor=\"middle\" x=\"114.5\" y=\"-106.45\" font-family=\"Times,serif\" font-size=\"14.00\">WITH COLUMNS [&quot;foo&quot;]</text>\n",
       "</g>\n",
       "<!-- FILTER BY ((col(&quot;foo&quot;)) * (2)) &gt; (4... [(0, 1)]&#45;&#45;WITH COLUMNS [&quot;foo&quot;] [(0, 2)] -->\n",
       "<g id=\"edge2\" class=\"edge\">\n",
       "<title>FILTER BY ((col(&quot;foo&quot;)) * (2)) &gt; (4... [(0, 1)]--WITH COLUMNS [&quot;foo&quot;] [(0, 2)]</title>\n",
       "<path fill=\"none\" stroke=\"black\" d=\"M114.5,-165.2C114.5,-154.35 114.5,-140.42 114.5,-129.6\"/>\n",
       "</g>\n",
       "<!-- TABLE\n",
       "π */2;\n",
       "σ &#45; [(0, 3)] -->\n",
       "<g id=\"node4\" class=\"node\">\n",
       "<title>TABLE\n",
       "π */2;\n",
       "σ - [(0, 3)]</title>\n",
       "<polygon fill=\"none\" stroke=\"black\" points=\"143.88,-57.5 85.12,-57.5 85.12,0 143.88,0 143.88,-57.5\"/>\n",
       "<text text-anchor=\"middle\" x=\"114.5\" y=\"-40.2\" font-family=\"Times,serif\" font-size=\"14.00\">TABLE</text>\n",
       "<text text-anchor=\"middle\" x=\"114.5\" y=\"-23.7\" font-family=\"Times,serif\" font-size=\"14.00\">π */2;</text>\n",
       "<text text-anchor=\"middle\" x=\"114.5\" y=\"-7.2\" font-family=\"Times,serif\" font-size=\"14.00\">σ -</text>\n",
       "</g>\n",
       "<!-- WITH COLUMNS [&quot;foo&quot;] [(0, 2)]&#45;&#45;TABLE\n",
       "π */2;\n",
       "σ &#45; [(0, 3)] -->\n",
       "<g id=\"edge3\" class=\"edge\">\n",
       "<title>WITH COLUMNS [&quot;foo&quot;] [(0, 2)]--TABLE\n",
       "π */2;\n",
       "σ - [(0, 3)]</title>\n",
       "<path fill=\"none\" stroke=\"black\" d=\"M114.5,-93.38C114.5,-83.1 114.5,-69.77 114.5,-57.97\"/>\n",
       "</g>\n",
       "<!-- WITH COLUMNS [&quot;foo&quot;] [(1, 2)] -->\n",
       "<g id=\"node6\" class=\"node\">\n",
       "<title>WITH COLUMNS [&quot;foo&quot;] [(1, 2)]</title>\n",
       "<polygon fill=\"none\" stroke=\"black\" points=\"444.12,-129.5 278.88,-129.5 278.88,-93.5 444.12,-93.5 444.12,-129.5\"/>\n",
       "<text text-anchor=\"middle\" x=\"361.5\" y=\"-106.45\" font-family=\"Times,serif\" font-size=\"14.00\">WITH COLUMNS [&quot;foo&quot;]</text>\n",
       "</g>\n",
       "<!-- FILTER BY ((col(&quot;foo&quot;)) * (2)) &lt; (8... [(1, 1)]&#45;&#45;WITH COLUMNS [&quot;foo&quot;] [(1, 2)] -->\n",
       "<g id=\"edge5\" class=\"edge\">\n",
       "<title>FILTER BY ((col(&quot;foo&quot;)) * (2)) &lt; (8... [(1, 1)]--WITH COLUMNS [&quot;foo&quot;] [(1, 2)]</title>\n",
       "<path fill=\"none\" stroke=\"black\" d=\"M361.5,-165.2C361.5,-154.35 361.5,-140.42 361.5,-129.6\"/>\n",
       "</g>\n",
       "<!-- TABLE\n",
       "π */2;\n",
       "σ &#45; [(1, 3)] -->\n",
       "<g id=\"node7\" class=\"node\">\n",
       "<title>TABLE\n",
       "π */2;\n",
       "σ - [(1, 3)]</title>\n",
       "<polygon fill=\"none\" stroke=\"black\" points=\"390.88,-57.5 332.12,-57.5 332.12,0 390.88,0 390.88,-57.5\"/>\n",
       "<text text-anchor=\"middle\" x=\"361.5\" y=\"-40.2\" font-family=\"Times,serif\" font-size=\"14.00\">TABLE</text>\n",
       "<text text-anchor=\"middle\" x=\"361.5\" y=\"-23.7\" font-family=\"Times,serif\" font-size=\"14.00\">π */2;</text>\n",
       "<text text-anchor=\"middle\" x=\"361.5\" y=\"-7.2\" font-family=\"Times,serif\" font-size=\"14.00\">σ -</text>\n",
       "</g>\n",
       "<!-- WITH COLUMNS [&quot;foo&quot;] [(1, 2)]&#45;&#45;TABLE\n",
       "π */2;\n",
       "σ &#45; [(1, 3)] -->\n",
       "<g id=\"edge6\" class=\"edge\">\n",
       "<title>WITH COLUMNS [&quot;foo&quot;] [(1, 2)]--TABLE\n",
       "π */2;\n",
       "σ - [(1, 3)]</title>\n",
       "<path fill=\"none\" stroke=\"black\" d=\"M361.5,-93.38C361.5,-83.1 361.5,-69.77 361.5,-57.97\"/>\n",
       "</g>\n",
       "</g>\n",
       "</svg>"
      ],
      "text/plain": [
       "<IPython.core.display.SVG object>"
      ]
     },
     "metadata": {},
     "output_type": "display_data"
    },
    {
     "data": {
      "image/svg+xml": [
       "<svg xmlns=\"http://www.w3.org/2000/svg\" xmlns:xlink=\"http://www.w3.org/1999/xlink\" width=\"484pt\" height=\"282pt\" viewBox=\"0.00 0.00 484.00 281.50\">\n",
       "<g id=\"graph0\" class=\"graph\" transform=\"scale(1 1) rotate(0) translate(4 277.5)\">\n",
       "<title>polars_query</title>\n",
       "<polygon fill=\"white\" stroke=\"none\" points=\"-4,4 -4,-277.5 480,-277.5 480,4 -4,4\"/>\n",
       "<!-- UNION [(0, 0)] -->\n",
       "<g id=\"node1\" class=\"node\">\n",
       "<title>UNION [(0, 0)]</title>\n",
       "<polygon fill=\"none\" stroke=\"black\" points=\"267.25,-273.5 207.75,-273.5 207.75,-237.5 267.25,-237.5 267.25,-273.5\"/>\n",
       "<text text-anchor=\"middle\" x=\"237.5\" y=\"-250.45\" font-family=\"Times,serif\" font-size=\"14.00\">UNION</text>\n",
       "</g>\n",
       "<!-- FILTER BY ((col(&quot;foo&quot;)) * (2)) &gt; (4... [(0, 1)] -->\n",
       "<g id=\"node2\" class=\"node\">\n",
       "<title>FILTER BY ((col(&quot;foo&quot;)) * (2)) &gt; (4... [(0, 1)]</title>\n",
       "<polygon fill=\"none\" stroke=\"black\" points=\"229,-201.5 0,-201.5 0,-165.5 229,-165.5 229,-201.5\"/>\n",
       "<text text-anchor=\"middle\" x=\"114.5\" y=\"-178.45\" font-family=\"Times,serif\" font-size=\"14.00\">FILTER BY ((col(&quot;foo&quot;)) * (2)) &gt; (4...</text>\n",
       "</g>\n",
       "<!-- UNION [(0, 0)]&#45;&#45;FILTER BY ((col(&quot;foo&quot;)) * (2)) &gt; (4... [(0, 1)] -->\n",
       "<g id=\"edge1\" class=\"edge\">\n",
       "<title>UNION [(0, 0)]--FILTER BY ((col(&quot;foo&quot;)) * (2)) &gt; (4... [(0, 1)]</title>\n",
       "<path fill=\"none\" stroke=\"black\" d=\"M207.41,-237.38C188.49,-226.61 164.15,-212.76 145.13,-201.93\"/>\n",
       "</g>\n",
       "<!-- FILTER BY ((col(&quot;foo&quot;)) * (2)) &lt; (8... [(1, 1)] -->\n",
       "<g id=\"node5\" class=\"node\">\n",
       "<title>FILTER BY ((col(&quot;foo&quot;)) * (2)) &lt; (8... [(1, 1)]</title>\n",
       "<polygon fill=\"none\" stroke=\"black\" points=\"476,-201.5 247,-201.5 247,-165.5 476,-165.5 476,-201.5\"/>\n",
       "<text text-anchor=\"middle\" x=\"361.5\" y=\"-178.45\" font-family=\"Times,serif\" font-size=\"14.00\">FILTER BY ((col(&quot;foo&quot;)) * (2)) &lt; (8...</text>\n",
       "</g>\n",
       "<!-- UNION [(0, 0)]&#45;&#45;FILTER BY ((col(&quot;foo&quot;)) * (2)) &lt; (8... [(1, 1)] -->\n",
       "<g id=\"edge4\" class=\"edge\">\n",
       "<title>UNION [(0, 0)]--FILTER BY ((col(&quot;foo&quot;)) * (2)) &lt; (8... [(1, 1)]</title>\n",
       "<path fill=\"none\" stroke=\"black\" d=\"M267.52,-237.55C286.73,-226.71 311.58,-212.68 330.9,-201.78\"/>\n",
       "</g>\n",
       "<!-- WITH COLUMNS [&quot;foo&quot;] [(0, 2)] -->\n",
       "<g id=\"node3\" class=\"node\">\n",
       "<title>WITH COLUMNS [&quot;foo&quot;] [(0, 2)]</title>\n",
       "<polygon fill=\"none\" stroke=\"black\" points=\"197.12,-129.5 31.88,-129.5 31.88,-93.5 197.12,-93.5 197.12,-129.5\"/>\n",
       "<text text-anchor=\"middle\" x=\"114.5\" y=\"-106.45\" font-family=\"Times,serif\" font-size=\"14.00\">WITH COLUMNS [&quot;foo&quot;]</text>\n",
       "</g>\n",
       "<!-- FILTER BY ((col(&quot;foo&quot;)) * (2)) &gt; (4... [(0, 1)]&#45;&#45;WITH COLUMNS [&quot;foo&quot;] [(0, 2)] -->\n",
       "<g id=\"edge2\" class=\"edge\">\n",
       "<title>FILTER BY ((col(&quot;foo&quot;)) * (2)) &gt; (4... [(0, 1)]--WITH COLUMNS [&quot;foo&quot;] [(0, 2)]</title>\n",
       "<path fill=\"none\" stroke=\"black\" d=\"M114.5,-165.2C114.5,-154.35 114.5,-140.42 114.5,-129.6\"/>\n",
       "</g>\n",
       "<!-- TABLE\n",
       "π */2;\n",
       "σ &#45; [(0, 3)] -->\n",
       "<g id=\"node4\" class=\"node\">\n",
       "<title>TABLE\n",
       "π */2;\n",
       "σ - [(0, 3)]</title>\n",
       "<polygon fill=\"none\" stroke=\"black\" points=\"143.88,-57.5 85.12,-57.5 85.12,0 143.88,0 143.88,-57.5\"/>\n",
       "<text text-anchor=\"middle\" x=\"114.5\" y=\"-40.2\" font-family=\"Times,serif\" font-size=\"14.00\">TABLE</text>\n",
       "<text text-anchor=\"middle\" x=\"114.5\" y=\"-23.7\" font-family=\"Times,serif\" font-size=\"14.00\">π */2;</text>\n",
       "<text text-anchor=\"middle\" x=\"114.5\" y=\"-7.2\" font-family=\"Times,serif\" font-size=\"14.00\">σ -</text>\n",
       "</g>\n",
       "<!-- WITH COLUMNS [&quot;foo&quot;] [(0, 2)]&#45;&#45;TABLE\n",
       "π */2;\n",
       "σ &#45; [(0, 3)] -->\n",
       "<g id=\"edge3\" class=\"edge\">\n",
       "<title>WITH COLUMNS [&quot;foo&quot;] [(0, 2)]--TABLE\n",
       "π */2;\n",
       "σ - [(0, 3)]</title>\n",
       "<path fill=\"none\" stroke=\"black\" d=\"M114.5,-93.38C114.5,-83.1 114.5,-69.77 114.5,-57.97\"/>\n",
       "</g>\n",
       "<!-- WITH COLUMNS [&quot;foo&quot;] [(1, 2)] -->\n",
       "<g id=\"node6\" class=\"node\">\n",
       "<title>WITH COLUMNS [&quot;foo&quot;] [(1, 2)]</title>\n",
       "<polygon fill=\"none\" stroke=\"black\" points=\"444.12,-129.5 278.88,-129.5 278.88,-93.5 444.12,-93.5 444.12,-129.5\"/>\n",
       "<text text-anchor=\"middle\" x=\"361.5\" y=\"-106.45\" font-family=\"Times,serif\" font-size=\"14.00\">WITH COLUMNS [&quot;foo&quot;]</text>\n",
       "</g>\n",
       "<!-- FILTER BY ((col(&quot;foo&quot;)) * (2)) &lt; (8... [(1, 1)]&#45;&#45;WITH COLUMNS [&quot;foo&quot;] [(1, 2)] -->\n",
       "<g id=\"edge5\" class=\"edge\">\n",
       "<title>FILTER BY ((col(&quot;foo&quot;)) * (2)) &lt; (8... [(1, 1)]--WITH COLUMNS [&quot;foo&quot;] [(1, 2)]</title>\n",
       "<path fill=\"none\" stroke=\"black\" d=\"M361.5,-165.2C361.5,-154.35 361.5,-140.42 361.5,-129.6\"/>\n",
       "</g>\n",
       "<!-- TABLE\n",
       "π */2;\n",
       "σ &#45; [(1, 3)] -->\n",
       "<g id=\"node7\" class=\"node\">\n",
       "<title>TABLE\n",
       "π */2;\n",
       "σ - [(1, 3)]</title>\n",
       "<polygon fill=\"none\" stroke=\"black\" points=\"390.88,-57.5 332.12,-57.5 332.12,0 390.88,0 390.88,-57.5\"/>\n",
       "<text text-anchor=\"middle\" x=\"361.5\" y=\"-40.2\" font-family=\"Times,serif\" font-size=\"14.00\">TABLE</text>\n",
       "<text text-anchor=\"middle\" x=\"361.5\" y=\"-23.7\" font-family=\"Times,serif\" font-size=\"14.00\">π */2;</text>\n",
       "<text text-anchor=\"middle\" x=\"361.5\" y=\"-7.2\" font-family=\"Times,serif\" font-size=\"14.00\">σ -</text>\n",
       "</g>\n",
       "<!-- WITH COLUMNS [&quot;foo&quot;] [(1, 2)]&#45;&#45;TABLE\n",
       "π */2;\n",
       "σ &#45; [(1, 3)] -->\n",
       "<g id=\"edge6\" class=\"edge\">\n",
       "<title>WITH COLUMNS [&quot;foo&quot;] [(1, 2)]--TABLE\n",
       "π */2;\n",
       "σ - [(1, 3)]</title>\n",
       "<path fill=\"none\" stroke=\"black\" d=\"M361.5,-93.38C361.5,-83.1 361.5,-69.77 361.5,-57.97\"/>\n",
       "</g>\n",
       "</g>\n",
       "</svg>"
      ],
      "text/plain": [
       "<IPython.core.display.SVG object>"
      ]
     },
     "metadata": {},
     "output_type": "display_data"
    }
   ],
   "source": [
    "common_subplan = lazy_df.with_columns(pl.col(\"foo\") * 2)\n",
    "\n",
    "# Utilizing the common subplan in two separate expressions\n",
    "expr1 = common_subplan.filter(pl.col(\"foo\") * 2 > 4)\n",
    "expr2 = common_subplan.filter(pl.col(\"foo\") * 2 < 8)\n",
    "\n",
    "result = pl.concat([expr1, expr2])\n",
    "\n",
    "result.show_graph(optimized=False)\n",
    "result.show_graph()"
   ]
  },
  {
   "cell_type": "code",
   "execution_count": 11,
   "id": "5f457128",
   "metadata": {},
   "outputs": [
    {
     "ename": "SchemaError",
     "evalue": "invalid series dtype: expected `String`, got `i64`",
     "output_type": "error",
     "traceback": [
      "\u001b[0;31m---------------------------------------------------------------------------\u001b[0m",
      "\u001b[0;31mSchemaError\u001b[0m                               Traceback (most recent call last)",
      "Cell \u001b[0;32mIn[7], line 10\u001b[0m\n\u001b[1;32m      1\u001b[0m ldf \u001b[38;5;241m=\u001b[39m pl\u001b[38;5;241m.\u001b[39mLazyFrame({\n\u001b[1;32m      2\u001b[0m     \u001b[38;5;124m\"\u001b[39m\u001b[38;5;124mname\u001b[39m\u001b[38;5;124m\"\u001b[39m: [\u001b[38;5;124m\"\u001b[39m\u001b[38;5;124mAlice\u001b[39m\u001b[38;5;124m\"\u001b[39m, \u001b[38;5;124m\"\u001b[39m\u001b[38;5;124mBob\u001b[39m\u001b[38;5;124m\"\u001b[39m, \u001b[38;5;124m\"\u001b[39m\u001b[38;5;124mCharlie\u001b[39m\u001b[38;5;124m\"\u001b[39m],\n\u001b[1;32m      3\u001b[0m     \u001b[38;5;124m\"\u001b[39m\u001b[38;5;124mage\u001b[39m\u001b[38;5;124m\"\u001b[39m: [\u001b[38;5;241m25\u001b[39m, \u001b[38;5;241m30\u001b[39m, \u001b[38;5;241m35\u001b[39m]\n\u001b[1;32m      4\u001b[0m })\n\u001b[1;32m      6\u001b[0m erroneous_query \u001b[38;5;241m=\u001b[39m ldf\u001b[38;5;241m.\u001b[39mwith_columns(\n\u001b[1;32m      7\u001b[0m     pl\u001b[38;5;241m.\u001b[39mcol(\u001b[38;5;124m\"\u001b[39m\u001b[38;5;124mage\u001b[39m\u001b[38;5;124m\"\u001b[39m)\u001b[38;5;241m.\u001b[39mstr\u001b[38;5;241m.\u001b[39mslice(\u001b[38;5;241m1\u001b[39m,\u001b[38;5;241m3\u001b[39m)\u001b[38;5;241m.\u001b[39malias(\u001b[38;5;124m\"\u001b[39m\u001b[38;5;124msliced_age\u001b[39m\u001b[38;5;124m\"\u001b[39m)\n\u001b[1;32m      8\u001b[0m )\n\u001b[0;32m---> 10\u001b[0m result_df \u001b[38;5;241m=\u001b[39m \u001b[43merroneous_query\u001b[49m\u001b[38;5;241;43m.\u001b[39;49m\u001b[43mcollect\u001b[49m\u001b[43m(\u001b[49m\u001b[43m)\u001b[49m\n",
      "File \u001b[0;32m~/Library/Caches/pypoetry/virtualenvs/python-polars-the-definitive-guide-b_q50VVY-py3.11/lib/python3.11/site-packages/polars/lazyframe/frame.py:1943\u001b[0m, in \u001b[0;36mLazyFrame.collect\u001b[0;34m(self, type_coercion, predicate_pushdown, projection_pushdown, simplify_expression, slice_pushdown, comm_subplan_elim, comm_subexpr_elim, no_optimization, streaming, background, _eager)\u001b[0m\n\u001b[1;32m   1940\u001b[0m \u001b[38;5;28;01mif\u001b[39;00m background:\n\u001b[1;32m   1941\u001b[0m     \u001b[38;5;28;01mreturn\u001b[39;00m InProcessQuery(ldf\u001b[38;5;241m.\u001b[39mcollect_concurrently())\n\u001b[0;32m-> 1943\u001b[0m \u001b[38;5;28;01mreturn\u001b[39;00m wrap_df(\u001b[43mldf\u001b[49m\u001b[38;5;241;43m.\u001b[39;49m\u001b[43mcollect\u001b[49m\u001b[43m(\u001b[49m\u001b[43m)\u001b[49m)\n",
      "\u001b[0;31mSchemaError\u001b[0m: invalid series dtype: expected `String`, got `i64`"
     ]
    }
   ],
   "source": [
    "ldf = pl.LazyFrame({\n",
    "    \"name\": [\"Alice\", \"Bob\", \"Charlie\"],\n",
    "    \"age\": [25, 30, 35]\n",
    "})\n",
    "\n",
    "erroneous_query = ldf.with_columns(\n",
    "    pl.col(\"age\").str.slice(1,3).alias(\"sliced_age\")\n",
    ")\n",
    "\n",
    "result_df = erroneous_query.collect()"
   ]
  },
  {
   "cell_type": "markdown",
   "id": "47829f2d",
   "metadata": {},
   "source": [
    "## Performance Differences"
   ]
  },
  {
   "cell_type": "code",
   "execution_count": 13,
   "id": "fe5e6fe8",
   "metadata": {},
   "outputs": [
    {
     "name": "stdout",
     "output_type": "stream",
     "text": [
      "shape: (3, 2)\n",
      "┌──────┬──────┐\n",
      "│ col1 ┆ col2 │\n",
      "│ ---  ┆ ---  │\n",
      "│ i64  ┆ i64  │\n",
      "╞══════╪══════╡\n",
      "│ 1    ┆ 4    │\n",
      "│ 2    ┆ 5    │\n",
      "│ 3    ┆ 6    │\n",
      "└──────┴──────┘\n",
      "shape: (3, 2)\n",
      "┌──────┬──────┐\n",
      "│ col1 ┆ col2 │\n",
      "│ ---  ┆ ---  │\n",
      "│ i64  ┆ i64  │\n",
      "╞══════╪══════╡\n",
      "│ 2    ┆ 4    │\n",
      "│ 3    ┆ 5    │\n",
      "│ 4    ┆ 6    │\n",
      "└──────┴──────┘\n"
     ]
    }
   ],
   "source": [
    "lf = pl.LazyFrame({\"col1\": [1,2,3], \"col2\": [4,5,6]})\n",
    "# Some heavy computation\n",
    "print(lf.collect())\n",
    "print(lf.with_columns(pl.col(\"col1\") + 1).collect())  # Recalculates the LazyFrame"
   ]
  },
  {
   "cell_type": "markdown",
   "id": "b2523cf8",
   "metadata": {},
   "source": [
    "## Functionality Differences"
   ]
  },
  {
   "cell_type": "markdown",
   "id": "2143cf8e",
   "metadata": {},
   "source": [
    "### Aggregations"
   ]
  },
  {
   "cell_type": "markdown",
   "id": "dbe65c7a",
   "metadata": {},
   "source": [
    "### Attributes"
   ]
  },
  {
   "cell_type": "markdown",
   "id": "31b73cfe",
   "metadata": {},
   "source": [
    "### Computation"
   ]
  },
  {
   "cell_type": "markdown",
   "id": "650579fa",
   "metadata": {},
   "source": [
    "### Descriptive"
   ]
  },
  {
   "cell_type": "markdown",
   "id": "7583e9ac",
   "metadata": {},
   "source": [
    "### GroupBy"
   ]
  },
  {
   "cell_type": "markdown",
   "id": "6e57f743",
   "metadata": {},
   "source": [
    "### Exporting"
   ]
  },
  {
   "cell_type": "markdown",
   "id": "2a6fb357",
   "metadata": {},
   "source": [
    "### Manipulation and Selection"
   ]
  },
  {
   "cell_type": "markdown",
   "id": "9cbcb6f5",
   "metadata": {},
   "source": [
    "### Miscellaneous"
   ]
  },
  {
   "cell_type": "markdown",
   "id": "03a2c07a",
   "metadata": {},
   "source": [
    "## Out-of-Core Computation with Lazy API's Streaming Mode"
   ]
  },
  {
   "cell_type": "code",
   "execution_count": 24,
   "id": "acce84dd",
   "metadata": {},
   "outputs": [
    {
     "ename": "NameError",
     "evalue": "name 'plt' is not defined",
     "output_type": "error",
     "traceback": [
      "\u001b[0;31m---------------------------------------------------------------------------\u001b[0m",
      "\u001b[0;31mNameError\u001b[0m                                 Traceback (most recent call last)",
      "Cell \u001b[0;32mIn[9], line 6\u001b[0m\n\u001b[1;32m      3\u001b[0m x \u001b[38;5;241m=\u001b[39m np\u001b[38;5;241m.\u001b[39marange(\u001b[38;5;241m1\u001b[39m, \u001b[38;5;241m17\u001b[39m)\n\u001b[1;32m      4\u001b[0m y \u001b[38;5;241m=\u001b[39m np\u001b[38;5;241m.\u001b[39mmaximum(\u001b[38;5;241m12\u001b[39m \u001b[38;5;241m/\u001b[39m x, \u001b[38;5;241m1\u001b[39m)\n\u001b[0;32m----> 6\u001b[0m \u001b[43mplt\u001b[49m\u001b[38;5;241m.\u001b[39mfigure(figsize\u001b[38;5;241m=\u001b[39m(\u001b[38;5;241m6\u001b[39m, \u001b[38;5;241m4\u001b[39m))\n\u001b[1;32m      7\u001b[0m plt\u001b[38;5;241m.\u001b[39mplot(x, y, \u001b[38;5;124m'\u001b[39m\u001b[38;5;124mb-\u001b[39m\u001b[38;5;124m'\u001b[39m)\n\u001b[1;32m      8\u001b[0m plt\u001b[38;5;241m.\u001b[39mxlim([\u001b[38;5;241m0\u001b[39m, \u001b[38;5;241m16\u001b[39m])\n",
      "\u001b[0;31mNameError\u001b[0m: name 'plt' is not defined"
     ]
    }
   ],
   "source": [
    "import numpy as np\n",
    "\n",
    "x = np.arange(1, 17)\n",
    "y = np.maximum(12 / x, 1)\n",
    "\n",
    "plt.figure(figsize=(6, 4))\n",
    "plt.plot(x, y, 'b-')\n",
    "plt.xlim([0, 16])\n",
    "plt.ylim([0, 16])\n",
    "plt.xlabel('n_threads', {'fontname':'monospace'})\n",
    "plt.ylabel('thread_factor', {'fontname':'monospace'})\n",
    "plt.grid(True)\n",
    "plt.tight_layout()\n",
    "\n",
    "plt.show()"
   ]
  },
  {
   "cell_type": "code",
   "execution_count": 25,
   "id": "ec3cd903",
   "metadata": {},
   "outputs": [
    {
     "data": {
      "text/plain": [
       "polars.config.Config"
      ]
     },
     "execution_count": 10,
     "metadata": {},
     "output_type": "execute_result"
    }
   ],
   "source": [
    "pl.Config.set_streaming_chunk_size(1000)"
   ]
  },
  {
   "cell_type": "markdown",
   "id": "1e4163ab",
   "metadata": {},
   "source": [
    "## Tips and Tricks"
   ]
  },
  {
   "cell_type": "markdown",
   "id": "2139c8ec",
   "metadata": {},
   "source": [
    "### Going from LazyFrame to DataFrame and Vice Versa"
   ]
  },
  {
   "cell_type": "markdown",
   "id": "9a7abdd4",
   "metadata": {},
   "source": [
    "### Joining a DataFrame and a LazyFrame"
   ]
  },
  {
   "cell_type": "code",
   "execution_count": 29,
   "id": "ef6ca251",
   "metadata": {},
   "outputs": [
    {
     "ename": "TypeError",
     "evalue": "expected `other` join table to be a LazyFrame, not a 'DataFrame'",
     "output_type": "error",
     "traceback": [
      "\u001b[0;31m---------------------------------------------------------------------------\u001b[0m",
      "\u001b[0;31mTypeError\u001b[0m                                 Traceback (most recent call last)",
      "Cell \u001b[0;32mIn[11], line 4\u001b[0m\n\u001b[1;32m      1\u001b[0m lf \u001b[38;5;241m=\u001b[39m pl\u001b[38;5;241m.\u001b[39mLazyFrame({\u001b[38;5;124m\"\u001b[39m\u001b[38;5;124mid\u001b[39m\u001b[38;5;124m\"\u001b[39m: [\u001b[38;5;241m1\u001b[39m,\u001b[38;5;241m2\u001b[39m,\u001b[38;5;241m3\u001b[39m], \u001b[38;5;124m\"\u001b[39m\u001b[38;5;124mvalue1\u001b[39m\u001b[38;5;124m\"\u001b[39m: [\u001b[38;5;241m4\u001b[39m,\u001b[38;5;241m5\u001b[39m,\u001b[38;5;241m6\u001b[39m]})\n\u001b[1;32m      2\u001b[0m df \u001b[38;5;241m=\u001b[39m pl\u001b[38;5;241m.\u001b[39mDataFrame({\u001b[38;5;124m\"\u001b[39m\u001b[38;5;124mid\u001b[39m\u001b[38;5;124m\"\u001b[39m: [\u001b[38;5;241m1\u001b[39m,\u001b[38;5;241m2\u001b[39m,\u001b[38;5;241m3\u001b[39m], \u001b[38;5;124m\"\u001b[39m\u001b[38;5;124mvalue2\u001b[39m\u001b[38;5;124m\"\u001b[39m: [\u001b[38;5;241m7\u001b[39m,\u001b[38;5;241m8\u001b[39m,\u001b[38;5;241m9\u001b[39m]})\n\u001b[0;32m----> 4\u001b[0m \u001b[43mlf\u001b[49m\u001b[38;5;241;43m.\u001b[39;49m\u001b[43mjoin\u001b[49m\u001b[43m(\u001b[49m\u001b[43mdf\u001b[49m\u001b[43m,\u001b[49m\u001b[43m \u001b[49m\u001b[43mon\u001b[49m\u001b[38;5;241;43m=\u001b[39;49m\u001b[38;5;124;43m\"\u001b[39;49m\u001b[38;5;124;43mid\u001b[39;49m\u001b[38;5;124;43m\"\u001b[39;49m\u001b[43m)\u001b[49m\n",
      "File \u001b[0;32m~/Library/Caches/pypoetry/virtualenvs/python-polars-the-definitive-guide-b_q50VVY-py3.11/lib/python3.11/site-packages/polars/lazyframe/frame.py:4080\u001b[0m, in \u001b[0;36mLazyFrame.join\u001b[0;34m(self, other, on, how, left_on, right_on, suffix, validate, join_nulls, allow_parallel, force_parallel)\u001b[0m\n\u001b[1;32m   4078\u001b[0m \u001b[38;5;28;01mif\u001b[39;00m \u001b[38;5;129;01mnot\u001b[39;00m \u001b[38;5;28misinstance\u001b[39m(other, LazyFrame):\n\u001b[1;32m   4079\u001b[0m     msg \u001b[38;5;241m=\u001b[39m \u001b[38;5;124mf\u001b[39m\u001b[38;5;124m\"\u001b[39m\u001b[38;5;124mexpected `other` join table to be a LazyFrame, not a \u001b[39m\u001b[38;5;132;01m{\u001b[39;00m\u001b[38;5;28mtype\u001b[39m(other)\u001b[38;5;241m.\u001b[39m\u001b[38;5;18m__name__\u001b[39m\u001b[38;5;132;01m!r}\u001b[39;00m\u001b[38;5;124m\"\u001b[39m\n\u001b[0;32m-> 4080\u001b[0m     \u001b[38;5;28;01mraise\u001b[39;00m \u001b[38;5;167;01mTypeError\u001b[39;00m(msg)\n\u001b[1;32m   4082\u001b[0m \u001b[38;5;28;01mif\u001b[39;00m how \u001b[38;5;241m==\u001b[39m \u001b[38;5;124m\"\u001b[39m\u001b[38;5;124mcross\u001b[39m\u001b[38;5;124m\"\u001b[39m:\n\u001b[1;32m   4083\u001b[0m     \u001b[38;5;28;01mreturn\u001b[39;00m \u001b[38;5;28mself\u001b[39m\u001b[38;5;241m.\u001b[39m_from_pyldf(\n\u001b[1;32m   4084\u001b[0m         \u001b[38;5;28mself\u001b[39m\u001b[38;5;241m.\u001b[39m_ldf\u001b[38;5;241m.\u001b[39mjoin(\n\u001b[1;32m   4085\u001b[0m             other\u001b[38;5;241m.\u001b[39m_ldf,\n\u001b[0;32m   (...)\u001b[0m\n\u001b[1;32m   4094\u001b[0m         )\n\u001b[1;32m   4095\u001b[0m     )\n",
      "\u001b[0;31mTypeError\u001b[0m: expected `other` join table to be a LazyFrame, not a 'DataFrame'"
     ]
    }
   ],
   "source": [
    "lf = pl.LazyFrame({\"id\": [1,2,3], \"value1\": [4,5,6]})\n",
    "df = pl.DataFrame({\"id\": [1,2,3], \"value2\": [7,8,9]})\n",
    "\n",
    "lf.join(df, on=\"id\")"
   ]
  },
  {
   "cell_type": "code",
   "execution_count": 30,
   "id": "b5e6288c",
   "metadata": {},
   "outputs": [
    {
     "data": {
      "text/html": [
       "<h4>NAIVE QUERY PLAN</h4><p>run <b>LazyFrame.show_graph()</b> to see the optimized version</p><?xml version=\"1.0\" encoding=\"UTF-8\" standalone=\"no\"?>\n",
       "<!DOCTYPE svg PUBLIC \"-//W3C//DTD SVG 1.1//EN\"\n",
       " \"http://www.w3.org/Graphics/SVG/1.1/DTD/svg11.dtd\">\n",
       "<!-- Generated by graphviz version 10.0.1 (20240210.2158)\n",
       " -->\n",
       "<!-- Title: polars_query Pages: 1 -->\n",
       "<svg width=\"189pt\" height=\"159pt\"\n",
       " viewBox=\"0.00 0.00 189.00 159.00\" xmlns=\"http://www.w3.org/2000/svg\" xmlns:xlink=\"http://www.w3.org/1999/xlink\">\n",
       "<g id=\"graph0\" class=\"graph\" transform=\"scale(1 1) rotate(0) translate(4 155)\">\n",
       "<title>polars_query</title>\n",
       "<polygon fill=\"white\" stroke=\"none\" points=\"-4,4 -4,-155 185,-155 185,4 -4,4\"/>\n",
       "<!-- JOIN INNER\n",
       " &#160;&#160;&#160;&#160;&#160;&#160;&#160;&#160;&#160;&#160;&#160;&#160;&#160;&#160;&#160;&#160;&#160;&#160;&#160;left: [col(&quot;id&quot;)];\n",
       " &#160;&#160;&#160;&#160;&#160;&#160;&#160;&#160;&#160;&#160;&#160;&#160;&#160;&#160;&#160;&#160;&#160;&#160;&#160;right: [col(&quot;id&quot;)] [(0, 0)] -->\n",
       "<g id=\"node1\" class=\"node\">\n",
       "<title>JOIN INNER\n",
       " &#160;&#160;&#160;&#160;&#160;&#160;&#160;&#160;&#160;&#160;&#160;&#160;&#160;&#160;&#160;&#160;&#160;&#160;&#160;left: [col(&quot;id&quot;)];\n",
       " &#160;&#160;&#160;&#160;&#160;&#160;&#160;&#160;&#160;&#160;&#160;&#160;&#160;&#160;&#160;&#160;&#160;&#160;&#160;right: [col(&quot;id&quot;)] [(0, 0)]</title>\n",
       "<polygon fill=\"none\" stroke=\"black\" points=\"181,-151 0,-151 0,-93.5 181,-93.5 181,-151\"/>\n",
       "<text text-anchor=\"middle\" x=\"90.5\" y=\"-133.7\" font-family=\"Times,serif\" font-size=\"14.00\">JOIN INNER</text>\n",
       "<text text-anchor=\"middle\" x=\"90.5\" y=\"-117.2\" font-family=\"Times,serif\" font-size=\"14.00\"> &#160;&#160;&#160;&#160;&#160;&#160;&#160;&#160;&#160;&#160;&#160;&#160;&#160;&#160;&#160;&#160;&#160;&#160;&#160;left: [col(&quot;id&quot;)];</text>\n",
       "<text text-anchor=\"middle\" x=\"90.5\" y=\"-100.7\" font-family=\"Times,serif\" font-size=\"14.00\"> &#160;&#160;&#160;&#160;&#160;&#160;&#160;&#160;&#160;&#160;&#160;&#160;&#160;&#160;&#160;&#160;&#160;&#160;&#160;right: [col(&quot;id&quot;)]</text>\n",
       "</g>\n",
       "<!-- TABLE\n",
       "π */2;\n",
       "σ &#45; [(100, 1)] -->\n",
       "<g id=\"node2\" class=\"node\">\n",
       "<title>TABLE\n",
       "π */2;\n",
       "σ &#45; [(100, 1)]</title>\n",
       "<polygon fill=\"none\" stroke=\"black\" points=\"81.88,-57.5 23.12,-57.5 23.12,0 81.88,0 81.88,-57.5\"/>\n",
       "<text text-anchor=\"middle\" x=\"52.5\" y=\"-40.2\" font-family=\"Times,serif\" font-size=\"14.00\">TABLE</text>\n",
       "<text text-anchor=\"middle\" x=\"52.5\" y=\"-23.7\" font-family=\"Times,serif\" font-size=\"14.00\">π */2;</text>\n",
       "<text text-anchor=\"middle\" x=\"52.5\" y=\"-7.2\" font-family=\"Times,serif\" font-size=\"14.00\">σ &#45;</text>\n",
       "</g>\n",
       "<!-- JOIN INNER\n",
       " &#160;&#160;&#160;&#160;&#160;&#160;&#160;&#160;&#160;&#160;&#160;&#160;&#160;&#160;&#160;&#160;&#160;&#160;&#160;left: [col(&quot;id&quot;)];\n",
       " &#160;&#160;&#160;&#160;&#160;&#160;&#160;&#160;&#160;&#160;&#160;&#160;&#160;&#160;&#160;&#160;&#160;&#160;&#160;right: [col(&quot;id&quot;)] [(0, 0)]&#45;&#45;TABLE\n",
       "π */2;\n",
       "σ &#45; [(100, 1)] -->\n",
       "<g id=\"edge1\" class=\"edge\">\n",
       "<title>JOIN INNER\n",
       " &#160;&#160;&#160;&#160;&#160;&#160;&#160;&#160;&#160;&#160;&#160;&#160;&#160;&#160;&#160;&#160;&#160;&#160;&#160;left: [col(&quot;id&quot;)];\n",
       " &#160;&#160;&#160;&#160;&#160;&#160;&#160;&#160;&#160;&#160;&#160;&#160;&#160;&#160;&#160;&#160;&#160;&#160;&#160;right: [col(&quot;id&quot;)] [(0, 0)]&#45;&#45;TABLE\n",
       "π */2;\n",
       "σ &#45; [(100, 1)]</title>\n",
       "<path fill=\"none\" stroke=\"black\" d=\"M78.89,-93.3C74.22,-82.05 68.84,-69.11 64.17,-57.84\"/>\n",
       "</g>\n",
       "<!-- TABLE\n",
       "π */2;\n",
       "σ &#45; [(200, 1)] -->\n",
       "<g id=\"node3\" class=\"node\">\n",
       "<title>TABLE\n",
       "π */2;\n",
       "σ &#45; [(200, 1)]</title>\n",
       "<polygon fill=\"none\" stroke=\"black\" points=\"158.88,-57.5 100.12,-57.5 100.12,0 158.88,0 158.88,-57.5\"/>\n",
       "<text text-anchor=\"middle\" x=\"129.5\" y=\"-40.2\" font-family=\"Times,serif\" font-size=\"14.00\">TABLE</text>\n",
       "<text text-anchor=\"middle\" x=\"129.5\" y=\"-23.7\" font-family=\"Times,serif\" font-size=\"14.00\">π */2;</text>\n",
       "<text text-anchor=\"middle\" x=\"129.5\" y=\"-7.2\" font-family=\"Times,serif\" font-size=\"14.00\">σ &#45;</text>\n",
       "</g>\n",
       "<!-- JOIN INNER\n",
       " &#160;&#160;&#160;&#160;&#160;&#160;&#160;&#160;&#160;&#160;&#160;&#160;&#160;&#160;&#160;&#160;&#160;&#160;&#160;left: [col(&quot;id&quot;)];\n",
       " &#160;&#160;&#160;&#160;&#160;&#160;&#160;&#160;&#160;&#160;&#160;&#160;&#160;&#160;&#160;&#160;&#160;&#160;&#160;right: [col(&quot;id&quot;)] [(0, 0)]&#45;&#45;TABLE\n",
       "π */2;\n",
       "σ &#45; [(200, 1)] -->\n",
       "<g id=\"edge2\" class=\"edge\">\n",
       "<title>JOIN INNER\n",
       " &#160;&#160;&#160;&#160;&#160;&#160;&#160;&#160;&#160;&#160;&#160;&#160;&#160;&#160;&#160;&#160;&#160;&#160;&#160;left: [col(&quot;id&quot;)];\n",
       " &#160;&#160;&#160;&#160;&#160;&#160;&#160;&#160;&#160;&#160;&#160;&#160;&#160;&#160;&#160;&#160;&#160;&#160;&#160;right: [col(&quot;id&quot;)] [(0, 0)]&#45;&#45;TABLE\n",
       "π */2;\n",
       "σ &#45; [(200, 1)]</title>\n",
       "<path fill=\"none\" stroke=\"black\" d=\"M102.41,-93.3C107.21,-82.05 112.73,-69.11 117.53,-57.84\"/>\n",
       "</g>\n",
       "</g>\n",
       "</svg>\n"
      ],
      "text/plain": [
       "<LazyFrame [3 cols, {\"id\": Int64 … \"value2\": Int64}] at 0x1766B05D0>"
      ]
     },
     "execution_count": 12,
     "metadata": {},
     "output_type": "execute_result"
    }
   ],
   "source": [
    "lf = pl.LazyFrame({\"id\": [1,2,3], \"value1\": [4,5,6]})\n",
    "df = pl.DataFrame({\"id\": [1,2,3], \"value2\": [7,8,9]})\n",
    "\n",
    "lf.join(df.lazy(), on=\"id\")"
   ]
  },
  {
   "cell_type": "markdown",
   "id": "7215a979",
   "metadata": {},
   "source": [
    "### Caching Intermittent Stages"
   ]
  },
  {
   "cell_type": "code",
   "execution_count": 32,
   "id": "17c2d7d2",
   "metadata": {},
   "outputs": [
    {
     "name": "stdout",
     "output_type": "stream",
     "text": [
      "shape: (3, 2)\n",
      "┌──────┬──────┐\n",
      "│ col1 ┆ col2 │\n",
      "│ ---  ┆ ---  │\n",
      "│ i64  ┆ i64  │\n",
      "╞══════╪══════╡\n",
      "│ 1    ┆ 4    │\n",
      "│ 2    ┆ 5    │\n",
      "│ 3    ┆ 6    │\n",
      "└──────┴──────┘\n",
      "shape: (3, 2)\n",
      "┌──────┬──────┐\n",
      "│ col1 ┆ col2 │\n",
      "│ ---  ┆ ---  │\n",
      "│ i64  ┆ i64  │\n",
      "╞══════╪══════╡\n",
      "│ 2    ┆ 4    │\n",
      "│ 3    ┆ 5    │\n",
      "│ 4    ┆ 6    │\n",
      "└──────┴──────┘\n"
     ]
    }
   ],
   "source": [
    "lf = pl.LazyFrame({\"col1\": [1,2,3], \"col2\": [4,5,6]})\n",
    "# Some heavy computation\n",
    "lf = lf.collect().lazy()\n",
    "print(lf.collect())\n",
    "print(lf.with_columns(pl.col(\"col1\") + 1).collect())  # Utilizes the cached LazyFrame"
   ]
  },
  {
   "cell_type": "markdown",
   "id": "2d78eba1",
   "metadata": {},
   "source": [
    "## Conclusion"
   ]
  }
 ],
 "metadata": {
  "language_info": {
   "codemirror_mode": {
    "name": "ipython",
    "version": 3
   },
   "file_extension": ".py",
   "mimetype": "text/x-python",
   "name": "python",
   "nbconvert_exporter": "python",
   "pygments_lexer": "ipython3",
   "version": "3.11.8"
  }
 },
 "nbformat": 4,
 "nbformat_minor": 5
}
