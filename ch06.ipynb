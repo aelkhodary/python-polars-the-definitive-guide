{
 "cells": [
  {
   "cell_type": "markdown",
   "id": "7bb12800",
   "metadata": {},
   "source": [
    "# Chapter 6: Reading and Writing Data"
   ]
  },
  {
   "cell_type": "code",
   "execution_count": 1,
   "id": "d608b587",
   "metadata": {},
   "outputs": [],
   "source": [
    "import polars as pl\n",
    "pl.show_versions()  # The book is built with Polars version 1.0.0"
   ]
  },
  {
   "cell_type": "code",
   "execution_count": 2,
   "id": "3d09ea2f",
   "metadata": {},
   "outputs": [],
   "source": [
    "import polars as pl"
   ]
  },
  {
   "cell_type": "markdown",
   "id": "55e3273b",
   "metadata": {},
   "source": [
    "## Reading CSV Files"
   ]
  },
  {
   "cell_type": "code",
   "execution_count": 4,
   "id": "3361795e",
   "metadata": {},
   "outputs": [],
   "source": [
    "penguins = pl.read_csv(\"data/penguins.csv\")\n",
    "penguins"
   ]
  },
  {
   "cell_type": "markdown",
   "id": "f66a221f",
   "metadata": {},
   "source": [
    "## Parsing Missing Values Correctly"
   ]
  },
  {
   "cell_type": "code",
   "execution_count": 6,
   "id": "0ef845b8",
   "metadata": {},
   "outputs": [],
   "source": [
    "penguins = pl.read_csv(\"data/penguins.csv\", null_values=\"NA\")\n",
    "penguins"
   ]
  },
  {
   "cell_type": "code",
   "execution_count": 7,
   "id": "13baf82e",
   "metadata": {},
   "outputs": [],
   "source": [
    "(\n",
    "    penguins\n",
    "    .null_count()\n",
    "    .transpose(include_header=True, column_names=[\"null_count\"]) \n",
    ")"
   ]
  },
  {
   "cell_type": "markdown",
   "id": "018b64bd",
   "metadata": {},
   "source": [
    "## Reading Files with Encodings Other than UTF-8"
   ]
  },
  {
   "cell_type": "code",
   "execution_count": 9,
   "id": "4389ff19",
   "metadata": {},
   "outputs": [],
   "source": [
    "pl.read_csv(\"data/directors.csv\")"
   ]
  },
  {
   "cell_type": "code",
   "execution_count": 10,
   "id": "1a1684eb",
   "metadata": {},
   "outputs": [],
   "source": [
    "pl.read_csv(\"data/directors.csv\", encoding=\"EUC-CN\")"
   ]
  },
  {
   "cell_type": "code",
   "execution_count": 11,
   "id": "3f82552f",
   "metadata": {},
   "outputs": [],
   "source": [
    "import chardet\n",
    "\n",
    "def detect_encoding(filename: str) -> str:\n",
    "    \"\"\"Return the most probable character encoding for a file.\"\"\"\n",
    "\n",
    "    with open(filename, \"rb\") as f:\n",
    "        raw_data = f.read()\n",
    "        result = chardet.detect(raw_data)\n",
    "        return result[\"encoding\"]\n",
    "\n",
    "\n",
    "detect_encoding(\"data/directors.csv\")"
   ]
  },
  {
   "cell_type": "code",
   "execution_count": 12,
   "id": "8ac16873",
   "metadata": {},
   "outputs": [],
   "source": [
    "pl.read_csv(\"data/directors.csv\", encoding=\"EUC-JP\")"
   ]
  },
  {
   "cell_type": "markdown",
   "id": "009fd7c4",
   "metadata": {},
   "source": [
    "## Reading Excel Spreadsheets"
   ]
  },
  {
   "cell_type": "code",
   "execution_count": 14,
   "id": "f81f718e",
   "metadata": {},
   "outputs": [],
   "source": [
    "songs_fixed = pl.read_excel(\n",
    "    \"data/top2000-2023.xlsx\", read_options={\"skip_rows_after_header\": 1}\n",
    ")\n",
    "songs_fixed"
   ]
  },
  {
   "cell_type": "markdown",
   "id": "6db0061b",
   "metadata": {},
   "source": [
    "## Working with Multiple Files"
   ]
  },
  {
   "cell_type": "code",
   "execution_count": 16,
   "id": "e48579c3",
   "metadata": {},
   "outputs": [],
   "source": [
    "pl.read_csv(\"data/stock/nvda/201[0-9].csv\")"
   ]
  },
  {
   "cell_type": "code",
   "execution_count": 17,
   "id": "5fc0cadd",
   "metadata": {},
   "outputs": [],
   "source": [
    "all_stocks = pl.read_csv(\"data/stock/*/*.csv\")\n",
    "all_stocks"
   ]
  },
  {
   "cell_type": "code",
   "execution_count": 18,
   "id": "041b9c1d",
   "metadata": {},
   "outputs": [],
   "source": [
    "import calendar\n",
    "\n",
    "filenames = [\n",
    "    f\"data/stock/asml/{year}.csv\"\n",
    "    for year in range(1999, 2024)\n",
    "    if calendar.isleap(year)\n",
    "]\n",
    "\n",
    "filenames"
   ]
  },
  {
   "cell_type": "code",
   "execution_count": 19,
   "id": "cafd19f1",
   "metadata": {},
   "outputs": [],
   "source": [
    "pl.concat(pl.read_csv(f) for f in filenames)"
   ]
  },
  {
   "cell_type": "markdown",
   "id": "1c95f502",
   "metadata": {},
   "source": [
    "## Reading Parquet"
   ]
  },
  {
   "cell_type": "code",
   "execution_count": 21,
   "id": "3c5f8a77",
   "metadata": {},
   "outputs": [],
   "source": [
    "trips = pl.read_parquet(\"data/taxi/yellow_tripdata_*.parquet\")\n",
    "trips"
   ]
  },
  {
   "cell_type": "markdown",
   "id": "241dd79f",
   "metadata": {},
   "source": [
    "## Reading JSON and NDJSON"
   ]
  },
  {
   "cell_type": "markdown",
   "id": "ac226a6a",
   "metadata": {},
   "source": [
    "### JSON"
   ]
  },
  {
   "cell_type": "code",
   "execution_count": 24,
   "id": "d2a1ff6c",
   "metadata": {},
   "outputs": [],
   "source": [
    "pokedex = pl.read_json(\"data/pokedex.json\")\n",
    "pokedex"
   ]
  },
  {
   "cell_type": "code",
   "execution_count": 25,
   "id": "36c184ed",
   "metadata": {},
   "outputs": [],
   "source": [
    "(\n",
    "    pokedex.explode(\"pokemon\")\n",
    "    .unnest(\"pokemon\")\n",
    "    .select(\"id\", \"name\", \"type\", \"height\", \"weight\")\n",
    ")"
   ]
  },
  {
   "cell_type": "markdown",
   "id": "76899ce0",
   "metadata": {},
   "source": [
    "### NDJSON"
   ]
  },
  {
   "cell_type": "code",
   "execution_count": 27,
   "id": "ead7f2ea",
   "metadata": {},
   "outputs": [],
   "source": [
    "from json import loads\n",
    "from pprint import pprint\n",
    "\n",
    "with open(\"data/wikimedia.ndjson\") as f:\n",
    "    pprint(loads(f.readline()))"
   ]
  },
  {
   "cell_type": "code",
   "execution_count": 28,
   "id": "9b3eb3ad",
   "metadata": {},
   "outputs": [],
   "source": [
    "wikimedia = pl.read_ndjson(\"data/wikimedia.ndjson\")\n",
    "wikimedia"
   ]
  },
  {
   "cell_type": "code",
   "execution_count": 29,
   "id": "1184439b",
   "metadata": {},
   "outputs": [],
   "source": [
    "(\n",
    "    wikimedia.rename({\"id\": \"edit_id\"})\n",
    "    .unnest(\"meta\")\n",
    "    .select(\"timestamp\", \"title\", \"user\", \"comment\")\n",
    ")"
   ]
  },
  {
   "cell_type": "markdown",
   "id": "bdd61b57",
   "metadata": {},
   "source": [
    "## Other File Formats"
   ]
  },
  {
   "cell_type": "code",
   "execution_count": 31,
   "id": "e7f0c778",
   "metadata": {},
   "outputs": [],
   "source": [
    "import pandas as pd\n",
    "\n",
    "url = \"https://en.wikipedia.org/wiki/List_of_Latin_abbreviations\"\n",
    "pl.from_pandas(pd.read_html(url)[0])"
   ]
  },
  {
   "cell_type": "markdown",
   "id": "73e5bd4a",
   "metadata": {},
   "source": [
    "## Querying Databases"
   ]
  },
  {
   "cell_type": "code",
   "execution_count": 33,
   "id": "df32c53a",
   "metadata": {},
   "outputs": [],
   "source": [
    "pl.read_database_uri(\n",
    "    query=\"\"\"\n",
    "    SELECT\n",
    "        f.film_id,\n",
    "        f.title,\n",
    "        c.name AS category,\n",
    "        f.rating,\n",
    "        f.length / 60.0 AS length\n",
    "    FROM\n",
    "        film AS f,\n",
    "        film_category AS fc,\n",
    "        category AS c\n",
    "    WHERE\n",
    "        fc.film_id = f.film_id\n",
    "        AND fc.category_id = c.category_id\n",
    "    LIMIT 10\n",
    "    \"\"\",\n",
    "    uri=\"sqlite:::data/sakila.db\",\n",
    ")"
   ]
  },
  {
   "cell_type": "code",
   "execution_count": 34,
   "id": "92890d27",
   "metadata": {},
   "outputs": [],
   "source": [
    "db = \"sqlite:::data/sakila.db\"\n",
    "films = pl.read_database_uri(\"SELECT * FROM film\", db)\n",
    "film_categories = pl.read_database_uri(\"SELECT * FROM film_category\", db)\n",
    "categories = pl.read_database_uri(\"SELECT * FROM category\", db)\n",
    "\n",
    "(\n",
    "    films.join(film_categories, on=\"film_id\", suffix=\"_fc\")\n",
    "    .join(categories, on=\"category_id\", suffix=\"_c\")\n",
    "    .select(\n",
    "        \"film_id\",\n",
    "        \"title\",\n",
    "        pl.col(\"name\").alias(\"category\"),\n",
    "        \"rating\",\n",
    "        pl.col(\"length\") / 60,\n",
    "    )\n",
    "    .limit(10)\n",
    ")"
   ]
  },
  {
   "cell_type": "markdown",
   "id": "270382db",
   "metadata": {},
   "source": [
    "## Writing Data"
   ]
  },
  {
   "cell_type": "markdown",
   "id": "100e4542",
   "metadata": {},
   "source": [
    "### CSV Format"
   ]
  },
  {
   "cell_type": "code",
   "execution_count": 37,
   "id": "63a97063",
   "metadata": {},
   "outputs": [],
   "source": [
    "all_stocks.write_csv(\"data/all_stocks.csv\")"
   ]
  },
  {
   "cell_type": "markdown",
   "id": "21ae848f",
   "metadata": {},
   "source": [
    "### Excel Format"
   ]
  },
  {
   "cell_type": "code",
   "execution_count": 39,
   "id": "e7eb25fc",
   "metadata": {},
   "outputs": [],
   "source": [
    "all_stocks.write_excel(\"data/all_stocks.xlsx\")"
   ]
  },
  {
   "cell_type": "markdown",
   "id": "bbdbae67",
   "metadata": {},
   "source": [
    "### Parquet Format"
   ]
  },
  {
   "cell_type": "code",
   "execution_count": 41,
   "id": "fc2162ba",
   "metadata": {},
   "outputs": [],
   "source": [
    "all_stocks.write_parquet(\"data/all_stocks.parquet\")"
   ]
  },
  {
   "cell_type": "markdown",
   "id": "21b96b0d",
   "metadata": {},
   "source": [
    "### Other Considerations"
   ]
  },
  {
   "cell_type": "markdown",
   "id": "189451d2",
   "metadata": {},
   "source": [
    "## Conclusion"
   ]
  }
 ],
 "metadata": {},
 "nbformat": 4,
 "nbformat_minor": 5
}
