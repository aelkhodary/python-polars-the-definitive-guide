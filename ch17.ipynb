{
 "cells": [
  {
   "cell_type": "markdown",
   "id": "e64b6ffe",
   "metadata": {},
   "source": [
    "# Chapter 17: Extending Polars"
   ]
  },
  {
   "cell_type": "code",
   "execution_count": 1,
   "id": "40455666",
   "metadata": {},
   "outputs": [],
   "source": [
    "import polars as pl\n",
    "pl.show_versions()  # The book is built with Polars version 1.0.0"
   ]
  },
  {
   "cell_type": "markdown",
   "id": "2c650043",
   "metadata": {},
   "source": [
    "## User Defined Functions in Python"
   ]
  },
  {
   "cell_type": "code",
   "execution_count": 3,
   "id": "fce46832",
   "metadata": {},
   "outputs": [],
   "source": [
    "from textblob import TextBlob\n",
    "\n",
    "def analyze_sentiment(review):\n",
    "    return TextBlob(review).sentiment.polarity\n",
    "\n",
    "df = pl.DataFrame({\n",
    "    \"reviews\": [\n",
    "        \"This product is great!\",\n",
    "        \"Terrible service.\",\n",
    "        \"Okay, but not what I expected.\",\n",
    "        \"Excellent! I love it.\"\n",
    "    ]\n",
    "})\n",
    "\n",
    "df = df.with_columns(\n",
    "    pl.col(\"reviews\")\n",
    "    .map_elements(\n",
    "        analyze_sentiment,\n",
    "        return_dtype=pl.Float64\n",
    "    )\n",
    "    .alias(\"sentiment_score\")\n",
    ")\n",
    "df"
   ]
  },
  {
   "cell_type": "code",
   "execution_count": 4,
   "id": "a61ddb09",
   "metadata": {},
   "outputs": [],
   "source": [
    "df = pl.DataFrame({\n",
    "    \"x\": [1,2,3,4]\n",
    "})\n",
    "\n",
    "def add_one(x):\n",
    "    return x + 1\n",
    "\n",
    "df.with_columns(\n",
    "    pl.col('x')\n",
    "    .map_elements(\n",
    "        add_one,\n",
    "        return_dtype=pl.Int64,\n",
    "    )\n",
    "    .alias(\"x + 1\")\n",
    ")"
   ]
  },
  {
   "cell_type": "code",
   "execution_count": 5,
   "id": "1cb6f14e",
   "metadata": {},
   "outputs": [],
   "source": [
    "from functools import lru_cache\n",
    "\n",
    "\n",
    "df = pl.DataFrame({\n",
    "    \"x\": [1,1,3,3]\n",
    "})\n",
    "\n",
    "@lru_cache(maxsize=None)\n",
    "def add_one(x):\n",
    "    return x + 1\n",
    "\n",
    "df.with_columns(\n",
    "    pl.col('x')\n",
    "    .map_elements(\n",
    "        add_one,\n",
    "        return_dtype=pl.Int64,\n",
    "    )\n",
    "    .alias(\"x + 1\")\n",
    ")"
   ]
  },
  {
   "cell_type": "code",
   "execution_count": 6,
   "id": "e1122c5e",
   "metadata": {},
   "outputs": [],
   "source": [
    "import polars.selectors as cs\n",
    "import numpy as np\n",
    "from scipy.special import softmax\n",
    "\n",
    "df = pl.DataFrame({\n",
    "    \"feature1\": [0.3, 0.2, 0.4, 0.1, 0.2, 0.3, 0.5],\n",
    "    \"feature2\": [32, 50, 70, 65, 0, 10, 15],\n",
    "    \"label\": [1, 0, 1, 0, 1, 0, 0]\n",
    "})\n",
    "\n",
    "result = df.select(\n",
    "    \"label\",\n",
    "    cs.starts_with(\"feature\").map_batches(\n",
    "        lambda x: softmax(x.to_numpy()),\n",
    "    )\n",
    ")\n",
    "result"
   ]
  },
  {
   "cell_type": "code",
   "execution_count": 7,
   "id": "a25dab09",
   "metadata": {},
   "outputs": [],
   "source": [
    "from sklearn.preprocessing import StandardScaler\n",
    "\n",
    "def scale_temperature(group):\n",
    "    scaler = StandardScaler()\n",
    "    scaled_values = scaler.fit_transform(group[['temperature']].to_numpy())\n",
    "    return group.with_columns(pl.Series(values=scaled_values.flatten(), name=\"scaled_feature\"))\n",
    "\n",
    "df = pl.DataFrame({\n",
    "    \"group\": [\"USA\", \"USA\", \"USA\", \"USA\", \"NL\", \"NL\", \"NL\"],\n",
    "    \"temperature\": [32, 50, 70, 65, 0, 10, 15]\n",
    "})\n",
    "\n",
    "result = df.group_by(\"group\").map_groups(scale_temperature)\n",
    "result"
   ]
  },
  {
   "cell_type": "code",
   "execution_count": 8,
   "id": "16dd7dbb",
   "metadata": {},
   "outputs": [],
   "source": [
    "df = pl.DataFrame({\n",
    "    \"group\": [\"USA\", \"USA\", \"USA\", \"USA\", \"NL\", \"NL\", \"NL\"],\n",
    "    \"temperature\": [32, 50, 70, 65, 0, 10, 15]\n",
    "})\n",
    "\n",
    "for group in df.group_by([\"group\"]):\n",
    "    print(group)"
   ]
  },
  {
   "cell_type": "markdown",
   "id": "ee0c26e5",
   "metadata": {},
   "source": [
    "## Registering Your Own Namespace"
   ]
  },
  {
   "cell_type": "code",
   "execution_count": 10,
   "id": "29f52261",
   "metadata": {},
   "outputs": [],
   "source": [
    "@pl.api.register_expr_namespace(\"celsius\")  \n",
    "class Celsius:\n",
    "    def __init__(self, expr: pl.Expr):  \n",
    "        self._expr = expr\n",
    "\n",
    "    def to_fahrenheit(self) -> pl.Expr:  \n",
    "        return (self._expr * 9 / 5) + 32\n",
    "\n",
    "    def to_kelvin(self) -> pl.Expr:\n",
    "        return self._expr + 273.15"
   ]
  },
  {
   "cell_type": "code",
   "execution_count": 11,
   "id": "3ea0174f",
   "metadata": {},
   "outputs": [],
   "source": [
    "import polars as pl\n",
    "\n",
    "df = pl.DataFrame({\n",
    "    \"celsius\": [0, 10, 20, 30, 40]\n",
    "})\n",
    "\n",
    "df.with_columns(pl.col(\"celsius\").celsius.to_fahrenheit().alias(\"fahrenheit\"))"
   ]
  },
  {
   "cell_type": "markdown",
   "id": "e48f1797",
   "metadata": {},
   "source": [
    "## Polars Plug-Ins in Rust"
   ]
  },
  {
   "cell_type": "markdown",
   "id": "b116022b",
   "metadata": {},
   "source": [
    "### Prerequisites"
   ]
  },
  {
   "cell_type": "markdown",
   "id": "37a1914d",
   "metadata": {},
   "source": [
    "### The Anatomy of a Plug-in Project"
   ]
  },
  {
   "cell_type": "markdown",
   "id": "fae5f6e2",
   "metadata": {},
   "source": [
    "### The Plug-in"
   ]
  },
  {
   "cell_type": "code",
   "execution_count": 16,
   "id": "985ff43b",
   "metadata": {},
   "outputs": [],
   "source": [
    "from pathlib import Path\n",
    "\n",
    "import polars as pl\n",
    "from polars.plugins import register_plugin_function\n",
    "from polars.type_aliases import IntoExpr\n",
    "\n",
    "\n",
    "def hello_world(expr: IntoExpr) -> pl.Expr:  \n",
    "    return register_plugin_function(  \n",
    "        plugin_path=Path(__file__).parent,  \n",
    "        function_name=\"hello_world\",  \n",
    "        args=expr,  \n",
    "        is_elementwise=True, \n",
    "    )"
   ]
  },
  {
   "cell_type": "markdown",
   "id": "f41533e0",
   "metadata": {},
   "source": [
    "### Compiling the Plug-in"
   ]
  },
  {
   "cell_type": "markdown",
   "id": "494e0f0d",
   "metadata": {},
   "source": [
    "### Performance Benchmark"
   ]
  },
  {
   "cell_type": "code",
   "execution_count": 19,
   "id": "f0008ad1",
   "metadata": {},
   "outputs": [],
   "source": [
    "import polars as pl\n",
    "from hello_world_func import hello_world  \n",
    "import time\n",
    "\n",
    "df = pl.DataFrame(\n",
    "    {\n",
    "        \"a\": [\"1\", \"2\", \"3\", \"4\"] * 100_000,\n",
    "    }\n",
    ")\n",
    "\n",
    "times = []\n",
    "for i in range(10):\n",
    "    t0 = time.time()\n",
    "    out = df.with_columns(pl.col(\"a\").str.replace_all(r\".*\", \"Hello, world!\"))\n",
    "    t1 = time.time()\n",
    "    times.append(t1 - t0)\n",
    "print(\"Polars native string replace:        \", sum(times) / len(times))\n",
    "\n",
    "\n",
    "times = []\n",
    "for i in range(10):\n",
    "    t0 = time.time()\n",
    "    out = df.with_columns(hello_world(\"a\"))  \n",
    "    t1 = time.time()\n",
    "    times.append(t1 - t0)\n",
    "print(\"Our custom made Hello world replace: \", sum(times) / len(times))"
   ]
  },
  {
   "cell_type": "markdown",
   "id": "8aeeeb68",
   "metadata": {},
   "source": [
    "### Register Arguments"
   ]
  },
  {
   "cell_type": "markdown",
   "id": "89812eae",
   "metadata": {},
   "source": [
    "#### Working with Multiple `args` and `kwargs` as Input"
   ]
  },
  {
   "cell_type": "code",
   "execution_count": 22,
   "id": "da9dc8cb",
   "metadata": {},
   "outputs": [],
   "source": [
    "def args_func(arg1: IntoExpr, arg2: IntoExpr) -> pl.Expr:\n",
    "    return register_plugin_function(\n",
    "        plugin_path=Path(__file__).parent,\n",
    "        function_name=\"args_func\",\n",
    "        args=[arg1, arg2],\n",
    "    )"
   ]
  },
  {
   "cell_type": "code",
   "execution_count": 23,
   "id": "07201c3b",
   "metadata": {},
   "outputs": [],
   "source": [
    "def kwargs_func(\n",
    "    expr: IntoExpr,\n",
    "    float_arg: float,\n",
    "    integer_arg: int,\n",
    "    string_arg: str,\n",
    "    boolean_arg: bool,\n",
    ") -> pl.Expr:\n",
    "    return register_plugin_function(\n",
    "        plugin_path=Path(__file__).parent,\n",
    "        function_name=\"kwargs_func\",\n",
    "        args=expr,\n",
    "        kwargs={\n",
    "            \"float_arg\": float_arg,\n",
    "            \"integer_arg\": integer_arg,\n",
    "            \"string_arg\": string_arg,\n",
    "            \"boolean_arg\": boolean_arg,\n",
    "        },\n",
    "    )"
   ]
  },
  {
   "cell_type": "markdown",
   "id": "6c5704a0",
   "metadata": {},
   "source": [
    "#### Other Register Arguments"
   ]
  },
  {
   "cell_type": "markdown",
   "id": "9492eaa2",
   "metadata": {},
   "source": [
    "### Using a Rust Crate"
   ]
  },
  {
   "cell_type": "markdown",
   "id": "32a424af",
   "metadata": {},
   "source": [
    "### Use Case: Geo"
   ]
  },
  {
   "cell_type": "markdown",
   "id": "2bab38cc",
   "metadata": {},
   "source": [
    "#### Adding the `geo` Crate"
   ]
  },
  {
   "cell_type": "markdown",
   "id": "d5334317",
   "metadata": {},
   "source": [
    "#### The Rust Code: `expressions.rs`"
   ]
  },
  {
   "cell_type": "markdown",
   "id": "cd432b0d",
   "metadata": {},
   "source": [
    "#### The Python Code: `__init__.py`"
   ]
  },
  {
   "cell_type": "code",
   "execution_count": 30,
   "id": "1881bc9f",
   "metadata": {},
   "outputs": [],
   "source": [
    "from pathlib import Path\n",
    "\n",
    "import polars as pl\n",
    "from polars.plugins import register_plugin_function\n",
    "from polars.type_aliases import IntoExpr\n",
    "\n",
    "\n",
    "def point_in_polygon(point: IntoExpr, polygon: IntoExpr) -> pl.Expr:\n",
    "    return register_plugin_function(\n",
    "        plugin_path=Path(__file__).parent,\n",
    "        args=[point, polygon],\n",
    "        function_name=\"point_in_polygon\",\n",
    "        is_elementwise=True,\n",
    "    )"
   ]
  },
  {
   "cell_type": "markdown",
   "id": "f63cb5ae",
   "metadata": {},
   "source": [
    "#### The Python Code: Using the Custom Namespace"
   ]
  },
  {
   "cell_type": "code",
   "execution_count": 32,
   "id": "fb4550cd",
   "metadata": {},
   "outputs": [],
   "source": [
    "import polars as pl\n",
    "import coordinates_plugin_py as coord\n",
    "\n",
    "@pl.api.register_expr_namespace(\"point\")  \n",
    "class Point:\n",
    "    def __init__(self, input_expression: pl.Expr):  \n",
    "        self._input_expression = input_expression\n",
    "\n",
    "    def is_in_polygon(self, polygon: list[list[pl.Float64]]) -> pl.Expr:  \n",
    "        return coord.point_in_polygon(self._input_expression, polygon)"
   ]
  },
  {
   "cell_type": "code",
   "execution_count": 33,
   "id": "71079207",
   "metadata": {},
   "outputs": [],
   "source": [
    "# Create a sample DataFrame\n",
    "df = pl.DataFrame(\n",
    "    {\n",
    "        \"point\": [[5.0, 5.0], [20.0, 20.0], [20.0, 20.0]],\n",
    "        \"polygon\": [\n",
    "            [[0.0, 0.0], [10.0, 0.0], [10.0, 10.0], [0.0, 10.0]],\n",
    "            [[0.0, 0.0], [10.0, 0.0], [10.0, 10.0], ],\n",
    "            [[0.0, None], [10.0, 0.0], [10.0, 10.0], [0.0, 10.0], [0.0, 0.0]],\n",
    "        ],\n",
    "    }\n",
    ")"
   ]
  },
  {
   "cell_type": "code",
   "execution_count": 34,
   "id": "14915231",
   "metadata": {},
   "outputs": [],
   "source": [
    "# Apply the point_in_polygon function\n",
    "df.with_columns(\n",
    "    pl.col(\"point\").point.is_in_polygon(pl.col(\"polygon\")).alias(\"is_in_polygon\")\n",
    ")"
   ]
  },
  {
   "cell_type": "markdown",
   "id": "d211d90e",
   "metadata": {},
   "source": [
    "## Conclusion"
   ]
  }
 ],
 "metadata": {},
 "nbformat": 4,
 "nbformat_minor": 5
}
