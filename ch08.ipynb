{
 "cells": [
  {
   "cell_type": "markdown",
   "id": "92f8b6bf",
   "metadata": {},
   "source": [
    "# Chapter 8: Continuing Expressions"
   ]
  },
  {
   "cell_type": "code",
   "execution_count": 1,
   "id": "595382cc",
   "metadata": {},
   "outputs": [],
   "source": [
    "import polars as pl\n",
    "pl.show_versions()  # The book is built with Polars version 1.0.0"
   ]
  },
  {
   "cell_type": "code",
   "execution_count": 2,
   "id": "b3a849d8",
   "metadata": {},
   "outputs": [],
   "source": [
    "import math\n",
    "import numpy as np\n",
    "\n",
    "print(f\"{math.pi=}\")\n",
    "rng = np.random.default_rng(1729)\n",
    "print(f\"{rng.random()=}\")"
   ]
  },
  {
   "cell_type": "markdown",
   "id": "acaa9206",
   "metadata": {},
   "source": [
    "## Types of Operations"
   ]
  },
  {
   "cell_type": "markdown",
   "id": "335c3e0a",
   "metadata": {},
   "source": [
    "### Example A: Element-Wise Operations"
   ]
  },
  {
   "cell_type": "code",
   "execution_count": 5,
   "id": "04bedfed",
   "metadata": {},
   "outputs": [],
   "source": [
    "penguins = (\n",
    "    pl.read_csv(\"data/penguins.csv\", null_values=\"NA\")\n",
    "    .select(\n",
    "        \"species\",\n",
    "        \"island\",\n",
    "        \"sex\",\n",
    "        \"year\",\n",
    "        pl.col(\"body_mass_g\").alias(\"mass\") / 1000\n",
    "    ))\n",
    "penguins.with_columns(\n",
    "    pl.col(\"mass\").sqrt().alias(\"mass_sqrt\"),  \n",
    "    pl.col(\"mass\").interpolate().alias(\"mass_filled\")  \n",
    ")"
   ]
  },
  {
   "cell_type": "markdown",
   "id": "23f04c56",
   "metadata": {},
   "source": [
    "### Example B: Operations that Summarize to One"
   ]
  },
  {
   "cell_type": "code",
   "execution_count": 7,
   "id": "396716f3",
   "metadata": {},
   "outputs": [],
   "source": [
    "penguins.select(\n",
    "    pl.col(\"mass\").mean(),\n",
    "    pl.col(\"island\").mode().first()  \n",
    ")"
   ]
  },
  {
   "cell_type": "markdown",
   "id": "de19efd7",
   "metadata": {},
   "source": [
    "### Example C: Operations that Summarize to One or More"
   ]
  },
  {
   "cell_type": "code",
   "execution_count": 9,
   "id": "64023ec9",
   "metadata": {},
   "outputs": [],
   "source": [
    "penguins.select(\n",
    "    pl.col(\"island\").unique()\n",
    ")"
   ]
  },
  {
   "cell_type": "markdown",
   "id": "1d06d991",
   "metadata": {},
   "source": [
    "### Example D: Operations that Extend"
   ]
  },
  {
   "cell_type": "code",
   "execution_count": 11,
   "id": "be07575b",
   "metadata": {},
   "outputs": [],
   "source": [
    "penguins.select(\n",
    "    pl.col(\"species\")\n",
    "    .unique()  \n",
    "    .repeat_by(3000)  \n",
    "    .explode()  \n",
    "    .extend_constant(\"Saiyan\", n=1)  \n",
    ")"
   ]
  },
  {
   "cell_type": "markdown",
   "id": "b52be681",
   "metadata": {},
   "source": [
    "## Element-Wise Operations"
   ]
  },
  {
   "cell_type": "markdown",
   "id": "a7b6fc81",
   "metadata": {},
   "source": [
    "### Operations That Perform Mathematical Transformations"
   ]
  },
  {
   "cell_type": "code",
   "execution_count": 14,
   "id": "f668e733",
   "metadata": {},
   "outputs": [],
   "source": [
    "(\n",
    "    pl.DataFrame({\"x\": [-2, 0, 0.5, 1, math.e, 1000]})\n",
    "    .with_columns(\n",
    "        abs=pl.col(\"x\").abs(),\n",
    "        exp=pl.col(\"x\").exp(),\n",
    "        log2=pl.col(\"x\").log(2),  \n",
    "        log10=pl.col(\"x\").log10(),\n",
    "        log1p=pl.col(\"x\").log1p(),\n",
    "        sign=pl.col(\"x\").sign(),\n",
    "        sqrt=pl.col(\"x\").sqrt(),\n",
    "    )\n",
    ")"
   ]
  },
  {
   "cell_type": "markdown",
   "id": "53ecef35",
   "metadata": {},
   "source": [
    "### Operations Related to Trigonometry"
   ]
  },
  {
   "cell_type": "code",
   "execution_count": 16,
   "id": "d33b3933",
   "metadata": {},
   "outputs": [],
   "source": [
    "(\n",
    "    pl.DataFrame({\"x\": [-math.pi, 0, 1, math.pi, 2*math.pi, 90, 180, 360]})\n",
    "    .with_columns(\n",
    "        arccos=pl.col(\"x\").arccos(),  \n",
    "        cos=pl.col(\"x\").cos(),\n",
    "        degrees=pl.col(\"x\").degrees(),\n",
    "        radians=pl.col(\"x\").radians(),\n",
    "        sin=pl.col(\"x\").sin(),\n",
    "    )\n",
    ")"
   ]
  },
  {
   "cell_type": "markdown",
   "id": "102bd7ef",
   "metadata": {},
   "source": [
    "### Operations That Round and Categorize"
   ]
  },
  {
   "cell_type": "code",
   "execution_count": 18,
   "id": "8899868d",
   "metadata": {},
   "outputs": [],
   "source": [
    "(\n",
    "    pl.DataFrame({\"x\": [-6, -0.5, 0, 0.5, math.pi, 9.9, 9.99, 9.999]})\n",
    "    .with_columns(\n",
    "        ceil=pl.col(\"x\").ceil(),\n",
    "        clip=pl.col(\"x\").clip(-1, 1),\n",
    "        cut=pl.col(\"x\").cut([-1, 1], labels=[\"bad\", \"neutral\", \"good\"]),  \n",
    "        floor=pl.col(\"x\").floor(),\n",
    "        qcut=pl.col(\"x\").qcut([0.5], labels=[\"below median\", \"above median\"]),\n",
    "        round2=pl.col(\"x\").round(2),\n",
    "        round0=pl.col(\"x\").round(0),  \n",
    "    )\n",
    ")"
   ]
  },
  {
   "cell_type": "markdown",
   "id": "b179d643",
   "metadata": {},
   "source": [
    "### Operations for Missing or Infinite Values"
   ]
  },
  {
   "cell_type": "code",
   "execution_count": 20,
   "id": "a0013d9b",
   "metadata": {},
   "outputs": [],
   "source": [
    "x = [42, math.nan, None, math.inf, -math.inf]\n",
    "(\n",
    "    pl.DataFrame({\"x\": x})\n",
    "    .with_columns(\n",
    "        fill_nan=pl.col(\"x\").fill_nan(999),\n",
    "        fill_null=pl.col(\"x\").fill_null(0),\n",
    "        is_finite=pl.col(\"x\").is_finite(),\n",
    "        is_infinite=pl.col(\"x\").is_finite(),\n",
    "        is_nan=pl.col(\"x\").is_nan(),\n",
    "        is_null=pl.col(\"x\").is_null(),\n",
    "    )\n",
    ")"
   ]
  },
  {
   "cell_type": "code",
   "execution_count": 21,
   "id": "6d3bc319",
   "metadata": {},
   "outputs": [],
   "source": [
    "(\n",
    "    pl.DataFrame({\"x\": x})\n",
    "    .with_columns(\n",
    "        fill_both=pl.col(\"x\").fill_nan(0).fill_null(0),\n",
    "        is_either=(\n",
    "            pl.col(\"x\").is_nan() | pl.col(\"x\").is_null()\n",
    "        ),\n",
    "    )\n",
    ")"
   ]
  },
  {
   "cell_type": "markdown",
   "id": "19ee16e2",
   "metadata": {},
   "source": [
    "### Other Operations"
   ]
  },
  {
   "cell_type": "code",
   "execution_count": 23,
   "id": "df499846",
   "metadata": {},
   "outputs": [],
   "source": [
    "(\n",
    "    pl.DataFrame({\"x\": [\"here\", \"there\", \"their\", \"they're\"]})\n",
    "    .with_columns(\n",
    "        hash=pl.col(\"x\").hash(seed=1337),  \n",
    "        repeat_by=pl.col(\"x\").repeat_by(3),\n",
    "        replace=pl.col(\"x\").replace({\n",
    "            \"here\": \"there\",\n",
    "            \"they're\": \"they are\",\n",
    "        }),\n",
    "    )\n",
    ")"
   ]
  },
  {
   "cell_type": "markdown",
   "id": "ed75bee8",
   "metadata": {},
   "source": [
    "## Nonreducing Series-Wise Operations"
   ]
  },
  {
   "cell_type": "markdown",
   "id": "8b71c612",
   "metadata": {},
   "source": [
    "### Operations That Accumulate"
   ]
  },
  {
   "cell_type": "code",
   "execution_count": 26,
   "id": "76de12ad",
   "metadata": {},
   "outputs": [],
   "source": [
    "(\n",
    "    pl.DataFrame({\"x\": [0, 1, 2, None, 2, np.NaN, -1, 2]})\n",
    "    .with_columns(\n",
    "        cum_count=pl.col(\"x\").cum_count(),  \n",
    "        cum_max=pl.col(\"x\").cum_max(),\n",
    "        cum_min=pl.col(\"x\").cum_min(),\n",
    "        cum_prod=pl.col(\"x\").cum_prod(reverse=True),  \n",
    "        cum_sum=pl.col(\"x\").cum_sum(),\n",
    "        diff=pl.col(\"x\").diff(),\n",
    "        pct_change=pl.col(\"x\").pct_change(),\n",
    "    )\n",
    ")"
   ]
  },
  {
   "cell_type": "markdown",
   "id": "0071f739",
   "metadata": {},
   "source": [
    "### Operations That Fill and Shift"
   ]
  },
  {
   "cell_type": "code",
   "execution_count": 28,
   "id": "43ad55fc",
   "metadata": {},
   "outputs": [],
   "source": [
    "(\n",
    "    pl.DataFrame({\"x\": [-1, 0, 1, None, None, 3, 4, math.nan, 6]})\n",
    "    .with_columns(\n",
    "        backward_fill=pl.col(\"x\").backward_fill(),  \n",
    "        forward_fill=pl.col(\"x\").forward_fill(limit=1),\n",
    "        interp1=pl.col(\"x\").interpolate(method=\"linear\"),  \n",
    "        interp2=pl.col(\"x\").interpolate(method=\"nearest\"),\n",
    "        shift1=pl.col(\"x\").shift(1),\n",
    "        shift2=pl.col(\"x\").shift(-2),\n",
    "    )\n",
    ")"
   ]
  },
  {
   "cell_type": "markdown",
   "id": "ae548ca4",
   "metadata": {},
   "source": [
    "### Operations Related to Duplicate Values"
   ]
  },
  {
   "cell_type": "code",
   "execution_count": 30,
   "id": "9457144a",
   "metadata": {},
   "outputs": [],
   "source": [
    "(\n",
    "    pl.DataFrame({\"x\": [\"A\", \"C\", \"D\", \"C\"]})  \n",
    "    .with_columns(\n",
    "        is_duplicated=pl.col(\"x\").is_duplicated(),\n",
    "        is_first_distinct=pl.col(\"x\").is_first_distinct(),\n",
    "        is_last_distinct=pl.col(\"x\").is_last_distinct(),\n",
    "        is_unique=pl.col(\"x\").is_unique(),\n",
    "    )\n",
    ")"
   ]
  },
  {
   "cell_type": "markdown",
   "id": "aedf7ca7",
   "metadata": {},
   "source": [
    "### Operations That Compute Rolling Statistics"
   ]
  },
  {
   "cell_type": "code",
   "execution_count": 32,
   "id": "ad31a9d9",
   "metadata": {},
   "outputs": [],
   "source": [
    "stock = (\n",
    "    pl.read_csv(\"data/stock/nvda/2023.csv\", try_parse_dates=True)\n",
    "    .select(\"date\", \"close\")\n",
    "    .with_columns(\n",
    "        ewm_mean=pl.col(\"close\").ewm_mean(com=7, ignore_nulls=True),  \n",
    "        rolling_mean=pl.col(\"close\").rolling_mean(window_size=7),\n",
    "        rolling_min=pl.col(\"close\").rolling_min(window_size=7),\n",
    "    )\n",
    ")\n",
    "stock"
   ]
  },
  {
   "cell_type": "code",
   "execution_count": 33,
   "id": "aec93664",
   "metadata": {},
   "outputs": [],
   "source": [
    "from matplotlib.dates import DateFormatter\n",
    "stock.plot.line(\n",
    "    x=\"date\",\n",
    "    y=[\"close\", \"ewm_mean\", \"rolling_mean\", \"rolling_min\"],\n",
    "    xformatter=DateFormatter(\"%b %Y\")\n",
    ")"
   ]
  },
  {
   "cell_type": "markdown",
   "id": "3bf9a4b7",
   "metadata": {},
   "source": [
    "### Operations That Sort"
   ]
  },
  {
   "cell_type": "code",
   "execution_count": 35,
   "id": "ad4e7663",
   "metadata": {},
   "outputs": [],
   "source": [
    "(\n",
    "    pl.DataFrame({\n",
    "        \"x\": [1, 3, None, 3, 7],\n",
    "        \"y\": [\"D\", \"I\", \"S\", \"C\", \"O\"],\n",
    "    })\n",
    "    .with_columns(\n",
    "        arg_sort=pl.col(\"x\").arg_sort(),\n",
    "        shuffle=pl.col(\"x\").shuffle(seed=7),\n",
    "        sort=pl.col(\"x\").sort(nulls_last=True),\n",
    "        sort_by=pl.col(\"x\").sort_by(\"y\"),\n",
    "        reverse=pl.col(\"x\").reverse(),\n",
    "        rank=pl.col(\"x\").rank(),\n",
    "    )\n",
    ")"
   ]
  },
  {
   "cell_type": "markdown",
   "id": "e0677d1c",
   "metadata": {},
   "source": [
    "### Other Operations"
   ]
  },
  {
   "cell_type": "code",
   "execution_count": 37,
   "id": "2e76d0da",
   "metadata": {},
   "outputs": [],
   "source": [
    "(\n",
    "    pl.DataFrame({\"x\": [33, 33, 27, 33, 60, 60, 60, 33, 60]})\n",
    "    .with_columns(\n",
    "        rle_id=pl.col(\"x\").rle_id(),\n",
    "    )\n",
    ")"
   ]
  },
  {
   "cell_type": "markdown",
   "id": "9dc1b811",
   "metadata": {},
   "source": [
    "## Series-Wise Operations that Summarize to One"
   ]
  },
  {
   "cell_type": "code",
   "execution_count": 39,
   "id": "8cb7a59a",
   "metadata": {},
   "outputs": [],
   "source": [
    "(\n",
    "    pl.DataFrame({\"x\": [1, 3, 3, 7]})\n",
    "    .with_columns(\n",
    "        mean=pl.col(\"x\").mean(),\n",
    "    )\n",
    ")"
   ]
  },
  {
   "cell_type": "code",
   "execution_count": 40,
   "id": "1ab2d682",
   "metadata": {},
   "outputs": [],
   "source": [
    "(\n",
    "    pl.DataFrame({\n",
    "        \"cluster\": [\"a\", \"a\", \"b\", \"b\"],\n",
    "        \"x\": [1, 3, 3, 7]\n",
    "    })\n",
    "    .group_by(\"cluster\")\n",
    "    .agg(\n",
    "        mean=pl.col(\"x\").mean(),\n",
    "    )\n",
    ")"
   ]
  },
  {
   "cell_type": "markdown",
   "id": "9c21c161",
   "metadata": {},
   "source": [
    "### Operations That Are Quantifiers"
   ]
  },
  {
   "cell_type": "code",
   "execution_count": 42,
   "id": "a9fb98cf",
   "metadata": {},
   "outputs": [],
   "source": [
    "(\n",
    "    pl.DataFrame({\n",
    "        \"x\": [True, False, False],\n",
    "        \"y\": [True, True, True],\n",
    "        \"z\": [False, False, False],\n",
    "        })\n",
    "    .select(\n",
    "        pl.all().all().name.suffix(\"_all\"),\n",
    "        pl.all().any().name.suffix(\"_any\"),\n",
    "    )\n",
    ")"
   ]
  },
  {
   "cell_type": "markdown",
   "id": "1379da96",
   "metadata": {},
   "source": [
    "### Operations That Compute Statistics"
   ]
  },
  {
   "cell_type": "code",
   "execution_count": 44,
   "id": "e5b459b7",
   "metadata": {},
   "outputs": [],
   "source": [
    "samples = rng.normal(loc=5, scale=3, size=1_000_000)\n",
    "\n",
    "(\n",
    "    pl.DataFrame({\"x\": samples})\n",
    "    .select(\n",
    "        max=pl.col(\"x\").max(),\n",
    "        mean=pl.col(\"x\").mean(),\n",
    "        quantile=pl.col(\"x\").quantile(quantile=0.95),\n",
    "        skew=pl.col(\"x\").skew(),\n",
    "        std=pl.col(\"x\").std(),\n",
    "        sum=pl.col(\"x\").sum(),\n",
    "        var=pl.col(\"x\").var(),\n",
    "    )\n",
    ")"
   ]
  },
  {
   "cell_type": "markdown",
   "id": "93e8d368",
   "metadata": {},
   "source": [
    "### Operations That Count"
   ]
  },
  {
   "cell_type": "code",
   "execution_count": 46,
   "id": "57620665",
   "metadata": {},
   "outputs": [],
   "source": [
    "samples = pl.Series(rng.integers(low=0, high=10_000, size=1_729))\n",
    "samples[403] = None  \n",
    "df_ints = (\n",
    "    pl.DataFrame({\"x\": samples})\n",
    "    .with_row_index()  \n",
    ")\n",
    "df_ints.slice(400, 6)  "
   ]
  },
  {
   "cell_type": "code",
   "execution_count": 47,
   "id": "55046ef8",
   "metadata": {},
   "outputs": [],
   "source": [
    "df_ints.select(\n",
    "    approx_n_unique=pl.col(\"x\").approx_n_unique(),\n",
    "    count=pl.col(\"x\").count(),\n",
    "    len=pl.col(\"x\").len(),\n",
    "    n_unique=pl.col(\"x\").n_unique(),\n",
    "    null_count=pl.col(\"x\").null_count(),\n",
    ")"
   ]
  },
  {
   "cell_type": "markdown",
   "id": "1c99e48b",
   "metadata": {},
   "source": [
    "### Other Operations"
   ]
  },
  {
   "cell_type": "code",
   "execution_count": 49,
   "id": "5448e6f6",
   "metadata": {},
   "outputs": [],
   "source": [
    "df_ints.select(\n",
    "    arg_min=pl.col(\"x\").arg_min(),\n",
    "    first=pl.col(\"x\").first(),\n",
    "    get=pl.col(\"x\").get(403),  \n",
    "    implode=pl.col(\"x\").implode(),\n",
    "    last=pl.col(\"x\").last(),\n",
    "    upper_bound=pl.col(\"x\").upper_bound(),\n",
    ")"
   ]
  },
  {
   "cell_type": "markdown",
   "id": "9b3c8034",
   "metadata": {},
   "source": [
    "## Series-Wise Operations that Summarize to One or More"
   ]
  },
  {
   "cell_type": "markdown",
   "id": "a50bb142",
   "metadata": {},
   "source": [
    "### Operations Related to Unique Values"
   ]
  },
  {
   "cell_type": "code",
   "execution_count": 52,
   "id": "7aca22d9",
   "metadata": {},
   "outputs": [],
   "source": [
    "(\n",
    "    pl.DataFrame({\"x\": [\"A\", \"C\", \"D\", \"C\"]})\n",
    "    .select(\n",
    "        arg_unique=pl.col(\"x\").arg_unique(),\n",
    "        unique=pl.col(\"x\").unique(maintain_order=True),  \n",
    "        unique_counts=pl.col(\"x\").unique_counts(),\n",
    "        value_counts=pl.col(\"x\").value_counts(),  \n",
    "    )\n",
    ")"
   ]
  },
  {
   "cell_type": "markdown",
   "id": "fd5171ab",
   "metadata": {},
   "source": [
    "### Operations That Select"
   ]
  },
  {
   "cell_type": "code",
   "execution_count": 54,
   "id": "d8c25b76",
   "metadata": {},
   "outputs": [],
   "source": [
    "df_ints.select(\n",
    "    bottom_k=pl.col(\"x\").bottom_k(7),  \n",
    "    head=pl.col(\"x\").head(7),\n",
    "    sample=pl.col(\"x\").sample(7),\n",
    "    slice=pl.col(\"x\").slice(400, 7),\n",
    "    gather=pl.col(\"x\").gather([1, 1, 2, 3, 5, 8, 13]),\n",
    "    gather_every=pl.col(\"x\").gather_every(247),  \n",
    "    top_k=pl.col(\"x\").top_k(7),\n",
    ")"
   ]
  },
  {
   "cell_type": "markdown",
   "id": "ff3cd327",
   "metadata": {},
   "source": [
    "### Operations That Drop Missing Values"
   ]
  },
  {
   "cell_type": "code",
   "execution_count": 56,
   "id": "bccf2e3a",
   "metadata": {},
   "outputs": [],
   "source": [
    "x = [None, 1, 2, 3, np.NaN]\n",
    "(\n",
    "    pl.DataFrame({\"x\": x})\n",
    "    .select(\n",
    "        drop_nans=pl.col(\"x\").drop_nans(),\n",
    "        drop_nulls=pl.col(\"x\").drop_nulls()\n",
    "    )\n",
    ")"
   ]
  },
  {
   "cell_type": "markdown",
   "id": "14f99f13",
   "metadata": {},
   "source": [
    "### Other Operations"
   ]
  },
  {
   "cell_type": "code",
   "execution_count": 58,
   "id": "d7657a3e",
   "metadata": {},
   "outputs": [],
   "source": [
    "numbers = [33, 33, 27, 33, 60, 60, 60, 33, 60]\n",
    "\n",
    "(\n",
    "    pl.DataFrame({\"x\": numbers})\n",
    "    .select(\n",
    "        arg_true=(pl.col(\"x\") >= 60).arg_true(),  \n",
    "    )\n",
    ")"
   ]
  },
  {
   "cell_type": "code",
   "execution_count": 59,
   "id": "d3fef64b",
   "metadata": {},
   "outputs": [],
   "source": [
    "(\n",
    "    pl.DataFrame({\"x\": numbers})\n",
    "    .select(\n",
    "        mode=pl.col(\"x\").mode(),\n",
    "    )\n",
    ")"
   ]
  },
  {
   "cell_type": "code",
   "execution_count": 60,
   "id": "80e597e8",
   "metadata": {},
   "outputs": [],
   "source": [
    "(\n",
    "    pl.DataFrame({\"x\": numbers})\n",
    "    .select(\n",
    "        reshape=pl.col(\"x\").reshape((3, 3)),  \n",
    "    )\n",
    ")"
   ]
  },
  {
   "cell_type": "code",
   "execution_count": 61,
   "id": "ee0b86ae",
   "metadata": {},
   "outputs": [],
   "source": [
    "(\n",
    "    pl.DataFrame({\"x\": numbers})\n",
    "    .select(\n",
    "        rle=pl.col(\"x\").rle(),  \n",
    "    )\n",
    ")"
   ]
  },
  {
   "cell_type": "code",
   "execution_count": 62,
   "id": "f4affb30",
   "metadata": {},
   "outputs": [],
   "source": [
    "(\n",
    "    pl.DataFrame({\"x\": numbers})\n",
    "    .select(\n",
    "        rle=pl.col(\"x\").sort().search_sorted(42),  \n",
    "    )\n",
    ")"
   ]
  },
  {
   "cell_type": "markdown",
   "id": "1ff263ff",
   "metadata": {},
   "source": [
    "## Series-Wise Operations that Extend"
   ]
  },
  {
   "cell_type": "code",
   "execution_count": 64,
   "id": "785c8654",
   "metadata": {},
   "outputs": [],
   "source": [
    "(\n",
    "    pl.DataFrame({\n",
    "        \"x\": [[\"a\", \"b\"], [\"c\", \"d\"]],\n",
    "    })\n",
    "    .select(\n",
    "        explode=pl.col(\"x\").explode()\n",
    "    )\n",
    ")"
   ]
  },
  {
   "cell_type": "markdown",
   "id": "8d49d18b",
   "metadata": {},
   "source": [
    "## Conclusion"
   ]
  }
 ],
 "metadata": {},
 "nbformat": 4,
 "nbformat_minor": 5
}
