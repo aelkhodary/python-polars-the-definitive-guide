{
 "cells": [
  {
   "cell_type": "markdown",
   "metadata": {},
   "source": [
    "# Chapter 16: Visualizing Data"
   ]
  },
  {
   "cell_type": "code",
   "execution_count": null,
   "metadata": {},
   "outputs": [],
   "source": [
    "import polars as pl\n",
    "pl.show_versions()  # The book is built with Polars version 1.8.2"
   ]
  },
  {
   "cell_type": "markdown",
   "metadata": {},
   "source": [
    "## NYC Bike Trips"
   ]
  },
  {
   "cell_type": "code",
   "execution_count": null,
   "metadata": {},
   "outputs": [],
   "source": [
    "import polars as pl\n",
    "\n",
    "trips = pl.read_parquet(\"data/biketrips/*.parquet\")\n",
    "\n",
    "print(trips[:,:4])\n",
    "print(trips[:,4:7])\n",
    "print(trips[:,7:11])\n",
    "print(trips[:,11:])"
   ]
  },
  {
   "cell_type": "code",
   "execution_count": null,
   "metadata": {},
   "outputs": [],
   "source": [
    "# Sampling is needed to keep the filesize of this notebook relatively low.\n",
    "# In the book we use the full DataFrame.\n",
    "\n",
    "trips = trips.sample(fraction=0.1)"
   ]
  },
  {
   "cell_type": "code",
   "execution_count": null,
   "metadata": {},
   "outputs": [],
   "source": [
    "trips = trips.filter(\n",
    "    ~((pl.col(\"station_start\") == pl.col(\"station_end\")) &\n",
    "    (pl.col(\"duration\").dt.total_seconds() < 5*60))\n",
    ")\n",
    "trips.height"
   ]
  },
  {
   "cell_type": "markdown",
   "metadata": {},
   "source": [
    "## Built-in Plotting with hvPlot"
   ]
  },
  {
   "cell_type": "markdown",
   "metadata": {},
   "source": [
    "### A First Plot"
   ]
  },
  {
   "cell_type": "code",
   "execution_count": null,
   "metadata": {},
   "outputs": [],
   "source": [
    "trips_speed = (\n",
    "    trips\n",
    "    .filter(pl.col(\"station_start\") == \"W 21 St & 6 Ave\")\n",
    "    .select(  \n",
    "        pl.col(\"distance\"),\n",
    "        pl.col(\"duration\").dt.total_seconds() / 3600,  \n",
    "        pl.col(\"bike_type\")\n",
    "    )\n",
    ")\n",
    "trips_speed"
   ]
  },
  {
   "cell_type": "code",
   "execution_count": null,
   "metadata": {},
   "outputs": [],
   "source": [
    "trips_speed.plot.scatter(x=\"distance\", y=\"duration\", color=\"bike_type\",  \n",
    "                         xlabel=\"distance (km)\", ylabel=\"duration (h)\",  \n",
    "                         ylim=(0, 2))  "
   ]
  },
  {
   "cell_type": "markdown",
   "metadata": {},
   "source": [
    "### Methods in the Plot Namespace"
   ]
  },
  {
   "cell_type": "code",
   "execution_count": null,
   "metadata": {},
   "outputs": [],
   "source": [
    "trips.plot.<TAB>"
   ]
  },
  {
   "cell_type": "markdown",
   "metadata": {},
   "source": [
    "### Getting Help for a Method"
   ]
  },
  {
   "cell_type": "code",
   "execution_count": null,
   "metadata": {},
   "outputs": [],
   "source": [
    "import hvplot\n",
    "hvplot.help('scatter', generic=False, style=False)"
   ]
  },
  {
   "cell_type": "markdown",
   "metadata": {},
   "source": [
    "### Pandas as Backup"
   ]
  },
  {
   "cell_type": "code",
   "execution_count": null,
   "metadata": {},
   "outputs": [],
   "source": [
    "trips_per_day_hour = (\n",
    "    trips\n",
    "    .sort(\"datetime_start\")\n",
    "    .group_by_dynamic(\"datetime_start\", every=\"1h\")\n",
    "    .agg(pl.len())\n",
    ")\n",
    "\n",
    "trips_per_day_hour.plot.heatmap(x='datetime_start.hour',\n",
    "                                y='datetime_start.day',\n",
    "                                C='len', cmap='reds')"
   ]
  },
  {
   "cell_type": "code",
   "execution_count": null,
   "metadata": {},
   "outputs": [],
   "source": [
    "import hvplot.pandas\n",
    "trips_per_day_hour.to_pandas().hvplot.heatmap(x='datetime_start.hour',\n",
    "                                              y='datetime_start.day',\n",
    "                                              C='len', cmap='reds')"
   ]
  },
  {
   "cell_type": "markdown",
   "metadata": {},
   "source": [
    "### Manual Transformations"
   ]
  },
  {
   "cell_type": "code",
   "execution_count": null,
   "metadata": {},
   "outputs": [],
   "source": [
    "trips_type_counts = trips.group_by(\"rider_type\", \"bike_type\").len()\n",
    "trips_type_counts"
   ]
  },
  {
   "cell_type": "code",
   "execution_count": null,
   "metadata": {},
   "outputs": [],
   "source": [
    "trips_type_counts.plot.bar(x=\"rider_type\", y=\"len\", by=\"bike_type\",\n",
    "                           ylabel=\"count\", stacked=True,\n",
    "                           color=[\"orange\", \"green\"])"
   ]
  },
  {
   "cell_type": "markdown",
   "metadata": {},
   "source": [
    "### Changing the Plotting Backend"
   ]
  },
  {
   "cell_type": "code",
   "execution_count": null,
   "metadata": {},
   "outputs": [],
   "source": [
    "import hvplot\n",
    "hvplot.extension(\"matplotlib\")"
   ]
  },
  {
   "cell_type": "code",
   "execution_count": null,
   "metadata": {},
   "outputs": [],
   "source": [
    "trips_type_counts.plot.bar(x=\"rider_type\", y=\"len\", by=\"bike_type\",\n",
    "                           ylabel=\"count\", stacked=True,\n",
    "                           color=[\"orange\", \"green\"])"
   ]
  },
  {
   "cell_type": "code",
   "execution_count": null,
   "metadata": {},
   "outputs": [],
   "source": [
    "hvplot.extension(\"bokeh\")"
   ]
  },
  {
   "cell_type": "markdown",
   "metadata": {},
   "source": [
    "### Plotting Points on a Map"
   ]
  },
  {
   "cell_type": "code",
   "execution_count": null,
   "metadata": {},
   "outputs": [],
   "source": [
    "trips.plot.scatter(x='lon_start', y='lat_start', color='borough_start',\n",
    "                   width=600, height=600)"
   ]
  },
  {
   "cell_type": "code",
   "execution_count": null,
   "metadata": {},
   "outputs": [],
   "source": [
    "trips.plot.points(x=\"lon_start\", y=\"lat_start\",\n",
    "                  datashade=True, geo=True,\n",
    "                  tiles=\"CartoLight\",\n",
    "                  width=800, height=600)"
   ]
  },
  {
   "cell_type": "markdown",
   "metadata": {},
   "source": [
    "### Composing Plots"
   ]
  },
  {
   "cell_type": "code",
   "execution_count": null,
   "metadata": {},
   "outputs": [],
   "source": [
    "trips_hour_num_speed = (\n",
    "    trips\n",
    "    .sort(\"datetime_start\")\n",
    "    .group_by_dynamic(\"datetime_start\", every=\"1h\")\n",
    "    .agg(num_trips=pl.len(),\n",
    "         speed=(pl.col(\"distance\") / (pl.col(\"duration\").dt.total_seconds() / 3600)).median())\n",
    "    .filter(pl.col(\"datetime_start\") > pl.date(2024, 3 , 26))\n",
    ")\n",
    "\n",
    "trips_hour_num_speed"
   ]
  },
  {
   "cell_type": "code",
   "execution_count": null,
   "metadata": {},
   "outputs": [],
   "source": [
    "(\n",
    "    trips_hour_num_speed.plot.line(x=\"datetime_start\", y=\"num_trips\") +\n",
    "    trips_hour_num_speed.plot.line(x=\"datetime_start\", y=\"speed\")\n",
    ").cols(1)   "
   ]
  },
  {
   "cell_type": "code",
   "execution_count": null,
   "metadata": {},
   "outputs": [],
   "source": [
    "(\n",
    "    trips_hour_num_speed.plot.line(x=\"datetime_start\", y=\"num_trips\") *\n",
    "    trips_hour_num_speed\n",
    "        .filter(pl.col(\"num_trips\") > 9000)\n",
    "        .plot.scatter(x=\"datetime_start\", y=\"num_trips\", c=\"red\", s=50)\n",
    ")"
   ]
  },
  {
   "cell_type": "markdown",
   "metadata": {},
   "source": [
    "### Adding Interactive Widgets"
   ]
  },
  {
   "cell_type": "code",
   "execution_count": null,
   "metadata": {},
   "outputs": [],
   "source": [
    "trips_per_hour = (\n",
    "    trips\n",
    "    .sort(\"datetime_start\")\n",
    "    .group_by_dynamic(\"datetime_start\", group_by=\"borough_start\", every=\"1h\")\n",
    "    .agg(pl.len())\n",
    "    .with_columns(date=pl.col(\"datetime_start\").dt.date())\n",
    ")\n",
    "trips_per_hour"
   ]
  },
  {
   "cell_type": "code",
   "execution_count": null,
   "metadata": {},
   "outputs": [],
   "source": [
    "trips_per_hour.plot.line(x=\"datetime_start\", by=\"borough_start\",\n",
    "                         groupby=\"date\", widget_location='left_top')"
   ]
  },
  {
   "cell_type": "markdown",
   "metadata": {},
   "source": [
    "### Common Customizations"
   ]
  },
  {
   "cell_type": "code",
   "execution_count": null,
   "metadata": {},
   "outputs": [],
   "source": [
    "busiest_stations = (\n",
    "    trips\n",
    "    .group_by(station=\"station_start\").agg(\n",
    "        num_trips=pl.len(),\n",
    "    )\n",
    "    .sort(\"num_trips\", descending=True)\n",
    "    .head(20)\n",
    ")\n",
    "\n",
    "busiest_stations"
   ]
  },
  {
   "cell_type": "code",
   "execution_count": null,
   "metadata": {},
   "outputs": [],
   "source": [
    "fig = busiest_stations.plot.bar(x=\"station\", y=\"num_trips\", color=\"num_trips\",\n",
    "                                cmap=\"viridis\",\n",
    "                                fontscale=1.2,\n",
    "                                grid=True,\n",
    "                                logx=False, logy=True,\n",
    "                                rot=45,\n",
    "                                title=\"Busiest Citi Bike Stations\",\n",
    "                                width=800, height=400,\n",
    "                                xlabel=\"\", ylabel=\"Number of trips\",\n",
    "                                xlim=None, ylim=(4000, None))\n",
    "\n",
    "fig"
   ]
  },
  {
   "cell_type": "code",
   "execution_count": null,
   "metadata": {},
   "outputs": [],
   "source": [
    "def bokeh_hook(plot, element):\n",
    "    plot.handles[\"yaxis\"].major_label_text_color = \"blue\"\n",
    "    plot.handles[\"plot\"].title.align = \"right\"\n",
    "\n",
    "fig.opts(invert_axes=True, invert_yaxis=True, hooks=[bokeh_hook])"
   ]
  },
  {
   "cell_type": "markdown",
   "metadata": {},
   "source": [
    "## Alternative Packages"
   ]
  },
  {
   "cell_type": "markdown",
   "metadata": {},
   "source": [
    "### Plotnine"
   ]
  },
  {
   "cell_type": "code",
   "execution_count": null,
   "metadata": {},
   "outputs": [],
   "source": [
    "from plotnine import *"
   ]
  },
  {
   "cell_type": "code",
   "execution_count": null,
   "metadata": {},
   "outputs": [],
   "source": [
    "trips_speed = (\n",
    "    trips.group_by(\"neighborhood_start\", \"neighborhood_end\").agg(\n",
    "        pl.col(\"duration\").dt.total_seconds().median() / 3600,\n",
    "        pl.col(\"distance\").median(),\n",
    "        pl.col(\"borough_start\").first(),\n",
    "        pl.col(\"borough_end\").first(),\n",
    "        pl.len(),\n",
    "    ).filter(\n",
    "        (pl.col(\"len\") > 30) &\n",
    "        (pl.col(\"distance\") > 0.2) &\n",
    "        (pl.col(\"neighborhood_start\") != pl.col(\"neighborhood_end\")),\n",
    "    ).with_columns(\n",
    "        speed=pl.col(\"distance\") / pl.col(\"duration\")\n",
    "    ).sort(\"borough_start\")\n",
    ")\n",
    "trips_speed"
   ]
  },
  {
   "cell_type": "code",
   "execution_count": null,
   "metadata": {},
   "outputs": [],
   "source": [
    "(\n",
    "    ggplot(data=trips_speed\n",
    "        .filter(pl.col(\"borough_start\") == pl.col(\"borough_end\")),\n",
    "        mapping=aes(x=\"distance\", y=\"duration\", color=\"borough_end\")) +\n",
    "    geom_point(size=0.25, alpha=0.5) +\n",
    "    geom_smooth(method=\"lowess\", size=2, se=False, alpha=0.8) +\n",
    "    scale_color_brewer(type=\"qualitative\", palette=\"Set1\") +\n",
    "    labs(title=\"Trip distance and duration within each borough\",\n",
    "         x=\"Distance (km)\", y=\"Duration (m)\", color=\"Borough\") +\n",
    "    theme_linedraw() +\n",
    "    theme(figure_size=(8, 6))\n",
    ")"
   ]
  },
  {
   "cell_type": "code",
   "execution_count": null,
   "metadata": {},
   "outputs": [],
   "source": [
    "(\n",
    "    ggplot(data=trips_speed\n",
    "        .filter(pl.col(\"borough_start\") != pl.col(\"borough_end\"))\n",
    "        .with_columns(\n",
    "            (\"From \" + pl.col(\"borough_start\")).alias(\"borough_start\")),\n",
    "        mapping=aes(x=\"distance\", y=\"duration\", color=\"borough_end\")) +\n",
    "    geom_point(size=0.25, alpha=0.5) +\n",
    "    geom_smooth(method=\"lowess\", size=2, se=False, alpha=0.8) +\n",
    "    scale_color_brewer(type=\"qualitative\", palette=\"Set1\") +\n",
    "    facet_wrap(\"borough_start\") +\n",
    "    labs(title=\"Trip distance and duration cross borough\",\n",
    "         x=\"Distance (km)\", y=\"Duration (m)\", color=\"To Borough\") +\n",
    "    theme_linedraw() +\n",
    "    theme(figure_size=(8, 6))\n",
    ")"
   ]
  },
  {
   "cell_type": "markdown",
   "metadata": {},
   "source": [
    "### Great Tables"
   ]
  },
  {
   "cell_type": "code",
   "execution_count": null,
   "metadata": {},
   "outputs": [],
   "source": [
    "busiest_stations = (\n",
    "    trips\n",
    "    .group_by(   \n",
    "        station=pl.col(\"station_start\"),\n",
    "        date=pl.col(\"datetime_start\").dt.date()\n",
    "    )\n",
    "    .agg(\n",
    "        borough=pl.col(\"borough_start\").first(),\n",
    "        neighborhood=pl.col(\"neighborhood_start\").first(),\n",
    "        num_rides=pl.len(),\n",
    "        percent_member=(pl.col(\"rider_type\") == \"member\").mean(),\n",
    "        percent_electric=(pl.col(\"bike_type\") == \"electric\").mean()\n",
    "    )\n",
    "    .sort(\"date\")\n",
    "    .group_by(\"station\")\n",
    "    .agg(\n",
    "        pl.col(pl.String).first(),\n",
    "        pl.col(pl.NUMERIC_DTYPES).mean(),\n",
    "        pl.col(\"num_rides\").alias(\"rides_per_day\")  \n",
    "    )\n",
    "    .sort(\"num_rides\", descending=True)\n",
    "    .group_by(\"borough\", maintain_order=True).head(3)\n",
    ")\n",
    "busiest_stations"
   ]
  },
  {
   "cell_type": "code",
   "execution_count": null,
   "metadata": {},
   "outputs": [],
   "source": [
    "import polars.selectors as cs\n",
    "from great_tables import GT, style, md\n",
    "\n",
    "(\n",
    "    GT(busiest_stations, rowname_col=\"station\", groupname_col=\"borough\") \n",
    "    .cols_label(       \n",
    "        neighborhood=\"Neighborhood\",\n",
    "        num_rides=\"Mean Daily Rides\",\n",
    "        percent_member=\"Members\",\n",
    "        percent_electric=\"E-Bikes\",\n",
    "        rides_per_day=\"Rides Per Day\",\n",
    "    )\n",
    "    .tab_header(\n",
    "        title=\"Busiest Bike Stations in NYC\",\n",
    "        subtitle=\"In March 2024, Per Borough\"\n",
    "    )\n",
    "    .tab_stubhead(label=\"Station\")\n",
    "    .fmt_number(columns=\"num_rides\", decimals=1)\n",
    "    .fmt_percent(columns=cs.starts_with(\"percent_\"), decimals=0)  \n",
    "    .fmt_nanoplot(columns=\"rides_per_day\", reference_line=\"mean\")\n",
    "    .data_color(columns=\"num_rides\", palette=\"Blues\")\n",
    "    .tab_options(row_group_font_weight=\"bold\")\n",
    "    .tab_source_note(source_note=md(\n",
    "        \"Source: [NYC Citi Bike](https://citibikenyc.com/system-data)\"\n",
    "    ))\n",
    ")"
   ]
  },
  {
   "cell_type": "markdown",
   "metadata": {},
   "source": [
    "## Takeaways"
   ]
  }
 ],
 "metadata": {},
 "nbformat": 4,
 "nbformat_minor": 5
}
