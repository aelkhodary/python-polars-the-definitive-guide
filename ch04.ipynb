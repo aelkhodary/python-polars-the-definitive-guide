{
 "cells": [
  {
   "cell_type": "markdown",
   "id": "e2c0d116",
   "metadata": {},
   "source": [
    "# Chapter 4: Data Structures and Data Types"
   ]
  },
  {
   "cell_type": "code",
   "execution_count": null,
   "id": "8ceb856d",
   "metadata": {},
   "outputs": [],
   "source": [
    "import polars as pl\n",
    "pl.show_versions()  # The book is built with Polars version 1.13.1"
   ]
  },
  {
   "cell_type": "markdown",
   "id": "5dc6d6e7",
   "metadata": {},
   "source": [
    "## Series, DataFrames, and LazyFrames"
   ]
  },
  {
   "cell_type": "code",
   "execution_count": null,
   "id": "aac7947b",
   "metadata": {},
   "outputs": [],
   "source": [
    "sales_series = pl.Series(\"sales\", [150.00, 300.00, 250.00])\n",
    "\n",
    "sales_series"
   ]
  },
  {
   "cell_type": "code",
   "execution_count": null,
   "id": "2a6c3b1b",
   "metadata": {},
   "outputs": [],
   "source": [
    "sales_df = pl.DataFrame(\n",
    "    {\n",
    "        \"sales\": sales_series,\n",
    "        \"customer_id\": [24, 25, 26],\n",
    "    }\n",
    ")\n",
    "\n",
    "sales_df"
   ]
  },
  {
   "cell_type": "code",
   "execution_count": null,
   "id": "c14020cb",
   "metadata": {},
   "outputs": [],
   "source": [
    "lazy_df = pl.scan_csv(\"data/fruit.csv\").with_columns(\n",
    "    is_heavy=pl.col(\"weight\") > 200\n",
    ")\n",
    "\n",
    "lazy_df.show_graph()"
   ]
  },
  {
   "cell_type": "markdown",
   "id": "00701c0f",
   "metadata": {},
   "source": [
    "## Data Types"
   ]
  },
  {
   "cell_type": "markdown",
   "id": "59567b1d",
   "metadata": {},
   "source": [
    "### Nested Data Types"
   ]
  },
  {
   "cell_type": "code",
   "execution_count": null,
   "id": "42cf583e",
   "metadata": {},
   "outputs": [],
   "source": [
    "coordinates = pl.DataFrame(\n",
    "    [\n",
    "        pl.Series(\"point_2d\", [[1, 3], [2, 5]]),\n",
    "        pl.Series(\"point_3d\", [[1, 7, 3], [8, 1, 0]]),\n",
    "    ],\n",
    "    schema={\n",
    "        \"point_2d\": pl.Array(shape=2, inner=pl.Int64),\n",
    "        \"point_3d\": pl.Array(shape=3, inner=pl.Int64),\n",
    "    },\n",
    ")\n",
    "\n",
    "coordinates"
   ]
  },
  {
   "cell_type": "code",
   "execution_count": null,
   "id": "91b3fc81",
   "metadata": {},
   "outputs": [],
   "source": [
    "weather_readings = pl.DataFrame(\n",
    "    {\n",
    "        \"temperature\": [[72.5, 75.0, 77.3], [68.0, 70.2]],\n",
    "        \"wind_speed\": [[15, 20], [10, 12, 14, 16]],\n",
    "    }\n",
    ")\n",
    "\n",
    "weather_readings"
   ]
  },
  {
   "cell_type": "code",
   "execution_count": null,
   "id": "aeeacbe6",
   "metadata": {},
   "outputs": [],
   "source": [
    "rating_series = pl.Series(\n",
    "    \"ratings\",\n",
    "    [\n",
    "        {\"Movie\": \"Cars\", \"Theatre\": \"NE\", \"Avg_Rating\": 4.5},\n",
    "        {\"Movie\": \"Toy Story\", \"Theatre\": \"ME\", \"Avg_Rating\": 4.9},\n",
    "    ],\n",
    ")\n",
    "rating_series"
   ]
  },
  {
   "cell_type": "markdown",
   "id": "d961fc29",
   "metadata": {},
   "source": [
    "### Missing Values"
   ]
  },
  {
   "cell_type": "code",
   "execution_count": null,
   "id": "1b15b1c8",
   "metadata": {},
   "outputs": [],
   "source": [
    "missing_df = pl.DataFrame(\n",
    "    {\n",
    "        \"value\": [None, 2, 3, 4, None, None, 7, 8, 9, None],\n",
    "    },\n",
    ")\n",
    "missing_df"
   ]
  },
  {
   "cell_type": "code",
   "execution_count": null,
   "id": "3757052d",
   "metadata": {},
   "outputs": [],
   "source": [
    "missing_df.with_columns(filled_with_single=pl.col(\"value\").fill_null(-1))"
   ]
  },
  {
   "cell_type": "code",
   "execution_count": null,
   "id": "8f05b18c",
   "metadata": {},
   "outputs": [],
   "source": [
    "missing_df.with_columns(\n",
    "    forward=pl.col(\"value\").fill_null(strategy=\"forward\"),\n",
    "    backward=pl.col(\"value\").fill_null(strategy=\"backward\"),\n",
    "    min=pl.col(\"value\").fill_null(strategy=\"min\"),\n",
    "    max=pl.col(\"value\").fill_null(strategy=\"max\"),\n",
    "    mean=pl.col(\"value\").fill_null(strategy=\"mean\"),\n",
    "    zero=pl.col(\"value\").fill_null(strategy=\"zero\"),\n",
    "    one=pl.col(\"value\").fill_null(strategy=\"one\"),\n",
    ")"
   ]
  },
  {
   "cell_type": "code",
   "execution_count": null,
   "id": "c55f08b6",
   "metadata": {},
   "outputs": [],
   "source": [
    "missing_df.with_columns(\n",
    "    expression_mean=pl.col(\"value\").fill_null(pl.col(\"value\").mean())\n",
    ")"
   ]
  },
  {
   "cell_type": "code",
   "execution_count": null,
   "id": "cc1238ad",
   "metadata": {},
   "outputs": [],
   "source": [
    "missing_df.interpolate()"
   ]
  },
  {
   "cell_type": "markdown",
   "id": "309698e2",
   "metadata": {},
   "source": [
    "## Data Type Conversion"
   ]
  },
  {
   "cell_type": "code",
   "execution_count": null,
   "id": "ed9e3899",
   "metadata": {},
   "outputs": [],
   "source": [
    "string_df = pl.DataFrame({\"id\": [\"10000\", \"20000\", \"30000\"]})\n",
    "print(string_df)\n",
    "print(f\"Estimated size: {string_df.estimated_size('b')} bytes\")"
   ]
  },
  {
   "cell_type": "code",
   "execution_count": null,
   "id": "f24da313",
   "metadata": {},
   "outputs": [],
   "source": [
    "int_df = string_df.select(pl.col(\"id\").cast(pl.UInt16))\n",
    "print(int_df)\n",
    "print(f\"Estimated size: {int_df.estimated_size('b')} bytes\")"
   ]
  },
  {
   "cell_type": "code",
   "execution_count": null,
   "id": "940ef1e1",
   "metadata": {},
   "outputs": [],
   "source": [
    "data_types_df = pl.DataFrame(\n",
    "    {\n",
    "        \"id\": [10000, 20000, 30000],\n",
    "        \"value\": [1.0, 2.0, 3.0],\n",
    "        \"value2\": [\"1\", \"2\", \"3\"],\n",
    "    }\n",
    ")\n",
    "\n",
    "data_types_df.cast(pl.UInt16)"
   ]
  },
  {
   "cell_type": "code",
   "execution_count": null,
   "id": "7131478c",
   "metadata": {},
   "outputs": [],
   "source": [
    "data_types_df.cast({\"id\": pl.UInt16, \"value\": pl.Float32, \"value2\": pl.UInt8})"
   ]
  },
  {
   "cell_type": "code",
   "execution_count": null,
   "id": "c1995f43",
   "metadata": {},
   "outputs": [],
   "source": [
    "data_types_df.cast({pl.Float64: pl.Float32, pl.String: pl.UInt8})"
   ]
  },
  {
   "cell_type": "code",
   "execution_count": null,
   "id": "7e0050eb",
   "metadata": {},
   "outputs": [],
   "source": [
    "import polars.selectors as cs\n",
    "\n",
    "data_types_df.cast({cs.numeric(): pl.UInt16})"
   ]
  },
  {
   "cell_type": "markdown",
   "id": "d3dd1d8e",
   "metadata": {},
   "source": [
    "## Takeaways"
   ]
  }
 ],
 "metadata": {},
 "nbformat": 4,
 "nbformat_minor": 5
}
