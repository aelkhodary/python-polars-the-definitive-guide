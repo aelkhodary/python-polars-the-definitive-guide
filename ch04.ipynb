{
 "cells": [
  {
   "cell_type": "markdown",
   "id": "80fb7eeb",
   "metadata": {},
   "source": [
    "# Chapter 4: Data Types and Data Structures"
   ]
  },
  {
   "cell_type": "code",
   "execution_count": 1,
   "id": "dd465917",
   "metadata": {},
   "outputs": [],
   "source": [
    "import polars as pl\n",
    "pl.show_versions()  # The book is built with Polars version 1.0.0"
   ]
  },
  {
   "cell_type": "markdown",
   "id": "539f60b1",
   "metadata": {},
   "source": [
    "## Data Types"
   ]
  },
  {
   "cell_type": "markdown",
   "id": "825c1fd2",
   "metadata": {},
   "source": [
    "### Nested Data Types"
   ]
  },
  {
   "cell_type": "code",
   "execution_count": 4,
   "id": "d050ab38",
   "metadata": {},
   "outputs": [],
   "source": [
    "import polars as pl\n",
    "\n",
    "array_df = pl.DataFrame(\n",
    "    [\n",
    "        pl.Series(\"array_1\", [[1, 3], [2, 5]]),\n",
    "        pl.Series(\"array_2\", [[1, 7, 3], [8, 1, 0]]),\n",
    "    ],\n",
    "    schema={\n",
    "        \"array_1\": pl.Array(width=2, inner=pl.Int64),\n",
    "        \"array_2\": pl.Array(width=3, inner=pl.Int64)\n",
    "    }\n",
    ")\n",
    "array_df"
   ]
  },
  {
   "cell_type": "code",
   "execution_count": 5,
   "id": "b0f759f9",
   "metadata": {},
   "outputs": [],
   "source": [
    "list_df = pl.DataFrame(\n",
    "    {\n",
    "        \"integer_lists\": [[1, 2], [3, 4]],\n",
    "        \"float_lists\": [[1.0, 2.0], [3.0, 4.0]],\n",
    "    }\n",
    ")\n",
    "list_df"
   ]
  },
  {
   "cell_type": "code",
   "execution_count": 6,
   "id": "8b21be8a",
   "metadata": {},
   "outputs": [],
   "source": [
    "rating_series = pl.Series(\n",
    "    \"ratings\",\n",
    "    [\n",
    "        {\"Movie\": \"Cars\", \"Theatre\": \"NE\", \"Avg_Rating\": 4.5},\n",
    "        {\"Movie\": \"Toy Story\", \"Theatre\": \"ME\", \"Avg_Rating\": 4.9},\n",
    "    ],\n",
    ")\n",
    "rating_series"
   ]
  },
  {
   "cell_type": "markdown",
   "id": "988f1784",
   "metadata": {},
   "source": [
    "### Missing Values"
   ]
  },
  {
   "cell_type": "code",
   "execution_count": 8,
   "id": "647cf570",
   "metadata": {},
   "outputs": [],
   "source": [
    "df = pl.DataFrame(\n",
    "    {\n",
    "        \"value\": [None, 2, 3, 4, None, None, 7, 8, 9, None],\n",
    "    },\n",
    ")\n",
    "print(df)"
   ]
  },
  {
   "cell_type": "code",
   "execution_count": 9,
   "id": "3ca0fffc",
   "metadata": {},
   "outputs": [],
   "source": [
    "print(\n",
    "    df\n",
    "    .with_columns(\n",
    "        pl.col(\"value\")\n",
    "        .fill_null(-1)\n",
    "        .alias(\"filled_with_lit\")\n",
    "    )\n",
    ")"
   ]
  },
  {
   "cell_type": "code",
   "execution_count": 10,
   "id": "77c6721e",
   "metadata": {},
   "outputs": [],
   "source": [
    "print(\n",
    "    df\n",
    "    .with_columns(\n",
    "        pl.col(\"value\")\n",
    "        .fill_null(strategy=\"forward\")\n",
    "        .alias(\"forward\"),\n",
    "        pl.col(\"value\")\n",
    "        .fill_null(strategy=\"backward\")\n",
    "        .alias(\"backward\"),\n",
    "        pl.col(\"value\")\n",
    "        .fill_null(strategy=\"min\")\n",
    "        .alias(\"min\"),\n",
    "        pl.col(\"value\")\n",
    "        .fill_null(strategy=\"max\")\n",
    "        .alias(\"max\"),\n",
    "        pl.col(\"value\")\n",
    "        .fill_null(strategy=\"mean\")\n",
    "        .alias(\"mean\"),\n",
    "        pl.col(\"value\")\n",
    "        .fill_null(strategy=\"zero\")\n",
    "        .alias(\"zero\"),\n",
    "        pl.col(\"value\")\n",
    "        .fill_null(strategy=\"one\")\n",
    "        .alias(\"one\"),\n",
    "    )\n",
    ")"
   ]
  },
  {
   "cell_type": "code",
   "execution_count": 11,
   "id": "318cfa4c",
   "metadata": {},
   "outputs": [],
   "source": [
    "print(\n",
    "    df\n",
    "    .with_columns(\n",
    "        pl.col(\"value\")\n",
    "        .fill_null(pl.col(\"value\").mean())\n",
    "        .alias(\"expression_mean\")\n",
    "    )\n",
    ")"
   ]
  },
  {
   "cell_type": "code",
   "execution_count": 12,
   "id": "46283d84",
   "metadata": {},
   "outputs": [],
   "source": [
    "print(\n",
    "    df.interpolate()\n",
    ")"
   ]
  },
  {
   "cell_type": "markdown",
   "id": "5bf6198b",
   "metadata": {},
   "source": [
    "## Series, DataFrames, and LazyFrames"
   ]
  },
  {
   "cell_type": "markdown",
   "id": "b245ed7c",
   "metadata": {},
   "source": [
    "## Data Type Conversion"
   ]
  },
  {
   "cell_type": "code",
   "execution_count": 15,
   "id": "962dfa42",
   "metadata": {},
   "outputs": [],
   "source": [
    "string_df = pl.DataFrame({\"id\": [\"10000\", \"20000\", \"30000\"]})\n",
    "print(string_df)\n",
    "print(f\"Estimated size: {string_df.estimated_size('b')} bytes\")"
   ]
  },
  {
   "cell_type": "code",
   "execution_count": 16,
   "id": "f22a3ea0",
   "metadata": {},
   "outputs": [],
   "source": [
    "int_df = string_df.select(pl.col(\"id\").cast(pl.UInt16))\n",
    "print(int_df)\n",
    "print(f\"Estimated size: {int_df.estimated_size('b')} bytes\")"
   ]
  },
  {
   "cell_type": "code",
   "execution_count": 17,
   "id": "f218efdd",
   "metadata": {},
   "outputs": [],
   "source": [
    "df = pl.DataFrame(\n",
    "    {\n",
    "        \"id\": [10000, 20000, 30000],\n",
    "        \"value\": [1.0, 2.0, 3.0],\n",
    "        \"value2\": [\"1\", \"2\", \"3\"],\n",
    "    }\n",
    ")\n",
    "df.cast(pl.UInt16)"
   ]
  },
  {
   "cell_type": "code",
   "execution_count": 18,
   "id": "6f737c21",
   "metadata": {},
   "outputs": [],
   "source": [
    "df.cast({\"id\": pl.UInt16, \"value\": pl.Float32, \"value2\": pl.UInt8})"
   ]
  },
  {
   "cell_type": "code",
   "execution_count": 19,
   "id": "58f0ff3b",
   "metadata": {},
   "outputs": [],
   "source": [
    "df.cast({pl.Float64: pl.Float32, pl.String: pl.UInt8})"
   ]
  },
  {
   "cell_type": "code",
   "execution_count": 20,
   "id": "23b680cc",
   "metadata": {},
   "outputs": [],
   "source": [
    "import polars.selectors as cs\n",
    "df.cast({cs.numeric(): pl.UInt16})"
   ]
  },
  {
   "cell_type": "markdown",
   "id": "dd7d3639",
   "metadata": {},
   "source": [
    "## Takeaways"
   ]
  }
 ],
 "metadata": {},
 "nbformat": 4,
 "nbformat_minor": 5
}
