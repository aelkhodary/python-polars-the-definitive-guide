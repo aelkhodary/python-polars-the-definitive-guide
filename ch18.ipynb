{
 "cells": [
  {
   "cell_type": "markdown",
   "id": "62a1a312",
   "metadata": {},
   "source": [
    "# Chapter 18: Polars Internals"
   ]
  },
  {
   "cell_type": "code",
   "execution_count": null,
   "id": "211776b5",
   "metadata": {},
   "outputs": [],
   "source": [
    "import polars as pl\n",
    "pl.show_versions()  # The book is built with Polars version 1.13.1"
   ]
  },
  {
   "cell_type": "markdown",
   "id": "a87e5d4e",
   "metadata": {},
   "source": [
    "## Polars' Architecture"
   ]
  },
  {
   "cell_type": "markdown",
   "id": "896bb3d4",
   "metadata": {},
   "source": [
    "## Arrow"
   ]
  },
  {
   "cell_type": "markdown",
   "id": "561ff393",
   "metadata": {},
   "source": [
    "## Multi-Threaded Computations and SIMD Operations"
   ]
  },
  {
   "cell_type": "markdown",
   "id": "5cf4fe92",
   "metadata": {},
   "source": [
    "## The String Data Type in Memory"
   ]
  },
  {
   "cell_type": "markdown",
   "id": "063d3141",
   "metadata": {},
   "source": [
    "## ChunkedArrays in Series"
   ]
  },
  {
   "cell_type": "markdown",
   "id": "642f90e2",
   "metadata": {},
   "source": [
    "## Query Optimization"
   ]
  },
  {
   "cell_type": "markdown",
   "id": "f40bb91e",
   "metadata": {},
   "source": [
    "### LazyFrame Scan Level Optimizations"
   ]
  },
  {
   "cell_type": "code",
   "execution_count": null,
   "id": "7c46dab9",
   "metadata": {},
   "outputs": [],
   "source": [
    "taxis = pl.scan_parquet(\"data/taxi/yellow_tripdata_*.parquet\")  \n",
    "taxis.select(pl.col(\"trip_distance\")).show_graph()  "
   ]
  },
  {
   "cell_type": "code",
   "execution_count": null,
   "id": "08772bec",
   "metadata": {},
   "outputs": [],
   "source": [
    "taxis.filter(pl.col(\"trip_distance\") > 10).show_graph()"
   ]
  },
  {
   "cell_type": "code",
   "execution_count": null,
   "id": "25ee5ec0",
   "metadata": {},
   "outputs": [],
   "source": [
    "taxis.head(2).collect()"
   ]
  },
  {
   "cell_type": "markdown",
   "id": "c0b95929",
   "metadata": {},
   "source": [
    "### Other Optimizations"
   ]
  },
  {
   "cell_type": "code",
   "execution_count": null,
   "id": "d589db52",
   "metadata": {},
   "outputs": [],
   "source": [
    "values = pl.LazyFrame({\"value\": [10, 20, 30, 40, 50, 60]})\n",
    "\n",
    "common_subplan = values.with_columns(pl.col(\"value\") * 2)\n",
    "\n",
    "branch1 = common_subplan.select(value2=pl.col(\"value\") / 2)\n",
    "branch2 = common_subplan.select(value3=pl.col(\"value\") * 2)\n",
    "\n",
    "combined = pl.concat([branch1, branch2])\n",
    "\n",
    "combined.show_graph(optimized=False)"
   ]
  },
  {
   "cell_type": "code",
   "execution_count": null,
   "id": "ffd0d08f",
   "metadata": {},
   "outputs": [],
   "source": [
    "combined.show_graph()"
   ]
  },
  {
   "cell_type": "code",
   "execution_count": null,
   "id": "c91a9866",
   "metadata": {},
   "outputs": [],
   "source": [
    "bmi = pl.LazyFrame(\n",
    "    {\"weight_kg\": [70, 80, 60, 90], \"length_cm\": [175, 180, 160, 190]}\n",
    ")"
   ]
  },
  {
   "cell_type": "code",
   "execution_count": null,
   "id": "7d0c4628",
   "metadata": {},
   "outputs": [],
   "source": [
    "bmi = (\n",
    "    bmi.with_columns(weight_per_cm=pl.col(\"weight_kg\") / pl.col(\"length_cm\"))\n",
    "    .with_columns(weight_kg_average=pl.lit(0))\n",
    "    .with_columns(length_m=pl.col(\"length_cm\") / 100)\n",
    "    .with_columns(weight_kg_average=pl.col(\"weight_kg\").mean())\n",
    ")"
   ]
  },
  {
   "cell_type": "code",
   "execution_count": null,
   "id": "d1bdd872",
   "metadata": {},
   "outputs": [],
   "source": [
    "bmi = bmi.with_columns(\n",
    "    weight_per_cm=pl.col(\"weight_kg\") / pl.col(\"length_cm\"),\n",
    "    weight_kg_average=pl.col(\"weight_kg\").mean(),\n",
    "    length_m=pl.col(\"length_cm\") / 100,\n",
    ")"
   ]
  },
  {
   "cell_type": "markdown",
   "id": "35a519ee",
   "metadata": {},
   "source": [
    "## Profiling Polars"
   ]
  },
  {
   "cell_type": "code",
   "execution_count": null,
   "id": "a7ad57b7",
   "metadata": {},
   "outputs": [],
   "source": [
    "long_distance_taxis_per_vendor_sorted = (\n",
    "    pl.scan_parquet(\"data/taxi/yellow_tripdata_*.parquet\")\n",
    "    .filter(pl.col(\"trip_distance\") > 10)\n",
    "    .select(pl.col(\"VendorID\"), pl.col(\"trip_distance\"), pl.col(\"total_amount\"))\n",
    "    .group_by(\"VendorID\")\n",
    "    .agg(\n",
    "        total_distance=pl.col(\"trip_distance\").sum(),\n",
    "        total_amount=pl.col(\"total_amount\").sum(),\n",
    "    )\n",
    "    .sort(\"total_distance\", descending=True)\n",
    ")\n",
    "\n",
    "long_distance_taxis_per_vendor_sorted.show_graph()"
   ]
  },
  {
   "cell_type": "code",
   "execution_count": null,
   "id": "f596427c",
   "metadata": {},
   "outputs": [],
   "source": [
    "long_distance_taxis_per_vendor_sorted.profile()"
   ]
  },
  {
   "cell_type": "code",
   "execution_count": null,
   "id": "f98d250b",
   "metadata": {},
   "outputs": [],
   "source": [
    "long_distance_taxis_per_vendor_sorted.profile(show_plot=True, figsize=(15, 5))"
   ]
  },
  {
   "cell_type": "markdown",
   "id": "ea32f1de",
   "metadata": {},
   "source": [
    "## Tests in Polars"
   ]
  },
  {
   "cell_type": "markdown",
   "id": "35981f9c",
   "metadata": {},
   "source": [
    "### Comparing DataFrames and Series"
   ]
  },
  {
   "cell_type": "code",
   "execution_count": null,
   "id": "846936f0",
   "metadata": {},
   "outputs": [],
   "source": [
    "from polars.testing import (\n",
    "    assert_series_equal,\n",
    "    assert_frame_equal,\n",
    "    assert_series_not_equal,\n",
    "    assert_frame_not_equal,\n",
    ")"
   ]
  },
  {
   "cell_type": "code",
   "execution_count": null,
   "id": "cbf4477c",
   "metadata": {},
   "outputs": [],
   "source": [
    "floats = pl.DataFrame({\"a\": [1.0, 2.0, 3.0, 4.0]})\n",
    "\n",
    "different_floats = pl.DataFrame({\"a\": [1.001, 2.0, 3.0, 4.0]})"
   ]
  },
  {
   "cell_type": "code",
   "execution_count": null,
   "id": "7b98d60e",
   "metadata": {},
   "outputs": [],
   "source": [
    "# Causes an AssertionError\n",
    "# assert_frame_equal(floats, different_floats)"
   ]
  },
  {
   "cell_type": "code",
   "execution_count": null,
   "id": "113e29f2",
   "metadata": {},
   "outputs": [],
   "source": [
    "assert_frame_equal(floats, different_floats, rtol=0.01)\n",
    "print(\"The frames are equal.\")"
   ]
  },
  {
   "cell_type": "code",
   "execution_count": null,
   "id": "899da0b7",
   "metadata": {},
   "outputs": [],
   "source": [
    "result = pl.DataFrame({\"a\": [1, 3], \"b\": [2, 4]}).cast(\n",
    "    pl.Schema({\"a\": pl.Int8, \"b\": pl.Int8})\n",
    ")\n",
    "\n",
    "expected = pl.from_repr(\n",
    "    \"\"\"\n",
    "┌─────┬─────┐\n",
    "│ a   ┆ b   │\n",
    "│ --- ┆ --- │\n",
    "│ i8  ┆ i8  │\n",
    "╞═════╪═════╡\n",
    "│ 1   ┆ 2   │\n",
    "│ 3   ┆ 4   │\n",
    "└─────┴─────┘\n",
    "    \"\"\"\n",
    ")\n",
    "\n",
    "assert_frame_equal(result, expected)\n",
    "print(\"Frames are equal!\")"
   ]
  },
  {
   "cell_type": "markdown",
   "id": "ee8f5f23",
   "metadata": {},
   "source": [
    "## Common Anti-patterns"
   ]
  },
  {
   "cell_type": "markdown",
   "id": "e35cb5bd",
   "metadata": {},
   "source": [
    "### Using Brackets for Column Selection"
   ]
  },
  {
   "cell_type": "markdown",
   "id": "15feb7e6",
   "metadata": {},
   "source": [
    "### Misusing Collect"
   ]
  },
  {
   "cell_type": "code",
   "execution_count": null,
   "id": "e11a4074",
   "metadata": {},
   "outputs": [],
   "source": [
    "%%time\n",
    "taxis = pl.scan_parquet(\"data/taxi/yellow_tripdata_*.parquet\")\n",
    "vendor0 = taxis.filter(pl.col(\"VendorID\") == 0).collect()\n",
    "vendor1 = taxis.filter(pl.col(\"VendorID\") == 1).collect()"
   ]
  },
  {
   "cell_type": "code",
   "execution_count": null,
   "id": "e8ded45a",
   "metadata": {},
   "outputs": [],
   "source": [
    "%%time\n",
    "taxis = pl.scan_parquet(\"data/taxi/yellow_tripdata_*.parquet\")\n",
    "vendors = taxis.filter(pl.col(\"VendorID\").is_in([0, 1])).collect()\n",
    "vendor0 = vendors.filter(pl.col(\"VendorID\") == 0)\n",
    "vendor1 = vendors.filter(pl.col(\"VendorID\") == 1)"
   ]
  },
  {
   "cell_type": "markdown",
   "id": "9ea74226",
   "metadata": {},
   "source": [
    "### Using Python Code in your Polars Queries"
   ]
  },
  {
   "cell_type": "markdown",
   "id": "05d65d93",
   "metadata": {},
   "source": [
    "## Takeaways"
   ]
  }
 ],
 "metadata": {},
 "nbformat": 4,
 "nbformat_minor": 5
}
