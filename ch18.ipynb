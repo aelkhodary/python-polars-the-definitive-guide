{
 "cells": [
  {
   "cell_type": "markdown",
   "id": "55ab497a",
   "metadata": {},
   "source": [
    "# Chapter 18: Polars Internals"
   ]
  },
  {
   "cell_type": "code",
   "execution_count": 1,
   "id": "b83cecae",
   "metadata": {},
   "outputs": [],
   "source": [
    "import polars as pl\n",
    "pl.show_versions()  # The book is built with Polars version 1.0.0"
   ]
  },
  {
   "cell_type": "markdown",
   "id": "3dfb491b",
   "metadata": {},
   "source": [
    "## Arrow"
   ]
  },
  {
   "cell_type": "markdown",
   "id": "f718b8e6",
   "metadata": {},
   "source": [
    "## ChunkedArrays in Series"
   ]
  },
  {
   "cell_type": "markdown",
   "id": "0e5f3aa9",
   "metadata": {},
   "source": [
    "## Query Optimization"
   ]
  },
  {
   "cell_type": "markdown",
   "id": "40c8a08e",
   "metadata": {},
   "source": [
    "### LazyFrame Scan Level Optimizations"
   ]
  },
  {
   "cell_type": "code",
   "execution_count": 6,
   "id": "b0af8403",
   "metadata": {},
   "outputs": [],
   "source": [
    "lf = pl.scan_parquet(\"data/taxi/yellow_tripdata_*.parquet\")  \n",
    "lf.select(pl.col(\"trip_distance\")).show_graph()  "
   ]
  },
  {
   "cell_type": "code",
   "execution_count": 7,
   "id": "535d7b14",
   "metadata": {},
   "outputs": [],
   "source": [
    "lf.filter(pl.col(\"trip_distance\") > 10).show_graph()"
   ]
  },
  {
   "cell_type": "code",
   "execution_count": 8,
   "id": "1c176c26",
   "metadata": {},
   "outputs": [],
   "source": [
    "lf.head(2).collect()"
   ]
  },
  {
   "cell_type": "markdown",
   "id": "d1feb2c8",
   "metadata": {},
   "source": [
    "### Other Optimizations"
   ]
  },
  {
   "cell_type": "code",
   "execution_count": 10,
   "id": "e1359d0c",
   "metadata": {},
   "outputs": [],
   "source": [
    "lazy_df = pl.LazyFrame({\n",
    "    \"foo\": [1, 2, 3, 4, 5],\n",
    "    \"bar\": [6, 7, 8, 9, 10]\n",
    "})"
   ]
  },
  {
   "cell_type": "code",
   "execution_count": 11,
   "id": "1f8fc1f8",
   "metadata": {},
   "outputs": [],
   "source": [
    "common_subplan = lazy_df.with_columns(pl.col(\"foo\") * 2)\n",
    "\n",
    "# Utilizing the common subplan in two separate expressions\n",
    "expr1 = common_subplan.filter(pl.col(\"foo\") * 2 > 4)\n",
    "expr2 = common_subplan.filter(pl.col(\"foo\") * 2 < 8)\n",
    "\n",
    "result = pl.concat([expr1, expr2])\n",
    "\n",
    "result.show_graph(optimized=False)\n",
    "result.show_graph()"
   ]
  },
  {
   "cell_type": "code",
   "execution_count": 12,
   "id": "beee36d3",
   "metadata": {},
   "outputs": [],
   "source": [
    "df = (\n",
    "    df.lazy()\n",
    "    .with_columns(weight_per_cm=pl.col(\"weight_kg\") / pl.col(\"length_cm\"))\n",
    "    .with_columns(weight_kg_average=pl.lit(0))\n",
    "    .with_columns(length_m=pl.col(\"length_cm\") / 100)\n",
    "    .with_columns(weight_kg_average=pl.col(\"weight_kg\").mean())\n",
    ")"
   ]
  },
  {
   "cell_type": "code",
   "execution_count": 13,
   "id": "6d339b47",
   "metadata": {},
   "outputs": [],
   "source": [
    "df = df.lazy().with_columns(\n",
    "    weight_per_cm=pl.col(\"weight_kg\") / pl.col(\"length_cm\"),\n",
    "    weight_kg_average=pl.col(\"weight_kg\").mean(),\n",
    "    length_m=pl.col(\"length_cm\") / 100,\n",
    ")"
   ]
  },
  {
   "cell_type": "markdown",
   "id": "7f388e7c",
   "metadata": {},
   "source": [
    "## Tweaking the Streaming Mode"
   ]
  },
  {
   "cell_type": "code",
   "execution_count": 15,
   "id": "d24bd283",
   "metadata": {},
   "outputs": [],
   "source": [
    "import os\n",
    "os.environ[\"POLARS_MAX_THREADS\"] = \"2\"\n",
    "import polars as pl"
   ]
  },
  {
   "cell_type": "code",
   "execution_count": 16,
   "id": "2c88c7f6",
   "metadata": {},
   "outputs": [],
   "source": [
    "import numpy as np\n",
    "\n",
    "x = np.arange(1, 17)\n",
    "y = np.maximum(12 / x, 1)\n",
    "\n",
    "plt.figure(figsize=(6, 4))\n",
    "plt.plot(x, y, 'b-')\n",
    "plt.xlim([0, 16])\n",
    "plt.ylim([0, 16])\n",
    "plt.xlabel('n_threads', {'fontname':'monospace'})\n",
    "plt.ylabel('thread_factor', {'fontname':'monospace'})\n",
    "plt.grid(True)\n",
    "plt.tight_layout()\n",
    "\n",
    "plt.show()"
   ]
  },
  {
   "cell_type": "code",
   "execution_count": 17,
   "id": "f8351609",
   "metadata": {},
   "outputs": [],
   "source": [
    "pl.Config.set_streaming_chunk_size(1000)"
   ]
  },
  {
   "cell_type": "markdown",
   "id": "05250ebe",
   "metadata": {},
   "source": [
    "## String Data Type in Memory"
   ]
  },
  {
   "cell_type": "markdown",
   "id": "7b978294",
   "metadata": {},
   "source": [
    "## Multi-Threaded Computations and SIMD Operations"
   ]
  },
  {
   "cell_type": "markdown",
   "id": "144dda0d",
   "metadata": {},
   "source": [
    "## Profiling Polars"
   ]
  },
  {
   "cell_type": "code",
   "execution_count": 21,
   "id": "099c3014",
   "metadata": {},
   "outputs": [],
   "source": [
    "lf = pl.scan_parquet(\"data/taxi/yellow_tripdata_*.parquet\")\n",
    "lf = lf.filter(pl.col(\"trip_distance\") > 10)\n",
    "lf = lf.select(pl.col(\"VendorID\"), pl.col(\"trip_distance\"), pl.col(\"total_amount\"))\n",
    "lf = lf.group_by(\"VendorID\").agg(\n",
    "    pl.col(\"trip_distance\").sum().alias(\"total_distance\"),\n",
    "    pl.col(\"total_amount\").sum().alias(\"total_amount\")\n",
    ")\n",
    "lf = lf.sort(\"total_distance\", descending=True)\n",
    "\n",
    "lf.show_graph()"
   ]
  },
  {
   "cell_type": "code",
   "execution_count": 22,
   "id": "ecd000b3",
   "metadata": {},
   "outputs": [],
   "source": [
    "lf.profile()"
   ]
  },
  {
   "cell_type": "code",
   "execution_count": 23,
   "id": "8f77e5f0",
   "metadata": {},
   "outputs": [],
   "source": [
    "lf.profile(show_plot=True, figsize=(15,5))"
   ]
  },
  {
   "cell_type": "markdown",
   "id": "444d89d0",
   "metadata": {},
   "source": [
    "## Tests in Polars"
   ]
  },
  {
   "cell_type": "markdown",
   "id": "795ee1dd",
   "metadata": {},
   "source": [
    "### Comparing DataFrames and Series"
   ]
  },
  {
   "cell_type": "code",
   "execution_count": 26,
   "id": "206172a7",
   "metadata": {},
   "outputs": [],
   "source": [
    "import polars as pl\n",
    "from polars.testing import (\n",
    "  assert_series_equal,\n",
    "  assert_frame_equal,\n",
    "  assert_series_not_equal,\n",
    "  assert_frame_not_equal\n",
    ")"
   ]
  },
  {
   "cell_type": "code",
   "execution_count": 27,
   "id": "c0ed952f",
   "metadata": {},
   "outputs": [],
   "source": [
    "df1 = pl.DataFrame({\n",
    "    'a': [1.0, 2.0, 3.0, 4.0],\n",
    "})\n",
    "\n",
    "df2 = pl.DataFrame({\n",
    "    'a': [1.001, 2.0, 3.0, 4.0],\n",
    "})\n",
    "\n",
    "assert_frame_equal(df1, df2)"
   ]
  },
  {
   "cell_type": "code",
   "execution_count": 28,
   "id": "07f64dfd",
   "metadata": {},
   "outputs": [],
   "source": [
    "assert_frame_equal(df1, df2, rtol=0.01)\n",
    "print(\"The frames are equal.\")"
   ]
  },
  {
   "cell_type": "code",
   "execution_count": 29,
   "id": "4138635c",
   "metadata": {},
   "outputs": [],
   "source": [
    "result = pl.DataFrame({\n",
    "    \"a\": [1, 3],\n",
    "    \"b\": [2, 4]\n",
    "}).cast(pl.Schema({\"a\": pl.Int8, \"b\": pl.Int8}))\n",
    "\n",
    "expected = pl.from_repr(\n",
    "    \"\"\"\n",
    "┌─────┬─────┐\n",
    "│ a   ┆ b   │\n",
    "│ --- ┆ --- │\n",
    "│ i8  ┆ i8  │\n",
    "╞═════╪═════╡\n",
    "│ 1   ┆ 2   │\n",
    "│ 3   ┆ 4   │\n",
    "└─────┴─────┘\n",
    "    \"\"\"\n",
    ")\n",
    "\n",
    "assert_frame_equal(result, expected)\n",
    "print(\"Frames are equal!\")"
   ]
  },
  {
   "cell_type": "markdown",
   "id": "0d365fcd",
   "metadata": {},
   "source": [
    "### Parameterized Tests"
   ]
  },
  {
   "cell_type": "markdown",
   "id": "64dd3ac6",
   "metadata": {},
   "source": [
    "## Common Anti-Patterns"
   ]
  },
  {
   "cell_type": "markdown",
   "id": "1f1d4eca",
   "metadata": {},
   "source": [
    "## The Future of Polars"
   ]
  },
  {
   "cell_type": "markdown",
   "id": "29963a50",
   "metadata": {},
   "source": [
    "## Takeaways"
   ]
  }
 ],
 "metadata": {},
 "nbformat": 4,
 "nbformat_minor": 5
}
