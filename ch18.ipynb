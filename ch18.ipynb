{
 "cells": [
  {
   "cell_type": "markdown",
   "id": "b1bc0be5",
   "metadata": {},
   "source": [
    "# Chapter 18: Polars Internals"
   ]
  },
  {
   "cell_type": "code",
   "execution_count": 1,
   "id": "66934a44",
   "metadata": {},
   "outputs": [],
   "source": [
    "import polars as pl\n",
    "pl.show_versions()  # The book is built with Polars version 1.0.0"
   ]
  },
  {
   "cell_type": "markdown",
   "id": "53f584f9",
   "metadata": {},
   "source": [
    "## Arrow"
   ]
  },
  {
   "cell_type": "markdown",
   "id": "61571049",
   "metadata": {},
   "source": [
    "## Multi-Threaded Computations and SIMD Operations"
   ]
  },
  {
   "cell_type": "markdown",
   "id": "9dbff48a",
   "metadata": {},
   "source": [
    "## The String Data Type in Memory"
   ]
  },
  {
   "cell_type": "markdown",
   "id": "0ff448a7",
   "metadata": {},
   "source": [
    "## ChunkedArrays in Series"
   ]
  },
  {
   "cell_type": "markdown",
   "id": "0601ab9b",
   "metadata": {},
   "source": [
    "## Query Optimization"
   ]
  },
  {
   "cell_type": "markdown",
   "id": "afd7c133",
   "metadata": {},
   "source": [
    "### LazyFrame Scan Level Optimizations"
   ]
  },
  {
   "cell_type": "code",
   "execution_count": 8,
   "id": "49bb1369",
   "metadata": {},
   "outputs": [],
   "source": [
    "lf = pl.scan_parquet(\"data/taxi/yellow_tripdata_*.parquet\")  \n",
    "lf.select(pl.col(\"trip_distance\")).show_graph()  "
   ]
  },
  {
   "cell_type": "code",
   "execution_count": 9,
   "id": "f4356c33",
   "metadata": {},
   "outputs": [],
   "source": [
    "lf.filter(pl.col(\"trip_distance\") > 10).show_graph()"
   ]
  },
  {
   "cell_type": "code",
   "execution_count": 10,
   "id": "b05726ea",
   "metadata": {},
   "outputs": [],
   "source": [
    "lf.head(2).collect()"
   ]
  },
  {
   "cell_type": "markdown",
   "id": "95915650",
   "metadata": {},
   "source": [
    "### Other Optimizations"
   ]
  },
  {
   "cell_type": "code",
   "execution_count": 12,
   "id": "a35b54b1",
   "metadata": {},
   "outputs": [],
   "source": [
    "lazy_df = pl.LazyFrame({\n",
    "    \"foo\": [1, 2, 3, 4, 5],\n",
    "    \"bar\": [6, 7, 8, 9, 10]\n",
    "})"
   ]
  },
  {
   "cell_type": "code",
   "execution_count": 13,
   "id": "a5c95bb5",
   "metadata": {},
   "outputs": [],
   "source": [
    "common_subplan = lazy_df.with_columns(pl.col(\"foo\") * 2)\n",
    "\n",
    "# Utilizing the common subplan in two separate expressions\n",
    "expr1 = common_subplan.filter(pl.col(\"foo\") * 2 > 4)\n",
    "expr2 = common_subplan.filter(pl.col(\"foo\") * 2 < 8)\n",
    "\n",
    "result = pl.concat([expr1, expr2])\n",
    "\n",
    "result.show_graph(optimized=False)\n",
    "result.show_graph()"
   ]
  },
  {
   "cell_type": "code",
   "execution_count": 14,
   "id": "1bcdcc6d",
   "metadata": {},
   "outputs": [],
   "source": [
    "df = (\n",
    "    df.lazy()\n",
    "    .with_columns(weight_per_cm=pl.col(\"weight_kg\") / pl.col(\"length_cm\"))\n",
    "    .with_columns(weight_kg_average=pl.lit(0))\n",
    "    .with_columns(length_m=pl.col(\"length_cm\") / 100)\n",
    "    .with_columns(weight_kg_average=pl.col(\"weight_kg\").mean())\n",
    ")"
   ]
  },
  {
   "cell_type": "code",
   "execution_count": 15,
   "id": "85c9ba97",
   "metadata": {},
   "outputs": [],
   "source": [
    "df = df.lazy().with_columns(\n",
    "    weight_per_cm=pl.col(\"weight_kg\") / pl.col(\"length_cm\"),\n",
    "    weight_kg_average=pl.col(\"weight_kg\").mean(),\n",
    "    length_m=pl.col(\"length_cm\") / 100,\n",
    ")"
   ]
  },
  {
   "cell_type": "markdown",
   "id": "3b1b8671",
   "metadata": {},
   "source": [
    "## Profiling Polars"
   ]
  },
  {
   "cell_type": "code",
   "execution_count": 17,
   "id": "06886b30",
   "metadata": {},
   "outputs": [],
   "source": [
    "lf = pl.scan_parquet(\"data/taxi/yellow_tripdata_*.parquet\")\n",
    "lf = lf.filter(pl.col(\"trip_distance\") > 10)\n",
    "lf = lf.select(pl.col(\"VendorID\"), pl.col(\"trip_distance\"), pl.col(\"total_amount\"))\n",
    "lf = lf.group_by(\"VendorID\").agg(\n",
    "    pl.col(\"trip_distance\").sum().alias(\"total_distance\"),\n",
    "    pl.col(\"total_amount\").sum().alias(\"total_amount\")\n",
    ")\n",
    "lf = lf.sort(\"total_distance\", descending=True)\n",
    "\n",
    "lf.show_graph()"
   ]
  },
  {
   "cell_type": "code",
   "execution_count": 18,
   "id": "cfbb7522",
   "metadata": {},
   "outputs": [],
   "source": [
    "lf.profile()"
   ]
  },
  {
   "cell_type": "code",
   "execution_count": 19,
   "id": "72dd2438",
   "metadata": {},
   "outputs": [],
   "source": [
    "lf.profile(show_plot=True, figsize=(15,5))"
   ]
  },
  {
   "cell_type": "markdown",
   "id": "b016a61b",
   "metadata": {},
   "source": [
    "## Tests in Polars"
   ]
  },
  {
   "cell_type": "markdown",
   "id": "b36765bb",
   "metadata": {},
   "source": [
    "### Comparing DataFrames and Series"
   ]
  },
  {
   "cell_type": "code",
   "execution_count": 22,
   "id": "c3a1a700",
   "metadata": {},
   "outputs": [],
   "source": [
    "import polars as pl\n",
    "from polars.testing import (\n",
    "  assert_series_equal,\n",
    "  assert_frame_equal,\n",
    "  assert_series_not_equal,\n",
    "  assert_frame_not_equal\n",
    ")"
   ]
  },
  {
   "cell_type": "code",
   "execution_count": 23,
   "id": "3c7c3d96",
   "metadata": {},
   "outputs": [],
   "source": [
    "df1 = pl.DataFrame({\n",
    "    'a': [1.0, 2.0, 3.0, 4.0],\n",
    "})\n",
    "\n",
    "df2 = pl.DataFrame({\n",
    "    'a': [1.001, 2.0, 3.0, 4.0],\n",
    "})\n",
    "\n",
    "assert_frame_equal(df1, df2)"
   ]
  },
  {
   "cell_type": "code",
   "execution_count": 24,
   "id": "6734a6d3",
   "metadata": {},
   "outputs": [],
   "source": [
    "assert_frame_equal(df1, df2, rtol=0.01)\n",
    "print(\"The frames are equal.\")"
   ]
  },
  {
   "cell_type": "code",
   "execution_count": 25,
   "id": "e57d2c4a",
   "metadata": {},
   "outputs": [],
   "source": [
    "result = pl.DataFrame({\n",
    "    \"a\": [1, 3],\n",
    "    \"b\": [2, 4]\n",
    "}).cast(pl.Schema({\"a\": pl.Int8, \"b\": pl.Int8}))\n",
    "\n",
    "expected = pl.from_repr(\n",
    "    \"\"\"\n",
    "┌─────┬─────┐\n",
    "│ a   ┆ b   │\n",
    "│ --- ┆ --- │\n",
    "│ i8  ┆ i8  │\n",
    "╞═════╪═════╡\n",
    "│ 1   ┆ 2   │\n",
    "│ 3   ┆ 4   │\n",
    "└─────┴─────┘\n",
    "    \"\"\"\n",
    ")\n",
    "\n",
    "assert_frame_equal(result, expected)\n",
    "print(\"Frames are equal!\")"
   ]
  },
  {
   "cell_type": "markdown",
   "id": "3050243f",
   "metadata": {},
   "source": [
    "## Common Anti-patterns"
   ]
  },
  {
   "cell_type": "markdown",
   "id": "780ba798",
   "metadata": {},
   "source": [
    "### Using Brackets for Column Selection"
   ]
  },
  {
   "cell_type": "markdown",
   "id": "190bd402",
   "metadata": {},
   "source": [
    "### Misusing `collect()`"
   ]
  },
  {
   "cell_type": "code",
   "execution_count": 29,
   "id": "6b91c2af",
   "metadata": {},
   "outputs": [],
   "source": [
    "%%time\n",
    "lf = pl.scan_parquet(\"data/taxi/yellow_tripdata_*.parquet\")\n",
    "vendor0 = lf.filter(pl.col(\"VendorID\") == 0).collect()\n",
    "vendor1 = lf.filter(pl.col(\"VendorID\") == 1).collect()"
   ]
  },
  {
   "cell_type": "code",
   "execution_count": 30,
   "id": "ced31cdf",
   "metadata": {},
   "outputs": [],
   "source": [
    "%%time\n",
    "lf = pl.scan_parquet(\"data/taxi/yellow_tripdata_*.parquet\")\n",
    "df = lf.filter(pl.col(\"VendorID\").is_in([0,1])).collect()\n",
    "vendor0 = df.filter(pl.col(\"VendorID\") == 0)\n",
    "vendor1 = df.filter(pl.col(\"VendorID\") == 1)"
   ]
  },
  {
   "cell_type": "markdown",
   "id": "7831c7ce",
   "metadata": {},
   "source": [
    "### Using Python Code in your Polars Queries"
   ]
  },
  {
   "cell_type": "markdown",
   "id": "c3e6ed77",
   "metadata": {},
   "source": [
    "## Takeaways"
   ]
  }
 ],
 "metadata": {},
 "nbformat": 4,
 "nbformat_minor": 5
}
