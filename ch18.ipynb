{
 "cells": [
  {
   "cell_type": "markdown",
   "id": "72180c4f",
   "metadata": {},
   "source": [
    "# Chapter 18: Polars Internals"
   ]
  },
  {
   "cell_type": "code",
   "execution_count": null,
   "id": "8a07c799",
   "metadata": {},
   "outputs": [],
   "source": [
    "import polars as pl\n",
    "pl.show_versions()  # The book is built with Polars version 1.13.1"
   ]
  },
  {
   "cell_type": "markdown",
   "id": "799374ca",
   "metadata": {},
   "source": [
    "## Polars' Architecture"
   ]
  },
  {
   "cell_type": "markdown",
   "id": "595740b0",
   "metadata": {},
   "source": [
    "## Arrow"
   ]
  },
  {
   "cell_type": "markdown",
   "id": "a9c6c7b4",
   "metadata": {},
   "source": [
    "## Multi-Threaded Computations and SIMD Operations"
   ]
  },
  {
   "cell_type": "markdown",
   "id": "8551c98f",
   "metadata": {},
   "source": [
    "## The String Data Type in Memory"
   ]
  },
  {
   "cell_type": "markdown",
   "id": "4a09746f",
   "metadata": {},
   "source": [
    "## ChunkedArrays in Series"
   ]
  },
  {
   "cell_type": "markdown",
   "id": "04992016",
   "metadata": {},
   "source": [
    "## Query Optimization"
   ]
  },
  {
   "cell_type": "markdown",
   "id": "353a1f9d",
   "metadata": {},
   "source": [
    "### LazyFrame Scan Level Optimizations"
   ]
  },
  {
   "cell_type": "code",
   "execution_count": null,
   "id": "82c59f44",
   "metadata": {},
   "outputs": [],
   "source": [
    "taxis = pl.scan_parquet(\"data/taxi/yellow_tripdata_*.parquet\")  \n",
    "taxis.select(pl.col(\"trip_distance\")).show_graph()  "
   ]
  },
  {
   "cell_type": "code",
   "execution_count": null,
   "id": "a56d3d00",
   "metadata": {},
   "outputs": [],
   "source": [
    "taxis.filter(pl.col(\"trip_distance\") > 10).show_graph()"
   ]
  },
  {
   "cell_type": "code",
   "execution_count": null,
   "id": "3bdb69f3",
   "metadata": {},
   "outputs": [],
   "source": [
    "taxis.head(2).collect()"
   ]
  },
  {
   "cell_type": "markdown",
   "id": "7f61e321",
   "metadata": {},
   "source": [
    "### Other Optimizations"
   ]
  },
  {
   "cell_type": "code",
   "execution_count": null,
   "id": "968ecbe8",
   "metadata": {},
   "outputs": [],
   "source": [
    "values = pl.LazyFrame({\"value\": [10, 20, 30, 40, 50, 60]})\n",
    "\n",
    "common_subplan = values.with_columns(pl.col(\"value\") * 2)\n",
    "\n",
    "branch1 = common_subplan.select(value2=pl.col(\"value\") / 2)\n",
    "branch2 = common_subplan.select(value3=pl.col(\"value\") * 2)\n",
    "\n",
    "combined = pl.concat([branch1, branch2])\n",
    "\n",
    "combined.show_graph(optimized=False)"
   ]
  },
  {
   "cell_type": "code",
   "execution_count": null,
   "id": "5896c402",
   "metadata": {},
   "outputs": [],
   "source": [
    "combined.show_graph()"
   ]
  },
  {
   "cell_type": "code",
   "execution_count": null,
   "id": "134ca7bd",
   "metadata": {},
   "outputs": [],
   "source": [
    "bmi = pl.LazyFrame(\n",
    "    {\"weight_kg\": [70, 80, 60, 90], \"length_cm\": [175, 180, 160, 190]}\n",
    ")"
   ]
  },
  {
   "cell_type": "code",
   "execution_count": null,
   "id": "17670b27",
   "metadata": {},
   "outputs": [],
   "source": [
    "bmi = (\n",
    "    bmi.with_columns(weight_per_cm=pl.col(\"weight_kg\") / pl.col(\"length_cm\"))\n",
    "    .with_columns(weight_kg_average=pl.lit(0))\n",
    "    .with_columns(length_m=pl.col(\"length_cm\") / 100)\n",
    "    .with_columns(weight_kg_average=pl.col(\"weight_kg\").mean())\n",
    ")"
   ]
  },
  {
   "cell_type": "code",
   "execution_count": null,
   "id": "8259d192",
   "metadata": {},
   "outputs": [],
   "source": [
    "bmi = bmi.with_columns(\n",
    "    weight_per_cm=pl.col(\"weight_kg\") / pl.col(\"length_cm\"),\n",
    "    weight_kg_average=pl.col(\"weight_kg\").mean(),\n",
    "    length_m=pl.col(\"length_cm\") / 100,\n",
    ")"
   ]
  },
  {
   "cell_type": "markdown",
   "id": "139f2c16",
   "metadata": {},
   "source": [
    "## Profiling Polars"
   ]
  },
  {
   "cell_type": "code",
   "execution_count": null,
   "id": "a5371322",
   "metadata": {},
   "outputs": [],
   "source": [
    "long_distance_taxis_per_vendor_sorted = (\n",
    "    pl.scan_parquet(\"data/taxi/yellow_tripdata_*.parquet\")\n",
    "    .filter(pl.col(\"trip_distance\") > 10)\n",
    "    .select(pl.col(\"VendorID\"), pl.col(\"trip_distance\"), pl.col(\"total_amount\"))\n",
    "    .group_by(\"VendorID\")\n",
    "    .agg(\n",
    "        total_distance=pl.col(\"trip_distance\").sum(),\n",
    "        total_amount=pl.col(\"total_amount\").sum(),\n",
    "    )\n",
    "    .sort(\"total_distance\", descending=True)\n",
    ")\n",
    "\n",
    "long_distance_taxis_per_vendor_sorted.show_graph()"
   ]
  },
  {
   "cell_type": "code",
   "execution_count": null,
   "id": "2989a940",
   "metadata": {},
   "outputs": [],
   "source": [
    "long_distance_taxis_per_vendor_sorted.profile()"
   ]
  },
  {
   "cell_type": "code",
   "execution_count": null,
   "id": "14050fb1",
   "metadata": {},
   "outputs": [],
   "source": [
    "long_distance_taxis_per_vendor_sorted.profile(show_plot=True, figsize=(15, 5))"
   ]
  },
  {
   "cell_type": "markdown",
   "id": "d56cce17",
   "metadata": {},
   "source": [
    "## Tests in Polars"
   ]
  },
  {
   "cell_type": "markdown",
   "id": "147261a7",
   "metadata": {},
   "source": [
    "### Comparing DataFrames and Series"
   ]
  },
  {
   "cell_type": "code",
   "execution_count": null,
   "id": "8b4ceb71",
   "metadata": {},
   "outputs": [],
   "source": [
    "from polars.testing import (\n",
    "    assert_series_equal,\n",
    "    assert_frame_equal,\n",
    "    assert_series_not_equal,\n",
    "    assert_frame_not_equal,\n",
    ")"
   ]
  },
  {
   "cell_type": "code",
   "execution_count": null,
   "id": "d4ccb7ef",
   "metadata": {},
   "outputs": [],
   "source": [
    "floats = pl.DataFrame({\"a\": [1.0, 2.0, 3.0, 4.0]})\n",
    "\n",
    "different_floats = pl.DataFrame({\"a\": [1.001, 2.0, 3.0, 4.0]})"
   ]
  },
  {
   "cell_type": "code",
   "execution_count": null,
   "id": "3c250aa9",
   "metadata": {},
   "outputs": [],
   "source": [
    "# Causes an AssertionError\n",
    "# assert_frame_equal(floats, different_floats)"
   ]
  },
  {
   "cell_type": "code",
   "execution_count": null,
   "id": "de314b18",
   "metadata": {},
   "outputs": [],
   "source": [
    "assert_frame_equal(floats, different_floats, rtol=0.01)\n",
    "print(\"The frames are equal.\")"
   ]
  },
  {
   "cell_type": "code",
   "execution_count": null,
   "id": "643c0997",
   "metadata": {},
   "outputs": [],
   "source": [
    "result = pl.DataFrame({\"a\": [1, 3], \"b\": [2, 4]}).cast(\n",
    "    pl.Schema({\"a\": pl.Int8, \"b\": pl.Int8})\n",
    ")\n",
    "\n",
    "expected = pl.from_repr(\n",
    "    \"\"\"\n",
    "┌─────┬─────┐\n",
    "│ a   ┆ b   │\n",
    "│ --- ┆ --- │\n",
    "│ i8  ┆ i8  │\n",
    "╞═════╪═════╡\n",
    "│ 1   ┆ 2   │\n",
    "│ 3   ┆ 4   │\n",
    "└─────┴─────┘\n",
    "    \"\"\"\n",
    ")\n",
    "\n",
    "assert_frame_equal(result, expected)\n",
    "print(\"Frames are equal!\")"
   ]
  },
  {
   "cell_type": "markdown",
   "id": "a39865dc",
   "metadata": {},
   "source": [
    "## Common Anti-patterns"
   ]
  },
  {
   "cell_type": "markdown",
   "id": "50d3c175",
   "metadata": {},
   "source": [
    "### Using Brackets for Column Selection"
   ]
  },
  {
   "cell_type": "markdown",
   "id": "cc990f69",
   "metadata": {},
   "source": [
    "### Misusing Collect"
   ]
  },
  {
   "cell_type": "code",
   "execution_count": null,
   "id": "ffe782cd",
   "metadata": {},
   "outputs": [],
   "source": [
    "%%time\n",
    "taxis = pl.scan_parquet(\"data/taxi/yellow_tripdata_*.parquet\")\n",
    "vendor0 = taxis.filter(pl.col(\"VendorID\") == 0).collect()\n",
    "vendor1 = taxis.filter(pl.col(\"VendorID\") == 1).collect()"
   ]
  },
  {
   "cell_type": "code",
   "execution_count": null,
   "id": "612d10c0",
   "metadata": {},
   "outputs": [],
   "source": [
    "%%time\n",
    "taxis = pl.scan_parquet(\"data/taxi/yellow_tripdata_*.parquet\")\n",
    "vendors = taxis.filter(pl.col(\"VendorID\").is_in([0, 1])).collect()\n",
    "vendor0 = vendors.filter(pl.col(\"VendorID\") == 0)\n",
    "vendor1 = vendors.filter(pl.col(\"VendorID\") == 1)"
   ]
  },
  {
   "cell_type": "markdown",
   "id": "cba39637",
   "metadata": {},
   "source": [
    "### Using Python Code in your Polars Queries"
   ]
  },
  {
   "cell_type": "markdown",
   "id": "b52a63e9",
   "metadata": {},
   "source": [
    "## Takeaways"
   ]
  }
 ],
 "metadata": {},
 "nbformat": 4,
 "nbformat_minor": 5
}
