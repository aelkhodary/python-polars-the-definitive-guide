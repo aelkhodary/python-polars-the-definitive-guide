{
 "cells": [
  {
   "cell_type": "markdown",
   "id": "6aa8b531",
   "metadata": {},
   "source": [
    "# Chapter 15: Reshaping"
   ]
  },
  {
   "cell_type": "code",
   "execution_count": 1,
   "id": "95a40cb2",
   "metadata": {},
   "outputs": [],
   "source": [
    "import polars as pl\n",
    "pl.show_versions()  # The book is built with Polars version 1.0.0"
   ]
  },
  {
   "cell_type": "markdown",
   "id": "491c90c7",
   "metadata": {},
   "source": [
    "## Wide Versus Long DataFrames"
   ]
  },
  {
   "cell_type": "code",
   "execution_count": 3,
   "id": "5cbd60a7",
   "metadata": {},
   "outputs": [],
   "source": [
    "import polars as pl\n",
    "\n",
    "df = pl.DataFrame({\n",
    "    \"student\": [\"Alice\", \"Bob\", \"Charlie\"],\n",
    "    \"math\": [85, 78, 92],\n",
    "    \"science\": [90, 82, 85],\n",
    "    \"history\": [88, 80, 87]\n",
    "})\n",
    "df"
   ]
  },
  {
   "cell_type": "code",
   "execution_count": 4,
   "id": "b93a0e69",
   "metadata": {},
   "outputs": [],
   "source": [
    "df = pl.DataFrame({\n",
    "    \"student\": [\"Alice\", \"Alice\", \"Alice\", \"Bob\", \"Bob\", \"Bob\", \"Charlie\",\n",
    "        \"Charlie\", \"Charlie\"],\n",
    "    \"subject\": [\"Math\", \"Science\", \"History\", \"Math\", \"Science\", \"History\",\n",
    "        \"Math\", \"Science\", \"History\"],\n",
    "    \"grade\": [85, 90, 88, 78, 82, 80, 92, 85, 87]\n",
    "})\n",
    "df"
   ]
  },
  {
   "cell_type": "markdown",
   "id": "c614bcab",
   "metadata": {},
   "source": [
    "## Pivot to Wider DataFrame"
   ]
  },
  {
   "cell_type": "code",
   "execution_count": 6,
   "id": "50638591",
   "metadata": {},
   "outputs": [],
   "source": [
    "import polars as pl\n",
    "\n",
    "df = pl.DataFrame({\n",
    "    \"student\": [\"Alice\", \"Alice\", \"Alice\", \"Bob\", \"Bob\", \"Bob\", \"Charlie\",\n",
    "        \"Charlie\", \"Charlie\"],\n",
    "    \"subject\": [\"Math\", \"Science\", \"History\", \"Math\", \"Science\", \"History\",\n",
    "        \"Math\", \"Science\", \"History\"],\n",
    "    \"grade\": [85, 90, 88, 78, 82, 80, 92, 85, 87]\n",
    "})\n",
    "\n",
    "df"
   ]
  },
  {
   "cell_type": "code",
   "execution_count": 7,
   "id": "afe7bf8c",
   "metadata": {},
   "outputs": [],
   "source": [
    "df.pivot(index=\"student\", columns=\"subject\", values=\"grade\")"
   ]
  },
  {
   "cell_type": "code",
   "execution_count": 8,
   "id": "a98036d0",
   "metadata": {},
   "outputs": [],
   "source": [
    "df = pl.DataFrame({\n",
    "    \"student\": [\"Alice\", \"Alice\", \"Alice\", \"Alice\", \"Alice\", \"Alice\",\n",
    "                \"Bob\", \"Bob\", \"Bob\", \"Bob\", \"Bob\", \"Bob\"],\n",
    "    \"subject\": [\"Math\", \"Math\", \"Math\", \"Science\", \"Science\", \"Science\",\n",
    "                \"Math\", \"Math\", \"Math\", \"Science\", \"Science\", \"Science\"],\n",
    "    \"grade\": [85, 88, 85, 60, 66, 63,\n",
    "              51, 79, 62, 82, 85, 82]\n",
    "})\n",
    "\n",
    "df"
   ]
  },
  {
   "cell_type": "code",
   "execution_count": 9,
   "id": "29e399cd",
   "metadata": {},
   "outputs": [],
   "source": [
    "df.pivot(\n",
    "    index=\"student\",\n",
    "    columns=\"subject\",\n",
    "    values=\"grade\",\n",
    "    aggregate_function=\"mean\"\n",
    ")"
   ]
  },
  {
   "cell_type": "code",
   "execution_count": 10,
   "id": "3872ce64",
   "metadata": {},
   "outputs": [],
   "source": [
    "df.pivot(\n",
    "    index=\"student\",\n",
    "    columns=\"subject\",\n",
    "    values=\"grade\",\n",
    "    aggregate_function=pl.element().max() - pl.element().min()\n",
    ")"
   ]
  },
  {
   "cell_type": "markdown",
   "id": "81edf281",
   "metadata": {},
   "source": [
    "## Melt to Longer DataFrame"
   ]
  },
  {
   "cell_type": "code",
   "execution_count": 12,
   "id": "99015d23",
   "metadata": {},
   "outputs": [],
   "source": [
    "df = pl.DataFrame({\n",
    "    \"student\": [\"Alice\", \"Bob\", \"Charlie\"],\n",
    "    \"math\": [85, 78, 92],\n",
    "    \"science\": [90, 82, 85],\n",
    "    \"history\": [88, 80, 87]\n",
    "})\n",
    "df"
   ]
  },
  {
   "cell_type": "code",
   "execution_count": 13,
   "id": "bba48606",
   "metadata": {},
   "outputs": [],
   "source": [
    "df.melt(\n",
    "    id_vars=[\"student\"],\n",
    "    value_vars=[\"math\", \"science\", \"history\"],\n",
    "    variable_name=\"subject\",\n",
    "    value_name=\"grade\"\n",
    ")"
   ]
  },
  {
   "cell_type": "code",
   "execution_count": 14,
   "id": "f3f451c7",
   "metadata": {},
   "outputs": [],
   "source": [
    "df = pl.DataFrame({\n",
    "    \"student\": [\"Alice\", \"Bob\", \"Charlie\", \"Alice\", \"Bob\", \"Charlie\"],\n",
    "    \"class\": [\"Math101\", \"Math101\", \"Math101\", \"Math102\", \"Math102\", \"Math102\"],\n",
    "    \"age\": [20, 21, 22, 20, 21, 22],\n",
    "    \"semester\": [\"Fall\", \"Fall\", \"Fall\", \"Spring\", \"Spring\", \"Spring\"],\n",
    "    \"math\": [85, 78, 92, 88, 79, 95],\n",
    "    \"science\": [90, 82, 85, 92, 81, 87],\n",
    "    \"history\": [88, 80, 87, 85, 82, 89]\n",
    "})\n",
    "df"
   ]
  },
  {
   "cell_type": "code",
   "execution_count": 15,
   "id": "d301739f",
   "metadata": {},
   "outputs": [],
   "source": [
    "df.melt(\n",
    "    id_vars=[\"student\", \"class\", \"age\", \"semester\"],\n",
    "    value_vars=[\"math\", \"science\", \"history\"],\n",
    "    variable_name=\"subject\",\n",
    "    value_name=\"grade\"\n",
    ")"
   ]
  },
  {
   "cell_type": "markdown",
   "id": "a077430c",
   "metadata": {},
   "source": [
    "## Transposing"
   ]
  },
  {
   "cell_type": "code",
   "execution_count": 17,
   "id": "ed2c8838",
   "metadata": {},
   "outputs": [],
   "source": [
    "df = pl.DataFrame({\n",
    "    \"student\": [\"Alice\", \"Bob\", \"Charlie\"],\n",
    "    \"math\": [85, 78, 92],\n",
    "    \"science\": [90, 82, 85],\n",
    "    \"history\": [88, 80, 87]\n",
    "})\n",
    "df"
   ]
  },
  {
   "cell_type": "code",
   "execution_count": 18,
   "id": "cd2ffb92",
   "metadata": {},
   "outputs": [],
   "source": [
    "df.transpose(\n",
    "    include_header=True,\n",
    "    header_name=\"original_headers\",\n",
    "    column_names=(f\"report_{count}\" for count in range(1, len(df.columns) + 1))\n",
    ")"
   ]
  },
  {
   "cell_type": "markdown",
   "id": "bec44b66",
   "metadata": {},
   "source": [
    "## Exploding"
   ]
  },
  {
   "cell_type": "code",
   "execution_count": 20,
   "id": "26faffe4",
   "metadata": {},
   "outputs": [],
   "source": [
    "df = pl.DataFrame({\n",
    "    \"student\": [\"Alice\", \"Bob\", \"Charlie\"],\n",
    "    \"math\": [[85, 90, 88], [78, 82, 80], [92, 85, 87]]\n",
    "})\n",
    "df"
   ]
  },
  {
   "cell_type": "code",
   "execution_count": 21,
   "id": "023a5cff",
   "metadata": {},
   "outputs": [],
   "source": [
    "df.explode(\"math\")"
   ]
  },
  {
   "cell_type": "code",
   "execution_count": 22,
   "id": "8284a46f",
   "metadata": {},
   "outputs": [],
   "source": [
    "df = pl.DataFrame({\n",
    "    \"student\": [\"Alice\", \"Bob\", \"Charlie\"],\n",
    "    \"math\": [[85, 90, 88], [78, 82, 80], [92, 85, 87]],\n",
    "    \"science\": [[85, 90, 88], [78, 82], [92, 85, 87]],\n",
    "    \"history\": [[85, 90, 88], [78, 82], [92, 85, 87]],\n",
    "})\n",
    "df"
   ]
  },
  {
   "cell_type": "code",
   "execution_count": 23,
   "id": "529601bc",
   "metadata": {},
   "outputs": [],
   "source": [
    "df.explode(\"math\", \"science\", \"history\")"
   ]
  },
  {
   "cell_type": "code",
   "execution_count": 24,
   "id": "f92f10a9",
   "metadata": {},
   "outputs": [],
   "source": [
    "df = pl.DataFrame({\n",
    "    \"id\": [1,2],\n",
    "    \"value1\": [[\"a\", \"b\"], [\"c\"]],\n",
    "    \"value2\": [[\"a\"], [\"b\"]],\n",
    "})\n",
    "df.explode(\"value1\", \"value2\")"
   ]
  },
  {
   "cell_type": "code",
   "execution_count": 25,
   "id": "cff37707",
   "metadata": {},
   "outputs": [],
   "source": [
    "df = pl.DataFrame({\n",
    "    \"id\": [1,2],\n",
    "    \"nested_value\": [[\"a\", \"b\"], [[\"c\"], [\"d\", \"e\"]]],\n",
    "}, strict=False)\n",
    "df"
   ]
  },
  {
   "cell_type": "code",
   "execution_count": 26,
   "id": "5a347820",
   "metadata": {},
   "outputs": [],
   "source": [
    "df.explode(\"nested_value\")"
   ]
  },
  {
   "cell_type": "code",
   "execution_count": 27,
   "id": "f63b8436",
   "metadata": {},
   "outputs": [],
   "source": [
    "df.explode(\"nested_value\").explode(\"nested_value\")"
   ]
  },
  {
   "cell_type": "markdown",
   "id": "23772592",
   "metadata": {},
   "source": [
    "## Partition into Multiple DataFrames"
   ]
  },
  {
   "cell_type": "code",
   "execution_count": 29,
   "id": "8afa5d98",
   "metadata": {},
   "outputs": [],
   "source": [
    "df = pl.DataFrame({\n",
    "    \"OrderID\": [1, 2, 3, 4, 5, 6],\n",
    "    \"Product\": [\"A\", \"B\", \"A\", \"C\", \"B\", \"A\"],\n",
    "    \"Quantity\": [10, 5, 8, 7, 3, 12],\n",
    "    \"Region\": [\"North\", \"South\", \"North\", \"West\", \"South\", \"West\"]\n",
    "})"
   ]
  },
  {
   "cell_type": "code",
   "execution_count": 30,
   "id": "46571852",
   "metadata": {},
   "outputs": [],
   "source": [
    "df.partition_by(\"Region\")"
   ]
  },
  {
   "cell_type": "code",
   "execution_count": 31,
   "id": "e5b0b311",
   "metadata": {},
   "outputs": [],
   "source": [
    "df.partition_by(\"Region\", include_key=False)"
   ]
  },
  {
   "cell_type": "code",
   "execution_count": 32,
   "id": "5a3cbf52",
   "metadata": {},
   "outputs": [],
   "source": [
    "dfs = df.partition_by([\"Region\"], as_dict=True)\n",
    "dfs"
   ]
  },
  {
   "cell_type": "code",
   "execution_count": 33,
   "id": "3121c92b",
   "metadata": {},
   "outputs": [],
   "source": [
    "dfs[(\"North\",)]"
   ]
  },
  {
   "cell_type": "markdown",
   "id": "378c9ef4",
   "metadata": {},
   "source": [
    "## Conclusion"
   ]
  }
 ],
 "metadata": {},
 "nbformat": 4,
 "nbformat_minor": 5
}
