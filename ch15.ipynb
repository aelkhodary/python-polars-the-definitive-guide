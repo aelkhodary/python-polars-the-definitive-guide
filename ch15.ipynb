{
 "cells": [
  {
   "cell_type": "markdown",
   "metadata": {},
   "source": [
    "# Chapter 15: Reshaping"
   ]
  },
  {
   "cell_type": "code",
   "execution_count": null,
   "metadata": {},
   "outputs": [],
   "source": [
    "import polars as pl\n",
    "pl.show_versions()  # The book is built with Polars version 1.8.2"
   ]
  },
  {
   "cell_type": "markdown",
   "metadata": {},
   "source": [
    "## Wide Versus Long DataFrames"
   ]
  },
  {
   "cell_type": "code",
   "execution_count": null,
   "metadata": {},
   "outputs": [],
   "source": [
    "import polars as pl\n",
    "\n",
    "df = pl.DataFrame({\n",
    "    \"student\": [\"Alice\", \"Bob\", \"Charlie\"],\n",
    "    \"math\": [85, 78, 92],\n",
    "    \"science\": [90, 82, 85],\n",
    "    \"history\": [88, 80, 87]\n",
    "})\n",
    "df"
   ]
  },
  {
   "cell_type": "code",
   "execution_count": null,
   "metadata": {},
   "outputs": [],
   "source": [
    "df = pl.DataFrame({\n",
    "    \"student\": [\"Alice\", \"Alice\", \"Alice\", \"Bob\", \"Bob\", \"Bob\", \"Charlie\",\n",
    "        \"Charlie\", \"Charlie\"],\n",
    "    \"subject\": [\"Math\", \"Science\", \"History\", \"Math\", \"Science\", \"History\",\n",
    "        \"Math\", \"Science\", \"History\"],\n",
    "    \"grade\": [85, 90, 88, 78, 82, 80, 92, 85, 87]\n",
    "})\n",
    "df"
   ]
  },
  {
   "cell_type": "markdown",
   "metadata": {},
   "source": [
    "## Pivot to Wider DataFrame"
   ]
  },
  {
   "cell_type": "code",
   "execution_count": null,
   "metadata": {},
   "outputs": [],
   "source": [
    "import polars as pl\n",
    "\n",
    "df = pl.DataFrame({\n",
    "    \"student\": [\"Alice\", \"Alice\", \"Alice\", \"Bob\", \"Bob\", \"Bob\", \"Charlie\",\n",
    "        \"Charlie\", \"Charlie\"],\n",
    "    \"subject\": [\"Math\", \"Science\", \"History\", \"Math\", \"Science\", \"History\",\n",
    "        \"Math\", \"Science\", \"History\"],\n",
    "    \"grade\": [85, 90, 88, 78, 82, 80, 92, 85, 87]\n",
    "})\n",
    "\n",
    "df"
   ]
  },
  {
   "cell_type": "code",
   "execution_count": null,
   "metadata": {},
   "outputs": [],
   "source": [
    "df.pivot(index=\"student\", columns=\"subject\", values=\"grade\")"
   ]
  },
  {
   "cell_type": "code",
   "execution_count": null,
   "metadata": {},
   "outputs": [],
   "source": [
    "df = pl.DataFrame({\n",
    "    \"student\": [\"Alice\", \"Alice\", \"Alice\", \"Alice\", \"Alice\", \"Alice\",\n",
    "                \"Bob\", \"Bob\", \"Bob\", \"Bob\", \"Bob\", \"Bob\"],\n",
    "    \"subject\": [\"Math\", \"Math\", \"Math\", \"Science\", \"Science\", \"Science\",\n",
    "                \"Math\", \"Math\", \"Math\", \"Science\", \"Science\", \"Science\"],\n",
    "    \"grade\": [85, 88, 85, 60, 66, 63,\n",
    "              51, 79, 62, 82, 85, 82]\n",
    "})\n",
    "\n",
    "df"
   ]
  },
  {
   "cell_type": "code",
   "execution_count": null,
   "metadata": {},
   "outputs": [],
   "source": [
    "df.pivot(\n",
    "    index=\"student\",\n",
    "    columns=\"subject\",\n",
    "    values=\"grade\",\n",
    "    aggregate_function=\"mean\"\n",
    ")"
   ]
  },
  {
   "cell_type": "code",
   "execution_count": null,
   "metadata": {},
   "outputs": [],
   "source": [
    "df.pivot(\n",
    "    index=\"student\",\n",
    "    columns=\"subject\",\n",
    "    values=\"grade\",\n",
    "    aggregate_function=pl.element().max() - pl.element().min()\n",
    ")"
   ]
  },
  {
   "cell_type": "markdown",
   "metadata": {},
   "source": [
    "## Melt to Longer DataFrame"
   ]
  },
  {
   "cell_type": "code",
   "execution_count": null,
   "metadata": {},
   "outputs": [],
   "source": [
    "df = pl.DataFrame({\n",
    "    \"student\": [\"Alice\", \"Bob\", \"Charlie\"],\n",
    "    \"math\": [85, 78, 92],\n",
    "    \"science\": [90, 82, 85],\n",
    "    \"history\": [88, 80, 87]\n",
    "})\n",
    "df"
   ]
  },
  {
   "cell_type": "code",
   "execution_count": null,
   "metadata": {},
   "outputs": [],
   "source": [
    "df.melt(\n",
    "    id_vars=[\"student\"],\n",
    "    value_vars=[\"math\", \"science\", \"history\"],\n",
    "    variable_name=\"subject\",\n",
    "    value_name=\"grade\"\n",
    ")"
   ]
  },
  {
   "cell_type": "code",
   "execution_count": null,
   "metadata": {},
   "outputs": [],
   "source": [
    "df = pl.DataFrame({\n",
    "    \"student\": [\"Alice\", \"Bob\", \"Charlie\", \"Alice\", \"Bob\", \"Charlie\"],\n",
    "    \"class\": [\"Math101\", \"Math101\", \"Math101\", \"Math102\", \"Math102\", \"Math102\"],\n",
    "    \"age\": [20, 21, 22, 20, 21, 22],\n",
    "    \"semester\": [\"Fall\", \"Fall\", \"Fall\", \"Spring\", \"Spring\", \"Spring\"],\n",
    "    \"math\": [85, 78, 92, 88, 79, 95],\n",
    "    \"science\": [90, 82, 85, 92, 81, 87],\n",
    "    \"history\": [88, 80, 87, 85, 82, 89]\n",
    "})\n",
    "df"
   ]
  },
  {
   "cell_type": "code",
   "execution_count": null,
   "metadata": {},
   "outputs": [],
   "source": [
    "df.melt(\n",
    "    id_vars=[\"student\", \"class\", \"age\", \"semester\"],\n",
    "    value_vars=[\"math\", \"science\", \"history\"],\n",
    "    variable_name=\"subject\",\n",
    "    value_name=\"grade\"\n",
    ")"
   ]
  },
  {
   "cell_type": "markdown",
   "metadata": {},
   "source": [
    "## Transposing"
   ]
  },
  {
   "cell_type": "code",
   "execution_count": null,
   "metadata": {},
   "outputs": [],
   "source": [
    "df = pl.DataFrame({\n",
    "    \"student\": [\"Alice\", \"Bob\", \"Charlie\"],\n",
    "    \"math\": [85, 78, 92],\n",
    "    \"science\": [90, 82, 85],\n",
    "    \"history\": [88, 80, 87]\n",
    "})\n",
    "df"
   ]
  },
  {
   "cell_type": "code",
   "execution_count": null,
   "metadata": {},
   "outputs": [],
   "source": [
    "df.transpose(\n",
    "    include_header=True,\n",
    "    header_name=\"original_headers\",\n",
    "    column_names=(f\"report_{count}\" for count in range(1, len(df.columns) + 1))\n",
    ")"
   ]
  },
  {
   "cell_type": "markdown",
   "metadata": {},
   "source": [
    "## Exploding"
   ]
  },
  {
   "cell_type": "code",
   "execution_count": null,
   "metadata": {},
   "outputs": [],
   "source": [
    "df = pl.DataFrame({\n",
    "    \"student\": [\"Alice\", \"Bob\", \"Charlie\"],\n",
    "    \"math\": [[85, 90, 88], [78, 82, 80], [92, 85, 87]]\n",
    "})\n",
    "df"
   ]
  },
  {
   "cell_type": "code",
   "execution_count": null,
   "metadata": {},
   "outputs": [],
   "source": [
    "df.explode(\"math\")"
   ]
  },
  {
   "cell_type": "code",
   "execution_count": null,
   "metadata": {},
   "outputs": [],
   "source": [
    "df = pl.DataFrame({\n",
    "    \"student\": [\"Alice\", \"Bob\", \"Charlie\"],\n",
    "    \"math\": [[85, 90, 88], [78, 82, 80], [92, 85, 87]],\n",
    "    \"science\": [[85, 90, 88], [78, 82], [92, 85, 87]],\n",
    "    \"history\": [[85, 90, 88], [78, 82], [92, 85, 87]],\n",
    "})\n",
    "df"
   ]
  },
  {
   "cell_type": "code",
   "execution_count": null,
   "metadata": {},
   "outputs": [],
   "source": [
    "df.explode(\"math\", \"science\", \"history\")"
   ]
  },
  {
   "cell_type": "code",
   "execution_count": null,
   "metadata": {},
   "outputs": [],
   "source": [
    "df = pl.DataFrame({\n",
    "    \"id\": [1,2],\n",
    "    \"value1\": [[\"a\", \"b\"], [\"c\"]],\n",
    "    \"value2\": [[\"a\"], [\"b\"]],\n",
    "})\n",
    "df.explode(\"value1\", \"value2\")"
   ]
  },
  {
   "cell_type": "code",
   "execution_count": null,
   "metadata": {},
   "outputs": [],
   "source": [
    "df = pl.DataFrame({\n",
    "    \"id\": [1,2],\n",
    "    \"nested_value\": [[\"a\", \"b\"], [[\"c\"], [\"d\", \"e\"]]],\n",
    "}, strict=False)\n",
    "df"
   ]
  },
  {
   "cell_type": "code",
   "execution_count": null,
   "metadata": {},
   "outputs": [],
   "source": [
    "df.explode(\"nested_value\")"
   ]
  },
  {
   "cell_type": "code",
   "execution_count": null,
   "metadata": {},
   "outputs": [],
   "source": [
    "df.explode(\"nested_value\").explode(\"nested_value\")"
   ]
  },
  {
   "cell_type": "markdown",
   "metadata": {},
   "source": [
    "## Partition into Multiple DataFrames"
   ]
  },
  {
   "cell_type": "code",
   "execution_count": null,
   "metadata": {},
   "outputs": [],
   "source": [
    "df = pl.DataFrame({\n",
    "    \"OrderID\": [1, 2, 3, 4, 5, 6],\n",
    "    \"Product\": [\"A\", \"B\", \"A\", \"C\", \"B\", \"A\"],\n",
    "    \"Quantity\": [10, 5, 8, 7, 3, 12],\n",
    "    \"Region\": [\"North\", \"South\", \"North\", \"West\", \"South\", \"West\"]\n",
    "})"
   ]
  },
  {
   "cell_type": "code",
   "execution_count": null,
   "metadata": {},
   "outputs": [],
   "source": [
    "df.partition_by(\"Region\")"
   ]
  },
  {
   "cell_type": "code",
   "execution_count": null,
   "metadata": {},
   "outputs": [],
   "source": [
    "df.partition_by(\"Region\", include_key=False)"
   ]
  },
  {
   "cell_type": "code",
   "execution_count": null,
   "metadata": {},
   "outputs": [],
   "source": [
    "dfs = df.partition_by([\"Region\"], as_dict=True)\n",
    "dfs"
   ]
  },
  {
   "cell_type": "code",
   "execution_count": null,
   "metadata": {},
   "outputs": [],
   "source": [
    "dfs[(\"North\",)]"
   ]
  },
  {
   "cell_type": "markdown",
   "metadata": {},
   "source": [
    "## Conclusion"
   ]
  }
 ],
 "metadata": {},
 "nbformat": 4,
 "nbformat_minor": 5
}
