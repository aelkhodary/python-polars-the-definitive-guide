{
 "cells": [
  {
   "cell_type": "markdown",
   "id": "de39f3bb",
   "metadata": {},
   "source": [
    "# Chapter 10: Selecting and Creating Columns"
   ]
  },
  {
   "cell_type": "code",
   "execution_count": null,
   "id": "c11dd494",
   "metadata": {},
   "outputs": [],
   "source": [
    "import polars as pl\n",
    "pl.show_versions()  # The book is built with Polars version 1.13.1"
   ]
  },
  {
   "cell_type": "code",
   "execution_count": null,
   "id": "4222c547",
   "metadata": {},
   "outputs": [],
   "source": [
    "starwars = pl.read_parquet(\"data/starwars.parquet\")\n",
    "rebels = starwars.drop(\"films\").filter(\n",
    "    pl.col(\"name\").is_in([\"Luke Skywalker\", \"Leia Organa\", \"Han Solo\"])\n",
    ")\n",
    "\n",
    "print(rebels[:, :6])  \n",
    "print(rebels[:, 6:11])\n",
    "print(rebels[:, 11:])"
   ]
  },
  {
   "cell_type": "markdown",
   "id": "b56fa9ff",
   "metadata": {},
   "source": [
    "## Selecting Columns"
   ]
  },
  {
   "cell_type": "code",
   "execution_count": null,
   "id": "f0b308a7",
   "metadata": {},
   "outputs": [],
   "source": [
    "rebels.select(\n",
    "    \"name\",\n",
    "    pl.col(\"homeworld\"),\n",
    "    pl.col(\"^.*_color$\"),\n",
    "    (pl.col(\"height\") / 100).alias(\"height_m\"),\n",
    ")"
   ]
  },
  {
   "cell_type": "markdown",
   "id": "3e563b7d",
   "metadata": {},
   "source": [
    "### Introducing Selectors"
   ]
  },
  {
   "cell_type": "code",
   "execution_count": null,
   "id": "5a711ebc",
   "metadata": {},
   "outputs": [],
   "source": [
    "import polars.selectors as cs"
   ]
  },
  {
   "cell_type": "code",
   "execution_count": null,
   "id": "2c844113",
   "metadata": {},
   "outputs": [],
   "source": [
    "rebels.select(\n",
    "    \"name\",\n",
    "    cs.by_name(\"homeworld\"),\n",
    "    cs.by_name(\"^.*_color$\"),\n",
    "    (cs.by_name(\"height\") / 100).alias(\"height_m\"),\n",
    ")"
   ]
  },
  {
   "cell_type": "markdown",
   "id": "2d468fad",
   "metadata": {},
   "source": [
    "### Selecting Based on Name"
   ]
  },
  {
   "cell_type": "code",
   "execution_count": null,
   "id": "b2efb245",
   "metadata": {},
   "outputs": [],
   "source": [
    "rebels.select(cs.starts_with(\"birth_\"))"
   ]
  },
  {
   "cell_type": "code",
   "execution_count": null,
   "id": "56eb9944",
   "metadata": {},
   "outputs": [],
   "source": [
    "rebels.select(cs.ends_with(\"_color\"))"
   ]
  },
  {
   "cell_type": "code",
   "execution_count": null,
   "id": "78935405",
   "metadata": {},
   "outputs": [],
   "source": [
    "rebels.select(cs.contains(\"_\"))"
   ]
  },
  {
   "cell_type": "code",
   "execution_count": null,
   "id": "8583df83",
   "metadata": {},
   "outputs": [],
   "source": [
    "rebels.select(cs.matches(\"^[a-z]{4}$\"))"
   ]
  },
  {
   "cell_type": "markdown",
   "id": "0913db3f",
   "metadata": {},
   "source": [
    "### Selecting Based on Data Type"
   ]
  },
  {
   "cell_type": "code",
   "execution_count": null,
   "id": "18713c99",
   "metadata": {},
   "outputs": [],
   "source": [
    "rebels.group_by(\"hair_color\").agg(cs.numeric().mean())"
   ]
  },
  {
   "cell_type": "code",
   "execution_count": null,
   "id": "d673e90d",
   "metadata": {},
   "outputs": [],
   "source": [
    "rebels.select(cs.string())"
   ]
  },
  {
   "cell_type": "code",
   "execution_count": null,
   "id": "1fa3d0ca",
   "metadata": {},
   "outputs": [],
   "source": [
    "rebels.select(cs.temporal())"
   ]
  },
  {
   "cell_type": "code",
   "execution_count": null,
   "id": "74be258e",
   "metadata": {},
   "outputs": [],
   "source": [
    "rebels.select(cs.by_dtype(pl.List(pl.String)))"
   ]
  },
  {
   "cell_type": "markdown",
   "id": "ab8daa7f",
   "metadata": {},
   "source": [
    "### Selecting Based on Position"
   ]
  },
  {
   "cell_type": "code",
   "execution_count": null,
   "id": "f09e2608",
   "metadata": {},
   "outputs": [],
   "source": [
    "rebels.select(cs.by_index(range(0, 999, 3)))  "
   ]
  },
  {
   "cell_type": "code",
   "execution_count": null,
   "id": "7d08fbb0",
   "metadata": {},
   "outputs": [],
   "source": [
    "rebels.select(\"name\", cs.by_index(range(-2, 0)))"
   ]
  },
  {
   "cell_type": "code",
   "execution_count": null,
   "id": "908e3ae4",
   "metadata": {},
   "outputs": [],
   "source": [
    "# This raises a ColumnNotFoundError:\n",
    "# rebels.select(cs.by_index(20))"
   ]
  },
  {
   "cell_type": "code",
   "execution_count": null,
   "id": "26547de7",
   "metadata": {},
   "outputs": [],
   "source": [
    "rebels.select(cs.by_index(range(20, 22)))"
   ]
  },
  {
   "cell_type": "markdown",
   "id": "56a079d6",
   "metadata": {},
   "source": [
    "### Combining Selectors"
   ]
  },
  {
   "cell_type": "code",
   "execution_count": null,
   "id": "33fffb62",
   "metadata": {},
   "outputs": [],
   "source": [
    "rebels.select(cs.by_name(\"hair_color\") | cs.numeric())"
   ]
  },
  {
   "cell_type": "code",
   "execution_count": null,
   "id": "5efb1542",
   "metadata": {},
   "outputs": [],
   "source": [
    "df = pl.DataFrame({\"d\": 1, \"i\": True, \"s\": True, \"c\": True, \"o\": 1.0})\n",
    "\n",
    "print(df)\n",
    "\n",
    "x = cs.by_name(\"d\", \"i\", \"s\")\n",
    "y = cs.boolean()\n",
    "\n",
    "print(\"\\nselector => columns\")\n",
    "\n",
    "for s in [\"x\", \"y\", \"x | y\", \"x & y\", \"x - y\", \"x ^ y\", \"~x\", \"x - x\"]:\n",
    "    print(f\"{s:8} => {cs.expand_selector(df, eval(s))}\")"
   ]
  },
  {
   "cell_type": "code",
   "execution_count": null,
   "id": "860ecd6f",
   "metadata": {},
   "outputs": [],
   "source": [
    "df.select(x - x)"
   ]
  },
  {
   "cell_type": "code",
   "execution_count": null,
   "id": "1096e23b",
   "metadata": {},
   "outputs": [],
   "source": [
    "print(df.select(first := cs.by_name(\"c\", \"i\"), ~first))\n",
    "print(f\"first: {first}, ~first: {~first}\")"
   ]
  },
  {
   "cell_type": "code",
   "execution_count": null,
   "id": "70d4c940",
   "metadata": {},
   "outputs": [],
   "source": [
    "print(df.select(first := cs.last(), ~first))\n",
    "print(f\"first: {first}, ~first: {~first}\")"
   ]
  },
  {
   "cell_type": "markdown",
   "id": "25cf55e7",
   "metadata": {},
   "source": [
    "## Creating Columns"
   ]
  },
  {
   "cell_type": "code",
   "execution_count": null,
   "id": "40210f10",
   "metadata": {},
   "outputs": [],
   "source": [
    "rebels.with_columns(bmi=pl.col(\"mass\") / ((pl.col(\"height\") / 100) ** 2))"
   ]
  },
  {
   "cell_type": "code",
   "execution_count": null,
   "id": "b9e856a5",
   "metadata": {},
   "outputs": [],
   "source": [
    "df = pl.DataFrame({\"a\": [1, 2, 3]})\n",
    "df.with_columns(pl.col(\"a\") * 2)"
   ]
  },
  {
   "cell_type": "code",
   "execution_count": null,
   "id": "3dfdd1aa",
   "metadata": {},
   "outputs": [],
   "source": [
    "df.with_columns(a2=pl.col(\"a\") * 2)"
   ]
  },
  {
   "cell_type": "code",
   "execution_count": null,
   "id": "458d1f9a",
   "metadata": {},
   "outputs": [],
   "source": [
    "from datetime import datetime\n",
    "\n",
    "rebels.with_columns(\n",
    "    bmi=pl.col(\"mass\") / ((pl.col(\"height\") / 100) ** 2),\n",
    "    age_destroy=(\n",
    "        (datetime(1983, 5, 25) - pl.col(\"birth_date\")).dt.total_days() / 365\n",
    "    ).cast(pl.UInt8),\n",
    ")"
   ]
  },
  {
   "cell_type": "code",
   "execution_count": null,
   "id": "c6567b3b",
   "metadata": {},
   "outputs": [],
   "source": [
    "# This raises a ColumnNotFoundError:\n",
    "# rebels.with_columns(\n",
    "#     bmi=pl.col(\"mass\") / ((pl.col(\"height\") / 100) ** 2),\n",
    "#     bmi_cat=pl.col(\"bmi\").cut(\n",
    "#         [18.5, 25], labels=[\"Underweight\", \"Normal\", \"Overweight\"]\n",
    "#     ),\n",
    "# )"
   ]
  },
  {
   "cell_type": "code",
   "execution_count": null,
   "id": "4e0713ab",
   "metadata": {},
   "outputs": [],
   "source": [
    "(\n",
    "    rebels.with_columns(\n",
    "        bmi=pl.col(\"mass\") / ((pl.col(\"height\") / 100) ** 2)\n",
    "    ).with_columns(\n",
    "        bmi_cat=pl.col(\"bmi\").cut(\n",
    "            [18.5, 25], labels=[\"Underweight\", \"Normal\", \"Overweight\"]\n",
    "        )\n",
    "    )\n",
    ")"
   ]
  },
  {
   "cell_type": "code",
   "execution_count": null,
   "id": "e0fea4a4",
   "metadata": {},
   "outputs": [],
   "source": [
    "# Causes a SyntaxError:\n",
    "# starwars.select(\n",
    "#     \"name\",\n",
    "#     bmi=(pl.col(\"mass\") / ((pl.col(\"height\") / 100) ** 2)),\n",
    "#     \"species\",\n",
    "# )"
   ]
  },
  {
   "cell_type": "code",
   "execution_count": null,
   "id": "c35acfd4",
   "metadata": {},
   "outputs": [],
   "source": [
    "(\n",
    "    starwars.select(\n",
    "        \"name\",\n",
    "        (pl.col(\"mass\") / ((pl.col(\"height\") / 100) ** 2)).alias(\"bmi\"),  \n",
    "        \"species\",\n",
    "    )\n",
    "    .drop_nulls()\n",
    "    .top_k(5, by=\"bmi\")  \n",
    ")"
   ]
  },
  {
   "cell_type": "code",
   "execution_count": null,
   "id": "59ba91d6",
   "metadata": {},
   "outputs": [],
   "source": [
    "df.with_columns(pl.lit(1).alias(\"ones\"))"
   ]
  },
  {
   "cell_type": "code",
   "execution_count": null,
   "id": "7ce16d57",
   "metadata": {},
   "outputs": [],
   "source": [
    "df.select(pl.all(), pl.lit(1).alias(\"ones\"))"
   ]
  },
  {
   "cell_type": "markdown",
   "id": "713cd232",
   "metadata": {},
   "source": [
    "## Related Column Operations"
   ]
  },
  {
   "cell_type": "code",
   "execution_count": null,
   "id": "65b4ac38",
   "metadata": {},
   "outputs": [],
   "source": [
    "rebels.drop(\"name\", \"films\", \"screen_time\", strict=False)  "
   ]
  },
  {
   "cell_type": "code",
   "execution_count": null,
   "id": "dd02fcc1",
   "metadata": {},
   "outputs": [],
   "source": [
    "rebels.select(~cs.by_name(\"name\", \"films\", \"screen_time\"))"
   ]
  },
  {
   "cell_type": "code",
   "execution_count": null,
   "id": "191e5b3b",
   "metadata": {},
   "outputs": [],
   "source": [
    "rebels.select(cs.exclude(\"name\", \"films\", \"screen_time\"))"
   ]
  },
  {
   "cell_type": "code",
   "execution_count": null,
   "id": "325635d0",
   "metadata": {},
   "outputs": [],
   "source": [
    "(\n",
    "    rebels.rename({\"homeworld\": \"planet\", \"mass\": \"weight\"})\n",
    "    .rename(lambda s: s.removesuffix(\"_color\"))\n",
    "    .select(\"name\", \"planet\", \"weight\", \"hair\", \"skin\", \"eye\")  \n",
    ")"
   ]
  },
  {
   "cell_type": "code",
   "execution_count": null,
   "id": "6d61e5a7",
   "metadata": {},
   "outputs": [],
   "source": [
    "rebel_names = rebels.select(\"name\")\n",
    "rebel_colors = rebels.select(cs.ends_with(\"_color\"))\n",
    "rebel_quotes = pl.Series(\n",
    "    \"quote\",\n",
    "    [\n",
    "        \"You know, sometimes I amaze myself.\",\n",
    "        \"That doesn't sound too hard.\",\n",
    "        \"I have a bad feeling about this.\",\n",
    "    ],\n",
    ")\n",
    "\n",
    "(rebel_names.hstack(rebel_colors).hstack([rebel_quotes]))  "
   ]
  },
  {
   "cell_type": "code",
   "execution_count": null,
   "id": "13e36fef",
   "metadata": {},
   "outputs": [],
   "source": [
    "rebels.with_row_index(name=\"rebel_id\", offset=1)"
   ]
  },
  {
   "cell_type": "markdown",
   "id": "0d347a49",
   "metadata": {},
   "source": [
    "## Takeaways"
   ]
  }
 ],
 "metadata": {},
 "nbformat": 4,
 "nbformat_minor": 5
}
