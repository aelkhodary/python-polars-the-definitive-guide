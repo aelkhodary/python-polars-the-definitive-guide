{
 "cells": [
  {
   "cell_type": "markdown",
   "id": "9a3b6462",
   "metadata": {},
   "source": [
    "# Chapter 10: Selecting and Creating Columns"
   ]
  },
  {
   "cell_type": "code",
   "execution_count": 1,
   "id": "d9fe476d",
   "metadata": {},
   "outputs": [],
   "source": [
    "import polars as pl\n",
    "pl.show_versions()  # The book is built with Polars version 1.0.0"
   ]
  },
  {
   "cell_type": "code",
   "execution_count": 2,
   "id": "15f70d96",
   "metadata": {},
   "outputs": [],
   "source": [
    "starwars = pl.read_parquet(\"data/starwars.parquet\")\n",
    "rebels = (\n",
    "    starwars\n",
    "    .drop(\"films\")\n",
    "    .filter(pl.col(\"name\").is_in([\"Luke Skywalker\", \"Leia Organa\", \"Han Solo\"]))\n",
    ")\n",
    "\n",
    "print(rebels[:,:6])\n",
    "print(rebels[:,6:11])\n",
    "print(rebels[:,11:])"
   ]
  },
  {
   "cell_type": "markdown",
   "id": "6bc48c3b",
   "metadata": {},
   "source": [
    "## Selecting Columns"
   ]
  },
  {
   "cell_type": "code",
   "execution_count": 4,
   "id": "d13290bf",
   "metadata": {},
   "outputs": [],
   "source": [
    "rebels.select(\n",
    "    \"name\",\n",
    "    pl.col(\"homeworld\"),\n",
    "    pl.col(\"^.*_color$\"),\n",
    "    (pl.col(\"height\") / 100).alias(\"height_m\")\n",
    ")"
   ]
  },
  {
   "cell_type": "markdown",
   "id": "8b3b8891",
   "metadata": {},
   "source": [
    "### Introducing Selectors"
   ]
  },
  {
   "cell_type": "code",
   "execution_count": 6,
   "id": "d8bea8ef",
   "metadata": {},
   "outputs": [],
   "source": [
    "import polars.selectors as cs"
   ]
  },
  {
   "cell_type": "code",
   "execution_count": 7,
   "id": "17c6f094",
   "metadata": {},
   "outputs": [],
   "source": [
    "rebels.select(\n",
    "    \"name\",\n",
    "    cs.by_name(\"homeworld\"),\n",
    "    cs.by_name(\"^.*_color$\"),\n",
    "    (cs.by_name(\"height\") / 100).alias(\"height_m\")\n",
    ")"
   ]
  },
  {
   "cell_type": "markdown",
   "id": "b20b7a80",
   "metadata": {},
   "source": [
    "### Selecting Based on Name"
   ]
  },
  {
   "cell_type": "code",
   "execution_count": 9,
   "id": "585edb83",
   "metadata": {},
   "outputs": [],
   "source": [
    "rebels.select(cs.starts_with(\"birth_\"))"
   ]
  },
  {
   "cell_type": "code",
   "execution_count": 10,
   "id": "52877906",
   "metadata": {},
   "outputs": [],
   "source": [
    "rebels.select(cs.ends_with(\"_color\"))"
   ]
  },
  {
   "cell_type": "code",
   "execution_count": 11,
   "id": "d264c4d2",
   "metadata": {},
   "outputs": [],
   "source": [
    "rebels.select(cs.contains(\"_\"))"
   ]
  },
  {
   "cell_type": "code",
   "execution_count": 12,
   "id": "59fac014",
   "metadata": {},
   "outputs": [],
   "source": [
    "rebels.select(cs.matches(\"^[a-z]{4}$\"))"
   ]
  },
  {
   "cell_type": "markdown",
   "id": "375cce6a",
   "metadata": {},
   "source": [
    "### Selecting Based on Data Type"
   ]
  },
  {
   "cell_type": "code",
   "execution_count": 14,
   "id": "a019fe2f",
   "metadata": {},
   "outputs": [],
   "source": [
    "rebels.group_by(\"hair_color\").agg(cs.numeric().mean())"
   ]
  },
  {
   "cell_type": "code",
   "execution_count": 15,
   "id": "7f873476",
   "metadata": {},
   "outputs": [],
   "source": [
    "rebels.select(cs.string())"
   ]
  },
  {
   "cell_type": "code",
   "execution_count": 16,
   "id": "731f093d",
   "metadata": {},
   "outputs": [],
   "source": [
    "rebels.select(cs.temporal())"
   ]
  },
  {
   "cell_type": "code",
   "execution_count": 17,
   "id": "adc52767",
   "metadata": {},
   "outputs": [],
   "source": [
    "rebels.select(cs.by_dtype(pl.List(pl.String)))"
   ]
  },
  {
   "cell_type": "markdown",
   "id": "1b2deedc",
   "metadata": {},
   "source": [
    "### Selecting Based on Position"
   ]
  },
  {
   "cell_type": "code",
   "execution_count": 19,
   "id": "77bd6feb",
   "metadata": {},
   "outputs": [],
   "source": [
    "rebels.select(cs.by_index(range(0, 999, 3)))  "
   ]
  },
  {
   "cell_type": "code",
   "execution_count": 20,
   "id": "75df7cec",
   "metadata": {},
   "outputs": [],
   "source": [
    "rebels.select(\"name\", cs.by_index(range(-2, 0)))"
   ]
  },
  {
   "cell_type": "code",
   "execution_count": 21,
   "id": "812c937c",
   "metadata": {},
   "outputs": [],
   "source": [
    "rebels.select(cs.by_index(20))"
   ]
  },
  {
   "cell_type": "code",
   "execution_count": 22,
   "id": "ac7f7215",
   "metadata": {},
   "outputs": [],
   "source": [
    "rebels.select(cs.by_index(range(20, 22)))"
   ]
  },
  {
   "cell_type": "markdown",
   "id": "c8403531",
   "metadata": {},
   "source": [
    "### Combining Selectors"
   ]
  },
  {
   "cell_type": "code",
   "execution_count": 24,
   "id": "7712065b",
   "metadata": {},
   "outputs": [],
   "source": [
    "rebels.select(cs.by_name(\"hair_color\") | cs.numeric())"
   ]
  },
  {
   "cell_type": "code",
   "execution_count": 25,
   "id": "e599cc22",
   "metadata": {},
   "outputs": [],
   "source": [
    "df = pl.DataFrame({\"d\": 1, \"i\": True, \"s\": True, \"c\": True, \"o\": 1.0})\n",
    "\n",
    "print(df)\n",
    "\n",
    "x = cs.by_name(\"d\", \"i\", \"s\")\n",
    "y = cs.boolean()\n",
    "\n",
    "print(\"\\nselector => columns\")\n",
    "\n",
    "for s in [\"x\", \"y\", \"x | y\", \"x & y\", \"x - y\", \"x ^ y\", \"~x\", \"x - x\"]:\n",
    "    print(f\"{s:8} => {cs.expand_selector(df, eval(s))}\")"
   ]
  },
  {
   "cell_type": "code",
   "execution_count": 26,
   "id": "a652ead6",
   "metadata": {},
   "outputs": [],
   "source": [
    "df.select(x - x)"
   ]
  },
  {
   "cell_type": "code",
   "execution_count": 27,
   "id": "3c5b248c",
   "metadata": {},
   "outputs": [],
   "source": [
    "print(df.select(first := cs.by_name(\"c\", \"i\"), ~first))\n",
    "print(df.select(first := cs.last(), ~first))"
   ]
  },
  {
   "cell_type": "markdown",
   "id": "b0c961fa",
   "metadata": {},
   "source": [
    "## Creating Columns"
   ]
  },
  {
   "cell_type": "code",
   "execution_count": 29,
   "id": "ab6158e4",
   "metadata": {},
   "outputs": [],
   "source": [
    "rebels.with_columns(bmi=pl.col(\"mass\") / ((pl.col(\"height\") / 100) ** 2))"
   ]
  },
  {
   "cell_type": "code",
   "execution_count": 30,
   "id": "776bc8c0",
   "metadata": {},
   "outputs": [],
   "source": [
    "from datetime import datetime\n",
    "\n",
    "rebels.with_columns(\n",
    "    bmi=pl.col(\"mass\") / ((pl.col(\"height\") / 100) ** 2),\n",
    "    age_destroy=((datetime(1983, 5, 25) - pl.col(\"birth_date\"))\n",
    "                .dt.total_days() / 356).cast(pl.UInt8)\n",
    ")"
   ]
  },
  {
   "cell_type": "code",
   "execution_count": 31,
   "id": "ef7bccb7",
   "metadata": {},
   "outputs": [],
   "source": [
    "rebels.with_columns(\n",
    "    bmi=pl.col(\"mass\") / ((pl.col(\"height\") / 100) ** 2),\n",
    "    bmi_cat=pl.col(\"bmi\").cut([18.5, 25], labels=[\"Underweight\",\n",
    "                                                  \"Normal\",\n",
    "                                                  \"Overweight\"])\n",
    ")"
   ]
  },
  {
   "cell_type": "code",
   "execution_count": 32,
   "id": "dd417a34",
   "metadata": {},
   "outputs": [],
   "source": [
    "(\n",
    "    rebels\n",
    "    .with_columns(bmi=pl.col(\"mass\") / ((pl.col(\"height\") / 100) ** 2))\n",
    "    .with_columns(bmi_cat=pl.col(\"bmi\").cut([18.5, 25], labels=[\"Underweight\",\n",
    "                                                                \"Normal\",\n",
    "                                                                \"Overweight\"]))\n",
    ")"
   ]
  },
  {
   "cell_type": "code",
   "execution_count": 33,
   "id": "f615afaf",
   "metadata": {},
   "outputs": [],
   "source": [
    "(\n",
    "    starwars\n",
    "    .select(\n",
    "        \"name\",\n",
    "        (pl.col(\"mass\") / ((pl.col(\"height\") / 100) ** 2)).alias(\"bmi\"),  \n",
    "        \"species\"\n",
    "    )\n",
    "    .drop_nulls().top_k(5, by=\"bmi\")  \n",
    ")"
   ]
  },
  {
   "cell_type": "markdown",
   "id": "6f6a90e2",
   "metadata": {},
   "source": [
    "## Related Column Operations"
   ]
  },
  {
   "cell_type": "code",
   "execution_count": 35,
   "id": "6385332b",
   "metadata": {},
   "outputs": [],
   "source": [
    "rebels.drop(\"name\", \"films\", \"screen_time\", strict=False)  "
   ]
  },
  {
   "cell_type": "code",
   "execution_count": 36,
   "id": "2fa4c982",
   "metadata": {},
   "outputs": [],
   "source": [
    "rebels.select(~cs.by_name(\"name\", \"films\", \"screen_time\"))"
   ]
  },
  {
   "cell_type": "code",
   "execution_count": 37,
   "id": "6be8c744",
   "metadata": {},
   "outputs": [],
   "source": [
    "rebels.select(cs.exclude(\"name\", \"films\", \"screen_time\"))"
   ]
  },
  {
   "cell_type": "code",
   "execution_count": 38,
   "id": "967c2de5",
   "metadata": {},
   "outputs": [],
   "source": [
    "(\n",
    "    rebels\n",
    "    .rename({\"homeworld\": \"planet\", \"mass\": \"weight\"})\n",
    "    .rename(lambda s: s.removesuffix(\"_color\"))\n",
    "    .select(\"name\", \"planet\", \"weight\", \"hair\", \"skin\", \"eye\")  \n",
    ")"
   ]
  },
  {
   "cell_type": "code",
   "execution_count": 39,
   "id": "ceb032d3",
   "metadata": {},
   "outputs": [],
   "source": [
    "rebel_names = rebels.select(\"name\")\n",
    "rebel_colors = rebels.select(cs.ends_with(\"_color\"))\n",
    "rebel_quotes = pl.Series(\"quote\", [\"You know, sometimes I amaze myself.\",\n",
    "                                   \"That doesn't sound too hard.\",\n",
    "                                   \"I have a bad feeling about this.\"])\n",
    "\n",
    "(\n",
    "    rebel_names\n",
    "    .hstack(rebel_colors)\n",
    "    .hstack([rebel_quotes])  \n",
    ")"
   ]
  },
  {
   "cell_type": "code",
   "execution_count": 40,
   "id": "f11df650",
   "metadata": {},
   "outputs": [],
   "source": [
    "rebels.with_row_index(name=\"rebel_id\", offset=1)"
   ]
  },
  {
   "cell_type": "markdown",
   "id": "bcca68f5",
   "metadata": {},
   "source": [
    "## Takeaways"
   ]
  }
 ],
 "metadata": {},
 "nbformat": 4,
 "nbformat_minor": 5
}
