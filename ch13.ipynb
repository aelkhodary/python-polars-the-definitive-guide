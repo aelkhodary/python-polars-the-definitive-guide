{
 "cells": [
  {
   "cell_type": "markdown",
   "metadata": {},
   "source": [
    "# Chapter 13: Summarizing and Aggregating"
   ]
  },
  {
   "cell_type": "code",
   "execution_count": null,
   "metadata": {},
   "outputs": [],
   "source": [
    "import polars as pl\n",
    "pl.show_versions()  # The book is built with Polars version 1.8.2"
   ]
  },
  {
   "cell_type": "markdown",
   "metadata": {},
   "source": [
    "## Group By Context"
   ]
  },
  {
   "cell_type": "code",
   "execution_count": null,
   "metadata": {},
   "outputs": [],
   "source": [
    "import polars as pl\n",
    "\n",
    "top2000 = pl.read_excel(\n",
    "    \"data/top2000-2023.xlsx\",\n",
    "    read_options={\"skip_rows\": 1},\n",
    "    engine=\"calamine\"\n",
    ").set_sorted(\"positie\")"
   ]
  },
  {
   "cell_type": "code",
   "execution_count": null,
   "metadata": {},
   "outputs": [],
   "source": [
    "(\n",
    "    top2000\n",
    "    .group_by(\"jaar\")\n",
    "    .agg(  \n",
    "        (\n",
    "            pl.concat_str(\n",
    "                pl.col(\"artiest\"),\n",
    "                pl.lit(\" - \"),\n",
    "                pl.col(\"titel\")\n",
    "            )  \n",
    "        ).alias(\"songs\"),\n",
    "    )\n",
    "    .sort(\"jaar\", descending=True)\n",
    ")"
   ]
  },
  {
   "cell_type": "markdown",
   "metadata": {},
   "source": [
    "### The Descriptives"
   ]
  },
  {
   "cell_type": "code",
   "execution_count": null,
   "metadata": {},
   "outputs": [],
   "source": [
    "(\n",
    "    top2000\n",
    "    .group_by(\"jaar\", maintain_order=True)  \n",
    "    .head(3)  \n",
    "    .sort(\"jaar\", descending=True)\n",
    "    .head(9)  \n",
    ")"
   ]
  },
  {
   "cell_type": "code",
   "execution_count": null,
   "metadata": {},
   "outputs": [],
   "source": [
    "(\n",
    "    top2000\n",
    "    .group_by(\"jaar\", maintain_order=True)\n",
    "    .tail(3)\n",
    "    .sort(\"jaar\", descending=True)\n",
    "    .head(9)\n",
    ")"
   ]
  },
  {
   "cell_type": "code",
   "execution_count": null,
   "metadata": {},
   "outputs": [],
   "source": [
    "(\n",
    "    top2000\n",
    "    .group_by(\"artiest\")\n",
    "    .len()\n",
    "    .sort(\"len\", descending=True)\n",
    "    .head(10)\n",
    ")"
   ]
  },
  {
   "cell_type": "code",
   "execution_count": null,
   "metadata": {},
   "outputs": [],
   "source": [
    "df = pl.read_csv(\"data/sales.csv\")\n",
    "df.columns"
   ]
  },
  {
   "cell_type": "code",
   "execution_count": null,
   "metadata": {},
   "outputs": [],
   "source": [
    "(\n",
    "    df\n",
    "    .select(\"Product_Category\", \"Sub_Category\", \"Unit_Price\")  \n",
    "    .group_by(\"Product_Category\", \"Sub_Category\")  \n",
    "    .max()\n",
    "    .sort(\"Unit_Price\", descending=True)  \n",
    "    .head(10)\n",
    ")"
   ]
  },
  {
   "cell_type": "code",
   "execution_count": null,
   "metadata": {},
   "outputs": [],
   "source": [
    "(\n",
    "    df\n",
    "    .select(\"Country\", \"Profit\")\n",
    "    .group_by(\"Country\")\n",
    "    .sum()\n",
    "    .sort(\"Profit\", descending=True)\n",
    ")"
   ]
  },
  {
   "cell_type": "code",
   "execution_count": null,
   "metadata": {},
   "outputs": [],
   "source": [
    "(\n",
    "    df\n",
    "    .select(\"Sub_Category\", \"Product\")\n",
    "    .group_by(\"Sub_Category\")\n",
    "    .n_unique()\n",
    "    .sort(\"Product\", descending=True)\n",
    "    .head(10)\n",
    ")"
   ]
  },
  {
   "cell_type": "code",
   "execution_count": null,
   "metadata": {},
   "outputs": [],
   "source": [
    "(\n",
    "    df\n",
    "    .select(\"Age_Group\", \"Order_Quantity\")\n",
    "    .group_by(\"Age_Group\")\n",
    "    .mean()\n",
    "    .sort(\"Order_Quantity\", descending=True)\n",
    ")"
   ]
  },
  {
   "cell_type": "code",
   "execution_count": null,
   "metadata": {},
   "outputs": [],
   "source": [
    "(\n",
    "    df\n",
    "    .select(\"Age_Group\", \"Revenue\")\n",
    "    .group_by(\"Age_Group\")\n",
    "    .quantile(0.9)\n",
    "    .sort(\"Revenue\", descending=True)\n",
    ")"
   ]
  },
  {
   "cell_type": "markdown",
   "metadata": {},
   "source": [
    "### The Advanced"
   ]
  },
  {
   "cell_type": "code",
   "execution_count": null,
   "metadata": {},
   "outputs": [],
   "source": [
    "(\n",
    "    df\n",
    "    .select(\"Country\", \"Profit\", \"Revenue\")\n",
    "    .group_by(\"Country\")\n",
    "    .agg(\n",
    "        pl.col(\"Profit\"),\n",
    "        pl.col(\"Revenue\"),\n",
    "    )\n",
    ")"
   ]
  },
  {
   "cell_type": "code",
   "execution_count": null,
   "metadata": {},
   "outputs": [],
   "source": [
    "(\n",
    "    df\n",
    "    .select(\"Country\", \"Profit\", \"Revenue\")\n",
    "    .group_by(\"Country\")\n",
    "    .agg(\n",
    "        pl.col(\"Profit\").alias(\"All Profits Per Transactions\"),\n",
    "        pl.col(\"Revenue\").name.prefix(\"All \"),\n",
    "    )\n",
    ")"
   ]
  },
  {
   "cell_type": "code",
   "execution_count": null,
   "metadata": {},
   "outputs": [],
   "source": [
    "(\n",
    "    df\n",
    "    .select(\"Country\", \"Profit\", \"Revenue\")\n",
    "    .group_by(\"Country\")\n",
    "    .agg(\n",
    "        pl.col(\"Profit\").sum().alias(\"Total Profit\"),\n",
    "        pl.col(\"Profit\").mean().alias(\"Average Profit per Transaction\"),\n",
    "        pl.col(\"Revenue\").sum().alias(\"Total Revenue\"),\n",
    "        pl.col(\"Revenue\").mean().alias(\"Average Revenue per Transaction\"),\n",
    "    )\n",
    ")"
   ]
  },
  {
   "cell_type": "code",
   "execution_count": null,
   "metadata": {},
   "outputs": [],
   "source": [
    "(\n",
    "    df\n",
    "    .select(\"Country\", \"Profit\", \"Revenue\")\n",
    "    .group_by(\"Country\")\n",
    "    .agg(\n",
    "        pl.all().sum().name.prefix(\"Total \"),\n",
    "        pl.all().mean().name.prefix(\"Average \"),\n",
    "    )\n",
    ")"
   ]
  },
  {
   "cell_type": "code",
   "execution_count": null,
   "metadata": {},
   "outputs": [],
   "source": [
    "(\n",
    "    df\n",
    "    .select(\"Country\", \"Profit\")\n",
    "    .group_by(\"Country\")\n",
    "    .agg(\n",
    "        (pl.col(\"Profit\") > 1000)\n",
    "        .alias(\"Profit > 1000\"),\n",
    "        (pl.col(\"Profit\") > 1000)\n",
    "        .sum()\n",
    "        .alias(\"Number of Transactions with Profit > 1000\"),\n",
    "    )\n",
    ")"
   ]
  },
  {
   "cell_type": "code",
   "execution_count": null,
   "metadata": {},
   "outputs": [],
   "source": [
    "def custom_agg(col: str) -> pl.Expr:\n",
    "    col1 = (col > 1000).alias(\"Profit > 1000\")\n",
    "    col2 = (col > 1000).sum().alias(\"Number of Transactions with Profit > 1000\")\n",
    "    return col1, col2\n",
    "\n",
    "(\n",
    "    df\n",
    "    .select(\"Country\", \"Profit\")\n",
    "    .group_by(\"Country\")\n",
    "    .agg(\n",
    "        custom_agg(pl.col(\"Profit\"))\n",
    "    )\n",
    ")"
   ]
  },
  {
   "cell_type": "markdown",
   "metadata": {},
   "source": [
    "## Row-wise Aggregations with `reduce` and `fold`"
   ]
  },
  {
   "cell_type": "code",
   "execution_count": null,
   "metadata": {},
   "outputs": [],
   "source": [
    "df = pl.DataFrame({\n",
    "    \"col1\": [2],\n",
    "    \"col2\": [3],\n",
    "    \"col3\": [4]\n",
    "})\n",
    "\n",
    "df.with_columns(\n",
    "    pl.fold(\n",
    "        acc=pl.lit(0),  \n",
    "        function=lambda acc, x: acc + x,  \n",
    "        exprs=pl.col(\"*\")  \n",
    "    ).alias(\"sum\")\n",
    ")"
   ]
  },
  {
   "cell_type": "code",
   "execution_count": null,
   "metadata": {},
   "outputs": [],
   "source": [
    "df = pl.DataFrame({\n",
    "    \"col1\": [2],\n",
    "    \"col2\": [3],\n",
    "    \"col3\": [4]\n",
    "})\n",
    "\n",
    "df.with_columns(\n",
    "    pl.fold(\n",
    "        acc=pl.lit(0),  \n",
    "        function=lambda acc, x: acc + x,  \n",
    "        exprs=pl.col(\"*\")  \n",
    "    ).alias(\"sum\")\n",
    ")"
   ]
  },
  {
   "cell_type": "code",
   "execution_count": null,
   "metadata": {},
   "outputs": [],
   "source": [
    "df = pl.DataFrame({\n",
    "    \"product_A\": [10, 20, 30],\n",
    "    \"product_B\": [20, 30, 40],\n",
    "    \"product_C\": [30, 40, 50]\n",
    "})\n",
    "\n",
    "\n",
    "weights = {  \n",
    "    \"product_A\": 0.5,\n",
    "    \"product_B\": 1.5,\n",
    "    \"product_C\": 2.0\n",
    "}\n",
    "\n",
    "weighted_exprs = [  \n",
    "    (pl.col(product) * weight).alias(product)\n",
    "    for product, weight in weights.items()\n",
    "]\n",
    "\n",
    "df_with_weighted_sum = df.with_columns(\n",
    "    pl.fold(  \n",
    "        acc=pl.lit(0),  \n",
    "        function=lambda acc, x: acc + x,  \n",
    "        exprs=weighted_exprs  \n",
    "    ).alias(\"weighted_sum\")\n",
    ")\n",
    "\n",
    "df_with_weighted_sum"
   ]
  },
  {
   "cell_type": "markdown",
   "metadata": {},
   "source": [
    "## over() Expressions in Selection Context"
   ]
  },
  {
   "cell_type": "code",
   "execution_count": null,
   "metadata": {},
   "outputs": [],
   "source": [
    "(top2000\n",
    "    .select(\n",
    "        \"jaar\",\n",
    "        \"artiest\",\n",
    "        \"titel\",\n",
    "        \"positie\",\n",
    "        pl.col(\"positie\")\n",
    "        .rank()\n",
    "        .over(\"jaar\")\n",
    "        .alias(\"year_rank\")\n",
    "    )\n",
    "    .sample(10, seed=42)\n",
    ")"
   ]
  },
  {
   "cell_type": "markdown",
   "metadata": {},
   "source": [
    "## Dynamic Grouping with `group_by_dynamic`"
   ]
  },
  {
   "cell_type": "markdown",
   "metadata": {},
   "source": [
    "## Rolling Aggregations with `rolling`"
   ]
  },
  {
   "cell_type": "code",
   "execution_count": null,
   "metadata": {},
   "outputs": [],
   "source": [
    "from datetime import date\n",
    "\n",
    "dates = pl.date_range(  \n",
    "    start=date(2024, 4, 1),\n",
    "    end=date(2024, 4, 14),\n",
    "    interval='1d',\n",
    "    eager=True,  \n",
    ")\n",
    "dates  = dates.filter(dates.dt.weekday() < 6)  \n",
    "dates_repeated = pl.concat([dates, dates]).sort()  \n",
    "\n",
    "df = (\n",
    "    pl.DataFrame({\n",
    "        \"date\": dates_repeated,\n",
    "        \"store\": [\"Store A\", \"Store B\"] * dates.len(),\n",
    "        \"sales\": [\n",
    "            200, 150, 220, 160, 250, 180, 270, 190, 280, 210,\n",
    "            210, 170, 220, 180, 240, 190, 250, 200, 260, 210,\n",
    "        ]\n",
    "    })\n",
    "    .set_sorted(\"date\")  \n",
    "    .set_sorted(\"store\")\n",
    ")\n",
    "\n"
   ]
  },
  {
   "cell_type": "code",
   "execution_count": null,
   "metadata": {},
   "outputs": [],
   "source": [
    "result = (\n",
    "    df.rolling(  \n",
    "        index_column=\"date\",\n",
    "        period=\"7d\",\n",
    "        group_by=\"store\",\n",
    "    ).agg(  \n",
    "        pl.sum(\"sales\").alias(\"sum_of_last_7_days_sales\")\n",
    "    )\n",
    ")\n",
    "\n",
    "final_df = df.join(result, on=[\"date\", \"store\"])  \n",
    "\n",
    "final_df"
   ]
  },
  {
   "cell_type": "markdown",
   "metadata": {},
   "source": [
    "## Conclusion"
   ]
  }
 ],
 "metadata": {},
 "nbformat": 4,
 "nbformat_minor": 5
}
