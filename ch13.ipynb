{
 "cells": [
  {
   "cell_type": "markdown",
   "id": "fa8dd577",
   "metadata": {},
   "source": [
    "# Chapter 13: Working with Special Data Types"
   ]
  },
  {
   "cell_type": "code",
   "execution_count": 1,
   "id": "8d72a278",
   "metadata": {},
   "outputs": [
    {
     "name": "stdout",
     "output_type": "stream",
     "text": [
      "--------Version info---------\n",
      "Polars:               0.20.16\n",
      "Index type:           UInt32\n",
      "Platform:             macOS-12.5-arm64-arm-64bit\n",
      "Python:               3.11.8 (main, Feb 22 2024, 20:44:55) [Clang 14.0.0 (clang-1400.0.29.202)]\n",
      "\n",
      "----Optional dependencies----\n",
      "adbc_driver_manager:  0.8.0\n",
      "cloudpickle:          3.0.0\n",
      "connectorx:           0.3.2\n",
      "deltalake:            0.15.0\n",
      "fastexcel:            0.9.1\n",
      "fsspec:               2023.12.2\n",
      "gevent:               23.9.1\n",
      "hvplot:               0.9.2\n",
      "matplotlib:           3.8.3\n",
      "numpy:                1.26.4\n",
      "openpyxl:             3.1.2\n",
      "pandas:               2.2.0\n",
      "pyarrow:              14.0.2\n",
      "pydantic:             2.5.3\n",
      "pyiceberg:            0.5.1\n",
      "pyxlsb:               <not installed>\n",
      "sqlalchemy:           2.0.25\n",
      "xlsx2csv:             0.8.2\n",
      "xlsxwriter:           3.1.9\n"
     ]
    }
   ],
   "source": [
    "import polars as pl\n",
    "pl.show_versions()"
   ]
  },
  {
   "cell_type": "markdown",
   "id": "dd8e1c31",
   "metadata": {},
   "source": [
    "## Strings"
   ]
  },
  {
   "cell_type": "markdown",
   "id": "386ecbf2",
   "metadata": {},
   "source": [
    "### Methods"
   ]
  },
  {
   "cell_type": "markdown",
   "id": "54123d93",
   "metadata": {},
   "source": [
    "#### Conversion"
   ]
  },
  {
   "cell_type": "markdown",
   "id": "9db7fa1c",
   "metadata": {},
   "source": [
    "#### Descriptive and Query Methods"
   ]
  },
  {
   "cell_type": "markdown",
   "id": "daf788e1",
   "metadata": {},
   "source": [
    "#### Manipulation"
   ]
  },
  {
   "cell_type": "markdown",
   "id": "c28358eb",
   "metadata": {},
   "source": [
    "### Examples"
   ]
  },
  {
   "cell_type": "code",
   "execution_count": 8,
   "id": "6309514d",
   "metadata": {},
   "outputs": [
    {
     "name": "stdout",
     "output_type": "stream",
     "text": [
      "shape: (3, 1)\n",
      "┌────────────────────────────┐\n",
      "│ raw_text                   │\n",
      "│ ---                        │\n",
      "│ str                        │\n",
      "╞════════════════════════════╡\n",
      "│   Data Science is amazing  │\n",
      "│ Data_analysis > Data entry │\n",
      "│  Python&Polars; Fast       │\n",
      "└────────────────────────────┘\n"
     ]
    }
   ],
   "source": [
    "import polars as pl\n",
    "\n",
    "df = pl.DataFrame({\n",
    "    \"raw_text\": [\n",
    "        \"  Data Science is amazing \",\n",
    "        \"Data_analysis > Data entry\",\n",
    "        \" Python&Polars; Fast\",\n",
    "    ]\n",
    "})\n",
    "print(df)"
   ]
  },
  {
   "cell_type": "code",
   "execution_count": 9,
   "id": "f148cf43",
   "metadata": {},
   "outputs": [
    {
     "name": "stdout",
     "output_type": "stream",
     "text": [
      "shape: (3, 2)\n",
      "┌────────────────────────────┬────────────────────────────┐\n",
      "│ raw_text                   ┆ processed_text             │\n",
      "│ ---                        ┆ ---                        │\n",
      "│ str                        ┆ str                        │\n",
      "╞════════════════════════════╪════════════════════════════╡\n",
      "│   Data Science is amazing  ┆ data science is amazing    │\n",
      "│ Data_analysis > Data entry ┆ data analysis > data entry │\n",
      "│  Python&Polars; Fast       ┆ python&polars; fast        │\n",
      "└────────────────────────────┴────────────────────────────┘\n"
     ]
    }
   ],
   "source": [
    "df = df.with_columns(\n",
    "    pl.col(\"raw_text\")\n",
    "    .str.strip_chars()  # <1>\n",
    "    .str.to_lowercase()  # <2>\n",
    "    .str.replace_all(\"_\", \" \")  # <3>\n",
    "    .alias(\"processed_text\")  # <4>\n",
    ")\n",
    "print(df)"
   ]
  },
  {
   "cell_type": "code",
   "execution_count": 10,
   "id": "5a451908",
   "metadata": {},
   "outputs": [
    {
     "name": "stdout",
     "output_type": "stream",
     "text": [
      "shape: (3, 5)\n",
      "┌─────────────────────────┬─────────────────────────┬───────────────┬────────────────┬─────────────┐\n",
      "│ raw_text                ┆ processed_text          ┆ first_5_chars ┆ first_word     ┆ second_word │\n",
      "│ ---                     ┆ ---                     ┆ ---           ┆ ---            ┆ ---         │\n",
      "│ str                     ┆ str                     ┆ str           ┆ str            ┆ str         │\n",
      "╞═════════════════════════╪═════════════════════════╪═══════════════╪════════════════╪═════════════╡\n",
      "│ Data Science is amazing ┆ data science is amazing ┆ data          ┆ data           ┆ science     │\n",
      "│ Data_analysis > Data    ┆ data analysis > data    ┆ data          ┆ data           ┆ analysis    │\n",
      "│ entry                   ┆ entry                   ┆               ┆                ┆             │\n",
      "│  Python&Polars; Fast    ┆ python&polars; fast     ┆ pytho         ┆ python&polars; ┆ fast        │\n",
      "└─────────────────────────┴─────────────────────────┴───────────────┴────────────────┴─────────────┘\n"
     ]
    }
   ],
   "source": [
    "print(\n",
    "    df.with_columns(\n",
    "        pl.col(\"processed_text\")\n",
    "        .str.slice(0, 5)  # <1>\n",
    "        .alias(\"first_5_chars\"),\n",
    "        pl.col(\"processed_text\")\n",
    "        .str.split(\" \")  # <2>\n",
    "        .list.get(0)  # <3>\n",
    "        .alias(\"first_word\"),\n",
    "        pl.col(\"processed_text\")\n",
    "        .str.split(\" \")\n",
    "        .list.get(1)  # <4>\n",
    "        .alias(\"second_word\"),\n",
    "    )\n",
    ")"
   ]
  },
  {
   "cell_type": "code",
   "execution_count": 11,
   "id": "2373aac8",
   "metadata": {},
   "outputs": [
    {
     "name": "stdout",
     "output_type": "stream",
     "text": [
      "shape: (3, 5)\n",
      "┌──────────────────────────┬─────────────────────────┬─────────────────┬─────────────────┬─────────┐\n",
      "│ raw_text                 ┆ processed_text          ┆ amount_of_chars ┆ amount_of_bytes ┆ count_a │\n",
      "│ ---                      ┆ ---                     ┆ ---             ┆ ---             ┆ ---     │\n",
      "│ str                      ┆ str                     ┆ u32             ┆ u32             ┆ u32     │\n",
      "╞══════════════════════════╪═════════════════════════╪═════════════════╪═════════════════╪═════════╡\n",
      "│ Data Science is amazing  ┆ data science is amazing ┆ 23              ┆ 23              ┆ 4       │\n",
      "│ Data_analysis > Data     ┆ data analysis > data    ┆ 26              ┆ 26              ┆ 6       │\n",
      "│ entry                    ┆ entry                   ┆                 ┆                 ┆         │\n",
      "│  Python&Polars; Fast     ┆ python&polars; fast     ┆ 19              ┆ 19              ┆ 2       │\n",
      "└──────────────────────────┴─────────────────────────┴─────────────────┴─────────────────┴─────────┘\n"
     ]
    }
   ],
   "source": [
    "print(\n",
    "    df.with_columns(\n",
    "        pl.col(\"processed_text\")\n",
    "        .str.len_chars()  # <1>\n",
    "        .alias(\"amount_of_chars\"),\n",
    "        pl.col(\"processed_text\")\n",
    "        .str.len_bytes()  # <2>\n",
    "        .alias(\"amount_of_bytes\"),\n",
    "        pl.col(\"processed_text\")\n",
    "        .str.count_matches(\"a\")  # <3>\n",
    "        .alias(\"count_a\"),\n",
    "    )\n",
    ")"
   ]
  },
  {
   "cell_type": "code",
   "execution_count": 12,
   "id": "67d7c586",
   "metadata": {},
   "outputs": [
    {
     "data": {
      "text/html": [
       "<div><style>\n",
       ".dataframe > thead > tr,\n",
       ".dataframe > tbody > tr {\n",
       "  text-align: right;\n",
       "  white-space: pre-wrap;\n",
       "}\n",
       "</style>\n",
       "<small>shape: (2, 2)</small><table border=\"1\" class=\"dataframe\"><thead><tr><th>post</th><th>hashtags</th></tr><tr><td>str</td><td>list[str]</td></tr></thead><tbody><tr><td>&quot;Loving #python…</td><td>[&quot;#python&quot;, &quot;#polars&quot;]</td></tr><tr><td>&quot;A boomer post …</td><td>[]</td></tr></tbody></table></div>"
      ],
      "text/plain": [
       "shape: (2, 2)\n",
       "┌─────────────────────────────────┬────────────────────────┐\n",
       "│ post                            ┆ hashtags               │\n",
       "│ ---                             ┆ ---                    │\n",
       "│ str                             ┆ list[str]              │\n",
       "╞═════════════════════════════════╪════════════════════════╡\n",
       "│ Loving #python and #polars!     ┆ [\"#python\", \"#polars\"] │\n",
       "│ A boomer post without a hashtag ┆ []                     │\n",
       "└─────────────────────────────────┴────────────────────────┘"
      ]
     },
     "execution_count": 6,
     "metadata": {},
     "output_type": "execute_result"
    }
   ],
   "source": [
    "df = pl.DataFrame({\n",
    "    \"post\": [\"Loving #python and #polars!\", \"A boomer post without a hashtag\"]\n",
    "})\n",
    "\n",
    "hashtag_regex = r\"#(\\w+)\"  # <1>\n",
    "\n",
    "df.with_columns(\n",
    "    pl.col(\"post\").str.extract_all(hashtag_regex).alias(\"hashtags\")  # <2>\n",
    ")"
   ]
  },
  {
   "cell_type": "markdown",
   "id": "2ed39e10",
   "metadata": {},
   "source": [
    "## Categoricals"
   ]
  },
  {
   "cell_type": "code",
   "execution_count": 14,
   "id": "2f42236c",
   "metadata": {},
   "outputs": [
    {
     "name": "stdout",
     "output_type": "stream",
     "text": [
      "shape: (3, 2)\n",
      "┌────────────────────┬─────────────────────────────┐\n",
      "│ categorical_column ┆ categorical_column_physical │\n",
      "│ ---                ┆ ---                         │\n",
      "│ cat                ┆ u32                         │\n",
      "╞════════════════════╪═════════════════════════════╡\n",
      "│ value1             ┆ 0                           │\n",
      "│ value2             ┆ 1                           │\n",
      "│ value3             ┆ 2                           │\n",
      "└────────────────────┴─────────────────────────────┘\n"
     ]
    }
   ],
   "source": [
    "df1 = pl.DataFrame(\n",
    "    {\"categorical_column\": [\"value1\", \"value2\", \"value3\"]},\n",
    "    schema={\"categorical_column\": pl.Categorical},\n",
    ")\n",
    "\n",
    "print(\n",
    "    df1.with_columns(\n",
    "        pl.col(\"categorical_column\")\n",
    "        .to_physical()\n",
    "        .alias(\"categorical_column_physical\")\n",
    "    )\n",
    ")"
   ]
  },
  {
   "cell_type": "markdown",
   "id": "feef294b",
   "metadata": {},
   "source": [
    "### Methods"
   ]
  },
  {
   "cell_type": "markdown",
   "id": "4e40adf3",
   "metadata": {},
   "source": [
    "### Examples"
   ]
  },
  {
   "cell_type": "code",
   "execution_count": 17,
   "id": "c091924a",
   "metadata": {},
   "outputs": [
    {
     "name": "stdout",
     "output_type": "stream",
     "text": [
      "shape: (3, 2)\n",
      "┌────────────────────┬─────────────────────────────┐\n",
      "│ categorical_column ┆ categorical_column_physical │\n",
      "│ ---                ┆ ---                         │\n",
      "│ cat                ┆ u32                         │\n",
      "╞════════════════════╪═════════════════════════════╡\n",
      "│ value4             ┆ 0                           │\n",
      "│ value3             ┆ 1                           │\n",
      "│ value2             ┆ 2                           │\n",
      "└────────────────────┴─────────────────────────────┘\n"
     ]
    }
   ],
   "source": [
    "df2 = pl.DataFrame(\n",
    "    {\"categorical_column\": [\"value4\", \"value3\", \"value2\"]},\n",
    "    schema={\"categorical_column\": pl.Categorical},\n",
    ")\n",
    "\n",
    "print(\n",
    "    df2.with_columns(\n",
    "        pl.col(\"categorical_column\")\n",
    "        .to_physical()\n",
    "        .alias(\"categorical_column_physical\")\n",
    "    )\n",
    ")"
   ]
  },
  {
   "cell_type": "code",
   "execution_count": 18,
   "id": "c641b2a4",
   "metadata": {},
   "outputs": [
    {
     "name": "stderr",
     "output_type": "stream",
     "text": [
      "/var/folders/3d/ldmd42_x7zx8d8xqy0fkhmgc0000gn/T/ipykernel_49669/2227544706.py:1: CategoricalRemappingWarning: Local categoricals have different encodings, expensive re-encoding is done to perform this merge operation. Consider using a StringCache or an Enum type if the categories are known in advance\n",
      "  df1.join(df2, on=\"categorical_column\")\n"
     ]
    },
    {
     "data": {
      "text/html": [
       "<div><style>\n",
       ".dataframe > thead > tr,\n",
       ".dataframe > tbody > tr {\n",
       "  text-align: right;\n",
       "  white-space: pre-wrap;\n",
       "}\n",
       "</style>\n",
       "<small>shape: (2, 1)</small><table border=\"1\" class=\"dataframe\"><thead><tr><th>categorical_column</th></tr><tr><td>cat</td></tr></thead><tbody><tr><td>&quot;value3&quot;</td></tr><tr><td>&quot;value2&quot;</td></tr></tbody></table></div>"
      ],
      "text/plain": [
       "shape: (2, 1)\n",
       "┌────────────────────┐\n",
       "│ categorical_column │\n",
       "│ ---                │\n",
       "│ cat                │\n",
       "╞════════════════════╡\n",
       "│ value3             │\n",
       "│ value2             │\n",
       "└────────────────────┘"
      ]
     },
     "execution_count": 9,
     "metadata": {},
     "output_type": "execute_result"
    }
   ],
   "source": [
    "df1.join(df2, on=\"categorical_column\")"
   ]
  },
  {
   "cell_type": "code",
   "execution_count": 19,
   "id": "5bbcd45d",
   "metadata": {},
   "outputs": [
    {
     "data": {
      "text/html": [
       "<div><style>\n",
       ".dataframe > thead > tr,\n",
       ".dataframe > tbody > tr {\n",
       "  text-align: right;\n",
       "  white-space: pre-wrap;\n",
       "}\n",
       "</style>\n",
       "<small>shape: (2, 3)</small><table border=\"1\" class=\"dataframe\"><thead><tr><th>categorical_column</th><th>other</th><th>other_right</th></tr><tr><td>cat</td><td>str</td><td>str</td></tr></thead><tbody><tr><td>&quot;value2&quot;</td><td>&quot;b&quot;</td><td>&quot;d&quot;</td></tr><tr><td>&quot;value3&quot;</td><td>&quot;a&quot;</td><td>&quot;e&quot;</td></tr></tbody></table></div>"
      ],
      "text/plain": [
       "shape: (2, 3)\n",
       "┌────────────────────┬───────┬─────────────┐\n",
       "│ categorical_column ┆ other ┆ other_right │\n",
       "│ ---                ┆ ---   ┆ ---         │\n",
       "│ cat                ┆ str   ┆ str         │\n",
       "╞════════════════════╪═══════╪═════════════╡\n",
       "│ value2             ┆ b     ┆ d           │\n",
       "│ value3             ┆ a     ┆ e           │\n",
       "└────────────────────┴───────┴─────────────┘"
      ]
     },
     "execution_count": 10,
     "metadata": {},
     "output_type": "execute_result"
    }
   ],
   "source": [
    "with pl.StringCache():\n",
    "    df1 = pl.DataFrame(\n",
    "        {\n",
    "            \"categorical_column\": [\"value3\", \"value2\", \"value1\"],\n",
    "            \"other\": [\"a\", \"b\", \"c\"],\n",
    "        },\n",
    "        schema={\"categorical_column\": pl.Categorical, \"other\": pl.String},\n",
    "    )\n",
    "    df2 = pl.DataFrame(\n",
    "        {\n",
    "            \"categorical_column\": [\"value2\", \"value3\", \"value4\"],\n",
    "            \"other\": [\"d\", \"e\", \"f\"],\n",
    "        },\n",
    "        schema={\"categorical_column\": pl.Categorical, \"other\": pl.String},\n",
    "    )\n",
    "\n",
    "# Even outside the global string cache's scope, you can now join the\n",
    "# two dataframes containing Categorical columns\n",
    "df1.join(df2, on=\"categorical_column\")"
   ]
  },
  {
   "cell_type": "code",
   "execution_count": 20,
   "id": "20befea4",
   "metadata": {},
   "outputs": [],
   "source": [
    "pl.enable_string_cache()"
   ]
  },
  {
   "cell_type": "code",
   "execution_count": 21,
   "id": "ec58c62b",
   "metadata": {},
   "outputs": [
    {
     "data": {
      "text/html": [
       "<div><style>\n",
       ".dataframe > thead > tr,\n",
       ".dataframe > tbody > tr {\n",
       "  text-align: right;\n",
       "  white-space: pre-wrap;\n",
       "}\n",
       "</style>\n",
       "<small>shape: (3, 1)</small><table border=\"1\" class=\"dataframe\"><thead><tr><th>categorical_column</th></tr><tr><td>str</td></tr></thead><tbody><tr><td>&quot;value2&quot;</td></tr><tr><td>&quot;value3&quot;</td></tr><tr><td>&quot;value4&quot;</td></tr></tbody></table></div>"
      ],
      "text/plain": [
       "shape: (3, 1)\n",
       "┌────────────────────┐\n",
       "│ categorical_column │\n",
       "│ ---                │\n",
       "│ str                │\n",
       "╞════════════════════╡\n",
       "│ value2             │\n",
       "│ value3             │\n",
       "│ value4             │\n",
       "└────────────────────┘"
      ]
     },
     "execution_count": 12,
     "metadata": {},
     "output_type": "execute_result"
    }
   ],
   "source": [
    "df2.select(pl.col(\"categorical_column\").cat.get_categories())"
   ]
  },
  {
   "cell_type": "code",
   "execution_count": 22,
   "id": "113708e5",
   "metadata": {},
   "outputs": [
    {
     "name": "stdout",
     "output_type": "stream",
     "text": [
      "shape: (3, 2)\n",
      "┌─────────────────────┬──────────────────────┐\n",
      "│ categorical_lexical ┆ categorical_physical │\n",
      "│ ---                 ┆ ---                  │\n",
      "│ cat                 ┆ u32                  │\n",
      "╞═════════════════════╪══════════════════════╡\n",
      "│ value2              ┆ 1                    │\n",
      "│ value3              ┆ 0                    │\n",
      "│ value4              ┆ 3                    │\n",
      "└─────────────────────┴──────────────────────┘\n"
     ]
    }
   ],
   "source": [
    "sorting_comparison_df = (\n",
    "    df2\n",
    "    .select(\n",
    "        pl.col(\"categorical_column\")\n",
    "        .alias(\"categorical_lexical\")\n",
    "    )\n",
    "    .with_columns(\n",
    "        pl.col(\"categorical_lexical\")\n",
    "        .to_physical()\n",
    "        .alias(\"categorical_physical\")\n",
    "    )\n",
    ")\n",
    "print(sorting_comparison_df)"
   ]
  },
  {
   "cell_type": "code",
   "execution_count": 23,
   "id": "2d3a871e",
   "metadata": {},
   "outputs": [
    {
     "name": "stdout",
     "output_type": "stream",
     "text": [
      "shape: (3, 2)\n",
      "┌─────────────────────┬──────────────────────┐\n",
      "│ categorical_lexical ┆ categorical_physical │\n",
      "│ ---                 ┆ ---                  │\n",
      "│ cat                 ┆ u32                  │\n",
      "╞═════════════════════╪══════════════════════╡\n",
      "│ value3              ┆ 0                    │\n",
      "│ value2              ┆ 1                    │\n",
      "│ value4              ┆ 3                    │\n",
      "└─────────────────────┴──────────────────────┘\n"
     ]
    }
   ],
   "source": [
    "print(\n",
    "    sorting_comparison_df\n",
    "    .with_columns(\n",
    "        pl.col(\"categorical_lexical\")\n",
    "        .cast(pl.Categorical(\"physical\"))  # The default option\n",
    "    )\n",
    "    .sort(by=\"categorical_lexical\")\n",
    ")"
   ]
  },
  {
   "cell_type": "code",
   "execution_count": 24,
   "id": "563eb8cb",
   "metadata": {},
   "outputs": [
    {
     "name": "stdout",
     "output_type": "stream",
     "text": [
      "shape: (3, 2)\n",
      "┌─────────────────────┬──────────────────────┐\n",
      "│ categorical_lexical ┆ categorical_physical │\n",
      "│ ---                 ┆ ---                  │\n",
      "│ cat                 ┆ u32                  │\n",
      "╞═════════════════════╪══════════════════════╡\n",
      "│ value2              ┆ 1                    │\n",
      "│ value3              ┆ 0                    │\n",
      "│ value4              ┆ 3                    │\n",
      "└─────────────────────┴──────────────────────┘\n"
     ]
    }
   ],
   "source": [
    "print(\n",
    "    sorting_comparison_df\n",
    "    .with_columns(\n",
    "        pl.col(\"categorical_lexical\")\n",
    "        .cast(pl.Categorical(\"lexical\"))\n",
    "    )\n",
    "    .sort(by=\"categorical_lexical\")\n",
    ")"
   ]
  },
  {
   "cell_type": "markdown",
   "id": "20d90d6f",
   "metadata": {},
   "source": [
    "### Enum"
   ]
  },
  {
   "cell_type": "code",
   "execution_count": 26,
   "id": "8ba60958",
   "metadata": {},
   "outputs": [],
   "source": [
    "enum_dtype = pl.Enum([\"Polar\", \"Panda\", \"Brown\"])\n",
    "enum_series = pl.Series(\n",
    "    [\"Polar\", \"Panda\", \"Brown\", \"Brown\", \"Polar\"], dtype=enum_dtype\n",
    ")\n",
    "\n",
    "cat_series = pl.Series(\n",
    "    [\"Polar\", \"Panda\", \"Brown\", \"Brown\", \"Polar\"], dtype=pl.Categorical\n",
    ")"
   ]
  },
  {
   "cell_type": "markdown",
   "id": "be068f77",
   "metadata": {},
   "source": [
    "## Temporal Data"
   ]
  },
  {
   "cell_type": "markdown",
   "id": "3a13dedd",
   "metadata": {},
   "source": [
    "### Methods"
   ]
  },
  {
   "cell_type": "markdown",
   "id": "e872a70d",
   "metadata": {},
   "source": [
    "#### Conversion"
   ]
  },
  {
   "cell_type": "markdown",
   "id": "4beaf0aa",
   "metadata": {},
   "source": [
    "#### Descriptive"
   ]
  },
  {
   "cell_type": "markdown",
   "id": "56cf62a6",
   "metadata": {},
   "source": [
    "#### Manipulation"
   ]
  },
  {
   "cell_type": "markdown",
   "id": "534bed1d",
   "metadata": {},
   "source": [
    "### Examples"
   ]
  },
  {
   "cell_type": "markdown",
   "id": "46b80a55",
   "metadata": {},
   "source": [
    "#### Loading from CSV"
   ]
  },
  {
   "cell_type": "code",
   "execution_count": 34,
   "id": "e8336dd9",
   "metadata": {},
   "outputs": [
    {
     "ename": "FileNotFoundError",
     "evalue": "No such file or directory (os error 2): data/all_stocks.csv",
     "output_type": "error",
     "traceback": [
      "\u001b[0;31m---------------------------------------------------------------------------\u001b[0m",
      "\u001b[0;31mFileNotFoundError\u001b[0m                         Traceback (most recent call last)",
      "\u001b[0;32m/var/folders/3d/ldmd42_x7zx8d8xqy0fkhmgc0000gn/T/ipykernel_49669/2150112490.py\u001b[0m in \u001b[0;36m?\u001b[0;34m()\u001b[0m\n\u001b[0;32m----> 1\u001b[0;31m \u001b[0mpl\u001b[0m\u001b[0;34m.\u001b[0m\u001b[0mread_csv\u001b[0m\u001b[0;34m(\u001b[0m\u001b[0;34m\"data/all_stocks.csv\"\u001b[0m\u001b[0;34m,\u001b[0m \u001b[0mtry_parse_dates\u001b[0m\u001b[0;34m=\u001b[0m\u001b[0;32mTrue\u001b[0m\u001b[0;34m)\u001b[0m\u001b[0;34m\u001b[0m\u001b[0;34m\u001b[0m\u001b[0m\n\u001b[0m",
      "\u001b[0;32m~/Library/Caches/pypoetry/virtualenvs/python-polars-the-definitive-guide-b_q50VVY-py3.11/lib/python3.11/site-packages/polars/_utils/deprecation.py\u001b[0m in \u001b[0;36m?\u001b[0;34m(*args, **kwargs)\u001b[0m\n\u001b[1;32m    130\u001b[0m         \u001b[0;32mdef\u001b[0m \u001b[0mwrapper\u001b[0m\u001b[0;34m(\u001b[0m\u001b[0;34m*\u001b[0m\u001b[0margs\u001b[0m\u001b[0;34m:\u001b[0m \u001b[0mP\u001b[0m\u001b[0;34m.\u001b[0m\u001b[0margs\u001b[0m\u001b[0;34m,\u001b[0m \u001b[0;34m**\u001b[0m\u001b[0mkwargs\u001b[0m\u001b[0;34m:\u001b[0m \u001b[0mP\u001b[0m\u001b[0;34m.\u001b[0m\u001b[0mkwargs\u001b[0m\u001b[0;34m)\u001b[0m \u001b[0;34m->\u001b[0m \u001b[0mT\u001b[0m\u001b[0;34m:\u001b[0m\u001b[0;34m\u001b[0m\u001b[0;34m\u001b[0m\u001b[0m\n\u001b[1;32m    131\u001b[0m             _rename_keyword_argument(\n\u001b[1;32m    132\u001b[0m                 \u001b[0mold_name\u001b[0m\u001b[0;34m,\u001b[0m \u001b[0mnew_name\u001b[0m\u001b[0;34m,\u001b[0m \u001b[0mkwargs\u001b[0m\u001b[0;34m,\u001b[0m \u001b[0mfunction\u001b[0m\u001b[0;34m.\u001b[0m\u001b[0m__name__\u001b[0m\u001b[0;34m,\u001b[0m \u001b[0mversion\u001b[0m\u001b[0;34m\u001b[0m\u001b[0;34m\u001b[0m\u001b[0m\n\u001b[1;32m    133\u001b[0m             )\n\u001b[0;32m--> 134\u001b[0;31m             \u001b[0;32mreturn\u001b[0m \u001b[0mfunction\u001b[0m\u001b[0;34m(\u001b[0m\u001b[0;34m*\u001b[0m\u001b[0margs\u001b[0m\u001b[0;34m,\u001b[0m \u001b[0;34m**\u001b[0m\u001b[0mkwargs\u001b[0m\u001b[0;34m)\u001b[0m\u001b[0;34m\u001b[0m\u001b[0;34m\u001b[0m\u001b[0m\n\u001b[0m",
      "\u001b[0;32m~/Library/Caches/pypoetry/virtualenvs/python-polars-the-definitive-guide-b_q50VVY-py3.11/lib/python3.11/site-packages/polars/_utils/deprecation.py\u001b[0m in \u001b[0;36m?\u001b[0;34m(*args, **kwargs)\u001b[0m\n\u001b[1;32m    130\u001b[0m         \u001b[0;32mdef\u001b[0m \u001b[0mwrapper\u001b[0m\u001b[0;34m(\u001b[0m\u001b[0;34m*\u001b[0m\u001b[0margs\u001b[0m\u001b[0;34m:\u001b[0m \u001b[0mP\u001b[0m\u001b[0;34m.\u001b[0m\u001b[0margs\u001b[0m\u001b[0;34m,\u001b[0m \u001b[0;34m**\u001b[0m\u001b[0mkwargs\u001b[0m\u001b[0;34m:\u001b[0m \u001b[0mP\u001b[0m\u001b[0;34m.\u001b[0m\u001b[0mkwargs\u001b[0m\u001b[0;34m)\u001b[0m \u001b[0;34m->\u001b[0m \u001b[0mT\u001b[0m\u001b[0;34m:\u001b[0m\u001b[0;34m\u001b[0m\u001b[0;34m\u001b[0m\u001b[0m\n\u001b[1;32m    131\u001b[0m             _rename_keyword_argument(\n\u001b[1;32m    132\u001b[0m                 \u001b[0mold_name\u001b[0m\u001b[0;34m,\u001b[0m \u001b[0mnew_name\u001b[0m\u001b[0;34m,\u001b[0m \u001b[0mkwargs\u001b[0m\u001b[0;34m,\u001b[0m \u001b[0mfunction\u001b[0m\u001b[0;34m.\u001b[0m\u001b[0m__name__\u001b[0m\u001b[0;34m,\u001b[0m \u001b[0mversion\u001b[0m\u001b[0;34m\u001b[0m\u001b[0;34m\u001b[0m\u001b[0m\n\u001b[1;32m    133\u001b[0m             )\n\u001b[0;32m--> 134\u001b[0;31m             \u001b[0;32mreturn\u001b[0m \u001b[0mfunction\u001b[0m\u001b[0;34m(\u001b[0m\u001b[0;34m*\u001b[0m\u001b[0margs\u001b[0m\u001b[0;34m,\u001b[0m \u001b[0;34m**\u001b[0m\u001b[0mkwargs\u001b[0m\u001b[0;34m)\u001b[0m\u001b[0;34m\u001b[0m\u001b[0;34m\u001b[0m\u001b[0m\n\u001b[0m",
      "\u001b[0;32m~/Library/Caches/pypoetry/virtualenvs/python-polars-the-definitive-guide-b_q50VVY-py3.11/lib/python3.11/site-packages/polars/_utils/deprecation.py\u001b[0m in \u001b[0;36m?\u001b[0;34m(*args, **kwargs)\u001b[0m\n\u001b[1;32m    130\u001b[0m         \u001b[0;32mdef\u001b[0m \u001b[0mwrapper\u001b[0m\u001b[0;34m(\u001b[0m\u001b[0;34m*\u001b[0m\u001b[0margs\u001b[0m\u001b[0;34m:\u001b[0m \u001b[0mP\u001b[0m\u001b[0;34m.\u001b[0m\u001b[0margs\u001b[0m\u001b[0;34m,\u001b[0m \u001b[0;34m**\u001b[0m\u001b[0mkwargs\u001b[0m\u001b[0;34m:\u001b[0m \u001b[0mP\u001b[0m\u001b[0;34m.\u001b[0m\u001b[0mkwargs\u001b[0m\u001b[0;34m)\u001b[0m \u001b[0;34m->\u001b[0m \u001b[0mT\u001b[0m\u001b[0;34m:\u001b[0m\u001b[0;34m\u001b[0m\u001b[0;34m\u001b[0m\u001b[0m\n\u001b[1;32m    131\u001b[0m             _rename_keyword_argument(\n\u001b[1;32m    132\u001b[0m                 \u001b[0mold_name\u001b[0m\u001b[0;34m,\u001b[0m \u001b[0mnew_name\u001b[0m\u001b[0;34m,\u001b[0m \u001b[0mkwargs\u001b[0m\u001b[0;34m,\u001b[0m \u001b[0mfunction\u001b[0m\u001b[0;34m.\u001b[0m\u001b[0m__name__\u001b[0m\u001b[0;34m,\u001b[0m \u001b[0mversion\u001b[0m\u001b[0;34m\u001b[0m\u001b[0;34m\u001b[0m\u001b[0m\n\u001b[1;32m    133\u001b[0m             )\n\u001b[0;32m--> 134\u001b[0;31m             \u001b[0;32mreturn\u001b[0m \u001b[0mfunction\u001b[0m\u001b[0;34m(\u001b[0m\u001b[0;34m*\u001b[0m\u001b[0margs\u001b[0m\u001b[0;34m,\u001b[0m \u001b[0;34m**\u001b[0m\u001b[0mkwargs\u001b[0m\u001b[0;34m)\u001b[0m\u001b[0;34m\u001b[0m\u001b[0;34m\u001b[0m\u001b[0m\n\u001b[0m",
      "\u001b[0;32m~/Library/Caches/pypoetry/virtualenvs/python-polars-the-definitive-guide-b_q50VVY-py3.11/lib/python3.11/site-packages/polars/io/csv/functions.py\u001b[0m in \u001b[0;36m?\u001b[0;34m(source, has_header, columns, new_columns, separator, comment_prefix, quote_char, skip_rows, dtypes, schema, null_values, missing_utf8_is_empty_string, ignore_errors, try_parse_dates, n_threads, infer_schema_length, batch_size, n_rows, encoding, low_memory, rechunk, use_pyarrow, storage_options, skip_rows_after_header, row_index_name, row_index_offset, sample_size, eol_char, raise_if_empty, truncate_ragged_lines)\u001b[0m\n\u001b[1;32m    393\u001b[0m         \u001b[0muse_pyarrow\u001b[0m\u001b[0;34m=\u001b[0m\u001b[0;32mFalse\u001b[0m\u001b[0;34m,\u001b[0m\u001b[0;34m\u001b[0m\u001b[0;34m\u001b[0m\u001b[0m\n\u001b[1;32m    394\u001b[0m         \u001b[0mraise_if_empty\u001b[0m\u001b[0;34m=\u001b[0m\u001b[0mraise_if_empty\u001b[0m\u001b[0;34m,\u001b[0m\u001b[0;34m\u001b[0m\u001b[0;34m\u001b[0m\u001b[0m\n\u001b[1;32m    395\u001b[0m         \u001b[0mstorage_options\u001b[0m\u001b[0;34m=\u001b[0m\u001b[0mstorage_options\u001b[0m\u001b[0;34m,\u001b[0m\u001b[0;34m\u001b[0m\u001b[0;34m\u001b[0m\u001b[0m\n\u001b[1;32m    396\u001b[0m     ) as data:\n\u001b[0;32m--> 397\u001b[0;31m         df = pl.DataFrame._read_csv(\n\u001b[0m\u001b[1;32m    398\u001b[0m             \u001b[0mdata\u001b[0m\u001b[0;34m,\u001b[0m\u001b[0;34m\u001b[0m\u001b[0;34m\u001b[0m\u001b[0m\n\u001b[1;32m    399\u001b[0m             \u001b[0mhas_header\u001b[0m\u001b[0;34m=\u001b[0m\u001b[0mhas_header\u001b[0m\u001b[0;34m,\u001b[0m\u001b[0;34m\u001b[0m\u001b[0;34m\u001b[0m\u001b[0m\n\u001b[1;32m    400\u001b[0m             \u001b[0mcolumns\u001b[0m\u001b[0;34m=\u001b[0m\u001b[0mcolumns\u001b[0m \u001b[0;32mif\u001b[0m \u001b[0mcolumns\u001b[0m \u001b[0;32melse\u001b[0m \u001b[0mprojection\u001b[0m\u001b[0;34m,\u001b[0m\u001b[0;34m\u001b[0m\u001b[0;34m\u001b[0m\u001b[0m\n",
      "\u001b[0;32m~/Library/Caches/pypoetry/virtualenvs/python-polars-the-definitive-guide-b_q50VVY-py3.11/lib/python3.11/site-packages/polars/dataframe/frame.py\u001b[0m in \u001b[0;36m?\u001b[0;34m(cls, source, has_header, columns, separator, comment_prefix, quote_char, skip_rows, dtypes, schema, null_values, missing_utf8_is_empty_string, ignore_errors, try_parse_dates, n_threads, infer_schema_length, batch_size, n_rows, encoding, low_memory, rechunk, skip_rows_after_header, row_index_name, row_index_offset, sample_size, eol_char, raise_if_empty, truncate_ragged_lines)\u001b[0m\n\u001b[1;32m    752\u001b[0m                 \u001b[0;32mraise\u001b[0m \u001b[0mValueError\u001b[0m\u001b[0;34m(\u001b[0m\u001b[0mmsg\u001b[0m\u001b[0;34m)\u001b[0m\u001b[0;34m\u001b[0m\u001b[0;34m\u001b[0m\u001b[0m\n\u001b[1;32m    753\u001b[0m \u001b[0;34m\u001b[0m\u001b[0m\n\u001b[1;32m    754\u001b[0m         \u001b[0mprojection\u001b[0m\u001b[0;34m,\u001b[0m \u001b[0mcolumns\u001b[0m \u001b[0;34m=\u001b[0m \u001b[0mhandle_projection_columns\u001b[0m\u001b[0;34m(\u001b[0m\u001b[0mcolumns\u001b[0m\u001b[0;34m)\u001b[0m\u001b[0;34m\u001b[0m\u001b[0;34m\u001b[0m\u001b[0m\n\u001b[1;32m    755\u001b[0m \u001b[0;34m\u001b[0m\u001b[0m\n\u001b[0;32m--> 756\u001b[0;31m         self._df = PyDataFrame.read_csv(\n\u001b[0m\u001b[1;32m    757\u001b[0m             \u001b[0msource\u001b[0m\u001b[0;34m,\u001b[0m\u001b[0;34m\u001b[0m\u001b[0;34m\u001b[0m\u001b[0m\n\u001b[1;32m    758\u001b[0m             \u001b[0minfer_schema_length\u001b[0m\u001b[0;34m,\u001b[0m\u001b[0;34m\u001b[0m\u001b[0;34m\u001b[0m\u001b[0m\n\u001b[1;32m    759\u001b[0m             \u001b[0mbatch_size\u001b[0m\u001b[0;34m,\u001b[0m\u001b[0;34m\u001b[0m\u001b[0;34m\u001b[0m\u001b[0m\n",
      "\u001b[0;31mFileNotFoundError\u001b[0m: No such file or directory (os error 2): data/all_stocks.csv"
     ]
    }
   ],
   "source": [
    "pl.read_csv(\"data/all_stocks.csv\", try_parse_dates=True)"
   ]
  },
  {
   "cell_type": "markdown",
   "id": "bd28c5b5",
   "metadata": {},
   "source": [
    "#### Converting to and from string"
   ]
  },
  {
   "cell_type": "code",
   "execution_count": 36,
   "id": "812f620b",
   "metadata": {},
   "outputs": [
    {
     "name": "stdout",
     "output_type": "stream",
     "text": [
      "shape: (2, 2)\n",
      "┌────────────┬────────────┐\n",
      "│ date_str   ┆ date       │\n",
      "│ ---        ┆ ---        │\n",
      "│ str        ┆ date       │\n",
      "╞════════════╪════════════╡\n",
      "│ 2023-12-31 ┆ 2023-12-31 │\n",
      "│ 2024-02-29 ┆ 2024-02-29 │\n",
      "└────────────┴────────────┘\n"
     ]
    }
   ],
   "source": [
    "df = pl.DataFrame({\n",
    "    \"date_str\": [\"2023-12-31\", \"2024-02-29\"]\n",
    "})\n",
    "\n",
    "df = df.with_columns(\n",
    "    pl.col(\"date_str\").str.strptime(pl.Date, \"%Y-%m-%d\").alias(\"date\")\n",
    ")\n",
    "print(df)"
   ]
  },
  {
   "cell_type": "code",
   "execution_count": 37,
   "id": "ca75e1e8",
   "metadata": {},
   "outputs": [
    {
     "name": "stdout",
     "output_type": "stream",
     "text": [
      "shape: (2, 3)\n",
      "┌────────────┬────────────┬────────────────┐\n",
      "│ date_str   ┆ date       ┆ formatted_date │\n",
      "│ ---        ┆ ---        ┆ ---            │\n",
      "│ str        ┆ date       ┆ str            │\n",
      "╞════════════╪════════════╪════════════════╡\n",
      "│ 2023-12-31 ┆ 2023-12-31 ┆ 31-12-2023     │\n",
      "│ 2024-02-29 ┆ 2024-02-29 ┆ 29-02-2024     │\n",
      "└────────────┴────────────┴────────────────┘\n"
     ]
    }
   ],
   "source": [
    "df = df.with_columns(\n",
    "    pl.col(\"date\").dt.to_string(\"%d-%m-%Y\").alias(\"formatted_date\")\n",
    ")\n",
    "\n",
    "print(df)"
   ]
  },
  {
   "cell_type": "markdown",
   "id": "3faba9e7",
   "metadata": {},
   "source": [
    "#### Generating Ranges"
   ]
  },
  {
   "cell_type": "code",
   "execution_count": 39,
   "id": "3c367fc4",
   "metadata": {},
   "outputs": [
    {
     "name": "stdout",
     "output_type": "stream",
     "text": [
      "shape: (3, 1)\n",
      "┌────────────┐\n",
      "│ date       │\n",
      "│ ---        │\n",
      "│ date       │\n",
      "╞════════════╡\n",
      "│ 2023-12-31 │\n",
      "│ 2024-01-07 │\n",
      "│ 2024-01-14 │\n",
      "└────────────┘\n"
     ]
    }
   ],
   "source": [
    "from datetime import date\n",
    "df = pl.DataFrame(\n",
    "    {\n",
    "        \"date\": pl.date_range(\n",
    "            start=date(2023,12,31),  # <1>\n",
    "            end=date(2024,1,15),\n",
    "            interval=\"1w\",  # <2>\n",
    "            eager=True,  # <3>\n",
    "        ),\n",
    "    }\n",
    ")\n",
    "print(df)"
   ]
  },
  {
   "cell_type": "markdown",
   "id": "b4896ee3",
   "metadata": {},
   "source": [
    "#### Time Zones"
   ]
  },
  {
   "cell_type": "code",
   "execution_count": 41,
   "id": "f1198d41",
   "metadata": {},
   "outputs": [
    {
     "name": "stdout",
     "output_type": "stream",
     "text": [
      "shape: (4, 3)\n",
      "┌──────────────────────────┬─────────────────────────┬────────────────────────────────┐\n",
      "│ utc_mixed_offset_data    ┆ parsed_data             ┆ converted_data                 │\n",
      "│ ---                      ┆ ---                     ┆ ---                            │\n",
      "│ str                      ┆ datetime[μs, UTC]       ┆ datetime[μs, Europe/Amsterdam] │\n",
      "╞══════════════════════════╪═════════════════════════╪════════════════════════════════╡\n",
      "│ 2021-03-27T00:00:00+0100 ┆ 2021-03-26 23:00:00 UTC ┆ 2021-03-27 00:00:00 CET        │\n",
      "│ 2021-03-28T00:00:00+0100 ┆ 2021-03-27 23:00:00 UTC ┆ 2021-03-28 00:00:00 CET        │\n",
      "│ 2021-03-29T00:00:00+0200 ┆ 2021-03-28 22:00:00 UTC ┆ 2021-03-29 00:00:00 CEST       │\n",
      "│ 2021-03-30T00:00:00+0200 ┆ 2021-03-29 22:00:00 UTC ┆ 2021-03-30 00:00:00 CEST       │\n",
      "└──────────────────────────┴─────────────────────────┴────────────────────────────────┘\n"
     ]
    }
   ],
   "source": [
    "df = pl.DataFrame(  # <1>\n",
    "    {\n",
    "        \"utc_mixed_offset_data\": [\n",
    "            \"2021-03-27T00:00:00+0100\",\n",
    "            \"2021-03-28T00:00:00+0100\",\n",
    "            \"2021-03-29T00:00:00+0200\",\n",
    "            \"2021-03-30T00:00:00+0200\",\n",
    "        ]\n",
    "    }\n",
    ")\n",
    "df = (\n",
    "    df.with_columns(\n",
    "        pl.col(\"utc_mixed_offset_data\")\n",
    "        .str.to_datetime(\"%Y-%m-%dT%H:%M:%S%z\")  # <2>\n",
    "        .alias(\"parsed_data\")\n",
    "    ).with_columns(\n",
    "        pl.col(\"parsed_data\")\n",
    "        .dt.convert_time_zone(\"Europe/Amsterdam\")  # <3>\n",
    "        .alias(\"converted_data\")\n",
    "    )\n",
    ")\n",
    "print(df)"
   ]
  },
  {
   "cell_type": "markdown",
   "id": "cff70c50",
   "metadata": {},
   "source": [
    "## List"
   ]
  },
  {
   "cell_type": "markdown",
   "id": "abb9c331",
   "metadata": {},
   "source": [
    "### Methods"
   ]
  },
  {
   "cell_type": "markdown",
   "id": "1b93451e",
   "metadata": {},
   "source": [
    "### Examples"
   ]
  },
  {
   "cell_type": "code",
   "execution_count": 45,
   "id": "44c4f759",
   "metadata": {},
   "outputs": [
    {
     "name": "stdout",
     "output_type": "stream",
     "text": [
      "shape: (3, 3)\n",
      "┌──────────────────────┬────────────┬────────────┐\n",
      "│ values               ┆ all values ┆ any values │\n",
      "│ ---                  ┆ ---        ┆ ---        │\n",
      "│ list[bool]           ┆ bool       ┆ bool       │\n",
      "╞══════════════════════╪════════════╪════════════╡\n",
      "│ [true, true]         ┆ true       ┆ true       │\n",
      "│ [false, false, true] ┆ false      ┆ true       │\n",
      "│ [false]              ┆ false      ┆ false      │\n",
      "└──────────────────────┴────────────┴────────────┘\n"
     ]
    }
   ],
   "source": [
    "bool_df = pl.DataFrame({\n",
    "    \"values\": [[True, True], [False, False, True], [False]]\n",
    "})\n",
    "print(\n",
    "    bool_df\n",
    "    .with_columns(\n",
    "        pl.col(\"values\")\n",
    "        .list.all()\n",
    "        .alias(\"all values\"),\n",
    "        pl.col(\"values\")\n",
    "        .list.any()\n",
    "        .alias(\"any values\")\n",
    "    )\n",
    ")"
   ]
  },
  {
   "cell_type": "code",
   "execution_count": 46,
   "id": "f25b6dae",
   "metadata": {},
   "outputs": [
    {
     "name": "stdout",
     "output_type": "stream",
     "text": [
      "shape: (3, 3)\n",
      "┌──────────────┬──────────────────────┬─────────────────┐\n",
      "│ values       ┆ values > 40          ┆ all values > 40 │\n",
      "│ ---          ┆ ---                  ┆ ---             │\n",
      "│ list[i64]    ┆ list[bool]           ┆ bool            │\n",
      "╞══════════════╪══════════════════════╪═════════════════╡\n",
      "│ [10, 20]     ┆ [false, false]       ┆ false           │\n",
      "│ [30, 40, 50] ┆ [false, false, true] ┆ false           │\n",
      "│ [60]         ┆ [true]               ┆ true            │\n",
      "└──────────────┴──────────────────────┴─────────────────┘\n"
     ]
    }
   ],
   "source": [
    "df = pl.DataFrame({\n",
    "    \"values\": [[10, 20], [30, 40, 50], [60]]\n",
    "})\n",
    "print(\n",
    "    df\n",
    "    .with_columns(\n",
    "        pl.col(\"values\")\n",
    "        .list.eval(\n",
    "            pl.element() > 40,  # <1>\n",
    "            parallel=True,  # <2>\n",
    "        )\n",
    "        .alias(\"values > 40\")\n",
    "    )\n",
    "    .with_columns(  # <3>\n",
    "        pl.col(\"values > 40\")\n",
    "        .list.all()  # <4>\n",
    "        .alias(\"all values > 40\")\n",
    "    )\n",
    ")"
   ]
  },
  {
   "cell_type": "code",
   "execution_count": 47,
   "id": "350e33fd",
   "metadata": {},
   "outputs": [
    {
     "data": {
      "text/html": [
       "<div><style>\n",
       ".dataframe > thead > tr,\n",
       ".dataframe > tbody > tr {\n",
       "  text-align: right;\n",
       "  white-space: pre-wrap;\n",
       "}\n",
       "</style>\n",
       "<small>shape: (6, 1)</small><table border=\"1\" class=\"dataframe\"><thead><tr><th>values</th></tr><tr><td>i64</td></tr></thead><tbody><tr><td>10</td></tr><tr><td>20</td></tr><tr><td>30</td></tr><tr><td>40</td></tr><tr><td>50</td></tr><tr><td>60</td></tr></tbody></table></div>"
      ],
      "text/plain": [
       "shape: (6, 1)\n",
       "┌────────┐\n",
       "│ values │\n",
       "│ ---    │\n",
       "│ i64    │\n",
       "╞════════╡\n",
       "│ 10     │\n",
       "│ 20     │\n",
       "│ 30     │\n",
       "│ 40     │\n",
       "│ 50     │\n",
       "│ 60     │\n",
       "└────────┘"
      ]
     },
     "execution_count": 24,
     "metadata": {},
     "output_type": "execute_result"
    }
   ],
   "source": [
    "df.explode(\"values\")"
   ]
  },
  {
   "cell_type": "markdown",
   "id": "38e67f00",
   "metadata": {},
   "source": [
    "## Array"
   ]
  },
  {
   "cell_type": "markdown",
   "id": "e825082c",
   "metadata": {},
   "source": [
    "### Methods"
   ]
  },
  {
   "cell_type": "markdown",
   "id": "ecd889ce",
   "metadata": {},
   "source": [
    "### Examples"
   ]
  },
  {
   "cell_type": "code",
   "execution_count": 51,
   "id": "9b623b4c",
   "metadata": {},
   "outputs": [
    {
     "name": "stdout",
     "output_type": "stream",
     "text": [
      "shape: (3, 2)\n",
      "┌───────────┬────────────────┐\n",
      "│ location  ┆ temperatures   │\n",
      "│ ---       ┆ ---            │\n",
      "│ str       ┆ array[i64, 7]  │\n",
      "╞═══════════╪════════════════╡\n",
      "│ Paris     ┆ [23, 27, … 22] │\n",
      "│ Amsterdam ┆ [17, 19, … 21] │\n",
      "│ Barcelona ┆ [30, 32, … 31] │\n",
      "└───────────┴────────────────┘\n"
     ]
    }
   ],
   "source": [
    "df = pl.DataFrame([\n",
    "    pl.Series(\n",
    "        \"location\",\n",
    "        [\"Paris\", \"Amsterdam\", \"Barcelona\"],\n",
    "        dtype=pl.String\n",
    "    ),\n",
    "    pl.Series(\n",
    "        \"temperatures\",\n",
    "        [\n",
    "            [23, 27, 21, 22, 24, 23, 22],\n",
    "            [17, 19, 15, 22, 18, 20, 21],\n",
    "            [30, 32, 28, 29, 34, 33, 31]\n",
    "        ],\n",
    "        dtype=pl.Array(pl.Int64, width=7),\n",
    "    ),\n",
    "])\n",
    "print(df)"
   ]
  },
  {
   "cell_type": "code",
   "execution_count": 52,
   "id": "18c3e885",
   "metadata": {},
   "outputs": [
    {
     "name": "stdout",
     "output_type": "stream",
     "text": [
      "shape: (3, 5)\n",
      "┌───────────┬────────────────┬────────┬─────┬─────────────────┐\n",
      "│ location  ┆ temperatures   ┆ median ┆ max ┆ warmest_weekday │\n",
      "│ ---       ┆ ---            ┆ ---    ┆ --- ┆ ---             │\n",
      "│ str       ┆ array[i64, 7]  ┆ f64    ┆ i64 ┆ u32             │\n",
      "╞═══════════╪════════════════╪════════╪═════╪═════════════════╡\n",
      "│ Paris     ┆ [23, 27, … 22] ┆ 23.0   ┆ 27  ┆ 1               │\n",
      "│ Amsterdam ┆ [17, 19, … 21] ┆ 19.0   ┆ 22  ┆ 3               │\n",
      "│ Barcelona ┆ [30, 32, … 31] ┆ 31.0   ┆ 34  ┆ 4               │\n",
      "└───────────┴────────────────┴────────┴─────┴─────────────────┘\n"
     ]
    }
   ],
   "source": [
    "print(\n",
    "    df\n",
    "    .with_columns(\n",
    "        pl.col(\"temperatures\")\n",
    "        .arr.median()\n",
    "        .alias(\"median\"),\n",
    "        pl.col(\"temperatures\")\n",
    "        .arr.max()\n",
    "        .alias(\"max\"),\n",
    "        pl.col(\"temperatures\")\n",
    "        .arr.arg_max()\n",
    "        .alias(\"warmest_weekday\")\n",
    "    )\n",
    ")"
   ]
  },
  {
   "cell_type": "markdown",
   "id": "8e52baef",
   "metadata": {},
   "source": [
    "## Structs"
   ]
  },
  {
   "cell_type": "markdown",
   "id": "be5f52b1",
   "metadata": {},
   "source": [
    "### Methods"
   ]
  },
  {
   "cell_type": "markdown",
   "id": "1b6cfa87",
   "metadata": {},
   "source": [
    "### Examples"
   ]
  },
  {
   "cell_type": "code",
   "execution_count": 56,
   "id": "fa2559c4",
   "metadata": {},
   "outputs": [
    {
     "name": "stdout",
     "output_type": "stream",
     "text": [
      "shape: (3, 1)\n",
      "┌───────────────┐\n",
      "│ struct_column │\n",
      "│ ---           │\n",
      "│ struct[2]     │\n",
      "╞═══════════════╡\n",
      "│ {1,2}         │\n",
      "│ {3,4}         │\n",
      "│ {5,6}         │\n",
      "└───────────────┘\n"
     ]
    }
   ],
   "source": [
    "df = pl.DataFrame({\n",
    "    \"struct_column\": [\n",
    "        {\"a\": 1, \"b\": 2},\n",
    "        {\"a\": 3, \"b\": 4},\n",
    "        {\"a\": 5, \"b\": 6},\n",
    "    ]\n",
    "})\n",
    "print(df)"
   ]
  },
  {
   "cell_type": "code",
   "execution_count": 57,
   "id": "9e520340",
   "metadata": {},
   "outputs": [
    {
     "data": {
      "text/html": [
       "<div><style>\n",
       ".dataframe > thead > tr,\n",
       ".dataframe > tbody > tr {\n",
       "  text-align: right;\n",
       "  white-space: pre-wrap;\n",
       "}\n",
       "</style>\n",
       "<small>shape: (3, 1)</small><table border=\"1\" class=\"dataframe\"><thead><tr><th>a</th></tr><tr><td>i64</td></tr></thead><tbody><tr><td>1</td></tr><tr><td>3</td></tr><tr><td>5</td></tr></tbody></table></div>"
      ],
      "text/plain": [
       "shape: (3, 1)\n",
       "┌─────┐\n",
       "│ a   │\n",
       "│ --- │\n",
       "│ i64 │\n",
       "╞═════╡\n",
       "│ 1   │\n",
       "│ 3   │\n",
       "│ 5   │\n",
       "└─────┘"
      ]
     },
     "execution_count": 28,
     "metadata": {},
     "output_type": "execute_result"
    }
   ],
   "source": [
    "df.select(pl.col(\"struct_column\").struct.field(\"a\"))"
   ]
  },
  {
   "cell_type": "code",
   "execution_count": 58,
   "id": "5605ddbb",
   "metadata": {},
   "outputs": [
    {
     "name": "stdout",
     "output_type": "stream",
     "text": [
      "shape: (3, 2)\n",
      "┌─────┬─────┐\n",
      "│ a   ┆ b   │\n",
      "│ --- ┆ --- │\n",
      "│ i64 ┆ i64 │\n",
      "╞═════╪═════╡\n",
      "│ 1   ┆ 2   │\n",
      "│ 3   ┆ 4   │\n",
      "│ 5   ┆ 6   │\n",
      "└─────┴─────┘\n"
     ]
    }
   ],
   "source": [
    "df = df.unnest(\"struct_column\")\n",
    "print(df)"
   ]
  },
  {
   "cell_type": "code",
   "execution_count": 59,
   "id": "7f595b3f",
   "metadata": {},
   "outputs": [
    {
     "data": {
      "text/html": [
       "<div><style>\n",
       ".dataframe > thead > tr,\n",
       ".dataframe > tbody > tr {\n",
       "  text-align: right;\n",
       "  white-space: pre-wrap;\n",
       "}\n",
       "</style>\n",
       "<small>shape: (3, 3)</small><table border=\"1\" class=\"dataframe\"><thead><tr><th>a</th><th>b</th><th>struct_column</th></tr><tr><td>i64</td><td>i64</td><td>struct[2]</td></tr></thead><tbody><tr><td>1</td><td>2</td><td>{1,2}</td></tr><tr><td>3</td><td>4</td><td>{3,4}</td></tr><tr><td>5</td><td>6</td><td>{5,6}</td></tr></tbody></table></div>"
      ],
      "text/plain": [
       "shape: (3, 3)\n",
       "┌─────┬─────┬───────────────┐\n",
       "│ a   ┆ b   ┆ struct_column │\n",
       "│ --- ┆ --- ┆ ---           │\n",
       "│ i64 ┆ i64 ┆ struct[2]     │\n",
       "╞═════╪═════╪═══════════════╡\n",
       "│ 1   ┆ 2   ┆ {1,2}         │\n",
       "│ 3   ┆ 4   ┆ {3,4}         │\n",
       "│ 5   ┆ 6   ┆ {5,6}         │\n",
       "└─────┴─────┴───────────────┘"
      ]
     },
     "execution_count": 30,
     "metadata": {},
     "output_type": "execute_result"
    }
   ],
   "source": [
    "df.select(\n",
    "    \"a\",\n",
    "    \"b\",\n",
    "    pl.struct(\n",
    "        pl.col(\"a\"),\n",
    "        pl.col(\"b\")\n",
    "    ).alias(\"struct_column\"),\n",
    ")"
   ]
  },
  {
   "cell_type": "code",
   "execution_count": 60,
   "id": "1f5c5008",
   "metadata": {},
   "outputs": [
    {
     "name": "stdout",
     "output_type": "stream",
     "text": [
      "shape: (6, 1)\n",
      "┌────────┐\n",
      "│ fruit  │\n",
      "│ ---    │\n",
      "│ str    │\n",
      "╞════════╡\n",
      "│ cherry │\n",
      "│ apple  │\n",
      "│ banana │\n",
      "│ banana │\n",
      "│ apple  │\n",
      "│ banana │\n",
      "└────────┘\n"
     ]
    }
   ],
   "source": [
    "df = pl.DataFrame({\n",
    "    \"fruit\": [\"cherry\", \"apple\", \"banana\", \"banana\", \"apple\", \"banana\"],\n",
    "})\n",
    "print(df)"
   ]
  },
  {
   "cell_type": "code",
   "execution_count": 61,
   "id": "1fe3325f",
   "metadata": {},
   "outputs": [
    {
     "name": "stdout",
     "output_type": "stream",
     "text": [
      "shape: (3, 1)\n",
      "┌──────────────┐\n",
      "│ fruit        │\n",
      "│ ---          │\n",
      "│ struct[2]    │\n",
      "╞══════════════╡\n",
      "│ {\"banana\",3} │\n",
      "│ {\"apple\",2}  │\n",
      "│ {\"cherry\",1} │\n",
      "└──────────────┘\n"
     ]
    }
   ],
   "source": [
    "print(\n",
    "    df\n",
    "    .select(\n",
    "        pl.col(\"fruit\")\n",
    "        .value_counts(sort=True)\n",
    "    )\n",
    ")"
   ]
  },
  {
   "cell_type": "code",
   "execution_count": 62,
   "id": "b0887d5f",
   "metadata": {},
   "outputs": [
    {
     "name": "stdout",
     "output_type": "stream",
     "text": [
      "shape: (3, 2)\n",
      "┌────────┬───────┐\n",
      "│ fruit  ┆ count │\n",
      "│ ---    ┆ ---   │\n",
      "│ str    ┆ u32   │\n",
      "╞════════╪═══════╡\n",
      "│ banana ┆ 3     │\n",
      "│ apple  ┆ 2     │\n",
      "│ cherry ┆ 1     │\n",
      "└────────┴───────┘\n"
     ]
    }
   ],
   "source": [
    "print(\n",
    "    df.select(\n",
    "        pl.col(\"fruit\")\n",
    "        .value_counts(sort=True)\n",
    "    )\n",
    "    .unnest(\"fruit\")\n",
    ")"
   ]
  },
  {
   "cell_type": "markdown",
   "id": "64839561",
   "metadata": {},
   "source": [
    "## Conclusion"
   ]
  }
 ],
 "metadata": {
  "language_info": {
   "codemirror_mode": {
    "name": "ipython",
    "version": 3
   },
   "file_extension": ".py",
   "mimetype": "text/x-python",
   "name": "python",
   "nbconvert_exporter": "python",
   "pygments_lexer": "ipython3",
   "version": "3.11.8"
  }
 },
 "nbformat": 4,
 "nbformat_minor": 5
}
